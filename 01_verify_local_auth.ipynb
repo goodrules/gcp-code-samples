{
 "cells": [
  {
   "cell_type": "code",
   "execution_count": 3,
   "id": "9624572f-965f-43f8-9ff0-3befd4de89e3",
   "metadata": {},
   "outputs": [
    {
     "name": "stdout",
     "output_type": "stream",
     "text": [
      "Credentials from environ: /Users/mikegoodman/Documents/developer/mg-ce-demos-baeebaf7fb05.json\n"
     ]
    }
   ],
   "source": [
    "# Check if credentials have been properly set\n",
    "import os\n",
    "\n",
    "print('Credentials from environ: {}'.format(os.environ.get('GOOGLE_APPLICATION_CREDENTIALS')))\n",
    "\n",
    "# If using a virtual env, add the export command to the end of the venv/bin/activate file to \n",
    "# ensure the environment variable is set for the virtual environment"
   ]
  },
  {
   "cell_type": "code",
   "execution_count": 4,
   "id": "67bce523-b9c3-45da-94a2-e30808ce7614",
   "metadata": {},
   "outputs": [
    {
     "name": "stdout",
     "output_type": "stream",
     "text": [
      "[<Bucket: artifacts.mg-ce-demos.appspot.com>, <Bucket: cloud-ai-platform-585d7202-46a7-4364-961f-f1aed4f943a3>, <Bucket: dataflow-staging-us-central1-633472233130>, <Bucket: gcf-sources-633472233130-us-central1>, <Bucket: mg-ce-demos>, <Bucket: mg-ce-demos-aip-20220314182836>, <Bucket: mg-ce-demos-bucket>, <Bucket: mg-ce-demos_cloudbuild>, <Bucket: mg-ce-demosaip-20220314191437>, <Bucket: us.artifacts.mg-ce-demos.appspot.com>]\n"
     ]
    }
   ],
   "source": [
    "# Test GCP authentication if credentials have been set implicitly\n",
    "def implicit():\n",
    "    from google.cloud import storage\n",
    "\n",
    "    # If you don't specify credentials when constructing the client, the\n",
    "    # client library will look for credentials in the environment.\n",
    "    storage_client = storage.Client()\n",
    "\n",
    "    # Make an authenticated API request\n",
    "    buckets = list(storage_client.list_buckets())\n",
    "    print(buckets)\n",
    "    \n",
    "implicit()"
   ]
  },
  {
   "cell_type": "code",
   "execution_count": 5,
   "id": "9d0e125c-4dbb-4215-bdd1-ddfc1540f9f6",
   "metadata": {},
   "outputs": [
    {
     "name": "stdout",
     "output_type": "stream",
     "text": [
      "[<Bucket: artifacts.mg-ce-demos.appspot.com>, <Bucket: cloud-ai-platform-585d7202-46a7-4364-961f-f1aed4f943a3>, <Bucket: dataflow-staging-us-central1-633472233130>, <Bucket: gcf-sources-633472233130-us-central1>, <Bucket: mg-ce-demos>, <Bucket: mg-ce-demos-aip-20220314182836>, <Bucket: mg-ce-demos-bucket>, <Bucket: mg-ce-demos_cloudbuild>, <Bucket: mg-ce-demosaip-20220314191437>, <Bucket: us.artifacts.mg-ce-demos.appspot.com>]\n"
     ]
    }
   ],
   "source": [
    "# Test GCP authentication if credentials have been set explicitly\n",
    "def explicit():\n",
    "    from google.cloud import storage\n",
    "\n",
    "    # Explicitly use service account credentials by specifying the private key\n",
    "    # file.\n",
    "    storage_client = storage.Client.from_service_account_json(\n",
    "        '/Users/mikegoodman/Documents/developer/mg-ce-demos-baeebaf7fb05.json')\n",
    "\n",
    "    # Make an authenticated API request\n",
    "    buckets = list(storage_client.list_buckets())\n",
    "    print(buckets)\n",
    "    \n",
    "explicit()"
   ]
  },
  {
   "cell_type": "code",
   "execution_count": null,
   "id": "bfe28514-38f6-4785-92a3-4c16eadb5acf",
   "metadata": {},
   "outputs": [],
   "source": []
  }
 ],
 "metadata": {
  "kernelspec": {
   "display_name": "Python 3 (ipykernel)",
   "language": "python",
   "name": "python3"
  },
  "language_info": {
   "codemirror_mode": {
    "name": "ipython",
    "version": 3
   },
   "file_extension": ".py",
   "mimetype": "text/x-python",
   "name": "python",
   "nbconvert_exporter": "python",
   "pygments_lexer": "ipython3",
   "version": "3.10.2"
  }
 },
 "nbformat": 4,
 "nbformat_minor": 5
}
