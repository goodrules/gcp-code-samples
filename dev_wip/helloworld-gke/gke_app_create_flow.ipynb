{
 "cells": [
  {
   "cell_type": "code",
   "execution_count": 1,
   "id": "1c177f97-c48a-42e6-8fa8-e1f352cc7f06",
   "metadata": {},
   "outputs": [],
   "source": [
    "from google.cloud import aiplatform\n",
    "from datetime import datetime\n",
    "import pkg_resources\n",
    "from IPython.display import Markdown as md\n",
    "from google.cloud import service_usage_v1\n",
    "from google.cloud.devtools import cloudbuild_v1\n",
    "from google.cloud import artifactregistry_v1\n",
    "from google.cloud import storage\n",
    "from google.cloud import bigquery\n",
    "from google.protobuf import json_format\n",
    "from google.protobuf.struct_pb2 import Value\n",
    "import json\n",
    "import numpy as np\n",
    "import pandas as pd"
   ]
  },
  {
   "cell_type": "code",
   "execution_count": 2,
   "id": "3343216c-9b8d-4318-ab3c-f38469314629",
   "metadata": {},
   "outputs": [
    {
     "data": {
      "text/plain": [
       "'mg-ce-demos'"
      ]
     },
     "execution_count": 2,
     "metadata": {},
     "output_type": "execute_result"
    }
   ],
   "source": [
    "project = !gcloud config get-value project\n",
    "PROJECT_ID = project[0]\n",
    "PROJECT_ID"
   ]
  },
  {
   "cell_type": "code",
   "execution_count": 3,
   "id": "14b2f050-f46e-4cb4-beac-c49204786d0c",
   "metadata": {},
   "outputs": [],
   "source": [
    "REGION = 'us-central1'\n",
    "EXPERIMENT = 'hello-app'"
   ]
  },
  {
   "cell_type": "code",
   "execution_count": 4,
   "id": "8a04908c-392e-479b-ae45-c525740cbb33",
   "metadata": {},
   "outputs": [],
   "source": [
    "aiplatform.init(project=PROJECT_ID, location=REGION)\n",
    "bq = bigquery.Client(project = PROJECT_ID)\n",
    "gcs = storage.Client(project = PROJECT_ID)\n",
    "su_client = service_usage_v1.ServiceUsageClient()\n",
    "ar_client = artifactregistry_v1.ArtifactRegistryClient()\n",
    "cb_client = cloudbuild_v1.CloudBuildClient()"
   ]
  },
  {
   "cell_type": "code",
   "execution_count": 5,
   "id": "365bc737-4e3f-4a57-8860-8cde74a6eb66",
   "metadata": {},
   "outputs": [],
   "source": [
    "TIMESTAMP = datetime.now().strftime(\"%Y%m%d%H%M%S\")\n",
    "BUCKET = PROJECT_ID\n",
    "URI = f\"gs://{BUCKET}/{EXPERIMENT}\"\n",
    "DIR = f\"{EXPERIMENT}\""
   ]
  },
  {
   "cell_type": "code",
   "execution_count": 6,
   "id": "ee0b747c-cbc8-482f-b184-4f95896562a0",
   "metadata": {},
   "outputs": [
    {
     "data": {
      "text/plain": [
       "'mg-ce-demos-main@mg-ce-demos.iam.gserviceaccount.com'"
      ]
     },
     "execution_count": 6,
     "metadata": {},
     "output_type": "execute_result"
    }
   ],
   "source": [
    "SERVICE_ACCOUNT = !gcloud config list --format='value(core.account)' \n",
    "SERVICE_ACCOUNT = SERVICE_ACCOUNT[0]\n",
    "SERVICE_ACCOUNT"
   ]
  },
  {
   "cell_type": "code",
   "execution_count": 7,
   "id": "cc71d2cb-7182-4d06-ac1e-ef55730387c5",
   "metadata": {},
   "outputs": [
    {
     "name": "stdout",
     "output_type": "stream",
     "text": [
      "ROLE\n",
      "roles/aiplatform.admin\n",
      "roles/bigquery.admin\n",
      "roles/editor\n",
      "roles/storage.objectAdmin\n"
     ]
    }
   ],
   "source": [
    "!gcloud projects get-iam-policy $PROJECT_ID --filter=\"bindings.members:$SERVICE_ACCOUNT\" --format='table(bindings.role)' --flatten=\"bindings[].members\""
   ]
  },
  {
   "cell_type": "code",
   "execution_count": 8,
   "id": "ea8fb128-d70a-4e6e-86a3-81f53897d68d",
   "metadata": {},
   "outputs": [
    {
     "name": "stdout",
     "output_type": "stream",
     "text": [
      "Artifact Registry already enabled for project: mg-ce-demos\n"
     ]
    }
   ],
   "source": [
    "artifactregistry = su_client.get_service(\n",
    "    request = service_usage_v1.GetServiceRequest(\n",
    "        name = f'projects/{PROJECT_ID}/services/artifactregistry.googleapis.com'\n",
    "    )\n",
    ").state.name\n",
    "\n",
    "\n",
    "if artifactregistry == 'DISABLED':\n",
    "    print(f'Artifact Registry is currently {artifactregistry} for project: {PROJECT_ID}')\n",
    "    print(f'Trying to Enable...')\n",
    "    operation = su_client.enable_service(\n",
    "        request = service_usage_v1.EnableServiceRequest(\n",
    "            name = f'projects/{PROJECT_ID}/services/artifactregistry.googleapis.com'\n",
    "        )\n",
    "    )\n",
    "    response = operation.result()\n",
    "    if response.service.state.name == 'ENABLED':\n",
    "        print(f'Artifact Registry is now enabled for project: {PROJECT_ID}')\n",
    "    else:\n",
    "        print(response)\n",
    "else:\n",
    "    print(f'Artifact Registry already enabled for project: {PROJECT_ID}')"
   ]
  },
  {
   "cell_type": "code",
   "execution_count": 9,
   "id": "5765d6b4-6a93-45e4-99c1-91b9f3f26230",
   "metadata": {},
   "outputs": [
    {
     "name": "stdout",
     "output_type": "stream",
     "text": [
      "Cloud Build already enabled for project: mg-ce-demos\n"
     ]
    }
   ],
   "source": [
    "cloudbuild = su_client.get_service(\n",
    "    request = service_usage_v1.GetServiceRequest(\n",
    "        name = f'projects/{PROJECT_ID}/services/cloudbuild.googleapis.com'\n",
    "    )\n",
    ").state.name\n",
    "\n",
    "\n",
    "if cloudbuild == 'DISABLED':\n",
    "    print(f'Cloud Build is currently {cloudbuild} for project: {PROJECT_ID}')\n",
    "    print(f'Trying to Enable...')\n",
    "    operation = su_client.enable_service(\n",
    "        request = service_usage_v1.EnableServiceRequest(\n",
    "            name = f'projects/{PROJECT_ID}/services/cloudbuild.googleapis.com'\n",
    "        )\n",
    "    )\n",
    "    response = operation.result()\n",
    "    if response.service.state.name == 'ENABLED':\n",
    "        print(f'Cloud Build is now enabled for project: {PROJECT_ID}')\n",
    "    else:\n",
    "        print(response)\n",
    "else:\n",
    "    print(f'Cloud Build already enabled for project: {PROJECT_ID}')"
   ]
  },
  {
   "cell_type": "markdown",
   "id": "2927c326-0eb1-452d-b725-ac52d882dd7e",
   "metadata": {},
   "source": [
    "### Local flow"
   ]
  },
  {
   "cell_type": "code",
   "execution_count": 10,
   "id": "a3055cc5-30ad-462a-9f91-c7371f6c249f",
   "metadata": {},
   "outputs": [
    {
     "data": {
      "text/markdown": [
       "```python\n",
       "\n",
       "import os\n",
       "\n",
       "from flask import Flask\n",
       "\n",
       "app = Flask(__name__)\n",
       "\n",
       "@app.route('/')\n",
       "def hello_world():\n",
       "    target = os.environ.get('TARGET', 'World')\n",
       "    return 'Hello {}!\\n'.format(target)\n",
       "\n",
       "if __name__ == \"__main__\":\n",
       "    app.run(debug=True,host='0.0.0.0',port=int(os.environ.get('PORT', 8080)))\n",
       "```"
      ],
      "text/plain": [
       "<IPython.core.display.Markdown object>"
      ]
     },
     "execution_count": 10,
     "metadata": {},
     "output_type": "execute_result"
    }
   ],
   "source": [
    "SCRIPT_PATH = 'app.py'\n",
    "\n",
    "with open(SCRIPT_PATH, 'r') as file:\n",
    "    data = file.read()\n",
    "md(f\"```python\\n\\n{data}\\n```\")"
   ]
  },
  {
   "cell_type": "code",
   "execution_count": 11,
   "id": "34d8b666-90ae-4ca1-9b84-3b1f6222858e",
   "metadata": {},
   "outputs": [
    {
     "name": "stdout",
     "output_type": "stream",
     "text": [
      "Overwriting requirements.txt\n"
     ]
    }
   ],
   "source": [
    "%%writefile 'requirements.txt'\n",
    "Flask \n",
    "gunicorn"
   ]
  },
  {
   "cell_type": "code",
   "execution_count": 12,
   "id": "ad393ec2-386f-48d5-837c-1dc793527fe0",
   "metadata": {},
   "outputs": [
    {
     "name": "stdout",
     "output_type": "stream",
     "text": [
      "Overwriting Dockerfile\n"
     ]
    }
   ],
   "source": [
    "%%writefile 'Dockerfile'\n",
    "FROM python:3\n",
    "\n",
    "# Copy local code to the container image.\n",
    "ENV APP_HOME /app\n",
    "WORKDIR $APP_HOME\n",
    "COPY . ./\n",
    "\n",
    "RUN pip install -r requirements.txt\n",
    "\n",
    "# Run the web service on container startup. Here we use the gunicorn\n",
    "# webserver, with one worker process and 8 threads.\n",
    "# For environments with multiple CPU cores, increase the number of workers\n",
    "# to be equal to the cores available.\n",
    "CMD exec gunicorn --bind :$PORT --workers 1 --threads 8 app:app"
   ]
  },
  {
   "cell_type": "code",
   "execution_count": 13,
   "id": "3bd66a77-6cb4-4ced-8c94-87348f7694d2",
   "metadata": {},
   "outputs": [
    {
     "name": "stdout",
     "output_type": "stream",
     "text": [
      "Overwriting .dockerignore\n"
     ]
    }
   ],
   "source": [
    "%%writefile '.dockerignore'\n",
    "Dockerfile\n",
    "README.md\n",
    "*.pyc\n",
    "*.pyo\n",
    "*.pyd\n",
    "*.ipynb\n",
    "__pycache__"
   ]
  },
  {
   "cell_type": "code",
   "execution_count": 14,
   "id": "5651117b-6be6-46e5-bea1-3902bc9bee78",
   "metadata": {},
   "outputs": [
    {
     "name": "stdout",
     "output_type": "stream",
     "text": [
      "Create request issued for: [hello-repo]\n",
      "Waiting for operation [projects/mg-ce-demos/locations/us-central1/operations/ba\n",
      "e66ecb-be52-45c8-831f-d7a0eab30549] to complete...done.                        \n",
      "Created repository [hello-repo].\n"
     ]
    }
   ],
   "source": [
    "!gcloud artifacts repositories create hello-repo \\\n",
    "    --project={PROJECT_ID} \\\n",
    "    --repository-format=docker \\\n",
    "    --location=us-central1 \\\n",
    "    --description=\"Docker repository\""
   ]
  },
  {
   "cell_type": "code",
   "execution_count": 15,
   "id": "9b541dc6-77f7-4876-81c5-7046f1d0a20a",
   "metadata": {
    "scrolled": true,
    "tags": []
   },
   "outputs": [
    {
     "name": "stdout",
     "output_type": "stream",
     "text": [
      "Creating temporary tarball archive of 7 file(s) totalling 44.1 KiB before compression.\n",
      "Uploading tarball of [.] to [gs://mg-ce-demos_cloudbuild/source/1695047357.21794-ad06a953a2bc45c2a06e58da83d24788.tgz]\n",
      "Created [https://cloudbuild.googleapis.com/v1/projects/mg-ce-demos/locations/global/builds/9ac6b77c-c9e7-4995-af97-9efd375e9c4b].\n",
      "Logs are available at [ https://console.cloud.google.com/cloud-build/builds/9ac6b77c-c9e7-4995-af97-9efd375e9c4b?project=633472233130 ].\n",
      "----------------------------- REMOTE BUILD OUTPUT ------------------------------\n",
      "starting build \"9ac6b77c-c9e7-4995-af97-9efd375e9c4b\"\n",
      "\n",
      "FETCHSOURCE\n",
      "Fetching storage object: gs://mg-ce-demos_cloudbuild/source/1695047357.21794-ad06a953a2bc45c2a06e58da83d24788.tgz#1695047357766627\n",
      "Copying gs://mg-ce-demos_cloudbuild/source/1695047357.21794-ad06a953a2bc45c2a06e58da83d24788.tgz#1695047357766627...\n",
      "/ [1 files][  5.9 KiB/  5.9 KiB]                                                \n",
      "Operation completed over 1 objects/5.9 KiB.\n",
      "BUILD\n",
      "Already have image (with digest): gcr.io/cloud-builders/docker\n",
      "Sending build context to Docker daemon   29.7kB\n",
      "Step 1/6 : FROM python:3\n",
      "3: Pulling from library/python\n",
      "Digest: sha256:cc7372fe4746ca323f18c6bd0d45dadf22d192756abc5f73e39f9c7f10cba5aa\n",
      "Status: Downloaded newer image for python:3\n",
      " ---> 22c957c35e37\n",
      "Step 2/6 : ENV APP_HOME /app\n",
      " ---> Running in 0769ebb63e69\n",
      "Removing intermediate container 0769ebb63e69\n",
      " ---> 1b18966d3cfa\n",
      "Step 3/6 : WORKDIR $APP_HOME\n",
      " ---> Running in ec9bd39ca475\n",
      "Removing intermediate container ec9bd39ca475\n",
      " ---> 8071ad786da0\n",
      "Step 4/6 : COPY . ./\n",
      " ---> fe6640cc7f5b\n",
      "Step 5/6 : RUN pip install -r requirements.txt\n",
      " ---> Running in 70e1ce078a1e\n",
      "Collecting Flask (from -r requirements.txt (line 1))\n",
      "  Obtaining dependency information for Flask from https://files.pythonhosted.org/packages/fd/56/26f0be8adc2b4257df20c1c4260ddd0aa396cf8e75d90ab2f7ff99bc34f9/flask-2.3.3-py3-none-any.whl.metadata\n",
      "  Downloading flask-2.3.3-py3-none-any.whl.metadata (3.6 kB)\n",
      "Collecting gunicorn (from -r requirements.txt (line 2))\n",
      "  Obtaining dependency information for gunicorn from https://files.pythonhosted.org/packages/0e/2a/c3a878eccb100ccddf45c50b6b8db8cf3301a6adede6e31d48e8531cab13/gunicorn-21.2.0-py3-none-any.whl.metadata\n",
      "  Downloading gunicorn-21.2.0-py3-none-any.whl.metadata (4.1 kB)\n",
      "Collecting Werkzeug>=2.3.7 (from Flask->-r requirements.txt (line 1))\n",
      "  Obtaining dependency information for Werkzeug>=2.3.7 from https://files.pythonhosted.org/packages/9b/59/a7c32e3d8d0e546a206e0552a2c04444544f15c1da4a01df8938d20c6ffc/werkzeug-2.3.7-py3-none-any.whl.metadata\n",
      "  Downloading werkzeug-2.3.7-py3-none-any.whl.metadata (4.1 kB)\n",
      "Collecting Jinja2>=3.1.2 (from Flask->-r requirements.txt (line 1))\n",
      "  Downloading Jinja2-3.1.2-py3-none-any.whl (133 kB)\n",
      "     ━━━━━━━━━━━━━━━━━━━━━━━━━━━━━━━━━━━━━━━ 133.1/133.1 kB 3.7 MB/s eta 0:00:00\n",
      "Collecting itsdangerous>=2.1.2 (from Flask->-r requirements.txt (line 1))\n",
      "  Downloading itsdangerous-2.1.2-py3-none-any.whl (15 kB)\n",
      "Collecting click>=8.1.3 (from Flask->-r requirements.txt (line 1))\n",
      "  Obtaining dependency information for click>=8.1.3 from https://files.pythonhosted.org/packages/00/2e/d53fa4befbf2cfa713304affc7ca780ce4fc1fd8710527771b58311a3229/click-8.1.7-py3-none-any.whl.metadata\n",
      "  Downloading click-8.1.7-py3-none-any.whl.metadata (3.0 kB)\n",
      "Collecting blinker>=1.6.2 (from Flask->-r requirements.txt (line 1))\n",
      "  Downloading blinker-1.6.2-py3-none-any.whl (13 kB)\n",
      "Collecting packaging (from gunicorn->-r requirements.txt (line 2))\n",
      "  Downloading packaging-23.1-py3-none-any.whl (48 kB)\n",
      "     ━━━━━━━━━━━━━━━━━━━━━━━━━━━━━━━━━━━━━━━━ 48.9/48.9 kB 7.9 MB/s eta 0:00:00\n",
      "Collecting MarkupSafe>=2.0 (from Jinja2>=3.1.2->Flask->-r requirements.txt (line 1))\n",
      "  Obtaining dependency information for MarkupSafe>=2.0 from https://files.pythonhosted.org/packages/fe/21/2eff1de472ca6c99ec3993eab11308787b9879af9ca8bbceb4868cf4f2ca/MarkupSafe-2.1.3-cp311-cp311-manylinux_2_17_x86_64.manylinux2014_x86_64.whl.metadata\n",
      "  Downloading MarkupSafe-2.1.3-cp311-cp311-manylinux_2_17_x86_64.manylinux2014_x86_64.whl.metadata (3.0 kB)\n",
      "Downloading flask-2.3.3-py3-none-any.whl (96 kB)\n",
      "   ━━━━━━━━━━━━━━━━━━━━━━━━━━━━━━━━━━━━━━━━ 96.1/96.1 kB 17.4 MB/s eta 0:00:00\n",
      "Downloading gunicorn-21.2.0-py3-none-any.whl (80 kB)\n",
      "   ━━━━━━━━━━━━━━━━━━━━━━━━━━━━━━━━━━━━━━━━ 80.2/80.2 kB 16.4 MB/s eta 0:00:00\n",
      "Downloading click-8.1.7-py3-none-any.whl (97 kB)\n",
      "   ━━━━━━━━━━━━━━━━━━━━━━━━━━━━━━━━━━━━━━━━ 97.9/97.9 kB 19.0 MB/s eta 0:00:00\n",
      "Downloading werkzeug-2.3.7-py3-none-any.whl (242 kB)\n",
      "   ━━━━━━━━━━━━━━━━━━━━━━━━━━━━━━━━━━━━━━━━ 242.2/242.2 kB 38.1 MB/s eta 0:00:00\n",
      "Downloading MarkupSafe-2.1.3-cp311-cp311-manylinux_2_17_x86_64.manylinux2014_x86_64.whl (28 kB)\n",
      "Installing collected packages: packaging, MarkupSafe, itsdangerous, click, blinker, Werkzeug, Jinja2, gunicorn, Flask\n",
      "Successfully installed Flask-2.3.3 Jinja2-3.1.2 MarkupSafe-2.1.3 Werkzeug-2.3.7 blinker-1.6.2 click-8.1.7 gunicorn-21.2.0 itsdangerous-2.1.2 packaging-23.1\n",
      "\u001b[91mWARNING: Running pip as the 'root' user can result in broken permissions and conflicting behaviour with the system package manager. It is recommended to use a virtual environment instead: https://pip.pypa.io/warnings/venv\n",
      "\u001b[0mRemoving intermediate container 70e1ce078a1e\n",
      " ---> 38d2973d1fa3\n",
      "Step 6/6 : CMD exec gunicorn --bind :$PORT --workers 1 --threads 8 app:app\n",
      " ---> Running in cdf02ffafaab\n",
      "Removing intermediate container cdf02ffafaab\n",
      " ---> 1b5a04e5a084\n",
      "Successfully built 1b5a04e5a084\n",
      "Successfully tagged us-central1-docker.pkg.dev/mg-ce-demos/hello-repo/helloworld-gke:latest\n",
      "PUSH\n",
      "Pushing us-central1-docker.pkg.dev/mg-ce-demos/hello-repo/helloworld-gke\n",
      "The push refers to repository [us-central1-docker.pkg.dev/mg-ce-demos/hello-repo/helloworld-gke]\n",
      "c1cdcd087051: Preparing\n",
      "b35326bdca9b: Preparing\n",
      "33e432cf0007: Preparing\n",
      "49df279faf6c: Preparing\n",
      "f2c0489561b5: Preparing\n",
      "4831c7caec2d: Preparing\n",
      "d2b487de5a01: Preparing\n",
      "8fe5334a79c9: Preparing\n",
      "acd413ce78f8: Preparing\n",
      "1a26fac01f32: Preparing\n",
      "b8544860ba0b: Preparing\n",
      "d2b487de5a01: Waiting\n",
      "8fe5334a79c9: Waiting\n",
      "acd413ce78f8: Waiting\n",
      "1a26fac01f32: Waiting\n",
      "b8544860ba0b: Waiting\n",
      "4831c7caec2d: Waiting\n",
      "33e432cf0007: Pushed\n",
      "b35326bdca9b: Pushed\n",
      "f2c0489561b5: Pushed\n",
      "c1cdcd087051: Pushed\n",
      "49df279faf6c: Pushed\n",
      "d2b487de5a01: Pushed\n",
      "4831c7caec2d: Pushed\n",
      "1a26fac01f32: Pushed\n",
      "acd413ce78f8: Pushed\n",
      "b8544860ba0b: Pushed\n",
      "8fe5334a79c9: Pushed\n",
      "latest: digest: sha256:ef56612dbc3700af2011104eadfb7b1c85322238de5eba8531ee90cacbd2b691 size: 2633\n",
      "DONE\n",
      "--------------------------------------------------------------------------------\n",
      "ID                                    CREATE_TIME                DURATION  SOURCE                                                                                    IMAGES                                                                      STATUS\n",
      "9ac6b77c-c9e7-4995-af97-9efd375e9c4b  2023-09-18T14:29:18+00:00  1M9S      gs://mg-ce-demos_cloudbuild/source/1695047357.21794-ad06a953a2bc45c2a06e58da83d24788.tgz  us-central1-docker.pkg.dev/mg-ce-demos/hello-repo/helloworld-gke (+1 more)  SUCCESS\n"
     ]
    }
   ],
   "source": [
    "!gcloud builds submit \\\n",
    "  --tag us-central1-docker.pkg.dev/{PROJECT_ID}/hello-repo/helloworld-gke ."
   ]
  },
  {
   "cell_type": "code",
   "execution_count": 16,
   "id": "cd497cce-afe7-40a6-8344-878996b60e65",
   "metadata": {},
   "outputs": [],
   "source": [
    "!gcloud services enable container.googleapis.com"
   ]
  },
  {
   "cell_type": "code",
   "execution_count": 17,
   "id": "1f51c959-1656-4c1c-bb69-f78bf529e302",
   "metadata": {},
   "outputs": [
    {
     "name": "stdout",
     "output_type": "stream",
     "text": [
      "Note: The Pod address range limits the maximum size of the cluster. Please refer to https://cloud.google.com/kubernetes-engine/docs/how-to/flexible-pod-cidr to learn how to optimize IP address allocation.\n",
      "Creating cluster helloworld-gke in us-central1... Cluster is being configured..\n",
      ".⠧                                                                             \n",
      "Creating cluster helloworld-gke in us-central1... Cluster is being health-check\n",
      "ed (master is healthy)...done.                                                 \n",
      "Created [https://container.googleapis.com/v1/projects/mg-ce-demos/zones/us-central1/clusters/helloworld-gke].\n",
      "To inspect the contents of your cluster, go to: https://console.cloud.google.com/kubernetes/workload_/gcloud/us-central1/helloworld-gke?project=mg-ce-demos\n",
      "kubeconfig entry generated for helloworld-gke.\n",
      "NAME            LOCATION     MASTER_VERSION  MASTER_IP     MACHINE_TYPE  NODE_VERSION    NUM_NODES  STATUS\n",
      "helloworld-gke  us-central1  1.27.3-gke.100  34.135.62.24  e2-medium     1.27.3-gke.100  3          RUNNING\n"
     ]
    }
   ],
   "source": [
    "!gcloud container clusters create-auto helloworld-gke \\\n",
    "  --location us-central1"
   ]
  },
  {
   "cell_type": "code",
   "execution_count": 18,
   "id": "a89917e9-56d0-4ee2-beda-e3269ec0927b",
   "metadata": {},
   "outputs": [
    {
     "name": "stdout",
     "output_type": "stream",
     "text": [
      "NAME                                            STATUS   ROLES    AGE   VERSION\n",
      "gk3-helloworld-gke-default-pool-aae8032f-td3b   Ready    <none>   49s   v1.27.3-gke.100\n",
      "gk3-helloworld-gke-default-pool-ddf93a33-z1b6   Ready    <none>   49s   v1.27.3-gke.100\n"
     ]
    }
   ],
   "source": [
    "!kubectl get nodes"
   ]
  },
  {
   "cell_type": "code",
   "execution_count": 24,
   "id": "df65217e-628b-4d44-aec4-da9486f6f04a",
   "metadata": {},
   "outputs": [
    {
     "name": "stdout",
     "output_type": "stream",
     "text": [
      "Overwriting deployment.yaml\n"
     ]
    }
   ],
   "source": [
    "%%writefile 'deployment.yaml'\n",
    "\n",
    "\n",
    "# Copyright 2021 Google LLC\n",
    "#\n",
    "# Licensed under the Apache License, Version 2.0 (the \"License\");\n",
    "# you may not use this file except in compliance with the License.\n",
    "# You may obtain a copy of the License at\n",
    "#\n",
    "#      http://www.apache.org/licenses/LICENSE-2.0\n",
    "#\n",
    "# Unless required by applicable law or agreed to in writing, software\n",
    "# distributed under the License is distributed on an \"AS IS\" BASIS,\n",
    "# WITHOUT WARRANTIES OR CONDITIONS OF ANY KIND, either express or implied.\n",
    "# See the License for the specific language governing permissions and\n",
    "# limitations under the License.\n",
    "\n",
    "apiVersion: apps/v1\n",
    "kind: Deployment\n",
    "metadata:\n",
    "  name: hello-app\n",
    "spec:\n",
    "  replicas: 1\n",
    "  selector:\n",
    "    matchLabels:\n",
    "      app: hello\n",
    "  template:\n",
    "    metadata:\n",
    "      labels:\n",
    "        app: hello\n",
    "    spec:\n",
    "      containers:\n",
    "      - name: hello-app\n",
    "        # Replace $LOCATION with your Artifact Registry location (e.g., us-west1).\n",
    "        # Replace $GCLOUD_PROJECT with your project ID.\n",
    "        image: us-central1-docker.pkg.dev/mg-ce-demos/hello-repo/helloworld-gke:latest\n",
    "        # This app listens on port 8080 for web traffic by default.\n",
    "        ports:\n",
    "        - containerPort: 8080\n",
    "        env:\n",
    "          - name: PORT\n",
    "            value: \"8080\"\n",
    "        resources:\n",
    "          requests:\n",
    "            memory: \"1Gi\"\n",
    "            cpu: \"500m\"\n",
    "            ephemeral-storage: \"1Gi\"\n",
    "          limits:\n",
    "            memory: \"1Gi\"\n",
    "            cpu: \"500m\"\n",
    "            ephemeral-storage: \"1Gi\"\n",
    "---"
   ]
  },
  {
   "cell_type": "code",
   "execution_count": 33,
   "id": "7323a6b6-6abd-4b0e-b929-5386c26b3673",
   "metadata": {},
   "outputs": [
    {
     "name": "stdout",
     "output_type": "stream",
     "text": [
      "Overwriting service.yaml\n"
     ]
    }
   ],
   "source": [
    "%%writefile 'service.yaml'\n",
    "\n",
    "# Copyright 2021 Google LLC\n",
    "#\n",
    "# Licensed under the Apache License, Version 2.0 (the \"License\");\n",
    "# you may not use this file except in compliance with the License.\n",
    "# You may obtain a copy of the License at\n",
    "#\n",
    "#      http://www.apache.org/licenses/LICENSE-2.0\n",
    "#\n",
    "# Unless required by applicable law or agreed to in writing, software\n",
    "# distributed under the License is distributed on an \"AS IS\" BASIS,\n",
    "# WITHOUT WARRANTIES OR CONDITIONS OF ANY KIND, either express or implied.\n",
    "# See the License for the specific language governing permissions and\n",
    "# limitations under the License.\n",
    "\n",
    "# The hello service provides a load-balancing proxy over the hello-app\n",
    "# pods. By specifying the type as a 'LoadBalancer', Kubernetes Engine will\n",
    "# create an external HTTP load balancer.\n",
    "\n",
    "apiVersion: v1\n",
    "kind: Service\n",
    "metadata:\n",
    "  name: hello\n",
    "spec:\n",
    "  type: LoadBalancer\n",
    "  selector:\n",
    "    app: hello\n",
    "  ports:\n",
    "  - port: 80\n",
    "    targetPort: 8080\n",
    "---"
   ]
  },
  {
   "cell_type": "code",
   "execution_count": 25,
   "id": "e25a233f-7713-40fa-b6a2-b652a298804b",
   "metadata": {},
   "outputs": [
    {
     "name": "stdout",
     "output_type": "stream",
     "text": [
      "deployment.apps/hello-app created\n"
     ]
    }
   ],
   "source": [
    "!kubectl apply -f deployment.yaml\n",
    "!kubectl apply -f service.yaml"
   ]
  },
  {
   "cell_type": "code",
   "execution_count": 41,
   "id": "b3df889c-2ca1-494b-9323-6c1d07eadab8",
   "metadata": {},
   "outputs": [
    {
     "name": "stdout",
     "output_type": "stream",
     "text": [
      "DEPLOYMENTS: \n",
      "\n",
      "NAME        READY   UP-TO-DATE   AVAILABLE   AGE\n",
      "hello-app   1/1     1            1           5m21s\n",
      "\n",
      "PODS: \n",
      "\n",
      "NAME                         READY   STATUS    RESTARTS   AGE\n",
      "hello-app-7ffbdd744f-ndfls   1/1     Running   0          5m19s\n",
      "\n",
      "SERVICES: \n",
      "\n",
      "NAME         TYPE           CLUSTER-IP       EXTERNAL-IP     PORT(S)        AGE\n",
      "hello        LoadBalancer   34.118.234.204   34.135.31.159   80:31310/TCP   3m6s\n",
      "kubernetes   ClusterIP      34.118.224.1     <none>          443/TCP        36m\n"
     ]
    }
   ],
   "source": [
    "print('DEPLOYMENTS: \\n')\n",
    "!kubectl get deployments\n",
    "\n",
    "print('\\nPODS: \\n')\n",
    "!kubectl get pods\n",
    "\n",
    "print('\\nSERVICES: \\n')\n",
    "!kubectl get services"
   ]
  },
  {
   "cell_type": "code",
   "execution_count": 42,
   "id": "5bae1b9a-6387-4de4-87ce-3fefdcd377d8",
   "metadata": {},
   "outputs": [
    {
     "name": "stdout",
     "output_type": "stream",
     "text": [
      "Hello World!\n"
     ]
    }
   ],
   "source": [
    "!curl 34.135.31.159"
   ]
  },
  {
   "cell_type": "markdown",
   "id": "47f08869-858b-4fc6-826a-078d84e263fd",
   "metadata": {},
   "source": [
    "### Clean Up"
   ]
  },
  {
   "cell_type": "markdown",
   "id": "2c2d21e9-b264-48de-a6a8-9734a84c6922",
   "metadata": {},
   "source": [
    "copy and paste to terminal\n",
    "\n",
    "gcloud container clusters delete helloworld-gke --location us-central1"
   ]
  },
  {
   "cell_type": "markdown",
   "id": "07fa617a-b4d6-4ebb-86e8-3e5f4575b4b5",
   "metadata": {},
   "source": [
    "copy and paste to terminal\n",
    "\n",
    "gcloud artifacts docker images delete us-central1-docker.pkg.dev/mg-ce-demos/hello-repo/helloworld-gke"
   ]
  },
  {
   "cell_type": "code",
   "execution_count": null,
   "id": "78daa40c-fb5e-44af-9fc1-cb24e9b78c7a",
   "metadata": {},
   "outputs": [],
   "source": []
  },
  {
   "cell_type": "markdown",
   "id": "e4def3e4-e7f3-4cd6-a72f-640294b057c0",
   "metadata": {
    "jp-MarkdownHeadingCollapsed": true,
    "tags": []
   },
   "source": [
    "### GCS flow"
   ]
  },
  {
   "cell_type": "code",
   "execution_count": null,
   "id": "587c8887-9fbc-4dda-833f-92454ac6f261",
   "metadata": {},
   "outputs": [],
   "source": []
  },
  {
   "cell_type": "code",
   "execution_count": null,
   "id": "a9854f98-f713-45da-be75-ace2aac4de48",
   "metadata": {},
   "outputs": [],
   "source": []
  },
  {
   "cell_type": "code",
   "execution_count": null,
   "id": "d237a096-e712-4e78-a7a4-2bedf78ed8b1",
   "metadata": {},
   "outputs": [],
   "source": [
    "bucket = gcs.lookup_bucket(PROJECT_ID)\n",
    "SOURCEPATH = f'{EXPERIMENT}'"
   ]
  },
  {
   "cell_type": "code",
   "execution_count": null,
   "id": "9e686d6c-e95b-43ab-a4aa-ca016df95ac8",
   "metadata": {},
   "outputs": [],
   "source": [
    "blob = bucket.blob(f'{SOURCEPATH}/app.py')\n",
    "blob.upload_from_filename(SCRIPT_PATH)"
   ]
  },
  {
   "cell_type": "code",
   "execution_count": null,
   "id": "0a2107f1-f963-4de1-ac79-b1d611545427",
   "metadata": {},
   "outputs": [],
   "source": [
    "requirements = f\"\"\"\n",
    "Flask \n",
    "gunicorn\n",
    "\"\"\""
   ]
  },
  {
   "cell_type": "code",
   "execution_count": null,
   "id": "436d7516-bdb8-492c-935c-954f55c61d0d",
   "metadata": {},
   "outputs": [],
   "source": [
    "blob = bucket.blob(f'{SOURCEPATH}/requirements.txt')\n",
    "blob.upload_from_string(requirements)"
   ]
  },
  {
   "cell_type": "code",
   "execution_count": null,
   "id": "93e2ed18-f6d2-4647-8615-d229febc8213",
   "metadata": {},
   "outputs": [],
   "source": [
    "dockerfile = f\"\"\"\n",
    "FROM python:3\n",
    "\n",
    "# Copy local code to the container image.\n",
    "ENV APP_HOME /app\n",
    "WORKDIR $APP_HOME\n",
    "COPY . ./\n",
    "\n",
    "RUN pip install -r requirements.txt\n",
    "EXPOSE 80\n",
    "CMD exec gunicorn --bind :$PORT --workers 1 --threads 8 app:app\n",
    "\"\"\""
   ]
  },
  {
   "cell_type": "code",
   "execution_count": null,
   "id": "1774a095-06df-4a02-9f98-cfac14a7f6b0",
   "metadata": {},
   "outputs": [],
   "source": [
    "blob = bucket.blob(f'{SOURCEPATH}/Dockerfile')\n",
    "blob.upload_from_string(dockerfile)"
   ]
  },
  {
   "cell_type": "code",
   "execution_count": null,
   "id": "783e913f-e05b-44e5-8be9-4c39a31882a8",
   "metadata": {},
   "outputs": [],
   "source": [
    "dockerignore = f\"\"\"\n",
    "Dockerfile\n",
    "README.md\n",
    "*.pyc\n",
    "*.pyo\n",
    "*.pyd\n",
    "__pycache__\n",
    "\"\"\""
   ]
  },
  {
   "cell_type": "code",
   "execution_count": null,
   "id": "0299aefd-094d-40bf-b00a-da0474b50150",
   "metadata": {},
   "outputs": [],
   "source": [
    "blob = bucket.blob(f'{SOURCEPATH}/.dockerignore')\n",
    "blob.upload_from_string(dockerignore)"
   ]
  },
  {
   "cell_type": "code",
   "execution_count": null,
   "id": "395b465b-bc30-40c2-bbb9-4210f94c1b1b",
   "metadata": {},
   "outputs": [],
   "source": [
    "for repo in ar_client.list_repositories(parent = f'projects/{PROJECT_ID}/locations/{REGION}'):\n",
    "    print(repo.name)"
   ]
  },
  {
   "cell_type": "code",
   "execution_count": null,
   "id": "7f3bd333-0aed-4af1-a3ce-1442977d9e1d",
   "metadata": {},
   "outputs": [],
   "source": [
    "docker_repo = None\n",
    "for repo in ar_client.list_repositories(parent = f'projects/{PROJECT_ID}/locations/{REGION}'):\n",
    "    if f'{PROJECT_ID}' == repo.name.split('/')[-1]:\n",
    "        docker_repo = repo\n",
    "        print(f'Retrieved existing repo: {docker_repo.name}')\n",
    "\n",
    "if not docker_repo:\n",
    "    operation = ar_client.create_repository(\n",
    "        request = artifactregistry_v1.CreateRepositoryRequest(\n",
    "            parent = f'projects/{PROJECT_ID}/locations/{REGION}',\n",
    "            repository_id = f'{PROJECT_ID}',\n",
    "            repository = artifactregistry_v1.Repository(\n",
    "                description = f'A repository for the {EXPERIMENT} experiment that holds docker images.',\n",
    "                name = f'{PROJECT_ID}',\n",
    "                format_ = artifactregistry_v1.Repository.Format.DOCKER,\n",
    "                labels = {'series': SERIES, 'experiment': EXPERIMENT}\n",
    "            )\n",
    "        )\n",
    "    )\n",
    "    print('Creating Repository ...')\n",
    "    docker_repo = operation.result()\n",
    "    print(f'Completed creating repo: {docker_repo.name}')"
   ]
  },
  {
   "cell_type": "code",
   "execution_count": null,
   "id": "3cbbfc95-7d16-4df8-9487-283a2243a2e8",
   "metadata": {},
   "outputs": [],
   "source": [
    "docker_repo.name, docker_repo.format_.name"
   ]
  },
  {
   "cell_type": "code",
   "execution_count": null,
   "id": "82290da3-4af4-4f7b-9bee-01eb58309b52",
   "metadata": {},
   "outputs": [],
   "source": [
    "REPOSITORY = f\"{REGION}-docker.pkg.dev/{PROJECT_ID}/{docker_repo.name.split('/')[-1]}\""
   ]
  },
  {
   "cell_type": "code",
   "execution_count": null,
   "id": "42c34de7-634e-4cde-a601-e7886d18b6d3",
   "metadata": {},
   "outputs": [],
   "source": [
    "# setup the build config with empty list of steps - these will be added sequentially\n",
    "build = cloudbuild_v1.Build(\n",
    "    steps = []\n",
    ")\n",
    "# retrieve the source\n",
    "build.steps.append(\n",
    "    {\n",
    "        'name': 'gcr.io/cloud-builders/gsutil',\n",
    "        'args': ['cp', '-r', f'gs://{PROJECT_ID}/{SOURCEPATH}/*', '/workspace']\n",
    "    }\n",
    ")\n",
    "# docker build\n",
    "build.steps.append(\n",
    "    {\n",
    "        'name': 'gcr.io/cloud-builders/docker',\n",
    "        'args': ['build', '-t', f'{REPOSITORY}/{EXPERIMENT}', '/workspace']\n",
    "    }    \n",
    ")\n",
    "# docker push\n",
    "build.images = [f\"{REPOSITORY}/{EXPERIMENT}\"]"
   ]
  },
  {
   "cell_type": "code",
   "execution_count": null,
   "id": "fa2ed828-e0c0-4ad6-8587-e295c5688322",
   "metadata": {},
   "outputs": [],
   "source": [
    "build"
   ]
  },
  {
   "cell_type": "code",
   "execution_count": null,
   "id": "d0fd27d2-4d12-444c-8f0a-aa8b7fef499f",
   "metadata": {},
   "outputs": [],
   "source": [
    "operation = cb_client.create_build(\n",
    "    project_id = PROJECT_ID,\n",
    "    build = build\n",
    ")"
   ]
  },
  {
   "cell_type": "code",
   "execution_count": null,
   "id": "32378be5-d3e0-4aab-9010-693622054452",
   "metadata": {},
   "outputs": [],
   "source": [
    "response = operation.result()\n",
    "response.status, response.artifacts"
   ]
  },
  {
   "cell_type": "code",
   "execution_count": null,
   "id": "14e7b92c-32a3-466d-b0c1-1cb290f9f12c",
   "metadata": {},
   "outputs": [],
   "source": [
    "!gcloud services enable container.googleapis.com"
   ]
  },
  {
   "cell_type": "code",
   "execution_count": null,
   "id": "a7a1451c-ede0-4538-849d-9bd04c8e9c64",
   "metadata": {},
   "outputs": [],
   "source": [
    "!gcloud container clusters create-auto helloworld-gke location us-central1"
   ]
  },
  {
   "cell_type": "code",
   "execution_count": null,
   "id": "80c5d4aa-fb9f-4ac0-b760-be10e339a47a",
   "metadata": {},
   "outputs": [],
   "source": [
    "!kubectl get nodes"
   ]
  },
  {
   "cell_type": "code",
   "execution_count": null,
   "id": "f6b12bb9-1c45-4603-b905-f13789ca0c8d",
   "metadata": {},
   "outputs": [],
   "source": [
    "#!gcloud compute instances list"
   ]
  },
  {
   "cell_type": "code",
   "execution_count": null,
   "id": "ad12bd2f-eb1c-44c6-a8a2-d3853eeebbd7",
   "metadata": {},
   "outputs": [],
   "source": [
    "%%writefile 'stt_app/deployment.yaml'\n",
    "\n"
   ]
  },
  {
   "cell_type": "code",
   "execution_count": null,
   "id": "b672297f-f684-445c-af74-6e93fd3dbb69",
   "metadata": {},
   "outputs": [],
   "source": [
    "%%writefile 'stt_app/deployment.yaml'\n",
    "\n",
    "apiVersion: extensions/v1beta1\n",
    "    kind: Deployment\n",
    "    metadata:\n",
    "        name: stt-app\n",
    "    spec:\n",
    "        replicas: 1\n",
    "        selector:\n",
    "            matchLabels:\n",
    "                app: stt-app\n",
    "        template:\n",
    "            metadata:\n",
    "                labels:\n",
    "                    app: stt-app\n",
    "            spec:\n",
    "                containers:\n",
    "                - name: stt-app\n",
    "                    image: us-central1-docker.pkg.dev/mg-ce-demos/mg-ce-demos/stt_app\n",
    "                    ports:\n",
    "                    - containerPort: 80\n",
    "                    env:\n",
    "                    - name: PORT\n",
    "value: 80"
   ]
  },
  {
   "cell_type": "code",
   "execution_count": null,
   "id": "b72daaf6-9c72-47d5-b5aa-f727b6ee5e53",
   "metadata": {},
   "outputs": [],
   "source": [
    "%%writefile 'stt_app/service.yaml'\n",
    "\n",
    "apiVersion: v1\n",
    "    kind: Service\n",
    "    metadata:\n",
    "        name: stt-app\n",
    "    spec:\n",
    "        type: LoadBalancer\n",
    "        selector:\n",
    "            app: stt-app\n",
    "        ports:\n",
    "        - port: 80\n",
    "        targetPort: 80"
   ]
  },
  {
   "cell_type": "code",
   "execution_count": null,
   "id": "6fe75928-4e51-4daa-bcb5-ef58de9b4232",
   "metadata": {},
   "outputs": [],
   "source": [
    "!kubectl apply -f deployment.yaml\n",
    "!kubectl apply -f service.yaml"
   ]
  }
 ],
 "metadata": {
  "kernelspec": {
   "display_name": "Python 3 (ipykernel)",
   "language": "python",
   "name": "python3"
  },
  "language_info": {
   "codemirror_mode": {
    "name": "ipython",
    "version": 3
   },
   "file_extension": ".py",
   "mimetype": "text/x-python",
   "name": "python",
   "nbconvert_exporter": "python",
   "pygments_lexer": "ipython3",
   "version": "3.9.6"
  }
 },
 "nbformat": 4,
 "nbformat_minor": 5
}
