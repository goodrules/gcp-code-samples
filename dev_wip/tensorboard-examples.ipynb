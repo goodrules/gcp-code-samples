{
 "cells": [
  {
   "cell_type": "markdown",
   "id": "07a5a055-ecb6-45b9-9abc-0396419c4f22",
   "metadata": {},
   "source": [
    "# Tensorboard example #1: ANN"
   ]
  },
  {
   "cell_type": "code",
   "execution_count": 2,
   "id": "3b510e87-7cf1-4ef5-ba8c-9a8bdff56a23",
   "metadata": {},
   "outputs": [
    {
     "name": "stdout",
     "output_type": "stream",
     "text": [
      "complete\n"
     ]
    }
   ],
   "source": [
    "import numpy as np\n",
    "import pandas as pd\n",
    "import tensorflow as tf\n",
    "from datetime import datetime\n",
    "\n",
    "print('complete')\n"
   ]
  },
  {
   "cell_type": "code",
   "execution_count": 3,
   "id": "7a8f7a6c-25b8-4ac2-8b0e-59bd1831afe5",
   "metadata": {},
   "outputs": [],
   "source": [
    "%load_ext tensorboard\n"
   ]
  },
  {
   "cell_type": "markdown",
   "id": "ebed9f58-66ab-461c-becd-4c031ae6bcae",
   "metadata": {},
   "source": [
    "Prerequisite: download data from [Kaggle](https://www.kaggle.com/datasets/krantiswalke/bankfullcsv)"
   ]
  },
  {
   "cell_type": "code",
   "execution_count": 4,
   "id": "b92da0db-fc1e-4462-ad08-9195661d2534",
   "metadata": {},
   "outputs": [],
   "source": [
    "data_path = '/Users/mikegoodman/Documents/developer/data/'\n",
    "\n",
    "dataset = pd.read_csv(data_path + 'bank-full.csv', sep=',')\n",
    "X = dataset.iloc[:, :-1].values\n",
    "y = dataset.iloc[:, -1].values\n",
    "\n",
    "dataset.head()\n",
    "\n",
    "DIR = 'temp/'"
   ]
  },
  {
   "cell_type": "code",
   "execution_count": 5,
   "id": "a8500f75-9451-4230-b9fe-7669e576bc1a",
   "metadata": {},
   "outputs": [],
   "source": [
    "# binary categorical variables\n",
    "\n",
    "from sklearn.preprocessing import LabelEncoder\n",
    "le = LabelEncoder()\n",
    "X[:, 2] = le.fit_transform(X[:, 2]) #marital\n",
    "X[:, 4] = le.fit_transform(X[:, 4]) #default\n",
    "X[:, 6] = le.fit_transform(X[:, 6]) #housing\n",
    "X[:, 7] = le.fit_transform(X[:, 7]) #loan\n",
    "y = le.fit_transform(y) #target column\n"
   ]
  },
  {
   "cell_type": "code",
   "execution_count": 6,
   "id": "6f96ee17-934f-4f56-8165-53aee2ee8715",
   "metadata": {},
   "outputs": [],
   "source": [
    "# One hot encoding of other categorical variables (> 2 values)\n",
    "\n",
    "from sklearn.compose import ColumnTransformer\n",
    "from sklearn.preprocessing import OneHotEncoder\n",
    "ct = ColumnTransformer(transformers = [('encoder', OneHotEncoder(), [1,3,8,10,15])], remainder = 'passthrough')\n",
    "X = np.array(ct.fit_transform(X))\n"
   ]
  },
  {
   "cell_type": "code",
   "execution_count": 7,
   "id": "189c9518-7761-4f88-b6fc-dfa41337db3c",
   "metadata": {},
   "outputs": [],
   "source": [
    "# train and test split\n",
    "\n",
    "from sklearn.model_selection import train_test_split\n",
    "X_train1, X_test1, y_train1, y_test1 = train_test_split(X, y, test_size = 0.2, random_state = 0)\n"
   ]
  },
  {
   "cell_type": "code",
   "execution_count": 8,
   "id": "5c329fe9-0530-4449-91e4-b81c57782947",
   "metadata": {},
   "outputs": [],
   "source": [
    "# scale data to unit variance\n",
    "\n",
    "from sklearn.preprocessing import StandardScaler\n",
    "sc = StandardScaler()\n",
    "X_train1 = sc.fit_transform(X_train1)\n",
    "X_test1 = sc.transform(X_test1)\n"
   ]
  },
  {
   "cell_type": "code",
   "execution_count": 9,
   "id": "68d4f4be-b058-4445-a08a-6e758362db7a",
   "metadata": {},
   "outputs": [],
   "source": [
    "# remove existing logs, if applicable\n",
    "#!rm -rf ./logs/"
   ]
  },
  {
   "cell_type": "code",
   "execution_count": 9,
   "id": "c7d8fc58-96e4-4c1d-878b-79896d290164",
   "metadata": {},
   "outputs": [],
   "source": [
    "# define tensorboard callback for model\n",
    "from tensorflow.keras.callbacks import TensorBoard \n",
    "import os\n",
    "\n",
    "tensorboard_callback = tf.keras.callbacks.TensorBoard(log_dir = os.path.join(DIR, \"model1/logs\", datetime.now().strftime(\"%Y%m%d-%H%M%S\")), histogram_freq=1)\n"
   ]
  },
  {
   "cell_type": "code",
   "execution_count": 10,
   "id": "d4d69c59-e93b-495d-a039-10841b933328",
   "metadata": {},
   "outputs": [
    {
     "name": "stderr",
     "output_type": "stream",
     "text": [
      "2022-06-24 09:30:57.367413: I tensorflow/core/platform/cpu_feature_guard.cc:151] This TensorFlow binary is optimized with oneAPI Deep Neural Network Library (oneDNN) to use the following CPU instructions in performance-critical operations:  AVX2 FMA\n",
      "To enable them in other operations, rebuild TensorFlow with the appropriate compiler flags.\n"
     ]
    }
   ],
   "source": [
    "# define an ANN model\n",
    "ann = tf.keras.models.Sequential()\n",
    "ann.add(tf.keras.layers.Dense(units=15, activation='relu'))\n",
    "ann.add(tf.keras.layers.Dense(units=15, activation='relu'))\n",
    "ann.add(tf.keras.layers.Dense(units=15, activation='relu'))\n",
    "ann.add(tf.keras.layers.Dense(units=1, activation='sigmoid'))\n"
   ]
  },
  {
   "cell_type": "code",
   "execution_count": 12,
   "id": "cfa679ef-c942-48d3-acb1-030a319e69f8",
   "metadata": {},
   "outputs": [
    {
     "name": "stdout",
     "output_type": "stream",
     "text": [
      "Epoch 1/30\n",
      "1131/1131 [==============================] - 1s 875us/step - loss: 0.1819 - accuracy: 0.9167\n",
      "Epoch 2/30\n",
      "1131/1131 [==============================] - 1s 868us/step - loss: 0.1814 - accuracy: 0.9172\n",
      "Epoch 3/30\n",
      "1131/1131 [==============================] - 1s 869us/step - loss: 0.1810 - accuracy: 0.9179\n",
      "Epoch 4/30\n",
      "1131/1131 [==============================] - 1s 872us/step - loss: 0.1807 - accuracy: 0.9191\n",
      "Epoch 5/30\n",
      "1131/1131 [==============================] - 1s 880us/step - loss: 0.1806 - accuracy: 0.9174\n",
      "Epoch 6/30\n",
      "1131/1131 [==============================] - 1s 901us/step - loss: 0.1806 - accuracy: 0.9188\n",
      "Epoch 7/30\n",
      "1131/1131 [==============================] - 1s 885us/step - loss: 0.1798 - accuracy: 0.9188\n",
      "Epoch 8/30\n",
      "1131/1131 [==============================] - 1s 882us/step - loss: 0.1798 - accuracy: 0.9182\n",
      "Epoch 9/30\n",
      "1131/1131 [==============================] - 1s 898us/step - loss: 0.1797 - accuracy: 0.9189\n",
      "Epoch 10/30\n",
      "1131/1131 [==============================] - 1s 874us/step - loss: 0.1795 - accuracy: 0.9187\n",
      "Epoch 11/30\n",
      "1131/1131 [==============================] - 1s 880us/step - loss: 0.1793 - accuracy: 0.9187\n",
      "Epoch 12/30\n",
      "1131/1131 [==============================] - 1s 883us/step - loss: 0.1790 - accuracy: 0.9196\n",
      "Epoch 13/30\n",
      "1131/1131 [==============================] - 1s 881us/step - loss: 0.1786 - accuracy: 0.9193\n",
      "Epoch 14/30\n",
      "1131/1131 [==============================] - 1s 894us/step - loss: 0.1787 - accuracy: 0.9196\n",
      "Epoch 15/30\n",
      "1131/1131 [==============================] - 1s 889us/step - loss: 0.1779 - accuracy: 0.9200\n",
      "Epoch 16/30\n",
      "1131/1131 [==============================] - 1s 888us/step - loss: 0.1782 - accuracy: 0.9201\n",
      "Epoch 17/30\n",
      "1131/1131 [==============================] - 1s 888us/step - loss: 0.1780 - accuracy: 0.9201\n",
      "Epoch 18/30\n",
      "1131/1131 [==============================] - 1s 887us/step - loss: 0.1775 - accuracy: 0.9198\n",
      "Epoch 19/30\n",
      "1131/1131 [==============================] - 1s 895us/step - loss: 0.1775 - accuracy: 0.9195\n",
      "Epoch 20/30\n",
      "1131/1131 [==============================] - 1s 998us/step - loss: 0.1769 - accuracy: 0.9205\n",
      "Epoch 21/30\n",
      "1131/1131 [==============================] - 1s 933us/step - loss: 0.1769 - accuracy: 0.9210\n",
      "Epoch 22/30\n",
      "1131/1131 [==============================] - 1s 932us/step - loss: 0.1769 - accuracy: 0.9210\n",
      "Epoch 23/30\n",
      "1131/1131 [==============================] - 1s 880us/step - loss: 0.1764 - accuracy: 0.9198\n",
      "Epoch 24/30\n",
      "1131/1131 [==============================] - 1s 880us/step - loss: 0.1769 - accuracy: 0.9198\n",
      "Epoch 25/30\n",
      "1131/1131 [==============================] - 1s 884us/step - loss: 0.1757 - accuracy: 0.9203\n",
      "Epoch 26/30\n",
      "1131/1131 [==============================] - 1s 881us/step - loss: 0.1760 - accuracy: 0.9199\n",
      "Epoch 27/30\n",
      "1131/1131 [==============================] - 1s 891us/step - loss: 0.1754 - accuracy: 0.9203\n",
      "Epoch 28/30\n",
      "1131/1131 [==============================] - 1s 897us/step - loss: 0.1762 - accuracy: 0.9203\n",
      "Epoch 29/30\n",
      "1131/1131 [==============================] - 1s 883us/step - loss: 0.1754 - accuracy: 0.9202\n",
      "Epoch 30/30\n",
      "1131/1131 [==============================] - 1s 889us/step - loss: 0.1752 - accuracy: 0.9202\n"
     ]
    },
    {
     "data": {
      "text/plain": [
       "<keras.callbacks.History at 0x7f8e6e5357c0>"
      ]
     },
     "execution_count": 12,
     "metadata": {},
     "output_type": "execute_result"
    }
   ],
   "source": [
    "# compile and train the model\n",
    "ann.compile(optimizer = 'adam', loss = 'binary_crossentropy', metrics = ['accuracy'])\n",
    "ann.fit(X_train1, y_train1, batch_size = 32, epochs = 30, callbacks=[tensorboard_callback])\n"
   ]
  },
  {
   "cell_type": "code",
   "execution_count": 13,
   "id": "d96eaa00-2457-4626-80c5-2ac679344af6",
   "metadata": {},
   "outputs": [
    {
     "data": {
      "text/html": [
       "\n",
       "      <iframe id=\"tensorboard-frame-7e38ae1f1f4d0ce6\" width=\"100%\" height=\"800\" frameborder=\"0\">\n",
       "      </iframe>\n",
       "      <script>\n",
       "        (function() {\n",
       "          const frame = document.getElementById(\"tensorboard-frame-7e38ae1f1f4d0ce6\");\n",
       "          const url = new URL(\"/\", window.location);\n",
       "          const port = 6006;\n",
       "          if (port) {\n",
       "            url.port = port;\n",
       "          }\n",
       "          frame.src = url;\n",
       "        })();\n",
       "      </script>\n",
       "    "
      ],
      "text/plain": [
       "<IPython.core.display.HTML object>"
      ]
     },
     "metadata": {},
     "output_type": "display_data"
    }
   ],
   "source": [
    "# launch Tensorboard\n",
    "%tensorboard --logdir $DIR/model1/logs\n"
   ]
  },
  {
   "cell_type": "markdown",
   "id": "2cb0cdcf-64c2-4637-a3c3-a3a21f888e65",
   "metadata": {},
   "source": [
    "# Tensorboard example #2: Confusion matrix "
   ]
  },
  {
   "cell_type": "code",
   "execution_count": 14,
   "id": "5184ad66-06ea-42cb-b365-e95176a6ee1a",
   "metadata": {},
   "outputs": [],
   "source": [
    "import numpy as np\n",
    "import pandas as pd\n",
    "import tensorflow as tf\n",
    "import datetime\n",
    "import sklearn\n",
    "\n",
    "mnist = tf.keras.datasets.mnist\n",
    "\n",
    "(X_train2, y_train2), (X_test2, y_test2) = mnist.load_data()\n",
    "X_train2, X_test2 = X_train2 / 255.0, X_test2 / 255.0\n"
   ]
  },
  {
   "cell_type": "code",
   "execution_count": 15,
   "id": "732dc559-0352-4345-ad3a-c4aaceb1c843",
   "metadata": {},
   "outputs": [],
   "source": [
    "class_names = ['Zero','One','Two','Three','Four','Five','Six','Seven','Eight','Nine']"
   ]
  },
  {
   "cell_type": "code",
   "execution_count": 16,
   "id": "ac09e0fa-da30-4591-b793-48e4d7f4febe",
   "metadata": {},
   "outputs": [],
   "source": [
    "import itertools\n",
    "import matplotlib.pyplot as plt\n",
    "\n",
    "def plot_confusion_matrix(cm, class_names):\n",
    "    figure = plt.figure(figsize=(8, 8))\n",
    "    plt.imshow(cm, interpolation='nearest', cmap=plt.cm.Accent)\n",
    "    plt.title(\"Confusion matrix\")\n",
    "    plt.colorbar()\n",
    "    tick_marks = np.arange(len(class_names))\n",
    "    plt.xticks(tick_marks, class_names, rotation=45)\n",
    "    plt.yticks(tick_marks, class_names)\n",
    "\n",
    "    cm = np.around(cm.astype('float') / cm.sum(axis=1)[:, np.newaxis], decimals=2)\n",
    "    threshold = cm.max() / 2.\n",
    "\n",
    "    for i, j in itertools.product(range(cm.shape[0]), range(cm.shape[1])):\n",
    "        color = \"white\" if cm[i, j] > threshold else \"black\"\n",
    "        plt.text(j, i, cm[i, j], horizontalalignment=\"center\", color=color)\n",
    "\n",
    "    plt.tight_layout()\n",
    "    plt.ylabel('True label')\n",
    "    plt.xlabel('Predicted label')\n",
    "\n",
    "    return figure"
   ]
  },
  {
   "cell_type": "code",
   "execution_count": 18,
   "id": "aaa671ad-13c1-4b06-8155-ec06b072e132",
   "metadata": {},
   "outputs": [],
   "source": [
    "from datetime import datetime\n",
    "\n",
    "tensorboard_callback2 = tf.keras.callbacks.TensorBoard(log_dir = os.path.join(DIR, \"model2/logs\", datetime.now().strftime(\"%Y%m%d-%H%M%S\")), histogram_freq=1)\n",
    "file_writer_cm = tf.summary.create_file_writer(DIR + 'model2/logs/cm')"
   ]
  },
  {
   "cell_type": "code",
   "execution_count": 19,
   "id": "1f9baf93-d612-41ca-8a0f-2cb758f4a32d",
   "metadata": {},
   "outputs": [],
   "source": [
    "def plot_to_image(figure):\n",
    "    buf = io.BytesIO()\n",
    "    plt.savefig(buf, format='png')\n",
    "    plt.close(figure)\n",
    "    buf.seek(0)\n",
    "\n",
    "    digit = tf.image.decode_png(buf.getvalue(), channels=4)\n",
    "    digit = tf.expand_dims(digit, 0)\n",
    "\n",
    "    return digit"
   ]
  },
  {
   "cell_type": "code",
   "execution_count": 20,
   "id": "882e4c77-4ada-45a7-b997-ca125418dd0d",
   "metadata": {},
   "outputs": [],
   "source": [
    "from tensorflow import keras\n",
    "from sklearn import metrics\n",
    "import io\n",
    "\n",
    "def log_confusion_matrix(epoch, logs):\n",
    "    predictions = model.predict(X_test2)\n",
    "    predictions = np.argmax(predictions, axis=1)\n",
    "\n",
    "    cm = metrics.confusion_matrix(y_test2, predictions)\n",
    "    figure = plot_confusion_matrix(cm, class_names=class_names)\n",
    "    cm_image = plot_to_image(figure)\n",
    "\n",
    "    with file_writer_cm.as_default():\n",
    "        tf.summary.image(\"Confusion Matrix\", cm_image, step=epoch)"
   ]
  },
  {
   "cell_type": "code",
   "execution_count": 21,
   "id": "9d3676f2-3e3d-4f3a-9115-ad3cc2429929",
   "metadata": {},
   "outputs": [
    {
     "name": "stdout",
     "output_type": "stream",
     "text": [
      "Epoch 1/10\n",
      "1500/1500 [==============================] - 6s 4ms/step - loss: 0.7029 - accuracy: 0.8207 - val_loss: 0.3663 - val_accuracy: 0.9023\n",
      "Epoch 2/10\n",
      "1500/1500 [==============================] - 5s 4ms/step - loss: 0.3726 - accuracy: 0.8962 - val_loss: 0.2972 - val_accuracy: 0.9176\n",
      "Epoch 3/10\n",
      "1500/1500 [==============================] - 5s 3ms/step - loss: 0.3139 - accuracy: 0.9115 - val_loss: 0.2618 - val_accuracy: 0.9290\n",
      "Epoch 4/10\n",
      "1500/1500 [==============================] - 5s 3ms/step - loss: 0.2787 - accuracy: 0.9207 - val_loss: 0.2368 - val_accuracy: 0.9351\n",
      "Epoch 5/10\n",
      "1500/1500 [==============================] - 5s 4ms/step - loss: 0.2516 - accuracy: 0.9286 - val_loss: 0.2169 - val_accuracy: 0.9409\n",
      "Epoch 6/10\n",
      "1500/1500 [==============================] - 5s 4ms/step - loss: 0.2301 - accuracy: 0.9345 - val_loss: 0.2034 - val_accuracy: 0.9459\n",
      "Epoch 7/10\n",
      "1500/1500 [==============================] - 5s 3ms/step - loss: 0.2135 - accuracy: 0.9401 - val_loss: 0.1891 - val_accuracy: 0.9487\n",
      "Epoch 8/10\n",
      "1500/1500 [==============================] - 6s 4ms/step - loss: 0.1981 - accuracy: 0.9450 - val_loss: 0.1794 - val_accuracy: 0.9516\n",
      "Epoch 9/10\n",
      "1500/1500 [==============================] - 5s 4ms/step - loss: 0.1862 - accuracy: 0.9478 - val_loss: 0.1702 - val_accuracy: 0.9538\n",
      "Epoch 10/10\n",
      "1500/1500 [==============================] - 5s 3ms/step - loss: 0.1761 - accuracy: 0.9504 - val_loss: 0.1622 - val_accuracy: 0.9557\n"
     ]
    },
    {
     "data": {
      "text/plain": [
       "<keras.callbacks.History at 0x7f8e55ac5610>"
      ]
     },
     "execution_count": 21,
     "metadata": {},
     "output_type": "execute_result"
    }
   ],
   "source": [
    "cm_callback = tf.keras.callbacks.LambdaCallback(on_epoch_end=log_confusion_matrix)\n",
    "\n",
    "model = tf.keras.models.Sequential([\n",
    "   tf.keras.layers.Flatten(input_shape=(28, 28)),\n",
    "   tf.keras.layers.Dense(512, activation='relu'),\n",
    "   tf.keras.layers.Dropout(0.2),\n",
    "   tf.keras.layers.Dense(10, activation='softmax')])\n",
    "\n",
    "model.compile(optimizer='sgd', loss='sparse_categorical_crossentropy',metrics=['accuracy'])\n",
    "\n",
    "model.fit(X_train2, y_train2, batch_size = 32, validation_split=0.2, epochs = 10, callbacks=[tensorboard_callback2, cm_callback])"
   ]
  },
  {
   "cell_type": "code",
   "execution_count": 23,
   "id": "77cf04b6-20e7-48cb-b197-b326cb531369",
   "metadata": {},
   "outputs": [
    {
     "data": {
      "text/html": [
       "\n",
       "      <iframe id=\"tensorboard-frame-3ce05126013e0c59\" width=\"100%\" height=\"800\" frameborder=\"0\">\n",
       "      </iframe>\n",
       "      <script>\n",
       "        (function() {\n",
       "          const frame = document.getElementById(\"tensorboard-frame-3ce05126013e0c59\");\n",
       "          const url = new URL(\"/\", window.location);\n",
       "          const port = 6008;\n",
       "          if (port) {\n",
       "            url.port = port;\n",
       "          }\n",
       "          frame.src = url;\n",
       "        })();\n",
       "      </script>\n",
       "    "
      ],
      "text/plain": [
       "<IPython.core.display.HTML object>"
      ]
     },
     "metadata": {},
     "output_type": "display_data"
    }
   ],
   "source": [
    "%tensorboard --logdir $DIR/model2/logs/"
   ]
  },
  {
   "cell_type": "markdown",
   "id": "1c8ccba0-4af7-4074-a3f2-f70a3bcbb988",
   "metadata": {},
   "source": [
    "# Tensorboard example #3: Tensorboard Projector"
   ]
  },
  {
   "cell_type": "code",
   "execution_count": 24,
   "id": "9efdd2d4-9492-4776-9bcd-9904623f75fa",
   "metadata": {},
   "outputs": [],
   "source": [
    "from tensorboard.plugins import projector"
   ]
  },
  {
   "cell_type": "code",
   "execution_count": 25,
   "id": "a3c56112-0241-4331-a5d8-9d54822e0a9c",
   "metadata": {},
   "outputs": [
    {
     "name": "stdout",
     "output_type": "stream",
     "text": [
      "(28, 28)\n"
     ]
    }
   ],
   "source": [
    "print(X_train2[0].shape)"
   ]
  },
  {
   "cell_type": "code",
   "execution_count": 26,
   "id": "89f05f46-fa1d-429f-806e-3a4e4929bc41",
   "metadata": {},
   "outputs": [],
   "source": [
    "file_writer = tf.summary.create_file_writer(DIR + 'model3/logs')"
   ]
  },
  {
   "cell_type": "code",
   "execution_count": 27,
   "id": "1ecc4068-84f9-474e-8daa-dfd3e28a84d6",
   "metadata": {},
   "outputs": [],
   "source": [
    "import numpy as np\n",
    "\n",
    "with file_writer.as_default():\n",
    "    image = np.reshape(X_train2[4], (-1, 28, 28, 1))\n",
    "    tf.summary.image(\"Single Image\", image, step=0)"
   ]
  },
  {
   "cell_type": "code",
   "execution_count": 30,
   "id": "5f800c3f-b64c-4645-bd90-4febc6e97bcd",
   "metadata": {},
   "outputs": [
    {
     "data": {
      "text/html": [
       "\n",
       "      <iframe id=\"tensorboard-frame-6b67f2fe78971457\" width=\"100%\" height=\"800\" frameborder=\"0\">\n",
       "      </iframe>\n",
       "      <script>\n",
       "        (function() {\n",
       "          const frame = document.getElementById(\"tensorboard-frame-6b67f2fe78971457\");\n",
       "          const url = new URL(\"/\", window.location);\n",
       "          const port = 6010;\n",
       "          if (port) {\n",
       "            url.port = port;\n",
       "          }\n",
       "          frame.src = url;\n",
       "        })();\n",
       "      </script>\n",
       "    "
      ],
      "text/plain": [
       "<IPython.core.display.HTML object>"
      ]
     },
     "metadata": {},
     "output_type": "display_data"
    }
   ],
   "source": [
    "%tensorboard --logdir $DIR/model3/logs\n"
   ]
  },
  {
   "cell_type": "code",
   "execution_count": 31,
   "id": "3d8623e1-a9f9-45a1-bb09-eaa44837211f",
   "metadata": {},
   "outputs": [],
   "source": [
    "file_writer = tf.summary.create_file_writer(DIR + 'model3/logs/actual-images')"
   ]
  },
  {
   "cell_type": "code",
   "execution_count": 32,
   "id": "37513846-b7a2-4537-abe4-b96ada866cc7",
   "metadata": {},
   "outputs": [],
   "source": [
    "import numpy as np\n",
    "\n",
    "with file_writer.as_default():\n",
    "    images = np.reshape(X_train2[5:20], (-1, 28, 28, 1))\n",
    "    tf.summary.image(\"Multiple Digits\", images, max_outputs=16, step=0)"
   ]
  },
  {
   "cell_type": "code",
   "execution_count": 33,
   "id": "e33511f8-5ea7-4047-96e1-4254479d28b0",
   "metadata": {},
   "outputs": [],
   "source": [
    "import io\n",
    "import matplotlib.pyplot as plt\n",
    "\n",
    "class_names = ['Zero','One','Two','Three','Four','Five','Six','Seven','Eight','Nine']"
   ]
  },
  {
   "cell_type": "code",
   "execution_count": 34,
   "id": "97e41900-cb25-4189-96bd-b51febc7c97b",
   "metadata": {},
   "outputs": [],
   "source": [
    "def image_grid():\n",
    "    figure = plt.figure(figsize=(12,8))\n",
    "\n",
    "    for i in range(25):\n",
    "        plt.subplot(5, 5, i + 1)\n",
    "        plt.xlabel(class_names[y_train[i]])\n",
    "        plt.xticks([])\n",
    "        plt.yticks([])\n",
    "        plt.grid(False)\n",
    "        plt.imshow(X_train[i], cmap=plt.cm.coolwarm)\n",
    "\n",
    "    return figure"
   ]
  },
  {
   "cell_type": "code",
   "execution_count": 35,
   "id": "29b2dfeb-d677-4e95-8e62-ca7833a83437",
   "metadata": {},
   "outputs": [],
   "source": [
    "def plot_to_image(figure):\n",
    "    buf = io.BytesIO()\n",
    "    plt.savefig(buf, format='png')\n",
    "    plt.close(figure)\n",
    "    buf.seek(0)\n",
    "    image = tf.image.decode_png(buf.getvalue(), channels=4)\n",
    "    image = tf.expand_dims(image, 0)\n",
    "    return image"
   ]
  },
  {
   "cell_type": "code",
   "execution_count": 38,
   "id": "db273c3c-22d2-40d8-a8d3-d044d3f9f8a6",
   "metadata": {},
   "outputs": [
    {
     "data": {
      "text/html": [
       "\n",
       "      <iframe id=\"tensorboard-frame-d2e35ae5e1d44e60\" width=\"100%\" height=\"800\" frameborder=\"0\">\n",
       "      </iframe>\n",
       "      <script>\n",
       "        (function() {\n",
       "          const frame = document.getElementById(\"tensorboard-frame-d2e35ae5e1d44e60\");\n",
       "          const url = new URL(\"/\", window.location);\n",
       "          const port = 6006;\n",
       "          if (port) {\n",
       "            url.port = port;\n",
       "          }\n",
       "          frame.src = url;\n",
       "        })();\n",
       "      </script>\n",
       "    "
      ],
      "text/plain": [
       "<IPython.core.display.HTML object>"
      ]
     },
     "metadata": {},
     "output_type": "display_data"
    }
   ],
   "source": [
    "%tensorboard --logdir $DIR/model3/logs/actual-images"
   ]
  },
  {
   "cell_type": "markdown",
   "id": "04df5196-7822-483e-9f2f-7f0ab1ff8835",
   "metadata": {},
   "source": [
    "# Tensorboard example #4: Hyperparameter tuning"
   ]
  },
  {
   "cell_type": "code",
   "execution_count": 39,
   "id": "22b34855-21d0-4254-ae0d-420cdd1d2957",
   "metadata": {},
   "outputs": [],
   "source": [
    "from tensorboard.plugins.hparams import api as hp"
   ]
  },
  {
   "cell_type": "code",
   "execution_count": 40,
   "id": "22ae7b42-ffcd-439b-b920-2407e4f8ce13",
   "metadata": {},
   "outputs": [],
   "source": [
    "logdir = DIR + \"model4/logs/hparamas\""
   ]
  },
  {
   "cell_type": "code",
   "execution_count": 41,
   "id": "8008e1ee-3235-47d4-be51-43f9828ada32",
   "metadata": {},
   "outputs": [],
   "source": [
    "HP_NUM_UNITS = hp.HParam('num_units', hp.Discrete([16, 17]))\n",
    "HP_DROPOUT = hp.HParam('dropout', hp.RealInterval(0.1,0.2))\n",
    "HP_OPTIMIZER = hp.HParam('optimizer', hp.Discrete(['adam', 'sgd', 'rmsprop']))"
   ]
  },
  {
   "cell_type": "code",
   "execution_count": 42,
   "id": "bb5d3866-5447-4ca0-b1ca-4c4aedf6991f",
   "metadata": {},
   "outputs": [],
   "source": [
    "METRIC_ACCURACY = 'accuracy'\n",
    "\n",
    "with tf.summary.create_file_writer(logdir).as_default():\n",
    "    hp.hparams_config(\n",
    "        hparams=[HP_NUM_UNITS, HP_DROPOUT, HP_OPTIMIZER],\n",
    "        metrics=[hp.Metric(METRIC_ACCURACY, display_name='Accuracy')],)"
   ]
  },
  {
   "cell_type": "code",
   "execution_count": 43,
   "id": "a9a96d95-a970-44f4-ae4c-28e4b352d66d",
   "metadata": {},
   "outputs": [],
   "source": [
    "def create_model(hparams):\n",
    "    model = tf.keras.models.Sequential([\n",
    "        tf.keras.layers.Flatten(input_shape=(28, 28)),\n",
    "        tf.keras.layers.Dense(hparams[HP_NUM_UNITS],  activation='relu'),\n",
    "        tf.keras.layers.Dropout(hparams[HP_DROPOUT]),\n",
    "        tf.keras.layers.Dense(10, activation='softmax')])\n",
    "\n",
    "    model.compile(optimizer=hparams[HP_OPTIMIZER],\n",
    "                  loss='sparse_categorical_crossentropy',\n",
    "                  metrics=['accuracy'])\n",
    "\n",
    "    model.fit(X_train2, y_train2, epochs=5)\n",
    "    loss, accuracy = model.evaluate(X_test2, y_test2)\n",
    "\n",
    "    return accuracy"
   ]
  },
  {
   "cell_type": "code",
   "execution_count": 44,
   "id": "64bc8e18-d1ab-46a4-ab81-6477844303dd",
   "metadata": {},
   "outputs": [],
   "source": [
    "def experiment(experiment_dir, hparams):\n",
    "\n",
    "    with tf.summary.create_file_writer(experiment_dir).as_default():\n",
    "        hp.hparams(hparams)\n",
    "        accuracy = create_model(hparams)\n",
    "        tf.summary.scalar(METRIC_ACCURACY, accuracy, step=1)"
   ]
  },
  {
   "cell_type": "code",
   "execution_count": 45,
   "id": "90611178-89a3-42cf-aa7e-17b4cccc67f2",
   "metadata": {
    "scrolled": true,
    "tags": []
   },
   "outputs": [
    {
     "name": "stdout",
     "output_type": "stream",
     "text": [
      "Starting Experiment: Experiment 0\n",
      "{'num_units': 16, 'dropout': 0.1, 'optimizer': 'adam'}\n",
      "Epoch 1/5\n",
      "1875/1875 [==============================] - 2s 816us/step - loss: 0.5642 - accuracy: 0.8300\n",
      "Epoch 2/5\n",
      "1875/1875 [==============================] - 2s 852us/step - loss: 0.3481 - accuracy: 0.8959\n",
      "Epoch 3/5\n",
      "1875/1875 [==============================] - 2s 933us/step - loss: 0.3123 - accuracy: 0.9047\n",
      "Epoch 4/5\n",
      "1875/1875 [==============================] - 2s 831us/step - loss: 0.2896 - accuracy: 0.9127\n",
      "Epoch 5/5\n",
      "1875/1875 [==============================] - 2s 807us/step - loss: 0.2712 - accuracy: 0.9166\n",
      "313/313 [==============================] - 0s 627us/step - loss: 0.1997 - accuracy: 0.9410\n",
      "Starting Experiment: Experiment 1\n",
      "{'num_units': 16, 'dropout': 0.1, 'optimizer': 'rmsprop'}\n",
      "Epoch 1/5\n",
      "1875/1875 [==============================] - 2s 851us/step - loss: 0.5486 - accuracy: 0.8384\n",
      "Epoch 2/5\n",
      "1875/1875 [==============================] - 2s 801us/step - loss: 0.3542 - accuracy: 0.8942\n",
      "Epoch 3/5\n",
      "1875/1875 [==============================] - 2s 815us/step - loss: 0.3212 - accuracy: 0.9035\n",
      "Epoch 4/5\n",
      "1875/1875 [==============================] - 2s 906us/step - loss: 0.3023 - accuracy: 0.9103\n",
      "Epoch 5/5\n",
      "1875/1875 [==============================] - 2s 848us/step - loss: 0.2939 - accuracy: 0.9122\n",
      "313/313 [==============================] - 0s 655us/step - loss: 0.2297 - accuracy: 0.9363\n",
      "Starting Experiment: Experiment 2\n",
      "{'num_units': 16, 'dropout': 0.1, 'optimizer': 'sgd'}\n",
      "Epoch 1/5\n",
      "1875/1875 [==============================] - 2s 851us/step - loss: 1.0056 - accuracy: 0.6998\n",
      "Epoch 2/5\n",
      "1875/1875 [==============================] - 1s 749us/step - loss: 0.5474 - accuracy: 0.8352\n",
      "Epoch 3/5\n",
      "1875/1875 [==============================] - 1s 765us/step - loss: 0.4707 - accuracy: 0.8561\n",
      "Epoch 4/5\n",
      "1875/1875 [==============================] - 2s 862us/step - loss: 0.4320 - accuracy: 0.8689\n",
      "Epoch 5/5\n",
      "1875/1875 [==============================] - 2s 919us/step - loss: 0.4068 - accuracy: 0.8784\n",
      "313/313 [==============================] - 0s 905us/step - loss: 0.2922 - accuracy: 0.9159\n",
      "Starting Experiment: Experiment 3\n",
      "{'num_units': 16, 'dropout': 0.2, 'optimizer': 'adam'}\n",
      "Epoch 1/5\n",
      "1875/1875 [==============================] - 2s 1ms/step - loss: 0.6782 - accuracy: 0.7877\n",
      "Epoch 2/5\n",
      "1875/1875 [==============================] - 2s 974us/step - loss: 0.4527 - accuracy: 0.8601\n",
      "Epoch 3/5\n",
      "1875/1875 [==============================] - 2s 837us/step - loss: 0.4057 - accuracy: 0.8736\n",
      "Epoch 4/5\n",
      "1875/1875 [==============================] - 2s 852us/step - loss: 0.3824 - accuracy: 0.8804\n",
      "Epoch 5/5\n",
      "1875/1875 [==============================] - 2s 847us/step - loss: 0.3687 - accuracy: 0.8853\n",
      "313/313 [==============================] - 0s 655us/step - loss: 0.2279 - accuracy: 0.9334\n",
      "Starting Experiment: Experiment 4\n",
      "{'num_units': 16, 'dropout': 0.2, 'optimizer': 'rmsprop'}\n",
      "Epoch 1/5\n",
      "1875/1875 [==============================] - 2s 877us/step - loss: 0.6686 - accuracy: 0.7918\n",
      "Epoch 2/5\n",
      "1875/1875 [==============================] - 1s 783us/step - loss: 0.4307 - accuracy: 0.8668\n",
      "Epoch 3/5\n",
      "1875/1875 [==============================] - 1s 798us/step - loss: 0.3986 - accuracy: 0.8779\n",
      "Epoch 4/5\n",
      "1875/1875 [==============================] - 2s 827us/step - loss: 0.3846 - accuracy: 0.8842\n",
      "Epoch 5/5\n",
      "1875/1875 [==============================] - 2s 859us/step - loss: 0.3767 - accuracy: 0.8850\n",
      "313/313 [==============================] - 0s 891us/step - loss: 0.2380 - accuracy: 0.9348\n",
      "Starting Experiment: Experiment 5\n",
      "{'num_units': 16, 'dropout': 0.2, 'optimizer': 'sgd'}\n",
      "Epoch 1/5\n",
      "1875/1875 [==============================] - 2s 822us/step - loss: 1.0875 - accuracy: 0.6560\n",
      "Epoch 2/5\n",
      "1875/1875 [==============================] - 2s 860us/step - loss: 0.6343 - accuracy: 0.8005\n",
      "Epoch 3/5\n",
      "1875/1875 [==============================] - 2s 866us/step - loss: 0.5458 - accuracy: 0.8292\n",
      "Epoch 4/5\n",
      "1875/1875 [==============================] - 2s 984us/step - loss: 0.5113 - accuracy: 0.8419\n",
      "Epoch 5/5\n",
      "1875/1875 [==============================] - 1s 738us/step - loss: 0.4796 - accuracy: 0.8512\n",
      "313/313 [==============================] - 0s 685us/step - loss: 0.3044 - accuracy: 0.9135\n",
      "Starting Experiment: Experiment 6\n",
      "{'num_units': 17, 'dropout': 0.1, 'optimizer': 'adam'}\n",
      "Epoch 1/5\n",
      "1875/1875 [==============================] - 2s 895us/step - loss: 0.5204 - accuracy: 0.8457\n",
      "Epoch 2/5\n",
      "1875/1875 [==============================] - 2s 873us/step - loss: 0.3211 - accuracy: 0.9034\n",
      "Epoch 3/5\n",
      "1875/1875 [==============================] - 2s 992us/step - loss: 0.2871 - accuracy: 0.9138\n",
      "Epoch 4/5\n",
      "1875/1875 [==============================] - 2s 851us/step - loss: 0.2658 - accuracy: 0.9192\n",
      "Epoch 5/5\n",
      "1875/1875 [==============================] - 2s 941us/step - loss: 0.2535 - accuracy: 0.9216\n",
      "313/313 [==============================] - 0s 727us/step - loss: 0.1861 - accuracy: 0.9460\n",
      "Starting Experiment: Experiment 7\n",
      "{'num_units': 17, 'dropout': 0.1, 'optimizer': 'rmsprop'}\n",
      "Epoch 1/5\n",
      "1875/1875 [==============================] - 2s 944us/step - loss: 0.5261 - accuracy: 0.8438\n",
      "Epoch 2/5\n",
      "1875/1875 [==============================] - 2s 850us/step - loss: 0.3378 - accuracy: 0.8991\n",
      "Epoch 3/5\n",
      "1875/1875 [==============================] - 2s 870us/step - loss: 0.3012 - accuracy: 0.9106\n",
      "Epoch 4/5\n",
      "1875/1875 [==============================] - 2s 822us/step - loss: 0.2872 - accuracy: 0.9150\n",
      "Epoch 5/5\n",
      "1875/1875 [==============================] - 2s 944us/step - loss: 0.2776 - accuracy: 0.9185\n",
      "313/313 [==============================] - 0s 661us/step - loss: 0.2245 - accuracy: 0.9424\n",
      "Starting Experiment: Experiment 8\n",
      "{'num_units': 17, 'dropout': 0.1, 'optimizer': 'sgd'}\n",
      "Epoch 1/5\n",
      "1875/1875 [==============================] - 2s 776us/step - loss: 0.9665 - accuracy: 0.7113\n",
      "Epoch 2/5\n",
      "1875/1875 [==============================] - 1s 799us/step - loss: 0.5131 - accuracy: 0.8460\n",
      "Epoch 3/5\n",
      "1875/1875 [==============================] - 1s 791us/step - loss: 0.4377 - accuracy: 0.8688\n",
      "Epoch 4/5\n",
      "1875/1875 [==============================] - 1s 762us/step - loss: 0.3965 - accuracy: 0.8812\n",
      "Epoch 5/5\n",
      "1875/1875 [==============================] - 1s 795us/step - loss: 0.3676 - accuracy: 0.8895\n",
      "313/313 [==============================] - 0s 704us/step - loss: 0.2600 - accuracy: 0.9247\n",
      "Starting Experiment: Experiment 9\n",
      "{'num_units': 17, 'dropout': 0.2, 'optimizer': 'adam'}\n",
      "Epoch 1/5\n",
      "1875/1875 [==============================] - 2s 1ms/step - loss: 0.6700 - accuracy: 0.7926\n",
      "Epoch 2/5\n",
      "1875/1875 [==============================] - 2s 882us/step - loss: 0.4274 - accuracy: 0.8672\n",
      "Epoch 3/5\n",
      "1875/1875 [==============================] - 2s 880us/step - loss: 0.3845 - accuracy: 0.8799\n",
      "Epoch 4/5\n",
      "1875/1875 [==============================] - 2s 908us/step - loss: 0.3585 - accuracy: 0.8875\n",
      "Epoch 5/5\n",
      "1875/1875 [==============================] - 2s 899us/step - loss: 0.3447 - accuracy: 0.8916\n",
      "313/313 [==============================] - 0s 700us/step - loss: 0.2105 - accuracy: 0.9380\n",
      "Starting Experiment: Experiment 10\n",
      "{'num_units': 17, 'dropout': 0.2, 'optimizer': 'rmsprop'}\n",
      "Epoch 1/5\n",
      "1875/1875 [==============================] - 2s 810us/step - loss: 0.6527 - accuracy: 0.7992\n",
      "Epoch 2/5\n",
      "1875/1875 [==============================] - 2s 908us/step - loss: 0.4485 - accuracy: 0.8624\n",
      "Epoch 3/5\n",
      "1875/1875 [==============================] - 2s 871us/step - loss: 0.4209 - accuracy: 0.8718\n",
      "Epoch 4/5\n",
      "1875/1875 [==============================] - 2s 910us/step - loss: 0.4101 - accuracy: 0.8747\n",
      "Epoch 5/5\n",
      "1875/1875 [==============================] - 2s 811us/step - loss: 0.3974 - accuracy: 0.8806\n",
      "313/313 [==============================] - 0s 642us/step - loss: 0.2493 - accuracy: 0.9281\n",
      "Starting Experiment: Experiment 11\n",
      "{'num_units': 17, 'dropout': 0.2, 'optimizer': 'sgd'}\n",
      "Epoch 1/5\n",
      "1875/1875 [==============================] - 2s 845us/step - loss: 0.9962 - accuracy: 0.6998\n",
      "Epoch 2/5\n",
      "1875/1875 [==============================] - 1s 772us/step - loss: 0.5791 - accuracy: 0.8253\n",
      "Epoch 3/5\n",
      "1875/1875 [==============================] - 2s 803us/step - loss: 0.5073 - accuracy: 0.8476\n",
      "Epoch 4/5\n",
      "1875/1875 [==============================] - 2s 806us/step - loss: 0.4698 - accuracy: 0.8597\n",
      "Epoch 5/5\n",
      "1875/1875 [==============================] - 2s 839us/step - loss: 0.4428 - accuracy: 0.8669\n",
      "313/313 [==============================] - 0s 1ms/step - loss: 0.2855 - accuracy: 0.9205\n"
     ]
    }
   ],
   "source": [
    "experiment_no = 0\n",
    "\n",
    "for num_units in HP_NUM_UNITS.domain.values:\n",
    "    for dropout_rate in (HP_DROPOUT.domain.min_value, HP_DROPOUT.domain.max_value):\n",
    "        for optimizer in HP_OPTIMIZER.domain.values:\n",
    "            hparams = {\n",
    "                HP_NUM_UNITS: num_units,\n",
    "                HP_DROPOUT: dropout_rate,\n",
    "                HP_OPTIMIZER: optimizer,}\n",
    "\n",
    "            experiment_name = f'Experiment {experiment_no}'\n",
    "            print(f'Starting Experiment: {experiment_name}')\n",
    "            print({h.name: hparams[h] for h in hparams})\n",
    "            experiment(logdir + '/' + experiment_name, hparams)\n",
    "            experiment_no += 1"
   ]
  },
  {
   "cell_type": "code",
   "execution_count": 46,
   "id": "1bdeed83-9aff-4d1f-b0a3-4fa4856e8a9d",
   "metadata": {},
   "outputs": [
    {
     "data": {
      "text/html": [
       "\n",
       "      <iframe id=\"tensorboard-frame-3d0d23ae7331606e\" width=\"100%\" height=\"800\" frameborder=\"0\">\n",
       "      </iframe>\n",
       "      <script>\n",
       "        (function() {\n",
       "          const frame = document.getElementById(\"tensorboard-frame-3d0d23ae7331606e\");\n",
       "          const url = new URL(\"/\", window.location);\n",
       "          const port = 6007;\n",
       "          if (port) {\n",
       "            url.port = port;\n",
       "          }\n",
       "          frame.src = url;\n",
       "        })();\n",
       "      </script>\n",
       "    "
      ],
      "text/plain": [
       "<IPython.core.display.HTML object>"
      ]
     },
     "metadata": {},
     "output_type": "display_data"
    }
   ],
   "source": [
    "%tensorboard --logdir $DIR/model4/logs"
   ]
  },
  {
   "cell_type": "markdown",
   "id": "40181910-5607-4421-b664-fdbbc99178d4",
   "metadata": {},
   "source": [
    "# Tensorboard example #5: Profiler (profile model computation performance)"
   ]
  },
  {
   "cell_type": "code",
   "execution_count": 49,
   "id": "10a4922e-620d-479b-a6db-777ab1836131",
   "metadata": {},
   "outputs": [],
   "source": [
    "#!pip install -U tensorboard_plugin_profile"
   ]
  },
  {
   "cell_type": "code",
   "execution_count": 50,
   "id": "240dca97-6f37-47b4-aed1-b90157358676",
   "metadata": {},
   "outputs": [
    {
     "ename": "SystemError",
     "evalue": "GPU device not found",
     "output_type": "error",
     "traceback": [
      "\u001b[0;31m---------------------------------------------------------------------------\u001b[0m",
      "\u001b[0;31mSystemError\u001b[0m                               Traceback (most recent call last)",
      "\u001b[0;32m/var/folders/q8/1gf829m141157nbz7kc4_19h00tb0q/T/ipykernel_68158/3621896738.py\u001b[0m in \u001b[0;36m<module>\u001b[0;34m\u001b[0m\n\u001b[1;32m      1\u001b[0m \u001b[0mdevice_name\u001b[0m \u001b[0;34m=\u001b[0m \u001b[0mtf\u001b[0m\u001b[0;34m.\u001b[0m\u001b[0mtest\u001b[0m\u001b[0;34m.\u001b[0m\u001b[0mgpu_device_name\u001b[0m\u001b[0;34m(\u001b[0m\u001b[0;34m)\u001b[0m\u001b[0;34m\u001b[0m\u001b[0;34m\u001b[0m\u001b[0m\n\u001b[1;32m      2\u001b[0m \u001b[0;32mif\u001b[0m \u001b[0;32mnot\u001b[0m \u001b[0mdevice_name\u001b[0m\u001b[0;34m:\u001b[0m\u001b[0;34m\u001b[0m\u001b[0;34m\u001b[0m\u001b[0m\n\u001b[0;32m----> 3\u001b[0;31m     \u001b[0;32mraise\u001b[0m \u001b[0mSystemError\u001b[0m\u001b[0;34m(\u001b[0m\u001b[0;34m'GPU device not found'\u001b[0m\u001b[0;34m)\u001b[0m\u001b[0;34m\u001b[0m\u001b[0;34m\u001b[0m\u001b[0m\n\u001b[0m\u001b[1;32m      4\u001b[0m \u001b[0mprint\u001b[0m\u001b[0;34m(\u001b[0m\u001b[0;34m'Found GPU at: {}'\u001b[0m\u001b[0;34m.\u001b[0m\u001b[0mformat\u001b[0m\u001b[0;34m(\u001b[0m\u001b[0mdevice_name\u001b[0m\u001b[0;34m)\u001b[0m\u001b[0;34m)\u001b[0m\u001b[0;34m\u001b[0m\u001b[0;34m\u001b[0m\u001b[0m\n",
      "\u001b[0;31mSystemError\u001b[0m: GPU device not found"
     ]
    }
   ],
   "source": [
    "device_name = tf.test.gpu_device_name()\n",
    "if not device_name:\n",
    "    raise SystemError('GPU device not found')\n",
    "print('Found GPU at: {}'.format(device_name))"
   ]
  },
  {
   "cell_type": "code",
   "execution_count": 51,
   "id": "fdc0285c-5038-4bf8-8b15-e9e0270db413",
   "metadata": {},
   "outputs": [],
   "source": [
    "logdir = DIR + \"model5/logs\""
   ]
  },
  {
   "cell_type": "code",
   "execution_count": 52,
   "id": "cf84d27b-ea21-4912-bad8-1cc7ea305b55",
   "metadata": {},
   "outputs": [
    {
     "name": "stderr",
     "output_type": "stream",
     "text": [
      "2022-06-24 09:43:17.346132: I tensorflow/core/profiler/lib/profiler_session.cc:110] Profiler session initializing.\n",
      "2022-06-24 09:43:17.346151: I tensorflow/core/profiler/lib/profiler_session.cc:125] Profiler session started.\n",
      "2022-06-24 09:43:17.348633: I tensorflow/core/profiler/lib/profiler_session.cc:143] Profiler session tear down.\n"
     ]
    }
   ],
   "source": [
    "callbacks = [TensorBoard(log_dir=logdir, profile_batch='10,20')]"
   ]
  },
  {
   "cell_type": "code",
   "execution_count": 53,
   "id": "c602f837-26b4-481b-8cbe-ed96ba2b6e33",
   "metadata": {},
   "outputs": [],
   "source": [
    "model = tf.keras.models.Sequential([\n",
    "  tf.keras.layers.Flatten(input_shape=(28, 28)),\n",
    "  tf.keras.layers.Dense(512, activation='relu'),\n",
    "  tf.keras.layers.Dropout(0.2),\n",
    "  tf.keras.layers.Dense(10, activation='softmax')])\n",
    "\n",
    "model.compile(optimizer='sgd', loss='sparse_categorical_crossentropy',metrics=['accuracy'])"
   ]
  },
  {
   "cell_type": "code",
   "execution_count": 54,
   "id": "df400163-6c92-4c3f-b504-12ab11aa587c",
   "metadata": {},
   "outputs": [
    {
     "name": "stdout",
     "output_type": "stream",
     "text": [
      "Epoch 1/10\n",
      "  65/1500 [>.............................] - ETA: 4s - loss: 1.9957 - accuracy: 0.3952"
     ]
    },
    {
     "name": "stderr",
     "output_type": "stream",
     "text": [
      "2022-06-24 09:43:31.465327: I tensorflow/core/profiler/lib/profiler_session.cc:110] Profiler session initializing.\n",
      "2022-06-24 09:43:31.465345: I tensorflow/core/profiler/lib/profiler_session.cc:125] Profiler session started.\n",
      "2022-06-24 09:43:31.501790: I tensorflow/core/profiler/lib/profiler_session.cc:67] Profiler session collecting data.\n",
      "2022-06-24 09:43:31.509511: I tensorflow/core/profiler/lib/profiler_session.cc:143] Profiler session tear down.\n",
      "2022-06-24 09:43:31.515196: I tensorflow/core/profiler/rpc/client/save_profile.cc:136] Creating directory: temp/model5/logs/plugins/profile/2022_06_24_09_43_31\n",
      "\n",
      "2022-06-24 09:43:31.518796: I tensorflow/core/profiler/rpc/client/save_profile.cc:142] Dumped gzipped tool data for trace.json.gz to temp/model5/logs/plugins/profile/2022_06_24_09_43_31/mikegoodman-macbookpro3220520.roam.corp.google.com.trace.json.gz\n",
      "2022-06-24 09:43:31.523194: I tensorflow/core/profiler/rpc/client/save_profile.cc:136] Creating directory: temp/model5/logs/plugins/profile/2022_06_24_09_43_31\n",
      "\n",
      "2022-06-24 09:43:31.523544: I tensorflow/core/profiler/rpc/client/save_profile.cc:142] Dumped gzipped tool data for memory_profile.json.gz to temp/model5/logs/plugins/profile/2022_06_24_09_43_31/mikegoodman-macbookpro3220520.roam.corp.google.com.memory_profile.json.gz\n",
      "2022-06-24 09:43:31.524709: I tensorflow/core/profiler/rpc/client/capture_profile.cc:251] Creating directory: temp/model5/logs/plugins/profile/2022_06_24_09_43_31\n",
      "Dumped tool data for xplane.pb to temp/model5/logs/plugins/profile/2022_06_24_09_43_31/mikegoodman-macbookpro3220520.roam.corp.google.com.xplane.pb\n",
      "Dumped tool data for overview_page.pb to temp/model5/logs/plugins/profile/2022_06_24_09_43_31/mikegoodman-macbookpro3220520.roam.corp.google.com.overview_page.pb\n",
      "Dumped tool data for input_pipeline.pb to temp/model5/logs/plugins/profile/2022_06_24_09_43_31/mikegoodman-macbookpro3220520.roam.corp.google.com.input_pipeline.pb\n",
      "Dumped tool data for tensorflow_stats.pb to temp/model5/logs/plugins/profile/2022_06_24_09_43_31/mikegoodman-macbookpro3220520.roam.corp.google.com.tensorflow_stats.pb\n",
      "Dumped tool data for kernel_stats.pb to temp/model5/logs/plugins/profile/2022_06_24_09_43_31/mikegoodman-macbookpro3220520.roam.corp.google.com.kernel_stats.pb\n",
      "\n"
     ]
    },
    {
     "name": "stdout",
     "output_type": "stream",
     "text": [
      "1500/1500 [==============================] - 6s 3ms/step - loss: 0.6977 - accuracy: 0.8226 - val_loss: 0.3651 - val_accuracy: 0.9047\n",
      "Epoch 2/10\n",
      "1500/1500 [==============================] - 5s 3ms/step - loss: 0.3704 - accuracy: 0.8958 - val_loss: 0.2952 - val_accuracy: 0.9193\n",
      "Epoch 3/10\n",
      "1500/1500 [==============================] - 4s 3ms/step - loss: 0.3131 - accuracy: 0.9100 - val_loss: 0.2611 - val_accuracy: 0.9277\n",
      "Epoch 4/10\n",
      "1500/1500 [==============================] - 4s 3ms/step - loss: 0.2775 - accuracy: 0.9208 - val_loss: 0.2385 - val_accuracy: 0.9346\n",
      "Epoch 5/10\n",
      "1500/1500 [==============================] - 5s 3ms/step - loss: 0.2522 - accuracy: 0.9282 - val_loss: 0.2188 - val_accuracy: 0.9394\n",
      "Epoch 6/10\n",
      "1500/1500 [==============================] - 5s 3ms/step - loss: 0.2328 - accuracy: 0.9347 - val_loss: 0.2037 - val_accuracy: 0.9451\n",
      "Epoch 7/10\n",
      "1500/1500 [==============================] - 5s 3ms/step - loss: 0.2148 - accuracy: 0.9403 - val_loss: 0.1919 - val_accuracy: 0.9482\n",
      "Epoch 8/10\n",
      "1500/1500 [==============================] - 5s 3ms/step - loss: 0.1986 - accuracy: 0.9438 - val_loss: 0.1799 - val_accuracy: 0.9513\n",
      "Epoch 9/10\n",
      "1500/1500 [==============================] - 4s 3ms/step - loss: 0.1863 - accuracy: 0.9472 - val_loss: 0.1704 - val_accuracy: 0.9529\n",
      "Epoch 10/10\n",
      "1500/1500 [==============================] - 5s 3ms/step - loss: 0.1763 - accuracy: 0.9504 - val_loss: 0.1619 - val_accuracy: 0.9567\n"
     ]
    },
    {
     "data": {
      "text/plain": [
       "<keras.callbacks.History at 0x7f8d86618ee0>"
      ]
     },
     "execution_count": 54,
     "metadata": {},
     "output_type": "execute_result"
    }
   ],
   "source": [
    "model.fit(X_train2, y_train2, epochs=10, validation_split=0.2, callbacks=callbacks)"
   ]
  },
  {
   "cell_type": "code",
   "execution_count": 55,
   "id": "eb637bec-d798-40e2-874d-d45ebd0c83be",
   "metadata": {},
   "outputs": [
    {
     "data": {
      "text/html": [
       "\n",
       "      <iframe id=\"tensorboard-frame-78da91a2cda3e9e9\" width=\"100%\" height=\"800\" frameborder=\"0\">\n",
       "      </iframe>\n",
       "      <script>\n",
       "        (function() {\n",
       "          const frame = document.getElementById(\"tensorboard-frame-78da91a2cda3e9e9\");\n",
       "          const url = new URL(\"/\", window.location);\n",
       "          const port = 6008;\n",
       "          if (port) {\n",
       "            url.port = port;\n",
       "          }\n",
       "          frame.src = url;\n",
       "        })();\n",
       "      </script>\n",
       "    "
      ],
      "text/plain": [
       "<IPython.core.display.HTML object>"
      ]
     },
     "metadata": {},
     "output_type": "display_data"
    }
   ],
   "source": [
    "%tensorboard --logdir $DIR/model5/logs"
   ]
  },
  {
   "cell_type": "markdown",
   "id": "55b86cab-a9e4-49cc-ad8b-0eb3b5bcaa53",
   "metadata": {
    "jp-MarkdownHeadingCollapsed": true,
    "tags": []
   },
   "source": [
    "# Tensorboard example #6: Deep Learning Frameworks (WIP)"
   ]
  },
  {
   "cell_type": "code",
   "execution_count": null,
   "id": "e09c3973-dc9a-4bce-b696-a3790338c1d8",
   "metadata": {},
   "outputs": [],
   "source": [
    "from tensorboardX import SummaryWriter\n",
    "import xgboost as xgb\n",
    "\n",
    "# read in data\n",
    "dtrain = xgb.DMatrix(X_train1, y_train1)\n",
    "dtest = xgb.DMatrix(X_test1)\n",
    "\n",
    "# specify parameters via map\n",
    "param = {'max_depth':2, 'eta':1, 'objective':'binary:logistic' }\n",
    "num_round = 2\n",
    "\n",
    "def TensorBoardCallback():\n",
    "    writer = SummaryWriter()\n",
    "\n",
    "    def callback(env):\n",
    "        for k, v in env.evaluation_result_list:\n",
    "            writer.add_scalar(k, v, env.iteration)\n",
    "\n",
    "    return callback\n",
    "\n",
    "bst = xgb.train(param, dtrain, num_round, callbacks=[TensorBoardCallback()])\n",
    "\n",
    "# make prediction\n",
    "preds = bst.predict(dtest)\n",
    "preds"
   ]
  },
  {
   "cell_type": "code",
   "execution_count": null,
   "id": "7e9b261c-bb89-4907-bc6c-0bd6e1143c32",
   "metadata": {},
   "outputs": [],
   "source": [
    "from torch.utils.tensorboard import SummaryWriter\n",
    "\n",
    "writer = SummaryWriter(log_dir='logs')\n",
    "\n",
    "from torch.utils.tensorboard import SummaryWriter\n",
    "import numpy as np\n",
    "\n",
    "for n_iter in range(100):\n",
    "    writer.add_scalar('Loss/train', np.random.random(), n_iter)\n",
    "    writer.add_scalar('Loss/test', np.random.random(), n_iter)\n",
    "    writer.add_scalar('Accuracy/train', np.random.random(), n_iter)\n",
    "    writer.add_scalar('Accuracy/test', np.random.random(), n_iter)"
   ]
  },
  {
   "cell_type": "code",
   "execution_count": null,
   "id": "089f2b46-2966-4402-8c1e-68d0c37825d9",
   "metadata": {},
   "outputs": [],
   "source": [
    "# run in terminal to create tensorboard.dev project\n",
    "tensorboard dev upload --logdir logs \\\n",
    "--name \"(optional) My latest experiment\" \\\n",
    "--description \"(optional) Simple comparison of several hyperparameters\"\n",
    "\n",
    "# run in terminal to revoke access\n",
    "tensorboard dev auth revoke"
   ]
  },
  {
   "cell_type": "markdown",
   "id": "dcf0f3b2-d906-4f99-b83c-10c6dbc4f3fd",
   "metadata": {
    "jp-MarkdownHeadingCollapsed": true,
    "tags": []
   },
   "source": [
    "# Tensorboard example #7: Tensorboard with Vertex AI (WIP)"
   ]
  },
  {
   "cell_type": "code",
   "execution_count": null,
   "id": "4a5aa1dc-4da5-4acb-85b2-2260c155098f",
   "metadata": {},
   "outputs": [],
   "source": [
    "## complete section and upload to git\n",
    "# https://cloud.google.com/vertex-ai/docs/experiments/tensorboard-overview"
   ]
  },
  {
   "cell_type": "code",
   "execution_count": null,
   "id": "800795ec-e555-4a20-a9ca-6351cda1bf99",
   "metadata": {},
   "outputs": [],
   "source": []
  }
 ],
 "metadata": {
  "kernelspec": {
   "display_name": "Python 3 (ipykernel)",
   "language": "python",
   "name": "python3"
  },
  "language_info": {
   "codemirror_mode": {
    "name": "ipython",
    "version": 3
   },
   "file_extension": ".py",
   "mimetype": "text/x-python",
   "name": "python",
   "nbconvert_exporter": "python",
   "pygments_lexer": "ipython3",
   "version": "3.9.6"
  }
 },
 "nbformat": 4,
 "nbformat_minor": 5
}
