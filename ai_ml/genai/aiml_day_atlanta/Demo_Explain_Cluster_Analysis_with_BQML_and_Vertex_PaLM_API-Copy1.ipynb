{
 "cells": [
  {
   "cell_type": "markdown",
   "metadata": {
    "id": "Sxq-V_jV4gEk",
    "tags": []
   },
   "source": [
    "# Using the Vertex AI PaLM API to explain BQML Clustering - Our Very Own Persona Builder"
   ]
  },
  {
   "cell_type": "markdown",
   "metadata": {
    "tags": []
   },
   "source": [
    "## Here's what we're going to build:"
   ]
  },
  {
   "cell_type": "markdown",
   "metadata": {},
   "source": [
    "<p align=\"center\">\n",
    "  <img alt=\"Conceptual Flow\" src=\"slides/process0.png\" width=\"100%\">\n",
    "</p>"
   ]
  },
  {
   "cell_type": "markdown",
   "metadata": {
    "id": "sHoUOuxf5GOR",
    "tags": []
   },
   "source": [
    "# Core code\n",
    "Let's define some variables that will be used throughout this notebook.\n",
    "\n",
    "These are the GCP Project ID `project_id`, the Model name `model_name` which is any name you prefer, and finally the Dataset name `dataset_name`.\n",
    "The dataset needs to exist in the same Project as `project_id` and you'll need appropriate access to create and delete."
   ]
  },
  {
   "cell_type": "markdown",
   "metadata": {
    "tags": []
   },
   "source": [
    "## Setup"
   ]
  },
  {
   "cell_type": "code",
   "execution_count": 20,
   "metadata": {
    "id": "fU3_zsLsZ89c"
   },
   "outputs": [],
   "source": [
    "from typing import Union\n",
    "import sys\n",
    "\n",
    "import os\n",
    "import io\n",
    "import json\n",
    "import base64\n",
    "import requests\n",
    "import concurrent.futures\n",
    "import time\n",
    "\n",
    "import numpy as np\n",
    "import pandas as pd\n",
    "\n",
    "import vertexai.preview.language_models\n",
    "from google.cloud import aiplatform\n",
    "from google.cloud import documentai\n",
    "from google.cloud.documentai_v1 import Document\n",
    "from google.cloud import storage\n",
    "from google.cloud import bigquery\n",
    "\n",
    "from IPython.display import display, Markdown, Latex\n"
   ]
  },
  {
   "cell_type": "code",
   "execution_count": 2,
   "metadata": {
    "id": "_3Rfhx874F2J"
   },
   "outputs": [],
   "source": [
    "PROJECT_ID = 'mg-ce-demos'\n",
    "REGION = 'us-central1'\n",
    "DATASET = \"bqml_demos\" \n",
    "BQML_MODEL = \"ecommerce_customer_segment_cluster5\" \n",
    "EVAL = BQML_MODEL + \"_eval\"\n"
   ]
  },
  {
   "cell_type": "code",
   "execution_count": 3,
   "metadata": {},
   "outputs": [],
   "source": [
    "# vertex ai clients\n",
    "vertexai.init(project = PROJECT_ID, location = REGION)\n",
    "aiplatform.init(project = PROJECT_ID, location = REGION)\n",
    "\n",
    "# bigquery client\n",
    "bq = bigquery.Client(project = PROJECT_ID)"
   ]
  },
  {
   "cell_type": "markdown",
   "metadata": {
    "id": "WnXQQOAc4t22",
    "tags": []
   },
   "source": [
    "## Create a K-means model to cluster ecommerce data"
   ]
  },
  {
   "cell_type": "markdown",
   "metadata": {},
   "source": [
    "### Let's look at the data first"
   ]
  },
  {
   "cell_type": "markdown",
   "metadata": {},
   "source": [
    "<p align=\"center\">\n",
    "  <img alt=\"Conceptual Flow\" src=\"slides/process1.png\" width=\"100%\">\n",
    "</p>"
   ]
  },
  {
   "cell_type": "code",
   "execution_count": 4,
   "metadata": {
    "colab": {
     "base_uri": "https://localhost:8080/",
     "height": 206
    },
    "id": "V6-JiJZBGmO7",
    "outputId": "88ba2b72-5c73-434f-94ea-5025ec7f7e7c"
   },
   "outputs": [
    {
     "data": {
      "text/html": [
       "<div>\n",
       "<style scoped>\n",
       "    .dataframe tbody tr th:only-of-type {\n",
       "        vertical-align: middle;\n",
       "    }\n",
       "\n",
       "    .dataframe tbody tr th {\n",
       "        vertical-align: top;\n",
       "    }\n",
       "\n",
       "    .dataframe thead th {\n",
       "        text-align: right;\n",
       "    }\n",
       "</style>\n",
       "<table border=\"1\" class=\"dataframe\">\n",
       "  <thead>\n",
       "    <tr style=\"text-align: right;\">\n",
       "      <th></th>\n",
       "      <th>user_id</th>\n",
       "      <th>order_id</th>\n",
       "      <th>sale_price</th>\n",
       "      <th>order_created_date</th>\n",
       "    </tr>\n",
       "  </thead>\n",
       "  <tbody>\n",
       "    <tr>\n",
       "      <th>0</th>\n",
       "      <td>40085</td>\n",
       "      <td>50021</td>\n",
       "      <td>2.5</td>\n",
       "      <td>2023-04-07 08:09:34+00:00</td>\n",
       "    </tr>\n",
       "    <tr>\n",
       "      <th>1</th>\n",
       "      <td>90363</td>\n",
       "      <td>112961</td>\n",
       "      <td>2.5</td>\n",
       "      <td>2022-12-25 23:23:29+00:00</td>\n",
       "    </tr>\n",
       "    <tr>\n",
       "      <th>2</th>\n",
       "      <td>3922</td>\n",
       "      <td>4887</td>\n",
       "      <td>2.5</td>\n",
       "      <td>2022-09-29 13:47:16+00:00</td>\n",
       "    </tr>\n",
       "    <tr>\n",
       "      <th>3</th>\n",
       "      <td>56076</td>\n",
       "      <td>70152</td>\n",
       "      <td>2.5</td>\n",
       "      <td>2022-03-27 03:01:23+00:00</td>\n",
       "    </tr>\n",
       "    <tr>\n",
       "      <th>4</th>\n",
       "      <td>90828</td>\n",
       "      <td>113540</td>\n",
       "      <td>2.5</td>\n",
       "      <td>2023-03-18 08:30:11+00:00</td>\n",
       "    </tr>\n",
       "  </tbody>\n",
       "</table>\n",
       "</div>"
      ],
      "text/plain": [
       "   user_id  order_id  sale_price        order_created_date\n",
       "0    40085     50021         2.5 2023-04-07 08:09:34+00:00\n",
       "1    90363    112961         2.5 2022-12-25 23:23:29+00:00\n",
       "2     3922      4887         2.5 2022-09-29 13:47:16+00:00\n",
       "3    56076     70152         2.5 2022-03-27 03:01:23+00:00\n",
       "4    90828    113540         2.5 2023-03-18 08:30:11+00:00"
      ]
     },
     "execution_count": 4,
     "metadata": {},
     "output_type": "execute_result"
    }
   ],
   "source": [
    "query = \"\"\"\n",
    "SELECT\n",
    "  user_id,\n",
    "  order_id,\n",
    "  sale_price,\n",
    "  created_at as order_created_date\n",
    "FROM `mg-ce-demos.thelook_ecommerce.order_items`\n",
    "WHERE created_at BETWEEN CAST('2022-01-01 00:00:00' AS TIMESTAMP)\n",
    "AND CAST('2024-01-01 00:00:00' AS TIMESTAMP)\n",
    "\"\"\"\n",
    "df = bq.query(query).to_dataframe()\n",
    "df.head()\n"
   ]
  },
  {
   "cell_type": "markdown",
   "metadata": {
    "id": "jQKfCgZ9FZH5",
    "tags": []
   },
   "source": [
    "### `CREATE MODEL` using `KMEANS`\n",
    "\n",
    "Create a query then start the model creation job, using a python loop to wait for the job to complete"
   ]
  },
  {
   "cell_type": "markdown",
   "metadata": {},
   "source": [
    "<p align=\"center\">\n",
    "  <img alt=\"Conceptual Flow\" src=\"slides/process2.png\" width=\"100%\">\n",
    "</p>"
   ]
  },
  {
   "cell_type": "code",
   "execution_count": 5,
   "metadata": {
    "id": "KiB2gPEvFkkd"
   },
   "outputs": [],
   "source": [
    "query = \"\"\"\n",
    "CREATE MODEL IF NOT EXISTS `{0}.{1}`\n",
    "OPTIONS (\n",
    "  MODEL_TYPE = \"KMEANS\",\n",
    "  NUM_CLUSTERS = 5,\n",
    "  KMEANS_INIT_METHOD = \"KMEANS++\",\n",
    "  STANDARDIZE_FEATURES = TRUE )\n",
    "AS (\n",
    "SELECT * EXCEPT (user_id)\n",
    "FROM (\n",
    "  SELECT user_id,\n",
    "    DATE_DIFF(CURRENT_DATE(), CAST(MAX(order_created_date) as DATE), day) AS days_since_order, -- RECENCY\n",
    "    COUNT(order_id) AS count_orders, -- FREQUENCY\n",
    "    AVG(sale_price) AS avg_spend -- MONETARY\n",
    "  FROM (\n",
    "    SELECT user_id,\n",
    "      order_id,\n",
    "      sale_price,\n",
    "      created_at as order_created_date\n",
    "    FROM `mg-ce-demos.thelook_ecommerce.order_items`\n",
    "    WHERE created_at BETWEEN CAST('2022-01-01 00:00:00' AS TIMESTAMP)\n",
    "    AND CAST('2024-01-01 00:00:00' AS TIMESTAMP)\n",
    "  )\n",
    "  GROUP BY user_id, order_id\n",
    " )\n",
    ")\n",
    "\"\"\".format(DATASET, BQML_MODEL)\n"
   ]
  },
  {
   "cell_type": "code",
   "execution_count": 6,
   "metadata": {
    "id": "_9lZPWXtNwbN"
   },
   "outputs": [],
   "source": [
    "# Wrapper to use BigQuery client to run query/job, return job ID or result as DF\n",
    "def run_bq_query(sql: str) -> Union[str, pd.DataFrame]:\n",
    "    \n",
    "    # Try dry run before executing query to catch any errors\n",
    "    #job_config = bigquery.QueryJobConfig(dry_run=True, use_query_cache=False)\n",
    "    #bq.query(sql, job_config=job_config)\n",
    "\n",
    "    # If dry run succeeds without errors, proceed to run query\n",
    "    job_config = bigquery.QueryJobConfig()\n",
    "    client_result = bq.query(sql, job_config=job_config)\n",
    "\n",
    "    job_id = client_result.job_id\n",
    "\n",
    "    # Wait for query/job to finish running. then get & return data frame\n",
    "    df = client_result.result().to_arrow().to_pandas()\n",
    "    print(f\"Finished job_id: {job_id}\")\n",
    "    return df"
   ]
  },
  {
   "cell_type": "code",
   "execution_count": 7,
   "metadata": {
    "colab": {
     "base_uri": "https://localhost:8080/",
     "height": 615
    },
    "id": "0RqNFZdVKDW6",
    "outputId": "33ea669b-40a8-4b16-b32d-bbc0b164d23b"
   },
   "outputs": [
    {
     "name": "stdout",
     "output_type": "stream",
     "text": [
      "Finished job_id: ae17b3bd-313c-4263-abb7-caa10e0dad68\n",
      "Finished job_id: eb51865d-3960-4109-89b1-512f056917ee\n",
      "Finished job_id: 7dd2735f-952d-44c7-81ef-e5d51a2ea21d\n",
      "Finished job_id: cf4e3aec-91c4-4af9-a7e3-fe7d57a89b17\n",
      "Finished job_id: 16629d23-892c-4193-be66-28e7ea9ec8f7\n",
      "Finished job_id: 8431ff9f-0eb9-4284-9464-9f97aa89bf49\n",
      "Finished job_id: 10f6b640-0dbf-4541-8021-b67a82318901\n",
      "Finished job_id: 2520b917-b6f7-4b88-850b-298a6d116f52\n",
      "The slowest run took 9.47 times longer than the fastest. This could mean that an intermediate result is being cached.\n",
      "1.69 s ± 2.03 s per loop (mean ± std. dev. of 7 runs, 1 loop each)\n"
     ]
    }
   ],
   "source": [
    "%%timeit\n",
    "\n",
    "run_bq_query(query)"
   ]
  },
  {
   "cell_type": "markdown",
   "metadata": {
    "id": "mYN7F_f3PeE5"
   },
   "source": [
    "Let's take a look at the model's clustering performance, using these metrics - Davies Bouldin Index and Mean Squared Distance"
   ]
  },
  {
   "cell_type": "code",
   "execution_count": 8,
   "metadata": {
    "colab": {
     "base_uri": "https://localhost:8080/",
     "height": 98
    },
    "id": "wDy9-26SFnuS",
    "outputId": "9cfb0a00-d7eb-470c-ef9f-d709d5b6bbb7"
   },
   "outputs": [
    {
     "name": "stdout",
     "output_type": "stream",
     "text": [
      "Finished job_id: 4caa110f-7915-4686-a349-66772d3f74de\n"
     ]
    },
    {
     "data": {
      "text/html": [
       "<div>\n",
       "<style scoped>\n",
       "    .dataframe tbody tr th:only-of-type {\n",
       "        vertical-align: middle;\n",
       "    }\n",
       "\n",
       "    .dataframe tbody tr th {\n",
       "        vertical-align: top;\n",
       "    }\n",
       "\n",
       "    .dataframe thead th {\n",
       "        text-align: right;\n",
       "    }\n",
       "</style>\n",
       "<table border=\"1\" class=\"dataframe\">\n",
       "  <thead>\n",
       "    <tr style=\"text-align: right;\">\n",
       "      <th></th>\n",
       "      <th>davies_bouldin_index</th>\n",
       "      <th>mean_squared_distance</th>\n",
       "    </tr>\n",
       "  </thead>\n",
       "  <tbody>\n",
       "    <tr>\n",
       "      <th>0</th>\n",
       "      <td>1.023378</td>\n",
       "      <td>1.051785</td>\n",
       "    </tr>\n",
       "  </tbody>\n",
       "</table>\n",
       "</div>"
      ],
      "text/plain": [
       "   davies_bouldin_index  mean_squared_distance\n",
       "0              1.023378               1.051785"
      ]
     },
     "execution_count": 8,
     "metadata": {},
     "output_type": "execute_result"
    }
   ],
   "source": [
    "query = \"\"\"\n",
    "SELECT *\n",
    "FROM ML.EVALUATE(MODEL `{0}.{1}`)\n",
    "\"\"\".format(DATASET, BQML_MODEL)\n",
    "\n",
    "run_bq_query(query)"
   ]
  },
  {
   "cell_type": "markdown",
   "metadata": {
    "id": "t1RNh1NqPpJ2"
   },
   "source": [
    "### Now let's get the cluster (centroid) information"
   ]
  },
  {
   "cell_type": "markdown",
   "metadata": {},
   "source": [
    "<p align=\"center\">\n",
    "  <img alt=\"Conceptual Flow\" src=\"slides/process3.png\" width=\"100%\">\n",
    "</p>"
   ]
  },
  {
   "cell_type": "code",
   "execution_count": 9,
   "metadata": {
    "colab": {
     "base_uri": "https://localhost:8080/",
     "height": 224
    },
    "id": "H2czyn5zPvhJ",
    "outputId": "01887c23-2c83-44fc-ae8a-366ba2f9c828"
   },
   "outputs": [
    {
     "name": "stdout",
     "output_type": "stream",
     "text": [
      "Finished job_id: f6e92809-3b1e-4ccf-8566-0c5e66af58d5\n"
     ]
    },
    {
     "data": {
      "text/html": [
       "<div>\n",
       "<style scoped>\n",
       "    .dataframe tbody tr th:only-of-type {\n",
       "        vertical-align: middle;\n",
       "    }\n",
       "\n",
       "    .dataframe tbody tr th {\n",
       "        vertical-align: top;\n",
       "    }\n",
       "\n",
       "    .dataframe thead th {\n",
       "        text-align: right;\n",
       "    }\n",
       "</style>\n",
       "<table border=\"1\" class=\"dataframe\">\n",
       "  <thead>\n",
       "    <tr style=\"text-align: right;\">\n",
       "      <th></th>\n",
       "      <th>centroid</th>\n",
       "      <th>average_spend</th>\n",
       "      <th>count_of_orders</th>\n",
       "      <th>days_since_order</th>\n",
       "    </tr>\n",
       "  </thead>\n",
       "  <tbody>\n",
       "    <tr>\n",
       "      <th>0</th>\n",
       "      <td>cluster 1</td>\n",
       "      <td>49.44</td>\n",
       "      <td>1.23</td>\n",
       "      <td>102.87</td>\n",
       "    </tr>\n",
       "    <tr>\n",
       "      <th>1</th>\n",
       "      <td>cluster 2</td>\n",
       "      <td>59.56</td>\n",
       "      <td>3.51</td>\n",
       "      <td>87.90</td>\n",
       "    </tr>\n",
       "    <tr>\n",
       "      <th>2</th>\n",
       "      <td>cluster 3</td>\n",
       "      <td>251.34</td>\n",
       "      <td>1.14</td>\n",
       "      <td>205.85</td>\n",
       "    </tr>\n",
       "    <tr>\n",
       "      <th>3</th>\n",
       "      <td>cluster 4</td>\n",
       "      <td>57.47</td>\n",
       "      <td>3.49</td>\n",
       "      <td>354.32</td>\n",
       "    </tr>\n",
       "    <tr>\n",
       "      <th>4</th>\n",
       "      <td>cluster 5</td>\n",
       "      <td>48.87</td>\n",
       "      <td>1.22</td>\n",
       "      <td>376.50</td>\n",
       "    </tr>\n",
       "  </tbody>\n",
       "</table>\n",
       "</div>"
      ],
      "text/plain": [
       "    centroid  average_spend  count_of_orders  days_since_order\n",
       "0  cluster 1          49.44             1.23            102.87\n",
       "1  cluster 2          59.56             3.51             87.90\n",
       "2  cluster 3         251.34             1.14            205.85\n",
       "3  cluster 4          57.47             3.49            354.32\n",
       "4  cluster 5          48.87             1.22            376.50"
      ]
     },
     "execution_count": 9,
     "metadata": {},
     "output_type": "execute_result"
    }
   ],
   "source": [
    "query = \"\"\"\n",
    "SELECT\n",
    "  CONCAT('cluster ', CAST(centroid_id as STRING)) as centroid,\n",
    "  avg_spend as average_spend,\n",
    "  count_orders as count_of_orders,\n",
    "  days_since_order\n",
    "FROM (\n",
    "  SELECT centroid_id, feature, ROUND(numerical_value, 2) as value\n",
    "  FROM ML.CENTROIDS(MODEL `{0}.{1}`)\n",
    ")\n",
    "PIVOT (\n",
    "  SUM(value)\n",
    "  FOR feature IN ('avg_spend',  'count_orders', 'days_since_order')\n",
    ")\n",
    "ORDER BY centroid_id\n",
    "\"\"\".format(DATASET, BQML_MODEL)\n",
    "\n",
    "run_bq_query(query)"
   ]
  },
  {
   "cell_type": "markdown",
   "metadata": {
    "id": "Xhha_o_qPwJY"
   },
   "source": [
    "Whew! That's a lot of metrics and cluster info. How about we explain this to our colleagues using the magic of LLMs."
   ]
  },
  {
   "cell_type": "code",
   "execution_count": 10,
   "metadata": {
    "colab": {
     "base_uri": "https://localhost:8080/"
    },
    "id": "AWzyZUFdRQll",
    "outputId": "12058437-f5e8-4877-b6d1-2bcf976495e7"
   },
   "outputs": [
    {
     "name": "stdout",
     "output_type": "stream",
     "text": [
      "cluster 1, average spend $49.44, count of orders per person 1.23, days since last order 102.87\n",
      "cluster 2, average spend $59.56, count of orders per person 3.51, days since last order 87.9\n",
      "cluster 3, average spend $251.34, count of orders per person 1.14, days since last order 205.85\n",
      "cluster 4, average spend $57.47, count of orders per person 3.49, days since last order 354.32\n",
      "cluster 5, average spend $48.87, count of orders per person 1.22, days since last order 376.5\n"
     ]
    }
   ],
   "source": [
    "df = bq.query(query).to_dataframe()\n",
    "df.to_string(header=False, index=False)\n",
    "\n",
    "cluster_info = []\n",
    "for i, row in df.iterrows():\n",
    "  cluster_info.append(\"{0}, average spend ${2}, count of orders per person {1}, days since last order {3}\"\n",
    "    .format(row[\"centroid\"], row[\"count_of_orders\"], row[\"average_spend\"], row[\"days_since_order\"]) )\n",
    "\n",
    "print(str.join(\"\\n\", cluster_info))"
   ]
  },
  {
   "cell_type": "markdown",
   "metadata": {
    "id": "7Na0_rVVLhOk",
    "tags": []
   },
   "source": [
    "## Explain with Vertex AI PaLM API"
   ]
  },
  {
   "cell_type": "markdown",
   "metadata": {
    "id": "tdoRB7RjLso6"
   },
   "source": [
    "### First, we want to instantiate the large language model and create the prompt"
   ]
  },
  {
   "cell_type": "markdown",
   "metadata": {},
   "source": [
    "<p align=\"center\">\n",
    "  <img alt=\"Conceptual Flow\" src=\"slides/process4.png\" width=\"100%\">\n",
    "</p>"
   ]
  },
  {
   "cell_type": "code",
   "execution_count": 11,
   "metadata": {},
   "outputs": [],
   "source": [
    "textgen_model = vertexai.preview.language_models.TextGenerationModel.from_pretrained('text-bison@001')"
   ]
  },
  {
   "cell_type": "code",
   "execution_count": 12,
   "metadata": {
    "colab": {
     "base_uri": "https://localhost:8080/"
    },
    "id": "MYwQNH0ELu9y",
    "outputId": "2204e6ec-e489-40e7-8cc3-485578ca5302",
    "tags": []
   },
   "outputs": [
    {
     "data": {
      "text/markdown": [
       "## Prompt:"
      ],
      "text/plain": [
       "<IPython.core.display.Markdown object>"
      ]
     },
     "metadata": {},
     "output_type": "display_data"
    },
    {
     "name": "stdout",
     "output_type": "stream",
     "text": [
      "Pretend you're a creative strategist, given the following clusters come up with creative brand persona and title labels for each of these clusters, and explain step by step; what would be the next marketing step for these clusters:\n",
      "\n",
      "\n",
      "cluster 1, average spend $49.44, count of orders per person 1.23, days since last order 102.87\n",
      "cluster 2, average spend $59.56, count of orders per person 3.51, days since last order 87.9\n",
      "cluster 3, average spend $251.34, count of orders per person 1.14, days since last order 205.85\n",
      "cluster 4, average spend $57.47, count of orders per person 3.49, days since last order 354.32\n",
      "cluster 5, average spend $48.87, count of orders per person 1.22, days since last order 376.5\n"
     ]
    }
   ],
   "source": [
    "preamble = \"Pretend you're a creative strategist, given the following clusters come up with creative brand persona and title labels for each of these clusters, and explain step by step; what would be the next marketing step for these clusters:\"\n",
    "display(Markdown('## Prompt:'))\n",
    "print(preamble)\n",
    "print('\\n')\n",
    "print(str.join(\"\\n\", cluster_info))"
   ]
  },
  {
   "cell_type": "markdown",
   "metadata": {},
   "source": [
    "### Now, we send our prompt to Google GenAI API for some LLM magic"
   ]
  },
  {
   "cell_type": "markdown",
   "metadata": {},
   "source": [
    "<p align=\"center\">\n",
    "  <img alt=\"Conceptual Flow\" src=\"slides/process5.png\" width=\"100%\">\n",
    "</p>"
   ]
  },
  {
   "cell_type": "code",
   "execution_count": 13,
   "metadata": {},
   "outputs": [
    {
     "data": {
      "text/markdown": [
       "## Response:"
      ],
      "text/plain": [
       "<IPython.core.display.Markdown object>"
      ]
     },
     "metadata": {},
     "output_type": "display_data"
    },
    {
     "data": {
      "text/markdown": [
       "* **Cluster 1: The Occasional Purchaser**\n",
       "\n",
       "This cluster is made up of customers who make small, infrequent purchases. They are typically looking for something specific and are not interested in browsing or exploring. The average spend in this cluster is $49.44, the count of orders per person is 1.23, and the days since last order is 102.87.\n",
       "\n",
       "The next marketing step for this cluster would be to focus on creating awareness of the brand and driving traffic to the website. This could be done through paid advertising, social media marketing, or email marketing. Once customers are aware of the brand, they can be targeted with offers and promotions that encourage them to make a purchase.\n",
       "\n",
       "* **Cluster 2: The Frequent Shopper**\n",
       "\n",
       "This cluster is made up of customers who make frequent, small purchases. They are typically looking for everyday essentials and are not interested in spending a lot of money. The average spend in this cluster is $59.56, the count of orders per person is 3.51, and the days since last order is 87.9.\n",
       "\n",
       "The next marketing step for this cluster would be to focus on providing convenience and value. This could be done through offering free shipping, fast delivery, and a wide variety of products. The brand could also consider developing a loyalty program to reward customers for their repeat business.\n",
       "\n",
       "* **Cluster 3: The Luxury Buyer**\n",
       "\n",
       "This cluster is made up of customers who make large, infrequent purchases. They are typically looking for high-quality products and are willing to pay a premium for them. The average spend in this cluster is $251.34, the count of orders per person is 1.14, and the days since last order is 205.85.\n",
       "\n",
       "The next marketing step for this cluster would be to focus on creating a sense of exclusivity and luxury. This could be done through using high-quality imagery and copy, and by offering exclusive products and services. The brand could also consider partnering with influencers or celebrities to help generate awareness and excitement.\n",
       "\n",
       "* **Cluster 4: The Loyal Customer**\n",
       "\n",
       "This cluster is made up of customers who make regular, medium-sized purchases. They are typically loyal to the brand and are not interested in shopping around. The average spend in this cluster is $57.47, the count of orders per person is 3.49, and the days since last order is 354.32.\n",
       "\n",
       "The next marketing step for this cluster would be to focus on maintaining and growing their loyalty. This could be done through offering personalized service, rewards programs, and exclusive promotions. The brand could also consider developing new products and services that appeal to this group of customers.\n",
       "\n",
       "* **Cluster 5: The Forgotten Customer**\n",
       "\n",
       "This cluster is made up of customers who have not made a purchase in a long time. They may have forgotten about the brand or they may have found a new one. The average spend in this cluster is $48.87, the count of orders per person is 1.22, and the days since last order is 376.5.\n",
       "\n",
       "The next marketing step for this cluster would be to re-engage them with the brand. This could be done through email marketing, social media marketing, or direct mail. The brand could also consider offering a special promotion or discount to encourage them to make a purchase."
      ],
      "text/plain": [
       "<IPython.core.display.Markdown object>"
      ]
     },
     "metadata": {},
     "output_type": "display_data"
    }
   ],
   "source": [
    "display(Markdown('## Response:'))\n",
    "# Send prompt to LLM\n",
    "display(Markdown(str(textgen_model.predict(\n",
    "   preamble + \"\\n\" + str.join(\"\\n\", cluster_info),\n",
    "    max_output_tokens=1024,\n",
    "    temperature=0.35,\n",
    "    top_p=0.8,\n",
    "    top_k=40,\n",
    "))))"
   ]
  },
  {
   "cell_type": "markdown",
   "metadata": {
    "id": "jqC5uUguaunY"
   },
   "source": [
    "Voila! We've now used k-means clustering to create groups of spenders and explain their profiles."
   ]
  },
  {
   "cell_type": "markdown",
   "metadata": {
    "id": "5HEVHGmmRyGW"
   },
   "source": [
    "Sometimes, though, you want a little bit [extra](https://cloud.google.com/blog/transform/prompt-debunking-five-generative-ai-misconceptions)."
   ]
  },
  {
   "cell_type": "code",
   "execution_count": 14,
   "metadata": {
    "colab": {
     "base_uri": "https://localhost:8080/"
    },
    "id": "3HgwtN1tR3xQ",
    "outputId": "92324c01-5949-49d2-c62d-b6ca35cea2d7"
   },
   "outputs": [
    {
     "data": {
      "text/markdown": [
       "## Prompt:"
      ],
      "text/plain": [
       "<IPython.core.display.Markdown object>"
      ]
     },
     "metadata": {},
     "output_type": "display_data"
    },
    {
     "name": "stdout",
     "output_type": "stream",
     "text": [
      "Pretend you're a creative strategist, analyse the following clusters and come up with creative brand persona for each that includes the detail of their favorite movie, a summary of how this relates to their purchasing behavior, and a witty e-mail headline for marketing campaign targeted to their group:\n",
      "\n",
      "\n",
      "cluster 1, average spend $49.44, count of orders per person 1.23, days since last order 102.87\n",
      "cluster 2, average spend $59.56, count of orders per person 3.51, days since last order 87.9\n",
      "cluster 3, average spend $251.34, count of orders per person 1.14, days since last order 205.85\n",
      "cluster 4, average spend $57.47, count of orders per person 3.49, days since last order 354.32\n",
      "cluster 5, average spend $48.87, count of orders per person 1.22, days since last order 376.5\n"
     ]
    },
    {
     "data": {
      "text/markdown": [
       "## Response:"
      ],
      "text/plain": [
       "<IPython.core.display.Markdown object>"
      ]
     },
     "metadata": {},
     "output_type": "display_data"
    },
    {
     "data": {
      "text/markdown": [
       "8 **Cluster 1: The Bargain Hunter**\n",
       "\n",
       "This customer is always looking for a good deal. They love the movie \"The Princess Bride\" because it's a classic that never gets old. They are drawn to the movie's humor, adventure, and romance. This customer is likely to be interested in our products because they are affordable and offer good value.\n",
       "\n",
       "**E-mail Headline:** Save big on your next purchase!\n",
       "\n",
       "**Cluster 2: The Frequent Shopper**\n",
       "\n",
       "This customer loves to shop and they are always looking for new products to try. They love the movie \"Mean Girls\" because it's a funny and relatable story about high school. This customer is likely to be interested in our products because they are new and exciting.\n",
       "\n",
       "**E-mail Headline:** New arrivals you won't want to miss!\n",
       "\n",
       "**Cluster 3: The Luxury Seeker**\n",
       "\n",
       "This customer is looking for the best of the best. They love the movie \"The Great Gatsby\" because it's a visually stunning and luxurious film. This customer is likely to be interested in our products because they are high-quality and stylish.\n",
       "\n",
       "**E-mail Headline:** Treat yourself to something special!\n",
       "\n",
       "**Cluster 4: The Family Oriented**\n",
       "\n",
       "This customer loves to spend time with their family. They love the movie \"Home Alone\" because it's a heartwarming and funny story about family. This customer is likely to be interested in our products because they are fun and family-friendly.\n",
       "\n",
       "**E-mail Headline:** The perfect gift for the whole family!\n",
       "\n",
       "**Cluster 5: The Patient Saver**\n",
       "\n",
       "This customer is willing to wait for a good deal. They love the movie \"The Shawshank Redemption\" because it's a story about hope and perseverance. This customer is likely to be interested in our products because they are well-made and durable.\n",
       "\n",
       "**E-mail Headline:** The best things come to those who wait!"
      ],
      "text/plain": [
       "<IPython.core.display.Markdown object>"
      ]
     },
     "metadata": {},
     "output_type": "display_data"
    }
   ],
   "source": [
    "preamble = \"Pretend you're a creative strategist, analyse the following clusters and come up with creative brand persona for each that includes the detail of their favorite movie, a summary of how this relates to their purchasing behavior, and a witty e-mail headline for marketing campaign targeted to their group:\"\n",
    "\n",
    "display(Markdown('## Prompt:'))\n",
    "print(preamble)\n",
    "print('\\n')\n",
    "print(str.join(\"\\n\", cluster_info))\n",
    "display(Markdown('## Response:'))\n",
    "display(Markdown(str(textgen_model.predict(\n",
    "   preamble + \"\\n\" + str.join(\"\\n\", cluster_info),\n",
    "    max_output_tokens=1024,\n",
    "    temperature=0.35,\n",
    "    top_p=0.8,\n",
    "    top_k=40,\n",
    "))))"
   ]
  },
  {
   "cell_type": "code",
   "execution_count": 19,
   "metadata": {},
   "outputs": [
    {
     "data": {
      "text/markdown": [
       "## Prompt:"
      ],
      "text/plain": [
       "<IPython.core.display.Markdown object>"
      ]
     },
     "metadata": {},
     "output_type": "display_data"
    },
    {
     "name": "stdout",
     "output_type": "stream",
     "text": [
      "Pretend you're a creative strategist, analyse the following clusters and come up with creative brand persona for each that includes the detail of their favorite food and a detailed description of an image containing their favorite food:\n",
      "\n",
      "\n",
      "cluster 1, average spend $49.44, count of orders per person 1.23, days since last order 102.87\n",
      "cluster 2, average spend $59.56, count of orders per person 3.51, days since last order 87.9\n",
      "cluster 3, average spend $251.34, count of orders per person 1.14, days since last order 205.85\n",
      "cluster 4, average spend $57.47, count of orders per person 3.49, days since last order 354.32\n",
      "cluster 5, average spend $48.87, count of orders per person 1.22, days since last order 376.5\n"
     ]
    },
    {
     "data": {
      "text/markdown": [
       "## Response:"
      ],
      "text/plain": [
       "<IPython.core.display.Markdown object>"
      ]
     },
     "metadata": {},
     "output_type": "display_data"
    },
    {
     "data": {
      "text/markdown": [
       "3 **Cluster 1: The Casual Diner**\n",
       "\n",
       "This cluster is made up of people who enjoy casual dining experiences. They typically order one or two dishes per person and spend around $50 per order. They dine out about once every two weeks.\n",
       "\n",
       "The Casual Diner's favorite food is pizza. They love the combination of crispy crust, gooey cheese, and flavorful toppings. They would love an image of a pizza with a perfectly golden crust, melted cheese bubbling around the edges, and fresh toppings like pepperoni, mushrooms, and green peppers.\n",
       "\n",
       "**Cluster 2: The Family Meal**\n",
       "\n",
       "This cluster is made up of families with young children. They typically order multiple dishes per person and spend around $60 per order. They dine out about once a week.\n",
       "\n",
       "The Family Meal's favorite food is chicken nuggets. They love the way the nuggets are crispy on the outside and tender on the inside. They would love an image of a plate of chicken nuggets with a side of fries and ketchup.\n",
       "\n",
       "**Cluster 3: The Luxury Seeker**\n",
       "\n",
       "This cluster is made up of people who enjoy fine dining experiences. They typically order multiple dishes per person and spend over $200 per order. They dine out about once a month.\n",
       "\n",
       "The Luxury Seeker's favorite food is filet mignon. They love the rich, buttery flavor of the steak and the way it melts in their mouth. They would love an image of a perfectly cooked filet mignon, seared on the outside and pink on the inside, with a side of mashed potatoes and asparagus.\n",
       "\n",
       "**Cluster 4: The Social Butterfly**\n",
       "\n",
       "This cluster is made up of people who enjoy going out to eat with friends and family. They typically order multiple dishes per person and spend around $50 per order. They dine out about once a week.\n",
       "\n",
       "The Social Butterfly's favorite food is pasta. They love the way the pasta can be customized to everyone's liking. They would love an image of a plate of pasta with a variety of sauces and toppings, such as marinara, pesto, and alfredo.\n",
       "\n",
       "**Cluster 5: The Homebody**\n",
       "\n",
       "This cluster is made up of people who enjoy cooking and eating at home. They typically order one or two dishes per person and spend around $40 per order. They dine out about once a month.\n",
       "\n",
       "The Homebody's favorite food is tacos. They love the way they can be customized to everyone's liking. They would love an image of a plate of tacos with a variety of fillings, such as chicken, beef, and pork."
      ],
      "text/plain": [
       "<IPython.core.display.Markdown object>"
      ]
     },
     "metadata": {},
     "output_type": "display_data"
    }
   ],
   "source": [
    "preamble = \"Pretend you're a creative strategist, analyse the following clusters and come up with creative brand persona for each that includes the detail of their favorite food and a detailed description of an image containing their favorite food:\"\n",
    "\n",
    "display(Markdown('## Prompt:'))\n",
    "print(preamble)\n",
    "print('\\n')\n",
    "print(str.join(\"\\n\", cluster_info))\n",
    "display(Markdown('## Response:'))\n",
    "display(Markdown(str(textgen_model.predict(\n",
    "   preamble + \"\\n\" + str.join(\"\\n\", cluster_info),\n",
    "    max_output_tokens=1024,\n",
    "    temperature=0.35,\n",
    "    top_p=0.8,\n",
    "    top_k=40,\n",
    "))))"
   ]
  },
  {
   "cell_type": "code",
   "execution_count": 17,
   "metadata": {},
   "outputs": [],
   "source": [
    "def persona_builder(preamble):\n",
    "    pre_text = \"Pretend you're a creative strategist, given the following clusters \"\n",
    "    prompt = pre_text + preamble + \"\\n\" + str.join(\"\\n\", cluster_info)\n",
    "    result = textgen_model.predict(\n",
    "        prompt,\n",
    "        max_output_tokens=1024,\n",
    "        temperature=0.35,\n",
    "        top_p=0.8,\n",
    "        top_k=40,\n",
    "    )\n",
    "    \n",
    "    return prompt, result"
   ]
  },
  {
   "cell_type": "markdown",
   "metadata": {
    "jp-MarkdownHeadingCollapsed": true,
    "tags": []
   },
   "source": [
    "#### Notes"
   ]
  },
  {
   "cell_type": "markdown",
   "metadata": {},
   "source": [
    "A beautiful mountain range with snow-capped peaks and a river running through it. The sun is shining and the sky is blue.  Photorealistic"
   ]
  },
  {
   "cell_type": "markdown",
   "metadata": {},
   "source": [
    "come up with creative brand persona for each that includes the detail of their favorite movie, a summary of how this relates to their purchasing behavior, and a witty e-mail headline for marketing campaign targeted to their group"
   ]
  },
  {
   "cell_type": "markdown",
   "metadata": {
    "tags": []
   },
   "source": [
    "## Now we can stick it behind a UI"
   ]
  },
  {
   "cell_type": "markdown",
   "metadata": {},
   "source": [
    "<p align=\"center\">\n",
    "  <img alt=\"Conceptual Flow\" src=\"slides/process6.png\" width=\"100%\">\n",
    "</p>"
   ]
  },
  {
   "cell_type": "code",
   "execution_count": 18,
   "metadata": {},
   "outputs": [
    {
     "name": "stdout",
     "output_type": "stream",
     "text": [
      "Running on local URL:  http://127.0.0.1:7860\n",
      "\n",
      "To create a public link, set `share=True` in `launch()`.\n"
     ]
    },
    {
     "data": {
      "text/html": [
       "<div><iframe src=\"http://127.0.0.1:7860/\" width=\"100%\" height=\"500\" allow=\"autoplay; camera; microphone; clipboard-read; clipboard-write;\" frameborder=\"0\" allowfullscreen></iframe></div>"
      ],
      "text/plain": [
       "<IPython.core.display.HTML object>"
      ]
     },
     "metadata": {},
     "output_type": "display_data"
    },
    {
     "data": {
      "text/plain": []
     },
     "execution_count": 18,
     "metadata": {},
     "output_type": "execute_result"
    }
   ],
   "source": [
    "import gradio as gr\n",
    "\n",
    "with gr.Blocks() as demo:\n",
    "    gr.Markdown(\n",
    "    \"\"\"\n",
    "    ## Persona Builder and Marketing Bot\n",
    "\n",
    "    ### Enter a task...\n",
    "\n",
    "    \"\"\")\n",
    "    with gr.Row():\n",
    "      with gr.Column():\n",
    "        input_text = gr.Textbox(label=\"Task\", placeholder=\"Pretend you're a creative strategist, given the following clusters: \")\n",
    "        \n",
    "        \n",
    "    with gr.Row():\n",
    "      generate = gr.Button(\"Generate Response\")\n",
    "\n",
    "    with gr.Row():\n",
    "      label2 = gr.Textbox(label=\"Prompt\")\n",
    "    with gr.Row():\n",
    "      label3 = gr.Textbox(label=\"Response generated by LLM\")\n",
    "\n",
    "    generate.click(persona_builder,input_text, [label2, label3])\n",
    "demo.launch(share=False, debug=False)"
   ]
  },
  {
   "cell_type": "code",
   "execution_count": null,
   "metadata": {},
   "outputs": [],
   "source": []
  }
 ],
 "metadata": {
  "colab": {
   "provenance": []
  },
  "kernelspec": {
   "display_name": "Python 3 (ipykernel)",
   "language": "python",
   "name": "python3"
  },
  "language_info": {
   "codemirror_mode": {
    "name": "ipython",
    "version": 3
   },
   "file_extension": ".py",
   "mimetype": "text/x-python",
   "name": "python",
   "nbconvert_exporter": "python",
   "pygments_lexer": "ipython3",
   "version": "3.9.6"
  }
 },
 "nbformat": 4,
 "nbformat_minor": 4
}
