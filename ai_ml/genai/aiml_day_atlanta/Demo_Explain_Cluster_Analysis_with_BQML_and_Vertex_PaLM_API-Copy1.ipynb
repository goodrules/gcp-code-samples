{
 "cells": [
  {
   "cell_type": "markdown",
   "metadata": {
    "id": "Sxq-V_jV4gEk"
   },
   "source": [
    "# Using the Vertex AI PaLM API to explain BQML Clustering - Our Very Own Persona Builder"
   ]
  },
  {
   "cell_type": "markdown",
   "metadata": {
    "tags": []
   },
   "source": [
    "## Here's what we're going to build:"
   ]
  },
  {
   "cell_type": "markdown",
   "metadata": {},
   "source": [
    "<p align=\"center\">\n",
    "  <img alt=\"Conceptual Flow\" src=\"slides/process0.png\" width=\"100%\">\n",
    "</p>"
   ]
  },
  {
   "cell_type": "markdown",
   "metadata": {
    "id": "sHoUOuxf5GOR",
    "tags": []
   },
   "source": [
    "# Core code\n",
    "Let's define some variables that will be used throughout this notebook.\n",
    "\n",
    "These are the GCP Project ID `project_id`, the Model name `model_name` which is any name you prefer, and finally the Dataset name `dataset_name`.\n",
    "The dataset needs to exist in the same Project as `project_id` and you'll need appropriate access to create and delete."
   ]
  },
  {
   "cell_type": "markdown",
   "metadata": {
    "tags": []
   },
   "source": [
    "## Setup"
   ]
  },
  {
   "cell_type": "code",
   "execution_count": 1,
   "metadata": {
    "id": "fU3_zsLsZ89c"
   },
   "outputs": [],
   "source": [
    "from typing import Union\n",
    "import sys\n",
    "\n",
    "import os\n",
    "import io\n",
    "import json\n",
    "import base64\n",
    "import requests\n",
    "import concurrent.futures\n",
    "import time\n",
    "\n",
    "import numpy as np\n",
    "import pandas as pd\n",
    "\n",
    "import vertexai.preview.language_models\n",
    "from google.cloud import aiplatform\n",
    "from google.cloud import documentai\n",
    "from google.cloud.documentai_v1 import Document\n",
    "from google.cloud import storage\n",
    "from google.cloud import bigquery\n",
    "\n",
    "from IPython.display import display, Markdown, Latex\n"
   ]
  },
  {
   "cell_type": "code",
   "execution_count": 2,
   "metadata": {
    "id": "_3Rfhx874F2J"
   },
   "outputs": [],
   "source": [
    "PROJECT_ID = 'mg-ce-demos'\n",
    "REGION = 'us-central1'\n",
    "DATASET = \"bqml_demos\" \n",
    "BQML_MODEL = \"ecommerce_customer_segment_cluster5\" \n",
    "EVAL = BQML_MODEL + \"_eval\"\n"
   ]
  },
  {
   "cell_type": "code",
   "execution_count": 3,
   "metadata": {},
   "outputs": [],
   "source": [
    "# vertex ai clients\n",
    "vertexai.init(project = PROJECT_ID, location = REGION)\n",
    "aiplatform.init(project = PROJECT_ID, location = REGION)\n",
    "\n",
    "# bigquery client\n",
    "bq = bigquery.Client(project = PROJECT_ID)"
   ]
  },
  {
   "cell_type": "markdown",
   "metadata": {
    "id": "WnXQQOAc4t22",
    "tags": []
   },
   "source": [
    "## Create a K-means model to cluster ecommerce data"
   ]
  },
  {
   "cell_type": "markdown",
   "metadata": {},
   "source": [
    "### Let's look at the data first"
   ]
  },
  {
   "cell_type": "markdown",
   "metadata": {},
   "source": [
    "<p align=\"center\">\n",
    "  <img alt=\"Conceptual Flow\" src=\"slides/process1.png\" width=\"100%\">\n",
    "</p>"
   ]
  },
  {
   "cell_type": "code",
   "execution_count": 4,
   "metadata": {
    "colab": {
     "base_uri": "https://localhost:8080/",
     "height": 206
    },
    "id": "V6-JiJZBGmO7",
    "outputId": "88ba2b72-5c73-434f-94ea-5025ec7f7e7c"
   },
   "outputs": [
    {
     "data": {
      "text/html": [
       "<div>\n",
       "<style scoped>\n",
       "    .dataframe tbody tr th:only-of-type {\n",
       "        vertical-align: middle;\n",
       "    }\n",
       "\n",
       "    .dataframe tbody tr th {\n",
       "        vertical-align: top;\n",
       "    }\n",
       "\n",
       "    .dataframe thead th {\n",
       "        text-align: right;\n",
       "    }\n",
       "</style>\n",
       "<table border=\"1\" class=\"dataframe\">\n",
       "  <thead>\n",
       "    <tr style=\"text-align: right;\">\n",
       "      <th></th>\n",
       "      <th>user_id</th>\n",
       "      <th>order_id</th>\n",
       "      <th>sale_price</th>\n",
       "      <th>order_created_date</th>\n",
       "    </tr>\n",
       "  </thead>\n",
       "  <tbody>\n",
       "    <tr>\n",
       "      <th>0</th>\n",
       "      <td>40085</td>\n",
       "      <td>50021</td>\n",
       "      <td>2.5</td>\n",
       "      <td>2023-04-07 08:09:34+00:00</td>\n",
       "    </tr>\n",
       "    <tr>\n",
       "      <th>1</th>\n",
       "      <td>90363</td>\n",
       "      <td>112961</td>\n",
       "      <td>2.5</td>\n",
       "      <td>2022-12-25 23:23:29+00:00</td>\n",
       "    </tr>\n",
       "    <tr>\n",
       "      <th>2</th>\n",
       "      <td>3922</td>\n",
       "      <td>4887</td>\n",
       "      <td>2.5</td>\n",
       "      <td>2022-09-29 13:47:16+00:00</td>\n",
       "    </tr>\n",
       "    <tr>\n",
       "      <th>3</th>\n",
       "      <td>56076</td>\n",
       "      <td>70152</td>\n",
       "      <td>2.5</td>\n",
       "      <td>2022-03-27 03:01:23+00:00</td>\n",
       "    </tr>\n",
       "    <tr>\n",
       "      <th>4</th>\n",
       "      <td>90828</td>\n",
       "      <td>113540</td>\n",
       "      <td>2.5</td>\n",
       "      <td>2023-03-18 08:30:11+00:00</td>\n",
       "    </tr>\n",
       "  </tbody>\n",
       "</table>\n",
       "</div>"
      ],
      "text/plain": [
       "   user_id  order_id  sale_price        order_created_date\n",
       "0    40085     50021         2.5 2023-04-07 08:09:34+00:00\n",
       "1    90363    112961         2.5 2022-12-25 23:23:29+00:00\n",
       "2     3922      4887         2.5 2022-09-29 13:47:16+00:00\n",
       "3    56076     70152         2.5 2022-03-27 03:01:23+00:00\n",
       "4    90828    113540         2.5 2023-03-18 08:30:11+00:00"
      ]
     },
     "execution_count": 4,
     "metadata": {},
     "output_type": "execute_result"
    }
   ],
   "source": [
    "query = \"\"\"\n",
    "SELECT\n",
    "  user_id,\n",
    "  order_id,\n",
    "  sale_price,\n",
    "  created_at as order_created_date\n",
    "FROM `mg-ce-demos.thelook_ecommerce.order_items`\n",
    "WHERE created_at BETWEEN CAST('2022-01-01 00:00:00' AS TIMESTAMP)\n",
    "AND CAST('2024-01-01 00:00:00' AS TIMESTAMP)\n",
    "\"\"\"\n",
    "df = bq.query(query).to_dataframe()\n",
    "df.head()\n"
   ]
  },
  {
   "cell_type": "markdown",
   "metadata": {
    "id": "jQKfCgZ9FZH5",
    "tags": []
   },
   "source": [
    "### `CREATE MODEL` using `KMEANS`\n",
    "\n",
    "Create a query then start the model creation job, using a python loop to wait for the job to complete"
   ]
  },
  {
   "cell_type": "markdown",
   "metadata": {},
   "source": [
    "<p align=\"center\">\n",
    "  <img alt=\"Conceptual Flow\" src=\"slides/process2.png\" width=\"100%\">\n",
    "</p>"
   ]
  },
  {
   "cell_type": "code",
   "execution_count": 13,
   "metadata": {
    "id": "KiB2gPEvFkkd"
   },
   "outputs": [],
   "source": [
    "query = \"\"\"\n",
    "CREATE MODEL IF NOT EXISTS `{0}.{1}`\n",
    "OPTIONS (\n",
    "  MODEL_TYPE = \"KMEANS\",\n",
    "  NUM_CLUSTERS = 5,\n",
    "  KMEANS_INIT_METHOD = \"KMEANS++\",\n",
    "  STANDARDIZE_FEATURES = TRUE )\n",
    "AS (\n",
    "SELECT * EXCEPT (user_id)\n",
    "FROM (\n",
    "  SELECT user_id,\n",
    "    DATE_DIFF(CURRENT_DATE(), CAST(MAX(order_created_date) as DATE), day) AS days_since_order, -- RECENCY\n",
    "    COUNT(order_id) AS count_orders, -- FREQUENCY\n",
    "    AVG(sale_price) AS avg_spend -- MONETARY\n",
    "  FROM (\n",
    "    SELECT user_id,\n",
    "      order_id,\n",
    "      sale_price,\n",
    "      created_at as order_created_date\n",
    "    FROM `mg-ce-demos.thelook_ecommerce.order_items`\n",
    "    WHERE created_at BETWEEN CAST('2022-01-01 00:00:00' AS TIMESTAMP)\n",
    "    AND CAST('2024-01-01 00:00:00' AS TIMESTAMP)\n",
    "  )\n",
    "  GROUP BY user_id, order_id\n",
    " )\n",
    ")\n",
    "\"\"\".format(DATASET, BQML_MODEL)\n"
   ]
  },
  {
   "cell_type": "code",
   "execution_count": 14,
   "metadata": {
    "id": "_9lZPWXtNwbN"
   },
   "outputs": [],
   "source": [
    "# Wrapper to use BigQuery client to run query/job, return job ID or result as DF\n",
    "def run_bq_query(sql: str) -> Union[str, pd.DataFrame]:\n",
    "    \n",
    "    # Try dry run before executing query to catch any errors\n",
    "    #job_config = bigquery.QueryJobConfig(dry_run=True, use_query_cache=False)\n",
    "    #bq.query(sql, job_config=job_config)\n",
    "\n",
    "    # If dry run succeeds without errors, proceed to run query\n",
    "    job_config = bigquery.QueryJobConfig()\n",
    "    client_result = bq.query(sql, job_config=job_config)\n",
    "\n",
    "    job_id = client_result.job_id\n",
    "\n",
    "    # Wait for query/job to finish running. then get & return data frame\n",
    "    df = client_result.result().to_arrow().to_pandas()\n",
    "    print(f\"Finished job_id: {job_id}\")\n",
    "    return df"
   ]
  },
  {
   "cell_type": "code",
   "execution_count": 15,
   "metadata": {
    "colab": {
     "base_uri": "https://localhost:8080/",
     "height": 615
    },
    "id": "0RqNFZdVKDW6",
    "outputId": "33ea669b-40a8-4b16-b32d-bbc0b164d23b"
   },
   "outputs": [
    {
     "name": "stdout",
     "output_type": "stream",
     "text": [
      "Finished job_id: ab3960f3-9ca9-4097-be99-03cebce34fdf\n",
      "Finished job_id: 6efd2b08-2bc1-4afa-9c5e-da8da9d73dad\n",
      "Finished job_id: 06ee8bff-2815-4b87-8f5e-7a7db47ee2c1\n",
      "Finished job_id: 7ee8cada-0181-4f44-8cb1-19c369b8b7be\n",
      "Finished job_id: 98fec4cc-ac7b-4225-aeab-94ee03f9de6a\n",
      "Finished job_id: fff17cbb-c186-4360-b879-fa38ca8f7242\n",
      "Finished job_id: f1b72b83-6b12-40cd-b9a4-592209503c00\n",
      "Finished job_id: abc6f9ce-b265-4299-8044-3541444e53ec\n",
      "815 ms ± 48.2 ms per loop (mean ± std. dev. of 7 runs, 1 loop each)\n"
     ]
    }
   ],
   "source": [
    "%%timeit\n",
    "\n",
    "run_bq_query(query)"
   ]
  },
  {
   "cell_type": "markdown",
   "metadata": {
    "id": "mYN7F_f3PeE5"
   },
   "source": [
    "Let's take a look at the model's clustering performance, using these metrics - Davies Bouldin Index and Mean Squared Distance"
   ]
  },
  {
   "cell_type": "code",
   "execution_count": 16,
   "metadata": {
    "colab": {
     "base_uri": "https://localhost:8080/",
     "height": 98
    },
    "id": "wDy9-26SFnuS",
    "outputId": "9cfb0a00-d7eb-470c-ef9f-d709d5b6bbb7"
   },
   "outputs": [
    {
     "name": "stdout",
     "output_type": "stream",
     "text": [
      "Finished job_id: 0193d04f-0b17-4016-9aea-ef4944e32c05\n"
     ]
    },
    {
     "data": {
      "text/html": [
       "<div>\n",
       "<style scoped>\n",
       "    .dataframe tbody tr th:only-of-type {\n",
       "        vertical-align: middle;\n",
       "    }\n",
       "\n",
       "    .dataframe tbody tr th {\n",
       "        vertical-align: top;\n",
       "    }\n",
       "\n",
       "    .dataframe thead th {\n",
       "        text-align: right;\n",
       "    }\n",
       "</style>\n",
       "<table border=\"1\" class=\"dataframe\">\n",
       "  <thead>\n",
       "    <tr style=\"text-align: right;\">\n",
       "      <th></th>\n",
       "      <th>davies_bouldin_index</th>\n",
       "      <th>mean_squared_distance</th>\n",
       "    </tr>\n",
       "  </thead>\n",
       "  <tbody>\n",
       "    <tr>\n",
       "      <th>0</th>\n",
       "      <td>1.023378</td>\n",
       "      <td>1.051785</td>\n",
       "    </tr>\n",
       "  </tbody>\n",
       "</table>\n",
       "</div>"
      ],
      "text/plain": [
       "   davies_bouldin_index  mean_squared_distance\n",
       "0              1.023378               1.051785"
      ]
     },
     "execution_count": 16,
     "metadata": {},
     "output_type": "execute_result"
    }
   ],
   "source": [
    "query = \"\"\"\n",
    "SELECT *\n",
    "FROM ML.EVALUATE(MODEL `{0}.{1}`)\n",
    "\"\"\".format(DATASET, BQML_MODEL)\n",
    "\n",
    "run_bq_query(query)"
   ]
  },
  {
   "cell_type": "markdown",
   "metadata": {
    "id": "t1RNh1NqPpJ2"
   },
   "source": [
    "### Now let's get the cluster (centroid) information"
   ]
  },
  {
   "cell_type": "markdown",
   "metadata": {},
   "source": [
    "<p align=\"center\">\n",
    "  <img alt=\"Conceptual Flow\" src=\"slides/process3.png\" width=\"100%\">\n",
    "</p>"
   ]
  },
  {
   "cell_type": "code",
   "execution_count": 17,
   "metadata": {
    "colab": {
     "base_uri": "https://localhost:8080/",
     "height": 224
    },
    "id": "H2czyn5zPvhJ",
    "outputId": "01887c23-2c83-44fc-ae8a-366ba2f9c828"
   },
   "outputs": [
    {
     "name": "stdout",
     "output_type": "stream",
     "text": [
      "Finished job_id: 77fab11a-df6e-4295-b595-0f25ae18a80e\n"
     ]
    },
    {
     "data": {
      "text/html": [
       "<div>\n",
       "<style scoped>\n",
       "    .dataframe tbody tr th:only-of-type {\n",
       "        vertical-align: middle;\n",
       "    }\n",
       "\n",
       "    .dataframe tbody tr th {\n",
       "        vertical-align: top;\n",
       "    }\n",
       "\n",
       "    .dataframe thead th {\n",
       "        text-align: right;\n",
       "    }\n",
       "</style>\n",
       "<table border=\"1\" class=\"dataframe\">\n",
       "  <thead>\n",
       "    <tr style=\"text-align: right;\">\n",
       "      <th></th>\n",
       "      <th>centroid</th>\n",
       "      <th>average_spend</th>\n",
       "      <th>count_of_orders</th>\n",
       "      <th>days_since_order</th>\n",
       "    </tr>\n",
       "  </thead>\n",
       "  <tbody>\n",
       "    <tr>\n",
       "      <th>0</th>\n",
       "      <td>cluster 1</td>\n",
       "      <td>49.44</td>\n",
       "      <td>1.23</td>\n",
       "      <td>102.87</td>\n",
       "    </tr>\n",
       "    <tr>\n",
       "      <th>1</th>\n",
       "      <td>cluster 2</td>\n",
       "      <td>59.56</td>\n",
       "      <td>3.51</td>\n",
       "      <td>87.90</td>\n",
       "    </tr>\n",
       "    <tr>\n",
       "      <th>2</th>\n",
       "      <td>cluster 3</td>\n",
       "      <td>251.34</td>\n",
       "      <td>1.14</td>\n",
       "      <td>205.85</td>\n",
       "    </tr>\n",
       "    <tr>\n",
       "      <th>3</th>\n",
       "      <td>cluster 4</td>\n",
       "      <td>57.47</td>\n",
       "      <td>3.49</td>\n",
       "      <td>354.32</td>\n",
       "    </tr>\n",
       "    <tr>\n",
       "      <th>4</th>\n",
       "      <td>cluster 5</td>\n",
       "      <td>48.87</td>\n",
       "      <td>1.22</td>\n",
       "      <td>376.50</td>\n",
       "    </tr>\n",
       "  </tbody>\n",
       "</table>\n",
       "</div>"
      ],
      "text/plain": [
       "    centroid  average_spend  count_of_orders  days_since_order\n",
       "0  cluster 1          49.44             1.23            102.87\n",
       "1  cluster 2          59.56             3.51             87.90\n",
       "2  cluster 3         251.34             1.14            205.85\n",
       "3  cluster 4          57.47             3.49            354.32\n",
       "4  cluster 5          48.87             1.22            376.50"
      ]
     },
     "execution_count": 17,
     "metadata": {},
     "output_type": "execute_result"
    }
   ],
   "source": [
    "query = \"\"\"\n",
    "SELECT\n",
    "  CONCAT('cluster ', CAST(centroid_id as STRING)) as centroid,\n",
    "  avg_spend as average_spend,\n",
    "  count_orders as count_of_orders,\n",
    "  days_since_order\n",
    "FROM (\n",
    "  SELECT centroid_id, feature, ROUND(numerical_value, 2) as value\n",
    "  FROM ML.CENTROIDS(MODEL `{0}.{1}`)\n",
    ")\n",
    "PIVOT (\n",
    "  SUM(value)\n",
    "  FOR feature IN ('avg_spend',  'count_orders', 'days_since_order')\n",
    ")\n",
    "ORDER BY centroid_id\n",
    "\"\"\".format(DATASET, BQML_MODEL)\n",
    "\n",
    "run_bq_query(query)"
   ]
  },
  {
   "cell_type": "markdown",
   "metadata": {
    "id": "Xhha_o_qPwJY"
   },
   "source": [
    "Whew! That's a lot of metrics and cluster info. How about we explain this to our colleagues using the magic of LLMs."
   ]
  },
  {
   "cell_type": "code",
   "execution_count": 18,
   "metadata": {
    "colab": {
     "base_uri": "https://localhost:8080/"
    },
    "id": "AWzyZUFdRQll",
    "outputId": "12058437-f5e8-4877-b6d1-2bcf976495e7"
   },
   "outputs": [
    {
     "name": "stdout",
     "output_type": "stream",
     "text": [
      "cluster 1, average spend $49.44, count of orders per person 1.23, days since last order 102.87\n",
      "cluster 2, average spend $59.56, count of orders per person 3.51, days since last order 87.9\n",
      "cluster 3, average spend $251.34, count of orders per person 1.14, days since last order 205.85\n",
      "cluster 4, average spend $57.47, count of orders per person 3.49, days since last order 354.32\n",
      "cluster 5, average spend $48.87, count of orders per person 1.22, days since last order 376.5\n"
     ]
    }
   ],
   "source": [
    "df = bq.query(query).to_dataframe()\n",
    "df.to_string(header=False, index=False)\n",
    "\n",
    "cluster_info = []\n",
    "for i, row in df.iterrows():\n",
    "  cluster_info.append(\"{0}, average spend ${2}, count of orders per person {1}, days since last order {3}\"\n",
    "    .format(row[\"centroid\"], row[\"count_of_orders\"], row[\"average_spend\"], row[\"days_since_order\"]) )\n",
    "\n",
    "print(str.join(\"\\n\", cluster_info))"
   ]
  },
  {
   "cell_type": "markdown",
   "metadata": {
    "id": "7Na0_rVVLhOk",
    "tags": []
   },
   "source": [
    "## Explain with Vertex AI PaLM API"
   ]
  },
  {
   "cell_type": "markdown",
   "metadata": {
    "id": "tdoRB7RjLso6"
   },
   "source": [
    "### First, we want to instantiate the large language model and create the prompt"
   ]
  },
  {
   "cell_type": "markdown",
   "metadata": {},
   "source": [
    "<p align=\"center\">\n",
    "  <img alt=\"Conceptual Flow\" src=\"slides/process4.png\" width=\"100%\">\n",
    "</p>"
   ]
  },
  {
   "cell_type": "code",
   "execution_count": 19,
   "metadata": {},
   "outputs": [],
   "source": [
    "textgen_model = vertexai.preview.language_models.TextGenerationModel.from_pretrained('text-bison@001')"
   ]
  },
  {
   "cell_type": "code",
   "execution_count": 20,
   "metadata": {
    "colab": {
     "base_uri": "https://localhost:8080/"
    },
    "id": "MYwQNH0ELu9y",
    "outputId": "2204e6ec-e489-40e7-8cc3-485578ca5302",
    "tags": []
   },
   "outputs": [
    {
     "data": {
      "text/markdown": [
       "## Prompt:"
      ],
      "text/plain": [
       "<IPython.core.display.Markdown object>"
      ]
     },
     "metadata": {},
     "output_type": "display_data"
    },
    {
     "name": "stdout",
     "output_type": "stream",
     "text": [
      "Pretend you're a creative strategist, given the following clusters come up with creative brand persona and title labels for each of these clusters, and explain step by step; what would be the next marketing step for these clusters:\n",
      "\n",
      "\n",
      "cluster 1, average spend $49.44, count of orders per person 1.23, days since last order 102.87\n",
      "cluster 2, average spend $59.56, count of orders per person 3.51, days since last order 87.9\n",
      "cluster 3, average spend $251.34, count of orders per person 1.14, days since last order 205.85\n",
      "cluster 4, average spend $57.47, count of orders per person 3.49, days since last order 354.32\n",
      "cluster 5, average spend $48.87, count of orders per person 1.22, days since last order 376.5\n"
     ]
    }
   ],
   "source": [
    "preamble = \"Pretend you're a creative strategist, given the following clusters come up with creative brand persona and title labels for each of these clusters, and explain step by step; what would be the next marketing step for these clusters:\"\n",
    "display(Markdown('## Prompt:'))\n",
    "print(preamble)\n",
    "print('\\n')\n",
    "print(str.join(\"\\n\", cluster_info))"
   ]
  },
  {
   "cell_type": "markdown",
   "metadata": {},
   "source": [
    "### Now, we send our prompt to Google GenAI API for some LLM magic"
   ]
  },
  {
   "cell_type": "markdown",
   "metadata": {},
   "source": [
    "<p align=\"center\">\n",
    "  <img alt=\"Conceptual Flow\" src=\"slides/process5.png\" width=\"100%\">\n",
    "</p>"
   ]
  },
  {
   "cell_type": "code",
   "execution_count": 21,
   "metadata": {},
   "outputs": [
    {
     "data": {
      "text/markdown": [
       "## Response:"
      ],
      "text/plain": [
       "<IPython.core.display.Markdown object>"
      ]
     },
     "metadata": {},
     "output_type": "display_data"
    },
    {
     "data": {
      "text/markdown": [
       "6 **Cluster 1: The Frequent Shopper**\n",
       "\n",
       "This cluster is made up of customers who spend an average of $49.44 per order and place an order every 102.87 days. They are likely to be loyal customers who are looking for a convenient and affordable way to shop.\n",
       "\n",
       "**Brand persona:** The Frequent Shopper is a busy person who is always on the go. They are looking for a shopping experience that is easy and efficient, and they are willing to pay a little more for convenience.\n",
       "\n",
       "**Title label:** The Frequent Shopper\n",
       "\n",
       "**Next marketing step:** The next marketing step for this cluster would be to focus on convenience and value. This could be done by offering free shipping on orders over a certain amount, or by providing a loyalty program that rewards customers for their purchases.\n",
       "\n",
       "**Cluster 2: The Avid Shopper**\n",
       "\n",
       "This cluster is made up of customers who spend an average of $59.56 per order and place an order every 87.9 days. They are likely to be passionate about shopping and are always looking for new products to try.\n",
       "\n",
       "**Brand persona:** The Avid Shopper is a fashion-forward person who is always on the lookout for the latest trends. They are willing to spend a little more money to get the best quality products, and they are not afraid to experiment with new styles.\n",
       "\n",
       "**Title label:** The Avid Shopper\n",
       "\n",
       "**Next marketing step:** The next marketing step for this cluster would be to focus on newness and excitement. This could be done by featuring new products on the homepage, or by sending out email newsletters with the latest trends.\n",
       "\n",
       "**Cluster 3: The Luxury Shopper**\n",
       "\n",
       "This cluster is made up of customers who spend an average of $251.34 per order and place an order every 205.85 days. They are likely to be affluent and have a taste for luxury.\n",
       "\n",
       "**Brand persona:** The Luxury Shopper is a successful person who appreciates the finer things in life. They are willing to pay a premium for quality products and services, and they are not afraid to splurge on themselves.\n",
       "\n",
       "**Title label:** The Luxury Shopper\n",
       "\n",
       "**Next marketing step:** The next marketing step for this cluster would be to focus on exclusivity and personalization. This could be done by offering limited-edition products, or by providing a concierge service that caters to the individual needs of each customer.\n",
       "\n",
       "**Cluster 4: The Value Shopper**\n",
       "\n",
       "This cluster is made up of customers who spend an average of $57.47 per order and place an order every 354.32 days. They are likely to be budget-conscious and are looking for the best possible value for their money.\n",
       "\n",
       "**Brand persona:** The Value Shopper is a savvy shopper who is always looking for a good deal. They are not afraid to comparison shop, and they are willing to sacrifice quality for a lower price.\n",
       "\n",
       "**Title label:** The Value Shopper\n",
       "\n",
       "**Next marketing step:** The next marketing step for this cluster would be to focus on affordability and savings. This could be done by offering discounts and coupons, or by highlighting the value of the products being sold.\n",
       "\n",
       "**Cluster 5: The Occasional Shopper**\n",
       "\n",
       "This cluster is made up of customers who spend an average of $48.87 per order and place an order every 376.56 days. They are likely to be infrequent shoppers who only buy when they need something specific.\n",
       "\n",
       "**Brand persona:** The Occasional Shopper is a busy person who does not have a lot of time to shop. They are looking for a convenient and easy way to buy the things they need, and they are not afraid to pay a little more for convenience.\n",
       "\n",
       "**Title label:** The Occasional Shopper\n",
       "\n",
       "**Next marketing step:** The next marketing step for this cluster would be to focus on convenience and ease of use. This could be done by offering a wide variety of products, or by providing a quick and easy checkout process."
      ],
      "text/plain": [
       "<IPython.core.display.Markdown object>"
      ]
     },
     "metadata": {},
     "output_type": "display_data"
    }
   ],
   "source": [
    "display(Markdown('## Response:'))\n",
    "# Send prompt to LLM\n",
    "display(Markdown(str(textgen_model.predict(\n",
    "   preamble + \"\\n\" + str.join(\"\\n\", cluster_info),\n",
    "    max_output_tokens=1024,\n",
    "    temperature=0.35,\n",
    "    top_p=0.8,\n",
    "    top_k=40,\n",
    "))))"
   ]
  },
  {
   "cell_type": "markdown",
   "metadata": {
    "id": "jqC5uUguaunY"
   },
   "source": [
    "Voila! We've now used k-means clustering to create groups of spenders and explain their profiles."
   ]
  },
  {
   "cell_type": "markdown",
   "metadata": {
    "id": "5HEVHGmmRyGW"
   },
   "source": [
    "Sometimes, though, you want a little bit [extra](https://cloud.google.com/blog/transform/prompt-debunking-five-generative-ai-misconceptions)."
   ]
  },
  {
   "cell_type": "code",
   "execution_count": 22,
   "metadata": {
    "colab": {
     "base_uri": "https://localhost:8080/"
    },
    "id": "3HgwtN1tR3xQ",
    "outputId": "92324c01-5949-49d2-c62d-b6ca35cea2d7"
   },
   "outputs": [
    {
     "data": {
      "text/markdown": [
       "## Prompt:"
      ],
      "text/plain": [
       "<IPython.core.display.Markdown object>"
      ]
     },
     "metadata": {},
     "output_type": "display_data"
    },
    {
     "name": "stdout",
     "output_type": "stream",
     "text": [
      "Pretend you're a creative strategist, analyse the following clusters and come up with creative brand persona for each that includes the detail of their favorite movie, a summary of how this relates to their purchasing behavior, and a witty e-mail headline for marketing campaign targeted to their group:\n",
      "\n",
      "\n",
      "cluster 1, average spend $49.44, count of orders per person 1.23, days since last order 102.87\n",
      "cluster 2, average spend $59.56, count of orders per person 3.51, days since last order 87.9\n",
      "cluster 3, average spend $251.34, count of orders per person 1.14, days since last order 205.85\n",
      "cluster 4, average spend $57.47, count of orders per person 3.49, days since last order 354.32\n",
      "cluster 5, average spend $48.87, count of orders per person 1.22, days since last order 376.5\n"
     ]
    },
    {
     "data": {
      "text/markdown": [
       "## Response:"
      ],
      "text/plain": [
       "<IPython.core.display.Markdown object>"
      ]
     },
     "metadata": {},
     "output_type": "display_data"
    },
    {
     "data": {
      "text/markdown": [
       "3 **Cluster 1: The Casual Shopper**\n",
       "\n",
       "* Favorite movie: The Princess Bride\n",
       "* Summary: This cluster is made up of casual shoppers who enjoy a variety of movies. They typically make one or two small purchases per month and have a long average purchase cycle.\n",
       "* Witty e-mail headline: \"The Princess Bride fans, we have something special for you!\"\n",
       "\n",
       "**Cluster 2: The Frequent Shopper**\n",
       "\n",
       "* Favorite movie: The Shawshank Redemption\n",
       "* Summary: This cluster is made up of frequent shoppers who love classic movies. They typically make multiple purchases per month and have a shorter average purchase cycle.\n",
       "* Witty e-mail headline: \"The Shawshank Redemption fans, we know you love a good deal! Check out our latest sale.\"\n",
       "\n",
       "**Cluster 3: The Luxury Shopper**\n",
       "\n",
       "* Favorite movie: The Godfather\n",
       "* Summary: This cluster is made up of luxury shoppers who enjoy high-quality movies. They typically make one or two large purchases per year and have a long average purchase cycle.\n",
       "* Witty e-mail headline: \"The Godfather fans, treat yourself to the ultimate movie experience with our selection of luxury DVDs.\"\n",
       "\n",
       "**Cluster 4: The Family Shopper**\n",
       "\n",
       "* Favorite movie: Toy Story\n",
       "* Summary: This cluster is made up of family shoppers who enjoy movies for all ages. They typically make multiple purchases per month and have a short average purchase cycle.\n",
       "* Witty e-mail headline: \"Toy Story fans, get your kids excited for the new movie with our selection of toys and games.\"\n",
       "\n",
       "**Cluster 5: The Patient Shopper**\n",
       "\n",
       "* Favorite movie: The Lord of the Rings\n",
       "* Summary: This cluster is made up of patient shoppers who enjoy epic movies. They typically make one or two large purchases per year and have a very long average purchase cycle.\n",
       "* Witty e-mail headline: \"The Lord of the Rings fans, we know you're in it for the long haul. Check out our special edition box set.\""
      ],
      "text/plain": [
       "<IPython.core.display.Markdown object>"
      ]
     },
     "metadata": {},
     "output_type": "display_data"
    }
   ],
   "source": [
    "preamble = \"Pretend you're a creative strategist, analyse the following clusters and come up with creative brand persona for each that includes the detail of their favorite movie, a summary of how this relates to their purchasing behavior, and a witty e-mail headline for marketing campaign targeted to their group:\"\n",
    "\n",
    "display(Markdown('## Prompt:'))\n",
    "print(preamble)\n",
    "print('\\n')\n",
    "print(str.join(\"\\n\", cluster_info))\n",
    "display(Markdown('## Response:'))\n",
    "display(Markdown(str(textgen_model.predict(\n",
    "   preamble + \"\\n\" + str.join(\"\\n\", cluster_info),\n",
    "    max_output_tokens=1024,\n",
    "    temperature=0.35,\n",
    "    top_p=0.8,\n",
    "    top_k=40,\n",
    "))))"
   ]
  },
  {
   "cell_type": "code",
   "execution_count": 24,
   "metadata": {},
   "outputs": [
    {
     "data": {
      "text/markdown": [
       "## Prompt:"
      ],
      "text/plain": [
       "<IPython.core.display.Markdown object>"
      ]
     },
     "metadata": {},
     "output_type": "display_data"
    },
    {
     "name": "stdout",
     "output_type": "stream",
     "text": [
      "Pretend you're a creative strategist, analyse the following clusters and come up with creative brand persona for each that includes the detail of their favorite movie, a summary of how this relates to their purchasing behavior, and a description of an image that describes scenery related to their favorite movie:\n",
      "\n",
      "\n",
      "cluster 1, average spend $49.44, count of orders per person 1.23, days since last order 102.87\n",
      "cluster 2, average spend $59.56, count of orders per person 3.51, days since last order 87.9\n",
      "cluster 3, average spend $251.34, count of orders per person 1.14, days since last order 205.85\n",
      "cluster 4, average spend $57.47, count of orders per person 3.49, days since last order 354.32\n",
      "cluster 5, average spend $48.87, count of orders per person 1.22, days since last order 376.5\n"
     ]
    },
    {
     "data": {
      "text/markdown": [
       "## Response:"
      ],
      "text/plain": [
       "<IPython.core.display.Markdown object>"
      ]
     },
     "metadata": {},
     "output_type": "display_data"
    },
    {
     "data": {
      "text/markdown": [
       "8 **Cluster 1**\n",
       "\n",
       "* Favorite movie: The Shawshank Redemption\n",
       "* Summary: This cluster is made up of people who are loyal customers who spend an average of $49.44 per order. They typically place an order every 102 days. The Shawshank Redemption is a popular choice for this group because it is a feel-good movie that is perfect for a rainy day. The image of a field of green grass with a white picket fence and a red barn in the background would be a good representation of the scenery in this movie.\n",
       "\n",
       "**Cluster 2**\n",
       "\n",
       "* Favorite movie: The Godfather\n",
       "* Summary: This cluster is made up of people who are high-value customers who spend an average of $59.56 per order. They typically place an order every 87 days. The Godfather is a popular choice for this group because it is a classic movie that is known for its violence and drama. The image of a dark and stormy night with a full moon would be a good representation of the scenery in this movie.\n",
       "\n",
       "**Cluster 3**\n",
       "\n",
       "* Favorite movie: The Dark Knight\n",
       "* Summary: This cluster is made up of people who are impulsive shoppers who spend an average of $251.34 per order. They typically place an order every 205 days. The Dark Knight is a popular choice for this group because it is a thrilling movie that is full of action and suspense. The image of a city skyline at night with a full moon would be a good representation of the scenery in this movie.\n",
       "\n",
       "**Cluster 4**\n",
       "\n",
       "* Favorite movie: The Lord of the Rings: The Return of the King\n",
       "* Summary: This cluster is made up of people who are loyal customers who spend an average of $57.47 per order. They typically place an order every 354 days. The Lord of the Rings: The Return of the King is a popular choice for this group because it is a long and epic movie that is perfect for a rainy day. The image of a mountain range with a waterfall in the foreground would be a good representation of the scenery in this movie.\n",
       "\n",
       "**Cluster 5**\n",
       "\n",
       "* Favorite movie: The Princess Bride\n",
       "* Summary: This cluster is made up of people who are nostalgic shoppers who spend an average of $48.87 per order. They typically place an order every 376 days. The Princess Bride is a popular choice for this group because it is a feel-good movie that is perfect for a rainy day. The image of a field of flowers with a castle in the background would be a good representation of the scenery in this movie."
      ],
      "text/plain": [
       "<IPython.core.display.Markdown object>"
      ]
     },
     "metadata": {},
     "output_type": "display_data"
    }
   ],
   "source": [
    "preamble = \"Pretend you're a creative strategist, analyse the following clusters and come up with creative brand persona for each that includes the detail of their favorite movie, a summary of how this relates to their purchasing behavior, and a description of an image that describes scenery related to their favorite movie:\"\n",
    "\n",
    "display(Markdown('## Prompt:'))\n",
    "print(preamble)\n",
    "print('\\n')\n",
    "print(str.join(\"\\n\", cluster_info))\n",
    "display(Markdown('## Response:'))\n",
    "display(Markdown(str(textgen_model.predict(\n",
    "   preamble + \"\\n\" + str.join(\"\\n\", cluster_info),\n",
    "    max_output_tokens=1024,\n",
    "    temperature=0.35,\n",
    "    top_p=0.8,\n",
    "    top_k=40,\n",
    "))))"
   ]
  },
  {
   "cell_type": "code",
   "execution_count": 25,
   "metadata": {},
   "outputs": [],
   "source": [
    "def persona_builder(preamble):\n",
    "    pre_text = \"Pretend you're a creative strategist, given the following clusters \"\n",
    "    prompt = pre_text + preamble + \"\\n\" + str.join(\"\\n\", cluster_info)\n",
    "    result = textgen_model.predict(\n",
    "        prompt,\n",
    "        max_output_tokens=1024,\n",
    "        temperature=0.35,\n",
    "        top_p=0.8,\n",
    "        top_k=40,\n",
    "    )\n",
    "    \n",
    "    return prompt, result"
   ]
  },
  {
   "cell_type": "code",
   "execution_count": 26,
   "metadata": {},
   "outputs": [],
   "source": [
    "#persona_builder(\"Pretend you're a creative strategist, analyse the following clusters and come up with creative brand persona for each that includes the detail of their favorite movie, a summary of how this relates to their purchasing behavior, and a witty e-mail headline for marketing campaign targeted to their group:\")"
   ]
  },
  {
   "cell_type": "markdown",
   "metadata": {
    "tags": []
   },
   "source": [
    "## Now we can stick it behind a UI"
   ]
  },
  {
   "cell_type": "markdown",
   "metadata": {},
   "source": [
    "<p align=\"center\">\n",
    "  <img alt=\"Conceptual Flow\" src=\"slides/process6.png\" width=\"100%\">\n",
    "</p>"
   ]
  },
  {
   "cell_type": "code",
   "execution_count": 27,
   "metadata": {},
   "outputs": [
    {
     "name": "stdout",
     "output_type": "stream",
     "text": [
      "Running on local URL:  http://127.0.0.1:7860\n",
      "\n",
      "To create a public link, set `share=True` in `launch()`.\n"
     ]
    },
    {
     "data": {
      "text/html": [
       "<div><iframe src=\"http://127.0.0.1:7860/\" width=\"100%\" height=\"500\" allow=\"autoplay; camera; microphone; clipboard-read; clipboard-write;\" frameborder=\"0\" allowfullscreen></iframe></div>"
      ],
      "text/plain": [
       "<IPython.core.display.HTML object>"
      ]
     },
     "metadata": {},
     "output_type": "display_data"
    },
    {
     "data": {
      "text/plain": []
     },
     "execution_count": 27,
     "metadata": {},
     "output_type": "execute_result"
    }
   ],
   "source": [
    "import gradio as gr\n",
    "\n",
    "with gr.Blocks() as demo:\n",
    "    gr.Markdown(\n",
    "    \"\"\"\n",
    "    ## Persona Builder and Marketing Bot\n",
    "\n",
    "    ### Enter a task...\n",
    "\n",
    "    \"\"\")\n",
    "    with gr.Row():\n",
    "      with gr.Column():\n",
    "        input_text = gr.Textbox(label=\"Task\", placeholder=\"Pretend you're a creative strategist, given the following clusters: \")\n",
    "        \n",
    "        \n",
    "    with gr.Row():\n",
    "      generate = gr.Button(\"Generate Response\")\n",
    "\n",
    "    with gr.Row():\n",
    "      label2 = gr.Textbox(label=\"Prompt\")\n",
    "    with gr.Row():\n",
    "      label3 = gr.Textbox(label=\"Response generated by LLM\")\n",
    "\n",
    "    generate.click(persona_builder,input_text, [label2, label3])\n",
    "demo.launch(share=False, debug=False)"
   ]
  },
  {
   "cell_type": "code",
   "execution_count": null,
   "metadata": {},
   "outputs": [],
   "source": []
  }
 ],
 "metadata": {
  "colab": {
   "provenance": []
  },
  "kernelspec": {
   "display_name": "Python 3 (ipykernel)",
   "language": "python",
   "name": "python3"
  },
  "language_info": {
   "codemirror_mode": {
    "name": "ipython",
    "version": 3
   },
   "file_extension": ".py",
   "mimetype": "text/x-python",
   "name": "python",
   "nbconvert_exporter": "python",
   "pygments_lexer": "ipython3",
   "version": "3.9.6"
  }
 },
 "nbformat": 4,
 "nbformat_minor": 4
}
