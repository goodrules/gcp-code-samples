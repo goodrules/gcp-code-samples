{
 "cells": [
  {
   "cell_type": "markdown",
   "metadata": {
    "id": "HpRsp6gPO_ei"
   },
   "source": [
    "# Vertex LLM Demo: Simplify Complex Information\n",
    "\n",
    "This demo aims to distill critical points from text and informaton that is more consumable for non-experts to understand.  This could make information delivery more efficient more both the giver and receiver of information, for example a medical provider and a patient.\n",
    "\n",
    "# CUJs\n",
    "  * As a patient, I want to understand what this medical note means to me\n",
    "  * As a provider, I want to focus on critical and objective medical diagnoses and prognoses, and expedite delivery of information to patients.\n",
    "  * As a product manager, I want to understand the implications of a new technology to my product or future products.\n",
    "  * and many, many more...\n",
    "\n",
    "# What the code does\n",
    "\n",
    "  * The code takes a text as input, such as a medical chart note or complex technical explanation.\n",
    "  * It then pulls that text into a prompt, instructing the LLM to generate a  summary of the text for an individual at a more appropriate knowledge level (e.g. non-expert, patient, student).\n",
    "  * The model responds with a summary, and sometimes deeper explanations if certain terms within the summary still require expounding upon.\n",
    "\n",
    "# Instructions\n",
    "\n",
    "To run the demo, simply run all the cells in order. The hidden cells can remain hidden and you can run the entire section at once. Note that the workspace setup will trigger a runtime restart; that is working as intended to ensure the right version of the Cloud SDK is installed.\n",
    "\n",
    "\n",
    "# Limitations and ideas for extension\n",
    "\n",
    "  * Could possibly be used in a more real-time scenario as part of a chatbot deployed by medical providers / teachers / product teams / etc..\n",
    "  * The body of text currently needs to fit within the LLM's context window. We can naively solve that problem by chunking up the original body of text and generating summaries of smaller chunks.\n",
    "  * Some of the input could be sensitive and directly impactful, e.g. in the case of medical information, so the summary would need to be validated prior to a patient, student, individual seeing to ensure minimal or no misinformation.\n",
    "\n",
    "# Sample output\n",
    "\n",
    "**Original text**\n",
    "\n",
    "*72 year old man with h/o CHF following MI, chronic renal insufficiency and venous stasis admitted with worsening edema and DOE. His symptoms are most consistent with incrasing CHF-biventricular-which would account for both his pulmonary congestion as well as his peripheral edema. His renal disease is a less likely explanation for his extensive edema as his BUN/Cr have remained stable throughout. However, his low albumin which could contribute to his edema may be due to renal losses. So if his edema is due to CHF, why has it become gradually and now acutely worse? Possibilities include: 1) worsening LV function, 2) another MI, 3) worsening valvular disease, 4) poor compliance with medications or 5) excess salt and water intake. His ECHO today shows no change in his EF, but there is marked wall motion abnormalities with akinesis. There is no evidence in his history, EKG, or enzymes for current ischemia/infarct. He does have MR and TR and his valvular disease may in part account for his worsening symptoms though his estimated PA pressure is unchanged and his LA is not dilated. The most likely precipitant of his failure is a combination of poor compliance with medication and fluid overload from excessive intake. We will continue to investigate the possibility of a structural precipitant for his deterioration and treat his current symptoms.*\n",
    "\n",
    "**Response - non-expert summary (text-bison-001 model)**\n",
    "\n",
    "*72 year old man with heart failure due to previous heart attack, kidney disease and poor circulation is admitted to hospital with worsening symptoms. Doctors are trying to figure out what caused his condition to get worse. They think it could be because his heart is not working as well as it used to, or because he has another heart problem, or because he is not taking his medication properly, or because he is drinking too much water and eating too much salt. They will do more tests to find out the cause and treat his symptoms.*\n",
    "\n",
    "**Expanded Response - explanation of non-expert summary (text-bison-001 model)**\n",
    "\n",
    "*72 year old man with heart failure due to previous heart attack, kidney disease and poor circulation is admitted to hospital with worsening symptoms. Doctors are trying to figure out what caused his condition to get worse. They think it could be because his heart is not working as well as it used to, or because he has another heart problem, or because he is not taking his medication properly, or because he is drinking too much water and eating too much salt. They will do more tests to find out the cause and treat his symptoms.*\n",
    "\n",
    "*A 72-year-old man with heart failure due to a previous heart attack, kidney disease, and poor circulation was admitted to the hospital with worsening symptoms. The doctors are trying to figure out what caused his condition to get worse. They think it could be because his heart is not working as well as it used to, or because he has another heart problem, or because he is not taking his medication properly, or because he is drinking too much water and eating too much salt. They will do more tests to find out the cause and treat his symptoms.*\n",
    "\n",
    "*Heart failure is a condition in which the heart cannot pump enough blood to meet the body's needs. This can lead to symptoms such as shortness of breath, fatigue, and swelling in the feet, ankles, and legs. Heart failure can be caused by a number of factors, including heart attack, high blood pressure, and diabetes.*\n",
    "\n",
    "*Kidney disease is a condition in which the kidneys cannot function properly. This can lead to symptoms such as swelling, fatigue, and urination problems. Kidney disease can be caused by a number of factors, including high blood pressure, diabetes, and smoking.*\n",
    "\n",
    "*Poor circulation is a condition in which the blood does not flow properly through the body. This can lead to symptoms such as coldness, numbness, and pain in the feet, ankles, and legs. Poor circulation can be caused by a number of factors, including high blood pressure, diabetes, and smoking.*\n",
    "\n",
    "*The doctors are trying to figure out what caused the man's condition to get worse. They think it could be because his heart is not working as well as it used to, or because he has another heart problem, or because he is not taking his medication properly, or because he is drinking too much water and eating too much salt. They will do more tests to find out the cause and treat his symptoms.*\n",
    "\n",
    "*The man's treatment will depend on the cause of his condition. If his heart is not working as well as it used to, he may need surgery to repair or replace his heart. If he has another heart problem, he may need medication to treat it. If he is not taking his medication properly, he will need to be started on a new medication regimen. If he is drinking too much water and eating too much salt, he will need to be put on a diet that restricts his fluid and salt intake.*\n",
    "\n",
    "*The man's prognosis will depend on the cause of his condition and how well he responds to treatment. If his heart is not working as well as it used to, he may have a poor prognosis. If he has another heart problem, he may also have a poor prognosis. However, if he is taking his medication properly and is not drinking too much water and eating too much salt, he may have a good prognosis.*\n",
    "\n"
   ]
  },
  {
   "cell_type": "markdown",
   "metadata": {
    "id": "G1op-7KDlG5R"
   },
   "source": [
    "## LLM Setup ##\n",
    "\n",
    "---\n",
    "\n",
    "This section sets up an easy interface for interaction with Vertex LLM.\n",
    "\n",
    "---"
   ]
  },
  {
   "cell_type": "code",
   "execution_count": 1,
   "metadata": {},
   "outputs": [
    {
     "name": "stderr",
     "output_type": "stream",
     "text": [
      "2023-09-20 09:31:27.357506: I tensorflow/core/platform/cpu_feature_guard.cc:193] This TensorFlow binary is optimized with oneAPI Deep Neural Network Library (oneDNN) to use the following CPU instructions in performance-critical operations:  AVX2 FMA\n",
      "To enable them in other operations, rebuild TensorFlow with the appropriate compiler flags.\n"
     ]
    },
    {
     "name": "stdout",
     "output_type": "stream",
     "text": [
      "Vertex AI version: 1.32.0\n"
     ]
    }
   ],
   "source": [
    "from datetime import datetime\n",
    "import time\n",
    "import pandas as pd\n",
    "import numpy as np\n",
    "import json\n",
    "import os\n",
    "import matplotlib.pyplot as plt\n",
    "\n",
    "from IPython.display import Markdown\n",
    "\n",
    "import vertexai\n",
    "from vertexai.language_models import TextGenerationModel, TextEmbeddingModel\n",
    "from vertexai.preview.language_models import TextGenerationModel as TextGenerationModel_preview\n",
    "from google.cloud import aiplatform\n",
    "from google.cloud import storage\n",
    "from google.cloud import bigquery\n",
    "\n",
    "print(\"Vertex AI version: \" + str(aiplatform.__version__))"
   ]
  },
  {
   "cell_type": "markdown",
   "metadata": {
    "tags": []
   },
   "source": [
    "### Env variables and Setup"
   ]
  },
  {
   "cell_type": "code",
   "execution_count": 5,
   "metadata": {},
   "outputs": [
    {
     "data": {
      "text/plain": [
       "'mg-ce-demos'"
      ]
     },
     "execution_count": 5,
     "metadata": {},
     "output_type": "execute_result"
    }
   ],
   "source": [
    "project = !gcloud config get-value project\n",
    "PROJECT_ID = project[0]\n",
    "PROJECT_ID"
   ]
  },
  {
   "cell_type": "code",
   "execution_count": 6,
   "metadata": {},
   "outputs": [],
   "source": [
    "REGION = 'us-central1'\n",
    "LOCATION = 'us'"
   ]
  },
  {
   "cell_type": "code",
   "execution_count": 7,
   "metadata": {},
   "outputs": [],
   "source": [
    "VERTEX_LLM = 'text-bison@latest'\n",
    "VERTEX_LLM_32k = 'text-bison-32k'"
   ]
  },
  {
   "cell_type": "code",
   "execution_count": 8,
   "metadata": {},
   "outputs": [],
   "source": [
    "# gcs client\n",
    "gcs = storage.Client(project = PROJECT_ID)\n",
    "\n",
    "# vertex ai clients\n",
    "vertexai.init(project = PROJECT_ID, location = REGION)\n",
    "aiplatform.init(project = PROJECT_ID, location = REGION)"
   ]
  },
  {
   "cell_type": "markdown",
   "metadata": {
    "id": "-kQBpFXVw4E-"
   },
   "source": [
    "## Upload Sample Body of Text##\n",
    "\n",
    "---\n",
    "\n",
    "This section provides some example medical chart notes that a patient may see when provided by a provider.\n",
    "\n",
    "---\n",
    "\n"
   ]
  },
  {
   "cell_type": "code",
   "execution_count": 12,
   "metadata": {
    "id": "3e2FIHQ6w4uh"
   },
   "outputs": [],
   "source": [
    "# pulled from sources such as: https://www.mtsamples.com/site/pages/browse.asp?Type=87-Office%20Notes\n",
    "\n",
    "text_samples_med = [\n",
    "\"\"\"\n",
    "72 year old man with h/o CHF following MI, chronic renal insufficiency and venous stasis admitted with worsening edema and DOE.\n",
    "His symptoms are most consistent with incrasing CHF-biventricular-which would account for both his pulmonary congestion as well as his peripheral edema.\n",
    "His renal disease is a less likely explanation for his extensive edema as his BUN/Cr have remained stable throughout.\n",
    "However, his low albumin which could contribute to his edema may be due to renal losses.\n",
    "So if his edema is due to CHF, why has it become gradually and now acutely worse? Possibilities include:\n",
    "1) worsening LV function, 2) another MI, 3) worsening valvular disease, 4) poor compliance with medications or\n",
    "5) excess salt and water intake. His ECHO today shows no change in his EF, but there is marked wall motion abnormalities with akinesis.\n",
    "There is no evidence in his history, EKG, or enzymes for current ischemia/infarct.\n",
    "He does have MR and TR and his valvular disease may in part account for his worsening symptoms though his estimated PA pressure is unchanged and his LA is not dilated.\n",
    "The most likely precipitant of his failure is a combination of poor compliance with medication and fluid overload from excessive intake.\n",
    "We will continue to investigate the possibility of a structural precipitant for his deterioration and treat his current symptoms.\n",
    "\"\"\"\n",
    ",\"\"\"\n",
    "This 66-year-old white male was seen in my office on Month DD, YYYY. Patient was recently discharged from Doctors Hospital at Parkway after he was treated for pneumonia.\n",
    "Patient continues to have severe orthopnea, paroxysmal nocturnal dyspnea, cough with greenish expectoration.\n",
    "His exercise tolerance is about two to three yards for shortness of breath.\n",
    "The patient stopped taking Coumadin for reasons not very clear to him. He was documented to have recent atrial fibrillation.\n",
    "Patient has longstanding history of ischemic heart disease, end-stage LV systolic dysfunction, and is status post ICD implantation.\n",
    "Fasting blood sugar this morning is 130.\n",
    "\"\"\"\n",
    ",\"\"\"\n",
    "This 32-year-old with family history of premature coronary artery disease came in for evaluation of recurrent chest pain, O2 saturation at 94% with both atypical and typical features of ischemia.\n",
    "The patient ruled out for myocardial infarction with serial troponins.\n",
    "Nuclear stress test has been done, results of which are pending.\n",
    "The patient is stable to be discharged pending the results of nuclear stress test and cardiologist's recommendations.\n",
    "He will follow up with cardiologist, Dr. X, in two weeks and with his primary physician in two to four weeks.\n",
    "Discharge medications will depend on results of nuclear stress test.\n",
    "\"\"\"\n",
    ",\"\"\"\n",
    "The patient returns to our office today because of continued problems with her headaches.\n",
    "She was started on Zonegran on her last visit and she states that initially she titrated upto 100 mg q.h.s.\n",
    "Initially felt that the Zonegran helped, but then the pain in her head returned.\n",
    "It is an area of tenderness and sensitivity in her left parietal area.\n",
    "It is a very localized pain.\n",
    "She takes Motrin 400 mg b.i.d., which helped.\n",
    "She also had EMG/nerve conduction studies since she was last seen in our office that showed severe left ulnar neuropathy, moderate right ulnar neuropathy, bilateral mild-to-moderate carpal tunnel and diabetic neuropathy.\n",
    "She was referred to Dr. XYZ and will be seeing him on August 8, 2006.\n",
    "She was also never referred to the endocrine clinic to deal with her poor diabetes control.\n",
    "Her last hemoglobin A1c was 10.\n",
    "\"\"\"\n",
    "]\n",
    "text_samples_tech_math = [\n",
    "\"\"\"\n",
    "In probability theory and statistics, Bayes' theorem (alternatively Bayes' law or Bayes' rule), named after Thomas Bayes, describes the probability of an event, based on prior knowledge of conditions that might be related to the event.For example, if the risk of developing health problems is known to increase with age, Bayes' theorem allows the risk to an individual of a known age to be assessed more accurately by conditioning it relative to their age, rather than simply assuming that the individual is typical of the population as a whole.\n",
    "One of the many applications of Bayes' theorem is Bayesian inference, a particular approach to statistical inference. When applied, the probabilities involved in the theorem may have different probability interpretations. With Bayesian probability interpretation, the theorem expresses how a degree of belief, expressed as a probability, should rationally change to account for the availability of related evidence. Bayesian inference is fundamental to Bayesian statistics, being considered by one authority as; \"to the theory of probability what Pythagoras's theorem is to geometry.\n",
    "\"\"\"\n",
    ",\"\"\"\n",
    "Compound interest is the addition of interest to the principal sum of a loan or deposit, or in other words, interest on principal plus interest. It is the result of reinvesting interest, or adding it to the loaned capital rather than paying it out, or requiring payment from borrower, so that interest in the next period is then earned on the principal sum plus previously accumulated interest. Compound interest is standard in finance and economics.\n",
    "Compound interest is contrasted with simple interest, where previously accumulated interest is not added to the principal amount of the current period, so there is no compounding. The simple annual interest rate is the interest amount per period, multiplied by the number of periods per year. The simple annual interest rate is also known as the nominal interest rate (not to be confused with the interest rate not adjusted for inflation, which goes by the same name).\n",
    "\"\"\"\n",
    ",\"\"\"\n",
    "An application programming interface (API) is a way for two or more computer programs to communicate with each other. It is a type of software interface, offering a service to other pieces of software.[1] A document or standard that describes how to build or use such a connection or interface is called an API specification. A computer system that meets this standard is said to implement or expose an API. The term API may refer either to the specification or to the implementation.\n",
    "In contrast to a user interface, which connects a computer to a person, an application programming interface connects computers or pieces of software to each other. It is not intended to be used directly by a person (the end user) other than a computer programmer who is incorporating it into the software. An API is often made up of different parts which act as tools or services that are available to the programmer. A program or a programmer that uses one of these parts is said to call that portion of the API. The calls that make up the API are also known as subroutines, methods, requests, or endpoints. An API specification defines these calls, meaning that it explains how to use or implement them.\n",
    "One purpose of APIs is to hide the internal details of how a system works, exposing only those parts a programmer will find useful and keeping them consistent even if the internal details later change. An API may be custom-built for a particular pair of systems, or it may be a shared standard allowing interoperability among many systems.\n",
    "There are APIs for programming languages, software libraries, computer operating systems, and computer hardware. APIs originated in the 1940s, though the term did not emerge until the 1960s and 1970s. Contemporary usage of the term API often refers to web APIs,[2] which allow communication between computers that are joined by the internet. Recent developments in APIs have led to the rise in popularity of microservices, which are loosely coupled services accessed through public APIs.\n",
    "\"\"\"\n",
    "]"
   ]
  },
  {
   "cell_type": "code",
   "execution_count": 13,
   "metadata": {
    "colab": {
     "base_uri": "https://localhost:8080/"
    },
    "executionInfo": {
     "elapsed": 3,
     "status": "ok",
     "timestamp": 1682429337382,
     "user": {
      "displayName": "Mike Goodman",
      "userId": "06815737826177427562"
     },
     "user_tz": 240
    },
    "id": "TAVeNDFXYS4Q",
    "outputId": "dc53387b-8b86-4f72-96ce-9ce8fd9d44a5"
   },
   "outputs": [
    {
     "name": "stdout",
     "output_type": "stream",
     "text": [
      "\n",
      "72 year old man with h/o CHF following MI, chronic renal insufficiency and venous stasis admitted with worsening edema and DOE.\n",
      "His symptoms are most consistent with incrasing CHF-biventricular-which would account for both his pulmonary congestion as well as his peripheral edema.\n",
      "His renal disease is a less likely explanation for his extensive edema as his BUN/Cr have remained stable throughout.\n",
      "However, his low albumin which could contribute to his edema may be due to renal losses.\n",
      "So if his edema is due to CHF, why has it become gradually and now acutely worse? Possibilities include:\n",
      "1) worsening LV function, 2) another MI, 3) worsening valvular disease, 4) poor compliance with medications or\n",
      "5) excess salt and water intake. His ECHO today shows no change in his EF, but there is marked wall motion abnormalities with akinesis.\n",
      "There is no evidence in his history, EKG, or enzymes for current ischemia/infarct.\n",
      "He does have MR and TR and his valvular disease may in part account for his worsening symptoms though his estimated PA pressure is unchanged and his LA is not dilated.\n",
      "The most likely precipitant of his failure is a combination of poor compliance with medication and fluid overload from excessive intake.\n",
      "We will continue to investigate the possibility of a structural precipitant for his deterioration and treat his current symptoms.\n",
      "\n",
      "\n",
      "In probability theory and statistics, Bayes' theorem (alternatively Bayes' law or Bayes' rule), named after Thomas Bayes, describes the probability of an event, based on prior knowledge of conditions that might be related to the event.For example, if the risk of developing health problems is known to increase with age, Bayes' theorem allows the risk to an individual of a known age to be assessed more accurately by conditioning it relative to their age, rather than simply assuming that the individual is typical of the population as a whole.\n",
      "One of the many applications of Bayes' theorem is Bayesian inference, a particular approach to statistical inference. When applied, the probabilities involved in the theorem may have different probability interpretations. With Bayesian probability interpretation, the theorem expresses how a degree of belief, expressed as a probability, should rationally change to account for the availability of related evidence. Bayesian inference is fundamental to Bayesian statistics, being considered by one authority as; \"to the theory of probability what Pythagoras's theorem is to geometry.\n",
      "\n"
     ]
    }
   ],
   "source": [
    "print(text_samples_med[0])\n",
    "print(text_samples_tech_math[0])"
   ]
  },
  {
   "cell_type": "markdown",
   "metadata": {
    "id": "OxnLl0erRwPo"
   },
   "source": [
    "## Generate Summaries ##\n",
    "\n",
    "---\n",
    "\n",
    "Here we create a basic summary generation prompt and print the results.\n",
    "\n",
    "Results are OK.\n",
    "\n",
    "---"
   ]
  },
  {
   "cell_type": "code",
   "execution_count": 14,
   "metadata": {},
   "outputs": [],
   "source": [
    "textgen_model_32k = TextGenerationModel_preview.from_pretrained(VERTEX_LLM_32k)\n",
    "textgen_model = TextGenerationModel.from_pretrained(VERTEX_LLM)"
   ]
  },
  {
   "cell_type": "code",
   "execution_count": 15,
   "metadata": {
    "colab": {
     "base_uri": "https://localhost:8080/",
     "height": 984
    },
    "executionInfo": {
     "elapsed": 12165,
     "status": "ok",
     "timestamp": 1682429368990,
     "user": {
      "displayName": "Mike Goodman",
      "userId": "06815737826177427562"
     },
     "user_tz": 240
    },
    "id": "WTVIi0TxrrQG",
    "outputId": "ea62a6f4-238f-4fa8-aa77-7f7faa33194e"
   },
   "outputs": [
    {
     "data": {
      "text/markdown": [
       "## Original text"
      ],
      "text/plain": [
       "<IPython.core.display.Markdown object>"
      ]
     },
     "metadata": {},
     "output_type": "display_data"
    },
    {
     "data": {
      "text/markdown": [
       "\n",
       "72 year old man with h/o CHF following MI, chronic renal insufficiency and venous stasis admitted with worsening edema and DOE.\n",
       "His symptoms are most consistent with incrasing CHF-biventricular-which would account for both his pulmonary congestion as well as his peripheral edema.\n",
       "His renal disease is a less likely explanation for his extensive edema as his BUN/Cr have remained stable throughout.\n",
       "However, his low albumin which could contribute to his edema may be due to renal losses.\n",
       "So if his edema is due to CHF, why has it become gradually and now acutely worse? Possibilities include:\n",
       "1) worsening LV function, 2) another MI, 3) worsening valvular disease, 4) poor compliance with medications or\n",
       "5) excess salt and water intake. His ECHO today shows no change in his EF, but there is marked wall motion abnormalities with akinesis.\n",
       "There is no evidence in his history, EKG, or enzymes for current ischemia/infarct.\n",
       "He does have MR and TR and his valvular disease may in part account for his worsening symptoms though his estimated PA pressure is unchanged and his LA is not dilated.\n",
       "The most likely precipitant of his failure is a combination of poor compliance with medication and fluid overload from excessive intake.\n",
       "We will continue to investigate the possibility of a structural precipitant for his deterioration and treat his current symptoms.\n"
      ],
      "text/plain": [
       "<IPython.core.display.Markdown object>"
      ]
     },
     "metadata": {},
     "output_type": "display_data"
    },
    {
     "data": {
      "text/markdown": [
       "### Response"
      ],
      "text/plain": [
       "<IPython.core.display.Markdown object>"
      ]
     },
     "metadata": {},
     "output_type": "display_data"
    },
    {
     "data": {
      "text/markdown": [
       " 72-year-old man with a history of CHF, chronic renal insufficiency, and venous stasis is admitted with worsening edema and DOE.\n",
       "His symptoms are most consistent with increasing CHF-biventricular.\n",
       "His renal disease is a less likely explanation for his extensive edema.\n",
       "His low albumin may be due to renal losses.\n",
       "His ECHO today shows no change in his EF, but there is marked wall motion abnormalities with akinesis.\n",
       "The most likely precipitant of his failure is a combination of poor compliance with medication and fluid overload from excessive intake."
      ],
      "text/plain": [
       "<IPython.core.display.Markdown object>"
      ]
     },
     "metadata": {},
     "output_type": "display_data"
    },
    {
     "name": "stdout",
     "output_type": "stream",
     "text": [
      "-------------------------\n"
     ]
    },
    {
     "data": {
      "text/markdown": [
       "## Original text"
      ],
      "text/plain": [
       "<IPython.core.display.Markdown object>"
      ]
     },
     "metadata": {},
     "output_type": "display_data"
    },
    {
     "data": {
      "text/markdown": [
       "\n",
       "This 66-year-old white male was seen in my office on Month DD, YYYY. Patient was recently discharged from Doctors Hospital at Parkway after he was treated for pneumonia.\n",
       "Patient continues to have severe orthopnea, paroxysmal nocturnal dyspnea, cough with greenish expectoration.\n",
       "His exercise tolerance is about two to three yards for shortness of breath.\n",
       "The patient stopped taking Coumadin for reasons not very clear to him. He was documented to have recent atrial fibrillation.\n",
       "Patient has longstanding history of ischemic heart disease, end-stage LV systolic dysfunction, and is status post ICD implantation.\n",
       "Fasting blood sugar this morning is 130.\n"
      ],
      "text/plain": [
       "<IPython.core.display.Markdown object>"
      ]
     },
     "metadata": {},
     "output_type": "display_data"
    },
    {
     "data": {
      "text/markdown": [
       "### Response"
      ],
      "text/plain": [
       "<IPython.core.display.Markdown object>"
      ]
     },
     "metadata": {},
     "output_type": "display_data"
    },
    {
     "data": {
      "text/markdown": [
       " The patient is a 66-year-old white male with a history of atrial fibrillation, ischemic heart disease, end-stage LV systolic dysfunction, and ICD implantation. He was recently discharged from the hospital after being treated for pneumonia. He continues to have severe orthopnea, paroxysmal nocturnal dyspnea, and cough with greenish expectoration. His exercise tolerance is about two to three yards for shortness of breath. He stopped taking Coumadin for reasons not very clear to him. His fasting blood sugar this morning is 130."
      ],
      "text/plain": [
       "<IPython.core.display.Markdown object>"
      ]
     },
     "metadata": {},
     "output_type": "display_data"
    },
    {
     "name": "stdout",
     "output_type": "stream",
     "text": [
      "-------------------------\n"
     ]
    },
    {
     "data": {
      "text/markdown": [
       "## Original text"
      ],
      "text/plain": [
       "<IPython.core.display.Markdown object>"
      ]
     },
     "metadata": {},
     "output_type": "display_data"
    },
    {
     "data": {
      "text/markdown": [
       "\n",
       "This 32-year-old with family history of premature coronary artery disease came in for evaluation of recurrent chest pain, O2 saturation at 94% with both atypical and typical features of ischemia.\n",
       "The patient ruled out for myocardial infarction with serial troponins.\n",
       "Nuclear stress test has been done, results of which are pending.\n",
       "The patient is stable to be discharged pending the results of nuclear stress test and cardiologist's recommendations.\n",
       "He will follow up with cardiologist, Dr. X, in two weeks and with his primary physician in two to four weeks.\n",
       "Discharge medications will depend on results of nuclear stress test.\n"
      ],
      "text/plain": [
       "<IPython.core.display.Markdown object>"
      ]
     },
     "metadata": {},
     "output_type": "display_data"
    },
    {
     "data": {
      "text/markdown": [
       "### Response"
      ],
      "text/plain": [
       "<IPython.core.display.Markdown object>"
      ]
     },
     "metadata": {},
     "output_type": "display_data"
    },
    {
     "data": {
      "text/markdown": [
       " A 32-year-old male with a family history of premature coronary artery disease presented with recurrent chest pain and atypical and typical features of ischemia. The patient was ruled out for myocardial infarction with serial troponins. A nuclear stress test was performed and the patient was discharged pending the results of the test and cardiologist's recommendations. The patient will follow up with cardiologist, Dr. X, in two weeks and with his primary physician in two to four weeks. Discharge medications will depend on results of nuclear stress test."
      ],
      "text/plain": [
       "<IPython.core.display.Markdown object>"
      ]
     },
     "metadata": {},
     "output_type": "display_data"
    },
    {
     "name": "stdout",
     "output_type": "stream",
     "text": [
      "-------------------------\n"
     ]
    },
    {
     "data": {
      "text/markdown": [
       "## Original text"
      ],
      "text/plain": [
       "<IPython.core.display.Markdown object>"
      ]
     },
     "metadata": {},
     "output_type": "display_data"
    },
    {
     "data": {
      "text/markdown": [
       "\n",
       "The patient returns to our office today because of continued problems with her headaches.\n",
       "She was started on Zonegran on her last visit and she states that initially she titrated upto 100 mg q.h.s.\n",
       "Initially felt that the Zonegran helped, but then the pain in her head returned.\n",
       "It is an area of tenderness and sensitivity in her left parietal area.\n",
       "It is a very localized pain.\n",
       "She takes Motrin 400 mg b.i.d., which helped.\n",
       "She also had EMG/nerve conduction studies since she was last seen in our office that showed severe left ulnar neuropathy, moderate right ulnar neuropathy, bilateral mild-to-moderate carpal tunnel and diabetic neuropathy.\n",
       "She was referred to Dr. XYZ and will be seeing him on August 8, 2006.\n",
       "She was also never referred to the endocrine clinic to deal with her poor diabetes control.\n",
       "Her last hemoglobin A1c was 10.\n"
      ],
      "text/plain": [
       "<IPython.core.display.Markdown object>"
      ]
     },
     "metadata": {},
     "output_type": "display_data"
    },
    {
     "data": {
      "text/markdown": [
       "### Response"
      ],
      "text/plain": [
       "<IPython.core.display.Markdown object>"
      ]
     },
     "metadata": {},
     "output_type": "display_data"
    },
    {
     "data": {
      "text/markdown": [
       " The patient has been experiencing headaches and was prescribed Zonegran, which initially helped but then the pain returned.\n",
       "She has tenderness and sensitivity in her left parietal area and takes Motrin 400 mg b.i.d. for the pain.\n",
       "EMG/nerve conduction studies showed severe left ulnar neuropathy, moderate right ulnar neuropathy, bilateral mild-to-moderate carpal tunnel and diabetic neuropathy.\n",
       "She has been referred to Dr. XYZ for further evaluation and will be seeing him on August 8, 2006.\n",
       "She has not been referred to the endocrine clinic to deal with her poor diabetes control and her last hemoglobin A1c was 10."
      ],
      "text/plain": [
       "<IPython.core.display.Markdown object>"
      ]
     },
     "metadata": {},
     "output_type": "display_data"
    },
    {
     "name": "stdout",
     "output_type": "stream",
     "text": [
      "-------------------------\n"
     ]
    }
   ],
   "source": [
    "# Ask the LLM\n",
    "for text in text_samples_med:\n",
    "    prompt = \"\"\"\n",
    "    Summarize the key points of the text below:\n",
    "\n",
    "    Text:\n",
    "    {}\n",
    "    \"\"\".format(text)\n",
    "\n",
    "    # Send prompt to LLM\n",
    "    response = textgen_model.predict(\n",
    "       (prompt),\n",
    "        max_output_tokens=1024,\n",
    "        temperature=0.4,\n",
    "        top_p=0.8,\n",
    "        top_k=40,\n",
    "    )\n",
    "    display(Markdown(\"## Original text\"))\n",
    "    display(Markdown(text))\n",
    "    display(Markdown(\"### Response\"))\n",
    "    display(Markdown(str(response)))\n",
    "    print('-------------------------')"
   ]
  },
  {
   "cell_type": "code",
   "execution_count": 17,
   "metadata": {
    "colab": {
     "base_uri": "https://localhost:8080/",
     "height": 1000
    },
    "executionInfo": {
     "elapsed": 11910,
     "status": "ok",
     "timestamp": 1682429495201,
     "user": {
      "displayName": "Mike Goodman",
      "userId": "06815737826177427562"
     },
     "user_tz": 240
    },
    "id": "E8cvJt-lnF8l",
    "outputId": "15ba7963-6658-4f4f-ddc2-fc968c1e359b"
   },
   "outputs": [
    {
     "data": {
      "text/markdown": [
       "## Original text"
      ],
      "text/plain": [
       "<IPython.core.display.Markdown object>"
      ]
     },
     "metadata": {},
     "output_type": "display_data"
    },
    {
     "data": {
      "text/markdown": [
       "\n",
       "In probability theory and statistics, Bayes' theorem (alternatively Bayes' law or Bayes' rule), named after Thomas Bayes, describes the probability of an event, based on prior knowledge of conditions that might be related to the event.For example, if the risk of developing health problems is known to increase with age, Bayes' theorem allows the risk to an individual of a known age to be assessed more accurately by conditioning it relative to their age, rather than simply assuming that the individual is typical of the population as a whole.\n",
       "One of the many applications of Bayes' theorem is Bayesian inference, a particular approach to statistical inference. When applied, the probabilities involved in the theorem may have different probability interpretations. With Bayesian probability interpretation, the theorem expresses how a degree of belief, expressed as a probability, should rationally change to account for the availability of related evidence. Bayesian inference is fundamental to Bayesian statistics, being considered by one authority as; \"to the theory of probability what Pythagoras's theorem is to geometry.\n"
      ],
      "text/plain": [
       "<IPython.core.display.Markdown object>"
      ]
     },
     "metadata": {},
     "output_type": "display_data"
    },
    {
     "data": {
      "text/markdown": [
       "### Response"
      ],
      "text/plain": [
       "<IPython.core.display.Markdown object>"
      ]
     },
     "metadata": {},
     "output_type": "display_data"
    },
    {
     "data": {
      "text/markdown": [
       " Bayes' theorem is a fundamental theorem in probability theory and statistics that describes the probability of an event based on prior knowledge of conditions that might be related to the event. It allows for the assessment of the risk to an individual of a known age, for example, by conditioning it relative to their age, rather than simply assuming that the individual is typical of the population as a whole. One of the many applications of Bayes' theorem is Bayesian inference, a particular approach to statistical inference. When applied, the probabilities involved in the theorem may have different probability interpretations. With Bayesian probability interpretation, the theorem expresses how a degree of belief, expressed as a probability, should rationally change to account for the availability of related evidence. Bayesian inference is fundamental to Bayesian statistics."
      ],
      "text/plain": [
       "<IPython.core.display.Markdown object>"
      ]
     },
     "metadata": {},
     "output_type": "display_data"
    },
    {
     "name": "stdout",
     "output_type": "stream",
     "text": [
      "-------------------------\n"
     ]
    },
    {
     "data": {
      "text/markdown": [
       "## Original text"
      ],
      "text/plain": [
       "<IPython.core.display.Markdown object>"
      ]
     },
     "metadata": {},
     "output_type": "display_data"
    },
    {
     "data": {
      "text/markdown": [
       "\n",
       "Compound interest is the addition of interest to the principal sum of a loan or deposit, or in other words, interest on principal plus interest. It is the result of reinvesting interest, or adding it to the loaned capital rather than paying it out, or requiring payment from borrower, so that interest in the next period is then earned on the principal sum plus previously accumulated interest. Compound interest is standard in finance and economics.\n",
       "Compound interest is contrasted with simple interest, where previously accumulated interest is not added to the principal amount of the current period, so there is no compounding. The simple annual interest rate is the interest amount per period, multiplied by the number of periods per year. The simple annual interest rate is also known as the nominal interest rate (not to be confused with the interest rate not adjusted for inflation, which goes by the same name).\n"
      ],
      "text/plain": [
       "<IPython.core.display.Markdown object>"
      ]
     },
     "metadata": {},
     "output_type": "display_data"
    },
    {
     "data": {
      "text/markdown": [
       "### Response"
      ],
      "text/plain": [
       "<IPython.core.display.Markdown object>"
      ]
     },
     "metadata": {},
     "output_type": "display_data"
    },
    {
     "data": {
      "text/markdown": [
       " **Key points:**\n",
       "\n",
       "* Compound interest is the addition of interest to the principal sum of a loan or deposit.\n",
       "* It is the result of reinvesting interest, or adding it to the loaned capital rather than paying it out.\n",
       "* Compound interest is contrasted with simple interest, where previously accumulated interest is not added to the principal amount of the current period.\n",
       "* The simple annual interest rate is the interest amount per period, multiplied by the number of periods per year.\n",
       "* The simple annual interest rate is also known as the nominal interest rate."
      ],
      "text/plain": [
       "<IPython.core.display.Markdown object>"
      ]
     },
     "metadata": {},
     "output_type": "display_data"
    },
    {
     "name": "stdout",
     "output_type": "stream",
     "text": [
      "-------------------------\n"
     ]
    },
    {
     "data": {
      "text/markdown": [
       "## Original text"
      ],
      "text/plain": [
       "<IPython.core.display.Markdown object>"
      ]
     },
     "metadata": {},
     "output_type": "display_data"
    },
    {
     "data": {
      "text/markdown": [
       "\n",
       "An application programming interface (API) is a way for two or more computer programs to communicate with each other. It is a type of software interface, offering a service to other pieces of software.[1] A document or standard that describes how to build or use such a connection or interface is called an API specification. A computer system that meets this standard is said to implement or expose an API. The term API may refer either to the specification or to the implementation.\n",
       "In contrast to a user interface, which connects a computer to a person, an application programming interface connects computers or pieces of software to each other. It is not intended to be used directly by a person (the end user) other than a computer programmer who is incorporating it into the software. An API is often made up of different parts which act as tools or services that are available to the programmer. A program or a programmer that uses one of these parts is said to call that portion of the API. The calls that make up the API are also known as subroutines, methods, requests, or endpoints. An API specification defines these calls, meaning that it explains how to use or implement them.\n",
       "One purpose of APIs is to hide the internal details of how a system works, exposing only those parts a programmer will find useful and keeping them consistent even if the internal details later change. An API may be custom-built for a particular pair of systems, or it may be a shared standard allowing interoperability among many systems.\n",
       "There are APIs for programming languages, software libraries, computer operating systems, and computer hardware. APIs originated in the 1940s, though the term did not emerge until the 1960s and 1970s. Contemporary usage of the term API often refers to web APIs,[2] which allow communication between computers that are joined by the internet. Recent developments in APIs have led to the rise in popularity of microservices, which are loosely coupled services accessed through public APIs.\n"
      ],
      "text/plain": [
       "<IPython.core.display.Markdown object>"
      ]
     },
     "metadata": {},
     "output_type": "display_data"
    },
    {
     "data": {
      "text/markdown": [
       "### Response"
      ],
      "text/plain": [
       "<IPython.core.display.Markdown object>"
      ]
     },
     "metadata": {},
     "output_type": "display_data"
    },
    {
     "data": {
      "text/markdown": [
       " - An API (Application Programming Interface) is a set of protocols that allows different software components to communicate with each other.\n",
       "\n",
       "\n",
       "- APIs are not intended to be used directly by end-users, but rather by programmers who incorporate them into their own software.\n",
       "\n",
       "\n",
       "- APIs can be custom-built for specific systems or standardized to allow interoperability among many systems.\n",
       "\n",
       "\n",
       "- APIs exist for programming languages, software libraries, operating systems, and hardware.\n",
       "\n",
       "\n",
       "- APIs originated in the 1940s, but the term was coined in the 1960s and 1970s.\n",
       "\n",
       "\n",
       "- Today, APIs are often associated with web APIs that enable communication between computers over the internet.\n",
       "\n",
       "\n",
       "- The rise of microservices, which are loosely coupled services accessed through public APIs, has contributed to the popularity of APIs."
      ],
      "text/plain": [
       "<IPython.core.display.Markdown object>"
      ]
     },
     "metadata": {},
     "output_type": "display_data"
    },
    {
     "name": "stdout",
     "output_type": "stream",
     "text": [
      "-------------------------\n"
     ]
    }
   ],
   "source": [
    "# Ask the LLM\n",
    "for text in text_samples_tech_math:\n",
    "    prompt = \"\"\"\n",
    "    Summarize the key points of the text below:\n",
    "\n",
    "    Text:\n",
    "    {}\n",
    "    \"\"\".format(text)\n",
    "\n",
    "    # Send prompt to LLM\n",
    "    response = textgen_model.predict(\n",
    "       (prompt),\n",
    "        max_output_tokens=1024,\n",
    "        temperature=0.4,\n",
    "        top_p=0.8,\n",
    "        top_k=40,\n",
    "    )\n",
    "    display(Markdown(\"## Original text\"))\n",
    "    display(Markdown(text))\n",
    "    display(Markdown(\"### Response\"))\n",
    "    display(Markdown(str(response)))\n",
    "    print('-------------------------')"
   ]
  },
  {
   "cell_type": "markdown",
   "metadata": {
    "id": "zbKd3jJfnOO2"
   },
   "source": [
    "\n",
    "## Generate Non-Expert Summaries ##\n",
    "\n",
    "---\n",
    "\n",
    "Here we create a summary generation prompt that aims to simplify the content for non-experts and print the results.\n",
    "\n",
    "Results are better than the basic prompt.\n",
    "\n",
    "---"
   ]
  },
  {
   "cell_type": "code",
   "execution_count": 18,
   "metadata": {
    "colab": {
     "base_uri": "https://localhost:8080/"
    },
    "executionInfo": {
     "elapsed": 159,
     "status": "ok",
     "timestamp": 1682430977458,
     "user": {
      "displayName": "Mike Goodman",
      "userId": "06815737826177427562"
     },
     "user_tz": 240
    },
    "id": "7dmr0-a8sz4p",
    "outputId": "9ed4fbce-6ab4-44a2-bcf6-8b85b324e2fa"
   },
   "outputs": [
    {
     "data": {
      "text/plain": [
       "[]"
      ]
     },
     "execution_count": 18,
     "metadata": {},
     "output_type": "execute_result"
    }
   ],
   "source": [
    "summaries = []\n",
    "summaries"
   ]
  },
  {
   "cell_type": "code",
   "execution_count": 19,
   "metadata": {
    "colab": {
     "base_uri": "https://localhost:8080/",
     "height": 1000
    },
    "executionInfo": {
     "elapsed": 14570,
     "status": "ok",
     "timestamp": 1682430998525,
     "user": {
      "displayName": "Mike Goodman",
      "userId": "06815737826177427562"
     },
     "user_tz": 240
    },
    "id": "F7CSbbopcvlA",
    "outputId": "71e53f13-ef62-480d-9dc2-e13cb02d8ee4"
   },
   "outputs": [
    {
     "data": {
      "text/markdown": [
       "## Original text"
      ],
      "text/plain": [
       "<IPython.core.display.Markdown object>"
      ]
     },
     "metadata": {},
     "output_type": "display_data"
    },
    {
     "data": {
      "text/markdown": [
       "\n",
       "72 year old man with h/o CHF following MI, chronic renal insufficiency and venous stasis admitted with worsening edema and DOE.\n",
       "His symptoms are most consistent with incrasing CHF-biventricular-which would account for both his pulmonary congestion as well as his peripheral edema.\n",
       "His renal disease is a less likely explanation for his extensive edema as his BUN/Cr have remained stable throughout.\n",
       "However, his low albumin which could contribute to his edema may be due to renal losses.\n",
       "So if his edema is due to CHF, why has it become gradually and now acutely worse? Possibilities include:\n",
       "1) worsening LV function, 2) another MI, 3) worsening valvular disease, 4) poor compliance with medications or\n",
       "5) excess salt and water intake. His ECHO today shows no change in his EF, but there is marked wall motion abnormalities with akinesis.\n",
       "There is no evidence in his history, EKG, or enzymes for current ischemia/infarct.\n",
       "He does have MR and TR and his valvular disease may in part account for his worsening symptoms though his estimated PA pressure is unchanged and his LA is not dilated.\n",
       "The most likely precipitant of his failure is a combination of poor compliance with medication and fluid overload from excessive intake.\n",
       "We will continue to investigate the possibility of a structural precipitant for his deterioration and treat his current symptoms.\n"
      ],
      "text/plain": [
       "<IPython.core.display.Markdown object>"
      ]
     },
     "metadata": {},
     "output_type": "display_data"
    },
    {
     "data": {
      "text/markdown": [
       "### Response"
      ],
      "text/plain": [
       "<IPython.core.display.Markdown object>"
      ]
     },
     "metadata": {},
     "output_type": "display_data"
    },
    {
     "data": {
      "text/markdown": [
       " A 72-year-old man with a history of congestive heart failure (CHF), chronic kidney disease, and venous stasis is admitted to the hospital with worsening edema (swelling) and difficulty breathing.\n",
       "\n",
       "His symptoms are most likely due to worsening CHF. CHF can cause both pulmonary congestion (fluid in the lungs) and peripheral edema (swelling in the feet and ankles).\n",
       "\n",
       "His renal disease is a less likely explanation for his extensive edema because his kidney function has remained stable.\n",
       "\n",
       "However, his low albumin level, which can contribute to edema, may be due to renal losses.\n",
       "\n",
       "There are several possible reasons why his CHF has become gradually and now acutely worse. These include:\n",
       "* Worsening left ventricular function\n",
       "* Another heart attack\n",
       "* Worsening valvular disease\n",
       "* Poor compliance with medications\n",
       "* Excess salt and water intake\n",
       "\n",
       "His echocardiogram (ECHO) today shows no change in his ejection fraction (EF), but there are marked wall motion abnormalities with akinesis (absence of movement).\n",
       "\n",
       "There is no evidence in his history, EKG, or enzymes for current ischemia/infarct (heart attack).\n",
       "\n",
       "He does have mitral regurgitation (MR) and tricuspid regurgitation (TR), and his valvular disease may in part account for his worsening symptoms. However, his estimated pulmonary artery pressure is unchanged and his left atrium is not dilated.\n",
       "\n",
       "The most likely precipitant of his failure is a combination of poor compliance with medication and fluid overload from excessive intake.\n",
       "\n",
       "The patient will continue to be investigated for a structural precipitant for his deterioration and treated for his current symptoms."
      ],
      "text/plain": [
       "<IPython.core.display.Markdown object>"
      ]
     },
     "metadata": {},
     "output_type": "display_data"
    },
    {
     "name": "stdout",
     "output_type": "stream",
     "text": [
      "-------------------------\n"
     ]
    },
    {
     "data": {
      "text/markdown": [
       "## Original text"
      ],
      "text/plain": [
       "<IPython.core.display.Markdown object>"
      ]
     },
     "metadata": {},
     "output_type": "display_data"
    },
    {
     "data": {
      "text/markdown": [
       "\n",
       "This 66-year-old white male was seen in my office on Month DD, YYYY. Patient was recently discharged from Doctors Hospital at Parkway after he was treated for pneumonia.\n",
       "Patient continues to have severe orthopnea, paroxysmal nocturnal dyspnea, cough with greenish expectoration.\n",
       "His exercise tolerance is about two to three yards for shortness of breath.\n",
       "The patient stopped taking Coumadin for reasons not very clear to him. He was documented to have recent atrial fibrillation.\n",
       "Patient has longstanding history of ischemic heart disease, end-stage LV systolic dysfunction, and is status post ICD implantation.\n",
       "Fasting blood sugar this morning is 130.\n"
      ],
      "text/plain": [
       "<IPython.core.display.Markdown object>"
      ]
     },
     "metadata": {},
     "output_type": "display_data"
    },
    {
     "data": {
      "text/markdown": [
       "### Response"
      ],
      "text/plain": [
       "<IPython.core.display.Markdown object>"
      ]
     },
     "metadata": {},
     "output_type": "display_data"
    },
    {
     "data": {
      "text/markdown": [
       " This 66-year-old white male was seen in my office on Month DD, YYYY. He was recently discharged from Doctors Hospital at Parkway after he was treated for pneumonia. He continues to have severe shortness of breath, coughing, and greenish expectoration. \n",
       "\n",
       "His exercise tolerance is very limited due to shortness of breath. He stopped taking Coumadin for reasons not very clear to him. He has a history of atrial fibrillation, ischemic heart disease, and end-stage heart failure. His fasting blood sugar this morning is 130."
      ],
      "text/plain": [
       "<IPython.core.display.Markdown object>"
      ]
     },
     "metadata": {},
     "output_type": "display_data"
    },
    {
     "name": "stdout",
     "output_type": "stream",
     "text": [
      "-------------------------\n"
     ]
    },
    {
     "data": {
      "text/markdown": [
       "## Original text"
      ],
      "text/plain": [
       "<IPython.core.display.Markdown object>"
      ]
     },
     "metadata": {},
     "output_type": "display_data"
    },
    {
     "data": {
      "text/markdown": [
       "\n",
       "This 32-year-old with family history of premature coronary artery disease came in for evaluation of recurrent chest pain, O2 saturation at 94% with both atypical and typical features of ischemia.\n",
       "The patient ruled out for myocardial infarction with serial troponins.\n",
       "Nuclear stress test has been done, results of which are pending.\n",
       "The patient is stable to be discharged pending the results of nuclear stress test and cardiologist's recommendations.\n",
       "He will follow up with cardiologist, Dr. X, in two weeks and with his primary physician in two to four weeks.\n",
       "Discharge medications will depend on results of nuclear stress test.\n"
      ],
      "text/plain": [
       "<IPython.core.display.Markdown object>"
      ]
     },
     "metadata": {},
     "output_type": "display_data"
    },
    {
     "data": {
      "text/markdown": [
       "### Response"
      ],
      "text/plain": [
       "<IPython.core.display.Markdown object>"
      ]
     },
     "metadata": {},
     "output_type": "display_data"
    },
    {
     "data": {
      "text/markdown": [
       " A 32-year-old man with a family history of heart disease came to the hospital with chest pain. His oxygen saturation was 94%, which is slightly low. The patient was ruled out for a heart attack, and a nuclear stress test was done to check for ischemia (a lack of blood flow to the heart). The patient is stable and will be discharged from the hospital pending the results of the nuclear stress test and cardiologist's recommendations. He will follow up with his cardiologist and primary physician in the next few weeks. The medications he will take after discharge will depend on the results of the nuclear stress test."
      ],
      "text/plain": [
       "<IPython.core.display.Markdown object>"
      ]
     },
     "metadata": {},
     "output_type": "display_data"
    },
    {
     "name": "stdout",
     "output_type": "stream",
     "text": [
      "-------------------------\n"
     ]
    },
    {
     "data": {
      "text/markdown": [
       "## Original text"
      ],
      "text/plain": [
       "<IPython.core.display.Markdown object>"
      ]
     },
     "metadata": {},
     "output_type": "display_data"
    },
    {
     "data": {
      "text/markdown": [
       "\n",
       "The patient returns to our office today because of continued problems with her headaches.\n",
       "She was started on Zonegran on her last visit and she states that initially she titrated upto 100 mg q.h.s.\n",
       "Initially felt that the Zonegran helped, but then the pain in her head returned.\n",
       "It is an area of tenderness and sensitivity in her left parietal area.\n",
       "It is a very localized pain.\n",
       "She takes Motrin 400 mg b.i.d., which helped.\n",
       "She also had EMG/nerve conduction studies since she was last seen in our office that showed severe left ulnar neuropathy, moderate right ulnar neuropathy, bilateral mild-to-moderate carpal tunnel and diabetic neuropathy.\n",
       "She was referred to Dr. XYZ and will be seeing him on August 8, 2006.\n",
       "She was also never referred to the endocrine clinic to deal with her poor diabetes control.\n",
       "Her last hemoglobin A1c was 10.\n"
      ],
      "text/plain": [
       "<IPython.core.display.Markdown object>"
      ]
     },
     "metadata": {},
     "output_type": "display_data"
    },
    {
     "data": {
      "text/markdown": [
       "### Response"
      ],
      "text/plain": [
       "<IPython.core.display.Markdown object>"
      ]
     },
     "metadata": {},
     "output_type": "display_data"
    },
    {
     "data": {
      "text/markdown": [
       " The patient is returning to the office because her headaches have not improved. \n",
       "She was prescribed Zonegran, but it did not help. \n",
       "She has pain in her left parietal area that is relieved by Motrin. \n",
       "She also has diabetic neuropathy and carpal tunnel syndrome. \n",
       "She has been referred to a neurologist and an endocrinologist."
      ],
      "text/plain": [
       "<IPython.core.display.Markdown object>"
      ]
     },
     "metadata": {},
     "output_type": "display_data"
    },
    {
     "name": "stdout",
     "output_type": "stream",
     "text": [
      "-------------------------\n"
     ]
    }
   ],
   "source": [
    "# Ask the LLM\n",
    "for text in text_samples_med:\n",
    "    prompt = \"\"\"\n",
    "    Generate a summary that a non-expert would understand of the following text:\n",
    "\n",
    "    Text:\n",
    "    {}\n",
    "    \"\"\".format(text)\n",
    "\n",
    "    # Send prompt to LLM\n",
    "    response = textgen_model.predict(\n",
    "       (prompt),\n",
    "        max_output_tokens=1024,\n",
    "        temperature=0.4,\n",
    "        top_p=0.8,\n",
    "        top_k=40,\n",
    "    )\n",
    "    summaries.append(response)\n",
    "    display(Markdown(\"## Original text\"))\n",
    "    display(Markdown(text))\n",
    "    display(Markdown(\"### Response\"))\n",
    "    display(Markdown(str(response)))\n",
    "    print('-------------------------')"
   ]
  },
  {
   "cell_type": "code",
   "execution_count": 20,
   "metadata": {
    "colab": {
     "base_uri": "https://localhost:8080/",
     "height": 1000
    },
    "executionInfo": {
     "elapsed": 10817,
     "status": "ok",
     "timestamp": 1682431009340,
     "user": {
      "displayName": "Mike Goodman",
      "userId": "06815737826177427562"
     },
     "user_tz": 240
    },
    "id": "xYa1rFZ-nm0U",
    "outputId": "c7468c2d-c116-40dc-86ac-451f1747a9ac"
   },
   "outputs": [
    {
     "data": {
      "text/markdown": [
       "## Original text"
      ],
      "text/plain": [
       "<IPython.core.display.Markdown object>"
      ]
     },
     "metadata": {},
     "output_type": "display_data"
    },
    {
     "data": {
      "text/markdown": [
       "\n",
       "In probability theory and statistics, Bayes' theorem (alternatively Bayes' law or Bayes' rule), named after Thomas Bayes, describes the probability of an event, based on prior knowledge of conditions that might be related to the event.For example, if the risk of developing health problems is known to increase with age, Bayes' theorem allows the risk to an individual of a known age to be assessed more accurately by conditioning it relative to their age, rather than simply assuming that the individual is typical of the population as a whole.\n",
       "One of the many applications of Bayes' theorem is Bayesian inference, a particular approach to statistical inference. When applied, the probabilities involved in the theorem may have different probability interpretations. With Bayesian probability interpretation, the theorem expresses how a degree of belief, expressed as a probability, should rationally change to account for the availability of related evidence. Bayesian inference is fundamental to Bayesian statistics, being considered by one authority as; \"to the theory of probability what Pythagoras's theorem is to geometry.\n"
      ],
      "text/plain": [
       "<IPython.core.display.Markdown object>"
      ]
     },
     "metadata": {},
     "output_type": "display_data"
    },
    {
     "data": {
      "text/markdown": [
       "### Response"
      ],
      "text/plain": [
       "<IPython.core.display.Markdown object>"
      ]
     },
     "metadata": {},
     "output_type": "display_data"
    },
    {
     "data": {
      "text/markdown": [
       " Bayes' theorem is a way of calculating the probability of an event based on prior knowledge of conditions that might be related to the event. For example, if we know that the risk of developing health problems increases with age, we can use Bayes' theorem to calculate the risk to an individual of a known age more accurately than if we simply assumed that the individual is typical of the population as a whole. \n",
       "\n",
       "One of the many applications of Bayes' theorem is Bayesian inference, which is a particular approach to statistical inference. When applied, the probabilities involved in the theorem may have different probability interpretations. With Bayesian probability interpretation, the theorem expresses how a degree of belief, expressed as a probability, should rationally change to account for the availability of related evidence. Bayesian inference is fundamental to Bayesian statistics."
      ],
      "text/plain": [
       "<IPython.core.display.Markdown object>"
      ]
     },
     "metadata": {},
     "output_type": "display_data"
    },
    {
     "name": "stdout",
     "output_type": "stream",
     "text": [
      "-------------------------\n"
     ]
    },
    {
     "data": {
      "text/markdown": [
       "## Original text"
      ],
      "text/plain": [
       "<IPython.core.display.Markdown object>"
      ]
     },
     "metadata": {},
     "output_type": "display_data"
    },
    {
     "data": {
      "text/markdown": [
       "\n",
       "Compound interest is the addition of interest to the principal sum of a loan or deposit, or in other words, interest on principal plus interest. It is the result of reinvesting interest, or adding it to the loaned capital rather than paying it out, or requiring payment from borrower, so that interest in the next period is then earned on the principal sum plus previously accumulated interest. Compound interest is standard in finance and economics.\n",
       "Compound interest is contrasted with simple interest, where previously accumulated interest is not added to the principal amount of the current period, so there is no compounding. The simple annual interest rate is the interest amount per period, multiplied by the number of periods per year. The simple annual interest rate is also known as the nominal interest rate (not to be confused with the interest rate not adjusted for inflation, which goes by the same name).\n"
      ],
      "text/plain": [
       "<IPython.core.display.Markdown object>"
      ]
     },
     "metadata": {},
     "output_type": "display_data"
    },
    {
     "data": {
      "text/markdown": [
       "### Response"
      ],
      "text/plain": [
       "<IPython.core.display.Markdown object>"
      ]
     },
     "metadata": {},
     "output_type": "display_data"
    },
    {
     "data": {
      "text/markdown": [
       " Compound interest is a type of interest that is added to the principal amount of a loan or deposit. This means that the interest is calculated on the original amount of the loan or deposit, plus any interest that has already been earned. This can lead to a snowball effect, where the amount of interest earned increases over time.\n",
       "\n",
       "Compound interest is different from simple interest, which is calculated only on the original amount of the loan or deposit. This means that the amount of interest earned under simple interest will always be less than the amount of interest earned under compound interest.\n",
       "\n",
       "Compound interest is a powerful force that can help you grow your wealth over time. However, it can also work against you if you are in debt. If you are paying interest on a loan, it is important to make sure that you are making payments on time and in full. Otherwise, the amount of interest you owe can quickly spiral out of control."
      ],
      "text/plain": [
       "<IPython.core.display.Markdown object>"
      ]
     },
     "metadata": {},
     "output_type": "display_data"
    },
    {
     "name": "stdout",
     "output_type": "stream",
     "text": [
      "-------------------------\n"
     ]
    },
    {
     "data": {
      "text/markdown": [
       "## Original text"
      ],
      "text/plain": [
       "<IPython.core.display.Markdown object>"
      ]
     },
     "metadata": {},
     "output_type": "display_data"
    },
    {
     "data": {
      "text/markdown": [
       "\n",
       "An application programming interface (API) is a way for two or more computer programs to communicate with each other. It is a type of software interface, offering a service to other pieces of software.[1] A document or standard that describes how to build or use such a connection or interface is called an API specification. A computer system that meets this standard is said to implement or expose an API. The term API may refer either to the specification or to the implementation.\n",
       "In contrast to a user interface, which connects a computer to a person, an application programming interface connects computers or pieces of software to each other. It is not intended to be used directly by a person (the end user) other than a computer programmer who is incorporating it into the software. An API is often made up of different parts which act as tools or services that are available to the programmer. A program or a programmer that uses one of these parts is said to call that portion of the API. The calls that make up the API are also known as subroutines, methods, requests, or endpoints. An API specification defines these calls, meaning that it explains how to use or implement them.\n",
       "One purpose of APIs is to hide the internal details of how a system works, exposing only those parts a programmer will find useful and keeping them consistent even if the internal details later change. An API may be custom-built for a particular pair of systems, or it may be a shared standard allowing interoperability among many systems.\n",
       "There are APIs for programming languages, software libraries, computer operating systems, and computer hardware. APIs originated in the 1940s, though the term did not emerge until the 1960s and 1970s. Contemporary usage of the term API often refers to web APIs,[2] which allow communication between computers that are joined by the internet. Recent developments in APIs have led to the rise in popularity of microservices, which are loosely coupled services accessed through public APIs.\n"
      ],
      "text/plain": [
       "<IPython.core.display.Markdown object>"
      ]
     },
     "metadata": {},
     "output_type": "display_data"
    },
    {
     "data": {
      "text/markdown": [
       "### Response"
      ],
      "text/plain": [
       "<IPython.core.display.Markdown object>"
      ]
     },
     "metadata": {},
     "output_type": "display_data"
    },
    {
     "data": {
      "text/markdown": [
       " An API is a set of instructions that allows different software components to communicate with each other. It's like a waiter taking your order at a restaurant - the waiter doesn't need to know how the food is cooked, they just need to know what you want and how to get it to you. APIs are used to connect different parts of a software system, or to connect different software systems together. They can be used to exchange data, perform actions, or get information. APIs are essential for building complex software systems, and they're becoming increasingly important as more and more devices and services are connected to the internet."
      ],
      "text/plain": [
       "<IPython.core.display.Markdown object>"
      ]
     },
     "metadata": {},
     "output_type": "display_data"
    },
    {
     "name": "stdout",
     "output_type": "stream",
     "text": [
      "-------------------------\n"
     ]
    }
   ],
   "source": [
    "# Ask the LLM\n",
    "for text in text_samples_tech_math:\n",
    "    prompt = \"\"\"\n",
    "    Generate a summary that a non-expert would understand of the following text:\n",
    "\n",
    "    Text:\n",
    "    {}\n",
    "    \"\"\".format(text)\n",
    "\n",
    "    # Send prompt to LLM\n",
    "    response = textgen_model.predict(\n",
    "       (prompt),\n",
    "        max_output_tokens=1024,\n",
    "        temperature=0.4,\n",
    "        top_p=0.8,\n",
    "        top_k=40,\n",
    "    )\n",
    "    summaries.append(response)\n",
    "    display(Markdown(\"## Original text\"))\n",
    "    display(Markdown(text))\n",
    "    display(Markdown(\"### Response\"))\n",
    "    display(Markdown(str(response)))\n",
    "    print('-------------------------')"
   ]
  },
  {
   "cell_type": "markdown",
   "metadata": {
    "id": "hs9inCtkpZ6i"
   },
   "source": [
    "\n",
    "## Generate Explanations Based on Simplified Summaries ##\n",
    "\n",
    "---\n",
    "\n",
    "Here we create an explanation generation prompt that aims to expand upon the summaries for non-experts and print the results.\n",
    "\n",
    "Results are ___.\n",
    "\n",
    "---"
   ]
  },
  {
   "cell_type": "code",
   "execution_count": 21,
   "metadata": {
    "colab": {
     "base_uri": "https://localhost:8080/"
    },
    "executionInfo": {
     "elapsed": 4,
     "status": "ok",
     "timestamp": 1682431009834,
     "user": {
      "displayName": "Mike Goodman",
      "userId": "06815737826177427562"
     },
     "user_tz": 240
    },
    "id": "e6BsjnswqDXS",
    "outputId": "8f749763-d169-40ec-86dd-e2c5b9a0f2ae"
   },
   "outputs": [
    {
     "data": {
      "text/plain": [
       "7"
      ]
     },
     "execution_count": 21,
     "metadata": {},
     "output_type": "execute_result"
    }
   ],
   "source": [
    "len(summaries)"
   ]
  },
  {
   "cell_type": "code",
   "execution_count": null,
   "metadata": {
    "colab": {
     "base_uri": "https://localhost:8080/",
     "height": 1000
    },
    "executionInfo": {
     "elapsed": 60293,
     "status": "ok",
     "timestamp": 1682431184707,
     "user": {
      "displayName": "Mike Goodman",
      "userId": "06815737826177427562"
     },
     "user_tz": 240
    },
    "id": "XdFU4IsLprq-",
    "outputId": "5f95eae5-01a6-4328-ef16-b3850cf49809"
   },
   "outputs": [],
   "source": [
    "for summary in summaries:\n",
    "\n",
    "    generation_prompt = \"\"\"\n",
    "    Generate a more detailed explanation that a non-expert would understand of the following text.\n",
    "\n",
    "    Previous Summary:\n",
    "    {}\n",
    "\n",
    "    Explanation:\n",
    "    \"\"\".format(summary)\n",
    "\n",
    "    # Send prompt to LLM\n",
    "    response = textgen_model.predict(\n",
    "       (prompt),\n",
    "        max_output_tokens=1024,\n",
    "        temperature=0.4,\n",
    "        top_p=0.8,\n",
    "        top_k=40,\n",
    "    )\n",
    "    summaries.append(response)\n",
    "    display(Markdown(\"## Original text\"))\n",
    "    display(Markdown(summary))\n",
    "    display(Markdown(\"### Response\"))\n",
    "    display(Markdown(str(response)))\n",
    "    print('-------------------------')\n"
   ]
  },
  {
   "cell_type": "markdown",
   "metadata": {
    "id": "_yRxrJC6n6zu"
   },
   "source": [
    "\n",
    "## Generate Even Simpler Summaries ##\n",
    "\n",
    "---\n",
    "\n",
    "Here we create a summary generation prompt that aims to simplify the content to even a lower level and use bullets to format and print the results.\n",
    "\n",
    "Results are generally similar to the previous attempt, and don't always include bullet points in the response.\n",
    "\n",
    "---"
   ]
  },
  {
   "cell_type": "code",
   "execution_count": null,
   "metadata": {
    "colab": {
     "base_uri": "https://localhost:8080/",
     "height": 1000
    },
    "executionInfo": {
     "elapsed": 13723,
     "status": "ok",
     "timestamp": 1682429835252,
     "user": {
      "displayName": "Mike Goodman",
      "userId": "06815737826177427562"
     },
     "user_tz": 240
    },
    "id": "mq7vHkDtUSl8",
    "outputId": "18301ea4-7f0d-48b2-ddb4-317e7ec6217a"
   },
   "outputs": [],
   "source": [
    "for text in text_samples_med:\n",
    "\n",
    "    generation_prompt = \"\"\"\n",
    "    Generate a 3-5 bullet-point summary that a 6th grader would understand of the following text.\n",
    "\n",
    "    Text:\n",
    "    {}\n",
    "\n",
    "    Summary:\n",
    "    \"\"\".format(text)\n",
    "\n",
    "    # Send prompt to LLM\n",
    "    response = textgen_model.predict(\n",
    "       (prompt),\n",
    "        max_output_tokens=1024,\n",
    "        temperature=0.4,\n",
    "        top_p=0.8,\n",
    "        top_k=40,\n",
    "    )\n",
    "    summaries.append(response)\n",
    "    display(Markdown(\"## Original text\"))\n",
    "    display(Markdown(text))\n",
    "    display(Markdown(\"### Response\"))\n",
    "    display(Markdown(str(response)))\n",
    "    print('-------------------------')\n"
   ]
  },
  {
   "cell_type": "code",
   "execution_count": null,
   "metadata": {
    "colab": {
     "base_uri": "https://localhost:8080/",
     "height": 1000
    },
    "executionInfo": {
     "elapsed": 10739,
     "status": "ok",
     "timestamp": 1682429858156,
     "user": {
      "displayName": "Mike Goodman",
      "userId": "06815737826177427562"
     },
     "user_tz": 240
    },
    "id": "F6G9CHZhcrTK",
    "outputId": "70a0b726-d204-44a4-8e3b-c5a118fb4aad"
   },
   "outputs": [],
   "source": [
    "for text in text_samples_tech_math:\n",
    "\n",
    "    generation_prompt = \"\"\"\n",
    "    Generate a 3-5 bullet-point summary that a 6th grader would understand of the following text.\n",
    "\n",
    "    Text:\n",
    "    {}\n",
    "\n",
    "    Summary:\n",
    "    \"\"\".format(text)\n",
    "\n",
    "    # Send prompt to LLM\n",
    "    response = textgen_model.predict(\n",
    "       (prompt),\n",
    "        max_output_tokens=1024,\n",
    "        temperature=0.4,\n",
    "        top_p=0.8,\n",
    "        top_k=40,\n",
    "    )\n",
    "    summaries.append(response)\n",
    "    display(Markdown(\"## Original text\"))\n",
    "    display(Markdown(text))\n",
    "    display(Markdown(\"### Response\"))\n",
    "    display(Markdown(str(response)))\n",
    "    print('-------------------------')\n"
   ]
  },
  {
   "cell_type": "code",
   "execution_count": null,
   "metadata": {},
   "outputs": [],
   "source": []
  }
 ],
 "metadata": {
  "colab": {
   "collapsed_sections": [
    "8ZUJB93GQmAI"
   ],
   "provenance": [
    {
     "file_id": "1y6-VLcwOwTKL_P7HFS9U09TqFa9YxY13",
     "timestamp": 1681738411992
    },
    {
     "file_id": "1AN-yYXFMp4-ClAzkxYCM2pRW14wox99i",
     "timestamp": 1680118336983
    },
    {
     "file_id": "1TklcZV5maqYmE10PUBujqYUoqWCRAHz2",
     "timestamp": 1680114454708
    },
    {
     "file_id": "131DABjKtvCidoc9iw48i633j-uelY1if",
     "timestamp": 1680113609815
    }
   ]
  },
  "kernelspec": {
   "display_name": "Python 3 (ipykernel)",
   "language": "python",
   "name": "python3"
  },
  "language_info": {
   "codemirror_mode": {
    "name": "ipython",
    "version": 3
   },
   "file_extension": ".py",
   "mimetype": "text/x-python",
   "name": "python",
   "nbconvert_exporter": "python",
   "pygments_lexer": "ipython3",
   "version": "3.9.6"
  }
 },
 "nbformat": 4,
 "nbformat_minor": 4
}
