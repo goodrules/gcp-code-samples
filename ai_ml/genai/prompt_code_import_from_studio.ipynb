{
 "cells": [
  {
   "cell_type": "markdown",
   "id": "21e3efc4-4122-4c1e-8614-6eac456be36c",
   "metadata": {},
   "source": [
    "# Import code snippet produced by Gen AI Studio"
   ]
  },
  {
   "cell_type": "markdown",
   "id": "913f378d-ff10-4120-898b-f6ca19bb3227",
   "metadata": {},
   "source": [
    "## Jargon Translator"
   ]
  },
  {
   "cell_type": "markdown",
   "id": "d9a494f9-3a4e-4b8f-b2ff-2d128d7c2dbe",
   "metadata": {},
   "source": [
    "Installs:"
   ]
  },
  {
   "cell_type": "code",
   "execution_count": 1,
   "id": "d1e10bc1-0f2c-4dcc-9754-6e14dde8adef",
   "metadata": {},
   "outputs": [
    {
     "name": "stdout",
     "output_type": "stream",
     "text": [
      "Requirement already satisfied: vertexai in /Users/mikegoodman/Documents/developer/venv/lib/python3.9/site-packages (0.0.1)\n"
     ]
    }
   ],
   "source": [
    "# Vertex AI GenAI Studio SDK - Update the aiplatform SDK\n",
    "!pip install vertexai\n",
    "!pip install google.cloud.aiplatform -U -q"
   ]
  },
  {
   "cell_type": "markdown",
   "id": "865f4b62-e434-4053-a285-2e047e5d6fa2",
   "metadata": {},
   "source": [
    "Code:"
   ]
  },
  {
   "cell_type": "code",
   "execution_count": 2,
   "id": "5ccf7071-41a3-4b5f-86d6-2fccb343b2e8",
   "metadata": {},
   "outputs": [
    {
     "name": "stdout",
     "output_type": "stream",
     "text": [
      "Response from Model: Bayes' theorem is a way to update your beliefs about the probability of something happening, based on new information. For example, if you know that the risk of developing health problems increases with age, you can use Bayes' theorem to more accurately assess your own risk of developing health problems, based on your age.\n",
      "Bayes' theorem is used in many different fields, including medicine, finance, and criminal justice. It is a powerful tool for making informed decisions, even when there is uncertainty.\n"
     ]
    }
   ],
   "source": [
    "import vertexai\n",
    "from vertexai.preview.language_models import TextGenerationModel\n",
    "\n",
    "def predict_large_language_model_sample(\n",
    "    project_id: str,\n",
    "    model_name: str,\n",
    "    temperature: float,\n",
    "    max_decode_steps: int,\n",
    "    top_p: float,\n",
    "    top_k: int,\n",
    "    content: str,\n",
    "    location: str = \"us-central1\",\n",
    "    tuned_model_name: str = \"\",\n",
    "    ) :\n",
    "    \"\"\"Predict using a Large Language Model.\"\"\"\n",
    "    vertexai.init(project=project_id, location=location)\n",
    "    model = TextGenerationModel.from_pretrained(model_name)\n",
    "    if tuned_model_name:\n",
    "      model = model.get_tuned_model(tuned_model_name)\n",
    "    response = model.predict(\n",
    "        content,\n",
    "        temperature=temperature,\n",
    "        max_output_tokens=max_decode_steps,\n",
    "        top_k=top_k,\n",
    "        top_p=top_p,)\n",
    "    print(f\"Response from Model: {response.text}\")\n",
    "predict_large_language_model_sample(\"mg-ce-demos\", \"text-bison@001\", 0.3, 1024, 0.8, 40, '''Generate a summary that a non-expert would understand of the following text: \n",
    "\n",
    "In probability theory and statistics, Bayes\\' theorem (alternatively Bayes\\' law or Bayes\\' rule), named after Thomas Bayes, describes the probability of an event, based on prior knowledge of conditions that might be related to the event.For example, if the risk of developing health problems is known to increase with age, Bayes\\' theorem allows the risk to an individual of a known age to be assessed more accurately by conditioning it relative to their age, rather than simply assuming that the individual is typical of the population as a whole.\n",
    "One of the many applications of Bayes\\' theorem is Bayesian inference, a particular approach to statistical inference. When applied, the probabilities involved in the theorem may have different probability interpretations. With Bayesian probability interpretation, the theorem expresses how a degree of belief, expressed as a probability, should rationally change to account for the availability of related evidence. Bayesian inference is fundamental to Bayesian statistics, being considered by one authority as; \"to the theory of probability what Pythagoras\\'s theorem is to geometry.''', \"us-central1\")"
   ]
  }
 ],
 "metadata": {
  "kernelspec": {
   "display_name": "Python 3 (ipykernel)",
   "language": "python",
   "name": "python3"
  },
  "language_info": {
   "codemirror_mode": {
    "name": "ipython",
    "version": 3
   },
   "file_extension": ".py",
   "mimetype": "text/x-python",
   "name": "python",
   "nbconvert_exporter": "python",
   "pygments_lexer": "ipython3",
   "version": "3.9.6"
  }
 },
 "nbformat": 4,
 "nbformat_minor": 5
}
