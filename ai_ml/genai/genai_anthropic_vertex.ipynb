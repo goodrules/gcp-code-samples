{
 "cells": [
  {
   "cell_type": "markdown",
   "id": "c80c2a04-14dc-4f7d-aab2-60d0015ad896",
   "metadata": {},
   "source": [
    "# GenAI - Anthropic on Vertex"
   ]
  },
  {
   "cell_type": "markdown",
   "id": "a67be22b-f563-4b0b-ab3d-8866723d2102",
   "metadata": {},
   "source": [
    "---\n",
    "## Installs\n",
    "\n",
    "The list `packages` contains tuples of package import names and install names.  If the import name is not found then the install name is used to install quitely for the current user."
   ]
  },
  {
   "cell_type": "code",
   "execution_count": 21,
   "id": "b15cbe64-1a11-41a6-b09a-93d7e8dcc99d",
   "metadata": {
    "tags": []
   },
   "outputs": [
    {
     "name": "stdout",
     "output_type": "stream",
     "text": [
      "\u001b[31mERROR: pip's dependency resolver does not currently take into account all the packages that are installed. This behaviour is the source of the following dependency conflicts.\n",
      "vertexai 1.71.1 requires google-cloud-aiplatform[all]==1.71.1, but you have google-cloud-aiplatform 1.84.0 which is incompatible.\u001b[0m\u001b[31m\n",
      "\u001b[31mERROR: pip's dependency resolver does not currently take into account all the packages that are installed. This behaviour is the source of the following dependency conflicts.\n",
      "langchain-google-vertexai 2.0.13 requires google-cloud-storage<3.0.0,>=2.18.0, but you have google-cloud-storage 3.1.0 which is incompatible.\n",
      "google-cloud-aiplatform 1.84.0 requires google-cloud-storage<3.0.0dev,>=1.32.0, but you have google-cloud-storage 3.1.0 which is incompatible.\u001b[0m\u001b[31m\n",
      "\u001b[31mERROR: pip's dependency resolver does not currently take into account all the packages that are installed. This behaviour is the source of the following dependency conflicts.\n",
      "google-cloud-aiplatform 1.84.0 requires google-cloud-storage<3.0.0dev,>=1.32.0, but you have google-cloud-storage 3.1.0 which is incompatible.\u001b[0m\u001b[31m\n",
      "\u001b[0m"
     ]
    }
   ],
   "source": [
    "# tuples of (import name, install name, min_version)\n",
    "packages = [\n",
    "    ('google.cloud.aiplatform', 'google-cloud-aiplatform'),\n",
    "    ('google.cloud.storage', 'google-cloud-storage'),\n",
    "    ('google.cloud.bigquery', 'google-cloud-bigquery'),\n",
    "    ('anthropic[vertex]', 'anthropic[vertex]'),\n",
    "    ('httpx', 'httpx')\n",
    "]\n",
    "\n",
    "import importlib\n",
    "install = False\n",
    "for package in packages:\n",
    "    !pip install {package[1]} -U -q\n",
    "    '''\n",
    "    if not importlib.util.find_spec(package[0]):\n",
    "        print(f'installing package {package[1]}')\n",
    "        install = True\n",
    "        !pip install {package[1]} -U -q\n",
    "    elif len(package) == 3:\n",
    "        if importlib.metadata.version(package[0]) < package[2]:\n",
    "            print(f'updating package {package[1]}')\n",
    "            install = True\n",
    "            !pip install {package[1]} -U -q\n",
    "    '''"
   ]
  },
  {
   "cell_type": "markdown",
   "id": "0aeeeb94-0e3e-41b1-9f1d-2dd2fad2a515",
   "metadata": {},
   "source": [
    "### Restart Kernel (If Installs Occured)\n",
    "\n",
    "After a kernel restart the code submission can start with the next cell after this one."
   ]
  },
  {
   "cell_type": "code",
   "execution_count": 22,
   "id": "05eb94fd-0562-4e3c-a63b-4952b5402519",
   "metadata": {
    "tags": []
   },
   "outputs": [],
   "source": [
    "if install:\n",
    "    import IPython\n",
    "    app = IPython.Application.instance()\n",
    "    app.kernel.do_shutdown(True)"
   ]
  },
  {
   "cell_type": "markdown",
   "id": "5107e967-b47b-43d4-8098-b0e5d2262d49",
   "metadata": {},
   "source": [
    "---\n",
    "## Setup"
   ]
  },
  {
   "cell_type": "markdown",
   "id": "c93da7af-6765-4730-b6d0-d7e7e188f79c",
   "metadata": {},
   "source": [
    "inputs:"
   ]
  },
  {
   "cell_type": "code",
   "execution_count": 1,
   "id": "3e11fd07-a9b3-428f-9ee9-16ee36179798",
   "metadata": {
    "tags": []
   },
   "outputs": [
    {
     "data": {
      "text/plain": [
       "'mg-ce-demos'"
      ]
     },
     "execution_count": 1,
     "metadata": {},
     "output_type": "execute_result"
    }
   ],
   "source": [
    "project = !gcloud config get-value project\n",
    "PROJECT_ID = project[0]\n",
    "PROJECT_ID"
   ]
  },
  {
   "cell_type": "code",
   "execution_count": 2,
   "id": "55f7dba0-40ea-4a87-88cd-d7762ab96ec6",
   "metadata": {
    "tags": []
   },
   "outputs": [],
   "source": [
    "REGION = 'us-east5'\n",
    "\n",
    "# Set the BUCKET name for saving work:\n",
    "BUCKET = PROJECT_ID"
   ]
  },
  {
   "cell_type": "markdown",
   "id": "91eda4f2-665e-4d72-84f7-dc1db3821348",
   "metadata": {},
   "source": [
    "packages:"
   ]
  },
  {
   "cell_type": "code",
   "execution_count": 3,
   "id": "9f694039-e4ac-4376-bb8c-234ac30b4d72",
   "metadata": {
    "tags": []
   },
   "outputs": [],
   "source": [
    "import os\n",
    "#os.environ['TF_CPP_MIN_LOG_LEVEL'] = '3'\n",
    "\n",
    "from google.cloud import aiplatform\n",
    "from google.cloud import bigquery\n",
    "from google.cloud import storage\n",
    "\n",
    "import anthropic\n",
    "from anthropic import AnthropicVertex\n",
    "\n",
    "import json\n",
    "import io\n",
    "import base64\n",
    "import asyncio\n",
    "import httpx\n",
    "import requests\n",
    "import IPython\n",
    "from IPython.display import Image\n",
    "import datetime, time"
   ]
  },
  {
   "cell_type": "code",
   "execution_count": 4,
   "id": "55e1c35c-3900-462c-86a4-e590d5eaedf4",
   "metadata": {
    "tags": []
   },
   "outputs": [
    {
     "data": {
      "text/plain": [
       "'0.49.0'"
      ]
     },
     "execution_count": 4,
     "metadata": {},
     "output_type": "execute_result"
    }
   ],
   "source": [
    "anthropic.__version__"
   ]
  },
  {
   "cell_type": "markdown",
   "id": "3e4fd992-fc1e-41aa-ac50-8ce7334057fd",
   "metadata": {},
   "source": [
    "clients:"
   ]
  },
  {
   "cell_type": "code",
   "execution_count": 5,
   "id": "4cf195c7-4dff-4370-9dca-d49b90792578",
   "metadata": {
    "tags": []
   },
   "outputs": [],
   "source": [
    "anthropic_client = AnthropicVertex(region=REGION, project_id=PROJECT_ID)\n",
    "gcs = storage.Client(project = PROJECT_ID)\n",
    "bq = bigquery.Client(project = PROJECT_ID)\n",
    "\n",
    "bucket = gcs.lookup_bucket(BUCKET)"
   ]
  },
  {
   "cell_type": "code",
   "execution_count": 11,
   "id": "cd89fd8d-1a84-4077-b84a-30ce99be6ed4",
   "metadata": {
    "tags": []
   },
   "outputs": [],
   "source": [
    "# Anthropic Model(s)\n",
    "anthr_claude_sonnet37 = \"claude-3-7-sonnet@20250219\""
   ]
  },
  {
   "cell_type": "markdown",
   "id": "ca17cf66-82ea-45fb-9682-e66ea8a42ed5",
   "metadata": {},
   "source": [
    "## Code"
   ]
  },
  {
   "cell_type": "markdown",
   "id": "1bf7e3b9-8621-420c-975b-40598ac91bfc",
   "metadata": {
    "tags": []
   },
   "source": [
    "### Text Prompts"
   ]
  },
  {
   "cell_type": "markdown",
   "id": "0c6fe842-dd5a-49b9-82e3-c0edb6585a79",
   "metadata": {},
   "source": [
    "#### Complete response"
   ]
  },
  {
   "cell_type": "code",
   "execution_count": 12,
   "id": "f75a8838-0d34-4eb1-9d53-7ff624b97348",
   "metadata": {
    "tags": []
   },
   "outputs": [],
   "source": [
    "prompt = \"What is artificial intelligence?\""
   ]
  },
  {
   "cell_type": "code",
   "execution_count": 13,
   "id": "2af70c73-d29c-40f8-b996-370ce8ccc7b2",
   "metadata": {
    "scrolled": true,
    "tags": []
   },
   "outputs": [],
   "source": [
    "response_text_complete = anthropic_client.messages.create(\n",
    "    max_tokens=2048,\n",
    "    messages=[\n",
    "        {\n",
    "            \"role\": \"user\",\n",
    "            \"content\": prompt,\n",
    "        }\n",
    "    ],\n",
    "    model=anthr_claude_sonnet37,\n",
    ")\n",
    "#print(response_text_complete.model_dump_json(indent=2))"
   ]
  },
  {
   "cell_type": "code",
   "execution_count": 14,
   "id": "2719f6d0-eb35-4759-a01d-af4b06796602",
   "metadata": {
    "tags": []
   },
   "outputs": [
    {
     "data": {
      "text/markdown": [
       "Artificial intelligence (AI) refers to computer systems designed to perform tasks that typically require human intelligence. These include learning from experience, recognizing patterns, understanding language, solving problems, and making decisions.\n",
       "\n",
       "AI encompasses various approaches, from rule-based systems to modern machine learning methods like neural networks. It can be categorized as narrow AI (specialized for specific tasks) or general AI (hypothetical systems with human-like intelligence across domains).\n",
       "\n",
       "Modern AI applications include virtual assistants, recommendation systems, image recognition, autonomous vehicles, and language models like the one powering our conversation right now."
      ],
      "text/plain": [
       "<IPython.core.display.Markdown object>"
      ]
     },
     "execution_count": 14,
     "metadata": {},
     "output_type": "execute_result"
    }
   ],
   "source": [
    "#print(response_text_complete.content[0].text)\n",
    "IPython.display.Markdown(response_text_complete.content[0].text)"
   ]
  },
  {
   "cell_type": "markdown",
   "id": "b5b426c1-5c31-4353-aaf9-90ef9630dfc0",
   "metadata": {},
   "source": [
    "#### Streaming response"
   ]
  },
  {
   "cell_type": "code",
   "execution_count": 15,
   "id": "bda27ede-387e-432f-91e3-02d5c90bde9a",
   "metadata": {
    "tags": []
   },
   "outputs": [
    {
     "name": "stdout",
     "output_type": "stream",
     "text": [
      "Artificial intelligence (AI) refers to computer systems designed to perform tasks that typically require human intelligence. These include learning from experience, recognizing patterns, understanding language, making decisions, and solving problems.\n",
      "\n",
      " rule-based systems to modern machine learning techniques like neural networks. It can be narrow (specialized for specific tasks) or aimed toward more general capabilities.\n",
      "\n",
      " computer science with data, statistics, psychology, linguistics, and other disciplines to create systems that can process information and respond intelligently to their environment."
     ]
    }
   ],
   "source": [
    "with anthropic_client.messages.stream(\n",
    "    max_tokens=2048,\n",
    "    messages=[\n",
    "        {\n",
    "            \"role\": \"user\",\n",
    "            \"content\": prompt,\n",
    "        }\n",
    "    ],\n",
    "    model=anthr_claude_sonnet37,\n",
    ") as stream:\n",
    "    for text in stream.text_stream:\n",
    "        print(text, end=\"\", flush=True)"
   ]
  },
  {
   "cell_type": "markdown",
   "id": "85c4911e-6608-45c6-b118-dcaa4bbe7748",
   "metadata": {},
   "source": [
    "### Image Prompts"
   ]
  },
  {
   "cell_type": "markdown",
   "id": "35f0fee1-40c2-482d-9f55-313ed71415db",
   "metadata": {},
   "source": [
    "#### Complete response"
   ]
  },
  {
   "cell_type": "code",
   "execution_count": 16,
   "id": "e06e9e59-40bf-48f8-85f1-a81db5cf3fd4",
   "metadata": {},
   "outputs": [
    {
     "data": {
      "image/jpeg": "[encoded data removed]",
      "text/plain": [
       "<IPython.core.display.Image object>"
      ]
     },
     "execution_count": 16,
     "metadata": {
      "image/jpeg": {
       "height": 200,
       "width": 300
      }
     },
     "output_type": "execute_result"
    }
   ],
   "source": [
    "image_url = \"https://upload.wikimedia.org/wikipedia/commons/thumb/a/a7/Camponotus_flavomarginatus_ant.jpg/300px-Camponotus_flavomarginatus_ant.jpg\"\n",
    "image_media_type = \"image/jpeg\"\n",
    "image_b64 = base64.b64encode(httpx.get(image_url).content).decode(\"utf-8\")\n",
    "\n",
    "response = requests.get(image_url)\n",
    "image = Image(response.content, width=300, height=200)\n",
    "\n",
    "image"
   ]
  },
  {
   "cell_type": "code",
   "execution_count": 17,
   "id": "f79a46ab-43c0-4f82-9e86-6480306fcd40",
   "metadata": {},
   "outputs": [],
   "source": [
    "response_image_complete = anthropic_client.messages.create(\n",
    "    max_tokens=2048,\n",
    "    messages=[\n",
    "        {\n",
    "            \"role\": \"user\",\n",
    "            \"content\": [\n",
    "                {\n",
    "                    \"type\": \"image\",\n",
    "                    \"source\": {\n",
    "                        \"type\": \"base64\",\n",
    "                        \"media_type\": image_media_type,\n",
    "                        \"data\": image_b64,\n",
    "                    },\n",
    "                },\n",
    "                {\"type\": \"text\", \"text\": \"Describe this image.\"},\n",
    "            ],\n",
    "        }\n",
    "    ],\n",
    "    model=anthr_claude_sonnet37,\n",
    ")\n",
    "#print(response_image_complete.model_dump_json(indent=2))"
   ]
  },
  {
   "cell_type": "code",
   "execution_count": 18,
   "id": "f4cff2c2-47c3-46cc-b477-1c2d40de62d9",
   "metadata": {},
   "outputs": [
    {
     "data": {
      "text/markdown": [
       "The image shows a close-up photograph of an ant on a textured surface. The ant is captured in sharp detail, displaying its characteristic slender body with three distinct segments (head, thorax, and abdomen), long thin legs, and antennae. The ant appears to be carrying something, possibly food or material for the colony. The background is blurred, creating a shallow depth of field that emphasizes the ant while showing a warm-toned, soft-focus environment. This macro photography nicely highlights the intricate details of the ant's anatomy and posture as it goes about its activities."
      ],
      "text/plain": [
       "<IPython.core.display.Markdown object>"
      ]
     },
     "execution_count": 18,
     "metadata": {},
     "output_type": "execute_result"
    }
   ],
   "source": [
    "#print(response_image_complete.content[0].text)\n",
    "IPython.display.Markdown(response_image_complete.content[0].text)"
   ]
  },
  {
   "cell_type": "markdown",
   "id": "d98cdd20-7e0d-457c-8c5e-813c2f1f9c60",
   "metadata": {},
   "source": [
    "#### Streaming response"
   ]
  },
  {
   "cell_type": "code",
   "execution_count": 19,
   "id": "f09dbb82-b880-45e6-a3c8-f48d9fdd64dd",
   "metadata": {},
   "outputs": [
    {
     "name": "stdout",
     "output_type": "stream",
     "text": [
      "The image shows a black ant in close-up detail. The ant is standing on what appears to be a textured surface, possibly concrete or stone. Its slender body, segmented form, and thin legs are clearly visible, showcasing the characteristic ant anatomy. The ant appears to be carrying something small in its mandibles, which is common behavior as ants often transport food or materials back to their colony. The background is softly blurred, creating a shallow depth of field that keeps the focus on the ant itself. The photograph captures the impressive strength and determined nature of these fascinating insects that can carry items many times their own body weight."
     ]
    }
   ],
   "source": [
    "with anthropic_client.messages.stream(\n",
    "    max_tokens=2048,\n",
    "    messages=[\n",
    "        {\n",
    "            \"role\": \"user\",\n",
    "            \"content\": [\n",
    "                {\n",
    "                    \"type\": \"image\",\n",
    "                    \"source\": {\n",
    "                        \"type\": \"base64\",\n",
    "                        \"media_type\": image_media_type,\n",
    "                        \"data\": image_b64,\n",
    "                    },\n",
    "                },\n",
    "                {\"type\": \"text\", \"text\": \"Describe this image.\"},\n",
    "            ],\n",
    "        }\n",
    "    ],\n",
    "    model=anthr_claude_sonnet37,\n",
    ") as stream:\n",
    "    for text in stream.text_stream:\n",
    "        print(text, end=\"\", flush=True)"
   ]
  },
  {
   "cell_type": "markdown",
   "id": "3f386c9a-f5be-41cb-ac2a-f0e74e4db210",
   "metadata": {},
   "source": [
    "### App examples"
   ]
  },
  {
   "cell_type": "markdown",
   "id": "7ac3862d-5209-47cf-adcc-76e944ec11f8",
   "metadata": {},
   "source": [
    "#### Streamlit example - simple chatbot"
   ]
  },
  {
   "cell_type": "code",
   "execution_count": 77,
   "id": "cf1c631c-7d73-43d5-a166-e643639f4be8",
   "metadata": {},
   "outputs": [
    {
     "name": "stdout",
     "output_type": "stream",
     "text": [
      "Writing claudeonvertex.py\n"
     ]
    }
   ],
   "source": [
    "%%writefile claudeonvertex.py\n",
    "\n",
    "import streamlit as st\n",
    "import anthropic\n",
    "from anthropic import AnthropicVertex\n",
    "\n",
    "PROJECT_ID = 'mg-ce-demos'\n",
    "REGION = 'us-east5'\n",
    "\n",
    "# Anthropic Vertex Client\n",
    "anthropic_client = AnthropicVertex(region=REGION, project_id=PROJECT_ID)\n",
    "\n",
    "# Anthropic Model\n",
    "anthr_claude_sonnet37 = \"claude-3-7-sonnet@20250219\"\n",
    "\n",
    "# Initialize session state for conversation history\n",
    "if \"messages\" not in st.session_state:\n",
    "    st.session_state.messages = []\n",
    "\n",
    "# Function to get response from Claude\n",
    "def get_claude_response(prompt):\n",
    "    try:\n",
    "        response = anthropic_client.messages.create(\n",
    "            model=anthr_claude_sonnet37,\n",
    "            max_tokens=1024,\n",
    "            temperature=0.5,\n",
    "            system = \"\",\n",
    "            messages = st.session_state.messages\n",
    "        )\n",
    "        return response.content[0].text\n",
    "    except Exception as e:\n",
    "        return f\"An error occurred: {str(e)}\"\n",
    "\n",
    "# Streamlit app\n",
    "st.markdown(\"<h1 style='color:firebrick'>Claude on Vertex Chatbot</h1>\",unsafe_allow_html=True)\n",
    "\n",
    "# Display chat messages\n",
    "for message in st.session_state.messages:\n",
    "    with st.chat_message(message[\"role\"]):\n",
    "        st.write(message[\"content\"])\n",
    "\n",
    "# Chat input\n",
    "if prompt := st.chat_input(\"What would you like to ask Claude?\"):\n",
    "    # Add user message to chat history\n",
    "    st.session_state.messages.append({\"role\": \"user\", \"content\": prompt})\n",
    "    with st.chat_message(\"user\"):\n",
    "        st.write(prompt)\n",
    "\n",
    "    # Get Claude's response\n",
    "    with st.chat_message(\"assistant\"):\n",
    "        message_placeholder = st.empty()\n",
    "        full_response = get_claude_response(prompt)\n",
    "        message_placeholder.write(full_response)\n",
    "    \n",
    "    # Add Claude's response to chat history\n",
    "    st.session_state.messages.append({\"role\": \"assistant\", \"content\": full_response})\n",
    "\n",
    "# Sidebar with information\n",
    "\n",
    "with st.sidebar:\n",
    "    st.markdown(\"# <div style='color:firebrick'>About</div>\",unsafe_allow_html=True)\n",
    "    st.markdown(\"### A simple chatbot using the Anthropic API to interact with Claude.\")\n",
    "    st.markdown(\"\"\"<div style='color:darkslategrey;font-size:smaller'>\n",
    "    The app demonstrates basic usage of Streamlit for creating interactive chat interfaces.<br/>\n",
    "    We are using version 3.5 of Claude Sonnet, which is in the misddle of the Claude range.<br/>\n",
    "    The other Claude models are Haiku, (less capable but cheaper version), and Opus (more expensive and more powerful).</div>\"\"\",\n",
    "    unsafe_allow_html=True\n",
    "    )"
   ]
  },
  {
   "cell_type": "code",
   "execution_count": null,
   "id": "6d8203fa-ae11-4560-8ff4-66c3ba3a901f",
   "metadata": {},
   "outputs": [],
   "source": []
  }
 ],
 "metadata": {
  "environment": {
   "kernel": "conda-base-py",
   "name": "workbench-notebooks.m125",
   "type": "gcloud",
   "uri": "us-docker.pkg.dev/deeplearning-platform-release/gcr.io/workbench-notebooks:m125"
  },
  "kernelspec": {
   "display_name": "Python 3 (ipykernel)",
   "language": "python",
   "name": "python3"
  },
  "language_info": {
   "codemirror_mode": {
    "name": "ipython",
    "version": 3
   },
   "file_extension": ".py",
   "mimetype": "text/x-python",
   "name": "python",
   "nbconvert_exporter": "python",
   "pygments_lexer": "ipython3",
   "version": "3.11.11"
  }
 },
 "nbformat": 4,
 "nbformat_minor": 5
}
