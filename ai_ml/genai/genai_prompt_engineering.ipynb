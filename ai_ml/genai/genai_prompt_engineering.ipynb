{
 "cells": [
  {
   "cell_type": "markdown",
   "id": "c80c2a04-14dc-4f7d-aab2-60d0015ad896",
   "metadata": {},
   "source": [
    "# GenAI Prompt Engineering Examples"
   ]
  },
  {
   "cell_type": "markdown",
   "id": "a67be22b-f563-4b0b-ab3d-8866723d2102",
   "metadata": {},
   "source": [
    "---\n",
    "## Installs\n",
    "\n",
    "The list `packages` contains tuples of package import names and install names.  If the import name is not found then the install name is used to install quitely for the current user."
   ]
  },
  {
   "cell_type": "code",
   "execution_count": 1,
   "id": "b15cbe64-1a11-41a6-b09a-93d7e8dcc99d",
   "metadata": {
    "tags": []
   },
   "outputs": [],
   "source": [
    "# tuples of (import name, install name, min_version)\n",
    "packages = [\n",
    "    ('google.cloud.aiplatform', 'google-cloud-aiplatform'),\n",
    "    ('google.cloud.storage', 'google-cloud-storage'),\n",
    "    ('google.cloud.bigquery', 'google-cloud-bigquery')\n",
    "]\n",
    "\n",
    "import importlib\n",
    "install = False\n",
    "for package in packages:\n",
    "    if not importlib.util.find_spec(package[0]):\n",
    "        print(f'installing package {package[1]}')\n",
    "        install = True\n",
    "        !pip install {package[1]} -U -q --user\n",
    "    elif len(package) == 3:\n",
    "        if importlib.metadata.version(package[0]) < package[2]:\n",
    "            print(f'updating package {package[1]}')\n",
    "            install = True\n",
    "            !pip install {package[1]} -U -q --user"
   ]
  },
  {
   "cell_type": "markdown",
   "id": "0aeeeb94-0e3e-41b1-9f1d-2dd2fad2a515",
   "metadata": {},
   "source": [
    "### Restart Kernel (If Installs Occured)\n",
    "\n",
    "After a kernel restart the code submission can start with the next cell after this one."
   ]
  },
  {
   "cell_type": "code",
   "execution_count": 2,
   "id": "05eb94fd-0562-4e3c-a63b-4952b5402519",
   "metadata": {
    "tags": []
   },
   "outputs": [],
   "source": [
    "if install:\n",
    "    import IPython\n",
    "    app = IPython.Application.instance()\n",
    "    app.kernel.do_shutdown(True)"
   ]
  },
  {
   "cell_type": "markdown",
   "id": "5107e967-b47b-43d4-8098-b0e5d2262d49",
   "metadata": {},
   "source": [
    "---\n",
    "## Setup"
   ]
  },
  {
   "cell_type": "markdown",
   "id": "c93da7af-6765-4730-b6d0-d7e7e188f79c",
   "metadata": {},
   "source": [
    "inputs:"
   ]
  },
  {
   "cell_type": "code",
   "execution_count": 3,
   "id": "3e11fd07-a9b3-428f-9ee9-16ee36179798",
   "metadata": {
    "tags": []
   },
   "outputs": [
    {
     "data": {
      "text/plain": [
       "'mg-ce-demos'"
      ]
     },
     "execution_count": 3,
     "metadata": {},
     "output_type": "execute_result"
    }
   ],
   "source": [
    "project = !gcloud config get-value project\n",
    "PROJECT_ID = project[0]\n",
    "PROJECT_ID"
   ]
  },
  {
   "cell_type": "code",
   "execution_count": 4,
   "id": "55f7dba0-40ea-4a87-88cd-d7762ab96ec6",
   "metadata": {
    "tags": []
   },
   "outputs": [],
   "source": [
    "REGION = 'us-central1'\n",
    "\n",
    "# Set the BUCKET name for saving work:\n",
    "BUCKET = PROJECT_ID"
   ]
  },
  {
   "cell_type": "markdown",
   "id": "91eda4f2-665e-4d72-84f7-dc1db3821348",
   "metadata": {},
   "source": [
    "packages:"
   ]
  },
  {
   "cell_type": "code",
   "execution_count": 5,
   "id": "9f694039-e4ac-4376-bb8c-234ac30b4d72",
   "metadata": {
    "tags": []
   },
   "outputs": [],
   "source": [
    "import os\n",
    "#os.environ['TF_CPP_MIN_LOG_LEVEL'] = '3'\n",
    "\n",
    "from google.cloud import aiplatform\n",
    "from google.cloud import bigquery\n",
    "from google.cloud import storage\n",
    "\n",
    "import vertexai.vision_models # Imagen Models\n",
    "import vertexai.preview.vision_models\n",
    "import vertexai.language_models # PaLM and Codey Models\n",
    "import vertexai.generative_models # for Gemini Models\n",
    "\n",
    "import json\n",
    "import io\n",
    "import base64\n",
    "import asyncio\n",
    "import requests\n",
    "import IPython\n",
    "import datetime, time"
   ]
  },
  {
   "cell_type": "code",
   "execution_count": 6,
   "id": "55e1c35c-3900-462c-86a4-e590d5eaedf4",
   "metadata": {
    "tags": []
   },
   "outputs": [
    {
     "data": {
      "text/plain": [
       "'1.67.1'"
      ]
     },
     "execution_count": 6,
     "metadata": {},
     "output_type": "execute_result"
    }
   ],
   "source": [
    "aiplatform.__version__"
   ]
  },
  {
   "cell_type": "markdown",
   "id": "3e4fd992-fc1e-41aa-ac50-8ce7334057fd",
   "metadata": {},
   "source": [
    "clients:"
   ]
  },
  {
   "cell_type": "code",
   "execution_count": 7,
   "id": "4cf195c7-4dff-4370-9dca-d49b90792578",
   "metadata": {
    "tags": []
   },
   "outputs": [],
   "source": [
    "vertexai.init(project = PROJECT_ID, location = REGION)\n",
    "gcs = storage.Client(project = PROJECT_ID)\n",
    "bq = bigquery.Client(project = PROJECT_ID)\n",
    "\n",
    "bucket = gcs.lookup_bucket(BUCKET)"
   ]
  },
  {
   "cell_type": "markdown",
   "id": "04e87b5e-60e4-4ef9-9019-7960f5ebff3e",
   "metadata": {},
   "source": [
    "---\n",
    "## Vertex AI Package\n",
    "\n",
    "With the [vertexai](https://cloud.google.com/python/docs/reference/aiplatform/latest/vertexai) client there are packages for the types of data being interacted with.  There is also a higher package for preview models (not yet in GA).\n",
    "\n",
    "> **NOTE:** In can be helpful to review the API Documentation at it's source in GitHub for up to the moment release information: [github/googleapis/python-aiplatform](https://github.com/googleapis/python-aiplatform/tree/main)\n",
    "\n",
    "Gemini Text and Multimodal Models:\n",
    "- [vertexai.generative_models()](https://cloud.google.com/python/docs/reference/aiplatform/latest/vertexai.generative_models)\n",
    "    - [vertexai.preview.generative_models()](https://cloud.google.com/python/docs/reference/aiplatform/latest/vertexai.preview.generative_models)\n",
    "\n",
    "Language Models (PaLM and Codey Models):\n",
    "- [vertexai.language_models()](https://cloud.google.com/python/docs/reference/aiplatform/latest/vertexai.language_models)\n",
    "    - [vertexai.preview.language_models()](https://cloud.google.com/python/docs/reference/aiplatform/latest/vertexai.preview.language_models)\n",
    "\n",
    "Vision Models (Imagen Models):\n",
    "- [vertexai.vision_models()](https://cloud.google.com/python/docs/reference/aiplatform/latest/vertexai.vision_models)\n",
    "    - [vertexai.preview.vision_models()](https://cloud.google.com/python/docs/reference/aiplatform/latest/vertexai.preview.vision_models)\n"
   ]
  },
  {
   "cell_type": "code",
   "execution_count": 9,
   "id": "cd89fd8d-1a84-4077-b84a-30ce99be6ed4",
   "metadata": {
    "tags": []
   },
   "outputs": [],
   "source": [
    "# Gemini Models\n",
    "gemini_text = vertexai.generative_models.GenerativeModel(\"gemini-1.0-pro-002\")\n",
    "gemini_multimodal = vertexai.generative_models.GenerativeModel(\"gemini-1.0-pro-vision-001\")\n",
    "gemini15_multimodal = vertexai.generative_models.GenerativeModel(\"gemini-1.5-pro-002\")\n",
    "gemini_flash = vertexai.generative_models.GenerativeModel(\"gemini-1.5-flash-002\")\n",
    "\n",
    "# PaLM and Codey Models\n",
    "text_model = vertexai.language_models.TextGenerationModel.from_pretrained('text-bison')\n",
    "chat_model = vertexai.language_models.ChatModel.from_pretrained('chat-bison')\n",
    "textembed_model = vertexai.language_models.TextEmbeddingModel.from_pretrained('textembedding-gecko')\n",
    "codegen_model = vertexai.language_models.CodeGenerationModel.from_pretrained('code-bison')\n",
    "codecomp_model = vertexai.language_models.CodeGenerationModel.from_pretrained('code-gecko')\n",
    "codechat_model = vertexai.language_models.CodeChatModel.from_pretrained('codechat-bison')\n",
    "\n",
    "# Imagen Models\n",
    "imagecap_model = vertexai.vision_models.ImageCaptioningModel.from_pretrained(\"imagetext\")\n",
    "imageqna_model = vertexai.vision_models.ImageQnAModel.from_pretrained(\"imagetext\")\n",
    "imagetext_model = vertexai.vision_models.ImageTextModel.from_pretrained(\"imagetext\")\n",
    "multimodalembed_model = vertexai.vision_models.MultiModalEmbeddingModel.from_pretrained('multimodalembedding')\n",
    "imagen1_model = vertexai.preview.vision_models.ImageGenerationModel.from_pretrained('imagegeneration@002')\n",
    "imagen2_model = vertexai.preview.vision_models.ImageGenerationModel.from_pretrained('imagegeneration@005')"
   ]
  },
  {
   "cell_type": "markdown",
   "id": "8268854f-f46d-4493-afc2-062253986ffb",
   "metadata": {},
   "source": [
    "---\n",
    "## Gemini Models\n",
    "\n",
    "[Reference: Gemini API](https://cloud.google.com/vertex-ai/docs/generative-ai/model-reference/gemini)"
   ]
  },
  {
   "cell_type": "markdown",
   "id": "1bf7e3b9-8621-420c-975b-40598ac91bfc",
   "metadata": {
    "tags": []
   },
   "source": [
    "### Text Prompt"
   ]
  },
  {
   "cell_type": "code",
   "execution_count": 11,
   "id": "f75a8838-0d34-4eb1-9d53-7ff624b97348",
   "metadata": {
    "tags": []
   },
   "outputs": [],
   "source": [
    "prompts = [\n",
    "    \"What is a mulligan?\",\n",
    "    \"What do you do when you have an unplayable lie in golf?\"\n",
    "]"
   ]
  },
  {
   "cell_type": "code",
   "execution_count": 12,
   "id": "2af70c73-d29c-40f8-b996-370ce8ccc7b2",
   "metadata": {
    "scrolled": true,
    "tags": []
   },
   "outputs": [
    {
     "data": {
      "text/plain": [
       "candidates {\n",
       "  content {\n",
       "    role: \"model\"\n",
       "    parts {\n",
       "      text: \"## Dealing with an Unplayable Lie in Golf\\n\\nWhen faced with an unplayable lie, it\\'s crucial to know the various options available to you as per the Rules of Golf. Here are the steps to follow:\\n\\n1. **Declare the Ball Unplayable**: Announce your intention to the other players in your group.\\n\\n2. **Take Relief**: You have two primary choices for relief:\\n\\n   - **Stroke and Distance**: This allows you to drop a ball within two club-lengths of the unplayable lie, no closer to the hole, and incur a one-stroke penalty. You may drop in any direction within this area, even in a better lie.\\n   - **Back-on-the-Line Relief**: Drop a ball behind the point where your ball last crossed the margin of the unplayable area, keeping that point directly between the hole and the spot where you drop the ball. You can drop within two club-lengths of that point, no closer to the hole, and incur a one-stroke penalty.\\n\\n3. **Play the Dropped Ball**: Once dropped, the ball is in play. You cannot take another penalty to re-drop it.\\n\\n4. **Specific Unplayable Lies**: Certain situations have specific relief options:\\n   - **Embedded Ball**: If your ball is embedded in its own pitch-mark, you can take relief under Rule 16.3b, either without penalty by placing a ball within one club-length of and not nearer the hole than the original position, or with a one-stroke penalty under the two club-lengths options mentioned above.\\n   - **Ball Lost or Out of Bounds**: If you cannot find your ball or it\\'s deemed out of bounds, proceed as if it were unplayable, incurring the applicable stroke penalty and taking relief accordingly.\\n\\n**Additional Tips**:\\n\\n* It\\'s important to carefully assess the situation before declaring a ball unplayable. Sometimes, a seemingly difficult lie can be played successfully.\\n* When taking relief, choose a spot that gives you the best possible opportunity to play your next shot.\\n* Remember to mark the position of your original ball before taking relief.\\n\\nBy understanding the rules and taking advantage of the relief options available, you can minimize the damage of an unplayable lie and continue your round effectively.\"\n",
       "    }\n",
       "  }\n",
       "  finish_reason: STOP\n",
       "  safety_ratings {\n",
       "    category: HARM_CATEGORY_HATE_SPEECH\n",
       "    probability: NEGLIGIBLE\n",
       "    probability_score: 0.0927734375\n",
       "    severity: HARM_SEVERITY_NEGLIGIBLE\n",
       "    severity_score: 0.07568359375\n",
       "  }\n",
       "  safety_ratings {\n",
       "    category: HARM_CATEGORY_DANGEROUS_CONTENT\n",
       "    probability: NEGLIGIBLE\n",
       "    probability_score: 0.263671875\n",
       "    severity: HARM_SEVERITY_LOW\n",
       "    severity_score: 0.2080078125\n",
       "  }\n",
       "  safety_ratings {\n",
       "    category: HARM_CATEGORY_HARASSMENT\n",
       "    probability: NEGLIGIBLE\n",
       "    probability_score: 0.1640625\n",
       "    severity: HARM_SEVERITY_NEGLIGIBLE\n",
       "    severity_score: 0.09814453125\n",
       "  }\n",
       "  safety_ratings {\n",
       "    category: HARM_CATEGORY_SEXUALLY_EXPLICIT\n",
       "    probability: NEGLIGIBLE\n",
       "    probability_score: 0.0771484375\n",
       "    severity: HARM_SEVERITY_NEGLIGIBLE\n",
       "    severity_score: 0.07080078125\n",
       "  }\n",
       "  avg_logprobs: -0.5325320643237513\n",
       "}\n",
       "usage_metadata {\n",
       "  prompt_token_count: 13\n",
       "  candidates_token_count: 468\n",
       "  total_token_count: 481\n",
       "}"
      ]
     },
     "execution_count": 12,
     "metadata": {},
     "output_type": "execute_result"
    }
   ],
   "source": [
    "response = gemini_text.generate_content(prompts[1])\n",
    "response"
   ]
  },
  {
   "cell_type": "code",
   "execution_count": 13,
   "id": "2719f6d0-eb35-4759-a01d-af4b06796602",
   "metadata": {
    "tags": []
   },
   "outputs": [
    {
     "name": "stdout",
     "output_type": "stream",
     "text": [
      "## Dealing with an Unplayable Lie in Golf\n",
      "\n",
      "When faced with an unplayable lie, it's crucial to know the various options available to you as per the Rules of Golf. Here are the steps to follow:\n",
      "\n",
      "1. **Declare the Ball Unplayable**: Announce your intention to the other players in your group.\n",
      "\n",
      "2. **Take Relief**: You have two primary choices for relief:\n",
      "\n",
      "   - **Stroke and Distance**: This allows you to drop a ball within two club-lengths of the unplayable lie, no closer to the hole, and incur a one-stroke penalty. You may drop in any direction within this area, even in a better lie.\n",
      "   - **Back-on-the-Line Relief**: Drop a ball behind the point where your ball last crossed the margin of the unplayable area, keeping that point directly between the hole and the spot where you drop the ball. You can drop within two club-lengths of that point, no closer to the hole, and incur a one-stroke penalty.\n",
      "\n",
      "3. **Play the Dropped Ball**: Once dropped, the ball is in play. You cannot take another penalty to re-drop it.\n",
      "\n",
      "4. **Specific Unplayable Lies**: Certain situations have specific relief options:\n",
      "   - **Embedded Ball**: If your ball is embedded in its own pitch-mark, you can take relief under Rule 16.3b, either without penalty by placing a ball within one club-length of and not nearer the hole than the original position, or with a one-stroke penalty under the two club-lengths options mentioned above.\n",
      "   - **Ball Lost or Out of Bounds**: If you cannot find your ball or it's deemed out of bounds, proceed as if it were unplayable, incurring the applicable stroke penalty and taking relief accordingly.\n",
      "\n",
      "**Additional Tips**:\n",
      "\n",
      "* It's important to carefully assess the situation before declaring a ball unplayable. Sometimes, a seemingly difficult lie can be played successfully.\n",
      "* When taking relief, choose a spot that gives you the best possible opportunity to play your next shot.\n",
      "* Remember to mark the position of your original ball before taking relief.\n",
      "\n",
      "By understanding the rules and taking advantage of the relief options available, you can minimize the damage of an unplayable lie and continue your round effectively.\n"
     ]
    }
   ],
   "source": [
    "print(response.text)"
   ]
  },
  {
   "cell_type": "code",
   "execution_count": 14,
   "id": "f94fc1a6-fd73-4477-8bc9-5b7bd7cb7608",
   "metadata": {
    "tags": []
   },
   "outputs": [
    {
     "data": {
      "text/markdown": [
       "## Dealing with an Unplayable Lie in Golf\n",
       "\n",
       "When faced with an unplayable lie, it's crucial to know the various options available to you as per the Rules of Golf. Here are the steps to follow:\n",
       "\n",
       "1. **Declare the Ball Unplayable**: Announce your intention to the other players in your group.\n",
       "\n",
       "2. **Take Relief**: You have two primary choices for relief:\n",
       "\n",
       "   - **Stroke and Distance**: This allows you to drop a ball within two club-lengths of the unplayable lie, no closer to the hole, and incur a one-stroke penalty. You may drop in any direction within this area, even in a better lie.\n",
       "   - **Back-on-the-Line Relief**: Drop a ball behind the point where your ball last crossed the margin of the unplayable area, keeping that point directly between the hole and the spot where you drop the ball. You can drop within two club-lengths of that point, no closer to the hole, and incur a one-stroke penalty.\n",
       "\n",
       "3. **Play the Dropped Ball**: Once dropped, the ball is in play. You cannot take another penalty to re-drop it.\n",
       "\n",
       "4. **Specific Unplayable Lies**: Certain situations have specific relief options:\n",
       "   - **Embedded Ball**: If your ball is embedded in its own pitch-mark, you can take relief under Rule 16.3b, either without penalty by placing a ball within one club-length of and not nearer the hole than the original position, or with a one-stroke penalty under the two club-lengths options mentioned above.\n",
       "   - **Ball Lost or Out of Bounds**: If you cannot find your ball or it's deemed out of bounds, proceed as if it were unplayable, incurring the applicable stroke penalty and taking relief accordingly.\n",
       "\n",
       "**Additional Tips**:\n",
       "\n",
       "* It's important to carefully assess the situation before declaring a ball unplayable. Sometimes, a seemingly difficult lie can be played successfully.\n",
       "* When taking relief, choose a spot that gives you the best possible opportunity to play your next shot.\n",
       "* Remember to mark the position of your original ball before taking relief.\n",
       "\n",
       "By understanding the rules and taking advantage of the relief options available, you can minimize the damage of an unplayable lie and continue your round effectively."
      ],
      "text/plain": [
       "<IPython.core.display.Markdown object>"
      ]
     },
     "execution_count": 14,
     "metadata": {},
     "output_type": "execute_result"
    }
   ],
   "source": [
    "IPython.display.Markdown(response.text)"
   ]
  },
  {
   "cell_type": "markdown",
   "id": "b5b426c1-5c31-4353-aaf9-90ef9630dfc0",
   "metadata": {},
   "source": [
    "#### Streaming Response"
   ]
  },
  {
   "cell_type": "code",
   "execution_count": 15,
   "id": "bda27ede-387e-432f-91e3-02d5c90bde9a",
   "metadata": {
    "tags": []
   },
   "outputs": [
    {
     "name": "stdout",
     "output_type": "stream",
     "text": [
      "There\n",
      " are a few options available when you find yourself with an unplayable lie in golf:\n",
      "\n",
      "\n",
      "**Take an unplayable lie penalty:** This is the most common option. You will\n",
      " add one stroke to your score and drop the ball in a designated relief area. The relief area is typically two club-lengths from the spot where the unplayable lie occurred\n",
      ", no closer to the hole. You must drop the ball within the relief area, not closer to the hole than the original position.\n",
      "\n",
      "**Hit a provisional\n",
      " ball:** Before deciding the lie is unplayable, you can hit a provisional ball from a different location (often the fairway or rough) where you have a playable lie. If you find the original ball and confirm the lie is unplayable, you can\n",
      " take a one-stroke penalty and play the provisional ball. If you find the original ball and it's playable, you can continue playing it and discard the provisional ball.\n",
      "\n",
      "**Declare the ball lost:** If you are unable to find the ball or\n",
      " believe it is lost, you can declare it lost and proceed under the lost ball rule. This means adding a penalty stroke and hitting another ball from the location of your previous stroke.\n",
      "\n",
      "Here are some additional details about each option:\n",
      "\n",
      "**Unplayable lie penalty:**\n",
      "\n",
      "* This is the simplest and fastest option.\n",
      "\n",
      "* It is the best option if you are not sure if the lie is truly unplayable.\n",
      "* It is the best option if you are in a hurry or don't have time to look for the ball.\n",
      "\n",
      "**Hit a provisional ball:**\n",
      "\n",
      "* This is a good option if you think you might be able to\n",
      " play the original ball.\n",
      "* It is important to hit the provisional ball from a location that is as close as possible to the original ball.\n",
      "* If you find the original ball and it is playable, you must continue playing it.\n",
      "\n",
      "**Declare the ball lost:**\n",
      "\n",
      "* This is a good option if you\n",
      " are sure that the ball is lost.\n",
      "* It is the best option if you cannot find the ball after three minutes of searching.\n",
      "* It is the best option if you are out of bounds or in a water hazard.\n",
      "\n",
      "Ultimately, the best option for dealing with an unplayable lie depends on the specific situation.\n",
      " Consider the location of the ball, the type of lie, your confidence in playing the lie, and the time available to make a decision.\n",
      "\n",
      "\n"
     ]
    }
   ],
   "source": [
    "for response in gemini_text.generate_content(prompts[1], stream = True):\n",
    "    print(response.text)"
   ]
  },
  {
   "cell_type": "markdown",
   "id": "ed1984c7-fbca-4f36-b2b4-95bb4a81506f",
   "metadata": {},
   "source": [
    "#### Async Response\n",
    "\n",
    "The client has built in method for awaitable responses that make it easy to make asynchronous request.\n",
    "\n",
    "> For detailed coverage and examples of asynchronous call to these API's, scaling, error handling, and managing fail over regions check out this notebook in the same folder: [Python Asynchronous API Calls](./Python%20Asynchronous%20API%20Calls.ipynb)"
   ]
  },
  {
   "cell_type": "code",
   "execution_count": 16,
   "id": "05651a11-fc6d-4bd4-99af-85453e5e6635",
   "metadata": {
    "tags": []
   },
   "outputs": [
    {
     "data": {
      "text/markdown": [
       "## Unplayable Lies in Golf\n",
       "\n",
       "An unplayable lie in golf can be frustrating, but don't worry, there are options! Here's what you can do:\n",
       "\n",
       "**1. Take a Penalty Stroke:**\n",
       "\n",
       "This is the simplest option. You can take a one-stroke penalty and drop the ball within two club lengths of the original spot, no closer to the hole. Keep in mind that these two club lengths should be measured in any direction, except towards the hole.\n",
       "\n",
       "**2. Play the Ball as it Lies:**\n",
       "\n",
       "While challenging, you can attempt to play the ball as it lies. This could be a good option if you're confident in your ability to hit a difficult shot or if the penalty stroke would put you in an even worse position.\n",
       "\n",
       "**3. Take Lateral Relief:**\n",
       "\n",
       "If your ball is in a penalty area (water hazard or out-of-bounds), you can take lateral relief. This means dropping the ball within two club lengths of the point where the ball crossed the margin of the penalty area, but not closer to the hole. There is a two-stroke penalty for taking lateral relief.\n",
       "\n",
       "**4. Provisional Ball:**\n",
       "\n",
       "Before hitting your original shot, you can hit a provisional ball in case your original shot ends up being unplayable. You can then play the provisional ball without penalty if your original shot is deemed unplayable.\n",
       "\n",
       "**Additional Considerations:**\n",
       "\n",
       "* Always check the local rules before determining how to proceed with an unplayable lie.\n",
       "* Consider the conditions and your own skill level when choosing the best option for your situation.\n",
       "* Remember to inform your playing partners and marker when taking relief or playing a provisional ball.\n",
       "\n",
       "Here are some helpful resources:\n",
       "\n",
       "* **USGA Rule 19:** https://www.usga.org/content/dam/usga/pdf/2023/rule-books/rules-of-golf.pdf\n",
       "* **R&A Rule 19:** https://www.randa.org/en/rules-and-amateur-status/rules-of-golf\n",
       "* **PGA Instruction on Unplayable Lie:** https://www.pga.com/practice/golf-tips/how-to-play-an-unplayable-lie\n",
       "\n",
       "I hope this helps! Let me know if you have any other questions about golf or anything else."
      ],
      "text/plain": [
       "<IPython.core.display.Markdown object>"
      ]
     },
     "execution_count": 16,
     "metadata": {},
     "output_type": "execute_result"
    }
   ],
   "source": [
    "response = await gemini_text.generate_content_async(prompts[1])\n",
    "#print(response.text)\n",
    "IPython.display.Markdown(response.text)"
   ]
  },
  {
   "cell_type": "code",
   "execution_count": null,
   "id": "c7be58ce-3cf8-4f69-bd53-f6531abd85b9",
   "metadata": {},
   "outputs": [],
   "source": []
  },
  {
   "cell_type": "code",
   "execution_count": null,
   "id": "af2b8dbc-258d-46d5-94b7-9de6e1a6a81f",
   "metadata": {},
   "outputs": [],
   "source": []
  }
 ],
 "metadata": {
  "environment": {
   "kernel": "conda-base-py",
   "name": "workbench-notebooks.m125",
   "type": "gcloud",
   "uri": "us-docker.pkg.dev/deeplearning-platform-release/gcr.io/workbench-notebooks:m125"
  },
  "kernelspec": {
   "display_name": "Python 3 (ipykernel)",
   "language": "python",
   "name": "python3"
  },
  "language_info": {
   "codemirror_mode": {
    "name": "ipython",
    "version": 3
   },
   "file_extension": ".py",
   "mimetype": "text/x-python",
   "name": "python",
   "nbconvert_exporter": "python",
   "pygments_lexer": "ipython3",
   "version": "3.11.10"
  }
 },
 "nbformat": 4,
 "nbformat_minor": 5
}
