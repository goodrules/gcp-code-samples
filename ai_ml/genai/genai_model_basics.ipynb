{
 "cells": [
  {
   "cell_type": "markdown",
   "id": "c80c2a04-14dc-4f7d-aab2-60d0015ad896",
   "metadata": {},
   "source": [
    "# GenAI Prompt Engineering Examples"
   ]
  },
  {
   "cell_type": "markdown",
   "id": "a67be22b-f563-4b0b-ab3d-8866723d2102",
   "metadata": {},
   "source": [
    "---\n",
    "## Installs\n",
    "\n",
    "The list `packages` contains tuples of package import names and install names.  If the import name is not found then the install name is used to install quitely for the current user."
   ]
  },
  {
   "cell_type": "code",
   "execution_count": 1,
   "id": "b15cbe64-1a11-41a6-b09a-93d7e8dcc99d",
   "metadata": {
    "tags": []
   },
   "outputs": [],
   "source": [
    "# tuples of (import name, install name, min_version)\n",
    "packages = [\n",
    "    ('google.cloud.aiplatform', 'google-cloud-aiplatform'),\n",
    "    ('google.cloud.storage', 'google-cloud-storage'),\n",
    "    ('google.cloud.bigquery', 'google-cloud-bigquery'),\n",
    "    ('google.cloud.secretmanager', 'google-cloud-secret-manager'),\n",
    "    ('google.genai', 'google-genai')\n",
    "]\n",
    "\n",
    "import importlib\n",
    "install = False\n",
    "for package in packages:\n",
    "    if not importlib.util.find_spec(package[0]):\n",
    "        print(f'installing package {package[1]}')\n",
    "        install = True\n",
    "        !pip install {package[1]} -U -q\n",
    "    elif len(package) == 3:\n",
    "        if importlib.metadata.version(package[0]) < package[2]:\n",
    "            print(f'updating package {package[1]}')\n",
    "            install = True\n",
    "            !pip install {package[1]} -U -q"
   ]
  },
  {
   "cell_type": "markdown",
   "id": "0aeeeb94-0e3e-41b1-9f1d-2dd2fad2a515",
   "metadata": {},
   "source": [
    "### Restart Kernel (If Installs Occured)\n",
    "\n",
    "After a kernel restart the code submission can start with the next cell after this one."
   ]
  },
  {
   "cell_type": "code",
   "execution_count": 2,
   "id": "05eb94fd-0562-4e3c-a63b-4952b5402519",
   "metadata": {
    "tags": []
   },
   "outputs": [],
   "source": [
    "if install:\n",
    "    import IPython\n",
    "    app = IPython.Application.instance()\n",
    "    app.kernel.do_shutdown(True)"
   ]
  },
  {
   "cell_type": "markdown",
   "id": "5107e967-b47b-43d4-8098-b0e5d2262d49",
   "metadata": {},
   "source": [
    "---\n",
    "## Setup"
   ]
  },
  {
   "cell_type": "markdown",
   "id": "c93da7af-6765-4730-b6d0-d7e7e188f79c",
   "metadata": {},
   "source": [
    "inputs:"
   ]
  },
  {
   "cell_type": "code",
   "execution_count": 2,
   "id": "3e11fd07-a9b3-428f-9ee9-16ee36179798",
   "metadata": {
    "tags": []
   },
   "outputs": [
    {
     "data": {
      "text/plain": [
       "'mg-ce-demos'"
      ]
     },
     "execution_count": 2,
     "metadata": {},
     "output_type": "execute_result"
    }
   ],
   "source": [
    "project = !gcloud config get-value project\n",
    "PROJECT_ID = project[0]\n",
    "PROJECT_ID"
   ]
  },
  {
   "cell_type": "code",
   "execution_count": 3,
   "id": "55f7dba0-40ea-4a87-88cd-d7762ab96ec6",
   "metadata": {
    "tags": []
   },
   "outputs": [],
   "source": [
    "REGION = 'us-central1'\n",
    "\n",
    "# Set the BUCKET name for saving work:\n",
    "BUCKET = PROJECT_ID\n",
    "SECRET_ID = \"google-aistudio\" # for using Google AI Studio\n",
    "SECRET_VERSION_ID = 1"
   ]
  },
  {
   "cell_type": "markdown",
   "id": "91eda4f2-665e-4d72-84f7-dc1db3821348",
   "metadata": {},
   "source": [
    "packages:"
   ]
  },
  {
   "cell_type": "code",
   "execution_count": 4,
   "id": "9f694039-e4ac-4376-bb8c-234ac30b4d72",
   "metadata": {
    "tags": []
   },
   "outputs": [],
   "source": [
    "import os\n",
    "#os.environ['TF_CPP_MIN_LOG_LEVEL'] = '3'\n",
    "\n",
    "from google.cloud import aiplatform\n",
    "from google.cloud import bigquery\n",
    "from google.cloud import storage\n",
    "from google.cloud import secretmanager\n",
    "\n",
    "import vertexai.vision_models # Imagen Models\n",
    "import vertexai.preview.vision_models\n",
    "import vertexai.language_models # PaLM and Codey Models\n",
    "import vertexai.generative_models # for Gemini Models\n",
    "\n",
    "from google import genai # new unified SDK\n",
    "from google.genai import types\n",
    "\n",
    "import json\n",
    "import io\n",
    "import base64\n",
    "import asyncio\n",
    "import requests\n",
    "import IPython\n",
    "import datetime, time"
   ]
  },
  {
   "cell_type": "code",
   "execution_count": 5,
   "id": "7911a940-bd37-4318-8f41-c796a76ae5b0",
   "metadata": {},
   "outputs": [
    {
     "name": "stdout",
     "output_type": "stream",
     "text": [
      "Vertex AI version: 1.74.0\n"
     ]
    }
   ],
   "source": [
    "print(\"Vertex AI version: \" + str(aiplatform.__version__))"
   ]
  },
  {
   "cell_type": "markdown",
   "id": "3e4fd992-fc1e-41aa-ac50-8ce7334057fd",
   "metadata": {},
   "source": [
    "clients:"
   ]
  },
  {
   "cell_type": "code",
   "execution_count": 6,
   "id": "4cf195c7-4dff-4370-9dca-d49b90792578",
   "metadata": {
    "tags": []
   },
   "outputs": [],
   "source": [
    "vertexai.init(project = PROJECT_ID, location = REGION)\n",
    "gcs = storage.Client(project = PROJECT_ID)\n",
    "bq = bigquery.Client(project = PROJECT_ID)\n",
    "\n",
    "bucket = gcs.lookup_bucket(BUCKET)"
   ]
  },
  {
   "cell_type": "code",
   "execution_count": 7,
   "id": "4f2266be-5f6a-45b1-b726-dc28b9fe37d4",
   "metadata": {
    "tags": []
   },
   "outputs": [],
   "source": [
    "prompt = \"What is a mulligan?\""
   ]
  },
  {
   "cell_type": "markdown",
   "id": "04e87b5e-60e4-4ef9-9019-7960f5ebff3e",
   "metadata": {},
   "source": [
    "---\n",
    "## Vertex AI SDK"
   ]
  },
  {
   "cell_type": "markdown",
   "id": "d7a9dd2a-46c7-4c4a-bcb7-33dc4d92f223",
   "metadata": {},
   "source": [
    "### Model list"
   ]
  },
  {
   "cell_type": "code",
   "execution_count": 20,
   "id": "cd89fd8d-1a84-4077-b84a-30ce99be6ed4",
   "metadata": {
    "tags": []
   },
   "outputs": [],
   "source": [
    "# Gemini Models\n",
    "gemini_text = vertexai.generative_models.GenerativeModel(\"gemini-1.0-pro-002\")\n",
    "gemini_multimodal = vertexai.generative_models.GenerativeModel(\"gemini-1.0-pro-vision-001\")\n",
    "gemini15_multimodal = vertexai.generative_models.GenerativeModel(\"gemini-1.5-pro-002\")\n",
    "gemini15_flash = vertexai.generative_models.GenerativeModel(\"gemini-1.5-flash-002\")\n",
    "gemini2_flash = vertexai.generative_models.GenerativeModel(\"gemini-2.0-flash-exp\") # new experimental model\n",
    "\n",
    "# PaLM and Codey Models\n",
    "text_model = vertexai.language_models.TextGenerationModel.from_pretrained('text-bison')\n",
    "chat_model = vertexai.language_models.ChatModel.from_pretrained('chat-bison')\n",
    "textembed_model = vertexai.language_models.TextEmbeddingModel.from_pretrained('textembedding-gecko')\n",
    "codegen_model = vertexai.language_models.CodeGenerationModel.from_pretrained('code-bison')\n",
    "codecomp_model = vertexai.language_models.CodeGenerationModel.from_pretrained('code-gecko')\n",
    "codechat_model = vertexai.language_models.CodeChatModel.from_pretrained('codechat-bison')\n",
    "\n",
    "# Imagen Models\n",
    "imagecap_model = vertexai.vision_models.ImageCaptioningModel.from_pretrained(\"imagetext\")\n",
    "imageqna_model = vertexai.vision_models.ImageQnAModel.from_pretrained(\"imagetext\")\n",
    "imagetext_model = vertexai.vision_models.ImageTextModel.from_pretrained(\"imagetext\")\n",
    "multimodalembed_model = vertexai.vision_models.MultiModalEmbeddingModel.from_pretrained('multimodalembedding')\n",
    "imagen1 = vertexai.preview.vision_models.ImageGenerationModel.from_pretrained('imagegeneration@002')\n",
    "imagen2 = vertexai.preview.vision_models.ImageGenerationModel.from_pretrained('imagegeneration@005')\n",
    "imagen3 = vertexai.preview.vision_models.ImageGenerationModel.from_pretrained('imagen-3.0-generate-001')"
   ]
  },
  {
   "cell_type": "markdown",
   "id": "1bf7e3b9-8621-420c-975b-40598ac91bfc",
   "metadata": {
    "tags": []
   },
   "source": [
    "### Text Prompt"
   ]
  },
  {
   "cell_type": "code",
   "execution_count": 9,
   "id": "2af70c73-d29c-40f8-b996-370ce8ccc7b2",
   "metadata": {
    "scrolled": true,
    "tags": []
   },
   "outputs": [],
   "source": [
    "response = gemini2_flash.generate_content(prompt)\n",
    "#response"
   ]
  },
  {
   "cell_type": "code",
   "execution_count": 10,
   "id": "2719f6d0-eb35-4759-a01d-af4b06796602",
   "metadata": {
    "tags": []
   },
   "outputs": [
    {
     "name": "stdout",
     "output_type": "stream",
     "text": [
      "The term \"mulligan\" has a few different meanings, but it most commonly refers to a second chance or redo, typically in a game. Here's a breakdown of the most common uses:\n",
      "\n",
      "**1. In Golf:**\n",
      "\n",
      "* **The Classic Mulligan:** In golf, a mulligan is an informal rule (not part of the official rules of golf) that allows a player to replay a shot, typically on their first tee shot. It's essentially a \"do-over\" for a bad initial attempt.\n",
      "* **Casual Golf Only:** Mulligans are almost exclusively used in casual or friendly rounds of golf. They are never allowed in tournaments or competitive play.\n",
      "* **A Gentleman's Agreement:** The use of mulligans is usually a mutual agreement between the players involved.\n",
      "* **Different Interpretations:** There can be variations in how mulligans are used. Some groups allow only one per round, some allow them only on the first tee, and others have looser rules.\n",
      "\n",
      "**2. In Other Games (Less Common but Similar Concept):**\n",
      "\n",
      "* **Card Games (Hand Re-deal):** In some card games, like poker or Magic: The Gathering, a \"mulligan\" might refer to the option to discard your starting hand and receive a new one, often with some penalty (like drawing fewer cards in the new hand).\n",
      "* **General \"Do-Over\":** More broadly, \"mulligan\" can sometimes be used informally to mean any kind of redo or second chance in other games or situations, even outside of golf.\n",
      "\n",
      "**3. In General Conversation:**\n",
      "\n",
      "* **Informal \"Second Chance\":** In everyday conversations, you might hear someone say they want a \"mulligan\" when they've made a mistake or want to try something again. It carries the same connotation of wanting a do-over.\n",
      "\n",
      "**Key Takeaways:**\n",
      "\n",
      "* **Most common use is in golf:** This is where the term originated and is most commonly recognized.\n",
      "* **Informal and Casual:** Mulligans are typically used in casual settings and are not part of official rules.\n",
      "* **A \"Do-Over\":** The core concept is that it's a second chance to correct a mistake.\n",
      "* **Context is Important:** The specific rules and usage of a mulligan can vary depending on the context.\n",
      "\n",
      "In summary, a mulligan is generally a second chance, most notably in golf, where it's a do-over of a bad shot, usually the first tee shot. It implies a more relaxed and casual approach to whatever is being played.\n",
      "\n"
     ]
    }
   ],
   "source": [
    "print(response.text)"
   ]
  },
  {
   "cell_type": "code",
   "execution_count": 11,
   "id": "f94fc1a6-fd73-4477-8bc9-5b7bd7cb7608",
   "metadata": {
    "tags": []
   },
   "outputs": [
    {
     "data": {
      "text/markdown": [
       "The term \"mulligan\" has a few different meanings, but it most commonly refers to a second chance or redo, typically in a game. Here's a breakdown of the most common uses:\n",
       "\n",
       "**1. In Golf:**\n",
       "\n",
       "* **The Classic Mulligan:** In golf, a mulligan is an informal rule (not part of the official rules of golf) that allows a player to replay a shot, typically on their first tee shot. It's essentially a \"do-over\" for a bad initial attempt.\n",
       "* **Casual Golf Only:** Mulligans are almost exclusively used in casual or friendly rounds of golf. They are never allowed in tournaments or competitive play.\n",
       "* **A Gentleman's Agreement:** The use of mulligans is usually a mutual agreement between the players involved.\n",
       "* **Different Interpretations:** There can be variations in how mulligans are used. Some groups allow only one per round, some allow them only on the first tee, and others have looser rules.\n",
       "\n",
       "**2. In Other Games (Less Common but Similar Concept):**\n",
       "\n",
       "* **Card Games (Hand Re-deal):** In some card games, like poker or Magic: The Gathering, a \"mulligan\" might refer to the option to discard your starting hand and receive a new one, often with some penalty (like drawing fewer cards in the new hand).\n",
       "* **General \"Do-Over\":** More broadly, \"mulligan\" can sometimes be used informally to mean any kind of redo or second chance in other games or situations, even outside of golf.\n",
       "\n",
       "**3. In General Conversation:**\n",
       "\n",
       "* **Informal \"Second Chance\":** In everyday conversations, you might hear someone say they want a \"mulligan\" when they've made a mistake or want to try something again. It carries the same connotation of wanting a do-over.\n",
       "\n",
       "**Key Takeaways:**\n",
       "\n",
       "* **Most common use is in golf:** This is where the term originated and is most commonly recognized.\n",
       "* **Informal and Casual:** Mulligans are typically used in casual settings and are not part of official rules.\n",
       "* **A \"Do-Over\":** The core concept is that it's a second chance to correct a mistake.\n",
       "* **Context is Important:** The specific rules and usage of a mulligan can vary depending on the context.\n",
       "\n",
       "In summary, a mulligan is generally a second chance, most notably in golf, where it's a do-over of a bad shot, usually the first tee shot. It implies a more relaxed and casual approach to whatever is being played.\n"
      ],
      "text/plain": [
       "<IPython.core.display.Markdown object>"
      ]
     },
     "execution_count": 11,
     "metadata": {},
     "output_type": "execute_result"
    }
   ],
   "source": [
    "IPython.display.Markdown(response.text)"
   ]
  },
  {
   "cell_type": "markdown",
   "id": "b5b426c1-5c31-4353-aaf9-90ef9630dfc0",
   "metadata": {},
   "source": [
    "### Streaming Response"
   ]
  },
  {
   "cell_type": "code",
   "execution_count": 12,
   "id": "bda27ede-387e-432f-91e3-02d5c90bde9a",
   "metadata": {
    "tags": []
   },
   "outputs": [
    {
     "name": "stdout",
     "output_type": "stream",
     "text": [
      "The\n",
      " term \"mulligan\" generally refers to **a second chance to perform an\n",
      " action, typically in a game, after a flawed or unsatisfactory first attempt.** It\n",
      "'s most commonly used in golf, but it can also appear in other contexts.\n",
      "\n",
      "Here's a more detailed breakdown of what a mulligan means:\n",
      "\n",
      "\n",
      "**In Golf:**\n",
      "\n",
      "* **Definition:** In golf, a mulligan is an informal rule that allows a player to replay a shot, usually the first\n",
      " shot of a round or a tee shot, without incurring a penalty.\n",
      "* **Informal Nature:** Mulligans are not recognized by the official rules of golf. They are purely a friendly agreement among players.\n",
      "* **Common Usage:**\n",
      " Mulligans are often used in casual, non-competitive rounds of golf, especially among friends. They're meant to be a forgiving way to start the game.\n",
      "* **Variations:** Some groups might allow a mulligan only on\n",
      " the first tee, while others might allow a limited number of mulligans per round, or even on specific holes.\n",
      "* **Etymology (Origin):** The origin of the term is debated, but some theories suggest it originated from a specific person named Mulligan who was given extra shots, or from a \"mull\n",
      "\" which means a mess or a failure.\n",
      "\n",
      "**Beyond Golf:**\n",
      "\n",
      "* **General Meaning:** The concept of a mulligan has expanded to other areas beyond golf, generally referring to the idea of a do-over, a second attempt.\n",
      "* **Examples:**\n",
      "    * **In casual board games:** You\n",
      " might allow a \"mulligan\" if someone makes an obviously bad move early on.\n",
      "    * **In social situations:** Someone might jokingly say, \"Can I have a mulligan on that comment?\" after saying something they regret.\n",
      "    * **In video games:** Some games might have a built-in\n",
      " mechanic that allows a player to \"rewind\" or \"restart\" an action, similar to a mulligan.\n",
      "\n",
      "**Key Characteristics of a Mulligan:**\n",
      "\n",
      "* **Informal:** It's not a standard rule or procedure.\n",
      "* **Forgiving:** It provides a chance to correct a mistake.\n",
      "*\n",
      " **Limited:** It's usually not given unlimited times; it's typically limited to specific circumstances or a set number.\n",
      "* **Social Context:** Often used in casual or friendly environments rather than competitive ones.\n",
      "\n",
      "**In Summary:**\n",
      "\n",
      "A mulligan is a second chance, a redo, usually given in a\n",
      " casual setting. While most commonly associated with golf, the term and concept have been adopted more broadly to refer to a do-over in other contexts. It represents a friendly gesture to allow someone to correct a misstep.\n",
      "\n"
     ]
    }
   ],
   "source": [
    "for response in gemini2_flash.generate_content(prompt, stream = True):\n",
    "    print(response.text)"
   ]
  },
  {
   "cell_type": "markdown",
   "id": "ed1984c7-fbca-4f36-b2b4-95bb4a81506f",
   "metadata": {
    "jp-MarkdownHeadingCollapsed": true
   },
   "source": [
    "### Async Response\n",
    "\n",
    "The client has built in method for awaitable responses that make it easy to make asynchronous request.\n",
    "\n",
    "> For detailed coverage and examples of asynchronous call to these API's, scaling, error handling, and managing fail over regions check out this notebook in the same folder: [Python Asynchronous API Calls](./Python%20Asynchronous%20API%20Calls.ipynb)"
   ]
  },
  {
   "cell_type": "code",
   "execution_count": 16,
   "id": "05651a11-fc6d-4bd4-99af-85453e5e6635",
   "metadata": {
    "tags": []
   },
   "outputs": [
    {
     "data": {
      "text/markdown": [
       "## Unplayable Lies in Golf\n",
       "\n",
       "An unplayable lie in golf can be frustrating, but don't worry, there are options! Here's what you can do:\n",
       "\n",
       "**1. Take a Penalty Stroke:**\n",
       "\n",
       "This is the simplest option. You can take a one-stroke penalty and drop the ball within two club lengths of the original spot, no closer to the hole. Keep in mind that these two club lengths should be measured in any direction, except towards the hole.\n",
       "\n",
       "**2. Play the Ball as it Lies:**\n",
       "\n",
       "While challenging, you can attempt to play the ball as it lies. This could be a good option if you're confident in your ability to hit a difficult shot or if the penalty stroke would put you in an even worse position.\n",
       "\n",
       "**3. Take Lateral Relief:**\n",
       "\n",
       "If your ball is in a penalty area (water hazard or out-of-bounds), you can take lateral relief. This means dropping the ball within two club lengths of the point where the ball crossed the margin of the penalty area, but not closer to the hole. There is a two-stroke penalty for taking lateral relief.\n",
       "\n",
       "**4. Provisional Ball:**\n",
       "\n",
       "Before hitting your original shot, you can hit a provisional ball in case your original shot ends up being unplayable. You can then play the provisional ball without penalty if your original shot is deemed unplayable.\n",
       "\n",
       "**Additional Considerations:**\n",
       "\n",
       "* Always check the local rules before determining how to proceed with an unplayable lie.\n",
       "* Consider the conditions and your own skill level when choosing the best option for your situation.\n",
       "* Remember to inform your playing partners and marker when taking relief or playing a provisional ball.\n",
       "\n",
       "Here are some helpful resources:\n",
       "\n",
       "* **USGA Rule 19:** https://www.usga.org/content/dam/usga/pdf/2023/rule-books/rules-of-golf.pdf\n",
       "* **R&A Rule 19:** https://www.randa.org/en/rules-and-amateur-status/rules-of-golf\n",
       "* **PGA Instruction on Unplayable Lie:** https://www.pga.com/practice/golf-tips/how-to-play-an-unplayable-lie\n",
       "\n",
       "I hope this helps! Let me know if you have any other questions about golf or anything else."
      ],
      "text/plain": [
       "<IPython.core.display.Markdown object>"
      ]
     },
     "execution_count": 16,
     "metadata": {},
     "output_type": "execute_result"
    }
   ],
   "source": [
    "response = await gemini_text.generate_content_async(prompts[1])\n",
    "#print(response.text)\n",
    "IPython.display.Markdown(response.text)"
   ]
  },
  {
   "cell_type": "markdown",
   "id": "2564224d-e003-4469-94d6-bb52eb3aec23",
   "metadata": {
    "jp-MarkdownHeadingCollapsed": true
   },
   "source": [
    "---\n",
    "## Google GenAI SDK"
   ]
  },
  {
   "cell_type": "code",
   "execution_count": 13,
   "id": "eb7bced3-2e27-4ed1-b78b-415c4142c9fe",
   "metadata": {},
   "outputs": [],
   "source": [
    "# Create the Secret Manager client.\n",
    "secret_client = secretmanager.SecretManagerServiceClient()\n",
    "name = f\"projects/{PROJECT_ID}/secrets/{SECRET_ID}/versions/{SECRET_VERSION_ID}\"\n",
    "response = secret_client.access_secret_version(request={\"name\": name})\n",
    "aistudio_key = response.payload.data.decode(\"UTF-8\")"
   ]
  },
  {
   "cell_type": "code",
   "execution_count": 14,
   "id": "af2b8dbc-258d-46d5-94b7-9de6e1a6a81f",
   "metadata": {},
   "outputs": [],
   "source": [
    "# Only run this block for Vertex AI API\n",
    "google_genai_client = genai.Client(vertexai=True, project=PROJECT_ID, location=REGION) # vertex\n",
    "#google_genai_client = genai.Client(api_key=aistudio_key) # google ai studio\n",
    "\n",
    "#google_genai_client"
   ]
  },
  {
   "cell_type": "code",
   "execution_count": 15,
   "id": "aa39b719-783e-4db4-9306-e1e4375a6c41",
   "metadata": {},
   "outputs": [],
   "source": [
    "gemini_2_flash = 'gemini-2.0-flash-exp'"
   ]
  },
  {
   "cell_type": "code",
   "execution_count": 16,
   "id": "03fbbfc0-d0d0-4fcf-bf5e-0113fcb999cd",
   "metadata": {},
   "outputs": [],
   "source": [
    "contents = [\n",
    "    types.Content(\n",
    "        role=\"user\",\n",
    "        parts=[types.Part.from_text(prompt)]\n",
    "    )\n",
    "]"
   ]
  },
  {
   "cell_type": "code",
   "execution_count": 17,
   "id": "89e8002b-cdab-4cbf-83f1-45bb0b6ffc42",
   "metadata": {},
   "outputs": [],
   "source": [
    "generate_content_config = types.GenerateContentConfig(\n",
    "    temperature = 1,\n",
    "    top_p = 0.95,\n",
    "    max_output_tokens = 8192,\n",
    "    response_modalities = [\"TEXT\"],\n",
    "    safety_settings = [types.SafetySetting(\n",
    "        category=\"HARM_CATEGORY_HATE_SPEECH\",\n",
    "        threshold=\"OFF\"\n",
    "    ),types.SafetySetting(\n",
    "        category=\"HARM_CATEGORY_DANGEROUS_CONTENT\",\n",
    "        threshold=\"OFF\"\n",
    "    ),types.SafetySetting(\n",
    "        category=\"HARM_CATEGORY_SEXUALLY_EXPLICIT\",\n",
    "        threshold=\"OFF\"\n",
    "    ),types.SafetySetting(\n",
    "        category=\"HARM_CATEGORY_HARASSMENT\",\n",
    "        threshold=\"OFF\"\n",
    "    )]\n",
    ")\n",
    "\n",
    "  "
   ]
  },
  {
   "cell_type": "code",
   "execution_count": 18,
   "id": "bff50306-8835-413f-b4e4-c05c33563bb7",
   "metadata": {},
   "outputs": [
    {
     "ename": "RefreshError",
     "evalue": "('invalid_scope: Invalid OAuth scope or ID token audience provided.', {'error': 'invalid_scope', 'error_description': 'Invalid OAuth scope or ID token audience provided.'})",
     "output_type": "error",
     "traceback": [
      "\u001b[0;31m---------------------------------------------------------------------------\u001b[0m",
      "\u001b[0;31mRefreshError\u001b[0m                              Traceback (most recent call last)",
      "Cell \u001b[0;32mIn[18], line 1\u001b[0m\n\u001b[0;32m----> 1\u001b[0m \u001b[38;5;28;43;01mfor\u001b[39;49;00m\u001b[43m \u001b[49m\u001b[43mchunk\u001b[49m\u001b[43m \u001b[49m\u001b[38;5;129;43;01min\u001b[39;49;00m\u001b[43m \u001b[49m\u001b[43mgoogle_genai_client\u001b[49m\u001b[38;5;241;43m.\u001b[39;49m\u001b[43mmodels\u001b[49m\u001b[38;5;241;43m.\u001b[39;49m\u001b[43mgenerate_content_stream\u001b[49m\u001b[43m(\u001b[49m\n\u001b[1;32m      2\u001b[0m \u001b[43m    \u001b[49m\u001b[43mmodel\u001b[49m\u001b[43m \u001b[49m\u001b[38;5;241;43m=\u001b[39;49m\u001b[43m \u001b[49m\u001b[43mgemini_2_flash\u001b[49m\u001b[43m,\u001b[49m\u001b[43m \u001b[49m\n\u001b[1;32m      3\u001b[0m \u001b[43m    \u001b[49m\u001b[43mcontents\u001b[49m\u001b[43m \u001b[49m\u001b[38;5;241;43m=\u001b[39;49m\u001b[43m \u001b[49m\u001b[43mcontents\u001b[49m\u001b[43m,\u001b[49m\u001b[43m \u001b[49m\n\u001b[1;32m      4\u001b[0m \u001b[43m    \u001b[49m\u001b[43mconfig\u001b[49m\u001b[43m \u001b[49m\u001b[38;5;241;43m=\u001b[39;49m\u001b[43m \u001b[49m\u001b[43mgenerate_content_config\u001b[49m\u001b[43m,\u001b[49m\u001b[43m)\u001b[49m\u001b[43m:\u001b[49m\n\u001b[1;32m      5\u001b[0m \u001b[43m    \u001b[49m\u001b[38;5;28;43mprint\u001b[39;49m\u001b[43m(\u001b[49m\u001b[43mchunk\u001b[49m\u001b[38;5;241;43m.\u001b[39;49m\u001b[43mtext\u001b[49m\u001b[43m,\u001b[49m\u001b[43m \u001b[49m\u001b[43mend\u001b[49m\u001b[38;5;241;43m=\u001b[39;49m\u001b[38;5;124;43m\"\u001b[39;49m\u001b[38;5;124;43m\"\u001b[39;49m\u001b[43m)\u001b[49m\n",
      "File \u001b[0;32m~/Documents/dev/venv/lib/python3.11/site-packages/google/genai/models.py:3700\u001b[0m, in \u001b[0;36mModels.generate_content_stream\u001b[0;34m(self, model, contents, config)\u001b[0m\n\u001b[1;32m   3697\u001b[0m request_dict \u001b[38;5;241m=\u001b[39m _common\u001b[38;5;241m.\u001b[39mconvert_to_dict(request_dict)\n\u001b[1;32m   3698\u001b[0m request_dict \u001b[38;5;241m=\u001b[39m _common\u001b[38;5;241m.\u001b[39mapply_base64_encoding(request_dict)\n\u001b[0;32m-> 3700\u001b[0m \u001b[43m\u001b[49m\u001b[38;5;28;43;01mfor\u001b[39;49;00m\u001b[43m \u001b[49m\u001b[43mresponse_dict\u001b[49m\u001b[43m \u001b[49m\u001b[38;5;129;43;01min\u001b[39;49;00m\u001b[43m \u001b[49m\u001b[38;5;28;43mself\u001b[39;49m\u001b[38;5;241;43m.\u001b[39;49m\u001b[43mapi_client\u001b[49m\u001b[38;5;241;43m.\u001b[39;49m\u001b[43mrequest_streamed\u001b[49m\u001b[43m(\u001b[49m\n\u001b[1;32m   3701\u001b[0m \u001b[43m    \u001b[49m\u001b[38;5;124;43m'\u001b[39;49m\u001b[38;5;124;43mpost\u001b[39;49m\u001b[38;5;124;43m'\u001b[39;49m\u001b[43m,\u001b[49m\u001b[43m \u001b[49m\u001b[43mpath\u001b[49m\u001b[43m,\u001b[49m\u001b[43m \u001b[49m\u001b[43mrequest_dict\u001b[49m\u001b[43m,\u001b[49m\u001b[43m \u001b[49m\u001b[43mhttp_options\u001b[49m\n\u001b[1;32m   3702\u001b[0m \u001b[43m\u001b[49m\u001b[43m)\u001b[49m\u001b[43m:\u001b[49m\n\u001b[1;32m   3704\u001b[0m \u001b[43m  \u001b[49m\u001b[38;5;28;43;01mif\u001b[39;49;00m\u001b[43m \u001b[49m\u001b[38;5;28;43mself\u001b[39;49m\u001b[38;5;241;43m.\u001b[39;49m\u001b[43mapi_client\u001b[49m\u001b[38;5;241;43m.\u001b[39;49m\u001b[43mvertexai\u001b[49m\u001b[43m:\u001b[49m\n\u001b[1;32m   3705\u001b[0m \u001b[43m    \u001b[49m\u001b[43mresponse_dict\u001b[49m\u001b[43m \u001b[49m\u001b[38;5;241;43m=\u001b[39;49m\u001b[43m \u001b[49m\u001b[43m_GenerateContentResponse_from_vertex\u001b[49m\u001b[43m(\u001b[49m\n\u001b[1;32m   3706\u001b[0m \u001b[43m        \u001b[49m\u001b[38;5;28;43mself\u001b[39;49m\u001b[38;5;241;43m.\u001b[39;49m\u001b[43mapi_client\u001b[49m\u001b[43m,\u001b[49m\u001b[43m \u001b[49m\u001b[43mresponse_dict\u001b[49m\n\u001b[1;32m   3707\u001b[0m \u001b[43m    \u001b[49m\u001b[43m)\u001b[49m\n",
      "File \u001b[0;32m~/Documents/dev/venv/lib/python3.11/site-packages/google/genai/_api_client.py:329\u001b[0m, in \u001b[0;36mApiClient.request_streamed\u001b[0;34m(self, http_method, path, request_dict, http_options)\u001b[0m\n\u001b[1;32m    318\u001b[0m \u001b[38;5;28;01mdef\u001b[39;00m \u001b[38;5;21mrequest_streamed\u001b[39m(\n\u001b[1;32m    319\u001b[0m     \u001b[38;5;28mself\u001b[39m,\n\u001b[1;32m    320\u001b[0m     http_method: \u001b[38;5;28mstr\u001b[39m,\n\u001b[0;32m   (...)\u001b[0m\n\u001b[1;32m    323\u001b[0m     http_options: HttpOptions \u001b[38;5;241m=\u001b[39m \u001b[38;5;28;01mNone\u001b[39;00m,\n\u001b[1;32m    324\u001b[0m ):\n\u001b[1;32m    325\u001b[0m   http_request \u001b[38;5;241m=\u001b[39m \u001b[38;5;28mself\u001b[39m\u001b[38;5;241m.\u001b[39m_build_request(\n\u001b[1;32m    326\u001b[0m       http_method, path, request_dict, http_options\n\u001b[1;32m    327\u001b[0m   )\n\u001b[0;32m--> 329\u001b[0m   session_response \u001b[38;5;241m=\u001b[39m \u001b[38;5;28;43mself\u001b[39;49m\u001b[38;5;241;43m.\u001b[39;49m\u001b[43m_request\u001b[49m\u001b[43m(\u001b[49m\u001b[43mhttp_request\u001b[49m\u001b[43m,\u001b[49m\u001b[43m \u001b[49m\u001b[43mstream\u001b[49m\u001b[38;5;241;43m=\u001b[39;49m\u001b[38;5;28;43;01mTrue\u001b[39;49;00m\u001b[43m)\u001b[49m\n\u001b[1;32m    330\u001b[0m   \u001b[38;5;28;01mif\u001b[39;00m http_options \u001b[38;5;129;01mand\u001b[39;00m \u001b[38;5;124m'\u001b[39m\u001b[38;5;124mresponse_payload\u001b[39m\u001b[38;5;124m'\u001b[39m \u001b[38;5;129;01min\u001b[39;00m http_options:\n\u001b[1;32m    331\u001b[0m     session_response\u001b[38;5;241m.\u001b[39mcopy_to_dict(http_options[\u001b[38;5;124m'\u001b[39m\u001b[38;5;124mresponse_payload\u001b[39m\u001b[38;5;124m'\u001b[39m])\n",
      "File \u001b[0;32m~/Documents/dev/venv/lib/python3.11/site-packages/google/genai/_api_client.py:239\u001b[0m, in \u001b[0;36mApiClient._request\u001b[0;34m(self, http_request, stream)\u001b[0m\n\u001b[1;32m    237\u001b[0m authed_session \u001b[38;5;241m=\u001b[39m AuthorizedSession(\u001b[38;5;28mself\u001b[39m\u001b[38;5;241m.\u001b[39m_credentials)\n\u001b[1;32m    238\u001b[0m authed_session\u001b[38;5;241m.\u001b[39mstream \u001b[38;5;241m=\u001b[39m stream\n\u001b[0;32m--> 239\u001b[0m response \u001b[38;5;241m=\u001b[39m \u001b[43mauthed_session\u001b[49m\u001b[38;5;241;43m.\u001b[39;49m\u001b[43mrequest\u001b[49m\u001b[43m(\u001b[49m\n\u001b[1;32m    240\u001b[0m \u001b[43m    \u001b[49m\u001b[43mhttp_request\u001b[49m\u001b[38;5;241;43m.\u001b[39;49m\u001b[43mmethod\u001b[49m\u001b[38;5;241;43m.\u001b[39;49m\u001b[43mupper\u001b[49m\u001b[43m(\u001b[49m\u001b[43m)\u001b[49m\u001b[43m,\u001b[49m\n\u001b[1;32m    241\u001b[0m \u001b[43m    \u001b[49m\u001b[43mhttp_request\u001b[49m\u001b[38;5;241;43m.\u001b[39;49m\u001b[43murl\u001b[49m\u001b[43m,\u001b[49m\n\u001b[1;32m    242\u001b[0m \u001b[43m    \u001b[49m\u001b[43mheaders\u001b[49m\u001b[38;5;241;43m=\u001b[39;49m\u001b[43mhttp_request\u001b[49m\u001b[38;5;241;43m.\u001b[39;49m\u001b[43mheaders\u001b[49m\u001b[43m,\u001b[49m\n\u001b[1;32m    243\u001b[0m \u001b[43m    \u001b[49m\u001b[43mdata\u001b[49m\u001b[38;5;241;43m=\u001b[39;49m\u001b[43mjson\u001b[49m\u001b[38;5;241;43m.\u001b[39;49m\u001b[43mdumps\u001b[49m\u001b[43m(\u001b[49m\u001b[43mhttp_request\u001b[49m\u001b[38;5;241;43m.\u001b[39;49m\u001b[43mdata\u001b[49m\u001b[43m,\u001b[49m\u001b[43m \u001b[49m\u001b[38;5;28;43mcls\u001b[39;49m\u001b[38;5;241;43m=\u001b[39;49m\u001b[43mRequestJsonEncoder\u001b[49m\u001b[43m)\u001b[49m\u001b[43m \u001b[49m\u001b[38;5;28;43;01mif\u001b[39;49;00m\u001b[43m \u001b[49m\u001b[43mhttp_request\u001b[49m\u001b[38;5;241;43m.\u001b[39;49m\u001b[43mdata\u001b[49m\u001b[43m \u001b[49m\u001b[38;5;28;43;01melse\u001b[39;49;00m\u001b[43m \u001b[49m\u001b[38;5;28;43;01mNone\u001b[39;49;00m\u001b[43m,\u001b[49m\n\u001b[1;32m    244\u001b[0m \u001b[43m    \u001b[49m\u001b[38;5;66;43;03m# TODO: support timeout in RequestOptions so it can be configured\u001b[39;49;00m\n\u001b[1;32m    245\u001b[0m \u001b[43m    \u001b[49m\u001b[38;5;66;43;03m# per methods.\u001b[39;49;00m\n\u001b[1;32m    246\u001b[0m \u001b[43m    \u001b[49m\u001b[43mtimeout\u001b[49m\u001b[38;5;241;43m=\u001b[39;49m\u001b[38;5;28;43;01mNone\u001b[39;49;00m\u001b[43m,\u001b[49m\n\u001b[1;32m    247\u001b[0m \u001b[43m\u001b[49m\u001b[43m)\u001b[49m\n\u001b[1;32m    248\u001b[0m errors\u001b[38;5;241m.\u001b[39mAPIError\u001b[38;5;241m.\u001b[39mraise_for_response(response)\n\u001b[1;32m    249\u001b[0m \u001b[38;5;28;01mreturn\u001b[39;00m HttpResponse(\n\u001b[1;32m    250\u001b[0m     response\u001b[38;5;241m.\u001b[39mheaders, response \u001b[38;5;28;01mif\u001b[39;00m stream \u001b[38;5;28;01melse\u001b[39;00m [response\u001b[38;5;241m.\u001b[39mtext]\n\u001b[1;32m    251\u001b[0m )\n",
      "File \u001b[0;32m~/Documents/dev/venv/lib/python3.11/site-packages/google/auth/transport/requests.py:534\u001b[0m, in \u001b[0;36mAuthorizedSession.request\u001b[0;34m(self, method, url, data, headers, max_allowed_time, timeout, **kwargs)\u001b[0m\n\u001b[1;32m    531\u001b[0m remaining_time \u001b[38;5;241m=\u001b[39m max_allowed_time\n\u001b[1;32m    533\u001b[0m \u001b[38;5;28;01mwith\u001b[39;00m TimeoutGuard(remaining_time) \u001b[38;5;28;01mas\u001b[39;00m guard:\n\u001b[0;32m--> 534\u001b[0m     \u001b[38;5;28;43mself\u001b[39;49m\u001b[38;5;241;43m.\u001b[39;49m\u001b[43mcredentials\u001b[49m\u001b[38;5;241;43m.\u001b[39;49m\u001b[43mbefore_request\u001b[49m\u001b[43m(\u001b[49m\u001b[43mauth_request\u001b[49m\u001b[43m,\u001b[49m\u001b[43m \u001b[49m\u001b[43mmethod\u001b[49m\u001b[43m,\u001b[49m\u001b[43m \u001b[49m\u001b[43murl\u001b[49m\u001b[43m,\u001b[49m\u001b[43m \u001b[49m\u001b[43mrequest_headers\u001b[49m\u001b[43m)\u001b[49m\n\u001b[1;32m    535\u001b[0m remaining_time \u001b[38;5;241m=\u001b[39m guard\u001b[38;5;241m.\u001b[39mremaining_timeout\n\u001b[1;32m    537\u001b[0m \u001b[38;5;28;01mwith\u001b[39;00m TimeoutGuard(remaining_time) \u001b[38;5;28;01mas\u001b[39;00m guard:\n",
      "File \u001b[0;32m~/Documents/dev/venv/lib/python3.11/site-packages/google/auth/credentials.py:239\u001b[0m, in \u001b[0;36mCredentials.before_request\u001b[0;34m(self, request, method, url, headers)\u001b[0m\n\u001b[1;32m    237\u001b[0m     \u001b[38;5;28mself\u001b[39m\u001b[38;5;241m.\u001b[39m_non_blocking_refresh(request)\n\u001b[1;32m    238\u001b[0m \u001b[38;5;28;01melse\u001b[39;00m:\n\u001b[0;32m--> 239\u001b[0m     \u001b[38;5;28;43mself\u001b[39;49m\u001b[38;5;241;43m.\u001b[39;49m\u001b[43m_blocking_refresh\u001b[49m\u001b[43m(\u001b[49m\u001b[43mrequest\u001b[49m\u001b[43m)\u001b[49m\n\u001b[1;32m    241\u001b[0m metrics\u001b[38;5;241m.\u001b[39madd_metric_header(headers, \u001b[38;5;28mself\u001b[39m\u001b[38;5;241m.\u001b[39m_metric_header_for_usage())\n\u001b[1;32m    242\u001b[0m \u001b[38;5;28mself\u001b[39m\u001b[38;5;241m.\u001b[39mapply(headers)\n",
      "File \u001b[0;32m~/Documents/dev/venv/lib/python3.11/site-packages/google/auth/credentials.py:202\u001b[0m, in \u001b[0;36mCredentials._blocking_refresh\u001b[0;34m(self, request)\u001b[0m\n\u001b[1;32m    200\u001b[0m \u001b[38;5;28;01mdef\u001b[39;00m \u001b[38;5;21m_blocking_refresh\u001b[39m(\u001b[38;5;28mself\u001b[39m, request):\n\u001b[1;32m    201\u001b[0m     \u001b[38;5;28;01mif\u001b[39;00m \u001b[38;5;129;01mnot\u001b[39;00m \u001b[38;5;28mself\u001b[39m\u001b[38;5;241m.\u001b[39mvalid:\n\u001b[0;32m--> 202\u001b[0m         \u001b[38;5;28;43mself\u001b[39;49m\u001b[38;5;241;43m.\u001b[39;49m\u001b[43mrefresh\u001b[49m\u001b[43m(\u001b[49m\u001b[43mrequest\u001b[49m\u001b[43m)\u001b[49m\n",
      "File \u001b[0;32m~/Documents/dev/venv/lib/python3.11/site-packages/google/oauth2/service_account.py:448\u001b[0m, in \u001b[0;36mCredentials.refresh\u001b[0;34m(self, request)\u001b[0m\n\u001b[1;32m    446\u001b[0m \u001b[38;5;28;01melse\u001b[39;00m:\n\u001b[1;32m    447\u001b[0m     assertion \u001b[38;5;241m=\u001b[39m \u001b[38;5;28mself\u001b[39m\u001b[38;5;241m.\u001b[39m_make_authorization_grant_assertion()\n\u001b[0;32m--> 448\u001b[0m     access_token, expiry, _ \u001b[38;5;241m=\u001b[39m \u001b[43m_client\u001b[49m\u001b[38;5;241;43m.\u001b[39;49m\u001b[43mjwt_grant\u001b[49m\u001b[43m(\u001b[49m\n\u001b[1;32m    449\u001b[0m \u001b[43m        \u001b[49m\u001b[43mrequest\u001b[49m\u001b[43m,\u001b[49m\u001b[43m \u001b[49m\u001b[38;5;28;43mself\u001b[39;49m\u001b[38;5;241;43m.\u001b[39;49m\u001b[43m_token_uri\u001b[49m\u001b[43m,\u001b[49m\u001b[43m \u001b[49m\u001b[43massertion\u001b[49m\n\u001b[1;32m    450\u001b[0m \u001b[43m    \u001b[49m\u001b[43m)\u001b[49m\n\u001b[1;32m    451\u001b[0m     \u001b[38;5;28mself\u001b[39m\u001b[38;5;241m.\u001b[39mtoken \u001b[38;5;241m=\u001b[39m access_token\n\u001b[1;32m    452\u001b[0m     \u001b[38;5;28mself\u001b[39m\u001b[38;5;241m.\u001b[39mexpiry \u001b[38;5;241m=\u001b[39m expiry\n",
      "File \u001b[0;32m~/Documents/dev/venv/lib/python3.11/site-packages/google/oauth2/_client.py:298\u001b[0m, in \u001b[0;36mjwt_grant\u001b[0;34m(request, token_uri, assertion, can_retry)\u001b[0m\n\u001b[1;32m    274\u001b[0m \u001b[38;5;250m\u001b[39m\u001b[38;5;124;03m\"\"\"Implements the JWT Profile for OAuth 2.0 Authorization Grants.\u001b[39;00m\n\u001b[1;32m    275\u001b[0m \n\u001b[1;32m    276\u001b[0m \u001b[38;5;124;03mFor more details, see `rfc7523 section 4`_.\u001b[39;00m\n\u001b[0;32m   (...)\u001b[0m\n\u001b[1;32m    294\u001b[0m \u001b[38;5;124;03m.. _rfc7523 section 4: https://tools.ietf.org/html/rfc7523#section-4\u001b[39;00m\n\u001b[1;32m    295\u001b[0m \u001b[38;5;124;03m\"\"\"\u001b[39;00m\n\u001b[1;32m    296\u001b[0m body \u001b[38;5;241m=\u001b[39m {\u001b[38;5;124m\"\u001b[39m\u001b[38;5;124massertion\u001b[39m\u001b[38;5;124m\"\u001b[39m: assertion, \u001b[38;5;124m\"\u001b[39m\u001b[38;5;124mgrant_type\u001b[39m\u001b[38;5;124m\"\u001b[39m: _JWT_GRANT_TYPE}\n\u001b[0;32m--> 298\u001b[0m response_data \u001b[38;5;241m=\u001b[39m \u001b[43m_token_endpoint_request\u001b[49m\u001b[43m(\u001b[49m\n\u001b[1;32m    299\u001b[0m \u001b[43m    \u001b[49m\u001b[43mrequest\u001b[49m\u001b[43m,\u001b[49m\n\u001b[1;32m    300\u001b[0m \u001b[43m    \u001b[49m\u001b[43mtoken_uri\u001b[49m\u001b[43m,\u001b[49m\n\u001b[1;32m    301\u001b[0m \u001b[43m    \u001b[49m\u001b[43mbody\u001b[49m\u001b[43m,\u001b[49m\n\u001b[1;32m    302\u001b[0m \u001b[43m    \u001b[49m\u001b[43mcan_retry\u001b[49m\u001b[38;5;241;43m=\u001b[39;49m\u001b[43mcan_retry\u001b[49m\u001b[43m,\u001b[49m\n\u001b[1;32m    303\u001b[0m \u001b[43m    \u001b[49m\u001b[43mheaders\u001b[49m\u001b[38;5;241;43m=\u001b[39;49m\u001b[43m{\u001b[49m\n\u001b[1;32m    304\u001b[0m \u001b[43m        \u001b[49m\u001b[43mmetrics\u001b[49m\u001b[38;5;241;43m.\u001b[39;49m\u001b[43mAPI_CLIENT_HEADER\u001b[49m\u001b[43m:\u001b[49m\u001b[43m \u001b[49m\u001b[43mmetrics\u001b[49m\u001b[38;5;241;43m.\u001b[39;49m\u001b[43mtoken_request_access_token_sa_assertion\u001b[49m\u001b[43m(\u001b[49m\u001b[43m)\u001b[49m\n\u001b[1;32m    305\u001b[0m \u001b[43m    \u001b[49m\u001b[43m}\u001b[49m\u001b[43m,\u001b[49m\n\u001b[1;32m    306\u001b[0m \u001b[43m\u001b[49m\u001b[43m)\u001b[49m\n\u001b[1;32m    308\u001b[0m \u001b[38;5;28;01mtry\u001b[39;00m:\n\u001b[1;32m    309\u001b[0m     access_token \u001b[38;5;241m=\u001b[39m response_data[\u001b[38;5;124m\"\u001b[39m\u001b[38;5;124maccess_token\u001b[39m\u001b[38;5;124m\"\u001b[39m]\n",
      "File \u001b[0;32m~/Documents/dev/venv/lib/python3.11/site-packages/google/oauth2/_client.py:269\u001b[0m, in \u001b[0;36m_token_endpoint_request\u001b[0;34m(request, token_uri, body, access_token, use_json, can_retry, headers, **kwargs)\u001b[0m\n\u001b[1;32m    258\u001b[0m response_status_ok, response_data, retryable_error \u001b[38;5;241m=\u001b[39m _token_endpoint_request_no_throw(\n\u001b[1;32m    259\u001b[0m     request,\n\u001b[1;32m    260\u001b[0m     token_uri,\n\u001b[0;32m   (...)\u001b[0m\n\u001b[1;32m    266\u001b[0m     \u001b[38;5;241m*\u001b[39m\u001b[38;5;241m*\u001b[39mkwargs\n\u001b[1;32m    267\u001b[0m )\n\u001b[1;32m    268\u001b[0m \u001b[38;5;28;01mif\u001b[39;00m \u001b[38;5;129;01mnot\u001b[39;00m response_status_ok:\n\u001b[0;32m--> 269\u001b[0m     \u001b[43m_handle_error_response\u001b[49m\u001b[43m(\u001b[49m\u001b[43mresponse_data\u001b[49m\u001b[43m,\u001b[49m\u001b[43m \u001b[49m\u001b[43mretryable_error\u001b[49m\u001b[43m)\u001b[49m\n\u001b[1;32m    270\u001b[0m \u001b[38;5;28;01mreturn\u001b[39;00m response_data\n",
      "File \u001b[0;32m~/Documents/dev/venv/lib/python3.11/site-packages/google/oauth2/_client.py:68\u001b[0m, in \u001b[0;36m_handle_error_response\u001b[0;34m(response_data, retryable_error)\u001b[0m\n\u001b[1;32m     65\u001b[0m \u001b[38;5;28;01mexcept\u001b[39;00m (\u001b[38;5;167;01mKeyError\u001b[39;00m, \u001b[38;5;167;01mValueError\u001b[39;00m):\n\u001b[1;32m     66\u001b[0m     error_details \u001b[38;5;241m=\u001b[39m json\u001b[38;5;241m.\u001b[39mdumps(response_data)\n\u001b[0;32m---> 68\u001b[0m \u001b[38;5;28;01mraise\u001b[39;00m exceptions\u001b[38;5;241m.\u001b[39mRefreshError(\n\u001b[1;32m     69\u001b[0m     error_details, response_data, retryable\u001b[38;5;241m=\u001b[39mretryable_error\n\u001b[1;32m     70\u001b[0m )\n",
      "\u001b[0;31mRefreshError\u001b[0m: ('invalid_scope: Invalid OAuth scope or ID token audience provided.', {'error': 'invalid_scope', 'error_description': 'Invalid OAuth scope or ID token audience provided.'})"
     ]
    }
   ],
   "source": [
    "for chunk in google_genai_client.models.generate_content_stream(\n",
    "    model = gemini_2_flash, \n",
    "    contents = contents, \n",
    "    config = generate_content_config,):\n",
    "    print(chunk.text, end=\"\")"
   ]
  },
  {
   "cell_type": "code",
   "execution_count": 30,
   "id": "8849d3c7-17f1-496b-93fd-b3cbfe8ea51e",
   "metadata": {},
   "outputs": [],
   "source": [
    "response = google_genai_client.models.generate_content(\n",
    "    model=gemini_2_flash, contents=prompt\n",
    ")"
   ]
  },
  {
   "cell_type": "code",
   "execution_count": 31,
   "id": "f56395d7-9e8b-4970-9a8b-680285038d01",
   "metadata": {},
   "outputs": [
    {
     "data": {
      "text/markdown": [
       "A **mulligan** is a term used in various games, primarily card games and golf, to refer to a **second chance** to perform a particular action, usually a move or a draw, after an initial unsatisfactory attempt. The exact rules and context surrounding a mulligan vary depending on the game being played.\n",
       "\n",
       "Here's a breakdown of how it's used in different contexts:\n",
       "\n",
       "**1. Card Games (Most Commonly Poker, Magic: The Gathering, and Others):**\n",
       "\n",
       "* **Meaning:** In most card games, a mulligan allows a player to discard their initial hand and draw a completely new hand. It's typically used when a player receives a hand that is considered unplayable or disadvantageous.\n",
       "* **Rules:**\n",
       "    * **Limited:** Usually, there are limits on how many mulligans a player can take in a game (e.g., one or two).\n",
       "    * **Penalty:** Sometimes, there might be a small penalty associated with taking a mulligan, such as drawing one fewer card for the new hand.\n",
       "    * **Starting Hands:** The need for a mulligan often stems from having a starting hand that lacks resources, doesn't have the right combination of cards, or is too slow to get going.\n",
       "* **Purpose:** It's designed to make the game fairer and more enjoyable by mitigating the impact of bad luck in the initial draw.\n",
       "\n",
       "**2. Golf:**\n",
       "\n",
       "* **Meaning:** In golf, a mulligan is an informal second attempt at a shot, usually the first tee shot, after a poorly executed first attempt.\n",
       "* **Rules:**\n",
       "    * **Not Official:** A mulligan in golf is not part of the official rules of the game. It's a casual, friendly allowance, often used in social or practice rounds.\n",
       "    * **Agreed Upon:** It's usually agreed upon by the players before the round begins whether or not mulligans will be allowed.\n",
       "    * **First Tee Only:** It's most commonly applied to the first tee shot, but some groups might allow them in other situations.\n",
       "* **Purpose:** It's meant to make the game more relaxed and forgiving, especially for beginner golfers.\n",
       "\n",
       "**In Summary:**\n",
       "\n",
       "A mulligan is a second chance, whether it's redrawing your hand in a card game or redoing a golf shot. It's a mechanic or practice aimed at reducing the impact of a poor start or initial disadvantage, ultimately making the game more enjoyable. It's crucial to understand the specific rules and context in which a mulligan is being used, as they vary considerably.\n"
      ],
      "text/plain": [
       "<IPython.core.display.Markdown object>"
      ]
     },
     "execution_count": 31,
     "metadata": {},
     "output_type": "execute_result"
    }
   ],
   "source": [
    "IPython.display.Markdown(response.text)"
   ]
  },
  {
   "cell_type": "code",
   "execution_count": null,
   "id": "c34e40c3-519e-40c1-861e-f2cbe741bf72",
   "metadata": {},
   "outputs": [],
   "source": []
  }
 ],
 "metadata": {
  "environment": {
   "kernel": "conda-base-py",
   "name": "workbench-notebooks.m125",
   "type": "gcloud",
   "uri": "us-docker.pkg.dev/deeplearning-platform-release/gcr.io/workbench-notebooks:m125"
  },
  "kernelspec": {
   "display_name": "Python 3 (ipykernel)",
   "language": "python",
   "name": "python3"
  },
  "language_info": {
   "codemirror_mode": {
    "name": "ipython",
    "version": 3
   },
   "file_extension": ".py",
   "mimetype": "text/x-python",
   "name": "python",
   "nbconvert_exporter": "python",
   "pygments_lexer": "ipython3",
   "version": "3.11.10"
  }
 },
 "nbformat": 4,
 "nbformat_minor": 5
}
