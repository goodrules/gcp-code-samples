{
 "cells": [
  {
   "cell_type": "markdown",
   "metadata": {
    "id": "nWKmZBiRSbO7"
   },
   "source": [
    "# **BigQuery Q&A using langchain & LLM (go/ask-bigquery)**\n"
   ]
  },
  {
   "cell_type": "markdown",
   "metadata": {
    "id": "j9BPkBzhTDzn"
   },
   "source": [
    "Demo: This notebook guides you on use of LLM to answer questions over a BigQuery table.\n",
    "This notebook has also been tested on big datasets(~2 million rows) and works well with low latency.\n",
    "\n",
    "Dataset: Fitbit public dataset from Kaggle (https://www.kaggle.com/datasets/arashnic/fitbit)\n",
    "\n",
    "To use it on your own data, change the parameters in the section \"App parameters initialization\"\n",
    "\n",
    "\n",
    "\n",
    "\n",
    "\n",
    "|Author:       |Nikhil Rana (nikhilrana@)|\n",
    "|--------------|---------|\n",
    "|Last Updated: |5/30/2023|\n",
    "\n",
    "\n",
    "Example input: What is the average number of steps taken by the user?"
   ]
  },
  {
   "cell_type": "markdown",
   "metadata": {
    "id": "6oFGVUMTJnih"
   },
   "source": [
    "| Date     | Change Log  |\n",
    "|----------|-------------|\n",
    "|5/17/2023 |Added Gradio UI at the end |\n",
    "|5/23/2023 |Changed setup to latest SDK|\n",
    "|5/30/2023 |Modified Prompt template for metadata queries|\n",
    "|5/31/2023 |Successfully tested on multiple SQL joins|\n",
    "|5/31/2023 |Modified prompt template for casting data types for calculations|"
   ]
  },
  {
   "cell_type": "markdown",
   "metadata": {
    "id": "UEv34vVKxR9k",
    "jp-MarkdownHeadingCollapsed": true,
    "tags": []
   },
   "source": [
    "### Install latest Vertex LLM SDK"
   ]
  },
  {
   "cell_type": "code",
   "execution_count": null,
   "metadata": {
    "id": "DtJU7su79db8"
   },
   "outputs": [],
   "source": [
    "# Authenticate with Google account\n",
    "#from google.colab import auth as google_auth\n",
    "#google_auth.authenticate_user()"
   ]
  },
  {
   "cell_type": "code",
   "execution_count": null,
   "metadata": {
    "id": "DnuxDVk89nc1"
   },
   "outputs": [],
   "source": [
    "# !pip install google_cloud_aiplatform-1.25.dev20230502+language.models-py2.py3-none-any.whl \"shapely<2.0.0\""
   ]
  },
  {
   "cell_type": "markdown",
   "metadata": {
    "id": "aPh6goEQyKsD",
    "jp-MarkdownHeadingCollapsed": true,
    "tags": []
   },
   "source": [
    "### Python libraries setup"
   ]
  },
  {
   "cell_type": "code",
   "execution_count": 1,
   "metadata": {
    "colab": {
     "base_uri": "https://localhost:8080/"
    },
    "id": "KKgtvZFD9vIQ",
    "outputId": "8cddb732-6aca-4cad-e4ad-93d0331573aa",
    "scrolled": true,
    "tags": []
   },
   "outputs": [
    {
     "name": "stdout",
     "output_type": "stream",
     "text": [
      "Requirement already satisfied: google-cloud-aiplatform in /Users/mikegoodman/Documents/developer/venv/lib/python3.9/site-packages (1.25.0)\n",
      "Requirement already satisfied: google-api-core[grpc]!=2.0.*,!=2.1.*,!=2.2.*,!=2.3.*,!=2.4.*,!=2.5.*,!=2.6.*,!=2.7.*,<3.0.0dev,>=1.32.0 in /Users/mikegoodman/Documents/developer/venv/lib/python3.9/site-packages (from google-cloud-aiplatform) (2.11.0)\n",
      "Requirement already satisfied: proto-plus<2.0.0dev,>=1.22.0 in /Users/mikegoodman/Documents/developer/venv/lib/python3.9/site-packages (from google-cloud-aiplatform) (1.22.1)\n",
      "Requirement already satisfied: protobuf!=3.20.0,!=3.20.1,!=4.21.0,!=4.21.1,!=4.21.2,!=4.21.3,!=4.21.4,!=4.21.5,<5.0.0dev,>=3.19.5 in /Users/mikegoodman/Documents/developer/venv/lib/python3.9/site-packages (from google-cloud-aiplatform) (4.23.0)\n",
      "Requirement already satisfied: packaging>=14.3 in /Users/mikegoodman/Documents/developer/venv/lib/python3.9/site-packages (from google-cloud-aiplatform) (21.3)\n",
      "Requirement already satisfied: google-cloud-storage<3.0.0dev,>=1.32.0 in /Users/mikegoodman/Documents/developer/venv/lib/python3.9/site-packages (from google-cloud-aiplatform) (2.7.0)\n",
      "Requirement already satisfied: google-cloud-bigquery<4.0.0dev,>=1.15.0 in /Users/mikegoodman/Documents/developer/venv/lib/python3.9/site-packages (from google-cloud-aiplatform) (3.4.1)\n",
      "Requirement already satisfied: google-cloud-resource-manager<3.0.0dev,>=1.3.3 in /Users/mikegoodman/Documents/developer/venv/lib/python3.9/site-packages (from google-cloud-aiplatform) (1.7.0)\n",
      "Requirement already satisfied: shapely<2.0.0 in /Users/mikegoodman/Documents/developer/venv/lib/python3.9/site-packages (from google-cloud-aiplatform) (1.8.5.post1)\n",
      "Requirement already satisfied: googleapis-common-protos<2.0dev,>=1.56.2 in /Users/mikegoodman/Documents/developer/venv/lib/python3.9/site-packages (from google-api-core[grpc]!=2.0.*,!=2.1.*,!=2.2.*,!=2.3.*,!=2.4.*,!=2.5.*,!=2.6.*,!=2.7.*,<3.0.0dev,>=1.32.0->google-cloud-aiplatform) (1.57.0)\n",
      "Requirement already satisfied: google-auth<3.0dev,>=2.14.1 in /Users/mikegoodman/Documents/developer/venv/lib/python3.9/site-packages (from google-api-core[grpc]!=2.0.*,!=2.1.*,!=2.2.*,!=2.3.*,!=2.4.*,!=2.5.*,!=2.6.*,!=2.7.*,<3.0.0dev,>=1.32.0->google-cloud-aiplatform) (2.16.0)\n",
      "Requirement already satisfied: requests<3.0.0dev,>=2.18.0 in /Users/mikegoodman/Documents/developer/venv/lib/python3.9/site-packages (from google-api-core[grpc]!=2.0.*,!=2.1.*,!=2.2.*,!=2.3.*,!=2.4.*,!=2.5.*,!=2.6.*,!=2.7.*,<3.0.0dev,>=1.32.0->google-cloud-aiplatform) (2.28.1)\n",
      "Requirement already satisfied: grpcio<2.0dev,>=1.33.2 in /Users/mikegoodman/Documents/developer/venv/lib/python3.9/site-packages (from google-api-core[grpc]!=2.0.*,!=2.1.*,!=2.2.*,!=2.3.*,!=2.4.*,!=2.5.*,!=2.6.*,!=2.7.*,<3.0.0dev,>=1.32.0->google-cloud-aiplatform) (1.51.1)\n",
      "Requirement already satisfied: grpcio-status<2.0dev,>=1.33.2 in /Users/mikegoodman/Documents/developer/venv/lib/python3.9/site-packages (from google-api-core[grpc]!=2.0.*,!=2.1.*,!=2.2.*,!=2.3.*,!=2.4.*,!=2.5.*,!=2.6.*,!=2.7.*,<3.0.0dev,>=1.32.0->google-cloud-aiplatform) (1.51.1)\n",
      "Requirement already satisfied: google-cloud-core<3.0.0dev,>=1.4.1 in /Users/mikegoodman/Documents/developer/venv/lib/python3.9/site-packages (from google-cloud-bigquery<4.0.0dev,>=1.15.0->google-cloud-aiplatform) (2.3.2)\n",
      "Requirement already satisfied: google-resumable-media<3.0dev,>=0.6.0 in /Users/mikegoodman/Documents/developer/venv/lib/python3.9/site-packages (from google-cloud-bigquery<4.0.0dev,>=1.15.0->google-cloud-aiplatform) (2.4.0)\n",
      "Requirement already satisfied: python-dateutil<3.0dev,>=2.7.2 in /Users/mikegoodman/Documents/developer/venv/lib/python3.9/site-packages (from google-cloud-bigquery<4.0.0dev,>=1.15.0->google-cloud-aiplatform) (2.8.2)\n",
      "Requirement already satisfied: grpc-google-iam-v1<1.0.0dev,>=0.12.4 in /Users/mikegoodman/Documents/developer/venv/lib/python3.9/site-packages (from google-cloud-resource-manager<3.0.0dev,>=1.3.3->google-cloud-aiplatform) (0.12.4)\n",
      "Requirement already satisfied: pyparsing!=3.0.5,>=2.0.2 in /Users/mikegoodman/Documents/developer/venv/lib/python3.9/site-packages (from packaging>=14.3->google-cloud-aiplatform) (3.0.9)\n",
      "Requirement already satisfied: cachetools<6.0,>=2.0.0 in /Users/mikegoodman/Documents/developer/venv/lib/python3.9/site-packages (from google-auth<3.0dev,>=2.14.1->google-api-core[grpc]!=2.0.*,!=2.1.*,!=2.2.*,!=2.3.*,!=2.4.*,!=2.5.*,!=2.6.*,!=2.7.*,<3.0.0dev,>=1.32.0->google-cloud-aiplatform) (5.2.0)\n",
      "Requirement already satisfied: pyasn1-modules>=0.2.1 in /Users/mikegoodman/Documents/developer/venv/lib/python3.9/site-packages (from google-auth<3.0dev,>=2.14.1->google-api-core[grpc]!=2.0.*,!=2.1.*,!=2.2.*,!=2.3.*,!=2.4.*,!=2.5.*,!=2.6.*,!=2.7.*,<3.0.0dev,>=1.32.0->google-cloud-aiplatform) (0.2.8)\n",
      "Requirement already satisfied: six>=1.9.0 in /Users/mikegoodman/Documents/developer/venv/lib/python3.9/site-packages (from google-auth<3.0dev,>=2.14.1->google-api-core[grpc]!=2.0.*,!=2.1.*,!=2.2.*,!=2.3.*,!=2.4.*,!=2.5.*,!=2.6.*,!=2.7.*,<3.0.0dev,>=1.32.0->google-cloud-aiplatform) (1.16.0)\n",
      "Requirement already satisfied: rsa<5,>=3.1.4 in /Users/mikegoodman/Documents/developer/venv/lib/python3.9/site-packages (from google-auth<3.0dev,>=2.14.1->google-api-core[grpc]!=2.0.*,!=2.1.*,!=2.2.*,!=2.3.*,!=2.4.*,!=2.5.*,!=2.6.*,!=2.7.*,<3.0.0dev,>=1.32.0->google-cloud-aiplatform) (4.9)\n",
      "Requirement already satisfied: google-crc32c<2.0dev,>=1.0 in /Users/mikegoodman/Documents/developer/venv/lib/python3.9/site-packages (from google-resumable-media<3.0dev,>=0.6.0->google-cloud-bigquery<4.0.0dev,>=1.15.0->google-cloud-aiplatform) (1.5.0)\n",
      "Requirement already satisfied: charset-normalizer<3,>=2 in /Users/mikegoodman/Documents/developer/venv/lib/python3.9/site-packages (from requests<3.0.0dev,>=2.18.0->google-api-core[grpc]!=2.0.*,!=2.1.*,!=2.2.*,!=2.3.*,!=2.4.*,!=2.5.*,!=2.6.*,!=2.7.*,<3.0.0dev,>=1.32.0->google-cloud-aiplatform) (2.1.1)\n",
      "Requirement already satisfied: idna<4,>=2.5 in /Users/mikegoodman/Documents/developer/venv/lib/python3.9/site-packages (from requests<3.0.0dev,>=2.18.0->google-api-core[grpc]!=2.0.*,!=2.1.*,!=2.2.*,!=2.3.*,!=2.4.*,!=2.5.*,!=2.6.*,!=2.7.*,<3.0.0dev,>=1.32.0->google-cloud-aiplatform) (3.4)\n",
      "Requirement already satisfied: urllib3<1.27,>=1.21.1 in /Users/mikegoodman/Documents/developer/venv/lib/python3.9/site-packages (from requests<3.0.0dev,>=2.18.0->google-api-core[grpc]!=2.0.*,!=2.1.*,!=2.2.*,!=2.3.*,!=2.4.*,!=2.5.*,!=2.6.*,!=2.7.*,<3.0.0dev,>=1.32.0->google-cloud-aiplatform) (1.26.13)\n",
      "Requirement already satisfied: certifi>=2017.4.17 in /Users/mikegoodman/Documents/developer/venv/lib/python3.9/site-packages (from requests<3.0.0dev,>=2.18.0->google-api-core[grpc]!=2.0.*,!=2.1.*,!=2.2.*,!=2.3.*,!=2.4.*,!=2.5.*,!=2.6.*,!=2.7.*,<3.0.0dev,>=1.32.0->google-cloud-aiplatform) (2022.12.7)\n",
      "Requirement already satisfied: pyasn1<0.5.0,>=0.4.6 in /Users/mikegoodman/Documents/developer/venv/lib/python3.9/site-packages (from pyasn1-modules>=0.2.1->google-auth<3.0dev,>=2.14.1->google-api-core[grpc]!=2.0.*,!=2.1.*,!=2.2.*,!=2.3.*,!=2.4.*,!=2.5.*,!=2.6.*,!=2.7.*,<3.0.0dev,>=1.32.0->google-cloud-aiplatform) (0.4.8)\n",
      "Requirement already satisfied: chromadb in /Users/mikegoodman/Documents/developer/venv/lib/python3.9/site-packages (0.3.22)\n",
      "Collecting chromadb\n",
      "  Downloading chromadb-0.3.26-py3-none-any.whl (123 kB)\n",
      "\u001b[2K     \u001b[90m━━━━━━━━━━━━━━━━━━━━━━━━━━━━━━━━━━━━━━━\u001b[0m \u001b[32m123.6/123.6 kB\u001b[0m \u001b[31m2.5 MB/s\u001b[0m eta \u001b[36m0:00:00\u001b[0m00:01\u001b[0m\n",
      "\u001b[?25hRequirement already satisfied: pandas>=1.3 in /Users/mikegoodman/Documents/developer/venv/lib/python3.9/site-packages (from chromadb) (1.5.2)\n",
      "Requirement already satisfied: requests>=2.28 in /Users/mikegoodman/Documents/developer/venv/lib/python3.9/site-packages (from chromadb) (2.28.1)\n",
      "Requirement already satisfied: pydantic>=1.9 in /Users/mikegoodman/Documents/developer/venv/lib/python3.9/site-packages (from chromadb) (1.10.7)\n",
      "Requirement already satisfied: hnswlib>=0.7 in /Users/mikegoodman/Documents/developer/venv/lib/python3.9/site-packages (from chromadb) (0.7.0)\n",
      "Requirement already satisfied: clickhouse-connect>=0.5.7 in /Users/mikegoodman/Documents/developer/venv/lib/python3.9/site-packages (from chromadb) (0.5.24)\n",
      "Requirement already satisfied: duckdb>=0.7.1 in /Users/mikegoodman/Documents/developer/venv/lib/python3.9/site-packages (from chromadb) (0.7.1)\n",
      "Requirement already satisfied: fastapi>=0.85.1 in /Users/mikegoodman/Documents/developer/venv/lib/python3.9/site-packages (from chromadb) (0.95.1)\n",
      "Requirement already satisfied: uvicorn[standard]>=0.18.3 in /Users/mikegoodman/Documents/developer/venv/lib/python3.9/site-packages (from chromadb) (0.22.0)\n",
      "Requirement already satisfied: numpy>=1.21.6 in /Users/mikegoodman/Documents/developer/venv/lib/python3.9/site-packages (from chromadb) (1.24.3)\n",
      "Requirement already satisfied: posthog>=2.4.0 in /Users/mikegoodman/Documents/developer/venv/lib/python3.9/site-packages (from chromadb) (3.0.1)\n",
      "Requirement already satisfied: typing-extensions>=4.5.0 in /Users/mikegoodman/Documents/developer/venv/lib/python3.9/site-packages (from chromadb) (4.5.0)\n",
      "Collecting pulsar-client>=3.1.0 (from chromadb)\n",
      "  Downloading pulsar_client-3.2.0-cp39-cp39-macosx_10_15_universal2.whl (10.8 MB)\n",
      "\u001b[2K     \u001b[90m━━━━━━━━━━━━━━━━━━━━━━━━━━━━━━━━━━━━━━━━\u001b[0m \u001b[32m10.8/10.8 MB\u001b[0m \u001b[31m14.3 MB/s\u001b[0m eta \u001b[36m0:00:00\u001b[0m00:01\u001b[0m00:01\u001b[0m\n",
      "\u001b[?25hCollecting onnxruntime>=1.14.1 (from chromadb)\n",
      "  Downloading onnxruntime-1.15.0-cp39-cp39-macosx_10_15_x86_64.whl (6.8 MB)\n",
      "\u001b[2K     \u001b[90m━━━━━━━━━━━━━━━━━━━━━━━━━━━━━━━━━━━━━━━━\u001b[0m \u001b[32m6.8/6.8 MB\u001b[0m \u001b[31m17.0 MB/s\u001b[0m eta \u001b[36m0:00:00\u001b[0m00:01\u001b[0m00:01\u001b[0m\n",
      "\u001b[?25hRequirement already satisfied: tokenizers>=0.13.2 in /Users/mikegoodman/Documents/developer/venv/lib/python3.9/site-packages (from chromadb) (0.13.3)\n",
      "Requirement already satisfied: tqdm>=4.65.0 in /Users/mikegoodman/Documents/developer/venv/lib/python3.9/site-packages (from chromadb) (4.65.0)\n",
      "Requirement already satisfied: overrides>=7.3.1 in /Users/mikegoodman/Documents/developer/venv/lib/python3.9/site-packages (from chromadb) (7.3.1)\n",
      "Requirement already satisfied: certifi in /Users/mikegoodman/Documents/developer/venv/lib/python3.9/site-packages (from clickhouse-connect>=0.5.7->chromadb) (2022.12.7)\n",
      "Requirement already satisfied: urllib3>=1.26 in /Users/mikegoodman/Documents/developer/venv/lib/python3.9/site-packages (from clickhouse-connect>=0.5.7->chromadb) (1.26.13)\n",
      "Requirement already satisfied: pytz in /Users/mikegoodman/Documents/developer/venv/lib/python3.9/site-packages (from clickhouse-connect>=0.5.7->chromadb) (2022.7)\n",
      "Requirement already satisfied: zstandard in /Users/mikegoodman/Documents/developer/venv/lib/python3.9/site-packages (from clickhouse-connect>=0.5.7->chromadb) (0.19.0)\n",
      "Requirement already satisfied: lz4 in /Users/mikegoodman/Documents/developer/venv/lib/python3.9/site-packages (from clickhouse-connect>=0.5.7->chromadb) (4.3.2)\n",
      "Requirement already satisfied: starlette<0.27.0,>=0.26.1 in /Users/mikegoodman/Documents/developer/venv/lib/python3.9/site-packages (from fastapi>=0.85.1->chromadb) (0.26.1)\n",
      "Collecting coloredlogs (from onnxruntime>=1.14.1->chromadb)\n",
      "  Downloading coloredlogs-15.0.1-py2.py3-none-any.whl (46 kB)\n",
      "\u001b[2K     \u001b[90m━━━━━━━━━━━━━━━━━━━━━━━━━━━━━━━━━━━━━━━━\u001b[0m \u001b[32m46.0/46.0 kB\u001b[0m \u001b[31m1.6 MB/s\u001b[0m eta \u001b[36m0:00:00\u001b[0m\n",
      "\u001b[?25hRequirement already satisfied: flatbuffers in /Users/mikegoodman/Documents/developer/venv/lib/python3.9/site-packages (from onnxruntime>=1.14.1->chromadb) (22.12.6)\n",
      "Requirement already satisfied: packaging in /Users/mikegoodman/Documents/developer/venv/lib/python3.9/site-packages (from onnxruntime>=1.14.1->chromadb) (21.3)\n",
      "Requirement already satisfied: protobuf in /Users/mikegoodman/Documents/developer/venv/lib/python3.9/site-packages (from onnxruntime>=1.14.1->chromadb) (4.23.0)\n",
      "Requirement already satisfied: sympy in /Users/mikegoodman/Documents/developer/venv/lib/python3.9/site-packages (from onnxruntime>=1.14.1->chromadb) (1.12)\n",
      "Requirement already satisfied: python-dateutil>=2.8.1 in /Users/mikegoodman/Documents/developer/venv/lib/python3.9/site-packages (from pandas>=1.3->chromadb) (2.8.2)\n",
      "Requirement already satisfied: six>=1.5 in /Users/mikegoodman/Documents/developer/venv/lib/python3.9/site-packages (from posthog>=2.4.0->chromadb) (1.16.0)\n",
      "Requirement already satisfied: monotonic>=1.5 in /Users/mikegoodman/Documents/developer/venv/lib/python3.9/site-packages (from posthog>=2.4.0->chromadb) (1.6)\n",
      "Requirement already satisfied: backoff>=1.10.0 in /Users/mikegoodman/Documents/developer/venv/lib/python3.9/site-packages (from posthog>=2.4.0->chromadb) (2.2.1)\n",
      "Requirement already satisfied: charset-normalizer<3,>=2 in /Users/mikegoodman/Documents/developer/venv/lib/python3.9/site-packages (from requests>=2.28->chromadb) (2.1.1)\n",
      "Requirement already satisfied: idna<4,>=2.5 in /Users/mikegoodman/Documents/developer/venv/lib/python3.9/site-packages (from requests>=2.28->chromadb) (3.4)\n",
      "Requirement already satisfied: click>=7.0 in /Users/mikegoodman/Documents/developer/venv/lib/python3.9/site-packages (from uvicorn[standard]>=0.18.3->chromadb) (8.1.3)\n",
      "Requirement already satisfied: h11>=0.8 in /Users/mikegoodman/Documents/developer/venv/lib/python3.9/site-packages (from uvicorn[standard]>=0.18.3->chromadb) (0.14.0)\n",
      "Requirement already satisfied: httptools>=0.5.0 in /Users/mikegoodman/Documents/developer/venv/lib/python3.9/site-packages (from uvicorn[standard]>=0.18.3->chromadb) (0.5.0)\n",
      "Requirement already satisfied: python-dotenv>=0.13 in /Users/mikegoodman/Documents/developer/venv/lib/python3.9/site-packages (from uvicorn[standard]>=0.18.3->chromadb) (1.0.0)\n",
      "Requirement already satisfied: pyyaml>=5.1 in /Users/mikegoodman/Documents/developer/venv/lib/python3.9/site-packages (from uvicorn[standard]>=0.18.3->chromadb) (6.0)\n",
      "Requirement already satisfied: uvloop!=0.15.0,!=0.15.1,>=0.14.0 in /Users/mikegoodman/Documents/developer/venv/lib/python3.9/site-packages (from uvicorn[standard]>=0.18.3->chromadb) (0.17.0)\n",
      "Requirement already satisfied: watchfiles>=0.13 in /Users/mikegoodman/Documents/developer/venv/lib/python3.9/site-packages (from uvicorn[standard]>=0.18.3->chromadb) (0.19.0)\n",
      "Requirement already satisfied: websockets>=10.4 in /Users/mikegoodman/Documents/developer/venv/lib/python3.9/site-packages (from uvicorn[standard]>=0.18.3->chromadb) (11.0.3)\n",
      "Requirement already satisfied: anyio<5,>=3.4.0 in /Users/mikegoodman/Documents/developer/venv/lib/python3.9/site-packages (from starlette<0.27.0,>=0.26.1->fastapi>=0.85.1->chromadb) (3.6.2)\n",
      "Collecting humanfriendly>=9.1 (from coloredlogs->onnxruntime>=1.14.1->chromadb)\n",
      "  Downloading humanfriendly-10.0-py2.py3-none-any.whl (86 kB)\n",
      "\u001b[2K     \u001b[90m━━━━━━━━━━━━━━━━━━━━━━━━━━━━━━━━━━━━━━━━\u001b[0m \u001b[32m86.8/86.8 kB\u001b[0m \u001b[31m3.3 MB/s\u001b[0m eta \u001b[36m0:00:00\u001b[0m\n",
      "\u001b[?25hRequirement already satisfied: pyparsing!=3.0.5,>=2.0.2 in /Users/mikegoodman/Documents/developer/venv/lib/python3.9/site-packages (from packaging->onnxruntime>=1.14.1->chromadb) (3.0.9)\n",
      "Requirement already satisfied: mpmath>=0.19 in /Users/mikegoodman/Documents/developer/venv/lib/python3.9/site-packages (from sympy->onnxruntime>=1.14.1->chromadb) (1.3.0)\n",
      "Requirement already satisfied: sniffio>=1.1 in /Users/mikegoodman/Documents/developer/venv/lib/python3.9/site-packages (from anyio<5,>=3.4.0->starlette<0.27.0,>=0.26.1->fastapi>=0.85.1->chromadb) (1.3.0)\n",
      "Installing collected packages: pulsar-client, humanfriendly, coloredlogs, onnxruntime, chromadb\n",
      "  Attempting uninstall: chromadb\n",
      "    Found existing installation: chromadb 0.3.22\n",
      "    Uninstalling chromadb-0.3.22:\n",
      "      Successfully uninstalled chromadb-0.3.22\n",
      "Successfully installed chromadb-0.3.26 coloredlogs-15.0.1 humanfriendly-10.0 onnxruntime-1.15.0 pulsar-client-3.2.0\n",
      "Collecting langchain==0.0.157\n",
      "  Downloading langchain-0.0.157-py3-none-any.whl (727 kB)\n",
      "\u001b[2K     \u001b[90m━━━━━━━━━━━━━━━━━━━━━━━━━━━━━━━━━━━━━━━\u001b[0m \u001b[32m727.6/727.6 kB\u001b[0m \u001b[31m7.8 MB/s\u001b[0m eta \u001b[36m0:00:00\u001b[0m00:01\u001b[0m00:01\u001b[0m\n",
      "\u001b[?25hRequirement already satisfied: PyYAML>=5.4.1 in /Users/mikegoodman/Documents/developer/venv/lib/python3.9/site-packages (from langchain==0.0.157) (6.0)\n",
      "Requirement already satisfied: SQLAlchemy<3,>=1.3 in /Users/mikegoodman/Documents/developer/venv/lib/python3.9/site-packages (from langchain==0.0.157) (2.0.13)\n",
      "Requirement already satisfied: aiohttp<4.0.0,>=3.8.3 in /Users/mikegoodman/Documents/developer/venv/lib/python3.9/site-packages (from langchain==0.0.157) (3.8.3)\n",
      "Requirement already satisfied: async-timeout<5.0.0,>=4.0.0 in /Users/mikegoodman/Documents/developer/venv/lib/python3.9/site-packages (from langchain==0.0.157) (4.0.2)\n",
      "Requirement already satisfied: dataclasses-json<0.6.0,>=0.5.7 in /Users/mikegoodman/Documents/developer/venv/lib/python3.9/site-packages (from langchain==0.0.157) (0.5.7)\n",
      "Requirement already satisfied: numexpr<3.0.0,>=2.8.4 in /Users/mikegoodman/Documents/developer/venv/lib/python3.9/site-packages (from langchain==0.0.157) (2.8.4)\n",
      "Requirement already satisfied: numpy<2,>=1 in /Users/mikegoodman/Documents/developer/venv/lib/python3.9/site-packages (from langchain==0.0.157) (1.24.3)\n",
      "Requirement already satisfied: openapi-schema-pydantic<2.0,>=1.2 in /Users/mikegoodman/Documents/developer/venv/lib/python3.9/site-packages (from langchain==0.0.157) (1.2.4)\n",
      "Requirement already satisfied: pydantic<2,>=1 in /Users/mikegoodman/Documents/developer/venv/lib/python3.9/site-packages (from langchain==0.0.157) (1.10.7)\n",
      "Requirement already satisfied: requests<3,>=2 in /Users/mikegoodman/Documents/developer/venv/lib/python3.9/site-packages (from langchain==0.0.157) (2.28.1)\n",
      "Requirement already satisfied: tenacity<9.0.0,>=8.1.0 in /Users/mikegoodman/Documents/developer/venv/lib/python3.9/site-packages (from langchain==0.0.157) (8.2.2)\n",
      "Requirement already satisfied: tqdm>=4.48.0 in /Users/mikegoodman/Documents/developer/venv/lib/python3.9/site-packages (from langchain==0.0.157) (4.65.0)\n",
      "Requirement already satisfied: attrs>=17.3.0 in /Users/mikegoodman/Documents/developer/venv/lib/python3.9/site-packages (from aiohttp<4.0.0,>=3.8.3->langchain==0.0.157) (22.1.0)\n",
      "Requirement already satisfied: charset-normalizer<3.0,>=2.0 in /Users/mikegoodman/Documents/developer/venv/lib/python3.9/site-packages (from aiohttp<4.0.0,>=3.8.3->langchain==0.0.157) (2.1.1)\n",
      "Requirement already satisfied: multidict<7.0,>=4.5 in /Users/mikegoodman/Documents/developer/venv/lib/python3.9/site-packages (from aiohttp<4.0.0,>=3.8.3->langchain==0.0.157) (6.0.4)\n",
      "Requirement already satisfied: yarl<2.0,>=1.0 in /Users/mikegoodman/Documents/developer/venv/lib/python3.9/site-packages (from aiohttp<4.0.0,>=3.8.3->langchain==0.0.157) (1.8.2)\n",
      "Requirement already satisfied: frozenlist>=1.1.1 in /Users/mikegoodman/Documents/developer/venv/lib/python3.9/site-packages (from aiohttp<4.0.0,>=3.8.3->langchain==0.0.157) (1.3.3)\n",
      "Requirement already satisfied: aiosignal>=1.1.2 in /Users/mikegoodman/Documents/developer/venv/lib/python3.9/site-packages (from aiohttp<4.0.0,>=3.8.3->langchain==0.0.157) (1.3.1)\n",
      "Requirement already satisfied: marshmallow<4.0.0,>=3.3.0 in /Users/mikegoodman/Documents/developer/venv/lib/python3.9/site-packages (from dataclasses-json<0.6.0,>=0.5.7->langchain==0.0.157) (3.19.0)\n",
      "Requirement already satisfied: marshmallow-enum<2.0.0,>=1.5.1 in /Users/mikegoodman/Documents/developer/venv/lib/python3.9/site-packages (from dataclasses-json<0.6.0,>=0.5.7->langchain==0.0.157) (1.5.1)\n",
      "Requirement already satisfied: typing-inspect>=0.4.0 in /Users/mikegoodman/Documents/developer/venv/lib/python3.9/site-packages (from dataclasses-json<0.6.0,>=0.5.7->langchain==0.0.157) (0.8.0)\n",
      "Requirement already satisfied: typing-extensions>=4.2.0 in /Users/mikegoodman/Documents/developer/venv/lib/python3.9/site-packages (from pydantic<2,>=1->langchain==0.0.157) (4.5.0)\n",
      "Requirement already satisfied: idna<4,>=2.5 in /Users/mikegoodman/Documents/developer/venv/lib/python3.9/site-packages (from requests<3,>=2->langchain==0.0.157) (3.4)\n",
      "Requirement already satisfied: urllib3<1.27,>=1.21.1 in /Users/mikegoodman/Documents/developer/venv/lib/python3.9/site-packages (from requests<3,>=2->langchain==0.0.157) (1.26.13)\n",
      "Requirement already satisfied: certifi>=2017.4.17 in /Users/mikegoodman/Documents/developer/venv/lib/python3.9/site-packages (from requests<3,>=2->langchain==0.0.157) (2022.12.7)\n",
      "Requirement already satisfied: greenlet!=0.4.17 in /Users/mikegoodman/Documents/developer/venv/lib/python3.9/site-packages (from SQLAlchemy<3,>=1.3->langchain==0.0.157) (2.0.2)\n",
      "Requirement already satisfied: packaging>=17.0 in /Users/mikegoodman/Documents/developer/venv/lib/python3.9/site-packages (from marshmallow<4.0.0,>=3.3.0->dataclasses-json<0.6.0,>=0.5.7->langchain==0.0.157) (21.3)\n",
      "Requirement already satisfied: mypy-extensions>=0.3.0 in /Users/mikegoodman/Documents/developer/venv/lib/python3.9/site-packages (from typing-inspect>=0.4.0->dataclasses-json<0.6.0,>=0.5.7->langchain==0.0.157) (1.0.0)\n",
      "Requirement already satisfied: pyparsing!=3.0.5,>=2.0.2 in /Users/mikegoodman/Documents/developer/venv/lib/python3.9/site-packages (from packaging>=17.0->marshmallow<4.0.0,>=3.3.0->dataclasses-json<0.6.0,>=0.5.7->langchain==0.0.157) (3.0.9)\n",
      "Installing collected packages: langchain\n",
      "  Attempting uninstall: langchain\n",
      "    Found existing installation: langchain 0.0.166\n",
      "    Uninstalling langchain-0.0.166:\n",
      "      Successfully uninstalled langchain-0.0.166\n",
      "Successfully installed langchain-0.0.157\n",
      "Requirement already satisfied: google-cloud-core in /Users/mikegoodman/Documents/developer/venv/lib/python3.9/site-packages (2.3.2)\n",
      "\u001b[33mWARNING: Retrying (Retry(total=4, connect=None, read=None, redirect=None, status=None)) after connection broken by 'ReadTimeoutError(\"HTTPSConnectionPool(host='pypi.org', port=443): Read timed out. (read timeout=15)\")': /simple/google-cloud-core/\u001b[0m\u001b[33m\n",
      "\u001b[0m\u001b[33mWARNING: Retrying (Retry(total=3, connect=None, read=None, redirect=None, status=None)) after connection broken by 'ReadTimeoutError(\"HTTPSConnectionPool(host='pypi.org', port=443): Read timed out. (read timeout=15)\")': /simple/google-cloud-core/\u001b[0m\u001b[33m\n",
      "\u001b[0m\u001b[33mWARNING: Retrying (Retry(total=2, connect=None, read=None, redirect=None, status=None)) after connection broken by 'ReadTimeoutError(\"HTTPSConnectionPool(host='pypi.org', port=443): Read timed out. (read timeout=15)\")': /simple/google-cloud-core/\u001b[0m\u001b[33m\n",
      "\u001b[0m\u001b[33mWARNING: Retrying (Retry(total=1, connect=None, read=None, redirect=None, status=None)) after connection broken by 'ReadTimeoutError(\"HTTPSConnectionPool(host='pypi.org', port=443): Read timed out. (read timeout=15)\")': /simple/google-cloud-core/\u001b[0m\u001b[33m\n",
      "\u001b[0mRequirement already satisfied: google-api-core!=2.0.*,!=2.1.*,!=2.2.*,!=2.3.0,<3.0.0dev,>=1.31.6 in /Users/mikegoodman/Documents/developer/venv/lib/python3.9/site-packages (from google-cloud-core) (2.11.0)\n",
      "Requirement already satisfied: google-auth<3.0dev,>=1.25.0 in /Users/mikegoodman/Documents/developer/venv/lib/python3.9/site-packages (from google-cloud-core) (2.16.0)\n",
      "Requirement already satisfied: googleapis-common-protos<2.0dev,>=1.56.2 in /Users/mikegoodman/Documents/developer/venv/lib/python3.9/site-packages (from google-api-core!=2.0.*,!=2.1.*,!=2.2.*,!=2.3.0,<3.0.0dev,>=1.31.6->google-cloud-core) (1.57.0)\n",
      "Requirement already satisfied: protobuf!=3.20.0,!=3.20.1,!=4.21.0,!=4.21.1,!=4.21.2,!=4.21.3,!=4.21.4,!=4.21.5,<5.0.0dev,>=3.19.5 in /Users/mikegoodman/Documents/developer/venv/lib/python3.9/site-packages (from google-api-core!=2.0.*,!=2.1.*,!=2.2.*,!=2.3.0,<3.0.0dev,>=1.31.6->google-cloud-core) (4.23.0)\n",
      "Requirement already satisfied: requests<3.0.0dev,>=2.18.0 in /Users/mikegoodman/Documents/developer/venv/lib/python3.9/site-packages (from google-api-core!=2.0.*,!=2.1.*,!=2.2.*,!=2.3.0,<3.0.0dev,>=1.31.6->google-cloud-core) (2.28.1)\n",
      "Requirement already satisfied: cachetools<6.0,>=2.0.0 in /Users/mikegoodman/Documents/developer/venv/lib/python3.9/site-packages (from google-auth<3.0dev,>=1.25.0->google-cloud-core) (5.2.0)\n",
      "Requirement already satisfied: pyasn1-modules>=0.2.1 in /Users/mikegoodman/Documents/developer/venv/lib/python3.9/site-packages (from google-auth<3.0dev,>=1.25.0->google-cloud-core) (0.2.8)\n",
      "Requirement already satisfied: six>=1.9.0 in /Users/mikegoodman/Documents/developer/venv/lib/python3.9/site-packages (from google-auth<3.0dev,>=1.25.0->google-cloud-core) (1.16.0)\n",
      "Requirement already satisfied: rsa<5,>=3.1.4 in /Users/mikegoodman/Documents/developer/venv/lib/python3.9/site-packages (from google-auth<3.0dev,>=1.25.0->google-cloud-core) (4.9)\n",
      "Requirement already satisfied: pyasn1<0.5.0,>=0.4.6 in /Users/mikegoodman/Documents/developer/venv/lib/python3.9/site-packages (from pyasn1-modules>=0.2.1->google-auth<3.0dev,>=1.25.0->google-cloud-core) (0.4.8)\n",
      "Requirement already satisfied: charset-normalizer<3,>=2 in /Users/mikegoodman/Documents/developer/venv/lib/python3.9/site-packages (from requests<3.0.0dev,>=2.18.0->google-api-core!=2.0.*,!=2.1.*,!=2.2.*,!=2.3.0,<3.0.0dev,>=1.31.6->google-cloud-core) (2.1.1)\n",
      "Requirement already satisfied: idna<4,>=2.5 in /Users/mikegoodman/Documents/developer/venv/lib/python3.9/site-packages (from requests<3.0.0dev,>=2.18.0->google-api-core!=2.0.*,!=2.1.*,!=2.2.*,!=2.3.0,<3.0.0dev,>=1.31.6->google-cloud-core) (3.4)\n",
      "Requirement already satisfied: urllib3<1.27,>=1.21.1 in /Users/mikegoodman/Documents/developer/venv/lib/python3.9/site-packages (from requests<3.0.0dev,>=2.18.0->google-api-core!=2.0.*,!=2.1.*,!=2.2.*,!=2.3.0,<3.0.0dev,>=1.31.6->google-cloud-core) (1.26.13)\n",
      "Requirement already satisfied: certifi>=2017.4.17 in /Users/mikegoodman/Documents/developer/venv/lib/python3.9/site-packages (from requests<3.0.0dev,>=2.18.0->google-api-core!=2.0.*,!=2.1.*,!=2.2.*,!=2.3.0,<3.0.0dev,>=1.31.6->google-cloud-core) (2022.12.7)\n",
      "Collecting gradio\n",
      "  Downloading gradio-3.33.1-py3-none-any.whl (20.0 MB)\n",
      "\u001b[2K     \u001b[90m━━━━━━━━━━━━━━━━━━━━━━━━━━━━━━━━━━━━━━━━\u001b[0m \u001b[32m20.0/20.0 MB\u001b[0m \u001b[31m14.0 MB/s\u001b[0m eta \u001b[36m0:00:00\u001b[0m00:01\u001b[0m00:01\u001b[0m\n",
      "\u001b[?25hCollecting aiofiles (from gradio)\n",
      "  Downloading aiofiles-23.1.0-py3-none-any.whl (14 kB)\n",
      "Requirement already satisfied: aiohttp in /Users/mikegoodman/Documents/developer/venv/lib/python3.9/site-packages (from gradio) (3.8.3)\n",
      "Collecting altair>=4.2.0 (from gradio)\n",
      "  Downloading altair-5.0.1-py3-none-any.whl (471 kB)\n",
      "\u001b[2K     \u001b[90m━━━━━━━━━━━━━━━━━━━━━━━━━━━━━━━━━━━━━━━\u001b[0m \u001b[32m471.5/471.5 kB\u001b[0m \u001b[31m5.0 MB/s\u001b[0m eta \u001b[36m0:00:00\u001b[0ma \u001b[36m0:00:01\u001b[0m\n",
      "\u001b[?25hRequirement already satisfied: fastapi in /Users/mikegoodman/Documents/developer/venv/lib/python3.9/site-packages (from gradio) (0.95.1)\n",
      "Collecting ffmpy (from gradio)\n",
      "  Downloading ffmpy-0.3.0.tar.gz (4.8 kB)\n",
      "  Preparing metadata (setup.py) ... \u001b[?25ldone\n",
      "\u001b[?25hCollecting gradio-client>=0.2.4 (from gradio)\n",
      "  Downloading gradio_client-0.2.5-py3-none-any.whl (288 kB)\n",
      "\u001b[2K     \u001b[90m━━━━━━━━━━━━━━━━━━━━━━━━━━━━━━━━━━━━━━━\u001b[0m \u001b[32m288.1/288.1 kB\u001b[0m \u001b[31m6.5 MB/s\u001b[0m eta \u001b[36m0:00:00\u001b[0m00:01\u001b[0m\n",
      "\u001b[?25hCollecting httpx (from gradio)\n",
      "  Downloading httpx-0.24.1-py3-none-any.whl (75 kB)\n",
      "\u001b[2K     \u001b[90m━━━━━━━━━━━━━━━━━━━━━━━━━━━━━━━━━━━━━━━━\u001b[0m \u001b[32m75.4/75.4 kB\u001b[0m \u001b[31m2.6 MB/s\u001b[0m eta \u001b[36m0:00:00\u001b[0m\n",
      "\u001b[?25hRequirement already satisfied: huggingface-hub>=0.14.0 in /Users/mikegoodman/Documents/developer/venv/lib/python3.9/site-packages (from gradio) (0.14.1)\n",
      "Requirement already satisfied: jinja2 in /Users/mikegoodman/Documents/developer/venv/lib/python3.9/site-packages (from gradio) (3.1.2)\n",
      "Collecting markdown-it-py[linkify]>=2.0.0 (from gradio)\n",
      "  Downloading markdown_it_py-3.0.0-py3-none-any.whl (87 kB)\n",
      "\u001b[2K     \u001b[90m━━━━━━━━━━━━━━━━━━━━━━━━━━━━━━━━━━━━━━━━\u001b[0m \u001b[32m87.5/87.5 kB\u001b[0m \u001b[31m3.7 MB/s\u001b[0m eta \u001b[36m0:00:00\u001b[0m\n",
      "\u001b[?25hRequirement already satisfied: markupsafe in /Users/mikegoodman/Documents/developer/venv/lib/python3.9/site-packages (from gradio) (2.1.1)\n",
      "Requirement already satisfied: matplotlib in /Users/mikegoodman/Documents/developer/venv/lib/python3.9/site-packages (from gradio) (3.6.2)\n",
      "Collecting mdit-py-plugins<=0.3.3 (from gradio)\n",
      "  Downloading mdit_py_plugins-0.3.3-py3-none-any.whl (50 kB)\n",
      "\u001b[2K     \u001b[90m━━━━━━━━━━━━━━━━━━━━━━━━━━━━━━━━━━━━━━━━\u001b[0m \u001b[32m50.5/50.5 kB\u001b[0m \u001b[31m1.8 MB/s\u001b[0m eta \u001b[36m0:00:00\u001b[0m\n",
      "\u001b[?25hRequirement already satisfied: numpy in /Users/mikegoodman/Documents/developer/venv/lib/python3.9/site-packages (from gradio) (1.24.3)\n",
      "Requirement already satisfied: orjson in /Users/mikegoodman/Documents/developer/venv/lib/python3.9/site-packages (from gradio) (3.8.3)\n",
      "Requirement already satisfied: pandas in /Users/mikegoodman/Documents/developer/venv/lib/python3.9/site-packages (from gradio) (1.5.2)\n",
      "Requirement already satisfied: pillow in /Users/mikegoodman/Documents/developer/venv/lib/python3.9/site-packages (from gradio) (9.5.0)\n",
      "Requirement already satisfied: pydantic in /Users/mikegoodman/Documents/developer/venv/lib/python3.9/site-packages (from gradio) (1.10.7)\n",
      "Collecting pydub (from gradio)\n",
      "  Downloading pydub-0.25.1-py2.py3-none-any.whl (32 kB)\n",
      "Requirement already satisfied: pygments>=2.12.0 in /Users/mikegoodman/Documents/developer/venv/lib/python3.9/site-packages (from gradio) (2.13.0)\n",
      "Collecting python-multipart (from gradio)\n",
      "  Downloading python_multipart-0.0.6-py3-none-any.whl (45 kB)\n",
      "\u001b[2K     \u001b[90m━━━━━━━━━━━━━━━━━━━━━━━━━━━━━━━━━━━━━━━\u001b[0m \u001b[32m45.7/45.7 kB\u001b[0m \u001b[31m909.1 kB/s\u001b[0m eta \u001b[36m0:00:00\u001b[0ma \u001b[36m0:00:01\u001b[0m\n",
      "\u001b[?25hRequirement already satisfied: pyyaml in /Users/mikegoodman/Documents/developer/venv/lib/python3.9/site-packages (from gradio) (6.0)\n",
      "Requirement already satisfied: requests in /Users/mikegoodman/Documents/developer/venv/lib/python3.9/site-packages (from gradio) (2.28.1)\n",
      "Collecting semantic-version (from gradio)\n",
      "  Downloading semantic_version-2.10.0-py2.py3-none-any.whl (15 kB)\n",
      "Requirement already satisfied: typing-extensions in /Users/mikegoodman/Documents/developer/venv/lib/python3.9/site-packages (from gradio) (4.5.0)\n",
      "Requirement already satisfied: uvicorn>=0.14.0 in /Users/mikegoodman/Documents/developer/venv/lib/python3.9/site-packages (from gradio) (0.22.0)\n",
      "Requirement already satisfied: websockets>=10.0 in /Users/mikegoodman/Documents/developer/venv/lib/python3.9/site-packages (from gradio) (11.0.3)\n",
      "Requirement already satisfied: jsonschema>=3.0 in /Users/mikegoodman/Documents/developer/venv/lib/python3.9/site-packages (from altair>=4.2.0->gradio) (4.17.3)\n",
      "Collecting toolz (from altair>=4.2.0->gradio)\n",
      "  Downloading toolz-0.12.0-py3-none-any.whl (55 kB)\n",
      "\u001b[2K     \u001b[90m━━━━━━━━━━━━━━━━━━━━━━━━━━━━━━━━━━━━━━━━\u001b[0m \u001b[32m55.8/55.8 kB\u001b[0m \u001b[31m2.1 MB/s\u001b[0m eta \u001b[36m0:00:00\u001b[0m\n",
      "\u001b[?25hRequirement already satisfied: fsspec in /Users/mikegoodman/Documents/developer/venv/lib/python3.9/site-packages (from gradio-client>=0.2.4->gradio) (2023.5.0)\n",
      "Requirement already satisfied: packaging in /Users/mikegoodman/Documents/developer/venv/lib/python3.9/site-packages (from gradio-client>=0.2.4->gradio) (21.3)\n",
      "Requirement already satisfied: filelock in /Users/mikegoodman/Documents/developer/venv/lib/python3.9/site-packages (from huggingface-hub>=0.14.0->gradio) (3.12.0)\n",
      "Requirement already satisfied: tqdm>=4.42.1 in /Users/mikegoodman/Documents/developer/venv/lib/python3.9/site-packages (from huggingface-hub>=0.14.0->gradio) (4.65.0)\n",
      "Collecting mdurl~=0.1 (from markdown-it-py[linkify]>=2.0.0->gradio)\n",
      "  Downloading mdurl-0.1.2-py3-none-any.whl (10.0 kB)\n",
      "Collecting linkify-it-py<3,>=1 (from markdown-it-py[linkify]>=2.0.0->gradio)\n",
      "  Downloading linkify_it_py-2.0.2-py3-none-any.whl (19 kB)\n",
      "INFO: pip is looking at multiple versions of mdit-py-plugins to determine which version is compatible with other requirements. This could take a while.\n",
      "Collecting mdit-py-plugins<=0.3.3 (from gradio)\n",
      "  Downloading mdit_py_plugins-0.3.2-py3-none-any.whl (50 kB)\n",
      "\u001b[2K     \u001b[90m━━━━━━━━━━━━━━━━━━━━━━━━━━━━━━━━━━━━━━━━\u001b[0m \u001b[32m50.4/50.4 kB\u001b[0m \u001b[31m1.4 MB/s\u001b[0m eta \u001b[36m0:00:00\u001b[0m\n",
      "\u001b[?25h  Downloading mdit_py_plugins-0.3.1-py3-none-any.whl (46 kB)\n",
      "\u001b[2K     \u001b[90m━━━━━━━━━━━━━━━━━━━━━━━━━━━━━━━━━━━━━━━━\u001b[0m \u001b[32m46.5/46.5 kB\u001b[0m \u001b[31m1.6 MB/s\u001b[0m eta \u001b[36m0:00:00\u001b[0m\n",
      "\u001b[?25h  Downloading mdit_py_plugins-0.3.0-py3-none-any.whl (43 kB)\n",
      "\u001b[2K     \u001b[90m━━━━━━━━━━━━━━━━━━━━━━━━━━━━━━━━━━━━━━━━\u001b[0m \u001b[32m43.7/43.7 kB\u001b[0m \u001b[31m1.5 MB/s\u001b[0m eta \u001b[36m0:00:00\u001b[0m\n",
      "\u001b[?25h  Downloading mdit_py_plugins-0.2.8-py3-none-any.whl (41 kB)\n",
      "\u001b[2K     \u001b[90m━━━━━━━━━━━━━━━━━━━━━━━━━━━━━━━━━━━━━━━━\u001b[0m \u001b[32m41.0/41.0 kB\u001b[0m \u001b[31m1.4 MB/s\u001b[0m eta \u001b[36m0:00:00\u001b[0m\n",
      "\u001b[?25h  Downloading mdit_py_plugins-0.2.7-py3-none-any.whl (41 kB)\n",
      "\u001b[2K     \u001b[90m━━━━━━━━━━━━━━━━━━━━━━━━━━━━━━━━━━━━━━━━\u001b[0m \u001b[32m41.0/41.0 kB\u001b[0m \u001b[31m1.4 MB/s\u001b[0m eta \u001b[36m0:00:00\u001b[0m\n",
      "\u001b[?25h  Downloading mdit_py_plugins-0.2.6-py3-none-any.whl (39 kB)\n",
      "  Downloading mdit_py_plugins-0.2.5-py3-none-any.whl (39 kB)\n",
      "INFO: pip is looking at multiple versions of mdit-py-plugins to determine which version is compatible with other requirements. This could take a while.\n",
      "  Downloading mdit_py_plugins-0.2.4-py3-none-any.whl (39 kB)\n",
      "  Downloading mdit_py_plugins-0.2.3-py3-none-any.whl (39 kB)\n",
      "  Downloading mdit_py_plugins-0.2.2-py3-none-any.whl (39 kB)\n",
      "  Downloading mdit_py_plugins-0.2.1-py3-none-any.whl (38 kB)\n",
      "  Downloading mdit_py_plugins-0.2.0-py3-none-any.whl (38 kB)\n",
      "INFO: This is taking longer than usual. You might need to provide the dependency resolver with stricter constraints to reduce runtime. See https://pip.pypa.io/warnings/backtracking for guidance. If you want to abort this run, press Ctrl + C.\n",
      "  Downloading mdit_py_plugins-0.1.0-py3-none-any.whl (37 kB)\n",
      "Collecting markdown-it-py[linkify]>=2.0.0 (from gradio)\n",
      "  Downloading markdown_it_py-2.2.0-py3-none-any.whl (84 kB)\n",
      "\u001b[2K     \u001b[90m━━━━━━━━━━━━━━━━━━━━━━━━━━━━━━━━━━━━━━━━\u001b[0m \u001b[32m84.5/84.5 kB\u001b[0m \u001b[31m3.3 MB/s\u001b[0m eta \u001b[36m0:00:00\u001b[0m\n",
      "\u001b[?25hRequirement already satisfied: python-dateutil>=2.8.1 in /Users/mikegoodman/Documents/developer/venv/lib/python3.9/site-packages (from pandas->gradio) (2.8.2)\n",
      "Requirement already satisfied: pytz>=2020.1 in /Users/mikegoodman/Documents/developer/venv/lib/python3.9/site-packages (from pandas->gradio) (2022.7)\n",
      "Requirement already satisfied: click>=7.0 in /Users/mikegoodman/Documents/developer/venv/lib/python3.9/site-packages (from uvicorn>=0.14.0->gradio) (8.1.3)\n",
      "Requirement already satisfied: h11>=0.8 in /Users/mikegoodman/Documents/developer/venv/lib/python3.9/site-packages (from uvicorn>=0.14.0->gradio) (0.14.0)\n",
      "Requirement already satisfied: attrs>=17.3.0 in /Users/mikegoodman/Documents/developer/venv/lib/python3.9/site-packages (from aiohttp->gradio) (22.1.0)\n",
      "Requirement already satisfied: charset-normalizer<3.0,>=2.0 in /Users/mikegoodman/Documents/developer/venv/lib/python3.9/site-packages (from aiohttp->gradio) (2.1.1)\n",
      "Requirement already satisfied: multidict<7.0,>=4.5 in /Users/mikegoodman/Documents/developer/venv/lib/python3.9/site-packages (from aiohttp->gradio) (6.0.4)\n",
      "Requirement already satisfied: async-timeout<5.0,>=4.0.0a3 in /Users/mikegoodman/Documents/developer/venv/lib/python3.9/site-packages (from aiohttp->gradio) (4.0.2)\n",
      "Requirement already satisfied: yarl<2.0,>=1.0 in /Users/mikegoodman/Documents/developer/venv/lib/python3.9/site-packages (from aiohttp->gradio) (1.8.2)\n",
      "Requirement already satisfied: frozenlist>=1.1.1 in /Users/mikegoodman/Documents/developer/venv/lib/python3.9/site-packages (from aiohttp->gradio) (1.3.3)\n",
      "Requirement already satisfied: aiosignal>=1.1.2 in /Users/mikegoodman/Documents/developer/venv/lib/python3.9/site-packages (from aiohttp->gradio) (1.3.1)\n",
      "Requirement already satisfied: starlette<0.27.0,>=0.26.1 in /Users/mikegoodman/Documents/developer/venv/lib/python3.9/site-packages (from fastapi->gradio) (0.26.1)\n",
      "Requirement already satisfied: certifi in /Users/mikegoodman/Documents/developer/venv/lib/python3.9/site-packages (from httpx->gradio) (2022.12.7)\n",
      "Collecting httpcore<0.18.0,>=0.15.0 (from httpx->gradio)\n",
      "  Downloading httpcore-0.17.2-py3-none-any.whl (72 kB)\n",
      "\u001b[2K     \u001b[90m━━━━━━━━━━━━━━━━━━━━━━━━━━━━━━━━━━━━━━━━\u001b[0m \u001b[32m72.5/72.5 kB\u001b[0m \u001b[31m2.9 MB/s\u001b[0m eta \u001b[36m0:00:00\u001b[0m\n",
      "\u001b[?25hRequirement already satisfied: idna in /Users/mikegoodman/Documents/developer/venv/lib/python3.9/site-packages (from httpx->gradio) (3.4)\n",
      "Requirement already satisfied: sniffio in /Users/mikegoodman/Documents/developer/venv/lib/python3.9/site-packages (from httpx->gradio) (1.3.0)\n",
      "Requirement already satisfied: contourpy>=1.0.1 in /Users/mikegoodman/Documents/developer/venv/lib/python3.9/site-packages (from matplotlib->gradio) (1.0.6)\n",
      "Requirement already satisfied: cycler>=0.10 in /Users/mikegoodman/Documents/developer/venv/lib/python3.9/site-packages (from matplotlib->gradio) (0.11.0)\n",
      "Requirement already satisfied: fonttools>=4.22.0 in /Users/mikegoodman/Documents/developer/venv/lib/python3.9/site-packages (from matplotlib->gradio) (4.38.0)\n",
      "Requirement already satisfied: kiwisolver>=1.0.1 in /Users/mikegoodman/Documents/developer/venv/lib/python3.9/site-packages (from matplotlib->gradio) (1.4.4)\n",
      "Requirement already satisfied: pyparsing>=2.2.1 in /Users/mikegoodman/Documents/developer/venv/lib/python3.9/site-packages (from matplotlib->gradio) (3.0.9)\n",
      "Requirement already satisfied: urllib3<1.27,>=1.21.1 in /Users/mikegoodman/Documents/developer/venv/lib/python3.9/site-packages (from requests->gradio) (1.26.13)\n",
      "Requirement already satisfied: anyio<5.0,>=3.0 in /Users/mikegoodman/Documents/developer/venv/lib/python3.9/site-packages (from httpcore<0.18.0,>=0.15.0->httpx->gradio) (3.6.2)\n",
      "Requirement already satisfied: pyrsistent!=0.17.0,!=0.17.1,!=0.17.2,>=0.14.0 in /Users/mikegoodman/Documents/developer/venv/lib/python3.9/site-packages (from jsonschema>=3.0->altair>=4.2.0->gradio) (0.19.2)\n",
      "Collecting uc-micro-py (from linkify-it-py<3,>=1->markdown-it-py[linkify]>=2.0.0->gradio)\n",
      "  Downloading uc_micro_py-1.0.2-py3-none-any.whl (6.2 kB)\n",
      "Requirement already satisfied: six>=1.5 in /Users/mikegoodman/Documents/developer/venv/lib/python3.9/site-packages (from python-dateutil>=2.8.1->pandas->gradio) (1.16.0)\n",
      "Building wheels for collected packages: ffmpy\n",
      "  Building wheel for ffmpy (setup.py) ... \u001b[?25ldone\n",
      "\u001b[?25h  Created wheel for ffmpy: filename=ffmpy-0.3.0-py3-none-any.whl size=4693 sha256=799b471215fbd8a752a651bce7639a12d2300bac595b9027377caae8a2f02ecd\n",
      "  Stored in directory: /Users/mikegoodman/Library/Caches/pip/wheels/91/e2/96/f676aa08bfd789328c6576cd0f1fde4a3d686703bb0c247697\n",
      "Successfully built ffmpy\n",
      "Installing collected packages: pydub, ffmpy, uc-micro-py, toolz, semantic-version, python-multipart, mdurl, aiofiles, markdown-it-py, linkify-it-py, httpcore, mdit-py-plugins, httpx, altair, gradio-client, gradio\n",
      "Successfully installed aiofiles-23.1.0 altair-5.0.1 ffmpy-0.3.0 gradio-3.33.1 gradio-client-0.2.5 httpcore-0.17.2 httpx-0.24.1 linkify-it-py-2.0.2 markdown-it-py-2.2.0 mdit-py-plugins-0.3.3 mdurl-0.1.2 pydub-0.25.1 python-multipart-0.0.6 semantic-version-2.10.0 toolz-0.12.0 uc-micro-py-1.0.2\n",
      "Collecting SQLAlchemy==1.4.48\n",
      "  Downloading SQLAlchemy-1.4.48.tar.gz (8.4 MB)\n",
      "\u001b[2K     \u001b[90m━━━━━━━━━━━━━━━━━━━━━━━━━━━━━━━━━━━━━━━━\u001b[0m \u001b[32m8.4/8.4 MB\u001b[0m \u001b[31m17.3 MB/s\u001b[0m eta \u001b[36m0:00:00\u001b[0m00:01\u001b[0m00:01\u001b[0m\n",
      "\u001b[?25h  Preparing metadata (setup.py) ... \u001b[?25ldone\n",
      "\u001b[?25hRequirement already satisfied: greenlet!=0.4.17 in /Users/mikegoodman/Documents/developer/venv/lib/python3.9/site-packages (from SQLAlchemy==1.4.48) (2.0.2)\n",
      "Building wheels for collected packages: SQLAlchemy\n",
      "  Building wheel for SQLAlchemy (setup.py) ... \u001b[?25ldone\n",
      "\u001b[?25h  Created wheel for SQLAlchemy: filename=SQLAlchemy-1.4.48-cp39-cp39-macosx_10_9_x86_64.whl size=1563225 sha256=9ebd0bb48002186bc52cf320e5309f7e8f40cf91f9171995873af05b2dd31f97\n",
      "  Stored in directory: /Users/mikegoodman/Library/Caches/pip/wheels/92/d0/c9/26e053cdc001a669b5d02ad24998c237c870eff05ca422a147\n",
      "Successfully built SQLAlchemy\n",
      "Installing collected packages: SQLAlchemy\n",
      "  Attempting uninstall: SQLAlchemy\n",
      "    Found existing installation: SQLAlchemy 2.0.13\n",
      "    Uninstalling SQLAlchemy-2.0.13:\n",
      "      Successfully uninstalled SQLAlchemy-2.0.13\n",
      "Successfully installed SQLAlchemy-1.4.48\n",
      "Collecting sqlalchemy-bigquery\n",
      "  Downloading sqlalchemy_bigquery-1.6.1-py2.py3-none-any.whl (32 kB)\n",
      "Requirement already satisfied: google-api-core!=2.0.*,!=2.1.*,!=2.2.*,!=2.3.0,<3.0.0dev,>=1.31.5 in /Users/mikegoodman/Documents/developer/venv/lib/python3.9/site-packages (from sqlalchemy-bigquery) (2.11.0)\n",
      "Requirement already satisfied: google-auth<3.0.0dev,>=1.25.0 in /Users/mikegoodman/Documents/developer/venv/lib/python3.9/site-packages (from sqlalchemy-bigquery) (2.16.0)\n",
      "Requirement already satisfied: google-cloud-bigquery<4.0.0dev,>=2.25.2 in /Users/mikegoodman/Documents/developer/venv/lib/python3.9/site-packages (from sqlalchemy-bigquery) (3.4.1)\n",
      "Requirement already satisfied: google-cloud-bigquery-storage<3.0.0dev,>=2.0.0 in /Users/mikegoodman/Documents/developer/venv/lib/python3.9/site-packages (from sqlalchemy-bigquery) (2.17.0)\n",
      "Requirement already satisfied: packaging in /Users/mikegoodman/Documents/developer/venv/lib/python3.9/site-packages (from sqlalchemy-bigquery) (21.3)\n",
      "Requirement already satisfied: pyarrow>=3.0.0 in /Users/mikegoodman/Documents/developer/venv/lib/python3.9/site-packages (from sqlalchemy-bigquery) (10.0.1)\n",
      "Requirement already satisfied: sqlalchemy<2.0.0dev,>=1.2.0 in /Users/mikegoodman/Documents/developer/venv/lib/python3.9/site-packages (from sqlalchemy-bigquery) (1.4.48)\n",
      "Collecting future (from sqlalchemy-bigquery)\n",
      "  Downloading future-0.18.3.tar.gz (840 kB)\n",
      "\u001b[2K     \u001b[90m━━━━━━━━━━━━━━━━━━━━━━━━━━━━━━━━━━━━━━━\u001b[0m \u001b[32m840.9/840.9 kB\u001b[0m \u001b[31m6.2 MB/s\u001b[0m eta \u001b[36m0:00:00\u001b[0m00:01\u001b[0m00:01\u001b[0m\n",
      "\u001b[?25h  Preparing metadata (setup.py) ... \u001b[?25ldone\n",
      "\u001b[?25hRequirement already satisfied: googleapis-common-protos<2.0dev,>=1.56.2 in /Users/mikegoodman/Documents/developer/venv/lib/python3.9/site-packages (from google-api-core!=2.0.*,!=2.1.*,!=2.2.*,!=2.3.0,<3.0.0dev,>=1.31.5->sqlalchemy-bigquery) (1.57.0)\n",
      "Requirement already satisfied: protobuf!=3.20.0,!=3.20.1,!=4.21.0,!=4.21.1,!=4.21.2,!=4.21.3,!=4.21.4,!=4.21.5,<5.0.0dev,>=3.19.5 in /Users/mikegoodman/Documents/developer/venv/lib/python3.9/site-packages (from google-api-core!=2.0.*,!=2.1.*,!=2.2.*,!=2.3.0,<3.0.0dev,>=1.31.5->sqlalchemy-bigquery) (4.23.0)\n",
      "Requirement already satisfied: requests<3.0.0dev,>=2.18.0 in /Users/mikegoodman/Documents/developer/venv/lib/python3.9/site-packages (from google-api-core!=2.0.*,!=2.1.*,!=2.2.*,!=2.3.0,<3.0.0dev,>=1.31.5->sqlalchemy-bigquery) (2.28.1)\n",
      "Requirement already satisfied: cachetools<6.0,>=2.0.0 in /Users/mikegoodman/Documents/developer/venv/lib/python3.9/site-packages (from google-auth<3.0.0dev,>=1.25.0->sqlalchemy-bigquery) (5.2.0)\n",
      "Requirement already satisfied: pyasn1-modules>=0.2.1 in /Users/mikegoodman/Documents/developer/venv/lib/python3.9/site-packages (from google-auth<3.0.0dev,>=1.25.0->sqlalchemy-bigquery) (0.2.8)\n",
      "Requirement already satisfied: six>=1.9.0 in /Users/mikegoodman/Documents/developer/venv/lib/python3.9/site-packages (from google-auth<3.0.0dev,>=1.25.0->sqlalchemy-bigquery) (1.16.0)\n",
      "Requirement already satisfied: rsa<5,>=3.1.4 in /Users/mikegoodman/Documents/developer/venv/lib/python3.9/site-packages (from google-auth<3.0.0dev,>=1.25.0->sqlalchemy-bigquery) (4.9)\n",
      "Requirement already satisfied: grpcio<2.0dev,>=1.47.0 in /Users/mikegoodman/Documents/developer/venv/lib/python3.9/site-packages (from google-cloud-bigquery<4.0.0dev,>=2.25.2->sqlalchemy-bigquery) (1.51.1)\n",
      "Requirement already satisfied: proto-plus<2.0.0dev,>=1.15.0 in /Users/mikegoodman/Documents/developer/venv/lib/python3.9/site-packages (from google-cloud-bigquery<4.0.0dev,>=2.25.2->sqlalchemy-bigquery) (1.22.1)\n",
      "Requirement already satisfied: google-cloud-core<3.0.0dev,>=1.4.1 in /Users/mikegoodman/Documents/developer/venv/lib/python3.9/site-packages (from google-cloud-bigquery<4.0.0dev,>=2.25.2->sqlalchemy-bigquery) (2.3.2)\n",
      "Requirement already satisfied: google-resumable-media<3.0dev,>=0.6.0 in /Users/mikegoodman/Documents/developer/venv/lib/python3.9/site-packages (from google-cloud-bigquery<4.0.0dev,>=2.25.2->sqlalchemy-bigquery) (2.4.0)\n",
      "Requirement already satisfied: python-dateutil<3.0dev,>=2.7.2 in /Users/mikegoodman/Documents/developer/venv/lib/python3.9/site-packages (from google-cloud-bigquery<4.0.0dev,>=2.25.2->sqlalchemy-bigquery) (2.8.2)\n",
      "Requirement already satisfied: pyparsing!=3.0.5,>=2.0.2 in /Users/mikegoodman/Documents/developer/venv/lib/python3.9/site-packages (from packaging->sqlalchemy-bigquery) (3.0.9)\n",
      "Requirement already satisfied: numpy>=1.16.6 in /Users/mikegoodman/Documents/developer/venv/lib/python3.9/site-packages (from pyarrow>=3.0.0->sqlalchemy-bigquery) (1.24.3)\n",
      "Requirement already satisfied: greenlet!=0.4.17 in /Users/mikegoodman/Documents/developer/venv/lib/python3.9/site-packages (from sqlalchemy<2.0.0dev,>=1.2.0->sqlalchemy-bigquery) (2.0.2)\n",
      "Requirement already satisfied: grpcio-status<2.0dev,>=1.33.2 in /Users/mikegoodman/Documents/developer/venv/lib/python3.9/site-packages (from google-api-core!=2.0.*,!=2.1.*,!=2.2.*,!=2.3.0,<3.0.0dev,>=1.31.5->sqlalchemy-bigquery) (1.51.1)\n",
      "Requirement already satisfied: google-crc32c<2.0dev,>=1.0 in /Users/mikegoodman/Documents/developer/venv/lib/python3.9/site-packages (from google-resumable-media<3.0dev,>=0.6.0->google-cloud-bigquery<4.0.0dev,>=2.25.2->sqlalchemy-bigquery) (1.5.0)\n",
      "Requirement already satisfied: pyasn1<0.5.0,>=0.4.6 in /Users/mikegoodman/Documents/developer/venv/lib/python3.9/site-packages (from pyasn1-modules>=0.2.1->google-auth<3.0.0dev,>=1.25.0->sqlalchemy-bigquery) (0.4.8)\n",
      "Requirement already satisfied: charset-normalizer<3,>=2 in /Users/mikegoodman/Documents/developer/venv/lib/python3.9/site-packages (from requests<3.0.0dev,>=2.18.0->google-api-core!=2.0.*,!=2.1.*,!=2.2.*,!=2.3.0,<3.0.0dev,>=1.31.5->sqlalchemy-bigquery) (2.1.1)\n",
      "Requirement already satisfied: idna<4,>=2.5 in /Users/mikegoodman/Documents/developer/venv/lib/python3.9/site-packages (from requests<3.0.0dev,>=2.18.0->google-api-core!=2.0.*,!=2.1.*,!=2.2.*,!=2.3.0,<3.0.0dev,>=1.31.5->sqlalchemy-bigquery) (3.4)\n",
      "Requirement already satisfied: urllib3<1.27,>=1.21.1 in /Users/mikegoodman/Documents/developer/venv/lib/python3.9/site-packages (from requests<3.0.0dev,>=2.18.0->google-api-core!=2.0.*,!=2.1.*,!=2.2.*,!=2.3.0,<3.0.0dev,>=1.31.5->sqlalchemy-bigquery) (1.26.13)\n",
      "Requirement already satisfied: certifi>=2017.4.17 in /Users/mikegoodman/Documents/developer/venv/lib/python3.9/site-packages (from requests<3.0.0dev,>=2.18.0->google-api-core!=2.0.*,!=2.1.*,!=2.2.*,!=2.3.0,<3.0.0dev,>=1.31.5->sqlalchemy-bigquery) (2022.12.7)\n",
      "Building wheels for collected packages: future\n",
      "  Building wheel for future (setup.py) ... \u001b[?25ldone\n",
      "\u001b[?25h  Created wheel for future: filename=future-0.18.3-py3-none-any.whl size=492025 sha256=c39ea6adaaf21180c417c7fdaa00bf12f7425ef56823ba1149781f636399a8e7\n",
      "  Stored in directory: /Users/mikegoodman/Library/Caches/pip/wheels/bf/5d/6a/2e53874f7ec4e2bede522385439531fafec8fafe005b5c3d1b\n",
      "Successfully built future\n",
      "Installing collected packages: future, sqlalchemy-bigquery\n",
      "Successfully installed future-0.18.3 sqlalchemy-bigquery-1.6.1\n"
     ]
    }
   ],
   "source": [
    "# Install Python Libraries\n",
    "!pip install google-cloud-aiplatform --upgrade\n",
    "!pip install chromadb --upgrade\n",
    "!pip install langchain==0.0.157 #--upgrade\n",
    "!pip install google-cloud-core --upgrade\n",
    "!pip install gradio --upgrade\n",
    "\n",
    "# Below libraries are required to build a SQL engine for BigQuery\n",
    "!pip install SQLAlchemy==1.4.48 --upgrade\n",
    "!pip install sqlalchemy-bigquery --upgrade"
   ]
  },
  {
   "cell_type": "code",
   "execution_count": null,
   "metadata": {
    "id": "_p0X85UA3aSa"
   },
   "outputs": [],
   "source": [
    "exit()"
   ]
  },
  {
   "cell_type": "markdown",
   "metadata": {
    "id": "HBQjT-kZOLPn",
    "tags": []
   },
   "source": [
    "## **Since the kernel restarted at this point, run the below code individually**"
   ]
  },
  {
   "cell_type": "markdown",
   "metadata": {
    "id": "aDJshtqgxlsI",
    "tags": []
   },
   "source": [
    "### LLM Model Initialization & App parameters initialization"
   ]
  },
  {
   "cell_type": "code",
   "execution_count": 1,
   "metadata": {
    "id": "o6eipz3LxgtE"
   },
   "outputs": [],
   "source": [
    "# @title Specify Project details and location of the BQ table\n",
    "\n",
    "project_id = \"mg-ce-demos\"  # @param {type:\"string\"}\n",
    "location = \"us-central1\"  # @param {type:\"string\"}\n",
    "dataset_id = 'thelook_ecommerce' # @param {type:\"string\"}\n",
    "table_name1 = 'order_items' # @param {type:\"string\"}\n",
    "table_name2 = 'orders'\n",
    "\n",
    "table_names = (table_name1, table_name2)\n"
   ]
  },
  {
   "cell_type": "code",
   "execution_count": 2,
   "metadata": {
    "cellView": "form",
    "id": "pIuZ0ThX-oIk"
   },
   "outputs": [],
   "source": [
    "# @title Vertex AI LLM wrapper for using with Langchain\n",
    "# Credits:\n",
    "#  pmarlow@: go/vertex-on-langchain-source\n",
    "# Note:\n",
    "# - 04/19: Eventually this will be replaced by Langchain + Vertex AI integration\n",
    "\n",
    "import vertexai\n",
    "vertexai.init(project=project_id, location=location)\n",
    "\n",
    "import time\n",
    "from typing import Any, Mapping, List, Dict, Optional, Tuple\n",
    "\n",
    "from pydantic import BaseModel, Extra, root_validator\n",
    "\n",
    "from langchain.llms.base import LLM\n",
    "from langchain.embeddings.base import Embeddings\n",
    "from langchain.chat_models.base import BaseChatModel\n",
    "from langchain.llms.utils import enforce_stop_tokens\n",
    "from langchain.schema import Generation, LLMResult\n",
    "from langchain.schema import AIMessage, BaseMessage, ChatGeneration, ChatResult, HumanMessage, SystemMessage\n",
    "\n",
    "from vertexai.preview.language_models import TextGenerationModel, TextEmbeddingModel, ChatModel\n"
   ]
  },
  {
   "cell_type": "code",
   "execution_count": 3,
   "metadata": {},
   "outputs": [],
   "source": [
    "def rate_limit(max_per_minute):\n",
    "  period = 60 / max_per_minute\n",
    "  while True:\n",
    "    before = time.time()\n",
    "    yield\n",
    "    after = time.time()\n",
    "    elapsed = after - before\n",
    "    sleep_time = max(0, period - elapsed)\n",
    "    if sleep_time > 0:\n",
    "      print(f'Sleeping {sleep_time:.1f} seconds')\n",
    "      time.sleep(sleep_time)\n",
    "\n",
    "\n",
    "class _VertexCommon(BaseModel):\n",
    "    \"\"\"Wrapper around Vertex AI large language models.\n",
    "\n",
    "    \"\"\"\n",
    "    client: Any = None #: :meta private:\n",
    "    model_name: str = \"text-bison@001\"\n",
    "    \"\"\"Model name to use.\"\"\"\n",
    "\n",
    "    temperature: float = 0.2\n",
    "    \"\"\"What sampling temperature to use.\"\"\"\n",
    "\n",
    "    top_p: int = 0.8\n",
    "    \"\"\"Total probability mass of tokens to consider at each step.\"\"\"\n",
    "\n",
    "    top_k: int = 40\n",
    "    \"\"\"The number of highest probability tokens to keep for top-k filtering.\"\"\"\n",
    "\n",
    "    max_output_tokens: int = 200\n",
    "    \"\"\"The maximum number of tokens to generate in the completion.\"\"\"\n",
    "\n",
    "    @property\n",
    "    def _default_params(self) -> Mapping[str, Any]:\n",
    "        \"\"\"Get the default parameters for calling Vertex AI API.\"\"\"\n",
    "        return {\n",
    "            \"temperature\": self.temperature,\n",
    "            \"top_p\": self.top_p,\n",
    "            \"top_k\": self.top_k,\n",
    "            \"max_output_tokens\": self.max_output_tokens\n",
    "        }\n",
    "\n",
    "    def _predict(self, prompt: str, stop: Optional[List[str]]) -> str:\n",
    "        res = self.client.predict(prompt, **self._default_params)\n",
    "        return self._enforce_stop_words(res.text, stop)\n",
    "\n",
    "    def _enforce_stop_words(self, text: str, stop: Optional[List[str]]) -> str:\n",
    "        if stop:\n",
    "            return enforce_stop_tokens(text, stop)\n",
    "        return text\n",
    "\n",
    "    @property\n",
    "    def _llm_type(self) -> str:\n",
    "        \"\"\"Return type of llm.\"\"\"\n",
    "        return \"vertex_ai\"\n",
    "\n",
    "class VertexLLM(_VertexCommon, LLM):\n",
    "    model_name: str = \"text-bison@001\"\n",
    "\n",
    "    @root_validator()\n",
    "    def validate_environment(cls, values: Dict) -> Dict:\n",
    "        \"\"\"Validate that the python package exists in environment.\"\"\"\n",
    "\n",
    "        try:\n",
    "            values[\"client\"] = TextGenerationModel.from_pretrained(values[\"model_name\"])\n",
    "        except AttributeError:\n",
    "            raise ValueError(\n",
    "                \"Could not set Vertex Text Model client.\"\n",
    "            )\n",
    "\n",
    "        return values\n",
    "\n",
    "    def _call(self, prompt: str, stop: Optional[List[str]] = None) -> str:\n",
    "        \"\"\"Call out to Vertex AI's create endpoint.\n",
    "\n",
    "        Args:\n",
    "            prompt: The prompt to pass into the model.\n",
    "\n",
    "        Returns:\n",
    "            The string generated by the model.\n",
    "        \"\"\"\n",
    "        return self._predict(prompt, stop)\n",
    "\n",
    "\n",
    "class _VertexChatCommon(_VertexCommon):\n",
    "    \"\"\"Wrapper around Vertex AI Chat large language models.\n",
    "\n",
    "\n",
    "    \"\"\"\n",
    "    model_name: str = \"chat-bison@001\"\n",
    "    \"\"\"Model name to use.\"\"\"\n",
    "\n",
    "    @root_validator()\n",
    "    def validate_environment(cls, values: Dict) -> Dict:\n",
    "        \"\"\"Validate that the python package exists in environment.\"\"\"\n",
    "\n",
    "\n",
    "        try:\n",
    "            values[\"client\"] = ChatModel.from_pretrained(values[\"model_name\"])\n",
    "        except AttributeError:\n",
    "            raise ValueError(\n",
    "                \"Could not set Vertex Text Model client.\"\n",
    "            )\n",
    "\n",
    "        return values\n",
    "\n",
    "    def _response_to_chat_results(\n",
    "        self, response: object, stop: Optional[List[str]]\n",
    "    ) -> ChatResult:\n",
    "        text = self._enforce_stop_words(response.text, stop)\n",
    "        return ChatResult(generations=[ChatGeneration(message=AIMessage(content=text))])\n",
    "\n",
    "class VertexChat(_VertexChatCommon, BaseChatModel):\n",
    "    \"\"\"Wrapper around Vertex AI large language models.\"\"\"\n",
    "\n",
    "    def _generate(\n",
    "        self, messages: List[BaseMessage], stop: Optional[List[str]] = None\n",
    "    ) -> ChatResult:\n",
    "        chat, prompt = self._start_chat(messages)\n",
    "        response = chat.send_message(prompt)\n",
    "        return self._response_to_chat_results(response, stop=stop)\n",
    "\n",
    "    def _start_chat(\n",
    "        self, messages: List[BaseMessage]\n",
    "    ) -> Tuple[object, str]:\n",
    "        \"\"\"Start a chat.\n",
    "        Args:\n",
    "            messages: a list of BaseMessage.\n",
    "        Returns:\n",
    "            a tuple that has a Vertex AI chat model initializes, and a prompt to send to the model.\n",
    "        Currently it expects either one HumanMessage, or two message (SystemMessage and HumanMessage).\n",
    "        If two messages are provided, the first one would be use for context.\n",
    "        \"\"\"\n",
    "        if len(messages) == 1:\n",
    "            message = messages[0]\n",
    "            if not isinstance(message, HumanMessage):\n",
    "                raise ValueError(\"Message should be from a human if it's the first one.\")\n",
    "            context, prompt = None, message.content\n",
    "        elif len(messages) == 2:\n",
    "            first_message, second_message = messages[0], messages[1]\n",
    "            if not isinstance(first_message, SystemMessage):\n",
    "                raise ValueError(\n",
    "                    \"The first message should be a system if there're two of them.\"\n",
    "                )\n",
    "            if not isinstance(second_message, HumanMessage):\n",
    "                raise ValueError(\"The second message should be from a human.\")\n",
    "            context, prompt = first_message.content, second_message.content\n",
    "        else:\n",
    "            raise ValueError(f\"Chat model expects only one or two messages. Received {len(messages)}\")\n",
    "        chat = self.client.start_chat(context=context, **self._default_params)\n",
    "        return chat, prompt\n",
    "\n",
    "    async def _agenerate(\n",
    "        self, messages: List[BaseMessage], stop: Optional[List[str]] = None\n",
    "    ) -> ChatResult:\n",
    "        raise NotImplementedError(\n",
    "            \"\"\"Vertex AI doesn't support async requests at the moment.\"\"\"\n",
    "        )\n",
    "\n",
    "\n",
    "class VertexMultiTurnChat(_VertexChatCommon, BaseChatModel):\n",
    "    \"\"\"Wrapper around Vertex AI large language models.\"\"\"\n",
    "\n",
    "    chat: Optional[object] = None\n",
    "\n",
    "    def clear_chat(self) -> None:\n",
    "        self.chat = None\n",
    "\n",
    "    def start_chat(self, message: Optional[SystemMessage] = None) -> None:\n",
    "        if self.chat:\n",
    "            raise ValueError(\"Chat has already been started. Please, clear it first.\")\n",
    "        if message and not isinstance(message, SystemMessage):\n",
    "            raise ValueError(\"Context should be a system message\")\n",
    "        context = message.content if message else None\n",
    "        self.chat = self.client.start_chat(context=context, **self._default_params)\n",
    "\n",
    "    @property\n",
    "    def history(self) -> List[Tuple[str]]:\n",
    "        \"\"\"Chat history.\"\"\"\n",
    "        if self.chat:\n",
    "            return self.chat._history\n",
    "        return []\n",
    "\n",
    "    def _generate(\n",
    "        self, messages: List[BaseMessage], stop: Optional[List[str]] = None\n",
    "    ) -> ChatResult:\n",
    "        if len(messages) != 1:\n",
    "            raise ValueError(\n",
    "                \"You should send exactly one message to the chat each turn.\"\n",
    "            )\n",
    "        if not self.chat:\n",
    "            raise ValueError(\"You should start_chat first!\")\n",
    "        response = self.chat.send_message(messages[0].content)\n",
    "        return self._response_to_chat_results(response, stop=stop)\n",
    "\n",
    "    async def _agenerate(\n",
    "        self, messages: List[BaseMessage], stop: Optional[List[str]] = None\n",
    "    ) -> ChatResult:\n",
    "        raise NotImplementedError(\n",
    "            \"\"\"Vertex AI doesn't support async requests at the moment.\"\"\"\n",
    "        )\n",
    "\n",
    "class VertexEmbeddings(Embeddings, BaseModel):\n",
    "    \"\"\"Wrapper around Vertex AI large language models embeddings API.\n",
    "    \"\"\"\n",
    "    model_name: str = \"textembedding-gecko@001\"\n",
    "    \"\"\"Model name to use.\"\"\"\n",
    "\n",
    "    model: Any\n",
    "    requests_per_minute: int = 15\n",
    "\n",
    "\n",
    "    @root_validator()\n",
    "    def validate_environment(cls, values: Dict) -> Dict:\n",
    "        \"\"\"Validate that the python package exists in environment.\"\"\"\n",
    "\n",
    "        try:\n",
    "            values[\"model\"] = TextEmbeddingModel\n",
    "\n",
    "        except AttributeError:\n",
    "            raise ValueError(\n",
    "                \"Could not set Vertex Text Model client.\"\n",
    "            )\n",
    "\n",
    "        return values\n",
    "\n",
    "    class Config:\n",
    "        \"\"\"Configuration for this pydantic object.\"\"\"\n",
    "\n",
    "        extra = Extra.forbid\n",
    "\n",
    "    def embed_documents(self, texts: List[str]) -> List[List[float]]:\n",
    "      \"\"\"Call Vertex LLM embedding endpoint for embedding docs\n",
    "      Args:\n",
    "          texts: The list of texts to embed.\n",
    "      Returns:\n",
    "          List of embeddings, one for each text.\n",
    "      \"\"\"\n",
    "      self.model = self.model.from_pretrained(self.model_name)\n",
    "\n",
    "      limiter = rate_limit(self.requests_per_minute)\n",
    "      results = []\n",
    "      docs = list(texts)\n",
    "\n",
    "      while docs:\n",
    "        # Working in batches of 2 because the API apparently won't let\n",
    "        # us send more than 2 documents per request to get embeddings.\n",
    "        head, docs = docs[:2], docs[2:]\n",
    "        # print(f'Sending embedding request for: {head!r}')\n",
    "        chunk = self.model.get_embeddings(head)\n",
    "        results.extend(chunk)\n",
    "        next(limiter)\n",
    "\n",
    "      return [r.values for r in results]\n",
    "\n",
    "    def embed_query(self, text: str) -> List[float]:\n",
    "      \"\"\"Call Vertex LLM embedding endpoint for embedding query text.\n",
    "      Args:\n",
    "        text: The text to embed.\n",
    "      Returns:\n",
    "        Embedding for the text.\n",
    "      \"\"\"\n",
    "      single_result = self.embed_documents([text])\n",
    "      return single_result[0]\n",
    "\n",
    "#Initialize a model\n",
    "llm = VertexLLM(\n",
    "    model_name='text-bison@001',\n",
    "    max_output_tokens=256,\n",
    "    temperature=0,\n",
    "    top_p=0.8,top_k=40,\n",
    "    verbose=True,\n",
    ")"
   ]
  },
  {
   "cell_type": "markdown",
   "metadata": {
    "id": "LqDhLithzJgd",
    "tags": []
   },
   "source": [
    "### Create SQL engine for BigQuery"
   ]
  },
  {
   "cell_type": "code",
   "execution_count": 4,
   "metadata": {
    "id": "NmRwdkm9Mm_u"
   },
   "outputs": [],
   "source": [
    "from sqlalchemy import *\n",
    "from sqlalchemy.engine import create_engine\n",
    "from sqlalchemy.schema import *\n",
    "import pandas as pd"
   ]
  },
  {
   "cell_type": "code",
   "execution_count": 5,
   "metadata": {
    "id": "nBzy1sV51h1e"
   },
   "outputs": [],
   "source": [
    "table_uri = f\"bigquery://{project_id}/{dataset_id}\"\n",
    "engine = create_engine(f\"bigquery://{project_id}/{dataset_id}\")"
   ]
  },
  {
   "cell_type": "code",
   "execution_count": 6,
   "metadata": {
    "colab": {
     "base_uri": "https://localhost:8080/"
    },
    "id": "2_8Jr90a104A",
    "outputId": "026bdcb1-fd3b-4af6-f93e-56e8efb8f37c"
   },
   "outputs": [
    {
     "name": "stderr",
     "output_type": "stream",
     "text": [
      "/var/folders/q8/1gf829m141157nbz7kc4_19h00tb0q/T/ipykernel_10480/134055689.py:3: RemovedIn20Warning: Deprecated API features detected! These feature(s) are not compatible with SQLAlchemy 2.0. To prevent incompatible upgrades prior to updating applications, ensure requirements files are pinned to \"sqlalchemy<2.0\". Set environment variable SQLALCHEMY_WARN_20=1 to show all deprecation warnings.  Set environment variable SQLALCHEMY_SILENCE_UBER_WARNING=1 to silence this message. (Background on SQLAlchemy 2.0 at: https://sqlalche.me/e/b8d9)\n",
      "  engine.execute(query).first()\n"
     ]
    },
    {
     "data": {
      "text/plain": [
       "(72400, 50021, 40085, 13606, 195870, 'Shipped', datetime.datetime(2023, 4, 7, 8, 9, 34, tzinfo=<UTC>), datetime.datetime(2023, 4, 8, 14, 23, tzinfo=<UTC>), None, None, 2.5)"
      ]
     },
     "execution_count": 6,
     "metadata": {},
     "output_type": "execute_result"
    }
   ],
   "source": [
    "#Testing all tables\n",
    "query=f\"\"\"SELECT * FROM {project_id}.{dataset_id}.{table_name1}\"\"\"\n",
    "engine.execute(query).first()"
   ]
  },
  {
   "cell_type": "code",
   "execution_count": 7,
   "metadata": {
    "colab": {
     "base_uri": "https://localhost:8080/"
    },
    "id": "B66bo-RKK266",
    "outputId": "967ff17c-0592-4d9a-e375-994a994104d2"
   },
   "outputs": [],
   "source": [
    "#query=f\"\"\"SELECT * FROM {project_id}.{dataset_id}.{table_name2}\"\"\"\n",
    "#engine.execute(query).first()"
   ]
  },
  {
   "cell_type": "code",
   "execution_count": 8,
   "metadata": {
    "colab": {
     "base_uri": "https://localhost:8080/"
    },
    "id": "Cw2oOnvkK3QD",
    "outputId": "7107f65e-1877-4f96-cda7-adf9ae59f205"
   },
   "outputs": [],
   "source": [
    "#query=f\"\"\"SELECT * FROM {project_id}.{dataset_id}.{table_name3}\"\"\"\n",
    "#engine.execute(query).first()"
   ]
  },
  {
   "cell_type": "markdown",
   "metadata": {
    "id": "mpW-rMVI0DUZ",
    "tags": []
   },
   "source": [
    "### SQL Chain setup for LLM"
   ]
  },
  {
   "cell_type": "code",
   "execution_count": 9,
   "metadata": {
    "id": "7JmfJcgP5EhU"
   },
   "outputs": [],
   "source": [
    "from langchain import SQLDatabase, SQLDatabaseChain\n",
    "from langchain.prompts.prompt import PromptTemplate\n",
    "\n",
    "def bq_qna(question):\n",
    "  #create SQLDatabase instance from BQ engine\n",
    "  db = SQLDatabase(engine=engine,metadata=MetaData(bind=engine),include_tables=[x for x in table_names])\n",
    "\n",
    "  #create SQL DB Chain with the initialized LLM and above SQLDB instance\n",
    "  db_chain = SQLDatabaseChain.from_llm(llm, db, verbose=True, return_intermediate_steps=True)\n",
    "\n",
    "  #Define prompt for BigQuery SQL\n",
    "  _googlesql_prompt = \"\"\"You are a GoogleSQL expert. Given an input question, first create a syntactically correct GoogleSQL query to run, then look at the results of the query and return the answer to the input question.\n",
    "  Unless the user specifies in the question a specific number of examples to obtain, query for at most {top_k} results using the LIMIT clause as per GoogleSQL. You can order the results to return the most informative data in the database.\n",
    "  Never query for all columns from a table. You must query only the columns that are needed to answer the question. Wrap each column name in backticks (`) to denote them as delimited identifiers.\n",
    "  Pay attention to use only the column names you can see in the tables below. Be careful to not query for columns that do not exist. Also, pay attention to which column is in which table.\n",
    "  Use the following format:\n",
    "  Question: \"Question here\"\n",
    "  SQLQuery: \"SQL Query to run\"\n",
    "  SQLResult: \"Result of the SQLQuery\"\n",
    "  Answer: \"Final answer here\"\n",
    "  Only use the following tables:\n",
    "  {table_info}\n",
    "\n",
    "  If someone asks for aggregation on a STRING data type column, then CAST column as NUMERIC before you do the aggregation.\n",
    "\n",
    "  If someone asks for specific month, use ActivityDate between current month's start date and current month's end date\n",
    "\n",
    "  If someone asks for column names in the table, use the following format:\n",
    "  SELECT column_name\n",
    "  FROM `{project_id}.{dataset_id}`.INFORMATION_SCHEMA.COLUMNS\n",
    "  WHERE table_name in {table_info}\n",
    "\n",
    "  Question: {input}\"\"\"\n",
    "\n",
    "  GOOGLESQL_PROMPT = PromptTemplate(\n",
    "      input_variables=[\"input\", \"table_info\", \"top_k\", \"project_id\", \"dataset_id\"],\n",
    "      template=_googlesql_prompt,\n",
    "  )\n",
    "\n",
    "  #passing question to the prompt template\n",
    "  final_prompt = GOOGLESQL_PROMPT.format(input=question, project_id =project_id, dataset_id=dataset_id, table_info=table_names, top_k=10000)\n",
    "\n",
    "  #pass final prompt to SQL Chain\n",
    "  output = db_chain(final_prompt)\n",
    "\n",
    "\n",
    "  return output['result'], output['intermediate_steps'][0]\n"
   ]
  },
  {
   "cell_type": "markdown",
   "metadata": {
    "id": "LAlVAHPe16Xr",
    "tags": []
   },
   "source": [
    "### Testing the setup"
   ]
  },
  {
   "cell_type": "code",
   "execution_count": 10,
   "metadata": {
    "colab": {
     "base_uri": "https://localhost:8080/"
    },
    "id": "F5wmsihBD4tS",
    "outputId": "60f561b2-51f9-40da-a250-0f13f3587aad"
   },
   "outputs": [
    {
     "name": "stdout",
     "output_type": "stream",
     "text": [
      "\n",
      "\n",
      "\u001b[1m> Entering new SQLDatabaseChain chain...\u001b[0m\n",
      "You are a GoogleSQL expert. Given an input question, first create a syntactically correct GoogleSQL query to run, then look at the results of the query and return the answer to the input question.\n",
      "  Unless the user specifies in the question a specific number of examples to obtain, query for at most 10000 results using the LIMIT clause as per GoogleSQL. You can order the results to return the most informative data in the database.\n",
      "  Never query for all columns from a table. You must query only the columns that are needed to answer the question. Wrap each column name in backticks (`) to denote them as delimited identifiers.\n",
      "  Pay attention to use only the column names you can see in the tables below. Be careful to not query for columns that do not exist. Also, pay attention to which column is in which table.\n",
      "  Use the following format:\n",
      "  Question: \"Question here\"\n",
      "  SQLQuery: \"SQL Query to run\"\n",
      "  SQLResult: \"Result of the SQLQuery\"\n",
      "  Answer: \"Final answer here\"\n",
      "  Only use the following tables:\n",
      "  ('order_items', 'orders')\n",
      "\n",
      "  If someone asks for aggregation on a STRING data type column, then CAST column as NUMERIC before you do the aggregation.\n",
      "\n",
      "  If someone asks for specific month, use ActivityDate between current month's start date and current month's end date\n",
      "\n",
      "  If someone asks for column names in the table, use the following format:\n",
      "  SELECT column_name\n",
      "  FROM `mg-ce-demos.thelook_ecommerce`.INFORMATION_SCHEMA.COLUMNS\n",
      "  WHERE table_name in ('order_items', 'orders')\n",
      "\n",
      "  Question: What is the average order amount for all rows\n",
      "SQLQuery:\u001b[32;1m\u001b[1;3mSELECT AVG(sale_price) AS average_order_amount FROM `mg-ce-demos.thelook_ecommerce.order_items`\u001b[0m\n",
      "SQLResult: \u001b[33;1m\u001b[1;3m[(59.74710694107524,)]\u001b[0m\n",
      "Answer:\u001b[32;1m\u001b[1;3m59.74710694107524\u001b[0m\n",
      "\u001b[1m> Finished chain.\u001b[0m\n"
     ]
    },
    {
     "data": {
      "text/plain": [
       "('59.74710694107524',\n",
       " 'SELECT AVG(sale_price) AS average_order_amount FROM `mg-ce-demos.thelook_ecommerce.order_items`')"
      ]
     },
     "execution_count": 10,
     "metadata": {},
     "output_type": "execute_result"
    }
   ],
   "source": [
    "#Testing 1\n",
    "bq_qna('What is the average order amount for all rows')"
   ]
  },
  {
   "cell_type": "code",
   "execution_count": 11,
   "metadata": {
    "colab": {
     "base_uri": "https://localhost:8080/"
    },
    "id": "-ypFevIgGNl1",
    "outputId": "e7b8598d-29b3-4122-ab80-d8a014138217"
   },
   "outputs": [
    {
     "name": "stdout",
     "output_type": "stream",
     "text": [
      "\n",
      "\n",
      "\u001b[1m> Entering new SQLDatabaseChain chain...\u001b[0m\n",
      "You are a GoogleSQL expert. Given an input question, first create a syntactically correct GoogleSQL query to run, then look at the results of the query and return the answer to the input question.\n",
      "  Unless the user specifies in the question a specific number of examples to obtain, query for at most 10000 results using the LIMIT clause as per GoogleSQL. You can order the results to return the most informative data in the database.\n",
      "  Never query for all columns from a table. You must query only the columns that are needed to answer the question. Wrap each column name in backticks (`) to denote them as delimited identifiers.\n",
      "  Pay attention to use only the column names you can see in the tables below. Be careful to not query for columns that do not exist. Also, pay attention to which column is in which table.\n",
      "  Use the following format:\n",
      "  Question: \"Question here\"\n",
      "  SQLQuery: \"SQL Query to run\"\n",
      "  SQLResult: \"Result of the SQLQuery\"\n",
      "  Answer: \"Final answer here\"\n",
      "  Only use the following tables:\n",
      "  ('order_items', 'orders')\n",
      "\n",
      "  If someone asks for aggregation on a STRING data type column, then CAST column as NUMERIC before you do the aggregation.\n",
      "\n",
      "  If someone asks for specific month, use ActivityDate between current month's start date and current month's end date\n",
      "\n",
      "  If someone asks for column names in the table, use the following format:\n",
      "  SELECT column_name\n",
      "  FROM `mg-ce-demos.thelook_ecommerce`.INFORMATION_SCHEMA.COLUMNS\n",
      "  WHERE table_name in ('order_items', 'orders')\n",
      "\n",
      "  Question: what are the columns in the table order_items\n",
      "SQLQuery:\u001b[32;1m\u001b[1;3mSELECT column_name\n",
      "FROM `mg-ce-demos.thelook_ecommerce`.INFORMATION_SCHEMA.COLUMNS\n",
      "WHERE table_name = 'order_items'\u001b[0m\n",
      "SQLResult: \u001b[33;1m\u001b[1;3m[('id',), ('order_id',), ('user_id',), ('product_id',), ('inventory_item_id',), ('status',), ('created_at',), ('shipped_at',), ('delivered_at',), ('returned_at',), ('sale_price',)]\u001b[0m\n",
      "Answer:\u001b[32;1m\u001b[1;3mid, order_id, user_id, product_id, inventory_item_id, status, created_at, shipped_at, delivered_at, returned_at, sale_price\u001b[0m\n",
      "\u001b[1m> Finished chain.\u001b[0m\n"
     ]
    },
    {
     "data": {
      "text/plain": [
       "('id, order_id, user_id, product_id, inventory_item_id, status, created_at, shipped_at, delivered_at, returned_at, sale_price',\n",
       " \"SELECT column_name\\nFROM `mg-ce-demos.thelook_ecommerce`.INFORMATION_SCHEMA.COLUMNS\\nWHERE table_name = 'order_items'\")"
      ]
     },
     "execution_count": 11,
     "metadata": {},
     "output_type": "execute_result"
    }
   ],
   "source": [
    "#Testing 2\n",
    "bq_qna('what are the columns in the table order_items')"
   ]
  },
  {
   "cell_type": "markdown",
   "metadata": {
    "id": "9Hj4JSWf2JKF",
    "tags": []
   },
   "source": [
    "### UI for Demo"
   ]
  },
  {
   "cell_type": "code",
   "execution_count": 12,
   "metadata": {
    "colab": {
     "base_uri": "https://localhost:8080/",
     "height": 616
    },
    "id": "SGyd67aqXfLV",
    "outputId": "df84f8c6-000a-4948-95d9-fc7a23c4b615"
   },
   "outputs": [
    {
     "name": "stdout",
     "output_type": "stream",
     "text": [
      "Running on local URL:  http://127.0.0.1:7861\n",
      "\n",
      "To create a public link, set `share=True` in `launch()`.\n"
     ]
    },
    {
     "data": {
      "text/html": [
       "<div><iframe src=\"http://127.0.0.1:7861/\" width=\"100%\" height=\"500\" allow=\"autoplay; camera; microphone; clipboard-read; clipboard-write;\" frameborder=\"0\" allowfullscreen></iframe></div>"
      ],
      "text/plain": [
       "<IPython.core.display.HTML object>"
      ]
     },
     "metadata": {},
     "output_type": "display_data"
    },
    {
     "data": {
      "text/plain": []
     },
     "execution_count": 12,
     "metadata": {},
     "output_type": "execute_result"
    }
   ],
   "source": [
    "import gradio as gr\n",
    "\n",
    "with gr.Blocks() as demo:\n",
    "    gr.Markdown(\n",
    "    \"\"\"\n",
    "    ## Ask BiqQuery\n",
    "\n",
    "    This demo is to showcase answering questions on a tabular data available in Big Query using Vertex PALM LLM & Langchain.\n",
    "\n",
    "    This demo uses a sample public dataset from Kaggle (https://www.kaggle.com/datasets/arashnic/fitbit)\n",
    "\n",
    "    ### Sample Inputs:\n",
    "    1. what is the minimum number of steps taken by user 1644430081 ?\n",
    "    2. what is the average steps covered by 1644430081?\n",
    "    3. what is the highest number of Calories burnt in the month of May by 1644430081 ?\n",
    "\n",
    "    ### Enter a search query...\n",
    "\n",
    "    \"\"\")\n",
    "    with gr.Row():\n",
    "      with gr.Column():\n",
    "        input_text = gr.Textbox(label=\"Question\", placeholder=\"what is the minimum steps taken by 1644430081\")\n",
    "\n",
    "    with gr.Row():\n",
    "      generate = gr.Button(\"Ask BigQuery\")\n",
    "\n",
    "    with gr.Row():\n",
    "      label2 = gr.Textbox(label=\"Output\")\n",
    "    with gr.Row():\n",
    "      label3 = gr.Textbox(label=\"SQL query generated by LLM\")\n",
    "\n",
    "    generate.click(bq_qna,input_text, [label2, label3])\n",
    "demo.launch(share=False, debug=False)"
   ]
  },
  {
   "cell_type": "code",
   "execution_count": null,
   "metadata": {},
   "outputs": [],
   "source": []
  },
  {
   "cell_type": "code",
   "execution_count": null,
   "metadata": {},
   "outputs": [],
   "source": []
  }
 ],
 "metadata": {
  "colab": {
   "collapsed_sections": [
    "UEv34vVKxR9k",
    "aPh6goEQyKsD",
    "LqDhLithzJgd",
    "mpW-rMVI0DUZ",
    "LAlVAHPe16Xr"
   ],
   "provenance": [],
   "toc_visible": true
  },
  "kernelspec": {
   "display_name": "Python 3 (ipykernel)",
   "language": "python",
   "name": "python3"
  },
  "language_info": {
   "codemirror_mode": {
    "name": "ipython",
    "version": 3
   },
   "file_extension": ".py",
   "mimetype": "text/x-python",
   "name": "python",
   "nbconvert_exporter": "python",
   "pygments_lexer": "ipython3",
   "version": "3.9.6"
  }
 },
 "nbformat": 4,
 "nbformat_minor": 4
}
