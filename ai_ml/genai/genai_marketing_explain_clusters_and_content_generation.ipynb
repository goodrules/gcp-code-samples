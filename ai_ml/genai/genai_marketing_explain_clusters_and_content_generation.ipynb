{
 "cells": [
  {
   "cell_type": "markdown",
   "metadata": {
    "id": "Sxq-V_jV4gEk",
    "tags": []
   },
   "source": [
    "# Using the Vertex AI PaLM API to explain BQML Clustering - Our Very Own Persona Builder"
   ]
  },
  {
   "cell_type": "markdown",
   "metadata": {
    "tags": []
   },
   "source": [
    "## Here's what we're going to build:"
   ]
  },
  {
   "cell_type": "markdown",
   "metadata": {},
   "source": [
    "<p align=\"center\">\n",
    "  <img alt=\"Conceptual Flow\" src=\"slides/process0.png\" width=\"100%\">\n",
    "</p>"
   ]
  },
  {
   "cell_type": "markdown",
   "metadata": {
    "id": "sHoUOuxf5GOR",
    "tags": []
   },
   "source": [
    "# Core code\n",
    "Let's define some variables that will be used throughout this notebook.\n",
    "\n",
    "These are the GCP Project ID `project_id`, the Model name `model_name` which is any name you prefer, and finally the Dataset name `dataset_name`.\n",
    "The dataset needs to exist in the same Project as `project_id` and you'll need appropriate access to create and delete."
   ]
  },
  {
   "cell_type": "markdown",
   "metadata": {
    "tags": []
   },
   "source": [
    "## Setup"
   ]
  },
  {
   "cell_type": "code",
   "execution_count": 23,
   "metadata": {
    "id": "fU3_zsLsZ89c"
   },
   "outputs": [
    {
     "name": "stdout",
     "output_type": "stream",
     "text": [
      "Vertex AI version: 1.41.0\n"
     ]
    }
   ],
   "source": [
    "from typing import Union\n",
    "import sys\n",
    "\n",
    "import os\n",
    "import io\n",
    "import json\n",
    "import base64\n",
    "import requests\n",
    "import concurrent.futures\n",
    "import time\n",
    "\n",
    "import numpy as np\n",
    "import pandas as pd\n",
    "\n",
    "import vertexai\n",
    "from vertexai.language_models import TextGenerationModel, TextEmbeddingModel\n",
    "from vertexai.preview.language_models import TextGenerationModel as TextGenerationModel_preview\n",
    "from vertexai.preview.generative_models import GenerativeModel, Part, Image\n",
    "\n",
    "from google.cloud import aiplatform\n",
    "from google.cloud import documentai\n",
    "from google.cloud.documentai_v1 import Document\n",
    "from google.cloud import storage\n",
    "from google.cloud import bigquery\n",
    "\n",
    "from IPython.display import display, Markdown, Latex\n",
    "import markdown\n",
    "\n",
    "print(\"Vertex AI version: \" + str(aiplatform.__version__))"
   ]
  },
  {
   "cell_type": "code",
   "execution_count": 2,
   "metadata": {
    "id": "_3Rfhx874F2J"
   },
   "outputs": [],
   "source": [
    "PROJECT_ID = 'mg-ce-demos'\n",
    "REGION = 'us-central1'\n",
    "DATASET = \"bqml_demos\" \n",
    "BQML_MODEL = \"ecommerce_customer_segment_cluster5\" \n",
    "EVAL = BQML_MODEL + \"_eval\"\n"
   ]
  },
  {
   "cell_type": "code",
   "execution_count": 3,
   "metadata": {},
   "outputs": [],
   "source": [
    "# vertex ai clients\n",
    "vertexai.init(project = PROJECT_ID, location = REGION)\n",
    "aiplatform.init(project = PROJECT_ID, location = REGION)\n",
    "\n",
    "# bigquery client\n",
    "bq = bigquery.Client(project = PROJECT_ID)"
   ]
  },
  {
   "cell_type": "markdown",
   "metadata": {
    "id": "WnXQQOAc4t22",
    "tags": []
   },
   "source": [
    "## Create a K-means model to cluster ecommerce data"
   ]
  },
  {
   "cell_type": "markdown",
   "metadata": {},
   "source": [
    "### Let's look at the data first"
   ]
  },
  {
   "cell_type": "markdown",
   "metadata": {},
   "source": [
    "<p align=\"center\">\n",
    "  <img alt=\"Conceptual Flow\" src=\"slides/process1.png\" width=\"100%\">\n",
    "</p>"
   ]
  },
  {
   "cell_type": "code",
   "execution_count": 4,
   "metadata": {
    "colab": {
     "base_uri": "https://localhost:8080/",
     "height": 206
    },
    "id": "V6-JiJZBGmO7",
    "outputId": "88ba2b72-5c73-434f-94ea-5025ec7f7e7c"
   },
   "outputs": [
    {
     "data": {
      "text/html": [
       "<div>\n",
       "<style scoped>\n",
       "    .dataframe tbody tr th:only-of-type {\n",
       "        vertical-align: middle;\n",
       "    }\n",
       "\n",
       "    .dataframe tbody tr th {\n",
       "        vertical-align: top;\n",
       "    }\n",
       "\n",
       "    .dataframe thead th {\n",
       "        text-align: right;\n",
       "    }\n",
       "</style>\n",
       "<table border=\"1\" class=\"dataframe\">\n",
       "  <thead>\n",
       "    <tr style=\"text-align: right;\">\n",
       "      <th></th>\n",
       "      <th>user_id</th>\n",
       "      <th>order_id</th>\n",
       "      <th>sale_price</th>\n",
       "      <th>order_created_date</th>\n",
       "    </tr>\n",
       "  </thead>\n",
       "  <tbody>\n",
       "    <tr>\n",
       "      <th>0</th>\n",
       "      <td>40085</td>\n",
       "      <td>50021</td>\n",
       "      <td>2.5</td>\n",
       "      <td>2023-04-07 08:09:34+00:00</td>\n",
       "    </tr>\n",
       "    <tr>\n",
       "      <th>1</th>\n",
       "      <td>90363</td>\n",
       "      <td>112961</td>\n",
       "      <td>2.5</td>\n",
       "      <td>2022-12-25 23:23:29+00:00</td>\n",
       "    </tr>\n",
       "    <tr>\n",
       "      <th>2</th>\n",
       "      <td>3922</td>\n",
       "      <td>4887</td>\n",
       "      <td>2.5</td>\n",
       "      <td>2022-09-29 13:47:16+00:00</td>\n",
       "    </tr>\n",
       "    <tr>\n",
       "      <th>3</th>\n",
       "      <td>56076</td>\n",
       "      <td>70152</td>\n",
       "      <td>2.5</td>\n",
       "      <td>2022-03-27 03:01:23+00:00</td>\n",
       "    </tr>\n",
       "    <tr>\n",
       "      <th>4</th>\n",
       "      <td>90828</td>\n",
       "      <td>113540</td>\n",
       "      <td>2.5</td>\n",
       "      <td>2023-03-18 08:30:11+00:00</td>\n",
       "    </tr>\n",
       "  </tbody>\n",
       "</table>\n",
       "</div>"
      ],
      "text/plain": [
       "   user_id  order_id  sale_price        order_created_date\n",
       "0    40085     50021         2.5 2023-04-07 08:09:34+00:00\n",
       "1    90363    112961         2.5 2022-12-25 23:23:29+00:00\n",
       "2     3922      4887         2.5 2022-09-29 13:47:16+00:00\n",
       "3    56076     70152         2.5 2022-03-27 03:01:23+00:00\n",
       "4    90828    113540         2.5 2023-03-18 08:30:11+00:00"
      ]
     },
     "execution_count": 4,
     "metadata": {},
     "output_type": "execute_result"
    }
   ],
   "source": [
    "query = \"\"\"\n",
    "SELECT\n",
    "  user_id,\n",
    "  order_id,\n",
    "  sale_price,\n",
    "  created_at as order_created_date\n",
    "FROM `mg-ce-demos.thelook_ecommerce.order_items`\n",
    "WHERE created_at BETWEEN CAST('2022-01-01 00:00:00' AS TIMESTAMP)\n",
    "AND CAST('2024-01-01 00:00:00' AS TIMESTAMP)\n",
    "\"\"\"\n",
    "df = bq.query(query).to_dataframe()\n",
    "df.head()\n"
   ]
  },
  {
   "cell_type": "markdown",
   "metadata": {
    "id": "jQKfCgZ9FZH5",
    "tags": []
   },
   "source": [
    "### `CREATE MODEL` using `KMEANS`\n",
    "\n",
    "Create a query then start the model creation job, using a python loop to wait for the job to complete"
   ]
  },
  {
   "cell_type": "markdown",
   "metadata": {},
   "source": [
    "<p align=\"center\">\n",
    "  <img alt=\"Conceptual Flow\" src=\"slides/process2.png\" width=\"100%\">\n",
    "</p>"
   ]
  },
  {
   "cell_type": "markdown",
   "metadata": {},
   "source": [
    "#### model code"
   ]
  },
  {
   "cell_type": "code",
   "execution_count": 5,
   "metadata": {
    "id": "KiB2gPEvFkkd"
   },
   "outputs": [],
   "source": [
    "query = \"\"\"\n",
    "CREATE MODEL IF NOT EXISTS `{0}.{1}`\n",
    "OPTIONS (\n",
    "  MODEL_TYPE = \"KMEANS\",\n",
    "  NUM_CLUSTERS = 5,\n",
    "  KMEANS_INIT_METHOD = \"KMEANS++\",\n",
    "  STANDARDIZE_FEATURES = TRUE )\n",
    "AS (\n",
    "SELECT * EXCEPT (user_id)\n",
    "FROM (\n",
    "  SELECT user_id,\n",
    "    DATE_DIFF(CURRENT_DATE(), CAST(MAX(order_created_date) as DATE), day) AS days_since_order, -- RECENCY\n",
    "    COUNT(order_id) AS count_orders, -- FREQUENCY\n",
    "    AVG(sale_price) AS avg_spend -- MONETARY\n",
    "  FROM (\n",
    "    SELECT user_id,\n",
    "      order_id,\n",
    "      sale_price,\n",
    "      created_at as order_created_date\n",
    "    FROM `mg-ce-demos.thelook_ecommerce.order_items`\n",
    "    WHERE created_at BETWEEN CAST('2022-01-01 00:00:00' AS TIMESTAMP)\n",
    "    AND CAST('2024-01-01 00:00:00' AS TIMESTAMP)\n",
    "  )\n",
    "  GROUP BY user_id, order_id\n",
    " )\n",
    ")\n",
    "\"\"\".format(DATASET, BQML_MODEL)\n"
   ]
  },
  {
   "cell_type": "code",
   "execution_count": 6,
   "metadata": {
    "id": "_9lZPWXtNwbN"
   },
   "outputs": [],
   "source": [
    "# Wrapper to use BigQuery client to run query/job, return job ID or result as DF\n",
    "def run_bq_query(sql: str) -> Union[str, pd.DataFrame]:\n",
    "    \n",
    "    # Try dry run before executing query to catch any errors\n",
    "    #job_config = bigquery.QueryJobConfig(dry_run=True, use_query_cache=False)\n",
    "    #bq.query(sql, job_config=job_config)\n",
    "\n",
    "    # If dry run succeeds without errors, proceed to run query\n",
    "    job_config = bigquery.QueryJobConfig()\n",
    "    client_result = bq.query(sql, job_config=job_config)\n",
    "\n",
    "    job_id = client_result.job_id\n",
    "\n",
    "    # Wait for query/job to finish running. then get & return data frame\n",
    "    df = client_result.result().to_arrow().to_pandas()\n",
    "    print(f\"Finished job_id: {job_id}\")\n",
    "    return df"
   ]
  },
  {
   "cell_type": "code",
   "execution_count": 7,
   "metadata": {
    "colab": {
     "base_uri": "https://localhost:8080/",
     "height": 615
    },
    "id": "0RqNFZdVKDW6",
    "outputId": "33ea669b-40a8-4b16-b32d-bbc0b164d23b"
   },
   "outputs": [
    {
     "name": "stdout",
     "output_type": "stream",
     "text": [
      "Finished job_id: d8286e3b-9c0f-4333-b62d-3f3c1a255be9\n",
      "Finished job_id: 11bc6c95-c031-4418-916d-8ddae9727c88\n",
      "Finished job_id: c96b1d75-14a0-42d6-ba23-2bcfe683396d\n",
      "Finished job_id: 3ff7479b-3c91-4fa8-a758-44c435de1523\n",
      "Finished job_id: 6b70b8d1-36fa-4f0e-b2a5-b592c73509cd\n",
      "Finished job_id: d534964e-e2f7-4df5-9f30-6393862d1e4d\n",
      "Finished job_id: c559e7d4-7953-4f61-92ca-71971960f7c6\n",
      "Finished job_id: 543ee217-fd26-480c-891c-db1ee27de466\n",
      "The slowest run took 4.65 times longer than the fastest. This could mean that an intermediate result is being cached.\n",
      "1.9 s ± 1.53 s per loop (mean ± std. dev. of 7 runs, 1 loop each)\n"
     ]
    }
   ],
   "source": [
    "%%timeit\n",
    "\n",
    "run_bq_query(query)"
   ]
  },
  {
   "cell_type": "markdown",
   "metadata": {
    "id": "mYN7F_f3PeE5"
   },
   "source": [
    "Let's take a look at the model's clustering performance, using these metrics - Davies Bouldin Index and Mean Squared Distance"
   ]
  },
  {
   "cell_type": "code",
   "execution_count": 8,
   "metadata": {
    "colab": {
     "base_uri": "https://localhost:8080/",
     "height": 98
    },
    "id": "wDy9-26SFnuS",
    "outputId": "9cfb0a00-d7eb-470c-ef9f-d709d5b6bbb7"
   },
   "outputs": [
    {
     "name": "stdout",
     "output_type": "stream",
     "text": [
      "Finished job_id: ca69d7e2-a7c1-49b7-8b3d-b5a0ccc9ee5b\n"
     ]
    },
    {
     "data": {
      "text/html": [
       "<div>\n",
       "<style scoped>\n",
       "    .dataframe tbody tr th:only-of-type {\n",
       "        vertical-align: middle;\n",
       "    }\n",
       "\n",
       "    .dataframe tbody tr th {\n",
       "        vertical-align: top;\n",
       "    }\n",
       "\n",
       "    .dataframe thead th {\n",
       "        text-align: right;\n",
       "    }\n",
       "</style>\n",
       "<table border=\"1\" class=\"dataframe\">\n",
       "  <thead>\n",
       "    <tr style=\"text-align: right;\">\n",
       "      <th></th>\n",
       "      <th>davies_bouldin_index</th>\n",
       "      <th>mean_squared_distance</th>\n",
       "    </tr>\n",
       "  </thead>\n",
       "  <tbody>\n",
       "    <tr>\n",
       "      <th>0</th>\n",
       "      <td>1.023378</td>\n",
       "      <td>1.051785</td>\n",
       "    </tr>\n",
       "  </tbody>\n",
       "</table>\n",
       "</div>"
      ],
      "text/plain": [
       "   davies_bouldin_index  mean_squared_distance\n",
       "0              1.023378               1.051785"
      ]
     },
     "execution_count": 8,
     "metadata": {},
     "output_type": "execute_result"
    }
   ],
   "source": [
    "query = \"\"\"\n",
    "SELECT *\n",
    "FROM ML.EVALUATE(MODEL `{0}.{1}`)\n",
    "\"\"\".format(DATASET, BQML_MODEL)\n",
    "\n",
    "run_bq_query(query)"
   ]
  },
  {
   "cell_type": "markdown",
   "metadata": {
    "id": "t1RNh1NqPpJ2"
   },
   "source": [
    "### Now let's get the cluster (centroid) information"
   ]
  },
  {
   "cell_type": "markdown",
   "metadata": {},
   "source": [
    "<p align=\"center\">\n",
    "  <img alt=\"Conceptual Flow\" src=\"slides/process3.png\" width=\"100%\">\n",
    "</p>"
   ]
  },
  {
   "cell_type": "code",
   "execution_count": 9,
   "metadata": {
    "colab": {
     "base_uri": "https://localhost:8080/",
     "height": 224
    },
    "id": "H2czyn5zPvhJ",
    "outputId": "01887c23-2c83-44fc-ae8a-366ba2f9c828"
   },
   "outputs": [
    {
     "name": "stdout",
     "output_type": "stream",
     "text": [
      "Finished job_id: 01b0ad9b-fad2-4ef4-a056-ca941a93751f\n"
     ]
    },
    {
     "data": {
      "text/html": [
       "<div>\n",
       "<style scoped>\n",
       "    .dataframe tbody tr th:only-of-type {\n",
       "        vertical-align: middle;\n",
       "    }\n",
       "\n",
       "    .dataframe tbody tr th {\n",
       "        vertical-align: top;\n",
       "    }\n",
       "\n",
       "    .dataframe thead th {\n",
       "        text-align: right;\n",
       "    }\n",
       "</style>\n",
       "<table border=\"1\" class=\"dataframe\">\n",
       "  <thead>\n",
       "    <tr style=\"text-align: right;\">\n",
       "      <th></th>\n",
       "      <th>centroid</th>\n",
       "      <th>average_spend</th>\n",
       "      <th>count_of_orders</th>\n",
       "      <th>days_since_order</th>\n",
       "    </tr>\n",
       "  </thead>\n",
       "  <tbody>\n",
       "    <tr>\n",
       "      <th>0</th>\n",
       "      <td>cluster 1</td>\n",
       "      <td>49.44</td>\n",
       "      <td>1.23</td>\n",
       "      <td>102.87</td>\n",
       "    </tr>\n",
       "    <tr>\n",
       "      <th>1</th>\n",
       "      <td>cluster 2</td>\n",
       "      <td>59.56</td>\n",
       "      <td>3.51</td>\n",
       "      <td>87.90</td>\n",
       "    </tr>\n",
       "    <tr>\n",
       "      <th>2</th>\n",
       "      <td>cluster 3</td>\n",
       "      <td>251.34</td>\n",
       "      <td>1.14</td>\n",
       "      <td>205.85</td>\n",
       "    </tr>\n",
       "    <tr>\n",
       "      <th>3</th>\n",
       "      <td>cluster 4</td>\n",
       "      <td>57.47</td>\n",
       "      <td>3.49</td>\n",
       "      <td>354.32</td>\n",
       "    </tr>\n",
       "    <tr>\n",
       "      <th>4</th>\n",
       "      <td>cluster 5</td>\n",
       "      <td>48.87</td>\n",
       "      <td>1.22</td>\n",
       "      <td>376.50</td>\n",
       "    </tr>\n",
       "  </tbody>\n",
       "</table>\n",
       "</div>"
      ],
      "text/plain": [
       "    centroid  average_spend  count_of_orders  days_since_order\n",
       "0  cluster 1          49.44             1.23            102.87\n",
       "1  cluster 2          59.56             3.51             87.90\n",
       "2  cluster 3         251.34             1.14            205.85\n",
       "3  cluster 4          57.47             3.49            354.32\n",
       "4  cluster 5          48.87             1.22            376.50"
      ]
     },
     "execution_count": 9,
     "metadata": {},
     "output_type": "execute_result"
    }
   ],
   "source": [
    "query = \"\"\"\n",
    "SELECT\n",
    "  CONCAT('cluster ', CAST(centroid_id as STRING)) as centroid,\n",
    "  avg_spend as average_spend,\n",
    "  count_orders as count_of_orders,\n",
    "  days_since_order\n",
    "FROM (\n",
    "  SELECT centroid_id, feature, ROUND(numerical_value, 2) as value\n",
    "  FROM ML.CENTROIDS(MODEL `{0}.{1}`)\n",
    ")\n",
    "PIVOT (\n",
    "  SUM(value)\n",
    "  FOR feature IN ('avg_spend',  'count_orders', 'days_since_order')\n",
    ")\n",
    "ORDER BY centroid_id\n",
    "\"\"\".format(DATASET, BQML_MODEL)\n",
    "\n",
    "run_bq_query(query)"
   ]
  },
  {
   "cell_type": "markdown",
   "metadata": {
    "id": "Xhha_o_qPwJY"
   },
   "source": [
    "Whew! That's a lot of metrics and cluster info. How about we explain this to our colleagues using the magic of LLMs."
   ]
  },
  {
   "cell_type": "code",
   "execution_count": 10,
   "metadata": {
    "colab": {
     "base_uri": "https://localhost:8080/"
    },
    "id": "AWzyZUFdRQll",
    "outputId": "12058437-f5e8-4877-b6d1-2bcf976495e7"
   },
   "outputs": [
    {
     "name": "stdout",
     "output_type": "stream",
     "text": [
      "cluster 1, average spend $49.44, count of orders per person 1.23, days since last order 102.87\n",
      "cluster 2, average spend $59.56, count of orders per person 3.51, days since last order 87.9\n",
      "cluster 3, average spend $251.34, count of orders per person 1.14, days since last order 205.85\n",
      "cluster 4, average spend $57.47, count of orders per person 3.49, days since last order 354.32\n",
      "cluster 5, average spend $48.87, count of orders per person 1.22, days since last order 376.5\n"
     ]
    }
   ],
   "source": [
    "df = bq.query(query).to_dataframe()\n",
    "df.to_string(header=False, index=False)\n",
    "\n",
    "cluster_info = []\n",
    "for i, row in df.iterrows():\n",
    "  cluster_info.append(\"{0}, average spend ${2}, count of orders per person {1}, days since last order {3}\"\n",
    "    .format(row[\"centroid\"], row[\"count_of_orders\"], row[\"average_spend\"], row[\"days_since_order\"]) )\n",
    "\n",
    "print(str.join(\"\\n\", cluster_info))"
   ]
  },
  {
   "cell_type": "markdown",
   "metadata": {
    "id": "7Na0_rVVLhOk",
    "tags": []
   },
   "source": [
    "## Explain with Vertex AI PaLM API"
   ]
  },
  {
   "cell_type": "markdown",
   "metadata": {
    "id": "tdoRB7RjLso6"
   },
   "source": [
    "### First, we want to instantiate the large language model and create the prompt"
   ]
  },
  {
   "cell_type": "markdown",
   "metadata": {},
   "source": [
    "<p align=\"center\">\n",
    "  <img alt=\"Conceptual Flow\" src=\"slides/process4.png\" width=\"100%\">\n",
    "</p>"
   ]
  },
  {
   "cell_type": "code",
   "execution_count": 11,
   "metadata": {},
   "outputs": [],
   "source": [
    "textgen_model = TextGenerationModel.from_pretrained('text-bison')"
   ]
  },
  {
   "cell_type": "code",
   "execution_count": 12,
   "metadata": {},
   "outputs": [],
   "source": [
    "def gemini_generate(prompt):\n",
    "    result = []\n",
    "    model = GenerativeModel(\"gemini-pro\")\n",
    "    responses = model.generate_content(\n",
    "        [prompt],\n",
    "        generation_config={\n",
    "            \"max_output_tokens\": 2048,\n",
    "            \"temperature\": 0.5,\n",
    "            \"top_p\": 1\n",
    "        },\n",
    "        stream=True,\n",
    "    )\n",
    "  \n",
    "    for response in responses:\n",
    "        result.append(response.candidates[0].content.parts[0].text)\n",
    "\n",
    "    result = ''.join(result)\n",
    "    return result"
   ]
  },
  {
   "cell_type": "code",
   "execution_count": 30,
   "metadata": {
    "colab": {
     "base_uri": "https://localhost:8080/"
    },
    "id": "MYwQNH0ELu9y",
    "outputId": "2204e6ec-e489-40e7-8cc3-485578ca5302",
    "tags": []
   },
   "outputs": [
    {
     "data": {
      "text/markdown": [
       "## Prompt:"
      ],
      "text/plain": [
       "<IPython.core.display.Markdown object>"
      ]
     },
     "metadata": {},
     "output_type": "display_data"
    },
    {
     "name": "stdout",
     "output_type": "stream",
     "text": [
      "Pretend you're a creative strategist, given the following clusters come up with creative brand persona and title labels for each of these clusters, \n",
      "and explain step by step; what would be the next marketing step for these clusters:\n",
      "\n",
      "\n",
      "cluster 1, average spend $49.44, count of orders per person 1.23, days since last order 102.87\n",
      "cluster 2, average spend $59.56, count of orders per person 3.51, days since last order 87.9\n",
      "cluster 3, average spend $251.34, count of orders per person 1.14, days since last order 205.85\n",
      "cluster 4, average spend $57.47, count of orders per person 3.49, days since last order 354.32\n",
      "cluster 5, average spend $48.87, count of orders per person 1.22, days since last order 376.5\n"
     ]
    }
   ],
   "source": [
    "preamble = \"\"\"Pretend you're a creative strategist, given the following clusters come up with creative brand persona and title labels for each of these clusters, \n",
    "and explain step by step; what would be the next marketing step for these clusters:\n",
    "\n",
    "\"\"\"\n",
    "prompt = preamble + \"\\n\" + str.join(\"\\n\", cluster_info)\n",
    "display(Markdown('## Prompt:'))\n",
    "print(prompt)\n",
    "#print(preamble)\n",
    "#print(str.join(\"\\n\", cluster_info))"
   ]
  },
  {
   "cell_type": "markdown",
   "metadata": {},
   "source": [
    "### Now, we send our prompt to Google GenAI API for some LLM magic"
   ]
  },
  {
   "cell_type": "markdown",
   "metadata": {},
   "source": [
    "<p align=\"center\">\n",
    "  <img alt=\"Conceptual Flow\" src=\"slides/process5.png\" width=\"100%\">\n",
    "</p>"
   ]
  },
  {
   "cell_type": "code",
   "execution_count": 31,
   "metadata": {},
   "outputs": [
    {
     "data": {
      "text/markdown": [
       "## Response:"
      ],
      "text/plain": [
       "<IPython.core.display.Markdown object>"
      ]
     },
     "metadata": {},
     "output_type": "display_data"
    },
    {
     "data": {
      "text/markdown": [
       " **Cluster 1: \"The Occasional Shoppers\"**\n",
       "\n",
       "* Brand persona: These customers are typically busy individuals who don't have a lot of time to shop. They're looking for convenience and value, and they're not particularly brand-loyal.\n",
       "* Title label: \"The Occasional Shoppers\"\n",
       "* Next marketing step: Offer these customers discounts and promotions to encourage them to shop more frequently. You could also try sending them personalized emails with product recommendations based on their past purchases.\n",
       "\n",
       "**Cluster 2: \"The Regulars\"**\n",
       "\n",
       "* Brand persona: These customers are loyal to your brand and they shop with you on a regular basis. They're typically familiar with your products and they're happy with the quality and value that you offer.\n",
       "* Title label: \"The Regulars\"\n",
       "* Next marketing step: Reward these customers for their loyalty with exclusive discounts and offers. You could also try sending them personalized emails with thank-you notes and special promotions.\n",
       "\n",
       "**Cluster 3: \"The Big Spenders\"**\n",
       "\n",
       "* Brand persona: These customers are high-value customers who spend a lot of money with your brand. They're typically affluent and they're looking for luxury and exclusivity.\n",
       "* Title label: \"The Big Spenders\"\n",
       "* Next marketing step: Offer these customers VIP treatment, such as early access to new products, exclusive discounts, and personalized customer service. You could also try sending them handwritten thank-you notes and gifts.\n",
       "\n",
       "**Cluster 4: \"The Lapsed Customers\"**\n",
       "\n",
       "* Brand persona: These customers used to shop with you regularly, but they haven't made a purchase in a while. They may have been lost to a competitor or they may have simply lost interest in your brand.\n",
       "* Title label: \"The Lapsed Customers\"\n",
       "* Next marketing step: Try to win back these customers by sending them personalized emails with special offers and discounts. You could also try running a social media campaign to remind them of your brand.\n",
       "\n",
       "**Cluster 5: \"The One-Time Buyers\"**\n",
       "\n",
       "* Brand persona: These customers have only made one purchase from your brand. They may have been satisfied with their purchase, but they haven't been motivated to shop with you again.\n",
       "* Title label: \"The One-Time Buyers\"\n",
       "* Next marketing step: Try to convert these customers into repeat customers by sending them personalized emails with product recommendations and special offers. You could also try running a social media campaign to remind them of your brand."
      ],
      "text/plain": [
       "<IPython.core.display.Markdown object>"
      ]
     },
     "metadata": {},
     "output_type": "display_data"
    }
   ],
   "source": [
    "response = textgen_model.predict(\n",
    "   prompt,\n",
    "    max_output_tokens=1024,\n",
    "    temperature=0.4,\n",
    "    top_p=0.8,\n",
    "    top_k=40,\n",
    ")\n",
    "\n",
    "display(Markdown('## Response:'))\n",
    "# Send prompt to LLM\n",
    "display(Markdown(response.text))"
   ]
  },
  {
   "cell_type": "code",
   "execution_count": 32,
   "metadata": {},
   "outputs": [
    {
     "data": {
      "text/markdown": [
       "## Response:"
      ],
      "text/plain": [
       "<IPython.core.display.Markdown object>"
      ]
     },
     "metadata": {},
     "output_type": "display_data"
    },
    {
     "data": {
      "text/markdown": [
       "**Cluster 1: \"Occasional Shoppers\"**\n",
       "\n",
       "* Title Label: \"Budget-Conscious Explorers\"\n",
       "\n",
       "**Cluster 2: \"Regular Shoppers\"**\n",
       "\n",
       "* Title Label: \"Value-Seeking Repeaters\"\n",
       "\n",
       "**Cluster 3: \"Loyal Customers\"**\n",
       "\n",
       "* Title Label: \"Exclusive Connoisseurs\"\n",
       "\n",
       "**Cluster 4: \"Infrequent Buyers\"**\n",
       "\n",
       "* Title Label: \"Selective Spenders\"\n",
       "\n",
       "**Cluster 5: \"Dormant Customers\"**\n",
       "\n",
       "* Title Label: \"Forgotten Loyalists\"\n",
       "\n",
       "**Next Marketing Step for Each Cluster:**\n",
       "\n",
       "**Cluster 1: Occasional Shoppers**\n",
       "\n",
       "* Focus on personalized promotions and discounts to encourage repeat purchases.\n",
       "* Offer incentives for referrals to increase customer base.\n",
       "\n",
       "**Cluster 2: Regular Shoppers**\n",
       "\n",
       "* Reward loyalty with personalized offers and exclusive perks.\n",
       "* Upsell complementary products and services to increase average spend.\n",
       "\n",
       "**Cluster 3: Loyal Customers**\n",
       "\n",
       "* Maintain exceptional customer service to foster brand advocacy.\n",
       "* Offer exclusive access to new products and experiences to enhance loyalty.\n",
       "\n",
       "**Cluster 4: Infrequent Buyers**\n",
       "\n",
       "* Send targeted campaigns to re-engage customers and remind them of the brand.\n",
       "* Offer limited-time promotions or incentives to encourage purchases.\n",
       "\n",
       "**Cluster 5: Dormant Customers**\n",
       "\n",
       "* Conduct market research to understand reasons for inactivity.\n",
       "* Send personalized re-engagement emails or offer incentives to reactivate customers."
      ],
      "text/plain": [
       "<IPython.core.display.Markdown object>"
      ]
     },
     "metadata": {},
     "output_type": "display_data"
    }
   ],
   "source": [
    "respose_gem = gemini_generate(prompt)\n",
    "display(Markdown('## Response:'))\n",
    "# Send prompt to LLM\n",
    "display(Markdown(respose_gem))"
   ]
  },
  {
   "cell_type": "markdown",
   "metadata": {
    "id": "jqC5uUguaunY"
   },
   "source": [
    "Voila! We've now used k-means clustering to create groups of spenders and explain their profiles."
   ]
  },
  {
   "cell_type": "markdown",
   "metadata": {
    "id": "5HEVHGmmRyGW"
   },
   "source": [
    "Sometimes, though, you want a little bit [extra](https://cloud.google.com/blog/transform/prompt-debunking-five-generative-ai-misconceptions)."
   ]
  },
  {
   "cell_type": "code",
   "execution_count": 33,
   "metadata": {
    "colab": {
     "base_uri": "https://localhost:8080/"
    },
    "id": "3HgwtN1tR3xQ",
    "outputId": "92324c01-5949-49d2-c62d-b6ca35cea2d7"
   },
   "outputs": [
    {
     "data": {
      "text/markdown": [
       "## Prompt:"
      ],
      "text/plain": [
       "<IPython.core.display.Markdown object>"
      ]
     },
     "metadata": {},
     "output_type": "display_data"
    },
    {
     "name": "stdout",
     "output_type": "stream",
     "text": [
      "Pretend you're a creative strategist, analyse the following clusters and come up with creative brand persona for each that includes the detail of their favorite movie, \n",
      "a summary of how this relates to their purchasing behavior, and a witty e-mail headline for marketing campaign targeted to their group:\n",
      "\n",
      "\n",
      "cluster 1, average spend $49.44, count of orders per person 1.23, days since last order 102.87\n",
      "cluster 2, average spend $59.56, count of orders per person 3.51, days since last order 87.9\n",
      "cluster 3, average spend $251.34, count of orders per person 1.14, days since last order 205.85\n",
      "cluster 4, average spend $57.47, count of orders per person 3.49, days since last order 354.32\n",
      "cluster 5, average spend $48.87, count of orders per person 1.22, days since last order 376.5\n"
     ]
    },
    {
     "data": {
      "text/markdown": [
       "## Response:"
      ],
      "text/plain": [
       "<IPython.core.display.Markdown object>"
      ]
     },
     "metadata": {},
     "output_type": "display_data"
    },
    {
     "data": {
      "text/markdown": [
       " **Cluster 1: The Occasional Treaters**\n",
       "\n",
       "* **Favorite movie:** \"The Princess Bride\"\n",
       "* **Purchasing behavior:** They make infrequent purchases, but when they do, they tend to splurge on a few high-quality items. They're looking for something special that will make them feel good.\n",
       "* **E-mail headline:** \"Treat Yourself! Indulge in Your Favorite Delights.\"\n",
       "\n",
       "**Cluster 2: The Regular Indulgers**\n",
       "\n",
       "* **Favorite movie:** \"When Harry Met Sally\"\n",
       "* **Purchasing behavior:** They make regular purchases, and they're always looking for new and exciting products to try. They're not afraid to experiment, and they're always up for a good deal.\n",
       "* **E-mail headline:** \"New Arrivals! Discover the Latest and Greatest.\"\n",
       "\n",
       "**Cluster 3: The Connoisseurs**\n",
       "\n",
       "* **Favorite movie:** \"The Godfather\"\n",
       "* **Purchasing behavior:** They make infrequent purchases, but they're willing to pay top dollar for the best of the best. They're looking for something truly exceptional that will impress their friends and family.\n",
       "* **E-mail headline:** \"Exclusive Offer! Indulge in the Finest of the Finest.\"\n",
       "\n",
       "**Cluster 4: The Seasonal Shoppers**\n",
       "\n",
       "* **Favorite movie:** \"Home Alone\"\n",
       "* **Purchasing behavior:** They make purchases in bursts, usually around the holidays or other special occasions. They're looking for something that will make their celebrations extra special.\n",
       "* **E-mail headline:** \"Get Ready for the Holidays! Stock Up on Your Favorites.\"\n",
       "\n",
       "**Cluster 5: The Minimalists**\n",
       "\n",
       "* **Favorite movie:** \"The Little Prince\"\n",
       "* **Purchasing behavior:** They make infrequent purchases, and they're very selective about what they buy. They're looking for something that's simple, functional, and affordable.\n",
       "* **E-mail headline:** \"Less is More! Discover Our Minimalist Collection.\""
      ],
      "text/plain": [
       "<IPython.core.display.Markdown object>"
      ]
     },
     "metadata": {},
     "output_type": "display_data"
    }
   ],
   "source": [
    "preamble = \"\"\"Pretend you're a creative strategist, analyse the following clusters and come up with creative brand persona for each that includes the detail of their favorite movie, \n",
    "a summary of how this relates to their purchasing behavior, and a witty e-mail headline for marketing campaign targeted to their group:\n",
    "\n",
    "\"\"\"\n",
    "prompt = preamble + \"\\n\" + str.join(\"\\n\", cluster_info)\n",
    "\n",
    "display(Markdown('## Prompt:'))\n",
    "print(prompt)\n",
    "\n",
    "response = textgen_model.predict(\n",
    "   prompt,\n",
    "    max_output_tokens=1024,\n",
    "    temperature=0.4,\n",
    "    top_p=0.8,\n",
    "    top_k=40,\n",
    ")\n",
    "\n",
    "display(Markdown('## Response:'))\n",
    "display(Markdown(response.text))"
   ]
  },
  {
   "cell_type": "code",
   "execution_count": 34,
   "metadata": {},
   "outputs": [
    {
     "data": {
      "text/markdown": [
       "## Prompt:"
      ],
      "text/plain": [
       "<IPython.core.display.Markdown object>"
      ]
     },
     "metadata": {},
     "output_type": "display_data"
    },
    {
     "name": "stdout",
     "output_type": "stream",
     "text": [
      "Pretend you're a creative strategist, analyse the following clusters and come up with creative brand persona for each that includes the detail of their favorite movie, \n",
      "a summary of how this relates to their purchasing behavior, and a witty e-mail headline for marketing campaign targeted to their group:\n",
      "\n",
      "\n",
      "cluster 1, average spend $49.44, count of orders per person 1.23, days since last order 102.87\n",
      "cluster 2, average spend $59.56, count of orders per person 3.51, days since last order 87.9\n",
      "cluster 3, average spend $251.34, count of orders per person 1.14, days since last order 205.85\n",
      "cluster 4, average spend $57.47, count of orders per person 3.49, days since last order 354.32\n",
      "cluster 5, average spend $48.87, count of orders per person 1.22, days since last order 376.5\n"
     ]
    },
    {
     "data": {
      "text/markdown": [
       "## Response:"
      ],
      "text/plain": [
       "<IPython.core.display.Markdown object>"
      ]
     },
     "metadata": {},
     "output_type": "display_data"
    },
    {
     "data": {
      "text/markdown": [
       "**Cluster 1: The Occasional Shoppers**\n",
       "\n",
       "* **Brand Persona:** Emily, a busy professional who values convenience and efficiency. She's not a frequent shopper but when she does, she prefers to make a single purchase of essential items.\n",
       "* **Favorite Movie:** \"The Matrix\" (1999) - Represents Emily's desire for a streamlined and efficient shopping experience, free from distractions.\n",
       "* **Purchasing Behavior:** Purchases small quantities of necessary items, prioritizes time-saving options like online ordering or quick in-store pickups.\n",
       "* **Witty Email Headline:** \"Simplify Your Shopping: The Matrix of Convenience\"\n",
       "\n",
       "**Cluster 2: The Regulars**\n",
       "\n",
       "* **Brand Persona:** John, a family man who enjoys browsing and comparing products before making a purchase. He's a loyal customer who appreciates personalized recommendations and a wide selection.\n",
       "* **Favorite Movie:** \"The Godfather\" (1972) - Conveys John's sense of tradition, loyalty, and appreciation for quality products.\n",
       "* **Purchasing Behavior:** Makes multiple purchases of various items, researches products thoroughly, and values customer service and loyalty programs.\n",
       "* **Witty Email Headline:** \"Join Our Family of Shoppers: The Godfather of Retail\"\n",
       "\n",
       "**Cluster 3: The Luxe Shoppers**\n",
       "\n",
       "* **Brand Persona:** Sophia, a sophisticated and discerning consumer who seeks out exclusive and high-end products. She's willing to pay a premium for quality and exclusivity.\n",
       "* **Favorite Movie:** \"The Devil Wears Prada\" (2006) - Reflects Sophia's aspiration for style, luxury, and a touch of glamour in her purchases.\n",
       "* **Purchasing Behavior:** Makes infrequent but significant purchases, focusing on designer brands, limited editions, and personalized experiences.\n",
       "* **Witty Email Headline:** \"Indulge in the Devilish Delights of Luxury: The Prada of Retail\"\n",
       "\n",
       "**Cluster 4: The Occasional Treaters**\n",
       "\n",
       "* **Brand Persona:** David, a sporadic shopper who enjoys indulging in occasional treats or gifts for himself or others. He's not a regular customer but appreciates unique and memorable experiences.\n",
       "* **Favorite Movie:** \"The Shawshank Redemption\" (1994) - Evokes David's desire to escape the mundane and create special moments through his purchases.\n",
       "* **Purchasing Behavior:** Makes infrequent purchases of non-essential items, often as gifts or for special occasions.\n",
       "* **Witty Email Headline:** \"Escape the Ordinary: The Shawshank Redemption of Retail\"\n",
       "\n",
       "**Cluster 5: The Lapsed Shoppers**\n",
       "\n",
       "* **Brand Persona:** Sarah, a former customer who has stopped shopping due to negative experiences or a lack of engagement. She's open to reconnecting but needs to be convinced of the value of the brand.\n",
       "* **Favorite Movie:** \"The Sixth Sense\" (1999) - Represents Sarah's need to see the potential and value in the brand again.\n",
       "* **Purchasing Behavior:** Has made few or no recent purchases, may have had negative experiences in the past.\n",
       "* **Witty Email Headline:** \"Unlock the Sixth Sense: Rediscover the Hidden Value of Our Brand\""
      ],
      "text/plain": [
       "<IPython.core.display.Markdown object>"
      ]
     },
     "metadata": {},
     "output_type": "display_data"
    }
   ],
   "source": [
    "respose_gem = gemini_generate(prompt)\n",
    "\n",
    "display(Markdown('## Prompt:'))\n",
    "print(prompt)\n",
    "\n",
    "display(Markdown('## Response:'))\n",
    "display(Markdown(respose_gem))"
   ]
  },
  {
   "cell_type": "code",
   "execution_count": 36,
   "metadata": {},
   "outputs": [],
   "source": [
    "def persona_builder(preamble):\n",
    "    pre_text = \"\"\"Pretend you're a creative strategist, given the following clusters \"\"\"\n",
    "    prompt = pre_text + preamble + \"\\n\\n\" + str.join(\"\\n\", cluster_info)\n",
    "    #result = textgen_model.predict(\n",
    "    #    prompt,\n",
    "    #    max_output_tokens=1024,\n",
    "    #    temperature=0.4,\n",
    "    #    top_p=0.8,\n",
    "    #    top_k=40,\n",
    "    #)\n",
    "\n",
    "    respose_gem = gemini_generate(prompt)\n",
    "    \n",
    "    return prompt, respose_gem"
   ]
  },
  {
   "cell_type": "markdown",
   "metadata": {
    "tags": []
   },
   "source": [
    "## Now we can stick it behind a UI"
   ]
  },
  {
   "cell_type": "markdown",
   "metadata": {},
   "source": [
    "<p align=\"center\">\n",
    "  <img alt=\"Conceptual Flow\" src=\"slides/process6.png\" width=\"100%\">\n",
    "</p>"
   ]
  },
  {
   "cell_type": "code",
   "execution_count": 37,
   "metadata": {},
   "outputs": [
    {
     "name": "stdout",
     "output_type": "stream",
     "text": [
      "Running on local URL:  http://127.0.0.1:7865\n",
      "\n",
      "To create a public link, set `share=True` in `launch()`.\n"
     ]
    },
    {
     "data": {
      "text/html": [
       "<div><iframe src=\"http://127.0.0.1:7865/\" width=\"100%\" height=\"500\" allow=\"autoplay; camera; microphone; clipboard-read; clipboard-write;\" frameborder=\"0\" allowfullscreen></iframe></div>"
      ],
      "text/plain": [
       "<IPython.core.display.HTML object>"
      ]
     },
     "metadata": {},
     "output_type": "display_data"
    },
    {
     "data": {
      "text/plain": []
     },
     "execution_count": 37,
     "metadata": {},
     "output_type": "execute_result"
    }
   ],
   "source": [
    "import gradio as gr\n",
    "\n",
    "with gr.Blocks() as demo:\n",
    "    gr.Markdown(\n",
    "    \"\"\"\n",
    "    ## Persona Builder and Marketing Bot\n",
    "    \"\"\")\n",
    "    with gr.Row():\n",
    "        input_text = gr.Textbox(label=\"Pretend you're a creative strategist, given the following clusters: \", \n",
    "                                value=\" analyse the following clusters and come up with creative brand persona for each that includes the detail of their favorite kind of sunglasses and a detailed description of an image including an animal wearing their favorite type of sunglasses:\") \n",
    "    with gr.Row():\n",
    "        generate = gr.Button(\"Generate Response\")\n",
    "    with gr.Row():\n",
    "        label2 = gr.Textbox(label=\"Prompt\")\n",
    "    with gr.Row():\n",
    "        label3 = gr.Markdown(label=\"Response generated by LLM\")\n",
    "\n",
    "    generate.click(persona_builder,input_text, [label2, label3])\n",
    "    \n",
    "demo.launch(share=False, debug=False)"
   ]
  },
  {
   "cell_type": "code",
   "execution_count": null,
   "metadata": {},
   "outputs": [],
   "source": []
  }
 ],
 "metadata": {
  "colab": {
   "provenance": []
  },
  "kernelspec": {
   "display_name": "Python 3 (ipykernel)",
   "language": "python",
   "name": "python3"
  },
  "language_info": {
   "codemirror_mode": {
    "name": "ipython",
    "version": 3
   },
   "file_extension": ".py",
   "mimetype": "text/x-python",
   "name": "python",
   "nbconvert_exporter": "python",
   "pygments_lexer": "ipython3",
   "version": "3.9.6"
  }
 },
 "nbformat": 4,
 "nbformat_minor": 4
}
