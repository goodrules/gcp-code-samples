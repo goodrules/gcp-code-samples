{
 "cells": [
  {
   "cell_type": "markdown",
   "metadata": {
    "id": "Sxq-V_jV4gEk",
    "tags": []
   },
   "source": [
    "# Using the Vertex AI PaLM API to explain BQML Clustering - Our Very Own Persona Builder"
   ]
  },
  {
   "cell_type": "markdown",
   "metadata": {
    "tags": []
   },
   "source": [
    "## Here's what we're going to build:"
   ]
  },
  {
   "cell_type": "markdown",
   "metadata": {},
   "source": [
    "<p align=\"center\">\n",
    "  <img alt=\"Conceptual Flow\" src=\"slides/process0.png\" width=\"100%\">\n",
    "</p>"
   ]
  },
  {
   "cell_type": "markdown",
   "metadata": {
    "id": "sHoUOuxf5GOR",
    "tags": []
   },
   "source": [
    "# Core code\n",
    "Let's define some variables that will be used throughout this notebook.\n",
    "\n",
    "These are the GCP Project ID `project_id`, the Model name `model_name` which is any name you prefer, and finally the Dataset name `dataset_name`.\n",
    "The dataset needs to exist in the same Project as `project_id` and you'll need appropriate access to create and delete."
   ]
  },
  {
   "cell_type": "markdown",
   "metadata": {
    "tags": []
   },
   "source": [
    "## Setup"
   ]
  },
  {
   "cell_type": "code",
   "execution_count": 21,
   "metadata": {
    "id": "fU3_zsLsZ89c"
   },
   "outputs": [
    {
     "name": "stdout",
     "output_type": "stream",
     "text": [
      "Vertex AI version: 1.36.0\n"
     ]
    }
   ],
   "source": [
    "from typing import Union\n",
    "import sys\n",
    "\n",
    "import os\n",
    "import io\n",
    "import json\n",
    "import base64\n",
    "import requests\n",
    "import concurrent.futures\n",
    "import time\n",
    "\n",
    "import numpy as np\n",
    "import pandas as pd\n",
    "\n",
    "import vertexai\n",
    "from vertexai.language_models import TextGenerationModel, TextEmbeddingModel\n",
    "from vertexai.preview.language_models import TextGenerationModel as TextGenerationModel_preview\n",
    "from google.cloud import aiplatform\n",
    "from google.cloud import documentai\n",
    "from google.cloud.documentai_v1 import Document\n",
    "from google.cloud import storage\n",
    "from google.cloud import bigquery\n",
    "\n",
    "from IPython.display import display, Markdown, Latex\n",
    "import markdown\n",
    "\n",
    "print(\"Vertex AI version: \" + str(aiplatform.__version__))"
   ]
  },
  {
   "cell_type": "code",
   "execution_count": 2,
   "metadata": {
    "id": "_3Rfhx874F2J"
   },
   "outputs": [],
   "source": [
    "PROJECT_ID = 'mg-ce-demos'\n",
    "REGION = 'us-central1'\n",
    "DATASET = \"bqml_demos\" \n",
    "BQML_MODEL = \"ecommerce_customer_segment_cluster5\" \n",
    "EVAL = BQML_MODEL + \"_eval\"\n"
   ]
  },
  {
   "cell_type": "code",
   "execution_count": 3,
   "metadata": {},
   "outputs": [],
   "source": [
    "# vertex ai clients\n",
    "vertexai.init(project = PROJECT_ID, location = REGION)\n",
    "aiplatform.init(project = PROJECT_ID, location = REGION)\n",
    "\n",
    "# bigquery client\n",
    "bq = bigquery.Client(project = PROJECT_ID)"
   ]
  },
  {
   "cell_type": "markdown",
   "metadata": {
    "id": "WnXQQOAc4t22",
    "tags": []
   },
   "source": [
    "## Create a K-means model to cluster ecommerce data"
   ]
  },
  {
   "cell_type": "markdown",
   "metadata": {},
   "source": [
    "### Let's look at the data first"
   ]
  },
  {
   "cell_type": "markdown",
   "metadata": {},
   "source": [
    "<p align=\"center\">\n",
    "  <img alt=\"Conceptual Flow\" src=\"slides/process1.png\" width=\"100%\">\n",
    "</p>"
   ]
  },
  {
   "cell_type": "code",
   "execution_count": 4,
   "metadata": {
    "colab": {
     "base_uri": "https://localhost:8080/",
     "height": 206
    },
    "id": "V6-JiJZBGmO7",
    "outputId": "88ba2b72-5c73-434f-94ea-5025ec7f7e7c"
   },
   "outputs": [
    {
     "data": {
      "text/html": [
       "<div>\n",
       "<style scoped>\n",
       "    .dataframe tbody tr th:only-of-type {\n",
       "        vertical-align: middle;\n",
       "    }\n",
       "\n",
       "    .dataframe tbody tr th {\n",
       "        vertical-align: top;\n",
       "    }\n",
       "\n",
       "    .dataframe thead th {\n",
       "        text-align: right;\n",
       "    }\n",
       "</style>\n",
       "<table border=\"1\" class=\"dataframe\">\n",
       "  <thead>\n",
       "    <tr style=\"text-align: right;\">\n",
       "      <th></th>\n",
       "      <th>user_id</th>\n",
       "      <th>order_id</th>\n",
       "      <th>sale_price</th>\n",
       "      <th>order_created_date</th>\n",
       "    </tr>\n",
       "  </thead>\n",
       "  <tbody>\n",
       "    <tr>\n",
       "      <th>0</th>\n",
       "      <td>40085</td>\n",
       "      <td>50021</td>\n",
       "      <td>2.5</td>\n",
       "      <td>2023-04-07 08:09:34+00:00</td>\n",
       "    </tr>\n",
       "    <tr>\n",
       "      <th>1</th>\n",
       "      <td>90363</td>\n",
       "      <td>112961</td>\n",
       "      <td>2.5</td>\n",
       "      <td>2022-12-25 23:23:29+00:00</td>\n",
       "    </tr>\n",
       "    <tr>\n",
       "      <th>2</th>\n",
       "      <td>3922</td>\n",
       "      <td>4887</td>\n",
       "      <td>2.5</td>\n",
       "      <td>2022-09-29 13:47:16+00:00</td>\n",
       "    </tr>\n",
       "    <tr>\n",
       "      <th>3</th>\n",
       "      <td>56076</td>\n",
       "      <td>70152</td>\n",
       "      <td>2.5</td>\n",
       "      <td>2022-03-27 03:01:23+00:00</td>\n",
       "    </tr>\n",
       "    <tr>\n",
       "      <th>4</th>\n",
       "      <td>90828</td>\n",
       "      <td>113540</td>\n",
       "      <td>2.5</td>\n",
       "      <td>2023-03-18 08:30:11+00:00</td>\n",
       "    </tr>\n",
       "  </tbody>\n",
       "</table>\n",
       "</div>"
      ],
      "text/plain": [
       "   user_id  order_id  sale_price        order_created_date\n",
       "0    40085     50021         2.5 2023-04-07 08:09:34+00:00\n",
       "1    90363    112961         2.5 2022-12-25 23:23:29+00:00\n",
       "2     3922      4887         2.5 2022-09-29 13:47:16+00:00\n",
       "3    56076     70152         2.5 2022-03-27 03:01:23+00:00\n",
       "4    90828    113540         2.5 2023-03-18 08:30:11+00:00"
      ]
     },
     "execution_count": 4,
     "metadata": {},
     "output_type": "execute_result"
    }
   ],
   "source": [
    "query = \"\"\"\n",
    "SELECT\n",
    "  user_id,\n",
    "  order_id,\n",
    "  sale_price,\n",
    "  created_at as order_created_date\n",
    "FROM `mg-ce-demos.thelook_ecommerce.order_items`\n",
    "WHERE created_at BETWEEN CAST('2022-01-01 00:00:00' AS TIMESTAMP)\n",
    "AND CAST('2024-01-01 00:00:00' AS TIMESTAMP)\n",
    "\"\"\"\n",
    "df = bq.query(query).to_dataframe()\n",
    "df.head()\n"
   ]
  },
  {
   "cell_type": "markdown",
   "metadata": {
    "id": "jQKfCgZ9FZH5",
    "tags": []
   },
   "source": [
    "### `CREATE MODEL` using `KMEANS`\n",
    "\n",
    "Create a query then start the model creation job, using a python loop to wait for the job to complete"
   ]
  },
  {
   "cell_type": "markdown",
   "metadata": {},
   "source": [
    "<p align=\"center\">\n",
    "  <img alt=\"Conceptual Flow\" src=\"slides/process2.png\" width=\"100%\">\n",
    "</p>"
   ]
  },
  {
   "cell_type": "code",
   "execution_count": 5,
   "metadata": {
    "id": "KiB2gPEvFkkd"
   },
   "outputs": [],
   "source": [
    "query = \"\"\"\n",
    "CREATE MODEL IF NOT EXISTS `{0}.{1}`\n",
    "OPTIONS (\n",
    "  MODEL_TYPE = \"KMEANS\",\n",
    "  NUM_CLUSTERS = 5,\n",
    "  KMEANS_INIT_METHOD = \"KMEANS++\",\n",
    "  STANDARDIZE_FEATURES = TRUE )\n",
    "AS (\n",
    "SELECT * EXCEPT (user_id)\n",
    "FROM (\n",
    "  SELECT user_id,\n",
    "    DATE_DIFF(CURRENT_DATE(), CAST(MAX(order_created_date) as DATE), day) AS days_since_order, -- RECENCY\n",
    "    COUNT(order_id) AS count_orders, -- FREQUENCY\n",
    "    AVG(sale_price) AS avg_spend -- MONETARY\n",
    "  FROM (\n",
    "    SELECT user_id,\n",
    "      order_id,\n",
    "      sale_price,\n",
    "      created_at as order_created_date\n",
    "    FROM `mg-ce-demos.thelook_ecommerce.order_items`\n",
    "    WHERE created_at BETWEEN CAST('2022-01-01 00:00:00' AS TIMESTAMP)\n",
    "    AND CAST('2024-01-01 00:00:00' AS TIMESTAMP)\n",
    "  )\n",
    "  GROUP BY user_id, order_id\n",
    " )\n",
    ")\n",
    "\"\"\".format(DATASET, BQML_MODEL)\n"
   ]
  },
  {
   "cell_type": "code",
   "execution_count": 6,
   "metadata": {
    "id": "_9lZPWXtNwbN"
   },
   "outputs": [],
   "source": [
    "# Wrapper to use BigQuery client to run query/job, return job ID or result as DF\n",
    "def run_bq_query(sql: str) -> Union[str, pd.DataFrame]:\n",
    "    \n",
    "    # Try dry run before executing query to catch any errors\n",
    "    #job_config = bigquery.QueryJobConfig(dry_run=True, use_query_cache=False)\n",
    "    #bq.query(sql, job_config=job_config)\n",
    "\n",
    "    # If dry run succeeds without errors, proceed to run query\n",
    "    job_config = bigquery.QueryJobConfig()\n",
    "    client_result = bq.query(sql, job_config=job_config)\n",
    "\n",
    "    job_id = client_result.job_id\n",
    "\n",
    "    # Wait for query/job to finish running. then get & return data frame\n",
    "    df = client_result.result().to_arrow().to_pandas()\n",
    "    print(f\"Finished job_id: {job_id}\")\n",
    "    return df"
   ]
  },
  {
   "cell_type": "code",
   "execution_count": 7,
   "metadata": {
    "colab": {
     "base_uri": "https://localhost:8080/",
     "height": 615
    },
    "id": "0RqNFZdVKDW6",
    "outputId": "33ea669b-40a8-4b16-b32d-bbc0b164d23b"
   },
   "outputs": [
    {
     "name": "stdout",
     "output_type": "stream",
     "text": [
      "Finished job_id: 87613ceb-17b1-434d-97a8-f39eeeffac72\n",
      "Finished job_id: d794d2d7-5781-4125-b891-09398e5559ed\n",
      "Finished job_id: c01973c1-a10b-4913-8bfc-d499959570ea\n",
      "Finished job_id: cda32035-8831-49c4-a9db-f651e8bfd9e6\n",
      "Finished job_id: 4e859834-ac49-4ad3-9403-bd3926cea41d\n",
      "Finished job_id: 93f1f915-84ee-49bc-a256-23e7d513f385\n",
      "Finished job_id: 513a0fe5-1fdf-4ba8-8292-0e7d44f54f1b\n",
      "Finished job_id: 42a41e60-9d55-4ddf-acd7-eb14dd19235c\n",
      "The slowest run took 12.51 times longer than the fastest. This could mean that an intermediate result is being cached.\n",
      "2.59 s ± 3.65 s per loop (mean ± std. dev. of 7 runs, 1 loop each)\n"
     ]
    }
   ],
   "source": [
    "%%timeit\n",
    "\n",
    "run_bq_query(query)"
   ]
  },
  {
   "cell_type": "markdown",
   "metadata": {
    "id": "mYN7F_f3PeE5"
   },
   "source": [
    "Let's take a look at the model's clustering performance, using these metrics - Davies Bouldin Index and Mean Squared Distance"
   ]
  },
  {
   "cell_type": "code",
   "execution_count": 8,
   "metadata": {
    "colab": {
     "base_uri": "https://localhost:8080/",
     "height": 98
    },
    "id": "wDy9-26SFnuS",
    "outputId": "9cfb0a00-d7eb-470c-ef9f-d709d5b6bbb7"
   },
   "outputs": [
    {
     "name": "stdout",
     "output_type": "stream",
     "text": [
      "Finished job_id: 777b06c0-445c-46ba-8010-25c279e08c06\n"
     ]
    },
    {
     "data": {
      "text/html": [
       "<div>\n",
       "<style scoped>\n",
       "    .dataframe tbody tr th:only-of-type {\n",
       "        vertical-align: middle;\n",
       "    }\n",
       "\n",
       "    .dataframe tbody tr th {\n",
       "        vertical-align: top;\n",
       "    }\n",
       "\n",
       "    .dataframe thead th {\n",
       "        text-align: right;\n",
       "    }\n",
       "</style>\n",
       "<table border=\"1\" class=\"dataframe\">\n",
       "  <thead>\n",
       "    <tr style=\"text-align: right;\">\n",
       "      <th></th>\n",
       "      <th>davies_bouldin_index</th>\n",
       "      <th>mean_squared_distance</th>\n",
       "    </tr>\n",
       "  </thead>\n",
       "  <tbody>\n",
       "    <tr>\n",
       "      <th>0</th>\n",
       "      <td>1.023378</td>\n",
       "      <td>1.051785</td>\n",
       "    </tr>\n",
       "  </tbody>\n",
       "</table>\n",
       "</div>"
      ],
      "text/plain": [
       "   davies_bouldin_index  mean_squared_distance\n",
       "0              1.023378               1.051785"
      ]
     },
     "execution_count": 8,
     "metadata": {},
     "output_type": "execute_result"
    }
   ],
   "source": [
    "query = \"\"\"\n",
    "SELECT *\n",
    "FROM ML.EVALUATE(MODEL `{0}.{1}`)\n",
    "\"\"\".format(DATASET, BQML_MODEL)\n",
    "\n",
    "run_bq_query(query)"
   ]
  },
  {
   "cell_type": "markdown",
   "metadata": {
    "id": "t1RNh1NqPpJ2"
   },
   "source": [
    "### Now let's get the cluster (centroid) information"
   ]
  },
  {
   "cell_type": "markdown",
   "metadata": {},
   "source": [
    "<p align=\"center\">\n",
    "  <img alt=\"Conceptual Flow\" src=\"slides/process3.png\" width=\"100%\">\n",
    "</p>"
   ]
  },
  {
   "cell_type": "code",
   "execution_count": 10,
   "metadata": {
    "colab": {
     "base_uri": "https://localhost:8080/",
     "height": 224
    },
    "id": "H2czyn5zPvhJ",
    "outputId": "01887c23-2c83-44fc-ae8a-366ba2f9c828"
   },
   "outputs": [
    {
     "name": "stdout",
     "output_type": "stream",
     "text": [
      "Finished job_id: a1e05a1f-5e1b-4c23-b2a6-a1360d71aa9f\n"
     ]
    },
    {
     "data": {
      "text/html": [
       "<div>\n",
       "<style scoped>\n",
       "    .dataframe tbody tr th:only-of-type {\n",
       "        vertical-align: middle;\n",
       "    }\n",
       "\n",
       "    .dataframe tbody tr th {\n",
       "        vertical-align: top;\n",
       "    }\n",
       "\n",
       "    .dataframe thead th {\n",
       "        text-align: right;\n",
       "    }\n",
       "</style>\n",
       "<table border=\"1\" class=\"dataframe\">\n",
       "  <thead>\n",
       "    <tr style=\"text-align: right;\">\n",
       "      <th></th>\n",
       "      <th>centroid</th>\n",
       "      <th>average_spend</th>\n",
       "      <th>count_of_orders</th>\n",
       "      <th>days_since_order</th>\n",
       "    </tr>\n",
       "  </thead>\n",
       "  <tbody>\n",
       "    <tr>\n",
       "      <th>0</th>\n",
       "      <td>cluster 1</td>\n",
       "      <td>49.44</td>\n",
       "      <td>1.23</td>\n",
       "      <td>102.87</td>\n",
       "    </tr>\n",
       "    <tr>\n",
       "      <th>1</th>\n",
       "      <td>cluster 2</td>\n",
       "      <td>59.56</td>\n",
       "      <td>3.51</td>\n",
       "      <td>87.90</td>\n",
       "    </tr>\n",
       "    <tr>\n",
       "      <th>2</th>\n",
       "      <td>cluster 3</td>\n",
       "      <td>251.34</td>\n",
       "      <td>1.14</td>\n",
       "      <td>205.85</td>\n",
       "    </tr>\n",
       "    <tr>\n",
       "      <th>3</th>\n",
       "      <td>cluster 4</td>\n",
       "      <td>57.47</td>\n",
       "      <td>3.49</td>\n",
       "      <td>354.32</td>\n",
       "    </tr>\n",
       "    <tr>\n",
       "      <th>4</th>\n",
       "      <td>cluster 5</td>\n",
       "      <td>48.87</td>\n",
       "      <td>1.22</td>\n",
       "      <td>376.50</td>\n",
       "    </tr>\n",
       "  </tbody>\n",
       "</table>\n",
       "</div>"
      ],
      "text/plain": [
       "    centroid  average_spend  count_of_orders  days_since_order\n",
       "0  cluster 1          49.44             1.23            102.87\n",
       "1  cluster 2          59.56             3.51             87.90\n",
       "2  cluster 3         251.34             1.14            205.85\n",
       "3  cluster 4          57.47             3.49            354.32\n",
       "4  cluster 5          48.87             1.22            376.50"
      ]
     },
     "execution_count": 10,
     "metadata": {},
     "output_type": "execute_result"
    }
   ],
   "source": [
    "query = \"\"\"\n",
    "SELECT\n",
    "  CONCAT('cluster ', CAST(centroid_id as STRING)) as centroid,\n",
    "  avg_spend as average_spend,\n",
    "  count_orders as count_of_orders,\n",
    "  days_since_order\n",
    "FROM (\n",
    "  SELECT centroid_id, feature, ROUND(numerical_value, 2) as value\n",
    "  FROM ML.CENTROIDS(MODEL `{0}.{1}`)\n",
    ")\n",
    "PIVOT (\n",
    "  SUM(value)\n",
    "  FOR feature IN ('avg_spend',  'count_orders', 'days_since_order')\n",
    ")\n",
    "ORDER BY centroid_id\n",
    "\"\"\".format(DATASET, BQML_MODEL)\n",
    "\n",
    "run_bq_query(query)"
   ]
  },
  {
   "cell_type": "markdown",
   "metadata": {
    "id": "Xhha_o_qPwJY"
   },
   "source": [
    "Whew! That's a lot of metrics and cluster info. How about we explain this to our colleagues using the magic of LLMs."
   ]
  },
  {
   "cell_type": "code",
   "execution_count": 11,
   "metadata": {
    "colab": {
     "base_uri": "https://localhost:8080/"
    },
    "id": "AWzyZUFdRQll",
    "outputId": "12058437-f5e8-4877-b6d1-2bcf976495e7"
   },
   "outputs": [
    {
     "name": "stdout",
     "output_type": "stream",
     "text": [
      "cluster 1, average spend $49.44, count of orders per person 1.23, days since last order 102.87\n",
      "cluster 2, average spend $59.56, count of orders per person 3.51, days since last order 87.9\n",
      "cluster 3, average spend $251.34, count of orders per person 1.14, days since last order 205.85\n",
      "cluster 4, average spend $57.47, count of orders per person 3.49, days since last order 354.32\n",
      "cluster 5, average spend $48.87, count of orders per person 1.22, days since last order 376.5\n"
     ]
    }
   ],
   "source": [
    "df = bq.query(query).to_dataframe()\n",
    "df.to_string(header=False, index=False)\n",
    "\n",
    "cluster_info = []\n",
    "for i, row in df.iterrows():\n",
    "  cluster_info.append(\"{0}, average spend ${2}, count of orders per person {1}, days since last order {3}\"\n",
    "    .format(row[\"centroid\"], row[\"count_of_orders\"], row[\"average_spend\"], row[\"days_since_order\"]) )\n",
    "\n",
    "print(str.join(\"\\n\", cluster_info))"
   ]
  },
  {
   "cell_type": "markdown",
   "metadata": {
    "id": "7Na0_rVVLhOk",
    "tags": []
   },
   "source": [
    "## Explain with Vertex AI PaLM API"
   ]
  },
  {
   "cell_type": "markdown",
   "metadata": {
    "id": "tdoRB7RjLso6"
   },
   "source": [
    "### First, we want to instantiate the large language model and create the prompt"
   ]
  },
  {
   "cell_type": "markdown",
   "metadata": {},
   "source": [
    "<p align=\"center\">\n",
    "  <img alt=\"Conceptual Flow\" src=\"slides/process4.png\" width=\"100%\">\n",
    "</p>"
   ]
  },
  {
   "cell_type": "code",
   "execution_count": 12,
   "metadata": {},
   "outputs": [],
   "source": [
    "textgen_model = TextGenerationModel.from_pretrained('text-bison')"
   ]
  },
  {
   "cell_type": "code",
   "execution_count": 25,
   "metadata": {
    "colab": {
     "base_uri": "https://localhost:8080/"
    },
    "id": "MYwQNH0ELu9y",
    "outputId": "2204e6ec-e489-40e7-8cc3-485578ca5302",
    "tags": []
   },
   "outputs": [
    {
     "data": {
      "text/markdown": [
       "## Prompt:"
      ],
      "text/plain": [
       "<IPython.core.display.Markdown object>"
      ]
     },
     "metadata": {},
     "output_type": "display_data"
    },
    {
     "name": "stdout",
     "output_type": "stream",
     "text": [
      "Pretend you're a creative strategist, given the following clusters come up with creative brand persona and title labels for each of these clusters, \n",
      "and explain step by step; what would be the next marketing step for these clusters:\n",
      "\n",
      "\n",
      "cluster 1, average spend $49.44, count of orders per person 1.23, days since last order 102.87\n",
      "cluster 2, average spend $59.56, count of orders per person 3.51, days since last order 87.9\n",
      "cluster 3, average spend $251.34, count of orders per person 1.14, days since last order 205.85\n",
      "cluster 4, average spend $57.47, count of orders per person 3.49, days since last order 354.32\n",
      "cluster 5, average spend $48.87, count of orders per person 1.22, days since last order 376.5\n"
     ]
    }
   ],
   "source": [
    "preamble = \"\"\"Pretend you're a creative strategist, given the following clusters come up with creative brand persona and title labels for each of these clusters, \n",
    "and explain step by step; what would be the next marketing step for these clusters:\n",
    "\n",
    "\"\"\"\n",
    "\n",
    "display(Markdown('## Prompt:'))\n",
    "print(preamble)\n",
    "print(str.join(\"\\n\", cluster_info))"
   ]
  },
  {
   "cell_type": "markdown",
   "metadata": {},
   "source": [
    "### Now, we send our prompt to Google GenAI API for some LLM magic"
   ]
  },
  {
   "cell_type": "markdown",
   "metadata": {},
   "source": [
    "<p align=\"center\">\n",
    "  <img alt=\"Conceptual Flow\" src=\"slides/process5.png\" width=\"100%\">\n",
    "</p>"
   ]
  },
  {
   "cell_type": "code",
   "execution_count": 27,
   "metadata": {},
   "outputs": [
    {
     "data": {
      "text/markdown": [
       "## Response:"
      ],
      "text/plain": [
       "<IPython.core.display.Markdown object>"
      ]
     },
     "metadata": {},
     "output_type": "display_data"
    },
    {
     "data": {
      "text/markdown": [
       " **Cluster 1**: \n",
       "* Brand persona: Thrifty shoppers who are looking for a good deal.\n",
       "* Title labels: \n",
       " - \"The Penny Pincher\"\n",
       " - \"The Bargain Hunter\"\n",
       " - \"The Frugal Fashionista\"\n",
       "* Next marketing step: Offer discounts and promotions to entice these customers to make another purchase.\n",
       "\n",
       "\n",
       "**Cluster 2**: \n",
       "* Brand persona: Loyal customers who are happy with your products and services.\n",
       "* Title labels: \n",
       " - \"The VIP\"\n",
       " - \"The Brand Ambassador\"\n",
       " - \"The Repeat Customer\"\n",
       "* Next marketing step: Reward these customers for their loyalty with a loyalty program or exclusive discounts.\n",
       "\n",
       "\n",
       "**Cluster 3**: \n",
       "* Brand persona: High-end shoppers who are looking for the best of the best.\n",
       "* Title labels: \n",
       " - \"The Luxury Seeker\"\n",
       " - \"The Connoisseur\"\n",
       " - \"The Affluent Aficionado\"\n",
       "* Next marketing step: Offer premium products and services to appeal to these customers' tastes.\n",
       "\n",
       "\n",
       "**Cluster 4**: \n",
       "* Brand persona: Occasional shoppers who are not very engaged with your brand.\n",
       "* Title labels: \n",
       " - \"The Window Shopper\"\n",
       " - \"The Casual Browser\"\n",
       " - \"The One-Time Customer\"\n",
       "* Next marketing step: Retarget these customers with personalized ads and emails to remind them of your brand and encourage them to make another purchase.\n",
       "\n",
       "\n",
       "**Cluster 5**: \n",
       "* Brand persona: Lapsed customers who have not made a purchase in a long time.\n",
       "* Title labels: \n",
       " - \"The Lost Customer\"\n",
       " - \"The Inactive Account\"\n",
       " - \"The Forgotten Fan\"\n",
       "* Next marketing step: Reach out to these customers with a special offer or promotion to win them back."
      ],
      "text/plain": [
       "<IPython.core.display.Markdown object>"
      ]
     },
     "metadata": {},
     "output_type": "display_data"
    }
   ],
   "source": [
    "response = textgen_model.predict(\n",
    "   preamble + \"\\n\" + str.join(\"\\n\", cluster_info),\n",
    "    max_output_tokens=1024,\n",
    "    temperature=0.4,\n",
    "    top_p=0.8,\n",
    "    top_k=40,\n",
    ")\n",
    "\n",
    "display(Markdown('## Response:'))\n",
    "# Send prompt to LLM\n",
    "display(Markdown(response.text))"
   ]
  },
  {
   "cell_type": "markdown",
   "metadata": {
    "id": "jqC5uUguaunY"
   },
   "source": [
    "Voila! We've now used k-means clustering to create groups of spenders and explain their profiles."
   ]
  },
  {
   "cell_type": "markdown",
   "metadata": {
    "id": "5HEVHGmmRyGW"
   },
   "source": [
    "Sometimes, though, you want a little bit [extra](https://cloud.google.com/blog/transform/prompt-debunking-five-generative-ai-misconceptions)."
   ]
  },
  {
   "cell_type": "code",
   "execution_count": 28,
   "metadata": {
    "colab": {
     "base_uri": "https://localhost:8080/"
    },
    "id": "3HgwtN1tR3xQ",
    "outputId": "92324c01-5949-49d2-c62d-b6ca35cea2d7"
   },
   "outputs": [
    {
     "data": {
      "text/markdown": [
       "## Prompt:"
      ],
      "text/plain": [
       "<IPython.core.display.Markdown object>"
      ]
     },
     "metadata": {},
     "output_type": "display_data"
    },
    {
     "name": "stdout",
     "output_type": "stream",
     "text": [
      "Pretend you're a creative strategist, analyse the following clusters and come up with creative brand persona for each that includes the detail of their favorite movie, \n",
      "a summary of how this relates to their purchasing behavior, and a witty e-mail headline for marketing campaign targeted to their group:\n",
      "\n",
      "\n",
      "cluster 1, average spend $49.44, count of orders per person 1.23, days since last order 102.87\n",
      "cluster 2, average spend $59.56, count of orders per person 3.51, days since last order 87.9\n",
      "cluster 3, average spend $251.34, count of orders per person 1.14, days since last order 205.85\n",
      "cluster 4, average spend $57.47, count of orders per person 3.49, days since last order 354.32\n",
      "cluster 5, average spend $48.87, count of orders per person 1.22, days since last order 376.5\n"
     ]
    },
    {
     "data": {
      "text/markdown": [
       "## Response:"
      ],
      "text/plain": [
       "<IPython.core.display.Markdown object>"
      ]
     },
     "metadata": {},
     "output_type": "display_data"
    },
    {
     "data": {
      "text/markdown": [
       " **Cluster 1**: \n",
       "Creative brand persona: Thrifty shoppers who enjoy a good deal. Their favorite movie is \"The Princess Bride\" because it's a classic that the whole family can enjoy. They relate to the character of Westley, who is always trying to save the day. \n",
       "E-mail headline: \"Save money like a pro with our latest deals!\"\n",
       "\n",
       "**Cluster 2**: \n",
       "Creative brand persona: Busy professionals who value convenience. Their favorite movie is \"The Devil Wears Prada\" because it's a relatable story about a young woman who is trying to make it in the fashion industry. They relate to the character of Andy, who is always trying to balance her work and personal life. \n",
       "E-mail headline: \"Get the latest styles without leaving your desk!\"\n",
       "\n",
       "**Cluster 3**: \n",
       "Creative brand persona: Luxury seekers who appreciate the finer things in life. Their favorite movie is \"The Great Gatsby\" because it's a story about a man who is trying to recapture his lost love. They relate to the character of Gatsby, who is always throwing lavish parties in an attempt to win back the woman he loves. \n",
       "E-mail headline: \"Indulge in the lap of luxury with our latest collection!\"\n",
       "\n",
       "**Cluster 4**: \n",
       "Creative brand persona: Spontaneous shoppers who are always looking for the next big thing. Their favorite movie is \"The Hangover\" because it's a story about a group of friends who go on a wild adventure. They relate to the characters of the movie, who are always getting into crazy situations. \n",
       "E-mail headline: \"Live life on the edge with our latest products!\"\n",
       "\n",
       "**Cluster 5**: \n",
       "Creative brand persona: Traditionalists who value quality and craftsmanship. Their favorite movie is \"The Shawshank Redemption\" because it's a story about a man who is wrongly convicted of a crime and spends years in prison. They relate to the character of Andy, who never gives up hope, even when things are tough. \n",
       "E-mail headline: \" Timeless classics that will never go out of style!\""
      ],
      "text/plain": [
       "<IPython.core.display.Markdown object>"
      ]
     },
     "metadata": {},
     "output_type": "display_data"
    }
   ],
   "source": [
    "preamble = \"\"\"Pretend you're a creative strategist, analyse the following clusters and come up with creative brand persona for each that includes the detail of their favorite movie, \n",
    "a summary of how this relates to their purchasing behavior, and a witty e-mail headline for marketing campaign targeted to their group:\n",
    "\n",
    "\"\"\"\n",
    "\n",
    "display(Markdown('## Prompt:'))\n",
    "print(preamble)\n",
    "print(str.join(\"\\n\", cluster_info))\n",
    "\n",
    "response = textgen_model.predict(\n",
    "   preamble + \"\\n\" + str.join(\"\\n\", cluster_info),\n",
    "    max_output_tokens=1024,\n",
    "    temperature=0.4,\n",
    "    top_p=0.8,\n",
    "    top_k=40,\n",
    ")\n",
    "\n",
    "display(Markdown('## Response:'))\n",
    "display(Markdown(response.text))"
   ]
  },
  {
   "cell_type": "code",
   "execution_count": 30,
   "metadata": {},
   "outputs": [
    {
     "data": {
      "text/markdown": [
       "## Prompt:"
      ],
      "text/plain": [
       "<IPython.core.display.Markdown object>"
      ]
     },
     "metadata": {},
     "output_type": "display_data"
    },
    {
     "name": "stdout",
     "output_type": "stream",
     "text": [
      "Pretend you're a creative strategist, analyse the following clusters and come up with creative brand persona for each that includes the detail of their favorite food \n",
      "and a detailed description of an image containing the favorite food that does not include people:\n",
      "\n",
      "\n",
      "cluster 1, average spend $49.44, count of orders per person 1.23, days since last order 102.87\n",
      "cluster 2, average spend $59.56, count of orders per person 3.51, days since last order 87.9\n",
      "cluster 3, average spend $251.34, count of orders per person 1.14, days since last order 205.85\n",
      "cluster 4, average spend $57.47, count of orders per person 3.49, days since last order 354.32\n",
      "cluster 5, average spend $48.87, count of orders per person 1.22, days since last order 376.5\n"
     ]
    },
    {
     "data": {
      "text/markdown": [
       "## Response:"
      ],
      "text/plain": [
       "<IPython.core.display.Markdown object>"
      ]
     },
     "metadata": {},
     "output_type": "display_data"
    },
    {
     "data": {
      "text/markdown": [
       " **Cluster 1**: \n",
       "\n",
       "* Creative brand persona: The Savvy Spender \n",
       "* Favorite food: Avocado toast \n",
       "* Image: A close-up of an avocado toast on a plate. The toast is topped with sliced avocado, a drizzle of olive oil, and a sprinkle of salt and pepper. The background is a light green color.\n",
       "\n",
       "**Cluster 2**: \n",
       "\n",
       "* Creative brand persona: The Busy Professional \n",
       "* Favorite food: Salad \n",
       "* Image: A large bowl of salad with a variety of vegetables, including lettuce, tomatoes, cucumbers, and carrots. The salad is topped with a grilled chicken breast and a drizzle of dressing. The background is a white tablecloth.\n",
       "\n",
       "**Cluster 3**: \n",
       "\n",
       "* Creative brand persona: The Affluent Epicurean \n",
       "* Favorite food: Steak \n",
       "* Image: A juicy steak on a plate with a side of asparagus and mashed potatoes. The steak is cooked to perfection and the asparagus is grilled to a tender crisp. The background is a dark red color.\n",
       "\n",
       "**Cluster 4**: \n",
       "\n",
       "* Creative brand persona: The Occasional Indulger \n",
       "* Favorite food: Pizza \n",
       "* Image: A large pizza with a variety of toppings, including pepperoni, sausage, mushrooms, and onions. The pizza is hot and cheesy and the crust is perfectly golden brown. The background is a blue color.\n",
       "\n",
       "**Cluster 5**: \n",
       "\n",
       "* Creative brand persona: The Frugal Foodie \n",
       "* Favorite food: Ramen \n",
       "* Image: A bowl of ramen with noodles, broth, and a variety of toppings, including egg, pork, and vegetables. The ramen is steaming hot and the broth is flavorful. The background is a light brown color."
      ],
      "text/plain": [
       "<IPython.core.display.Markdown object>"
      ]
     },
     "metadata": {},
     "output_type": "display_data"
    }
   ],
   "source": [
    "preamble = \"\"\"Pretend you're a creative strategist, analyse the following clusters and come up with creative brand persona for each that includes the detail of their favorite food \n",
    "and a detailed description of an image containing the favorite food that does not include people:\n",
    "\n",
    "\"\"\"\n",
    "\n",
    "display(Markdown('## Prompt:'))\n",
    "print(preamble)\n",
    "print(str.join(\"\\n\", cluster_info))\n",
    "\n",
    "response = textgen_model.predict(\n",
    "   preamble + \"\\n\" + str.join(\"\\n\", cluster_info),\n",
    "    max_output_tokens=1024,\n",
    "    temperature=0.4,\n",
    "    top_p=0.8,\n",
    "    top_k=40,\n",
    ")\n",
    "\n",
    "display(Markdown('## Response:'))\n",
    "display(Markdown(response.text))"
   ]
  },
  {
   "cell_type": "code",
   "execution_count": 39,
   "metadata": {},
   "outputs": [],
   "source": [
    "def persona_builder(preamble):\n",
    "    pre_text = \"\"\"Pretend you're a creative strategist, given the following clusters \"\"\"\n",
    "    prompt = pre_text + preamble + \"\\n\\n\" + str.join(\"\\n\", cluster_info)\n",
    "    result = textgen_model.predict(\n",
    "        prompt,\n",
    "        max_output_tokens=1024,\n",
    "        temperature=0.4,\n",
    "        top_p=0.8,\n",
    "        top_k=40,\n",
    "    )\n",
    "    \n",
    "    return prompt, result.text"
   ]
  },
  {
   "cell_type": "markdown",
   "metadata": {
    "jp-MarkdownHeadingCollapsed": true,
    "tags": []
   },
   "source": [
    "#### Notes"
   ]
  },
  {
   "cell_type": "markdown",
   "metadata": {},
   "source": [
    "A beautiful mountain range with snow-capped peaks and a river running through it. The sun is shining and the sky is blue.  Photorealistic"
   ]
  },
  {
   "cell_type": "markdown",
   "metadata": {},
   "source": [
    "come up with creative brand persona for each that includes the detail of their favorite movie, a summary of how this relates to their purchasing behavior, and a witty e-mail headline for marketing campaign targeted to their group"
   ]
  },
  {
   "cell_type": "markdown",
   "metadata": {
    "tags": []
   },
   "source": [
    "## Now we can stick it behind a UI"
   ]
  },
  {
   "cell_type": "markdown",
   "metadata": {},
   "source": [
    "<p align=\"center\">\n",
    "  <img alt=\"Conceptual Flow\" src=\"slides/process6.png\" width=\"100%\">\n",
    "</p>"
   ]
  },
  {
   "cell_type": "code",
   "execution_count": 44,
   "metadata": {},
   "outputs": [
    {
     "name": "stdout",
     "output_type": "stream",
     "text": [
      "Running on local URL:  http://127.0.0.1:7870\n",
      "\n",
      "To create a public link, set `share=True` in `launch()`.\n"
     ]
    },
    {
     "data": {
      "text/html": [
       "<div><iframe src=\"http://127.0.0.1:7870/\" width=\"100%\" height=\"500\" allow=\"autoplay; camera; microphone; clipboard-read; clipboard-write;\" frameborder=\"0\" allowfullscreen></iframe></div>"
      ],
      "text/plain": [
       "<IPython.core.display.HTML object>"
      ]
     },
     "metadata": {},
     "output_type": "display_data"
    },
    {
     "data": {
      "text/plain": []
     },
     "execution_count": 44,
     "metadata": {},
     "output_type": "execute_result"
    }
   ],
   "source": [
    "import gradio as gr\n",
    "\n",
    "with gr.Blocks() as demo:\n",
    "    gr.Markdown(\n",
    "    \"\"\"\n",
    "    ## Persona Builder and Marketing Bot\n",
    "    \"\"\")\n",
    "    with gr.Row():\n",
    "        input_text = gr.Textbox(label=\"Pretend you're a creative strategist, given the following clusters: \", value=\"come up with a brand persona for each and generate an email headline and outreach strategy for a new marketing campaign:\") \n",
    "    with gr.Row():\n",
    "        generate = gr.Button(\"Generate Response\")\n",
    "    with gr.Row():\n",
    "        label2 = gr.Textbox(label=\"Prompt\")\n",
    "    with gr.Row():\n",
    "        label3 = gr.Markdown(label=\"Response generated by LLM\")\n",
    "\n",
    "    generate.click(persona_builder,input_text, [label2, label3])\n",
    "    \n",
    "demo.launch(share=False, debug=False)"
   ]
  },
  {
   "cell_type": "code",
   "execution_count": null,
   "metadata": {},
   "outputs": [],
   "source": []
  }
 ],
 "metadata": {
  "colab": {
   "provenance": []
  },
  "kernelspec": {
   "display_name": "Python 3 (ipykernel)",
   "language": "python",
   "name": "python3"
  },
  "language_info": {
   "codemirror_mode": {
    "name": "ipython",
    "version": 3
   },
   "file_extension": ".py",
   "mimetype": "text/x-python",
   "name": "python",
   "nbconvert_exporter": "python",
   "pygments_lexer": "ipython3",
   "version": "3.9.6"
  }
 },
 "nbformat": 4,
 "nbformat_minor": 4
}
