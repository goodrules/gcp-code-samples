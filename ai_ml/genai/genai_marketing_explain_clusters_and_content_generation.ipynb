{
 "cells": [
  {
   "cell_type": "markdown",
   "metadata": {
    "id": "Sxq-V_jV4gEk",
    "tags": []
   },
   "source": [
    "# Using the Vertex AI PaLM API to explain BQML Clustering - Our Very Own Persona Builder"
   ]
  },
  {
   "cell_type": "markdown",
   "metadata": {
    "tags": []
   },
   "source": [
    "## Here's what we're going to build:"
   ]
  },
  {
   "cell_type": "markdown",
   "metadata": {},
   "source": [
    "<p align=\"center\">\n",
    "  <img alt=\"Conceptual Flow\" src=\"slides/process0.png\" width=\"100%\">\n",
    "</p>"
   ]
  },
  {
   "cell_type": "markdown",
   "metadata": {
    "id": "sHoUOuxf5GOR",
    "tags": []
   },
   "source": [
    "# Core code\n",
    "Let's define some variables that will be used throughout this notebook.\n",
    "\n",
    "These are the GCP Project ID `project_id`, the Model name `model_name` which is any name you prefer, and finally the Dataset name `dataset_name`.\n",
    "The dataset needs to exist in the same Project as `project_id` and you'll need appropriate access to create and delete."
   ]
  },
  {
   "cell_type": "markdown",
   "metadata": {
    "tags": []
   },
   "source": [
    "## Setup"
   ]
  },
  {
   "cell_type": "code",
   "execution_count": 1,
   "metadata": {
    "id": "fU3_zsLsZ89c"
   },
   "outputs": [
    {
     "name": "stdout",
     "output_type": "stream",
     "text": [
      "Vertex AI version: 1.84.0\n"
     ]
    }
   ],
   "source": [
    "from typing import Union\n",
    "import sys\n",
    "\n",
    "import os\n",
    "import io\n",
    "import json\n",
    "import base64\n",
    "import requests\n",
    "import concurrent.futures\n",
    "import time\n",
    "\n",
    "import numpy as np\n",
    "import pandas as pd\n",
    "\n",
    "import vertexai\n",
    "from vertexai.language_models import TextGenerationModel, TextEmbeddingModel\n",
    "from vertexai.preview.language_models import TextGenerationModel as TextGenerationModel_preview\n",
    "from vertexai.preview.generative_models import GenerativeModel, Part, Image\n",
    "\n",
    "from google import genai # new unified SDK\n",
    "from google.genai import types\n",
    "from google.genai.types import GenerateContentConfig\n",
    "\n",
    "from google.cloud import aiplatform\n",
    "#from google.cloud import documentai\n",
    "#from google.cloud.documentai_v1 import Document\n",
    "from google.cloud import storage\n",
    "from google.cloud import bigquery\n",
    "\n",
    "from IPython.display import display, Markdown, Latex\n",
    "import markdown\n",
    "\n",
    "print(\"Vertex AI version: \" + str(aiplatform.__version__))"
   ]
  },
  {
   "cell_type": "code",
   "execution_count": 2,
   "metadata": {
    "id": "_3Rfhx874F2J"
   },
   "outputs": [],
   "source": [
    "PROJECT_ID = 'mg-ce-demos'\n",
    "REGION = 'us-central1'\n",
    "DATASET = \"bqml_demos\" \n",
    "BQML_MODEL = \"ecommerce_customer_segment_cluster5\" \n",
    "EVAL = BQML_MODEL + \"_eval\"\n"
   ]
  },
  {
   "cell_type": "code",
   "execution_count": 3,
   "metadata": {},
   "outputs": [],
   "source": [
    "# vertex ai clients\n",
    "vertexai.init(project = PROJECT_ID, location = REGION)\n",
    "aiplatform.init(project = PROJECT_ID, location = REGION)\n",
    "\n",
    "# bigquery client\n",
    "bq = bigquery.Client(project = PROJECT_ID)"
   ]
  },
  {
   "cell_type": "code",
   "execution_count": 4,
   "metadata": {},
   "outputs": [],
   "source": [
    "# Use this if using GCP - Vertex\n",
    "from google.oauth2 import service_account\n",
    "import os\n",
    "\n",
    "credentials = service_account.Credentials.from_service_account_file(\n",
    "    os.environ['GOOGLE_APPLICATION_CREDENTIALS'],\n",
    "    scopes=['https://www.googleapis.com/auth/cloud-platform']\n",
    ")"
   ]
  },
  {
   "cell_type": "code",
   "execution_count": 5,
   "metadata": {},
   "outputs": [],
   "source": [
    "google_genai_client = genai.Client(vertexai=True, project=PROJECT_ID, location=REGION, credentials=credentials) "
   ]
  },
  {
   "cell_type": "code",
   "execution_count": 6,
   "metadata": {},
   "outputs": [],
   "source": [
    "gemini_2_pro = \"gemini-2.0-pro-exp-02-05\"\n",
    "gemini_2_flash = \"gemini-2.0-flash-001\"\n",
    "gemini_2_flash_thinking = 'gemini-2.0-flash-thinking-exp-01-21'"
   ]
  },
  {
   "cell_type": "code",
   "execution_count": 7,
   "metadata": {},
   "outputs": [],
   "source": [
    "generate_content_config = types.GenerateContentConfig(\n",
    "    temperature = 0.5,\n",
    "    top_p = 0.95,\n",
    "    max_output_tokens = 8192,\n",
    "    response_modalities = [\"TEXT\"],\n",
    "    safety_settings = [types.SafetySetting(\n",
    "        category=\"HARM_CATEGORY_HATE_SPEECH\",\n",
    "        threshold=\"OFF\"\n",
    "    ),types.SafetySetting(\n",
    "        category=\"HARM_CATEGORY_DANGEROUS_CONTENT\",\n",
    "        threshold=\"OFF\"\n",
    "    ),types.SafetySetting(\n",
    "        category=\"HARM_CATEGORY_SEXUALLY_EXPLICIT\",\n",
    "        threshold=\"OFF\"\n",
    "    ),types.SafetySetting(\n",
    "        category=\"HARM_CATEGORY_HARASSMENT\",\n",
    "        threshold=\"OFF\"\n",
    "    )]\n",
    ")\n",
    "\n",
    "tools = [\n",
    "    types.Tool(google_search=types.GoogleSearch())\n",
    "  ]\n",
    "\n",
    "generate_content_config_w_search = types.GenerateContentConfig(\n",
    "    temperature = 0.5,\n",
    "    top_p = 0.95,\n",
    "    max_output_tokens = 8192,\n",
    "    response_modalities = [\"TEXT\"],\n",
    "    tools=tools,\n",
    "    safety_settings = [types.SafetySetting(\n",
    "        category=\"HARM_CATEGORY_HATE_SPEECH\",\n",
    "        threshold=\"OFF\"\n",
    "    ),types.SafetySetting(\n",
    "        category=\"HARM_CATEGORY_DANGEROUS_CONTENT\",\n",
    "        threshold=\"OFF\"\n",
    "    ),types.SafetySetting(\n",
    "        category=\"HARM_CATEGORY_SEXUALLY_EXPLICIT\",\n",
    "        threshold=\"OFF\"\n",
    "    ),types.SafetySetting(\n",
    "        category=\"HARM_CATEGORY_HARASSMENT\",\n",
    "        threshold=\"OFF\"\n",
    "    )]\n",
    ")"
   ]
  },
  {
   "cell_type": "markdown",
   "metadata": {
    "id": "WnXQQOAc4t22",
    "tags": []
   },
   "source": [
    "## Create a K-means model to cluster ecommerce data"
   ]
  },
  {
   "cell_type": "markdown",
   "metadata": {},
   "source": [
    "### Let's look at the data first"
   ]
  },
  {
   "cell_type": "markdown",
   "metadata": {},
   "source": [
    "<p align=\"center\">\n",
    "  <img alt=\"Conceptual Flow\" src=\"slides/process1.png\" width=\"100%\">\n",
    "</p>"
   ]
  },
  {
   "cell_type": "code",
   "execution_count": 8,
   "metadata": {
    "colab": {
     "base_uri": "https://localhost:8080/",
     "height": 206
    },
    "id": "V6-JiJZBGmO7",
    "outputId": "88ba2b72-5c73-434f-94ea-5025ec7f7e7c"
   },
   "outputs": [
    {
     "name": "stderr",
     "output_type": "stream",
     "text": [
      "WARNING: All log messages before absl::InitializeLog() is called are written to STDERR\n",
      "I0000 00:00:1741867926.114506 71425698 check_gcp_environment_no_op.cc:29] ALTS: Platforms other than Linux and Windows are not supported\n"
     ]
    },
    {
     "data": {
      "text/html": [
       "<div>\n",
       "<style scoped>\n",
       "    .dataframe tbody tr th:only-of-type {\n",
       "        vertical-align: middle;\n",
       "    }\n",
       "\n",
       "    .dataframe tbody tr th {\n",
       "        vertical-align: top;\n",
       "    }\n",
       "\n",
       "    .dataframe thead th {\n",
       "        text-align: right;\n",
       "    }\n",
       "</style>\n",
       "<table border=\"1\" class=\"dataframe\">\n",
       "  <thead>\n",
       "    <tr style=\"text-align: right;\">\n",
       "      <th></th>\n",
       "      <th>user_id</th>\n",
       "      <th>order_id</th>\n",
       "      <th>sale_price</th>\n",
       "      <th>order_created_date</th>\n",
       "    </tr>\n",
       "  </thead>\n",
       "  <tbody>\n",
       "    <tr>\n",
       "      <th>0</th>\n",
       "      <td>40085</td>\n",
       "      <td>50021</td>\n",
       "      <td>2.5</td>\n",
       "      <td>2023-04-07 08:09:34+00:00</td>\n",
       "    </tr>\n",
       "    <tr>\n",
       "      <th>1</th>\n",
       "      <td>90363</td>\n",
       "      <td>112961</td>\n",
       "      <td>2.5</td>\n",
       "      <td>2022-12-25 23:23:29+00:00</td>\n",
       "    </tr>\n",
       "    <tr>\n",
       "      <th>2</th>\n",
       "      <td>3922</td>\n",
       "      <td>4887</td>\n",
       "      <td>2.5</td>\n",
       "      <td>2022-09-29 13:47:16+00:00</td>\n",
       "    </tr>\n",
       "    <tr>\n",
       "      <th>3</th>\n",
       "      <td>56076</td>\n",
       "      <td>70152</td>\n",
       "      <td>2.5</td>\n",
       "      <td>2022-03-27 03:01:23+00:00</td>\n",
       "    </tr>\n",
       "    <tr>\n",
       "      <th>4</th>\n",
       "      <td>90828</td>\n",
       "      <td>113540</td>\n",
       "      <td>2.5</td>\n",
       "      <td>2023-03-18 08:30:11+00:00</td>\n",
       "    </tr>\n",
       "  </tbody>\n",
       "</table>\n",
       "</div>"
      ],
      "text/plain": [
       "   user_id  order_id  sale_price        order_created_date\n",
       "0    40085     50021         2.5 2023-04-07 08:09:34+00:00\n",
       "1    90363    112961         2.5 2022-12-25 23:23:29+00:00\n",
       "2     3922      4887         2.5 2022-09-29 13:47:16+00:00\n",
       "3    56076     70152         2.5 2022-03-27 03:01:23+00:00\n",
       "4    90828    113540         2.5 2023-03-18 08:30:11+00:00"
      ]
     },
     "execution_count": 8,
     "metadata": {},
     "output_type": "execute_result"
    }
   ],
   "source": [
    "query = \"\"\"\n",
    "SELECT\n",
    "  user_id,\n",
    "  order_id,\n",
    "  sale_price,\n",
    "  created_at as order_created_date\n",
    "FROM `mg-ce-demos.thelook_ecommerce.order_items`\n",
    "WHERE created_at BETWEEN CAST('2022-01-01 00:00:00' AS TIMESTAMP)\n",
    "AND CAST('2024-01-01 00:00:00' AS TIMESTAMP)\n",
    "\"\"\"\n",
    "df = bq.query(query).to_dataframe()\n",
    "df.head()\n"
   ]
  },
  {
   "cell_type": "markdown",
   "metadata": {
    "id": "jQKfCgZ9FZH5",
    "tags": []
   },
   "source": [
    "### `CREATE MODEL` using `KMEANS`\n",
    "\n",
    "Create a query then start the model creation job, using a python loop to wait for the job to complete"
   ]
  },
  {
   "cell_type": "markdown",
   "metadata": {},
   "source": [
    "<p align=\"center\">\n",
    "  <img alt=\"Conceptual Flow\" src=\"slides/process2.png\" width=\"100%\">\n",
    "</p>"
   ]
  },
  {
   "cell_type": "markdown",
   "metadata": {},
   "source": [
    "#### model code"
   ]
  },
  {
   "cell_type": "code",
   "execution_count": 9,
   "metadata": {
    "id": "KiB2gPEvFkkd"
   },
   "outputs": [],
   "source": [
    "query = \"\"\"\n",
    "CREATE MODEL IF NOT EXISTS `{0}.{1}`\n",
    "OPTIONS (\n",
    "  MODEL_TYPE = \"KMEANS\",\n",
    "  NUM_CLUSTERS = 5,\n",
    "  KMEANS_INIT_METHOD = \"KMEANS++\",\n",
    "  STANDARDIZE_FEATURES = TRUE )\n",
    "AS (\n",
    "SELECT * EXCEPT (user_id)\n",
    "FROM (\n",
    "  SELECT user_id,\n",
    "    DATE_DIFF(CURRENT_DATE(), CAST(MAX(order_created_date) as DATE), day) AS days_since_order, -- RECENCY\n",
    "    COUNT(order_id) AS count_orders, -- FREQUENCY\n",
    "    AVG(sale_price) AS avg_spend -- MONETARY\n",
    "  FROM (\n",
    "    SELECT user_id,\n",
    "      order_id,\n",
    "      sale_price,\n",
    "      created_at as order_created_date\n",
    "    FROM `mg-ce-demos.thelook_ecommerce.order_items`\n",
    "    WHERE created_at BETWEEN CAST('2022-01-01 00:00:00' AS TIMESTAMP)\n",
    "    AND CAST('2024-01-01 00:00:00' AS TIMESTAMP)\n",
    "  )\n",
    "  GROUP BY user_id, order_id\n",
    " )\n",
    ")\n",
    "\"\"\".format(DATASET, BQML_MODEL)\n"
   ]
  },
  {
   "cell_type": "code",
   "execution_count": 10,
   "metadata": {
    "id": "_9lZPWXtNwbN"
   },
   "outputs": [],
   "source": [
    "# Wrapper to use BigQuery client to run query/job, return job ID or result as DF\n",
    "def run_bq_query(sql: str) -> Union[str, pd.DataFrame]:\n",
    "    \n",
    "    # Try dry run before executing query to catch any errors\n",
    "    #job_config = bigquery.QueryJobConfig(dry_run=True, use_query_cache=False)\n",
    "    #bq.query(sql, job_config=job_config)\n",
    "\n",
    "    # If dry run succeeds without errors, proceed to run query\n",
    "    job_config = bigquery.QueryJobConfig()\n",
    "    client_result = bq.query(sql, job_config=job_config)\n",
    "\n",
    "    job_id = client_result.job_id\n",
    "\n",
    "    # Wait for query/job to finish running. then get & return data frame\n",
    "    df = client_result.result().to_arrow().to_pandas()\n",
    "    print(f\"Finished job_id: {job_id}\")\n",
    "    return df"
   ]
  },
  {
   "cell_type": "code",
   "execution_count": 11,
   "metadata": {
    "colab": {
     "base_uri": "https://localhost:8080/",
     "height": 615
    },
    "id": "0RqNFZdVKDW6",
    "outputId": "33ea669b-40a8-4b16-b32d-bbc0b164d23b"
   },
   "outputs": [
    {
     "name": "stdout",
     "output_type": "stream",
     "text": [
      "Finished job_id: b8bbe9bc-1169-4415-b895-2eac61640b16\n",
      "Finished job_id: d84d2e51-b425-4bd7-94ca-97f38645cd17\n",
      "Finished job_id: b7340303-de5b-4619-a042-320176ecb119\n",
      "Finished job_id: e50a70b1-77b0-4410-8b2c-da745afd4f96\n",
      "Finished job_id: 1a7cfcb3-01a2-4d6d-b3f0-aadcf61a1972\n",
      "Finished job_id: 8db258fa-1273-4cb0-9b8f-75470b480590\n",
      "Finished job_id: 24019acd-01f3-4e7a-9d4d-3f9e10a14203\n",
      "Finished job_id: 34e3674b-2d53-416b-9303-41fe656b42ed\n",
      "The slowest run took 9.27 times longer than the fastest. This could mean that an intermediate result is being cached.\n",
      "1.65 s ± 1.92 s per loop (mean ± std. dev. of 7 runs, 1 loop each)\n"
     ]
    }
   ],
   "source": [
    "%%timeit\n",
    "\n",
    "run_bq_query(query)"
   ]
  },
  {
   "cell_type": "markdown",
   "metadata": {
    "id": "mYN7F_f3PeE5"
   },
   "source": [
    "Let's take a look at the model's clustering performance, using these metrics - Davies Bouldin Index and Mean Squared Distance"
   ]
  },
  {
   "cell_type": "code",
   "execution_count": 12,
   "metadata": {
    "colab": {
     "base_uri": "https://localhost:8080/",
     "height": 98
    },
    "id": "wDy9-26SFnuS",
    "outputId": "9cfb0a00-d7eb-470c-ef9f-d709d5b6bbb7"
   },
   "outputs": [
    {
     "name": "stderr",
     "output_type": "stream",
     "text": [
      "I0000 00:00:1741867941.414611 71425698 check_gcp_environment_no_op.cc:29] ALTS: Platforms other than Linux and Windows are not supported\n"
     ]
    },
    {
     "name": "stdout",
     "output_type": "stream",
     "text": [
      "Finished job_id: a141a0d7-f831-44e0-9908-e4b6a7ce75e1\n"
     ]
    },
    {
     "data": {
      "text/html": [
       "<div>\n",
       "<style scoped>\n",
       "    .dataframe tbody tr th:only-of-type {\n",
       "        vertical-align: middle;\n",
       "    }\n",
       "\n",
       "    .dataframe tbody tr th {\n",
       "        vertical-align: top;\n",
       "    }\n",
       "\n",
       "    .dataframe thead th {\n",
       "        text-align: right;\n",
       "    }\n",
       "</style>\n",
       "<table border=\"1\" class=\"dataframe\">\n",
       "  <thead>\n",
       "    <tr style=\"text-align: right;\">\n",
       "      <th></th>\n",
       "      <th>davies_bouldin_index</th>\n",
       "      <th>mean_squared_distance</th>\n",
       "    </tr>\n",
       "  </thead>\n",
       "  <tbody>\n",
       "    <tr>\n",
       "      <th>0</th>\n",
       "      <td>1.023378</td>\n",
       "      <td>1.051785</td>\n",
       "    </tr>\n",
       "  </tbody>\n",
       "</table>\n",
       "</div>"
      ],
      "text/plain": [
       "   davies_bouldin_index  mean_squared_distance\n",
       "0              1.023378               1.051785"
      ]
     },
     "execution_count": 12,
     "metadata": {},
     "output_type": "execute_result"
    }
   ],
   "source": [
    "query = \"\"\"\n",
    "SELECT *\n",
    "FROM ML.EVALUATE(MODEL `{0}.{1}`)\n",
    "\"\"\".format(DATASET, BQML_MODEL)\n",
    "\n",
    "run_bq_query(query)"
   ]
  },
  {
   "cell_type": "markdown",
   "metadata": {
    "id": "t1RNh1NqPpJ2"
   },
   "source": [
    "### Now let's get the cluster (centroid) information"
   ]
  },
  {
   "cell_type": "markdown",
   "metadata": {},
   "source": [
    "<p align=\"center\">\n",
    "  <img alt=\"Conceptual Flow\" src=\"slides/process3.png\" width=\"100%\">\n",
    "</p>"
   ]
  },
  {
   "cell_type": "code",
   "execution_count": 13,
   "metadata": {
    "colab": {
     "base_uri": "https://localhost:8080/",
     "height": 224
    },
    "id": "H2czyn5zPvhJ",
    "outputId": "01887c23-2c83-44fc-ae8a-366ba2f9c828"
   },
   "outputs": [
    {
     "name": "stderr",
     "output_type": "stream",
     "text": [
      "I0000 00:00:1741867943.610888 71425698 check_gcp_environment_no_op.cc:29] ALTS: Platforms other than Linux and Windows are not supported\n"
     ]
    },
    {
     "name": "stdout",
     "output_type": "stream",
     "text": [
      "Finished job_id: ff857555-755c-44e5-b44b-eac4dbc90428\n"
     ]
    },
    {
     "data": {
      "text/html": [
       "<div>\n",
       "<style scoped>\n",
       "    .dataframe tbody tr th:only-of-type {\n",
       "        vertical-align: middle;\n",
       "    }\n",
       "\n",
       "    .dataframe tbody tr th {\n",
       "        vertical-align: top;\n",
       "    }\n",
       "\n",
       "    .dataframe thead th {\n",
       "        text-align: right;\n",
       "    }\n",
       "</style>\n",
       "<table border=\"1\" class=\"dataframe\">\n",
       "  <thead>\n",
       "    <tr style=\"text-align: right;\">\n",
       "      <th></th>\n",
       "      <th>centroid</th>\n",
       "      <th>average_spend</th>\n",
       "      <th>count_of_orders</th>\n",
       "      <th>days_since_order</th>\n",
       "    </tr>\n",
       "  </thead>\n",
       "  <tbody>\n",
       "    <tr>\n",
       "      <th>0</th>\n",
       "      <td>cluster 1</td>\n",
       "      <td>49.44</td>\n",
       "      <td>1.23</td>\n",
       "      <td>102.87</td>\n",
       "    </tr>\n",
       "    <tr>\n",
       "      <th>1</th>\n",
       "      <td>cluster 2</td>\n",
       "      <td>59.56</td>\n",
       "      <td>3.51</td>\n",
       "      <td>87.90</td>\n",
       "    </tr>\n",
       "    <tr>\n",
       "      <th>2</th>\n",
       "      <td>cluster 3</td>\n",
       "      <td>251.34</td>\n",
       "      <td>1.14</td>\n",
       "      <td>205.85</td>\n",
       "    </tr>\n",
       "    <tr>\n",
       "      <th>3</th>\n",
       "      <td>cluster 4</td>\n",
       "      <td>57.47</td>\n",
       "      <td>3.49</td>\n",
       "      <td>354.32</td>\n",
       "    </tr>\n",
       "    <tr>\n",
       "      <th>4</th>\n",
       "      <td>cluster 5</td>\n",
       "      <td>48.87</td>\n",
       "      <td>1.22</td>\n",
       "      <td>376.50</td>\n",
       "    </tr>\n",
       "  </tbody>\n",
       "</table>\n",
       "</div>"
      ],
      "text/plain": [
       "    centroid  average_spend  count_of_orders  days_since_order\n",
       "0  cluster 1          49.44             1.23            102.87\n",
       "1  cluster 2          59.56             3.51             87.90\n",
       "2  cluster 3         251.34             1.14            205.85\n",
       "3  cluster 4          57.47             3.49            354.32\n",
       "4  cluster 5          48.87             1.22            376.50"
      ]
     },
     "execution_count": 13,
     "metadata": {},
     "output_type": "execute_result"
    }
   ],
   "source": [
    "query = \"\"\"\n",
    "SELECT\n",
    "  CONCAT('cluster ', CAST(centroid_id as STRING)) as centroid,\n",
    "  avg_spend as average_spend,\n",
    "  count_orders as count_of_orders,\n",
    "  days_since_order\n",
    "FROM (\n",
    "  SELECT centroid_id, feature, ROUND(numerical_value, 2) as value\n",
    "  FROM ML.CENTROIDS(MODEL `{0}.{1}`)\n",
    ")\n",
    "PIVOT (\n",
    "  SUM(value)\n",
    "  FOR feature IN ('avg_spend',  'count_orders', 'days_since_order')\n",
    ")\n",
    "ORDER BY centroid_id\n",
    "\"\"\".format(DATASET, BQML_MODEL)\n",
    "\n",
    "run_bq_query(query)"
   ]
  },
  {
   "cell_type": "markdown",
   "metadata": {
    "id": "Xhha_o_qPwJY"
   },
   "source": [
    "Whew! That's a lot of metrics and cluster info. How about we explain this to our colleagues using the magic of LLMs."
   ]
  },
  {
   "cell_type": "code",
   "execution_count": 14,
   "metadata": {
    "colab": {
     "base_uri": "https://localhost:8080/"
    },
    "id": "AWzyZUFdRQll",
    "outputId": "12058437-f5e8-4877-b6d1-2bcf976495e7"
   },
   "outputs": [
    {
     "name": "stderr",
     "output_type": "stream",
     "text": [
      "I0000 00:00:1741867945.483045 71425698 check_gcp_environment_no_op.cc:29] ALTS: Platforms other than Linux and Windows are not supported\n"
     ]
    },
    {
     "name": "stdout",
     "output_type": "stream",
     "text": [
      "cluster 1, average spend $49.44, count of orders per person 1.23, days since last order 102.87\n",
      "cluster 2, average spend $59.56, count of orders per person 3.51, days since last order 87.9\n",
      "cluster 3, average spend $251.34, count of orders per person 1.14, days since last order 205.85\n",
      "cluster 4, average spend $57.47, count of orders per person 3.49, days since last order 354.32\n",
      "cluster 5, average spend $48.87, count of orders per person 1.22, days since last order 376.5\n"
     ]
    }
   ],
   "source": [
    "df = bq.query(query).to_dataframe()\n",
    "df.to_string(header=False, index=False)\n",
    "\n",
    "cluster_info = []\n",
    "for i, row in df.iterrows():\n",
    "  cluster_info.append(\"{0}, average spend ${2}, count of orders per person {1}, days since last order {3}\"\n",
    "    .format(row[\"centroid\"], row[\"count_of_orders\"], row[\"average_spend\"], row[\"days_since_order\"]) )\n",
    "\n",
    "print(str.join(\"\\n\", cluster_info))"
   ]
  },
  {
   "cell_type": "markdown",
   "metadata": {
    "id": "7Na0_rVVLhOk",
    "tags": []
   },
   "source": [
    "## Explain with Vertex AI PaLM API"
   ]
  },
  {
   "cell_type": "markdown",
   "metadata": {
    "id": "tdoRB7RjLso6"
   },
   "source": [
    "### First, we want to instantiate the large language model and create the prompt"
   ]
  },
  {
   "cell_type": "markdown",
   "metadata": {},
   "source": [
    "<p align=\"center\">\n",
    "  <img alt=\"Conceptual Flow\" src=\"slides/process4.png\" width=\"100%\">\n",
    "</p>"
   ]
  },
  {
   "cell_type": "code",
   "execution_count": 16,
   "metadata": {},
   "outputs": [],
   "source": [
    "def gemini_generate(prompt, print_stream=True):\n",
    "    result = []\n",
    "    contents = [\n",
    "        types.Content(\n",
    "            role=\"user\",\n",
    "            parts=[types.Part.from_text(text=prompt)]\n",
    "        )\n",
    "    ]\n",
    "    for chunk in google_genai_client.models.generate_content_stream(\n",
    "        model = gemini_2_flash, \n",
    "        contents = contents, \n",
    "        config = generate_content_config,\n",
    "    ):\n",
    "        result.append(chunk.text)\n",
    "        if print_stream == True:\n",
    "            print(chunk.text, end=\"\")\n",
    "\n",
    "    result = ''.join(result)\n",
    "    return result"
   ]
  },
  {
   "cell_type": "code",
   "execution_count": 17,
   "metadata": {
    "colab": {
     "base_uri": "https://localhost:8080/"
    },
    "id": "MYwQNH0ELu9y",
    "outputId": "2204e6ec-e489-40e7-8cc3-485578ca5302",
    "tags": []
   },
   "outputs": [
    {
     "data": {
      "text/markdown": [
       "## Prompt:"
      ],
      "text/plain": [
       "<IPython.core.display.Markdown object>"
      ]
     },
     "metadata": {},
     "output_type": "display_data"
    },
    {
     "name": "stdout",
     "output_type": "stream",
     "text": [
      "You are a creative strategist, given the following clusters come up with creative brand persona and title labels for each of these clusters, and explain step by step; what would be the next marketing step for these clusters:\n",
      "\n",
      "\n",
      "cluster 1, average spend $49.44, count of orders per person 1.23, days since last order 102.87\n",
      "cluster 2, average spend $59.56, count of orders per person 3.51, days since last order 87.9\n",
      "cluster 3, average spend $251.34, count of orders per person 1.14, days since last order 205.85\n",
      "cluster 4, average spend $57.47, count of orders per person 3.49, days since last order 354.32\n",
      "cluster 5, average spend $48.87, count of orders per person 1.22, days since last order 376.5\n"
     ]
    }
   ],
   "source": [
    "preamble = \"\"\"You are a creative strategist, given the following clusters come up with creative brand persona and title labels for each of these clusters, and explain step by step; what would be the next marketing step for these clusters:\n",
    "\n",
    "\"\"\"\n",
    "prompt = preamble + \"\\n\" + str.join(\"\\n\", cluster_info)\n",
    "display(Markdown('## Prompt:'))\n",
    "print(prompt)\n",
    "#print(preamble)\n",
    "#print(str.join(\"\\n\", cluster_info))"
   ]
  },
  {
   "cell_type": "markdown",
   "metadata": {},
   "source": [
    "### Now, we send our prompt to Google GenAI API for some LLM magic"
   ]
  },
  {
   "cell_type": "markdown",
   "metadata": {},
   "source": [
    "<p align=\"center\">\n",
    "  <img alt=\"Conceptual Flow\" src=\"slides/process5.png\" width=\"100%\">\n",
    "</p>"
   ]
  },
  {
   "cell_type": "code",
   "execution_count": 19,
   "metadata": {},
   "outputs": [
    {
     "name": "stdout",
     "output_type": "stream",
     "text": [
      "Okay, here's a breakdown of the clusters, creative persona development, title labels, and the next marketing steps, designed to be actionable and strategically sound.\n",
      "\n",
      "**Step 1: Data Analysis & Initial Impressions**\n",
      "\n",
      "Before diving into personas, let's quickly recap what the data is telling us:\n",
      "\n",
      " *per order* on average.ow much each customer spends\n",
      "*   **Count of Orders per Person:**  How frequently they're buying.\n",
      "A measure of recency – how recently they've interacted with the brand.\n",
      "\n",
      "**Step 2: Creative Brand Persona & Title Label Development**\n",
      "\n",
      ", and a title label that summarizes their behavior. This helps us humanize the data and craft targeted messaging.\n",
      "\n",
      "*   **Cluster 1: The \"Casual Browser\"**\n",
      ". *Description:* Brenda is a busy individual who occasionally stumbles upon the brand, makes a small purchase, and then doesn't think about it again for a while. She's not particularly loyal or engaged. She's likely price-sensitive and driven by immediate needs.\n",
      "asional Spender\"Label:** \"Occ\n",
      "    *   **Rationale:** Low average spend, low order frequency, and long time since last order indicate infrequent, low-commitment engagement.\n",
      "\n",
      "*   **Cluster 2: The \"Value Seeker\"**\n",
      " the brand and buys relatively frequently, but he's price-conscious. He's likely looking for good deals and value for his money. He may be a regular user of the product/service but isn't necessarily a high-roller.\n",
      "    *   **Title Label:** \"Frequent Value Shopper\"\n",
      "    *   **Rationale:** Moderate average spend, high order frequency, and relatively short time since last order suggest regular purchases driven by value.\n",
      "\n",
      "*   **Cluster 3: The \"Big Ticket Buyer\"**\n",
      " She might be buying high-end items, gifts, or products/services with a long purchase cycle. She's not a frequent shopper, but when she does buy, she spends a lot.\n",
      "    *   **Title Label:** \"High-Value, Infrequent Purchaser\"\n",
      "    *   **Rationale:** High average spend, low order frequency, and long time since last order point to infrequent, high-value transactions.\n",
      "\n",
      "*   **Cluster 4: The \"Dormant Regular\"**\n",
      " and spending a moderate amount. However, he hasn't purchased anything in a long time. He may have forgotten about the brand, found an alternative, or experienced a change in circumstances.\n",
      "    *   **Title Label:** \"Lapsed Loyal Customer\"\n",
      ", but *very* long time since last order indicates a previously engaged customer who has become inactive.\n",
      "\n",
      "*   **Cluster 5: The \"Forgotten Visitor\"**\n",
      " back since. She may have been a one-time visitor driven by a specific need or promotion. She likely doesn't have a strong connection with the brand.\n",
      "    *   **Title Label:** \"One-Time Buyer\"\n",
      "extremely* long time since last order suggest a single, isolated transaction.\n",
      "\n",
      "**Step 3: Next Marketing Steps - Tailored Strategies for Each Cluster**\n",
      "\n",
      "Now, let's outline specific marketing actions for each cluster, focusing on maximizing ROI and customer lifetime value.\n",
      "\n",
      "Casual Browser\" (Occasional Spender)**\n",
      "    *   **Goal:** Increase frequency and average spend.\n",
      "    *   **Marketing Actions:**\n",
      " purchase.  **Targeted Email Campaigns:**  Send personalized emails highlighting relevant products based on their past purchase.  Include a small discount or free shipping to incentivize a second\n",
      "        *   **Retargeting Ads:**  Use retargeting ads on social media and other websites to remind them of the brand and showcase new arrivals or popular items.\n",
      " 60 days), trigger a special \"We Miss You!\" email with a compelling offer.le (e.g.,\n",
      "        *   **Content Marketing:**  Create blog posts or social media content that addresses their potential needs and interests.\n",
      " order value.rics:** Track email open rates, click-through rates, conversion rates, and average\n",
      "\n",
      "*   **Cluster 2: The \"Value Seeker\" (Frequent Value Shopper)**\n",
      "    *   **Goal:** Increase average spend and build loyalty.\n",
      "    *   **Marketing Actions:**\n",
      ", discounts, or exclusive perks.  Implement a loyalty program that rewards repeat purchases with points\n",
      "        *   **Bundling & Upselling:**  Offer product bundles or suggest higher-priced alternatives that provide better value.\n",
      "        *   **Early Access to Sales:**  Give them early access to sales and promotions to reward their loyalty.\n",
      "  Use their purchase history to recommend relevant products and create a personalized shopping experience.\n",
      "    *   **Metrics:** Track loyalty program enrollment, repeat purchase rate, average order value, and customer lifetime value.\n",
      "\n",
      "*   **Cluster 3: The \"Big Ticket Buyer\" (High-Value, Infrequent Purchaser)**\n",
      "    *   **Goal:** Increase purchase frequency and build a stronger relationship.\n",
      "    *   **Marketing Actions:**\n",
      "        *   **Personalized Outreach:**  Send personalized emails or even handwritten notes to thank them for their purchase and offer exclusive assistance.\n",
      " events, product previews, or personalized styling advice.sive\n",
      "        *   **Relationship Building:**  Focus on building a genuine relationship through personalized communication and exceptional customer service.\n",
      "        *   **Product Education:**  Provide them with detailed information about new products or services that align with their interests.\n",
      " Track response rates to personalized outreach, customer satisfaction scores, and repeat purchase rate.\n",
      "\n",
      "*   **Cluster 4: The \"Dormant Regular\" (Lapsed Loyal Customer)**\n",
      "    *   **Goal:** Reactivate them and win them back.\n",
      "    *   **Marketing Actions:**\n",
      "\"We Miss You\" Campaign:**  Send a series of emails with increasingly enticing offers, such as a significant discount, free shipping, or a free gift.\n",
      "        *   **Personalized Apology:**  Acknowledge their past loyalty and apologize for any potential issues that may have caused them to leave.\n",
      "   **Highlight New Features/Products:**  Showcase any new features, products, or services that have been introduced since their last purchase.\n",
      "        *   **Survey for Feedback:**  Ask them for feedback on their past experience to understand why they stopped buying.\n",
      "through rates, reactivation rate, and customer satisfaction scores.\n",
      "\n",
      "*   **Cluster 5: The \"Forgotten Visitor\" (One-Time Buyer)**\n",
      "    *   **Goal:**  Introduce them to the brand and encourage a second purchase.\n",
      "    *   **Marketing Actions:**\n",
      ":**  Send a series of welcome emails that introduce the brand, its values, and its key products/services.\n",
      "        *   **Educational Content:**  Provide them with valuable content that addresses their potential needs and interests.\n",
      " purchase.  **Special Offer:**  Offer them a special discount or free gift to incentivize a second\n",
      "        *   **Social Media Engagement:**  Encourage them to follow the brand on social media to stay updated on new products, promotions, and events.\n",
      "    *   **Metrics:** Track email open rates, click-through rates, conversion rates, and social media engagement.\n",
      "\n",
      " Testing, Iteration, and Refinement**\n",
      "\n",
      "*   **A/B Testing:**  Continuously test different subject lines, email content, offers, and ad creatives to optimize campaign performance.\n",
      "*   **Segmentation Refinement:**  Monitor the performance of each cluster and refine the segmentation criteria as needed.\n",
      "-Driven Decisions:**  Make all marketing decisions based on data and analytics.\n",
      "\n",
      "**Key Considerations:**\n",
      "\n",
      "*   **Personalization is Key:**  The more personalized the messaging, the more effective it will be.\n",
      ".   **Value Proposition:**  Clearly communicate the value proposition of the brand and its products/services\n",
      "*   **Customer Journey:**  Map out the customer journey for each cluster and identify opportunities to improve the experience.\n",
      "*   **Automation:**  Automate as much of the marketing process as possible to save time and resources.\n",
      "\n",
      "By following these steps, you can transform your customer data into actionable insights and create targeted marketing campaigns that drive results. Remember to continuously monitor, analyze, and optimize your efforts to maximize your return on investment.\n"
     ]
    }
   ],
   "source": [
    "response = gemini_generate(prompt)"
   ]
  },
  {
   "cell_type": "code",
   "execution_count": 20,
   "metadata": {},
   "outputs": [
    {
     "data": {
      "text/markdown": [
       "## Markdown Response:"
      ],
      "text/plain": [
       "<IPython.core.display.Markdown object>"
      ]
     },
     "metadata": {},
     "output_type": "display_data"
    },
    {
     "data": {
      "text/markdown": [
       "Okay, here's a breakdown of the clusters, creative persona development, title labels, and the next marketing steps, designed to be actionable and strategically sound.\n",
       "\n",
       "**Step 1: Data Analysis & Initial Impressions**\n",
       "\n",
       "Before diving into personas, let's quickly recap what the data is telling us:\n",
       "\n",
       "*   **Average Spend:** How much each customer spends *per order* on average.\n",
       "*   **Count of Orders per Person:**  How frequently they're buying.\n",
       "*   **Days Since Last Order:**  A measure of recency – how recently they've interacted with the brand.\n",
       "\n",
       "**Step 2: Creative Brand Persona & Title Label Development**\n",
       "\n",
       "We'll create a persona for each cluster, giving them a name, relatable characteristics, and a title label that summarizes their behavior. This helps us humanize the data and craft targeted messaging.\n",
       "\n",
       "*   **Cluster 1: The \"Casual Browser\"**\n",
       "    *   **Persona:**  *Name:* Brenda. *Description:* Brenda is a busy individual who occasionally stumbles upon the brand, makes a small purchase, and then doesn't think about it again for a while. She's not particularly loyal or engaged. She's likely price-sensitive and driven by immediate needs.\n",
       "    *   **Title Label:** \"Occasional Spender\"\n",
       "    *   **Rationale:** Low average spend, low order frequency, and long time since last order indicate infrequent, low-commitment engagement.\n",
       "\n",
       "*   **Cluster 2: The \"Value Seeker\"**\n",
       "    *   **Persona:** *Name:* Kevin. *Description:* Kevin likes the brand and buys relatively frequently, but he's price-conscious. He's likely looking for good deals and value for his money. He may be a regular user of the product/service but isn't necessarily a high-roller.\n",
       "    *   **Title Label:** \"Frequent Value Shopper\"\n",
       "    *   **Rationale:** Moderate average spend, high order frequency, and relatively short time since last order suggest regular purchases driven by value.\n",
       "\n",
       "*   **Cluster 3: The \"Big Ticket Buyer\"**\n",
       "    *   **Persona:** *Name:*  Olivia. *Description:* Olivia makes infrequent but significant purchases. She might be buying high-end items, gifts, or products/services with a long purchase cycle. She's not a frequent shopper, but when she does buy, she spends a lot.\n",
       "    *   **Title Label:** \"High-Value, Infrequent Purchaser\"\n",
       "    *   **Rationale:** High average spend, low order frequency, and long time since last order point to infrequent, high-value transactions.\n",
       "\n",
       "*   **Cluster 4: The \"Dormant Regular\"**\n",
       "    *   **Persona:** *Name:*  David. *Description:* David used to be a regular customer, buying frequently and spending a moderate amount. However, he hasn't purchased anything in a long time. He may have forgotten about the brand, found an alternative, or experienced a change in circumstances.\n",
       "    *   **Title Label:** \"Lapsed Loyal Customer\"\n",
       "    *   **Rationale:** Moderate average spend, high order frequency, but *very* long time since last order indicates a previously engaged customer who has become inactive.\n",
       "\n",
       "*   **Cluster 5: The \"Forgotten Visitor\"**\n",
       "    *   **Persona:** *Name:*  Sarah. *Description:* Sarah visited the store once, made a small purchase, and hasn't been back since. She may have been a one-time visitor driven by a specific need or promotion. She likely doesn't have a strong connection with the brand.\n",
       "    *   **Title Label:** \"One-Time Buyer\"\n",
       "    *   **Rationale:** Low average spend, low order frequency, and *extremely* long time since last order suggest a single, isolated transaction.\n",
       "\n",
       "**Step 3: Next Marketing Steps - Tailored Strategies for Each Cluster**\n",
       "\n",
       "Now, let's outline specific marketing actions for each cluster, focusing on maximizing ROI and customer lifetime value.\n",
       "\n",
       "*   **Cluster 1: The \"Casual Browser\" (Occasional Spender)**\n",
       "    *   **Goal:** Increase frequency and average spend.\n",
       "    *   **Marketing Actions:**\n",
       "        *   **Targeted Email Campaigns:**  Send personalized emails highlighting relevant products based on their past purchase.  Include a small discount or free shipping to incentivize a second purchase.\n",
       "        *   **Retargeting Ads:**  Use retargeting ads on social media and other websites to remind them of the brand and showcase new arrivals or popular items.\n",
       "        *   **\"Welcome Back\" Offers:**  If they haven't purchased in a while (e.g., 60 days), trigger a special \"We Miss You!\" email with a compelling offer.\n",
       "        *   **Content Marketing:**  Create blog posts or social media content that addresses their potential needs and interests.\n",
       "    *   **Metrics:** Track email open rates, click-through rates, conversion rates, and average order value.\n",
       "\n",
       "*   **Cluster 2: The \"Value Seeker\" (Frequent Value Shopper)**\n",
       "    *   **Goal:** Increase average spend and build loyalty.\n",
       "    *   **Marketing Actions:**\n",
       "        *   **Loyalty Program:**  Implement a loyalty program that rewards repeat purchases with points, discounts, or exclusive perks.\n",
       "        *   **Bundling & Upselling:**  Offer product bundles or suggest higher-priced alternatives that provide better value.\n",
       "        *   **Early Access to Sales:**  Give them early access to sales and promotions to reward their loyalty.\n",
       "        *   **Personalized Recommendations:**  Use their purchase history to recommend relevant products and create a personalized shopping experience.\n",
       "    *   **Metrics:** Track loyalty program enrollment, repeat purchase rate, average order value, and customer lifetime value.\n",
       "\n",
       "*   **Cluster 3: The \"Big Ticket Buyer\" (High-Value, Infrequent Purchaser)**\n",
       "    *   **Goal:** Increase purchase frequency and build a stronger relationship.\n",
       "    *   **Marketing Actions:**\n",
       "        *   **Personalized Outreach:**  Send personalized emails or even handwritten notes to thank them for their purchase and offer exclusive assistance.\n",
       "        *   **VIP Treatment:**  Offer them access to exclusive events, product previews, or personalized styling advice.\n",
       "        *   **Relationship Building:**  Focus on building a genuine relationship through personalized communication and exceptional customer service.\n",
       "        *   **Product Education:**  Provide them with detailed information about new products or services that align with their interests.\n",
       "    *   **Metrics:** Track response rates to personalized outreach, customer satisfaction scores, and repeat purchase rate.\n",
       "\n",
       "*   **Cluster 4: The \"Dormant Regular\" (Lapsed Loyal Customer)**\n",
       "    *   **Goal:** Reactivate them and win them back.\n",
       "    *   **Marketing Actions:**\n",
       "        *   **\"We Miss You\" Campaign:**  Send a series of emails with increasingly enticing offers, such as a significant discount, free shipping, or a free gift.\n",
       "        *   **Personalized Apology:**  Acknowledge their past loyalty and apologize for any potential issues that may have caused them to leave.\n",
       "        *   **Highlight New Features/Products:**  Showcase any new features, products, or services that have been introduced since their last purchase.\n",
       "        *   **Survey for Feedback:**  Ask them for feedback on their past experience to understand why they stopped buying.\n",
       "    *   **Metrics:** Track email open rates, click-through rates, reactivation rate, and customer satisfaction scores.\n",
       "\n",
       "*   **Cluster 5: The \"Forgotten Visitor\" (One-Time Buyer)**\n",
       "    *   **Goal:**  Introduce them to the brand and encourage a second purchase.\n",
       "    *   **Marketing Actions:**\n",
       "        *   **Welcome Series:**  Send a series of welcome emails that introduce the brand, its values, and its key products/services.\n",
       "        *   **Educational Content:**  Provide them with valuable content that addresses their potential needs and interests.\n",
       "        *   **Special Offer:**  Offer them a special discount or free gift to incentivize a second purchase.\n",
       "        *   **Social Media Engagement:**  Encourage them to follow the brand on social media to stay updated on new products, promotions, and events.\n",
       "    *   **Metrics:** Track email open rates, click-through rates, conversion rates, and social media engagement.\n",
       "\n",
       "**Step 4: Testing, Iteration, and Refinement**\n",
       "\n",
       "*   **A/B Testing:**  Continuously test different subject lines, email content, offers, and ad creatives to optimize campaign performance.\n",
       "*   **Segmentation Refinement:**  Monitor the performance of each cluster and refine the segmentation criteria as needed.\n",
       "*   **Data-Driven Decisions:**  Make all marketing decisions based on data and analytics.\n",
       "\n",
       "**Key Considerations:**\n",
       "\n",
       "*   **Personalization is Key:**  The more personalized the messaging, the more effective it will be.\n",
       "*   **Value Proposition:**  Clearly communicate the value proposition of the brand and its products/services.\n",
       "*   **Customer Journey:**  Map out the customer journey for each cluster and identify opportunities to improve the experience.\n",
       "*   **Automation:**  Automate as much of the marketing process as possible to save time and resources.\n",
       "\n",
       "By following these steps, you can transform your customer data into actionable insights and create targeted marketing campaigns that drive results. Remember to continuously monitor, analyze, and optimize your efforts to maximize your return on investment.\n"
      ],
      "text/plain": [
       "<IPython.core.display.Markdown object>"
      ]
     },
     "metadata": {},
     "output_type": "display_data"
    }
   ],
   "source": [
    "display(Markdown('## Markdown Response:'))\n",
    "display(Markdown(response))"
   ]
  },
  {
   "cell_type": "markdown",
   "metadata": {
    "id": "jqC5uUguaunY"
   },
   "source": [
    "Voila! We've now used k-means clustering to create groups of spenders and explain their profiles."
   ]
  },
  {
   "cell_type": "markdown",
   "metadata": {
    "id": "5HEVHGmmRyGW"
   },
   "source": [
    "Sometimes, though, you want a little bit [extra](https://cloud.google.com/blog/transform/prompt-debunking-five-generative-ai-misconceptions)."
   ]
  },
  {
   "cell_type": "code",
   "execution_count": 22,
   "metadata": {
    "colab": {
     "base_uri": "https://localhost:8080/"
    },
    "id": "3HgwtN1tR3xQ",
    "outputId": "92324c01-5949-49d2-c62d-b6ca35cea2d7"
   },
   "outputs": [
    {
     "data": {
      "text/markdown": [
       "## Prompt:"
      ],
      "text/plain": [
       "<IPython.core.display.Markdown object>"
      ]
     },
     "metadata": {},
     "output_type": "display_data"
    },
    {
     "name": "stdout",
     "output_type": "stream",
     "text": [
      "Pretend you're a creative strategist, analyse the following clusters and come up with creative brand persona for each that includes the detail of their favorite movie, a summary of how this relates to their purchasing behavior, and a witty e-mail headline for marketing campaign targeted to their group:\n",
      "\n",
      "\n",
      "cluster 1, average spend $49.44, count of orders per person 1.23, days since last order 102.87\n",
      "cluster 2, average spend $59.56, count of orders per person 3.51, days since last order 87.9\n",
      "cluster 3, average spend $251.34, count of orders per person 1.14, days since last order 205.85\n",
      "cluster 4, average spend $57.47, count of orders per person 3.49, days since last order 354.32\n",
      "cluster 5, average spend $48.87, count of orders per person 1.22, days since last order 376.5\n"
     ]
    },
    {
     "data": {
      "text/markdown": [
       "## Markdown Response:"
      ],
      "text/plain": [
       "<IPython.core.display.Markdown object>"
      ]
     },
     "metadata": {},
     "output_type": "display_data"
    },
    {
     "data": {
      "text/markdown": [
       "Okay, here's a breakdown of the clusters, complete with creative brand personas, movie tie-ins, purchasing behavior analysis, and witty email headlines. I'm aiming for memorable and insightful, not just generic.\n",
       "\n",
       "**Cluster 1: The \"Occasional Browsers\"**\n",
       "\n",
       "*   **Description:** Low average spend, low order frequency, and a long time since their last purchase. These are likely casual customers who aren't particularly engaged.\n",
       "\n",
       "*   **Brand Persona:** **\"Serene Sally\"** - A busy professional (maybe a teacher or librarian) who enjoys quality but doesn't have a lot of time for shopping. She appreciates simple, reliable products.\n",
       "\n",
       "*   **Favorite Movie:** *Amelie* (2001) - A whimsical, feel-good movie about finding joy in small things and helping others. Sally appreciates the film's understated beauty and focus on everyday moments.\n",
       "\n",
       "*   **Purchasing Behavior:** Sally's purchases are infrequent and often driven by specific needs or recommendations. She's likely to be influenced by positive reviews and clear, concise product descriptions. She values authenticity and ethical sourcing. She's not easily swayed by trends or aggressive marketing.\n",
       "\n",
       "*   **Email Headline:** \"Psst... Remember Us? A Little Something to Brighten Your Day.\" (Gentle reminder, personalized, and hints at value.)\n",
       "\n",
       "**Cluster 2: The \"Reliable Regulars\"**\n",
       "\n",
       "*   **Description:** Moderate average spend, high order frequency, and a relatively short time since their last purchase. These are loyal customers who appreciate value and convenience.\n",
       "\n",
       "*   **Brand Persona:** **\"Practical Pete\"** - A pragmatic and efficient individual (perhaps an engineer or project manager) who values functionality and good deals. He's a planner and likes to stock up on essentials.\n",
       "\n",
       "*   **Favorite Movie:** *Apollo 13* (1995) - A suspenseful and inspiring film about problem-solving under pressure. Pete admires the ingenuity, teamwork, and resourcefulness displayed in the face of adversity.\n",
       "\n",
       "*   **Purchasing Behavior:** Pete is driven by value and efficiency. He's likely to respond to promotions, discounts, and subscription options. He appreciates clear product information and reliable shipping. He's a good candidate for loyalty programs and bundled offers.\n",
       "\n",
       "*   **Email Headline:** \"Your Favorites Are Back in Stock (Plus a Little Something Extra).\" (Highlights availability and offers an incentive.)\n",
       "\n",
       "**Cluster 3: The \"Luxury Lifestylers\"**\n",
       "\n",
       "*   **Description:** High average spend, low order frequency, and a long time since their last purchase. These are high-value customers who likely make infrequent but significant purchases.\n",
       "\n",
       "*   **Brand Persona:** **\"Elegant Eleanor\"** - A discerning and sophisticated individual (perhaps a consultant or entrepreneur) who appreciates luxury and exclusivity. She values quality, craftsmanship, and personalized service.\n",
       "\n",
       "*   **Favorite Movie:** *Casablanca* (1942) - A classic film known for its timeless elegance, romance, and intrigue. Eleanor appreciates the film's sophisticated dialogue, iconic style, and sense of timelessness.\n",
       "\n",
       "*   **Purchasing Behavior:** Eleanor is motivated by quality, exclusivity, and personalized experiences. She's willing to pay a premium for products that align with her refined taste. She's likely to be influenced by high-end marketing, celebrity endorsements, and personalized recommendations.\n",
       "\n",
       "*   **Email Headline:** \"A Curated Collection Just For You, Eleanor.\" (Personalized, emphasizes exclusivity and curation.)\n",
       "\n",
       "**Cluster 4: The \"Forgotten Fans\"**\n",
       "\n",
       "*   **Description:** Moderate average spend, high order frequency, but a *very* long time since their last purchase. These were once loyal customers who have drifted away.\n",
       "\n",
       "*   **Brand Persona:** **\"Nostalgic Nate\"** - A sentimental and loyal individual (perhaps a retiree or long-time community member) who appreciates familiar brands and reliable service. He may have switched due to a bad experience or simply forgotten about the brand.\n",
       "\n",
       "*   **Favorite Movie:** *Back to the Future* (1985) - A nostalgic and feel-good film about time travel and rediscovering the past. Nate appreciates the film's sense of adventure, humor, and heartwarming message about the importance of family and friendship.\n",
       "\n",
       "*   **Purchasing Behavior:** Nate needs to be reminded of the positive experiences he had with the brand. He's likely to respond to personalized offers, heartfelt messages, and reminders of the brand's history and values. He may be hesitant to return without an incentive or reassurance.\n",
       "\n",
       "*   **Email Headline:** \"We Miss You, Nate! Here's a Little Something to Welcome You Back.\" (Acknowledges absence, offers a welcome-back gift.)\n",
       "\n",
       "**Cluster 5: The \"Bargain Hunters\"**\n",
       "\n",
       "*   **Description:** Low average spend, low order frequency, and a *very* long time since their last purchase. These customers are likely price-sensitive and only purchase when there's a significant discount.\n",
       "\n",
       "*   **Brand Persona:** **\"Savvy Sarah\"** - A resourceful and budget-conscious individual (perhaps a student or young professional) who loves a good deal and is always on the lookout for discounts and promotions.\n",
       "\n",
       "*   **Favorite Movie:** *Catch Me If You Can* (2002) - A clever and entertaining film about a con artist who outsmarts the authorities. Sarah appreciates the film's ingenuity, humor, and fast-paced plot.\n",
       "\n",
       "*   **Purchasing Behavior:** Sarah is primarily motivated by price. She's likely to respond to flash sales, coupon codes, and clearance events. She's not particularly loyal to any one brand and will switch to a competitor if they offer a better deal.\n",
       "\n",
       "*   **Email Headline:** \"Major Savings Inside! Don't Miss Out on These Limited-Time Deals.\" (Highlights the urgency and potential savings.)\n",
       "\n",
       "**Key Takeaways:**\n",
       "\n",
       "*   **Personalization is Key:** Tailor your marketing messages to resonate with each cluster's unique motivations and preferences.\n",
       "*   **Value Proposition:** Clearly communicate the value you offer to each customer segment, whether it's quality, convenience, exclusivity, or affordability.\n",
       "*   **Re-engagement Strategies:** Focus on re-engaging lapsed customers (Clusters 4 and 5) with personalized offers and reminders of the positive experiences they had with your brand.\n",
       "*   **Data-Driven Decisions:** Continuously analyze your customer data to refine your targeting and optimize your marketing campaigns.\n",
       "\n",
       "By understanding your customers on a deeper level, you can create more effective marketing campaigns that drive engagement, loyalty, and ultimately, sales. Good luck!\n"
      ],
      "text/plain": [
       "<IPython.core.display.Markdown object>"
      ]
     },
     "metadata": {},
     "output_type": "display_data"
    }
   ],
   "source": [
    "preamble = \"\"\"Pretend you're a creative strategist, analyse the following clusters and come up with creative brand persona for each that includes the detail of their favorite movie, a summary of how this relates to their purchasing behavior, and a witty e-mail headline for marketing campaign targeted to their group:\n",
    "\n",
    "\"\"\"\n",
    "prompt = preamble + \"\\n\" + str.join(\"\\n\", cluster_info)\n",
    "\n",
    "display(Markdown('## Prompt:'))\n",
    "print(prompt)\n",
    "\n",
    "response = gemini_generate(prompt, print_stream=False)\n",
    "\n",
    "display(Markdown('## Markdown Response:'))\n",
    "display(Markdown(response))"
   ]
  },
  {
   "cell_type": "code",
   "execution_count": 27,
   "metadata": {},
   "outputs": [],
   "source": [
    "def persona_builder(preamble):\n",
    "    pre_text = \"\"\"Pretend you're a creative strategist, given the following clusters \"\"\"\n",
    "    prompt = pre_text + preamble + \"\\n\\n\" + str.join(\"\\n\", cluster_info)\n",
    "    #result = textgen_model.predict(\n",
    "    #    prompt,\n",
    "    #    max_output_tokens=1024,\n",
    "    #    temperature=0.4,\n",
    "    #    top_p=0.8,\n",
    "    #    top_k=40,\n",
    "    #)\n",
    "\n",
    "    response = gemini_generate(prompt, print_stream=False)\n",
    "    \n",
    "    return prompt, response"
   ]
  },
  {
   "cell_type": "markdown",
   "metadata": {
    "tags": []
   },
   "source": [
    "## Now we can stick it behind a UI"
   ]
  },
  {
   "cell_type": "markdown",
   "metadata": {},
   "source": [
    "<p align=\"center\">\n",
    "  <img alt=\"Conceptual Flow\" src=\"slides/process6.png\" width=\"100%\">\n",
    "</p>"
   ]
  },
  {
   "cell_type": "code",
   "execution_count": 28,
   "metadata": {},
   "outputs": [
    {
     "name": "stdout",
     "output_type": "stream",
     "text": [
      "* Running on local URL:  http://127.0.0.1:7862\n",
      "\n",
      "To create a public link, set `share=True` in `launch()`.\n"
     ]
    },
    {
     "data": {
      "text/html": [
       "<div><iframe src=\"http://127.0.0.1:7862/\" width=\"100%\" height=\"500\" allow=\"autoplay; camera; microphone; clipboard-read; clipboard-write;\" frameborder=\"0\" allowfullscreen></iframe></div>"
      ],
      "text/plain": [
       "<IPython.core.display.HTML object>"
      ]
     },
     "metadata": {},
     "output_type": "display_data"
    },
    {
     "data": {
      "text/plain": []
     },
     "execution_count": 28,
     "metadata": {},
     "output_type": "execute_result"
    }
   ],
   "source": [
    "import gradio as gr\n",
    "\n",
    "with gr.Blocks() as demo:\n",
    "    gr.Markdown(\n",
    "    \"\"\"\n",
    "    ## Persona Builder and Marketing Bot\n",
    "    \"\"\")\n",
    "    with gr.Row():\n",
    "        input_text = gr.Textbox(label=\"Pretend you're a creative strategist, given the following clusters: \", \n",
    "                                value=\" analyse the following clusters and come up with creative brand persona for each that includes the detail of their favorite kind of sunglasses and a detailed description of an image including an animal wearing their favorite type of sunglasses:\") \n",
    "    with gr.Row():\n",
    "        generate = gr.Button(\"Generate Response\")\n",
    "    with gr.Row():\n",
    "        label2 = gr.Textbox(label=\"Prompt\")\n",
    "    with gr.Row():\n",
    "        label3 = gr.Markdown(label=\"Response generated by LLM\")\n",
    "\n",
    "    generate.click(persona_builder,input_text, [label2, label3])\n",
    "    \n",
    "demo.launch(share=False, debug=False)"
   ]
  },
  {
   "cell_type": "code",
   "execution_count": null,
   "metadata": {},
   "outputs": [],
   "source": []
  }
 ],
 "metadata": {
  "colab": {
   "provenance": []
  },
  "kernelspec": {
   "display_name": "Python 3 (ipykernel)",
   "language": "python",
   "name": "python3"
  },
  "language_info": {
   "codemirror_mode": {
    "name": "ipython",
    "version": 3
   },
   "file_extension": ".py",
   "mimetype": "text/x-python",
   "name": "python",
   "nbconvert_exporter": "python",
   "pygments_lexer": "ipython3",
   "version": "3.11.11"
  }
 },
 "nbformat": 4,
 "nbformat_minor": 4
}
