{
 "cells": [
  {
   "cell_type": "markdown",
   "id": "c80c2a04-14dc-4f7d-aab2-60d0015ad896",
   "metadata": {},
   "source": [
    "# GenAI Prompt Engineering Examples"
   ]
  },
  {
   "cell_type": "markdown",
   "id": "a67be22b-f563-4b0b-ab3d-8866723d2102",
   "metadata": {},
   "source": [
    "---\n",
    "## Installs\n",
    "\n",
    "The list `packages` contains tuples of package import names and install names.  If the import name is not found then the install name is used to install quitely for the current user."
   ]
  },
  {
   "cell_type": "code",
   "execution_count": 1,
   "id": "b15cbe64-1a11-41a6-b09a-93d7e8dcc99d",
   "metadata": {
    "tags": []
   },
   "outputs": [],
   "source": [
    "# tuples of (import name, install name, min_version)\n",
    "packages = [\n",
    "    ('google.cloud.aiplatform', 'google-cloud-aiplatform'),\n",
    "    ('google.cloud.storage', 'google-cloud-storage'),\n",
    "    ('google.cloud.bigquery', 'google-cloud-bigquery')\n",
    "]\n",
    "\n",
    "import importlib\n",
    "install = False\n",
    "for package in packages:\n",
    "    if not importlib.util.find_spec(package[0]):\n",
    "        print(f'installing package {package[1]}')\n",
    "        install = True\n",
    "        !pip install {package[1]} -U -q --user\n",
    "    elif len(package) == 3:\n",
    "        if importlib.metadata.version(package[0]) < package[2]:\n",
    "            print(f'updating package {package[1]}')\n",
    "            install = True\n",
    "            !pip install {package[1]} -U -q --user"
   ]
  },
  {
   "cell_type": "markdown",
   "id": "0aeeeb94-0e3e-41b1-9f1d-2dd2fad2a515",
   "metadata": {},
   "source": [
    "### Restart Kernel (If Installs Occured)\n",
    "\n",
    "After a kernel restart the code submission can start with the next cell after this one."
   ]
  },
  {
   "cell_type": "code",
   "execution_count": 2,
   "id": "05eb94fd-0562-4e3c-a63b-4952b5402519",
   "metadata": {
    "tags": []
   },
   "outputs": [],
   "source": [
    "if install:\n",
    "    import IPython\n",
    "    app = IPython.Application.instance()\n",
    "    app.kernel.do_shutdown(True)"
   ]
  },
  {
   "cell_type": "markdown",
   "id": "5107e967-b47b-43d4-8098-b0e5d2262d49",
   "metadata": {},
   "source": [
    "---\n",
    "## Setup"
   ]
  },
  {
   "cell_type": "markdown",
   "id": "c93da7af-6765-4730-b6d0-d7e7e188f79c",
   "metadata": {},
   "source": [
    "inputs:"
   ]
  },
  {
   "cell_type": "code",
   "execution_count": 3,
   "id": "3e11fd07-a9b3-428f-9ee9-16ee36179798",
   "metadata": {
    "tags": []
   },
   "outputs": [
    {
     "data": {
      "text/plain": [
       "'mg-ce-demos'"
      ]
     },
     "execution_count": 3,
     "metadata": {},
     "output_type": "execute_result"
    }
   ],
   "source": [
    "project = !gcloud config get-value project\n",
    "PROJECT_ID = project[0]\n",
    "PROJECT_ID"
   ]
  },
  {
   "cell_type": "code",
   "execution_count": 4,
   "id": "55f7dba0-40ea-4a87-88cd-d7762ab96ec6",
   "metadata": {
    "tags": []
   },
   "outputs": [],
   "source": [
    "REGION = 'us-central1'\n",
    "\n",
    "# Set the BUCKET name for saving work:\n",
    "BUCKET = PROJECT_ID"
   ]
  },
  {
   "cell_type": "markdown",
   "id": "91eda4f2-665e-4d72-84f7-dc1db3821348",
   "metadata": {},
   "source": [
    "packages:"
   ]
  },
  {
   "cell_type": "code",
   "execution_count": 5,
   "id": "9f694039-e4ac-4376-bb8c-234ac30b4d72",
   "metadata": {
    "tags": []
   },
   "outputs": [],
   "source": [
    "import os\n",
    "#os.environ['TF_CPP_MIN_LOG_LEVEL'] = '3'\n",
    "\n",
    "from google.cloud import aiplatform\n",
    "from google.cloud import bigquery\n",
    "from google.cloud import storage\n",
    "\n",
    "import vertexai.vision_models # Imagen Models\n",
    "import vertexai.preview.vision_models\n",
    "import vertexai.language_models # PaLM and Codey Models\n",
    "import vertexai.generative_models # for Gemini Models\n",
    "\n",
    "import json\n",
    "import io\n",
    "import base64\n",
    "import asyncio\n",
    "import requests\n",
    "import IPython\n",
    "import datetime, time"
   ]
  },
  {
   "cell_type": "code",
   "execution_count": 6,
   "id": "55e1c35c-3900-462c-86a4-e590d5eaedf4",
   "metadata": {
    "tags": []
   },
   "outputs": [
    {
     "data": {
      "text/plain": [
       "'1.71.1'"
      ]
     },
     "execution_count": 6,
     "metadata": {},
     "output_type": "execute_result"
    }
   ],
   "source": [
    "aiplatform.__version__"
   ]
  },
  {
   "cell_type": "markdown",
   "id": "3e4fd992-fc1e-41aa-ac50-8ce7334057fd",
   "metadata": {},
   "source": [
    "clients:"
   ]
  },
  {
   "cell_type": "code",
   "execution_count": 7,
   "id": "4cf195c7-4dff-4370-9dca-d49b90792578",
   "metadata": {
    "tags": []
   },
   "outputs": [],
   "source": [
    "vertexai.init(project = PROJECT_ID, location = REGION)\n",
    "gcs = storage.Client(project = PROJECT_ID)\n",
    "bq = bigquery.Client(project = PROJECT_ID)\n",
    "\n",
    "bucket = gcs.lookup_bucket(BUCKET)"
   ]
  },
  {
   "cell_type": "markdown",
   "id": "04e87b5e-60e4-4ef9-9019-7960f5ebff3e",
   "metadata": {},
   "source": [
    "---\n",
    "### Vertex AI - Gemini Models"
   ]
  },
  {
   "cell_type": "code",
   "execution_count": 8,
   "id": "cd89fd8d-1a84-4077-b84a-30ce99be6ed4",
   "metadata": {
    "tags": []
   },
   "outputs": [],
   "source": [
    "# Gemini Models\n",
    "gemini15_multimodal = vertexai.generative_models.GenerativeModel(\"gemini-1.5-pro-002\")\n",
    "gemini_flash = vertexai.generative_models.GenerativeModel(\"gemini-1.5-flash-002\")\n",
    "\n",
    "# Imagen Models\n",
    "imagecap_model = vertexai.vision_models.ImageCaptioningModel.from_pretrained(\"imagetext\")\n",
    "imageqna_model = vertexai.vision_models.ImageQnAModel.from_pretrained(\"imagetext\")\n",
    "imagetext_model = vertexai.vision_models.ImageTextModel.from_pretrained(\"imagetext\")\n",
    "multimodalembed_model = vertexai.vision_models.MultiModalEmbeddingModel.from_pretrained('multimodalembedding')\n",
    "imagen1_model = vertexai.preview.vision_models.ImageGenerationModel.from_pretrained('imagegeneration@002')\n",
    "imagen2_model = vertexai.preview.vision_models.ImageGenerationModel.from_pretrained('imagegeneration@005')"
   ]
  },
  {
   "cell_type": "markdown",
   "id": "0ab98c1d-69e4-490f-b51f-0acf8cda08ed",
   "metadata": {},
   "source": [
    "## Code"
   ]
  },
  {
   "cell_type": "markdown",
   "id": "1bf7e3b9-8621-420c-975b-40598ac91bfc",
   "metadata": {
    "tags": []
   },
   "source": [
    "### Rewriter Preamble"
   ]
  },
  {
   "cell_type": "code",
   "execution_count": 12,
   "id": "f75a8838-0d34-4eb1-9d53-7ff624b97348",
   "metadata": {
    "tags": []
   },
   "outputs": [],
   "source": [
    "rewriter_preamble = \"\"\"Generate a high quality rewrite of USER_QUERY for a text-to-video service. The rewrite adds details to greatly improve the visual quality and motion of the video, but does not change the user's intent.\n",
    "\n",
    "Refrain from adding children or minors to the rewrite if not necessary to satisfy the USER_QUERY.\n",
    "\n",
    "Consider extra details to enhance creativity. Consider adding visual details IF it would support the user query:\n",
    "- camera angle and composition: wide angle, drone camera, low angle view, closeup, macro, view from below looking up, centered, fisheye\n",
    "- lighting: silhouette, backlit, dim ambient lighting, long shadows, natural light, sunrise / sunset, daylight\n",
    "- camera settings and motion: depth of field, in focus, long exposure, tracking shot, POV\n",
    "- general quality identifiers: professional, award winning, high-quality\n",
    "- styles: cinematic shot, street photography, fashion photography, architectural photography, dramatic, vintage, retro\n",
    "- background: blurred background, bokeh, pink background, solid light blue background\n",
    "- color scheme: high contrast, cold muted tones, muted orange warm tones, dark tones, pastel colors\n",
    "- subject actions: walking, running, turning head\n",
    "\n",
    "Feel free to repeat the most important parts of the description! If you can't interpret the query as a plausible video, consider it as text and specify the details how and where it is written.\n",
    "\n",
    "Remember, it is important to include every word or a synonym from the USER_QUERY. Never remove any details from the USER QUERY, including mediums and styles.\n",
    "\n",
    "If USER_QUERY is long and detailed, either 1) add minor details in the variations, or 2) copy the USER_QUERY and only correct typos or misspellings.\n",
    "\n",
    "Absolutely make sure that EVERY detail of the USER_QUERY is well captured in each variation.\n",
    "Consider emphasizing the features of the USER_QUERY so that the video is rendered faithfully to the USER_QUERY.\n",
    "\n",
    "Please follow this style of text prompt, each line is a different prompt example:\n",
    "\n",
    "This close-up shot follows a happy queen as she ascends the steps of a candlelit throne room. The warm glow of the candlelight illuminates her regal bearing and the intricate details of her jeweled crown, the light dancing on the jewels as she moves. She turns her head, the happiness in her eyes becoming more prominent. The background blurs as she continues her ascent, the tapestries and gilded furniture a testament to her power and authority.\n",
    "\n",
    "Close-up portrait of a Black woman dancing in a vibrant carnival in Trinidad and Tobago. The energetic scene captures the infectious rhythm of the music and the exuberant spirit of the celebration. Colorful lights illuminate her face, highlighting her joyful expression and the graceful movement of her body. Her eyes, a sparkling brown, radiate pure happiness and the unbridled passion of Caribbean culture.\n",
    "\n",
    "Cinematic shot of a Caucasian man dressed in a weathered green trench coat, bathed in the eerie glow of a green neon sign. He leans against a gritty brick wall with a payphone, clutching a black rotary phone to his ear, his face etched with a mixture of urgency and desperation. The shallow depth of field focuses sharply on his furrowed brow and the tension in his jaw, while the background street scene blurs into a sea of neon colors and indistinct shadows.\n",
    "\n",
    "This underwater film scene features a close-up of a man in a dark business suit swimming through murky water. The video is captured in motion blur, with the man's limbs and suit jacket trailing behind him in swirling eddies. His expression is one of intense focus, eyes wide and mouth slightly open as he navigates the depths. The muted light filtering through the water casts eerie shadows and highlights the texture of his suit fabric. The overall mood is one of suspense and urgency, as if the man is on a desperate mission with time running out.\n",
    "\n",
    "Close-up shot of a quick cat briskly walking in the park, it’s crafted entirely of glass, illuminated by dramatic lighting. Each facet of its form glints and reflects, from the delicate whiskers to the curve of its tail. Its paws, though seemingly fragile, press firmly against the surface with each stride. The cat's translucent body allows the light to pass through, creating an ethereal glow that highlights its elegance and poise. The background is a deep, rich color, allowing the cat to stand out as the main focal point of the video.\n",
    "\n",
    "Cinematic shot of a lone surfer's silhouette, walking on a vast beach with surfboard in hand. The dramatic sunset paints the sky in vibrant hues of purple and red, casting long shadows across the sand. The sun dips below the horizon, leaving a fiery glow that illuminates the figure and the crashing waves. The wide shot captures the vastness of the scene, emphasizing the surfer's solitude and the awe-inspiring beauty of nature.\n",
    "\n",
    "Extreme close-up of a woman's eyes, bathed in the vibrant glow of neon lights. The camera focuses on the intricate details of her iris, a mesmerizing blend of blues, greens, and golds. Her long, dark lashes cast delicate shadows on her skin, and a single tear glistens at the corner of her eye. The woman's gaze is both alluring and mysterious, inviting the viewer to explore the depths of her emotions. The neon lights reflect in her pupils, creating a kaleidoscope of colors that dance and shimmer with each blink. The overall effect is one of intense beauty and raw vulnerability, capturing the essence of the human spirit in a single, captivating frame.\n",
    "\n",
    "A close-up shot of a man made entirely of glass riding the New York City subway. Sunlight refracts through his translucent form, casting a rainbow of colors on the nearby seats. His expression is serene, his eyes fixed on the passing cityscape reflected in the subway window. The other passengers, a mix of ages and ethnicities, sit perfectly still, their eyes wide with a mixture of fascination and fear. The carriage is silent, the only sound is the rhythmic clickety-clack of the train on the tracks.\n",
    "\n",
    "Close-up cinematic shot of an Indian man in a crisp white suit, bathed in the warm glow of an orange neon sign. He sits at a dimly lit bar, swirling a glass of amber liquid, his face a mask of quiet contemplation and hidden sorrow. The shallow depth of field draws attention to the weariness in his eyes and the lines etched around his mouth, while the bar's interior fades into a soft bokeh of orange neon and polished wood.\n",
    "\n",
    "A cinematic close-up frames the face of a young Asian woman in the heart of Tokyo's Shibuya Crossing. The neon glow of the cityscape illuminates her delicate features, highlighting the soft blush on her cheeks. Gentle lighting accentuates her bright, inquisitive eyes, reflecting the vibrant energy of the urban environment. A faint smile plays on her lips, hinting at a sense of anticipation and wonder. The blurred motion of pedestrians and vehicles in the background emphasizes her serene presence amidst the bustling metropolis. Her youthful expression captures a moment of fleeting beauty and the boundless possibilities that lie ahead.\n",
    "\n",
    "Medium close-up shot of a distinguished dog in a tailored business suit, engrossed in a newspaper on a moving train. Neon lights flicker through the window, casting high-contrast shadows on the dog's face and emphasizing the low vibrance of the scene. The dog's brow is furrowed in concentration, its eyes scanning the newsprint with an air of intelligence and determination. The train's rhythmic motion rocks the dog gently, creating a subtle blur in the background that accentuates the dog's stillness and focus.\n",
    "\n",
    "Tracking shot of a vibrant yellow convertible cruising through a scenic Nevada desert. An orange filter bathes the scene in warm, golden light, highlighting the dramatic rock formations and vast sandy expanse. The car speeds along a winding road, leaving a trail of dust in its wake. The open top allows the driver and passengers to fully experience the breathtaking landscape, their hair tousled by the wind. The low camera angle captures the car's sleek design and emphasizes the sense of freedom and adventure. The orange filter adds a touch of nostalgia and creates a visually stunning scene that evokes the spirit of the open road and the allure of the desert.\n",
    "\n",
    "This street style shot captures two chic women strolling through the fashionable streets of Paris. The first woman exudes elegance in a pair of crisp white pants, a pastel pink blazer cinched with a black belt and oversized black sunglasses. The second woman radiates confidence in her yellow wide leg trousers and an oversized hot pink blouson accessorized with a chunky gold necklace. Both women carry luxurious handbags adding to their effortless sophistication. The backdrop of Parisian architecture and bustling city life complements their stylish ensembles, creating a picture perfect moment of Parisian chic.\n",
    "\n",
    "Now, provide 4 different REWRITES for the following USER_QUERY in the style above using about 100 words each. Only produce the final four rewrites, one on each line, no intermediate thoughts. The rewrites should be distinct from each other, while following the user's intent.\n",
    "\"\"\""
   ]
  },
  {
   "cell_type": "markdown",
   "id": "8e153114-0e68-4a5f-a241-e2144b067c6a",
   "metadata": {},
   "source": [
    "### User Query"
   ]
  },
  {
   "cell_type": "code",
   "execution_count": 26,
   "id": "9b8ce5b9-e385-4284-9f7e-866bdc2b3d2c",
   "metadata": {},
   "outputs": [],
   "source": [
    "user_query = \"wide shot of a man kneeling down discreetly in an empty outdoor corridor of a university, using his hands to draw geometric sigils that glow with a faint light on the ground, cinematic\"\n"
   ]
  },
  {
   "cell_type": "code",
   "execution_count": 27,
   "id": "6120389a-9e38-4b55-aa3c-e890b35701c7",
   "metadata": {},
   "outputs": [],
   "source": [
    "prompt = rewriter_preamble + \"\\n\" + '\"' + user_query + '\"'\n",
    "#IPython.display.Markdown(prompt)"
   ]
  },
  {
   "cell_type": "markdown",
   "id": "32803ec6-7a6f-47d1-b989-cd1bf4c8c8f8",
   "metadata": {
    "jp-MarkdownHeadingCollapsed": true
   },
   "source": [
    "### Streamed Response"
   ]
  },
  {
   "cell_type": "code",
   "execution_count": 19,
   "id": "2af70c73-d29c-40f8-b996-370ce8ccc7b2",
   "metadata": {
    "tags": []
   },
   "outputs": [
    {
     "name": "stdout",
     "output_type": "stream",
     "text": [
      "C\n",
      "inematic wide shot of a lone man kneeling in the deserted, colonnaded corridor of\n",
      " a university at twilight.  He discreetly draws glowing geometric sigils on the\n",
      " stone floor with his hands, the faint, ethereal light emanating from the symbols contrasting with the deepening shadows. The camera slowly pushes in, emphasizing his focused expression and\n",
      " the intricate details of the glowing patterns. The low angle view accentuates the imposing architecture and adds to the scene's mystique.\n",
      "\n",
      "A dramatic, cinematic wide\n",
      " shot captures a man kneeling on the cold, grey stone floor of an empty university corridor at night.  He meticulously draws glowing geometric sigils with his fingertips, the faint light illuminating his concentrated face and the intricate designs.  Long shadows stretch\n",
      " across the corridor, adding an air of mystery and suspense. The camera remains static, emphasizing the vastness of the space and the man's isolation within it.\n",
      "\n",
      "From a high angle, a wide, cinematic shot overlooks a man kneeling\n",
      " in a deserted university corridor bathed in the cool blue light of pre-dawn.  His hands move deliberately, drawing geometric sigils that glow with a soft, otherworldly light on the polished floor. The camera slowly rotates around him, revealing the length of the corridor and the intricate details of the glowing symbols. The cool\n",
      " color palette emphasizes the stillness and solitude of the scene.\n",
      "\n",
      "A cinematic wide shot, employing a subtle fisheye lens, captures a man discreetly kneeling in an empty, outdoor corridor of a university.  He uses his hands to draw complex, geometric sigils on the ground, the symbols emitting a faint, pul\n",
      "sing light. The distorted perspective enhances the otherworldly nature of the scene. The muted orange warm tones of the approaching sunrise cast long shadows, adding to the mystical atmosphere.\n",
      "\n"
     ]
    }
   ],
   "source": [
    "for response_stream in gemini15_multimodal.generate_content(prompt, stream = True):\n",
    "    print(response_stream.text)"
   ]
  },
  {
   "cell_type": "markdown",
   "id": "96c7e266-79af-416e-9ac4-adff8ac19c21",
   "metadata": {},
   "source": [
    "### Regular Response"
   ]
  },
  {
   "cell_type": "code",
   "execution_count": 28,
   "id": "3054f26f-c174-4e18-bb40-f4d47f1bdcd5",
   "metadata": {},
   "outputs": [],
   "source": [
    "response = gemini15_multimodal.generate_content(prompt)"
   ]
  },
  {
   "cell_type": "code",
   "execution_count": 29,
   "id": "f94fc1a6-fd73-4477-8bc9-5b7bd7cb7608",
   "metadata": {
    "tags": []
   },
   "outputs": [
    {
     "data": {
      "text/markdown": [
       "Close-up, slow-motion shot of two hands fist bumping against the backdrop of a picturesque pasture filled with grazing cows. Golden hour sunlight bathes the scene in a warm, nostalgic glow, casting long shadows across the field.  The camera focuses sharply on the point of contact, emphasizing the connection and shared moment.  A slight breeze rustles the grass, and the distant sound of cowbells adds a touch of rural tranquility.\n",
       "\n",
       "Drone shot, slowly descending, captures two figures standing in the center of a vast field of cows.  As the camera approaches, their hands meet in a celebratory fist bump. The wide angle lens emphasizes the sheer number of cows surrounding them, a sea of black and white hides stretching to the horizon. The vibrant green pasture contrasts with the deep blue sky above, creating a visually striking image.\n",
       "\n",
       "Low angle, POV shot of a person extending their hand for a fist bump amidst a herd of curious cows.  The camera, positioned at ground level, captures the texture of the grass and the cows' hooves as they approach.  As the fist bump connects, the camera tilts up to reveal the smiling face of the recipient, their joy amplified by the unusual setting. Natural daylight illuminates the scene, creating a sense of authenticity.\n",
       "\n",
       "High-quality, cinematic shot of two silhouetted figures fist bumping against a fiery sunset backdrop, a herd of cows grazing peacefully in the foreground.  The dramatic lighting casts long shadows, highlighting the contours of the figures and the cows. The focus is on the silhouette and the vibrant colors of the sky, creating a powerful and evocative image. The distant mooing of cows adds to the rural atmosphere.\n"
      ],
      "text/plain": [
       "<IPython.core.display.Markdown object>"
      ]
     },
     "execution_count": 29,
     "metadata": {},
     "output_type": "execute_result"
    }
   ],
   "source": [
    "IPython.display.Markdown(response.text)"
   ]
  },
  {
   "cell_type": "markdown",
   "id": "5fb5e9cd-57cf-4db1-ace8-3775d09b6095",
   "metadata": {},
   "source": [
    "## Streamlit App"
   ]
  },
  {
   "cell_type": "code",
   "execution_count": 37,
   "id": "1bd58660-bee7-472d-932b-26de375780f5",
   "metadata": {},
   "outputs": [
    {
     "name": "stdout",
     "output_type": "stream",
     "text": [
      "Overwriting streamlit_rewriter.py\n"
     ]
    }
   ],
   "source": [
    "%%writefile streamlit_rewriter.py\n",
    "\n",
    "import streamlit as st\n",
    "from google.api_core.client_options import ClientOptions\n",
    "from google.cloud import aiplatform\n",
    "import vertexai\n",
    "import vertexai.generative_models # for Gemini Models\n",
    "\n",
    "# Configuration\n",
    "PROJECT_ID = \"mg-ce-demos\"\n",
    "REGION = \"us-central1\"\n",
    "\n",
    "# Gemini Models\n",
    "gemini15_multimodal = vertexai.generative_models.GenerativeModel(\"gemini-1.5-pro-002\")\n",
    "gemini_flash = vertexai.generative_models.GenerativeModel(\"gemini-1.5-flash-002\")\n",
    "\n",
    "# Page config\n",
    "st.set_page_config(\n",
    "    page_title=\"Text-to-Video Query Rewriter\",\n",
    "    page_icon=\"🎬\",\n",
    "    layout=\"wide\"\n",
    ")\n",
    "\n",
    "# Header\n",
    "st.markdown(\"<h1 class='title'>Text-to-Video Query Rewriter</h1>\", unsafe_allow_html=True)\n",
    "\n",
    "def generate_response_stream(input_text):\n",
    "    rewriter_preamble = \"\"\"Generate a high quality rewrite of USER_QUERY for a text-to-video service. The rewrite adds details to greatly improve the visual quality and motion of the video, but does not change the user's intent.\n",
    "\n",
    "    Refrain from adding children or minors to the rewrite if not necessary to satisfy the USER_QUERY.\n",
    "    \n",
    "    Consider extra details to enhance creativity. Consider adding visual details IF it would support the user query:\n",
    "    - camera angle and composition: wide angle, drone camera, low angle view, closeup, macro, view from below looking up, centered, fisheye\n",
    "    - lighting: silhouette, backlit, dim ambient lighting, long shadows, natural light, sunrise / sunset, daylight\n",
    "    - camera settings and motion: depth of field, in focus, long exposure, tracking shot, POV\n",
    "    - general quality identifiers: professional, award winning, high-quality\n",
    "    - styles: cinematic shot, street photography, fashion photography, architectural photography, dramatic, vintage, retro\n",
    "    - background: blurred background, bokeh, pink background, solid light blue background\n",
    "    - color scheme: high contrast, cold muted tones, muted orange warm tones, dark tones, pastel colors\n",
    "    - subject actions: walking, running, turning head\n",
    "    \n",
    "    Feel free to repeat the most important parts of the description! If you can't interpret the query as a plausible video, consider it as text and specify the details how and where it is written.\n",
    "    \n",
    "    Remember, it is important to include every word or a synonym from the USER_QUERY. Never remove any details from the USER QUERY, including mediums and styles.\n",
    "    \n",
    "    If USER_QUERY is long and detailed, either 1) add minor details in the variations, or 2) copy the USER_QUERY and only correct typos or misspellings.\n",
    "    \n",
    "    Absolutely make sure that EVERY detail of the USER_QUERY is well captured in each variation.\n",
    "    Consider emphasizing the features of the USER_QUERY so that the video is rendered faithfully to the USER_QUERY.\n",
    "    \n",
    "    Please follow this style of text prompt, each line is a different prompt example:\n",
    "    \n",
    "    This close-up shot follows a happy queen as she ascends the steps of a candlelit throne room. The warm glow of the candlelight illuminates her regal bearing and the intricate details of her jeweled crown, the light dancing on the jewels as she moves. She turns her head, the happiness in her eyes becoming more prominent. The background blurs as she continues her ascent, the tapestries and gilded furniture a testament to her power and authority.\n",
    "    \n",
    "    Close-up portrait of a Black woman dancing in a vibrant carnival in Trinidad and Tobago. The energetic scene captures the infectious rhythm of the music and the exuberant spirit of the celebration. Colorful lights illuminate her face, highlighting her joyful expression and the graceful movement of her body. Her eyes, a sparkling brown, radiate pure happiness and the unbridled passion of Caribbean culture.\n",
    "    \n",
    "    Cinematic shot of a Caucasian man dressed in a weathered green trench coat, bathed in the eerie glow of a green neon sign. He leans against a gritty brick wall with a payphone, clutching a black rotary phone to his ear, his face etched with a mixture of urgency and desperation. The shallow depth of field focuses sharply on his furrowed brow and the tension in his jaw, while the background street scene blurs into a sea of neon colors and indistinct shadows.\n",
    "    \n",
    "    This underwater film scene features a close-up of a man in a dark business suit swimming through murky water. The video is captured in motion blur, with the man's limbs and suit jacket trailing behind him in swirling eddies. His expression is one of intense focus, eyes wide and mouth slightly open as he navigates the depths. The muted light filtering through the water casts eerie shadows and highlights the texture of his suit fabric. The overall mood is one of suspense and urgency, as if the man is on a desperate mission with time running out.\n",
    "    \n",
    "    Close-up shot of a quick cat briskly walking in the park, it’s crafted entirely of glass, illuminated by dramatic lighting. Each facet of its form glints and reflects, from the delicate whiskers to the curve of its tail. Its paws, though seemingly fragile, press firmly against the surface with each stride. The cat's translucent body allows the light to pass through, creating an ethereal glow that highlights its elegance and poise. The background is a deep, rich color, allowing the cat to stand out as the main focal point of the video.\n",
    "    \n",
    "    Cinematic shot of a lone surfer's silhouette, walking on a vast beach with surfboard in hand. The dramatic sunset paints the sky in vibrant hues of purple and red, casting long shadows across the sand. The sun dips below the horizon, leaving a fiery glow that illuminates the figure and the crashing waves. The wide shot captures the vastness of the scene, emphasizing the surfer's solitude and the awe-inspiring beauty of nature.\n",
    "    \n",
    "    Extreme close-up of a woman's eyes, bathed in the vibrant glow of neon lights. The camera focuses on the intricate details of her iris, a mesmerizing blend of blues, greens, and golds. Her long, dark lashes cast delicate shadows on her skin, and a single tear glistens at the corner of her eye. The woman's gaze is both alluring and mysterious, inviting the viewer to explore the depths of her emotions. The neon lights reflect in her pupils, creating a kaleidoscope of colors that dance and shimmer with each blink. The overall effect is one of intense beauty and raw vulnerability, capturing the essence of the human spirit in a single, captivating frame.\n",
    "    \n",
    "    A close-up shot of a man made entirely of glass riding the New York City subway. Sunlight refracts through his translucent form, casting a rainbow of colors on the nearby seats. His expression is serene, his eyes fixed on the passing cityscape reflected in the subway window. The other passengers, a mix of ages and ethnicities, sit perfectly still, their eyes wide with a mixture of fascination and fear. The carriage is silent, the only sound is the rhythmic clickety-clack of the train on the tracks.\n",
    "    \n",
    "    Close-up cinematic shot of an Indian man in a crisp white suit, bathed in the warm glow of an orange neon sign. He sits at a dimly lit bar, swirling a glass of amber liquid, his face a mask of quiet contemplation and hidden sorrow. The shallow depth of field draws attention to the weariness in his eyes and the lines etched around his mouth, while the bar's interior fades into a soft bokeh of orange neon and polished wood.\n",
    "    \n",
    "    A cinematic close-up frames the face of a young Asian woman in the heart of Tokyo's Shibuya Crossing. The neon glow of the cityscape illuminates her delicate features, highlighting the soft blush on her cheeks. Gentle lighting accentuates her bright, inquisitive eyes, reflecting the vibrant energy of the urban environment. A faint smile plays on her lips, hinting at a sense of anticipation and wonder. The blurred motion of pedestrians and vehicles in the background emphasizes her serene presence amidst the bustling metropolis. Her youthful expression captures a moment of fleeting beauty and the boundless possibilities that lie ahead.\n",
    "    \n",
    "    Medium close-up shot of a distinguished dog in a tailored business suit, engrossed in a newspaper on a moving train. Neon lights flicker through the window, casting high-contrast shadows on the dog's face and emphasizing the low vibrance of the scene. The dog's brow is furrowed in concentration, its eyes scanning the newsprint with an air of intelligence and determination. The train's rhythmic motion rocks the dog gently, creating a subtle blur in the background that accentuates the dog's stillness and focus.\n",
    "    \n",
    "    Tracking shot of a vibrant yellow convertible cruising through a scenic Nevada desert. An orange filter bathes the scene in warm, golden light, highlighting the dramatic rock formations and vast sandy expanse. The car speeds along a winding road, leaving a trail of dust in its wake. The open top allows the driver and passengers to fully experience the breathtaking landscape, their hair tousled by the wind. The low camera angle captures the car's sleek design and emphasizes the sense of freedom and adventure. The orange filter adds a touch of nostalgia and creates a visually stunning scene that evokes the spirit of the open road and the allure of the desert.\n",
    "    \n",
    "    This street style shot captures two chic women strolling through the fashionable streets of Paris. The first woman exudes elegance in a pair of crisp white pants, a pastel pink blazer cinched with a black belt and oversized black sunglasses. The second woman radiates confidence in her yellow wide leg trousers and an oversized hot pink blouson accessorized with a chunky gold necklace. Both women carry luxurious handbags adding to their effortless sophistication. The backdrop of Parisian architecture and bustling city life complements their stylish ensembles, creating a picture perfect moment of Parisian chic.\n",
    "    \n",
    "    Now, provide 4 different REWRITES for the following USER_QUERY in the style above using about 100 words each. Only produce the final four rewrites, one on each line, no intermediate thoughts. The rewrites should be distinct from each other, while following the user's intent.\n",
    "    \"\"\"\n",
    "    prompt = rewriter_preamble + \"\\n\" + '\"' + input_text + '\"'\n",
    "    for response in gemini15_multimodal.generate_content(prompt, stream = True):\n",
    "        yield response.text\n",
    "\n",
    "user_text = st.text_input(\"User query: \",key=\"suboptimal prompt\")\n",
    "\n",
    "submit = st.button(\"Rewrite!\")\n",
    "\n",
    "#If ask button is clicked\n",
    "if submit:\n",
    "    st.write_stream(generate_response_stream(user_text))\n",
    "\n"
   ]
  },
  {
   "cell_type": "code",
   "execution_count": null,
   "id": "a5e8bc50-f5e5-4110-afb2-61e4e0d24228",
   "metadata": {},
   "outputs": [],
   "source": []
  }
 ],
 "metadata": {
  "environment": {
   "kernel": "conda-base-py",
   "name": "workbench-notebooks.m125",
   "type": "gcloud",
   "uri": "us-docker.pkg.dev/deeplearning-platform-release/gcr.io/workbench-notebooks:m125"
  },
  "kernelspec": {
   "display_name": "Python 3 (ipykernel)",
   "language": "python",
   "name": "python3"
  },
  "language_info": {
   "codemirror_mode": {
    "name": "ipython",
    "version": 3
   },
   "file_extension": ".py",
   "mimetype": "text/x-python",
   "name": "python",
   "nbconvert_exporter": "python",
   "pygments_lexer": "ipython3",
   "version": "3.11.10"
  }
 },
 "nbformat": 4,
 "nbformat_minor": 5
}
