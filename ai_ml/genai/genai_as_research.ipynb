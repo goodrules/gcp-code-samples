{
 "cells": [
  {
   "cell_type": "markdown",
   "id": "3fb95b95-393b-45bf-a938-512692ee636e",
   "metadata": {},
   "source": [
    "# Agentspace Research Assistant - API"
   ]
  },
  {
   "cell_type": "markdown",
   "id": "a470bbde-db7a-49e2-b145-dac5f61b827d",
   "metadata": {
    "jp-MarkdownHeadingCollapsed": true
   },
   "source": [
    "## Setup"
   ]
  },
  {
   "cell_type": "code",
   "execution_count": 31,
   "id": "e2fd2704-6603-429d-8b30-142e33e27a27",
   "metadata": {},
   "outputs": [],
   "source": [
    "import json\n",
    "import requests\n",
    "import json_stream\n",
    "from json_stream.base import StreamingJSONList, StreamingJSONObject\n",
    "import io\n",
    "\n",
    "from IPython.display import display, Markdown,HTML,Image"
   ]
  },
  {
   "cell_type": "code",
   "execution_count": 16,
   "id": "3401bbf9-2469-473e-b6cf-7ca76a32e626",
   "metadata": {},
   "outputs": [],
   "source": [
    "raw_token = ! gcloud auth print-access-token\n",
    "token = f'Bearer {raw_token[0]}'"
   ]
  },
  {
   "cell_type": "code",
   "execution_count": 17,
   "id": "86702876-e6b2-4fb4-b196-6176088c7ada",
   "metadata": {},
   "outputs": [],
   "source": [
    "project = !gcloud config get-value project\n",
    "PROJECT_ID = project[0]\n",
    "ENGINE_ID = \"agentspace-pe-main_1739458386326\"\n",
    "BASE_URL  = 'https://discoveryengine.googleapis.com/v1alpha'"
   ]
  },
  {
   "cell_type": "code",
   "execution_count": 18,
   "id": "b6f227c3-da8c-4ffa-9f8b-a6ffba11e9fa",
   "metadata": {},
   "outputs": [],
   "source": [
    "# URL and headers for Agentspace agent queries\n",
    "request_url = (\n",
    "    f'{BASE_URL}'\n",
    "    f'/projects/{PROJECT_ID}'\n",
    "    f'/locations/global'\n",
    "    f'/collections/default_collection'\n",
    "    f'/engines/{ENGINE_ID}/assistants/default_assistant:streamAssist'\n",
    ")\n",
    "headers = {\n",
    "    'Authorization': token,\n",
    "    'Content-Type': 'application/json',\n",
    "    'X-Goog-User-Project': PROJECT_ID\n",
    "}"
   ]
  },
  {
   "cell_type": "markdown",
   "id": "3235b54a-e952-4560-9dab-94a4070a5d0d",
   "metadata": {
    "jp-MarkdownHeadingCollapsed": true
   },
   "source": [
    "## Helper Functions"
   ]
  },
  {
   "cell_type": "code",
   "execution_count": 4,
   "id": "cb73703d-3a54-4e25-90a6-06283c9e16a5",
   "metadata": {},
   "outputs": [],
   "source": [
    "def extract_plan(json_data):\n",
    "    texts = []\n",
    "    session = None\n",
    "    \n",
    "    # Process the json_data which is a list\n",
    "    for item in json_data:\n",
    "        # Extract session information\n",
    "        if 'sessionInfo' in item and 'session' in item['sessionInfo']:\n",
    "            session = item['sessionInfo']['session']\n",
    "        \n",
    "        # Navigate to the replies in the answer\n",
    "        if 'answer' in item and 'replies' in item['answer']:\n",
    "            replies = item['answer']['replies']\n",
    "            \n",
    "            # Iterate through each reply\n",
    "            for reply in replies:\n",
    "                # Check if there's groundedContent with text\n",
    "                if ('groundedContent' in reply and \n",
    "                    'content' in reply['groundedContent'] and \n",
    "                    'text' in reply['groundedContent']['content']):\n",
    "                    \n",
    "                    # Extract the text\n",
    "                    text = reply['groundedContent']['content']['text']\n",
    "                    texts.append(text)\n",
    "    \n",
    "    # Join all texts with newlines to create markdown\n",
    "    markdown_text = \"\\n\\n\".join(texts)\n",
    "    \n",
    "    return markdown_text, session\n"
   ]
  },
  {
   "cell_type": "markdown",
   "id": "5cfc6604-aad9-4aa1-bffa-f4a9f7e2f598",
   "metadata": {
    "jp-MarkdownHeadingCollapsed": true
   },
   "source": [
    "## Create the Plan"
   ]
  },
  {
   "cell_type": "code",
   "execution_count": 19,
   "id": "a7ede87e-7f2f-4742-a60b-94f15a5c5a9a",
   "metadata": {},
   "outputs": [],
   "source": [
    "query_plan = \"How did DeepSeek impact NVIDIA share prices?\"\n",
    "\n",
    "json_plan = {\n",
    "    'query': {\n",
    "        'text': query_plan,\n",
    "    },\n",
    "    'answerGenerationMode': 'RESEARCH',\n",
    "    'googleSearchGroundingEnabled': True\n",
    "}"
   ]
  },
  {
   "cell_type": "code",
   "execution_count": 20,
   "id": "6fca225c-405d-49a2-87e4-264dfe2d9a76",
   "metadata": {},
   "outputs": [
    {
     "name": "stdout",
     "output_type": "stream",
     "text": [
      "<Response [200]>\n"
     ]
    }
   ],
   "source": [
    "response_plan = requests.post(request_url, headers = headers, json = json_plan)\n",
    "print(response_plan)"
   ]
  },
  {
   "cell_type": "code",
   "execution_count": 21,
   "id": "f6be2ff2-7223-4378-b7f7-0a1f1f0e4737",
   "metadata": {},
   "outputs": [
    {
     "data": {
      "text/markdown": [
       "I have created a research plan to investigate the impact of DeepSeek on NVIDIA's share prices. Please review it and let me know if you have any suggestions or modifications.\n",
       "\n",
       "## Impact of DeepSeek on NVIDIA Share Prices\n",
       "\n",
       "### **Understanding DeepSeek**\n",
       "Research DeepSeek to understand its products, services, and its position in the market, especially in relation to AI and computing.\n",
       "\n",
       "### **Overview of NVIDIA's Business and Stock Performance**\n",
       "Gather information on NVIDIA's core business, recent stock performance, and key market factors influencing its valuation.\n",
       "\n",
       "### **DeepSeek and NVIDIA: Competitive Analysis**\n",
       "Analyze the competitive landscape between DeepSeek and NVIDIA, focusing on areas of overlap and potential competition in AI, hardware, or software.\n",
       "\n",
       "### **Market Sentiment Analysis Regarding DeepSeek and NVIDIA**\n",
       "Investigate news articles, financial analysis reports, and online discussions to gauge market sentiment towards both companies.\n",
       "\n",
       "### **Correlation Analysis of DeepSeek's Announcements and NVIDIA's Stock Price**\n",
       "Examine specific announcements, product launches, or partnerships involving DeepSeek and analyze their correlation with changes in NVIDIA's stock price.\n",
       "\n",
       "### **Expert Opinions and Financial Analysis**\n",
       "Consult expert opinions from financial analysts and industry experts regarding the potential impact of DeepSeek on NVIDIA's market position and stock valuation."
      ],
      "text/plain": [
       "<IPython.core.display.Markdown object>"
      ]
     },
     "execution_count": 21,
     "metadata": {},
     "output_type": "execute_result"
    }
   ],
   "source": [
    "research_plan, session_id = extract_plan(response_plan.json())\n",
    "Markdown(research_plan)"
   ]
  },
  {
   "cell_type": "markdown",
   "id": "5be9044b-8aa6-477e-8d62-87aead327aa8",
   "metadata": {},
   "source": [
    "## Run the Plan (*non-stream*)"
   ]
  },
  {
   "cell_type": "code",
   "execution_count": 22,
   "id": "82495bc7-b03b-4859-86fd-0582f38e734d",
   "metadata": {},
   "outputs": [],
   "source": [
    "query_research = \"Start research\"\n",
    "\n",
    "json_research = {\n",
    "    \"query\": {\n",
    "        \"text\": query_research,\n",
    "    },\n",
    "    \"session\": session_id,\n",
    "    \"answerGenerationMode\": \"RESEARCH\"\n",
    "}"
   ]
  },
  {
   "cell_type": "code",
   "execution_count": 23,
   "id": "2a956b7c-2041-4271-86d1-62b1099a6efb",
   "metadata": {},
   "outputs": [
    {
     "name": "stdout",
     "output_type": "stream",
     "text": [
      "<Response [200]>\n"
     ]
    }
   ],
   "source": [
    "response_research = requests.post(request_url, headers = headers, json = json_research)\n",
    "print(response_research)"
   ]
  },
  {
   "cell_type": "code",
   "execution_count": 30,
   "id": "010f1705-b8d4-47d1-88f4-5391c27af111",
   "metadata": {},
   "outputs": [
    {
     "data": {
      "text/plain": [
       "{'groundedContent': {'content': {'role': 'model',\n",
       "   'text': ' of the connected data sources.'},\n",
       "  'textGroundingMetadata': {},\n",
       "  'contentMetadata': {'contentKind': 'RESEARCH_ANSWER', 'contentId': 'ID14'}}}"
      ]
     },
     "execution_count": 30,
     "metadata": {},
     "output_type": "execute_result"
    }
   ],
   "source": [
    "response_research.json()[555]['answer']['replies'][0]"
   ]
  },
  {
   "cell_type": "code",
   "execution_count": 10,
   "id": "04cc91f9-7664-49e8-b9a5-4bcf6d8b689c",
   "metadata": {},
   "outputs": [
    {
     "name": "stdout",
     "output_type": "stream",
     "text": [
      "All done!\n"
     ]
    }
   ],
   "source": [
    "report = []\n",
    "for i in range(len(response_plan.json())):\n",
    "    if response_plan.json()[i]['answer']['state'] != \"SUCCEEDED\":\n",
    "        if 'contentKind' in response_plan.json()[i]['answer']['replies'][0]['groundedContent']['contentMetadata']:\n",
    "            if response_plan.json()[i]['answer']['replies'][0]['groundedContent']['contentMetadata']['contentKind'] == 'RESEARCH_REPORT':\n",
    "                report.append(response_plan.json()[i]['answer']['replies'][0]['groundedContent']['content']['text'])\n",
    "    else:\n",
    "        print(\"All done!\")"
   ]
  },
  {
   "cell_type": "code",
   "execution_count": 11,
   "id": "0fe9fb85-00eb-4080-95a2-3df865fb3185",
   "metadata": {},
   "outputs": [
    {
     "data": {
      "text/markdown": [
       "#  Research Document: Impact of DeepSeek on NVIDIA Share Prices\n",
       "\n",
       "This document analyzes the  potential impact of DeepSeek, a Chinese AI company, on NVIDIA's share  prices.  We will examine DeepSeek's offerings, NVIDIA's market position, the overlap between their businesses, and the market's reaction to Deep Seek's advancements.\n",
       "\n",
       "## 1. Understanding DeepSeek\n",
       "\n",
       "DeepSeek is a Chinese artificial intelligence company based in Hangzhou, Zhejiang, founded in July  2023 by Liang Wenfeng .  Wenfeng also co-founded High-Flyer, a Chinese hedge fund that owns and funds DeepSeek, and serves as CEO for both companies  . DeepSeek focuses on developing open-source large language models (LLMs) , offering a range of products and services centered around AI and data analysis .\n",
       "\n",
       "###  1.1 DeepSeek's Products and Services\n",
       "\n",
       "DeepSeek's main offerings include:\n",
       "\n",
       "*   **AI Models:**  A series of open-source LLMs such as DeepSeek Coder, DeepSeek LLM, DeepSeek-V2, DeepSeek V3, and DeepSeek R1,  designed for various tasks including coding, general-purpose applications, and reasoning .  DeepSeek-R1, released in January 2025 under the MIT License, is particularly noteworthy for its performance and open-source nature .   DeepSeek also released Janus-Pro-7B, a vision model in January 2025 .\n",
       "*   **DeepSeek AI Assistant:** A mobile application providing a chatbot interface for DeepSeek-R1 .\n",
       "*   **API Access:** An API allowing developers to integrate DeepSeek 's AI models into their projects .\n",
       "*   **DeepSeek Platform:** A developer platform .\n",
       "*   **Data Analysis and Information Retrieval:** An advanced platform for data analytics and information retrieval using AI technologies .\n",
       "*   **Services:**  Services such as big data analysis, natural language processing, and AI-powered algorithms for businesses .\n",
       "\n",
       "DeepSeek gained international attention for allegedly matching the performance of leading Western AI models at a fraction of the cost , positioning itself as an open-source alternative to ChatGPT .\n",
       "\n",
       "##  2. NVIDIA's Market Position and Influencing Factors\n",
       "\n",
       "As of March 2025, NVIDIA holds a dominant market position, especially in GPUs for high-performance gaming and data center AI workloads .  It boasts a market capitalization of $2.916 trillion USD, making it  the world's second most valuable company , with a market share of 44.85% .  Its recent quarterly revenue reached $39.33B USD, exceeding estimates .  Analysts predict a stock price range of $130.00  to $235.92 USD .\n",
       "\n",
       "Several factors influence NVIDIA's share price:\n",
       "\n",
       "*   **AI Market Trends:**  Demand for generative AI and supercomputers significantly impacts NVIDIA's revenue, as its GPUs are crucial for machine learning and generative AI models  .\n",
       "*   **Financial Performance:** Revenue growth and earnings reports directly affect the stock price .\n",
       "*   **Competition:** Competition from AMD and Intel influences NVIDIA's market share and stock price .\n",
       "*   **Market  Capitalization:** Changes in market capitalization reflect investor sentiment and influence the stock price .\n",
       "*   **Chip Export Restrictions:** Restrictions on chip exports, particularly to China, can negatively impact revenue and stock price .\n",
       "*   **Investor Sentiment and Valuation:**  Investor confidence and valuation significantly impact the stock price .\n",
       "*   **Cryptocurrency Market:** Fluctuations in the cryptocurrency market can affect GPU demand for mining, impacting the stock price .\n",
       "*   **Economic Factors:** Economic uncertainty and tariffs can lead to market sell-offs  .\n",
       "*   **Company-Specific Developments:** New chip transitions and announcements at AI conferences can influence investor interest .\n",
       "*   **Demand for Data Centers:** Increasing demand for processing power in data centers drives NVIDIA's market leadership .\n",
       "*   **Gaming Industry:** NVIDIA  maintains a strong position in the gaming industry .\n",
       "\n",
       "\n",
       "## 3. DeepSeek and NVIDIA: Overlap and Interaction\n",
       "\n",
       "The primary overlap between DeepSeek and NVIDIA lies in AI and high-performance computing . DeepSeek utilizes LLMs for generative AI services  , while NVIDIA provides the GPUs and CUDA platform, a standard for AI and machine learning workloads .  NVIDIA's hardware and software are used to develop and deploy AI models like those created by DeepSeek  .\n",
       "\n",
       "NVIDIA has publicly commented on DeepSeek, praising its advancements and highlighting DeepSeek-R1's availability as an NVIDIA NIM microservice .  They emphasize the importance of NVIDIA GPUs and high-performance networking for AI inference  and the benefits of their Blackwell  architecture for DeepSeek-R1's performance .  They also highlight the DeepSeek R1 FP4 model, a quantized version of DeepSeek R1 .\n",
       "\n",
       "## 4. Market Reaction to DeepSeek\n",
       "\n",
       "The release of DeepSeek's AI models, particularly DeepSeek -R1 on January 10, 2025 , caused a significant market reaction .  NVIDIA's stock price experienced a substantial drop on January 27, 2025, its largest one-day decline since  March 2020 , erasing a significant portion of its market capitalization . This sell-off impacted the broader tech market .  Investor concerns stemmed from DeepSeek' s ability to achieve comparable performance to leading models with less powerful hardware , questioning the necessity of massive spending on AI systems .  DeepSeek's software-driven optimization approach, potentially reducing demand for high-end chips, contributed to the market's  reaction .  While some analysts viewed the drop as an overreaction , others suggested that DeepSeek's success could shift the industry focus towards efficiency .\n",
       "\n",
       "Financial news articles and analyst reports highlighted the market impact of DeepSeek's cost-efficient AI model  , noting the significant decline in AI-related company stock prices, including NVIDIA's .  Analysts offered varied perspectives, some seeing a buying opportunity  , while others questioned DeepSeek's claims .  The long-term implications for NVIDIA and the broader AI sector remain uncertain .\n",
       "\n",
       "Major investors and analysts expressed diverse opinions . Some saw a buying opportunity due  to potential increased demand for NVIDIA GPUs , while others expressed skepticism about DeepSeek's claims and potential impact on GPU demand .  NVIDIA itself maintained a positive view of DeepSeek's achievements . \n",
       "\n",
       "## 5.  NVIDIA's Stock Price Around DeepSeek Model Releases\n",
       "\n",
       "The release of DeepSeek's R1 model on January 10, 2025  coincided with a significant drop in NVIDIA's stock price on January 27,  2025 , closing at $126.75, an 11.13% drop .  Some sources report a 17% decline  , resulting in a market capitalization decrease of approximately $589 billion .  The stock recovered somewhat in the following weeks .  Information on NVIDIA's stock prices around the release dates of other DeepSeek models is limited.  However, we know  that on May 6, 2024, the closing price was $92.13 , on July 18, 2024, it was $121.07 , and on December 20, 2 024, it was $134.70 .  Finally, in November 2023, the closing price was $46.75 .\n",
       "\n",
       "## 6. NVIDIA 's Q1 2025 Earnings\n",
       "\n",
       "NVIDIA's Q1 2025 earnings report showed strong performance .  Total revenue exceeded estimates at $26.0 billion , with Data Center revenue significantly surpassing expectations at $22.6 billion  .  Gaming revenue also increased .  The report highlighted strong demand for Hopper GPUs and provided positive guidance for Q2 2025 .\n",
       "\n",
       "## 7. Executive Summary\n",
       "\n",
       "DeepSeek's emergence as a provider of cost -effective, open-source AI models has created a ripple effect in the AI industry and financial markets.  While DeepSeek's technology presents a potential challenge to NVIDIA's dominance in the high-end GPU market, the market's initial reaction, characterized by a significant drop in NVIDIA's stock price following  the release of DeepSeek-R1, appears to have been an overreaction by some accounts.  NVIDIA's strong Q1 2025 earnings, however, demonstrate the company's continued success and resilience.  The long-term impact of DeepSeek on NVIDIA's business remains to be seen , but the situation highlights the dynamic and competitive nature of the AI landscape.  Further research is needed to fully understand the evolving relationship between these two companies and its impact on the broader AI market.\n",
       " "
      ],
      "text/plain": [
       "<IPython.core.display.Markdown object>"
      ]
     },
     "execution_count": 11,
     "metadata": {},
     "output_type": "execute_result"
    }
   ],
   "source": [
    "report_str = ' '.join(report)\n",
    "Markdown(report_str)"
   ]
  },
  {
   "cell_type": "markdown",
   "id": "a9510a82-4b04-4396-ad80-a9cabec7218c",
   "metadata": {
    "jp-MarkdownHeadingCollapsed": true
   },
   "source": [
    "## Run the Plan (*stream*) - WIP"
   ]
  },
  {
   "cell_type": "code",
   "execution_count": 41,
   "id": "656b00de-925f-404d-ae94-ccfafbc6c3a9",
   "metadata": {},
   "outputs": [],
   "source": [
    "query_research = \"Start research\"\n",
    "\n",
    "json_research = {\n",
    "    \"query\": {\n",
    "        \"text\": query_research,\n",
    "    },\n",
    "    \"session\": session_id,\n",
    "    \"answerGenerationMode\": \"RESEARCH\"\n",
    "}"
   ]
  },
  {
   "cell_type": "code",
   "execution_count": 40,
   "id": "383b348e-1279-4cfe-8cfe-696d54617de8",
   "metadata": {},
   "outputs": [],
   "source": [
    "def stream_text_response_lines(request_url, headers, json):\n",
    "    \"\"\"\n",
    "    Performs a POST request and yields the response as a stream of text lines.\n",
    "\n",
    "    Args:\n",
    "        request_url (str): The URL to send the POST request to.\n",
    "        headers (dict): Headers to include in the request.\n",
    "        json_plan (dict): The JSON data to send in the request body.\n",
    "\n",
    "    Yields:\n",
    "        str: The next line of text from the response.\n",
    "             Yields an error message string if the request fails.\n",
    "    \"\"\"\n",
    "    try:\n",
    "        with requests.post(request_url, headers=headers, json=json, stream=True) as response:\n",
    "            response.raise_for_status()\n",
    "            # Yield each line as text, decoding using the response's encoding\n",
    "            for line in response.iter_lines(decode_unicode=True):\n",
    "                yield line\n",
    "\n",
    "    except Exception as e:\n",
    "        yield f\"An error occurred: {e}\"\n",
    "\n",
    "def stream_text_response_chunks(request_url, headers, json, chunk_size=1024):\n",
    "    \"\"\"\n",
    "    Performs a POST request and yields the response as a stream of text chunks.\n",
    "\n",
    "    Args:\n",
    "        request_url (str): The URL to send the POST request to.\n",
    "        headers (dict): Headers to include in the request.\n",
    "        json_plan (dict): The JSON data to send in the request body.\n",
    "        chunk_size (int): The size of the chunks to read in bytes.\n",
    "\n",
    "    Yields:\n",
    "        str: The next chunk of text from the response.\n",
    "             Yields an error message string if the request fails.\n",
    "    \"\"\"\n",
    "    try:\n",
    "        with requests.post(request_url, headers=headers, json=json, stream=True) as response:\n",
    "            response.raise_for_status()\n",
    "            # Yield chunks of text, decoding using the response's encoding\n",
    "            for chunk in response.iter_content(chunk_size=chunk_size, decode_unicode=True):\n",
    "                yield chunk\n",
    "\n",
    "    except Exception as e:\n",
    "        yield f\"An error occurred: {e}\"\n"
   ]
  },
  {
   "cell_type": "code",
   "execution_count": 42,
   "id": "7e063304-08b1-4b09-9c6d-bb07b2234cad",
   "metadata": {},
   "outputs": [
    {
     "name": "stdout",
     "output_type": "stream",
     "text": [
      "--- Streaming text lines ---\n",
      "Received line: An error occurred: 401 Client Error: Unauthorized for url: https://discoveryengine.googleapis.com/v1alpha/projects/mg-ce-demos/locations/global/collections/default_collection/engines/agentspace-pe-main_1739458386326/assistants/default_assistant:streamAssist\n"
     ]
    }
   ],
   "source": [
    "print(\"--- Streaming text lines ---\")\n",
    "text_stream_lines = stream_text_response_lines(request_url, headers, json_research)\n",
    "if text_stream_lines:\n",
    "    for line in text_stream_lines:\n",
    "        print(f\"Received line: {line}\")\n",
    "\n",
    "    "
   ]
  },
  {
   "cell_type": "code",
   "execution_count": null,
   "id": "397fee5d-e9a0-4385-a773-4167bf89c823",
   "metadata": {},
   "outputs": [],
   "source": [
    "print(\"\\n--- Streaming text chunks (128 bytes) ---\")\n",
    "text_stream_chunks = stream_text_response_chunks(request_url, headers, json_plan, chunk_size=128)\n",
    "if text_stream_chunks:\n",
    "    for chunk in text_stream_chunks:\n",
    "        print(f\"Received chunk: {chunk!r}\") # Using !r to show raw string with potential newlines\n"
   ]
  },
  {
   "cell_type": "code",
   "execution_count": null,
   "id": "1e2b79c8-260e-4687-8a32-6b9ef426b80d",
   "metadata": {},
   "outputs": [],
   "source": [
    "report = []\n",
    "for i in range(len(response_plan.json())):\n",
    "    if response_plan.json()[i]['answer']['state'] != \"SUCCEEDED\":\n",
    "        if 'contentKind' in response_plan.json()[i]['answer']['replies'][0]['groundedContent']['contentMetadata']:\n",
    "            if response_plan.json()[i]['answer']['replies'][0]['groundedContent']['contentMetadata']['contentKind'] == 'RESEARCH_REPORT':\n",
    "                report.append(response_plan.json()[i]['answer']['replies'][0]['groundedContent']['content']['text'])\n",
    "    else:\n",
    "        print(\"All done!\")"
   ]
  }
 ],
 "metadata": {
  "kernelspec": {
   "display_name": "Python 3 (ipykernel)",
   "language": "python",
   "name": "python3"
  },
  "language_info": {
   "codemirror_mode": {
    "name": "ipython",
    "version": 3
   },
   "file_extension": ".py",
   "mimetype": "text/x-python",
   "name": "python",
   "nbconvert_exporter": "python",
   "pygments_lexer": "ipython3",
   "version": "3.11.11"
  }
 },
 "nbformat": 4,
 "nbformat_minor": 5
}
