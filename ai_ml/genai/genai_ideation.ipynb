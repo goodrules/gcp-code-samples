{
 "cells": [
  {
   "cell_type": "markdown",
   "metadata": {
    "id": "Sxq-V_jV4gEk",
    "tags": []
   },
   "source": [
    "# Using the Vertex AI PaLM API to explain BQML Clustering - Our Very Own Persona Builder"
   ]
  },
  {
   "cell_type": "markdown",
   "metadata": {
    "id": "sHoUOuxf5GOR",
    "tags": []
   },
   "source": [
    "# Core code\n",
    "Let's define some variables that will be used throughout this notebook.\n",
    "\n",
    "These are the GCP Project ID `project_id`, the Model name `model_name` which is any name you prefer, and finally the Dataset name `dataset_name`.\n",
    "The dataset needs to exist in the same Project as `project_id` and you'll need appropriate access to create and delete."
   ]
  },
  {
   "cell_type": "markdown",
   "metadata": {
    "tags": []
   },
   "source": [
    "## Setup"
   ]
  },
  {
   "cell_type": "code",
   "execution_count": 1,
   "metadata": {
    "id": "fU3_zsLsZ89c"
   },
   "outputs": [],
   "source": [
    "from typing import Union\n",
    "import sys\n",
    "\n",
    "import os\n",
    "import io\n",
    "import json\n",
    "import base64\n",
    "import requests\n",
    "import concurrent.futures\n",
    "import time\n",
    "\n",
    "import numpy as np\n",
    "import pandas as pd\n",
    "\n",
    "import vertexai.preview.language_models\n",
    "from google.cloud import aiplatform\n",
    "from google.cloud import documentai\n",
    "from google.cloud.documentai_v1 import Document\n",
    "from google.cloud import storage\n",
    "from google.cloud import bigquery\n",
    "\n",
    "from IPython.display import display, Markdown, Latex\n"
   ]
  },
  {
   "cell_type": "code",
   "execution_count": 2,
   "metadata": {
    "id": "_3Rfhx874F2J"
   },
   "outputs": [],
   "source": [
    "PROJECT_ID = 'mg-ce-demos'\n",
    "REGION = 'us-central1'\n"
   ]
  },
  {
   "cell_type": "code",
   "execution_count": 3,
   "metadata": {},
   "outputs": [],
   "source": [
    "# vertex ai clients\n",
    "vertexai.init(project = PROJECT_ID, location = REGION)\n",
    "aiplatform.init(project = PROJECT_ID, location = REGION)\n"
   ]
  },
  {
   "cell_type": "markdown",
   "metadata": {
    "id": "7Na0_rVVLhOk",
    "tags": []
   },
   "source": [
    "## Ideate with Vertex AI PaLM API"
   ]
  },
  {
   "cell_type": "code",
   "execution_count": 11,
   "metadata": {},
   "outputs": [],
   "source": [
    "textgen_model = vertexai.preview.language_models.TextGenerationModel.from_pretrained('text-bison@latest')"
   ]
  },
  {
   "cell_type": "markdown",
   "metadata": {},
   "source": [
    "### Now, we send our prompt to Google GenAI API for some LLM magic"
   ]
  },
  {
   "cell_type": "code",
   "execution_count": 16,
   "metadata": {},
   "outputs": [],
   "source": [
    "# Provide some context\n",
    "pre_text = \"Pretend you're a marketing specialist, \"\n",
    "\n",
    "# Ask the LLM\n",
    "text = \"Generate a marketing campaign for the launch of a new condominium community in Cincinnati, OH\"\n",
    "\n",
    "prompt = pre_text+text"
   ]
  },
  {
   "cell_type": "code",
   "execution_count": 17,
   "metadata": {},
   "outputs": [
    {
     "data": {
      "text/markdown": [
       "## Prompt:"
      ],
      "text/plain": [
       "<IPython.core.display.Markdown object>"
      ]
     },
     "metadata": {},
     "output_type": "display_data"
    },
    {
     "name": "stdout",
     "output_type": "stream",
     "text": [
      "Pretend you're a marketing specialist, Generate a marketing campaign for the launch of a new condominium community in Cincinnati, OH\n"
     ]
    },
    {
     "data": {
      "text/markdown": [
       "## Response:"
      ],
      "text/plain": [
       "<IPython.core.display.Markdown object>"
      ]
     },
     "metadata": {},
     "output_type": "display_data"
    },
    {
     "data": {
      "text/markdown": [
       "**Cincinnati's newest condominium community is now open!**\n",
       "\n",
       "**The Residences at 101 Broadway** is a luxury condominium community located in the heart of downtown Cincinnati. With its prime location, stunning architecture, and state-of-the-art amenities, The Residences at 101 Broadway is the perfect place to call home.\n",
       "\n",
       "**Key features of The Residences at 101 Broadway include:**\n",
       "\n",
       "* **Prime location:** The Residences at 101 Broadway is located just steps from Cincinnati's Central Business District, the Cincinnati Art Museum, and the Cincinnati Symphony Orchestra.\n",
       "* **Stunning architecture:** The Residences at 101 Broadway features stunning architecture designed by award-winning architect, Michael Graves.\n",
       "* **State-of-the-art amenities:** The Residences at 101 Broadway offers a variety of state-of-the-art amenities, including a rooftop pool, a fitness center, and a business center.\n",
       "\n",
       "**To celebrate the launch of The Residences at 101 Broadway, we are offering special introductory pricing and incentives.**\n",
       "\n",
       "**Contact us today to learn more and schedule a tour!**\n",
       "\n",
       "**Marketing Campaign**\n",
       "\n",
       "**Social Media:**\n",
       "\n",
       "* **Facebook:** Post regular updates about The Residences at 101 Broadway on Facebook. Share photos of the community, upcoming events, and special offers.\n",
       "* **Twitter:** Tweet about The Residences at 101 Broadway and use relevant hashtags to reach a wider audience.\n",
       "* **Instagram:** Share stunning photos of The Residences at 101 Broadway on Instagram. Use relevant hashtags to attract potential buyers.\n",
       "\n",
       "**Email:**\n",
       "\n",
       "* Send out an email newsletter to your list of contacts announcing the launch of The Residences at 101 Broadway. Include information about the community, special pricing, and incentives.\n",
       "* Create an email drip campaign to nurture leads and encourage them to take action.\n",
       "\n",
       "**Paid Advertising:**\n",
       "\n",
       "* Run paid ads on Google and social media to target potential buyers.\n",
       "* Use targeted keywords and phrases to reach people who are interested in buying a condominium in Cincinnati.\n",
       "\n",
       "**Public Relations:**\n",
       "\n",
       "* Send out a press release announcing the launch of The Residences at 101 Broadway.\n",
       "* Get featured in local publications and websites.\n",
       "* Partner with local businesses to host events and giveaways.\n",
       "\n",
       "**Outdoor Advertising:**\n",
       "\n",
       "* Place billboards and bus ads around the city to promote The Residences at 101 Broadway.\n",
       "* Run print ads in local newspapers and magazines.\n",
       "\n",
       "**By following these marketing tips, you can help to ensure the success of The Residences at 101 Broadway.**"
      ],
      "text/plain": [
       "<IPython.core.display.Markdown object>"
      ]
     },
     "metadata": {},
     "output_type": "display_data"
    }
   ],
   "source": [
    "display(Markdown('## Prompt:'))\n",
    "print(prompt)\n",
    "display(Markdown('## Response:'))\n",
    "\n",
    "# Send prompt to LLM\n",
    "display(Markdown(str(textgen_model.predict(\n",
    "   (prompt),\n",
    "    max_output_tokens=1024,\n",
    "    temperature=0.4,\n",
    "    top_p=0.8,\n",
    "    top_k=40,\n",
    "))))"
   ]
  },
  {
   "cell_type": "markdown",
   "metadata": {
    "id": "jqC5uUguaunY"
   },
   "source": [
    "Voila! We've now used k-means clustering to create groups of spenders and explain their profiles."
   ]
  },
  {
   "cell_type": "markdown",
   "metadata": {
    "id": "5HEVHGmmRyGW"
   },
   "source": [
    "Sometimes, though, you want a little bit [extra](https://cloud.google.com/blog/transform/prompt-debunking-five-generative-ai-misconceptions)."
   ]
  },
  {
   "cell_type": "code",
   "execution_count": 22,
   "metadata": {},
   "outputs": [],
   "source": [
    "def marketing_bot(text):\n",
    "    pre_text = \"Pretend you're a marketing specialist, \"\n",
    "    prompt = pre_text + text\n",
    "    result = textgen_model.predict(\n",
    "        prompt,\n",
    "        max_output_tokens=1024,\n",
    "        temperature=0.4,\n",
    "        top_p=0.8,\n",
    "        top_k=40,\n",
    "    )\n",
    "    \n",
    "    return prompt, result"
   ]
  },
  {
   "cell_type": "markdown",
   "metadata": {},
   "source": [
    "A beautiful mountain range with snow-capped peaks and a river running through it. The sun is shining and the sky is blue.  Photorealistic"
   ]
  },
  {
   "cell_type": "markdown",
   "metadata": {},
   "source": [
    "come up with creative brand persona for each that includes the detail of their favorite movie, a summary of how this relates to their purchasing behavior, and a witty e-mail headline for marketing campaign targeted to their group"
   ]
  },
  {
   "cell_type": "markdown",
   "metadata": {
    "tags": []
   },
   "source": [
    "## Now we can stick it behind a UI"
   ]
  },
  {
   "cell_type": "code",
   "execution_count": 23,
   "metadata": {},
   "outputs": [
    {
     "name": "stdout",
     "output_type": "stream",
     "text": [
      "Running on local URL:  http://127.0.0.1:7861\n",
      "\n",
      "To create a public link, set `share=True` in `launch()`.\n"
     ]
    },
    {
     "data": {
      "text/html": [
       "<div><iframe src=\"http://127.0.0.1:7861/\" width=\"100%\" height=\"500\" allow=\"autoplay; camera; microphone; clipboard-read; clipboard-write;\" frameborder=\"0\" allowfullscreen></iframe></div>"
      ],
      "text/plain": [
       "<IPython.core.display.HTML object>"
      ]
     },
     "metadata": {},
     "output_type": "display_data"
    },
    {
     "data": {
      "text/plain": []
     },
     "execution_count": 23,
     "metadata": {},
     "output_type": "execute_result"
    }
   ],
   "source": [
    "import gradio as gr\n",
    "\n",
    "with gr.Blocks() as demo:\n",
    "    gr.Markdown(\n",
    "    \"\"\"\n",
    "    ## Marketing Bot\n",
    "\n",
    "    ### Enter a task...\n",
    "\n",
    "    \"\"\")\n",
    "    with gr.Row():\n",
    "      with gr.Column():\n",
    "        input_text = gr.Textbox(label=\"Task\", placeholder=\"Pretend you're a marketing specialist, \")\n",
    "        \n",
    "        \n",
    "    with gr.Row():\n",
    "      generate = gr.Button(\"Generate Response\")\n",
    "\n",
    "    with gr.Row():\n",
    "      label2 = gr.Textbox(label=\"Prompt\")\n",
    "    with gr.Row():\n",
    "      label3 = gr.Textbox(label=\"Response generated by LLM\")\n",
    "\n",
    "    generate.click(marketing_bot,input_text, [label2, label3])\n",
    "demo.launch(share=False, debug=False)"
   ]
  },
  {
   "cell_type": "code",
   "execution_count": null,
   "metadata": {},
   "outputs": [],
   "source": []
  }
 ],
 "metadata": {
  "colab": {
   "provenance": []
  },
  "kernelspec": {
   "display_name": "Python 3 (ipykernel)",
   "language": "python",
   "name": "python3"
  },
  "language_info": {
   "codemirror_mode": {
    "name": "ipython",
    "version": 3
   },
   "file_extension": ".py",
   "mimetype": "text/x-python",
   "name": "python",
   "nbconvert_exporter": "python",
   "pygments_lexer": "ipython3",
   "version": "3.9.6"
  }
 },
 "nbformat": 4,
 "nbformat_minor": 4
}
