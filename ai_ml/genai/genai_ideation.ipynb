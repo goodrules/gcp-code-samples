{
 "cells": [
  {
   "cell_type": "markdown",
   "metadata": {
    "id": "Sxq-V_jV4gEk",
    "tags": []
   },
   "source": [
    "# Using the Vertex AI PaLM API to Generate and Ideate"
   ]
  },
  {
   "cell_type": "markdown",
   "metadata": {
    "id": "sHoUOuxf5GOR",
    "tags": []
   },
   "source": [
    "# Core code\n",
    "Let's define some variables that will be used throughout this notebook.\n",
    "\n",
    "These are the GCP Project ID `project_id`, the Model name `model_name` which is any name you prefer, and finally the Dataset name `dataset_name`.\n",
    "The dataset needs to exist in the same Project as `project_id` and you'll need appropriate access to create and delete."
   ]
  },
  {
   "cell_type": "markdown",
   "metadata": {
    "tags": []
   },
   "source": [
    "## Setup"
   ]
  },
  {
   "cell_type": "code",
   "execution_count": 1,
   "metadata": {
    "id": "fU3_zsLsZ89c"
   },
   "outputs": [],
   "source": [
    "from typing import Union\n",
    "import sys\n",
    "\n",
    "import os\n",
    "import io\n",
    "import json\n",
    "import base64\n",
    "import requests\n",
    "import concurrent.futures\n",
    "import time\n",
    "\n",
    "import numpy as np\n",
    "import pandas as pd\n",
    "\n",
    "import vertexai.preview.language_models\n",
    "from google.cloud import aiplatform\n",
    "from google.cloud import documentai\n",
    "from google.cloud.documentai_v1 import Document\n",
    "from google.cloud import storage\n",
    "from google.cloud import bigquery\n",
    "\n",
    "from IPython.display import display, Markdown, Latex\n"
   ]
  },
  {
   "cell_type": "code",
   "execution_count": 2,
   "metadata": {
    "id": "_3Rfhx874F2J"
   },
   "outputs": [],
   "source": [
    "PROJECT_ID = 'mg-ce-demos'\n",
    "REGION = 'us-central1'\n"
   ]
  },
  {
   "cell_type": "code",
   "execution_count": 3,
   "metadata": {},
   "outputs": [],
   "source": [
    "# vertex ai clients\n",
    "vertexai.init(project = PROJECT_ID, location = REGION)\n",
    "aiplatform.init(project = PROJECT_ID, location = REGION)\n"
   ]
  },
  {
   "cell_type": "markdown",
   "metadata": {
    "id": "7Na0_rVVLhOk",
    "tags": []
   },
   "source": [
    "## Ideate with Vertex AI PaLM API"
   ]
  },
  {
   "cell_type": "code",
   "execution_count": 11,
   "metadata": {},
   "outputs": [],
   "source": [
    "textgen_model = vertexai.preview.language_models.TextGenerationModel.from_pretrained('text-bison@latest')"
   ]
  },
  {
   "cell_type": "markdown",
   "metadata": {},
   "source": [
    "### Now, we send our prompt to Google GenAI API for some LLM magic"
   ]
  },
  {
   "cell_type": "code",
   "execution_count": 24,
   "metadata": {},
   "outputs": [],
   "source": [
    "# Provide some context\n",
    "pre_text = \"Pretend you're a marketing specialist, \"\n",
    "\n",
    "# Ask the LLM\n",
    "text = \"Generate a marketing campaign for the launch of a new condominium community in Cincinnati, OH\"\n",
    "\n",
    "prompt = pre_text+text"
   ]
  },
  {
   "cell_type": "code",
   "execution_count": 25,
   "metadata": {},
   "outputs": [
    {
     "data": {
      "text/markdown": [
       "## Prompt:"
      ],
      "text/plain": [
       "<IPython.core.display.Markdown object>"
      ]
     },
     "metadata": {},
     "output_type": "display_data"
    },
    {
     "name": "stdout",
     "output_type": "stream",
     "text": [
      "Pretend you're a marketing specialist, Generate a marketing campaign for the launch of a new condominium community in Cincinnati, OH\n"
     ]
    },
    {
     "data": {
      "text/markdown": [
       "## Response:"
      ],
      "text/plain": [
       "<IPython.core.display.Markdown object>"
      ]
     },
     "metadata": {},
     "output_type": "display_data"
    },
    {
     "data": {
      "text/markdown": [
       "**Cincinnati's newest condominium community is now open!**\n",
       "\n",
       "**The Residences at Liberty Center** is a luxury community located just steps from Liberty Center, a vibrant shopping, dining, and entertainment destination. Our condominiums offer stunning views of the city skyline, spacious layouts, and resort-style amenities.\n",
       "\n",
       "**Why choose The Residences at Liberty Center?**\n",
       "\n",
       "* **Luxury living in a convenient location:** Our community is located just steps from Liberty Center, a premier shopping, dining, and entertainment destination. You'll have everything you need right at your fingertips, from world-class shopping to award-winning restaurants to exciting nightlife.\n",
       "* **Spacious layouts and resort-style amenities:** Our condominiums offer spacious layouts with plenty of room to spread out. And our resort-style amenities include a rooftop pool, fitness center, and concierge service.\n",
       "* **A welcoming community:** Our community is home to a diverse group of residents who are looking for a vibrant and active lifestyle. We offer a variety of social events and activities, so you're sure to find something to your liking.\n",
       "\n",
       "**Be one of the first to reserve your new condominium at The Residences at Liberty Center!**\n",
       "\n",
       "**Visit our website or call us today to learn more.**\n",
       "\n",
       "**Marketing Campaign**\n",
       "\n",
       "**Social Media:**\n",
       "\n",
       "* **Facebook:** Share photos and videos of the community, upcoming events, and resident testimonials. Use the hashtag #ResidencesatLibertyCenter to reach a wider audience.\n",
       "* **Instagram:** Post stunning photos of the community's amenities and beautiful views. Use the hashtag #ResidencesatLibertyCenter to reach a wider audience.\n",
       "* **Twitter:** Share news and updates about the community, upcoming events, and special offers. Use the hashtag #ResidencesatLibertyCenter to reach a wider audience.\n",
       "\n",
       "**Email:**\n",
       "\n",
       "* Send email newsletters to prospective residents with information about the community, upcoming events, and special offers.\n",
       "* Create an email drip campaign to nurture leads and encourage them to take the next step in the sales process.\n",
       "\n",
       "**Website:**\n",
       "\n",
       "* Create a dedicated landing page for the community with information about the condos, amenities, and location.\n",
       "* Use a lead generation form on the landing page to collect contact information from prospective residents.\n",
       "\n",
       "**Paid Advertising:**\n",
       "\n",
       "* Run paid ads on social media and search engines to target prospective residents in the Cincinnati area.\n",
       "* Use Google Ads to target people who are searching for condos in the Cincinnati area.\n",
       "* Use Facebook Ads to target people who are interested in luxury living or who live in the Cincinnati area.\n",
       "\n",
       "**Public Relations:**\n",
       "\n",
       "* Send press releases to local media outlets about the community's grand opening.\n",
       "* Partner with local businesses to host events and giveaways at the community.\n",
       "* Get involved in the community by volunteering for local organizations or donating to charities.\n",
       "\n",
       "**By following these marketing strategies, you can reach a wider audience and generate excitement about your new condominium community.**"
      ],
      "text/plain": [
       "<IPython.core.display.Markdown object>"
      ]
     },
     "metadata": {},
     "output_type": "display_data"
    }
   ],
   "source": [
    "display(Markdown('## Prompt:'))\n",
    "print(prompt)\n",
    "display(Markdown('## Response:'))\n",
    "\n",
    "# Send prompt to LLM\n",
    "display(Markdown(str(textgen_model.predict(\n",
    "   (prompt),\n",
    "    max_output_tokens=1024,\n",
    "    temperature=0.4,\n",
    "    top_p=0.8,\n",
    "    top_k=40,\n",
    "))))"
   ]
  },
  {
   "cell_type": "markdown",
   "metadata": {
    "id": "jqC5uUguaunY"
   },
   "source": [
    "Voila! We've now used k-means clustering to create groups of spenders and explain their profiles."
   ]
  },
  {
   "cell_type": "markdown",
   "metadata": {
    "id": "5HEVHGmmRyGW"
   },
   "source": [
    "Sometimes, though, you want a little bit [extra](https://cloud.google.com/blog/transform/prompt-debunking-five-generative-ai-misconceptions)."
   ]
  },
  {
   "cell_type": "code",
   "execution_count": 22,
   "metadata": {},
   "outputs": [],
   "source": [
    "def marketing_bot(text):\n",
    "    pre_text = \"Pretend you're a marketing specialist, \"\n",
    "    prompt = pre_text + text\n",
    "    result = textgen_model.predict(\n",
    "        prompt,\n",
    "        max_output_tokens=1024,\n",
    "        temperature=0.4,\n",
    "        top_p=0.8,\n",
    "        top_k=40,\n",
    "    )\n",
    "    \n",
    "    return prompt, result"
   ]
  },
  {
   "cell_type": "markdown",
   "metadata": {},
   "source": [
    "A beautiful mountain range with snow-capped peaks and a river running through it. The sun is shining and the sky is blue.  Photorealistic"
   ]
  },
  {
   "cell_type": "markdown",
   "metadata": {},
   "source": [
    "come up with creative brand persona for each that includes the detail of their favorite movie, a summary of how this relates to their purchasing behavior, and a witty e-mail headline for marketing campaign targeted to their group"
   ]
  },
  {
   "cell_type": "markdown",
   "metadata": {
    "tags": []
   },
   "source": [
    "## Now we can stick it behind a UI"
   ]
  },
  {
   "cell_type": "code",
   "execution_count": 23,
   "metadata": {},
   "outputs": [
    {
     "name": "stdout",
     "output_type": "stream",
     "text": [
      "Running on local URL:  http://127.0.0.1:7861\n",
      "\n",
      "To create a public link, set `share=True` in `launch()`.\n"
     ]
    },
    {
     "data": {
      "text/html": [
       "<div><iframe src=\"http://127.0.0.1:7861/\" width=\"100%\" height=\"500\" allow=\"autoplay; camera; microphone; clipboard-read; clipboard-write;\" frameborder=\"0\" allowfullscreen></iframe></div>"
      ],
      "text/plain": [
       "<IPython.core.display.HTML object>"
      ]
     },
     "metadata": {},
     "output_type": "display_data"
    },
    {
     "data": {
      "text/plain": []
     },
     "execution_count": 23,
     "metadata": {},
     "output_type": "execute_result"
    }
   ],
   "source": [
    "import gradio as gr\n",
    "\n",
    "with gr.Blocks() as demo:\n",
    "    gr.Markdown(\n",
    "    \"\"\"\n",
    "    ## Marketing Bot\n",
    "\n",
    "    ### Enter a task...\n",
    "\n",
    "    \"\"\")\n",
    "    with gr.Row():\n",
    "      with gr.Column():\n",
    "        input_text = gr.Textbox(label=\"Task\", placeholder=\"Pretend you're a marketing specialist, \")\n",
    "        \n",
    "        \n",
    "    with gr.Row():\n",
    "      generate = gr.Button(\"Generate Response\")\n",
    "\n",
    "    with gr.Row():\n",
    "      label2 = gr.Textbox(label=\"Prompt\")\n",
    "    with gr.Row():\n",
    "      label3 = gr.Textbox(label=\"Response generated by LLM\")\n",
    "\n",
    "    generate.click(marketing_bot,input_text, [label2, label3])\n",
    "demo.launch(share=False, debug=False)"
   ]
  },
  {
   "cell_type": "code",
   "execution_count": null,
   "metadata": {},
   "outputs": [],
   "source": []
  }
 ],
 "metadata": {
  "colab": {
   "provenance": []
  },
  "kernelspec": {
   "display_name": "Python 3 (ipykernel)",
   "language": "python",
   "name": "python3"
  },
  "language_info": {
   "codemirror_mode": {
    "name": "ipython",
    "version": 3
   },
   "file_extension": ".py",
   "mimetype": "text/x-python",
   "name": "python",
   "nbconvert_exporter": "python",
   "pygments_lexer": "ipython3",
   "version": "3.9.6"
  }
 },
 "nbformat": 4,
 "nbformat_minor": 4
}
