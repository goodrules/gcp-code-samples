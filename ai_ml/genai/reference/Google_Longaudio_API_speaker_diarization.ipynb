{
 "cells": [
  {
   "cell_type": "markdown",
   "metadata": {
    "jp-MarkdownHeadingCollapsed": true,
    "tags": []
   },
   "source": [
    "### Installs"
   ]
  },
  {
   "cell_type": "code",
   "execution_count": 2,
   "metadata": {},
   "outputs": [],
   "source": [
    "try: import google.cloud.speech\n",
    "except ImportError:\n",
    "    print('You need to pip install google-cloud-speech, ... commencing')\n",
    "    !pip install google-cloud-speech -U -q\n"
   ]
  },
  {
   "cell_type": "markdown",
   "metadata": {},
   "source": [
    "### Setup"
   ]
  },
  {
   "cell_type": "code",
   "execution_count": 3,
   "metadata": {
    "tags": []
   },
   "outputs": [],
   "source": [
    "from pydub import AudioSegment\n",
    "import io\n",
    "import os\n",
    "from google.cloud import speech_v1p1beta1 as speech\n",
    "#from google.cloud.speech_v1p1beta1 import enums\n",
    "from google.cloud.speech_v1p1beta1 import types\n",
    "import wave\n",
    "from google.cloud import storage"
   ]
  },
  {
   "cell_type": "code",
   "execution_count": 4,
   "metadata": {},
   "outputs": [
    {
     "data": {
      "text/plain": [
       "'mg-ce-demos'"
      ]
     },
     "execution_count": 4,
     "metadata": {},
     "output_type": "execute_result"
    }
   ],
   "source": [
    "project = !gcloud config get-value project\n",
    "PROJECT_ID = project[0]\n",
    "PROJECT_ID"
   ]
  },
  {
   "cell_type": "code",
   "execution_count": 5,
   "metadata": {},
   "outputs": [],
   "source": [
    "REGION = 'us-central1'\n",
    "LOCATION = 'us'"
   ]
  },
  {
   "cell_type": "code",
   "execution_count": 8,
   "metadata": {},
   "outputs": [],
   "source": [
    "#vertexai.init(project = PROJECT_ID, location = REGION)\n",
    "#aiplatform.init(project = PROJECT_ID, location = REGION)"
   ]
  },
  {
   "cell_type": "code",
   "execution_count": 16,
   "metadata": {},
   "outputs": [],
   "source": [
    "gcs = storage.Client(project = PROJECT_ID)\n",
    "stt = speech.SpeechClient()"
   ]
  },
  {
   "cell_type": "markdown",
   "metadata": {},
   "source": [
    "### Get audio files"
   ]
  },
  {
   "cell_type": "code",
   "execution_count": 13,
   "metadata": {},
   "outputs": [],
   "source": [
    "example_audio_uri = \"speech/brooklyn_bridge.flac\"\n",
    "example_audio_uri2 = \"speech/sample-podcasts/GCPEpisode328-DatabaseMigrationService-2min sample.flac\"\n",
    "\n",
    "gcs_bucket = 'cloud-samples-data'\n",
    "bucket = gcs.bucket(gcs_bucket)\n",
    "blob = bucket.blob(example_audio_uri2)\n"
   ]
  },
  {
   "cell_type": "code",
   "execution_count": null,
   "metadata": {},
   "outputs": [],
   "source": [
    "gcs_bucket = 'cloud-samples-data'\n",
    "bucket = gcs.bucket(gcs_bucket)\n",
    "# Get the list of blobs\n",
    "blobs = bucket.list_blobs()\n",
    "\n",
    "# Loop through the blobs\n",
    "pdf_data = []\n",
    "for blob in blobs:\n",
    "    if blob.name.startswith('speech/'):\n",
    "        print(blob.name)\n",
    "        #pdf_data.append([blob.name, blob.content_type, blob.download_as_bytes()])"
   ]
  },
  {
   "cell_type": "code",
   "execution_count": 19,
   "metadata": {},
   "outputs": [],
   "source": [
    "gcs_uri=\"gs://cloud-samples-data/speech/sample-podcasts/GCPEpisode328-DatabaseMigrationService-2min sample.flac\""
   ]
  },
  {
   "cell_type": "markdown",
   "metadata": {},
   "source": [
    "### Testing"
   ]
  },
  {
   "cell_type": "code",
   "execution_count": 21,
   "metadata": {},
   "outputs": [],
   "source": [
    "audio = types.RecognitionAudio(uri=gcs_uri)"
   ]
  },
  {
   "cell_type": "code",
   "execution_count": 25,
   "metadata": {},
   "outputs": [],
   "source": [
    "config = types.RecognitionConfig(\n",
    "        encoding=speech.RecognitionConfig.AudioEncoding.FLAC,\n",
    "        language_code='en-US',\n",
    "        enable_speaker_diarization=True,\n",
    "        diarization_speaker_count=2)"
   ]
  },
  {
   "cell_type": "code",
   "execution_count": null,
   "metadata": {},
   "outputs": [],
   "source": []
  },
  {
   "cell_type": "code",
   "execution_count": null,
   "metadata": {},
   "outputs": [],
   "source": []
  },
  {
   "cell_type": "code",
   "execution_count": null,
   "metadata": {},
   "outputs": [],
   "source": []
  },
  {
   "cell_type": "markdown",
   "metadata": {},
   "source": [
    "### Functions"
   ]
  },
  {
   "cell_type": "code",
   "execution_count": 3,
   "metadata": {
    "tags": []
   },
   "outputs": [],
   "source": [
    "def mp3_to_wav(audio_file_name):\n",
    "    if audio_file_name.split('.')[1] == 'mp3':    \n",
    "        sound = AudioSegment.from_mp3(audio_file_name)\n",
    "        audio_file_name = audio_file_name.split('.')[0] + '.wav'\n",
    "        sound.export(audio_file_name, format=\"wav\")"
   ]
  },
  {
   "cell_type": "code",
   "execution_count": 4,
   "metadata": {
    "tags": []
   },
   "outputs": [],
   "source": [
    "def frame_rate_channel(audio_file_name):\n",
    "    with wave.open(audio_file_name, \"rb\") as wave_file:\n",
    "        frame_rate = wave_file.getframerate()\n",
    "        channels = wave_file.getnchannels()\n",
    "        return frame_rate,channels"
   ]
  },
  {
   "cell_type": "code",
   "execution_count": 5,
   "metadata": {
    "tags": []
   },
   "outputs": [],
   "source": [
    "def stereo_to_mono(audio_file_name):\n",
    "    sound = AudioSegment.from_wav(audio_file_name)\n",
    "    sound = sound.set_channels(1)\n",
    "    sound.export(audio_file_name, format=\"wav\")"
   ]
  },
  {
   "cell_type": "code",
   "execution_count": 6,
   "metadata": {
    "tags": []
   },
   "outputs": [],
   "source": [
    "def upload_blob(bucket_name, source_file_name, destination_blob_name):\n",
    "    \"\"\"Uploads a file to the bucket.\"\"\"\n",
    "    storage_client = storage.Client()\n",
    "    bucket = storage_client.get_bucket(bucket_name)\n",
    "    blob = bucket.blob(destination_blob_name)\n",
    "\n",
    "    blob.upload_from_filename(source_file_name)"
   ]
  },
  {
   "cell_type": "code",
   "execution_count": 7,
   "metadata": {
    "tags": []
   },
   "outputs": [],
   "source": [
    "def delete_blob(bucket_name, blob_name):\n",
    "    \"\"\"Deletes a blob from the bucket.\"\"\"\n",
    "    storage_client = storage.Client()\n",
    "    bucket = storage_client.get_bucket(bucket_name)\n",
    "    blob = bucket.blob(blob_name)\n",
    "\n",
    "    blob.delete()"
   ]
  },
  {
   "cell_type": "code",
   "execution_count": 8,
   "metadata": {
    "tags": []
   },
   "outputs": [],
   "source": [
    "def google_transcribe(bucket_name, audio_file_name, encoding):\n",
    "    \n",
    "    file_name = filepath + audio_file_name\n",
    "    mp3_to_wav(file_name)\n",
    "\n",
    "    # The name of the audio file to transcribe\n",
    "    \n",
    "    frame_rate, channels = frame_rate_channel(file_name)\n",
    "    \n",
    "    if channels > 1:\n",
    "        stereo_to_mono(file_name)\n",
    "    \n",
    "    bucket_name = bucket_name\n",
    "    source_file_name = filepath + audio_file_name\n",
    "    destination_blob_name = audio_file_name\n",
    "    \n",
    "    upload_blob(bucket_name, source_file_name, destination_blob_name)\n",
    "    \n",
    "    gcs_uri = 'gs://callsaudiofiles/' + audio_file_name\n",
    "    transcript = ''\n",
    "    \n",
    "    client = speech.SpeechClient()\n",
    "    audio = types.RecognitionAudio(uri=gcs_uri)\n",
    "\n",
    "    config = types.RecognitionConfig(\n",
    "    encoding=enums.RecognitionConfig.AudioEncoding.LINEAR16,\n",
    "    sample_rate_hertz=frame_rate,\n",
    "    language_code='en-US',\n",
    "    enable_speaker_diarization=True,\n",
    "    diarization_speaker_count=2)\n",
    "\n",
    "    # Detects speech in the audio file\n",
    "    operation = client.long_running_recognize(config, audio)\n",
    "    response = operation.result(timeout=10000)\n",
    "    result = response.results[-1]\n",
    "    words_info = result.alternatives[0].words\n",
    "    \n",
    "    tag=1\n",
    "    speaker=\"\"\n",
    "\n",
    "    for word_info in words_info:\n",
    "        if word_info.speaker_tag==tag:\n",
    "            speaker=speaker+\" \"+word_info.word\n",
    "        else:\n",
    "            transcript += \"speaker {}: {}\".format(tag,speaker) + '\\n'\n",
    "            tag=word_info.speaker_tag\n",
    "            speaker=\"\"+word_info.word\n",
    "\n",
    "    transcript += \"speaker {}: {}\".format(tag,speaker)\n",
    "    \n",
    "    delete_blob(bucket_name, destination_blob_name)\n",
    "    return transcript"
   ]
  },
  {
   "cell_type": "code",
   "execution_count": 9,
   "metadata": {
    "tags": []
   },
   "outputs": [],
   "source": [
    "def write_transcripts(transcript_filename,transcript):\n",
    "    f= open(output_filepath + transcript_filename,\"w+\")\n",
    "    f.write(transcript)\n",
    "    f.close() "
   ]
  },
  {
   "cell_type": "code",
   "execution_count": 10,
   "metadata": {
    "tags": []
   },
   "outputs": [],
   "source": [
    "if __name__ == \"__main__\":\n",
    "    for audio_file_name in os.listdir(filepath):\n",
    "        exists = os.path.isfile(output_filepath + audio_file_name.split('.')[0] + '.txt')\n",
    "        if exists:\n",
    "            pass\n",
    "        else:\n",
    "            transcript = google_transcribe(audio_file_name)\n",
    "            transcript_filename = audio_file_name.split('.')[0] + '.txt'\n",
    "            write_transcripts(transcript_filename,transcript)"
   ]
  },
  {
   "cell_type": "code",
   "execution_count": null,
   "metadata": {
    "tags": []
   },
   "outputs": [],
   "source": []
  },
  {
   "cell_type": "code",
   "execution_count": null,
   "metadata": {
    "tags": []
   },
   "outputs": [],
   "source": []
  }
 ],
 "metadata": {
  "kernelspec": {
   "display_name": "Python 3 (ipykernel)",
   "language": "python",
   "name": "python3"
  },
  "language_info": {
   "codemirror_mode": {
    "name": "ipython",
    "version": 3
   },
   "file_extension": ".py",
   "mimetype": "text/x-python",
   "name": "python",
   "nbconvert_exporter": "python",
   "pygments_lexer": "ipython3",
   "version": "3.9.6"
  }
 },
 "nbformat": 4,
 "nbformat_minor": 4
}
