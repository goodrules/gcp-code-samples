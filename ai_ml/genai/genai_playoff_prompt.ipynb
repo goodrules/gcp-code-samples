{
 "cells": [
  {
   "cell_type": "markdown",
   "id": "c80c2a04-14dc-4f7d-aab2-60d0015ad896",
   "metadata": {},
   "source": [
    "# GenAI Prompt Engineering Examples"
   ]
  },
  {
   "cell_type": "markdown",
   "id": "a67be22b-f563-4b0b-ab3d-8866723d2102",
   "metadata": {},
   "source": [
    "---\n",
    "## Installs\n",
    "\n",
    "The list `packages` contains tuples of package import names and install names.  If the import name is not found then the install name is used to install quitely for the current user."
   ]
  },
  {
   "cell_type": "code",
   "execution_count": 1,
   "id": "b15cbe64-1a11-41a6-b09a-93d7e8dcc99d",
   "metadata": {
    "tags": []
   },
   "outputs": [],
   "source": [
    "# tuples of (import name, install name, min_version)\n",
    "packages = [\n",
    "    ('google.cloud.aiplatform', 'google-cloud-aiplatform'),\n",
    "    ('google.cloud.storage', 'google-cloud-storage'),\n",
    "    ('google.cloud.bigquery', 'google-cloud-bigquery')\n",
    "]\n",
    "\n",
    "import importlib\n",
    "install = False\n",
    "for package in packages:\n",
    "    if not importlib.util.find_spec(package[0]):\n",
    "        print(f'installing package {package[1]}')\n",
    "        install = True\n",
    "        !pip install {package[1]} -U -q --user\n",
    "    elif len(package) == 3:\n",
    "        if importlib.metadata.version(package[0]) < package[2]:\n",
    "            print(f'updating package {package[1]}')\n",
    "            install = True\n",
    "            !pip install {package[1]} -U -q --user"
   ]
  },
  {
   "cell_type": "markdown",
   "id": "0aeeeb94-0e3e-41b1-9f1d-2dd2fad2a515",
   "metadata": {},
   "source": [
    "### Restart Kernel (If Installs Occured)\n",
    "\n",
    "After a kernel restart the code submission can start with the next cell after this one."
   ]
  },
  {
   "cell_type": "code",
   "execution_count": 2,
   "id": "05eb94fd-0562-4e3c-a63b-4952b5402519",
   "metadata": {
    "tags": []
   },
   "outputs": [],
   "source": [
    "if install:\n",
    "    import IPython\n",
    "    app = IPython.Application.instance()\n",
    "    app.kernel.do_shutdown(True)"
   ]
  },
  {
   "cell_type": "markdown",
   "id": "5107e967-b47b-43d4-8098-b0e5d2262d49",
   "metadata": {},
   "source": [
    "---\n",
    "## Setup"
   ]
  },
  {
   "cell_type": "markdown",
   "id": "c93da7af-6765-4730-b6d0-d7e7e188f79c",
   "metadata": {},
   "source": [
    "inputs:"
   ]
  },
  {
   "cell_type": "code",
   "execution_count": 11,
   "id": "3e11fd07-a9b3-428f-9ee9-16ee36179798",
   "metadata": {
    "tags": []
   },
   "outputs": [
    {
     "data": {
      "text/plain": [
       "'mg-ce-demos'"
      ]
     },
     "execution_count": 11,
     "metadata": {},
     "output_type": "execute_result"
    }
   ],
   "source": [
    "project = !gcloud config get-value project\n",
    "PROJECT_ID = project[0]\n",
    "PROJECT_ID"
   ]
  },
  {
   "cell_type": "code",
   "execution_count": 12,
   "id": "55f7dba0-40ea-4a87-88cd-d7762ab96ec6",
   "metadata": {
    "tags": []
   },
   "outputs": [],
   "source": [
    "REGION = 'us-central1'\n",
    "\n",
    "# Set the BUCKET name for saving work:\n",
    "BUCKET = PROJECT_ID"
   ]
  },
  {
   "cell_type": "markdown",
   "id": "91eda4f2-665e-4d72-84f7-dc1db3821348",
   "metadata": {},
   "source": [
    "packages:"
   ]
  },
  {
   "cell_type": "code",
   "execution_count": 13,
   "id": "9f694039-e4ac-4376-bb8c-234ac30b4d72",
   "metadata": {
    "tags": []
   },
   "outputs": [],
   "source": [
    "import os\n",
    "#os.environ['TF_CPP_MIN_LOG_LEVEL'] = '3'\n",
    "\n",
    "from google.cloud import aiplatform\n",
    "from google.cloud import bigquery\n",
    "from google.cloud import storage\n",
    "\n",
    "import vertexai.vision_models # Imagen Models\n",
    "import vertexai.preview.vision_models\n",
    "import vertexai.language_models # PaLM and Codey Models\n",
    "import vertexai.generative_models # for Gemini Models\n",
    "\n",
    "import json\n",
    "import io\n",
    "import base64\n",
    "import asyncio\n",
    "import requests\n",
    "import IPython\n",
    "import datetime, time"
   ]
  },
  {
   "cell_type": "code",
   "execution_count": 14,
   "id": "55e1c35c-3900-462c-86a4-e590d5eaedf4",
   "metadata": {
    "tags": []
   },
   "outputs": [
    {
     "data": {
      "text/plain": [
       "'1.67.1'"
      ]
     },
     "execution_count": 14,
     "metadata": {},
     "output_type": "execute_result"
    }
   ],
   "source": [
    "aiplatform.__version__"
   ]
  },
  {
   "cell_type": "markdown",
   "id": "3e4fd992-fc1e-41aa-ac50-8ce7334057fd",
   "metadata": {},
   "source": [
    "clients:"
   ]
  },
  {
   "cell_type": "code",
   "execution_count": 15,
   "id": "4cf195c7-4dff-4370-9dca-d49b90792578",
   "metadata": {
    "tags": []
   },
   "outputs": [],
   "source": [
    "vertexai.init(project = PROJECT_ID, location = REGION)\n",
    "gcs = storage.Client(project = PROJECT_ID)\n",
    "bq = bigquery.Client(project = PROJECT_ID)\n",
    "\n",
    "bucket = gcs.lookup_bucket(BUCKET)"
   ]
  },
  {
   "cell_type": "markdown",
   "id": "04e87b5e-60e4-4ef9-9019-7960f5ebff3e",
   "metadata": {},
   "source": [
    "---\n",
    "## Vertex AI Package\n",
    "\n",
    "With the [vertexai](https://cloud.google.com/python/docs/reference/aiplatform/latest/vertexai) client there are packages for the types of data being interacted with.  There is also a higher package for preview models (not yet in GA).\n",
    "\n",
    "> **NOTE:** In can be helpful to review the API Documentation at it's source in GitHub for up to the moment release information: [github/googleapis/python-aiplatform](https://github.com/googleapis/python-aiplatform/tree/main)\n",
    "\n",
    "Gemini Text and Multimodal Models:\n",
    "- [vertexai.generative_models()](https://cloud.google.com/python/docs/reference/aiplatform/latest/vertexai.generative_models)\n",
    "    - [vertexai.preview.generative_models()](https://cloud.google.com/python/docs/reference/aiplatform/latest/vertexai.preview.generative_models)\n",
    "\n",
    "Language Models (PaLM and Codey Models):\n",
    "- [vertexai.language_models()](https://cloud.google.com/python/docs/reference/aiplatform/latest/vertexai.language_models)\n",
    "    - [vertexai.preview.language_models()](https://cloud.google.com/python/docs/reference/aiplatform/latest/vertexai.preview.language_models)\n",
    "\n",
    "Vision Models (Imagen Models):\n",
    "- [vertexai.vision_models()](https://cloud.google.com/python/docs/reference/aiplatform/latest/vertexai.vision_models)\n",
    "    - [vertexai.preview.vision_models()](https://cloud.google.com/python/docs/reference/aiplatform/latest/vertexai.preview.vision_models)\n"
   ]
  },
  {
   "cell_type": "code",
   "execution_count": 16,
   "id": "cd89fd8d-1a84-4077-b84a-30ce99be6ed4",
   "metadata": {
    "tags": []
   },
   "outputs": [],
   "source": [
    "# Gemini Models\n",
    "gemini_text = vertexai.generative_models.GenerativeModel(\"gemini-1.0-pro-002\")\n",
    "gemini_multimodal = vertexai.generative_models.GenerativeModel(\"gemini-1.0-pro-vision-001\")\n",
    "gemini15_multimodal = vertexai.generative_models.GenerativeModel(\"gemini-1.5-pro-002\")\n",
    "gemini_flash = vertexai.generative_models.GenerativeModel(\"gemini-1.5-flash-002\")\n",
    "\n",
    "# PaLM and Codey Models\n",
    "text_model = vertexai.language_models.TextGenerationModel.from_pretrained('text-bison')\n",
    "chat_model = vertexai.language_models.ChatModel.from_pretrained('chat-bison')\n",
    "textembed_model = vertexai.language_models.TextEmbeddingModel.from_pretrained('textembedding-gecko')\n",
    "codegen_model = vertexai.language_models.CodeGenerationModel.from_pretrained('code-bison')\n",
    "codecomp_model = vertexai.language_models.CodeGenerationModel.from_pretrained('code-gecko')\n",
    "codechat_model = vertexai.language_models.CodeChatModel.from_pretrained('codechat-bison')\n",
    "\n",
    "# Imagen Models\n",
    "imagecap_model = vertexai.vision_models.ImageCaptioningModel.from_pretrained(\"imagetext\")\n",
    "imageqna_model = vertexai.vision_models.ImageQnAModel.from_pretrained(\"imagetext\")\n",
    "imagetext_model = vertexai.vision_models.ImageTextModel.from_pretrained(\"imagetext\")\n",
    "multimodalembed_model = vertexai.vision_models.MultiModalEmbeddingModel.from_pretrained('multimodalembedding')\n",
    "imagen1_model = vertexai.preview.vision_models.ImageGenerationModel.from_pretrained('imagegeneration@002')\n",
    "imagen2_model = vertexai.preview.vision_models.ImageGenerationModel.from_pretrained('imagegeneration@005')"
   ]
  },
  {
   "cell_type": "markdown",
   "id": "8268854f-f46d-4493-afc2-062253986ffb",
   "metadata": {},
   "source": [
    "---\n",
    "## Gemini Models\n",
    "\n",
    "[Reference: Gemini API](https://cloud.google.com/vertex-ai/docs/generative-ai/model-reference/gemini)"
   ]
  },
  {
   "cell_type": "markdown",
   "id": "1bf7e3b9-8621-420c-975b-40598ac91bfc",
   "metadata": {
    "tags": []
   },
   "source": [
    "### Text Prompt"
   ]
  },
  {
   "cell_type": "code",
   "execution_count": 36,
   "id": "f25f0c8e-b33c-405e-8453-78501bee68a3",
   "metadata": {
    "tags": []
   },
   "outputs": [],
   "source": [
    "goal_prompt = \"Create a fantasy football team name\"\n",
    "goal_detail_prompt = \"The name should be creative and funny, and leverage football references and a current player's name\"\n",
    "prompt = \"\"\"\n",
    "Goal: {}\n",
    "\n",
    "Additional information: {}\n",
    "\n",
    "You will use a “playoff” method to achieve the goal.\n",
    "\n",
    "Follow these steps carefully:\n",
    "\n",
    "Step 1: Generate Options \n",
    "Create a list of 32 distinct options. Each option should reflect the topic of the goal. Be creative, but make sure the options are clear, catchy, and relevant to the theme.\n",
    "\n",
    "Step 2: The Playoff Rounds \n",
    "Round of 32: Pair the 32 options into 16 matchups (pairs). Compare each pair and choose a winner based on: How memorable and catchy the option is. How well the option reflects the goal’s theme. Other relevant qualities, such as creativity and uniqueness.\n",
    "\n",
    "Round of 16: Take the 16 winners from the first round and pair them into 8 matchups. Compare each pair, select a winner, and explain your reasoning.\n",
    "\n",
    "Quarterfinals: Take the 8 remaining options and form 4 matchups. Again, compare each pair, choose winners, and provide reasoning.\n",
    "\n",
    "Semifinals: Compare the 4 remaining options in 2 matchups. Select the best option from each pair with reasoning.\n",
    "\n",
    "Final Round: Compare the final 2 options. Choose the overall best option based on how well it represents the goal, its catchiness, and other factors. Provide a detailed explanation for why this option stands out as the best.\n",
    "\n",
    "Step 3: The Final Output At the end of this playoff process, present: The complete list of the original 32 options, ranked from best to worst, in order. The final chosen option (the top-ranked option). A detailed explanation for why the final option was selected as the best out of all 32.\n",
    "\"\"\".format(goal_prompt, goal_detail_prompt)\n",
    "\n",
    "#print(prompt)"
   ]
  },
  {
   "cell_type": "code",
   "execution_count": 37,
   "id": "2af70c73-d29c-40f8-b996-370ce8ccc7b2",
   "metadata": {
    "scrolled": true,
    "tags": []
   },
   "outputs": [],
   "source": [
    "#response = gemini15_multimodal.generate_content(prompt)\n",
    "#response"
   ]
  },
  {
   "cell_type": "code",
   "execution_count": 38,
   "id": "2719f6d0-eb35-4759-a01d-af4b06796602",
   "metadata": {
    "tags": []
   },
   "outputs": [],
   "source": [
    "#print(response.text)"
   ]
  },
  {
   "cell_type": "code",
   "execution_count": 39,
   "id": "f94fc1a6-fd73-4477-8bc9-5b7bd7cb7608",
   "metadata": {
    "tags": []
   },
   "outputs": [],
   "source": [
    "#IPython.display.Markdown(response.text)"
   ]
  },
  {
   "cell_type": "markdown",
   "id": "b5b426c1-5c31-4353-aaf9-90ef9630dfc0",
   "metadata": {},
   "source": [
    "### Streaming Response"
   ]
  },
  {
   "cell_type": "code",
   "execution_count": 42,
   "id": "bda27ede-387e-432f-91e3-02d5c90bde9a",
   "metadata": {
    "tags": []
   },
   "outputs": [
    {
     "name": "stdout",
     "output_type": "stream",
     "text": [
      "**\n",
      "Step 1: Generate Options**\n",
      "\n",
      "Here are 32 fantasy football team\n",
      " names incorporating a current player (we'll use Patrick Mahomes for this example)\n",
      " and football references:\n",
      "\n",
      "1. Mahomes and the Misfits\n",
      "2. The Patrick Mahomes-ters\n",
      "3. Mahomes' Magnificent Seven\n",
      "4. Air Mahomes\n",
      "\n",
      "5. The Gridiron G.O.A.T.s (Mahomes Edition)\n",
      "6. Mahomes' Magic\n",
      "7. Touchdown\n",
      " Mahomes & Co.\n",
      "8. The Mahomes Mob\n",
      "9. Patty Mahomes' Passing Parade\n",
      "10.  Mahomes' Merry Men\n",
      "11.  The Kingdom Comebacks (referencing Mahomes' team)\n",
      "12.\n",
      "  Mahomes and the Hail Marys\n",
      "13.  Mahomes' Money Makers\n",
      "14.  The Mahomes Maniacs\n",
      "15.  Mahomes' Midnight Riders\n",
      "16.  The Gridiron Gods (Mah\n",
      "omes' Squad)\n",
      "17.  Mahomes' Marvels\n",
      "18.  The Patrick Mahomes Experience\n",
      "19.  Mahomes and the Maulers\n",
      "20.  The Mahomes Dynasty\n",
      "21.  Mahomes' Magnificent Militia\n",
      "22.  The Chiefs' Chosen One\n",
      "2\n",
      "3.  Mahomes' Masterminds\n",
      "24.  The Mahomes' Matrix\n",
      "25.  Mahomes and the Muscle\n",
      "26.  Mahomes' Missile Command\n",
      "27.  The Field Goal Fanatics (featuring Mahomes)\n",
      "28.  Mahomes' Magnificent Mayhem\n",
      "29\n",
      ".  The Mahomes' Miracles\n",
      "30.  Mahomes' Marching Band\n",
      "31.  The Mahomes' Mayhem Makers\n",
      "32.  The Patrick Mahomes' Powerhouse\n",
      "\n",
      "\n",
      "**Step 2: The Playoff Rounds**\n",
      "\n",
      "Due to the length of a full 32-team playoff bracket,\n",
      " I will condense the process by providing the winning options after each round and the key reasoning behind the selections.\n",
      "\n",
      "**Round of 32 & Round of 16:**  This stage focuses on eliminating less catchy or repetitive names. Names focusing on the \"Mahomes\" element while adding a creative twist survived.\n",
      "\n",
      "\n",
      "**Quarterfinals:**\n",
      "\n",
      "* **Winner:** Mahomes' Magic vs.  The Kingdom Comebacks  (Reasoning: \"Mahomes' Magic\" is shorter, catchier, and more broadly appealing.)\n",
      "* **Winner:** Mahomes' Money Makers vs.  The Patrick Mahomes Experience (Reasoning:  \"Mah\n",
      "omes' Money Makers\" is more playful and memorable.)\n",
      "* **Winner:** Mahomes and the Misfits vs.  The Mahomes Dynasty (Reasoning: \"Mahomes and the Misfits\" has a slightly more unique and humorous edge.)\n",
      "* **Winner:** Air Mahomes vs. Mahomes' Magnificent Mayhem (Reasoning\n",
      ": \"Air Mahomes\" is concise, clever, and directly references his playing style).\n",
      "\n",
      "\n",
      "**Semifinals:**\n",
      "\n",
      "* **Winner:** Mahomes' Magic vs. Mahomes' Money Makers (Reasoning: \"Mahomes' Magic\" has a more mystical and intriguing quality.)\n",
      "* **Winner:** Mahomes and the Misfits\n",
      " vs. Air Mahomes (Reasoning: \"Mahomes and the Misfits\" is more engaging and allows for a wider range of team member nicknames.)\n",
      "\n",
      "**Final Round:**\n",
      "\n",
      "* **Winner:** Mahomes' Magic vs. Mahomes and the Misfits (Reasoning: While both are strong contenders, \"Mahomes'\n",
      " Magic\" is ultimately more concise, memorable, and broadly appealing. The \"magic\" element adds a touch of fantasy that fits the context perfectly. \"Mahomes and the Misfits\" is good, but slightly less catchy.)\n",
      "\n",
      "\n",
      "**Step 3: The Final Output**\n",
      "\n",
      "It's impossible to provide a completely\n",
      " ranked list of 32 options without a more exhaustive pairwise comparison. However, based on the playoff process, here is a partial ranking, with the top contenders highlighted:\n",
      "\n",
      "1. **Mahomes' Magic:** (Final Winner)\n",
      "2. Mahomes and the Misfits\n",
      "3. Air Mahomes\n",
      "4. Mahomes\n",
      "' Money Makers\n",
      "5. The Kingdom Comebacks\n",
      "6. ... (Remaining options, ranking is subjective and depends on individual preference)\n",
      "\n",
      "\n",
      "**The Final Chosen Option:** Mahomes' Magic\n",
      "\n",
      "**Detailed Explanation:** \"Mahomes' Magic\" was selected as the best option because it successfully balances several key elements:\n",
      "\n",
      "*\n",
      " **Catchiness:** It's short, memorable, and easy to say.\n",
      "* **Relevance:**  It directly incorporates Patrick Mahomes' name and implies his exceptional skill and ability to produce unexpected and impressive plays.\n",
      "* **Creativity:** The \"magic\" element adds a playful and intriguing touch, fitting the fantasy football\n",
      " context.\n",
      "* **Broad Appeal:** The name is likely to resonate with a wide range of fantasy football players, regardless of their specific knowledge of football terminology.  It avoids inside jokes or overly specific references that might alienate some.\n",
      "\n",
      "Therefore, \"Mahomes' Magic\" emerges as the ideal name for a fantasy\n",
      " football team, embodying creativity, catchiness, and a clear link to the chosen player.\n",
      "\n",
      "\n"
     ]
    }
   ],
   "source": [
    "for response in gemini15_multimodal.generate_content(prompt, stream = True):\n",
    "    print(response.text)"
   ]
  },
  {
   "cell_type": "code",
   "execution_count": null,
   "id": "c7be58ce-3cf8-4f69-bd53-f6531abd85b9",
   "metadata": {},
   "outputs": [],
   "source": []
  },
  {
   "cell_type": "code",
   "execution_count": null,
   "id": "af2b8dbc-258d-46d5-94b7-9de6e1a6a81f",
   "metadata": {},
   "outputs": [],
   "source": []
  }
 ],
 "metadata": {
  "environment": {
   "kernel": "conda-base-py",
   "name": "workbench-notebooks.m125",
   "type": "gcloud",
   "uri": "us-docker.pkg.dev/deeplearning-platform-release/gcr.io/workbench-notebooks:m125"
  },
  "kernelspec": {
   "display_name": "Python 3 (ipykernel)",
   "language": "python",
   "name": "python3"
  },
  "language_info": {
   "codemirror_mode": {
    "name": "ipython",
    "version": 3
   },
   "file_extension": ".py",
   "mimetype": "text/x-python",
   "name": "python",
   "nbconvert_exporter": "python",
   "pygments_lexer": "ipython3",
   "version": "3.11.10"
  }
 },
 "nbformat": 4,
 "nbformat_minor": 5
}
