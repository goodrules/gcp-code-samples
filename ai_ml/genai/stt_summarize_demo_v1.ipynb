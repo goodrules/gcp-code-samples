{
 "cells": [
  {
   "cell_type": "markdown",
   "id": "cb8e89ae-596f-4e4f-9a63-3b3472338fc5",
   "metadata": {
    "jp-MarkdownHeadingCollapsed": true,
    "tags": []
   },
   "source": [
    "### Setup"
   ]
  },
  {
   "cell_type": "code",
   "execution_count": 1,
   "id": "224eb37a-aa23-4b32-8695-830e4a4c7085",
   "metadata": {},
   "outputs": [],
   "source": [
    "import os\n",
    "import io\n",
    "import json\n",
    "import base64\n",
    "import requests\n",
    "import concurrent.futures\n",
    "import time\n",
    "from IPython.display import display, Markdown, Latex\n",
    "\n",
    "import shapely\n",
    "\n",
    "import numpy as np\n",
    "import pandas as pd\n",
    "\n",
    "import vertexai\n",
    "from vertexai.preview.language_models import TextGenerationModel, TextEmbeddingModel, ChatModel\n",
    "from google.cloud import aiplatform\n",
    "from google.cloud import storage\n",
    "from google.cloud import speech_v1p1beta1 as speech  #v1 has detect different speakers, v2 does not yet\n",
    "from google.cloud import bigquery\n"
   ]
  },
  {
   "cell_type": "code",
   "execution_count": 2,
   "id": "c4b92398-9b94-49a7-9eb8-f7b715e2cd9f",
   "metadata": {},
   "outputs": [
    {
     "data": {
      "text/plain": [
       "'mg-ce-demos'"
      ]
     },
     "execution_count": 2,
     "metadata": {},
     "output_type": "execute_result"
    }
   ],
   "source": [
    "project = !gcloud config get-value project\n",
    "PROJECT_ID = project[0]\n",
    "PROJECT_ID"
   ]
  },
  {
   "cell_type": "code",
   "execution_count": 3,
   "id": "78797986-14e6-4763-ba49-19946beec1b7",
   "metadata": {},
   "outputs": [],
   "source": [
    "REGION = 'us-central1'\n",
    "LOCATION = 'us'"
   ]
  },
  {
   "cell_type": "code",
   "execution_count": 4,
   "id": "01388772-3b7f-4df9-b040-488f18490147",
   "metadata": {},
   "outputs": [],
   "source": [
    "#speech client\n",
    "stt = speech.SpeechClient()\n",
    "\n",
    "# gcs client\n",
    "gcs = storage.Client(project = PROJECT_ID)\n",
    "\n",
    "# vertex ai clients\n",
    "vertexai.init(project = PROJECT_ID, location = REGION)\n",
    "aiplatform.init(project = PROJECT_ID, location = REGION)\n",
    "\n",
    "# bigquery client\n",
    "bq = bigquery.Client(project = PROJECT_ID)"
   ]
  },
  {
   "cell_type": "markdown",
   "id": "0861136f-3d6a-4a0f-a50f-5de76dca7a8e",
   "metadata": {
    "jp-MarkdownHeadingCollapsed": true,
    "tags": []
   },
   "source": [
    "### Get audio files\n",
    "Need to loop through all files in a GCS bucket"
   ]
  },
  {
   "cell_type": "code",
   "execution_count": 5,
   "id": "f2085b1b-4be3-4ff4-a2c9-2d72613c9a23",
   "metadata": {},
   "outputs": [],
   "source": [
    "example_audio_uri = \"speech/brooklyn_bridge.flac\"\n",
    "example_audio_uri2 = \"speech/sample-podcasts/GCPEpisode328-DatabaseMigrationService-2min sample.flac\"\n",
    "example_audio_uri3 = \"speech/multi.wav\"\n",
    "\n",
    "gcs_bucket = 'cloud-samples-data'\n",
    "bucket = gcs.bucket(gcs_bucket)\n",
    "blob = bucket.blob(example_audio_uri2)\n",
    "\n",
    "audio_bytes = blob.download_as_bytes()"
   ]
  },
  {
   "cell_type": "code",
   "execution_count": 6,
   "id": "81abb1ad-05f9-462e-a373-c8efff5f63c6",
   "metadata": {},
   "outputs": [],
   "source": [
    "#gcs_uri = \"gs://cloud-samples-data/speech/sample-podcasts/GCPEpisode328-DatabaseMigrationService-2min sample.flac\""
   ]
  },
  {
   "cell_type": "code",
   "execution_count": 7,
   "id": "98f5d6dc-ba9a-402d-a7eb-97f092e3f47c",
   "metadata": {},
   "outputs": [
    {
     "data": {
      "text/plain": [
       "bytes"
      ]
     },
     "execution_count": 7,
     "metadata": {},
     "output_type": "execute_result"
    }
   ],
   "source": [
    "type(audio_bytes)"
   ]
  },
  {
   "cell_type": "markdown",
   "id": "6163c1bd-6879-4689-a830-f6f487708195",
   "metadata": {
    "jp-MarkdownHeadingCollapsed": true,
    "tags": []
   },
   "source": [
    "### STT setup - including multiple speakers"
   ]
  },
  {
   "cell_type": "code",
   "execution_count": 43,
   "id": "d807a0ee-d5ec-45e3-bfc5-b08d4aece745",
   "metadata": {},
   "outputs": [],
   "source": [
    "diarization_config = speech.SpeakerDiarizationConfig(\n",
    "    enable_speaker_diarization=True,\n",
    "    min_speaker_count=2,\n",
    "    max_speaker_count=8,\n",
    ")"
   ]
  },
  {
   "cell_type": "code",
   "execution_count": 44,
   "id": "0297b5e8-aca5-4501-adee-1ca589359576",
   "metadata": {},
   "outputs": [],
   "source": [
    "config = speech.RecognitionConfig(\n",
    "    encoding=speech.RecognitionConfig.AudioEncoding.FLAC,\n",
    "    audio_channel_count=2,\n",
    "    enable_word_confidence=True,\n",
    "    enable_automatic_punctuation=True,\n",
    "    profanity_filter=True,\n",
    "    language_code=\"en-US\",\n",
    "    diarization_config=diarization_config,\n",
    ")"
   ]
  },
  {
   "cell_type": "code",
   "execution_count": 45,
   "id": "e0c91b9f-e4fa-47cb-b13a-62841a2e5804",
   "metadata": {},
   "outputs": [],
   "source": [
    "audio = speech.RecognitionAudio(content=audio_bytes)"
   ]
  },
  {
   "cell_type": "code",
   "execution_count": 46,
   "id": "e904cfa5-67ea-4c03-b438-09d0ec1e6820",
   "metadata": {},
   "outputs": [
    {
     "name": "stdout",
     "output_type": "stream",
     "text": [
      "Waiting for operation to complete...\n"
     ]
    }
   ],
   "source": [
    "# Detects speech in the audio file\n",
    "operation = stt.long_running_recognize(config=config, audio=audio)\n",
    "\n",
    "print(\"Waiting for operation to complete...\")\n",
    "response = operation.result(timeout=180)"
   ]
  },
  {
   "cell_type": "code",
   "execution_count": 47,
   "id": "feb07dbb-536e-401e-ac34-1170379eb5db",
   "metadata": {
    "scrolled": true,
    "tags": []
   },
   "outputs": [],
   "source": [
    "#response"
   ]
  },
  {
   "cell_type": "code",
   "execution_count": 48,
   "id": "d11b05ea-24e7-4f07-8af7-6552f1927d8a",
   "metadata": {
    "scrolled": true,
    "tags": []
   },
   "outputs": [],
   "source": [
    "result = response.results[-1]\n",
    "words_info = result.alternatives[0].words\n",
    "#result\n",
    "#words_info"
   ]
  },
  {
   "cell_type": "code",
   "execution_count": 49,
   "id": "49283c99-a08c-4464-b07c-3d2fbd8a8b80",
   "metadata": {},
   "outputs": [],
   "source": [
    "speaker = 1\n",
    "text = ''\n",
    "order = 0\n",
    "transcript = pd.DataFrame(columns=['file', 'order', 'speaker_tag', 'text'])\n",
    "\n",
    "for word_info in words_info:\n",
    "    if word_info.confidence >= 0.9:\n",
    "        if word_info.speaker_tag==speaker:\n",
    "            text=text+\" \"+word_info.word\n",
    "        else:\n",
    "            transcript.loc[len(transcript.index)] = [example_audio_uri2, order, str('speaker_'+str(speaker)), text] \n",
    "            order += 1\n",
    "            speaker=word_info.speaker_tag\n",
    "            text=\"\"+word_info.word\n",
    "\n",
    "transcript.loc[len(transcript.index)] = [example_audio_uri2, order, str('speaker_'+str(speaker)), text]"
   ]
  },
  {
   "cell_type": "code",
   "execution_count": 54,
   "id": "6a261420-68ba-44c0-b9f4-fe5934b38bc3",
   "metadata": {},
   "outputs": [
    {
     "data": {
      "text/html": [
       "<div>\n",
       "<style scoped>\n",
       "    .dataframe tbody tr th:only-of-type {\n",
       "        vertical-align: middle;\n",
       "    }\n",
       "\n",
       "    .dataframe tbody tr th {\n",
       "        vertical-align: top;\n",
       "    }\n",
       "\n",
       "    .dataframe thead th {\n",
       "        text-align: right;\n",
       "    }\n",
       "</style>\n",
       "<table border=\"1\" class=\"dataframe\">\n",
       "  <thead>\n",
       "    <tr style=\"text-align: right;\">\n",
       "      <th></th>\n",
       "      <th>file</th>\n",
       "      <th>order</th>\n",
       "      <th>speaker_tag</th>\n",
       "      <th>text</th>\n",
       "    </tr>\n",
       "  </thead>\n",
       "  <tbody>\n",
       "    <tr>\n",
       "      <th>1</th>\n",
       "      <td>speech/sample-podcasts/GCPEpisode328-DatabaseM...</td>\n",
       "      <td>1</td>\n",
       "      <td>speaker_2</td>\n",
       "      <td>Hello everyone and welcome to episode number 3...</td>\n",
       "    </tr>\n",
       "    <tr>\n",
       "      <th>2</th>\n",
       "      <td>speech/sample-podcasts/GCPEpisode328-DatabaseM...</td>\n",
       "      <td>2</td>\n",
       "      <td>speaker_3</td>\n",
       "      <td>talked and databases talk and data movement, s...</td>\n",
       "    </tr>\n",
       "    <tr>\n",
       "      <th>3</th>\n",
       "      <td>speech/sample-podcasts/GCPEpisode328-DatabaseM...</td>\n",
       "      <td>3</td>\n",
       "      <td>speaker_2</td>\n",
       "      <td>So okay, this is the perfect person for the pe...</td>\n",
       "    </tr>\n",
       "    <tr>\n",
       "      <th>4</th>\n",
       "      <td>speech/sample-podcasts/GCPEpisode328-DatabaseM...</td>\n",
       "      <td>4</td>\n",
       "      <td>speaker_3</td>\n",
       "      <td>One of is where does your dad live did a resid...</td>\n",
       "    </tr>\n",
       "    <tr>\n",
       "      <th>5</th>\n",
       "      <td>speech/sample-podcasts/GCPEpisode328-DatabaseM...</td>\n",
       "      <td>5</td>\n",
       "      <td>speaker_2</td>\n",
       "      <td>lot packed into this episode and Shahar Dina g...</td>\n",
       "    </tr>\n",
       "    <tr>\n",
       "      <th>6</th>\n",
       "      <td>speech/sample-podcasts/GCPEpisode328-DatabaseM...</td>\n",
       "      <td>6</td>\n",
       "      <td>speaker_3</td>\n",
       "      <td>Journeys.</td>\n",
       "    </tr>\n",
       "    <tr>\n",
       "      <th>7</th>\n",
       "      <td>speech/sample-podcasts/GCPEpisode328-DatabaseM...</td>\n",
       "      <td>7</td>\n",
       "      <td>speaker_2</td>\n",
       "      <td>We get a little sneak peek of it this episode ...</td>\n",
       "    </tr>\n",
       "    <tr>\n",
       "      <th>8</th>\n",
       "      <td>speech/sample-podcasts/GCPEpisode328-DatabaseM...</td>\n",
       "      <td>8</td>\n",
       "      <td>speaker_3</td>\n",
       "      <td>So what's the first thing that you saw that wa...</td>\n",
       "    </tr>\n",
       "    <tr>\n",
       "      <th>9</th>\n",
       "      <td>speech/sample-podcasts/GCPEpisode328-DatabaseM...</td>\n",
       "      <td>9</td>\n",
       "      <td>speaker_2</td>\n",
       "      <td>There's a happening on the blog in on the inte...</td>\n",
       "    </tr>\n",
       "  </tbody>\n",
       "</table>\n",
       "</div>"
      ],
      "text/plain": [
       "                                                file  order speaker_tag  \\\n",
       "1  speech/sample-podcasts/GCPEpisode328-DatabaseM...      1   speaker_2   \n",
       "2  speech/sample-podcasts/GCPEpisode328-DatabaseM...      2   speaker_3   \n",
       "3  speech/sample-podcasts/GCPEpisode328-DatabaseM...      3   speaker_2   \n",
       "4  speech/sample-podcasts/GCPEpisode328-DatabaseM...      4   speaker_3   \n",
       "5  speech/sample-podcasts/GCPEpisode328-DatabaseM...      5   speaker_2   \n",
       "6  speech/sample-podcasts/GCPEpisode328-DatabaseM...      6   speaker_3   \n",
       "7  speech/sample-podcasts/GCPEpisode328-DatabaseM...      7   speaker_2   \n",
       "8  speech/sample-podcasts/GCPEpisode328-DatabaseM...      8   speaker_3   \n",
       "9  speech/sample-podcasts/GCPEpisode328-DatabaseM...      9   speaker_2   \n",
       "\n",
       "                                                text  \n",
       "1  Hello everyone and welcome to episode number 3...  \n",
       "2  talked and databases talk and data movement, s...  \n",
       "3  So okay, this is the perfect person for the pe...  \n",
       "4  One of is where does your dad live did a resid...  \n",
       "5  lot packed into this episode and Shahar Dina g...  \n",
       "6                                          Journeys.  \n",
       "7  We get a little sneak peek of it this episode ...  \n",
       "8  So what's the first thing that you saw that wa...  \n",
       "9  There's a happening on the blog in on the inte...  "
      ]
     },
     "execution_count": 54,
     "metadata": {},
     "output_type": "execute_result"
    }
   ],
   "source": [
    "transcript['text'].replace('', np.nan, inplace=True)\n",
    "transcript = transcript.dropna() \n",
    "transcript"
   ]
  },
  {
   "cell_type": "markdown",
   "id": "6d613bd9-a15b-4b3d-b2fb-9482bcee2d0a",
   "metadata": {
    "jp-MarkdownHeadingCollapsed": true,
    "tags": []
   },
   "source": [
    "### Build prompts for summarization"
   ]
  },
  {
   "cell_type": "code",
   "execution_count": 55,
   "id": "0d3a2af3-d8e9-4785-b63d-7bccd0cbd345",
   "metadata": {},
   "outputs": [],
   "source": [
    "prompt_context = []\n",
    "\n",
    "for i, row in transcript.iterrows():\n",
    "    prompt_context.append(\"{0}\".format(row[\"text\"]))\n",
    "\n",
    "#prompt_context"
   ]
  },
  {
   "cell_type": "code",
   "execution_count": 56,
   "id": "05a328fc-ed7e-4f3a-b69b-6871b3cbc8a9",
   "metadata": {},
   "outputs": [
    {
     "data": {
      "text/plain": [
       "[['speaker_2',\n",
       "  [\"Hello everyone and welcome to episode number 328 of the weekly Google Cloud platform podcast. This is Stephanie walk and today I'm here with gav Weiss\",\n",
       "   'So okay, this is the perfect person for the perfect episode. What are we going to talk about today?',\n",
       "   'lot packed into this episode and Shahar Dina gave you as well. I feel like we have a great combination of folks here from the product and side to talk about this product. I also feel like we should have a separate episode on just your career',\n",
       "   \"We get a little sneak peek of it this episode but yeah, just waiting What's in store for you to learn about yuna's how that ties into a database migration service. But before we get into that, why we go ahead and cover some of the cool things of the week?\",\n",
       "   \"There's a happening on the blog in on the interwebs around Google Cloud. By we just out with a new flexible committed use discount. So, these are spend commitments for predictable, and simple discount. for example, you get 28% year,\"]],\n",
       " ['speaker_3',\n",
       "  ['talked and databases talk and data movement, same thing.',\n",
       "   \"One of is where does your dad live did a residency? Where can you get the most out of your data or opinion? It's in the cloud. So today we have our friends from Tel Aviv to talk about how to get your dick. Talking database, migration service, it's going to be a great conversation about all things. What you should think about why we care about it, why you should care about it and how we can make it easy.\",\n",
       "   'Journeys.',\n",
       "   \"So what's the first thing that you saw that was super awesome. This week,\"]]]"
      ]
     },
     "execution_count": 56,
     "metadata": {},
     "output_type": "execute_result"
    }
   ],
   "source": [
    "prompt_context_by_speaker = []\n",
    "\n",
    "for tag in transcript.speaker_tag.unique():\n",
    "    prompt_context_temp = []\n",
    "    for i, row in transcript[transcript.speaker_tag == tag].iterrows():\n",
    "        prompt_context_temp.append(\"{0}\".format(row[\"text\"]))\n",
    "    prompt_context_by_speaker.append([tag, prompt_context_temp])\n",
    "\n",
    "prompt_context_by_speaker"
   ]
  },
  {
   "cell_type": "code",
   "execution_count": 57,
   "id": "0583c5da-f6d5-4d96-9a70-e22044d378a4",
   "metadata": {},
   "outputs": [],
   "source": [
    "#print(str.join(\"\\n\", prompt_context_by_speaker[1][1]))"
   ]
  },
  {
   "cell_type": "markdown",
   "id": "f516a7f5-e1ae-4610-a3a7-2ed4646c7e02",
   "metadata": {
    "jp-MarkdownHeadingCollapsed": true,
    "tags": []
   },
   "source": [
    "### Submit prompts to GenAI APIs"
   ]
  },
  {
   "cell_type": "markdown",
   "id": "b9e4b52f-65fd-41d3-8e3c-a170ecaf3bb4",
   "metadata": {},
   "source": [
    "#### Prediction for the entire transcription"
   ]
  },
  {
   "cell_type": "code",
   "execution_count": 58,
   "id": "616e4f56-b198-47da-9da6-26c1a142bdc8",
   "metadata": {},
   "outputs": [],
   "source": [
    "textgen_model = vertexai.preview.language_models.TextGenerationModel.from_pretrained('text-bison@001')"
   ]
  },
  {
   "cell_type": "code",
   "execution_count": 59,
   "id": "7c5e93bc-8977-442d-9d01-adff647d2574",
   "metadata": {},
   "outputs": [],
   "source": [
    "preamble = \"Summarize the following opinion in 2-3 sentences: \""
   ]
  },
  {
   "cell_type": "code",
   "execution_count": 69,
   "id": "c889d34a-5643-4da2-9613-42e7031eed46",
   "metadata": {},
   "outputs": [],
   "source": [
    "prompt_1 = preamble + \"\\n\\n\" + str.join(\"\\n\", prompt_context)"
   ]
  },
  {
   "cell_type": "code",
   "execution_count": 70,
   "id": "77ac0885-4672-440f-8207-9e128804eb8d",
   "metadata": {},
   "outputs": [],
   "source": [
    "response_full = textgen_model.predict(\n",
    "                    prompt_1,\n",
    "                    max_output_tokens=1024,\n",
    "                    temperature=0.4,\n",
    "                    top_p=0.8,\n",
    "                    top_k=40,\n",
    "                )"
   ]
  },
  {
   "cell_type": "code",
   "execution_count": 71,
   "id": "3ef206bb-2958-4d03-8fee-0ed53e112ce8",
   "metadata": {},
   "outputs": [
    {
     "data": {
      "text/markdown": [
       "**Prompt**"
      ],
      "text/plain": [
       "<IPython.core.display.Markdown object>"
      ]
     },
     "metadata": {},
     "output_type": "display_data"
    },
    {
     "data": {
      "text/markdown": [
       "Summarize the following opinion in 2-3 sentences: \n",
       "\n",
       "Hello everyone and welcome to episode number 328 of the weekly Google Cloud platform podcast. This is Stephanie walk and today I'm here with gav Weiss\n",
       "talked and databases talk and data movement, same thing.\n",
       "So okay, this is the perfect person for the perfect episode. What are we going to talk about today?\n",
       "One of is where does your dad live did a residency? Where can you get the most out of your data or opinion? It's in the cloud. So today we have our friends from Tel Aviv to talk about how to get your dick. Talking database, migration service, it's going to be a great conversation about all things. What you should think about why we care about it, why you should care about it and how we can make it easy.\n",
       "lot packed into this episode and Shahar Dina gave you as well. I feel like we have a great combination of folks here from the product and side to talk about this product. I also feel like we should have a separate episode on just your career\n",
       "Journeys.\n",
       "We get a little sneak peek of it this episode but yeah, just waiting What's in store for you to learn about yuna's how that ties into a database migration service. But before we get into that, why we go ahead and cover some of the cool things of the week?\n",
       "So what's the first thing that you saw that was super awesome. This week,\n",
       "There's a happening on the blog in on the interwebs around Google Cloud. By we just out with a new flexible committed use discount. So, these are spend commitments for predictable, and simple discount. for example, you get 28% year,"
      ],
      "text/plain": [
       "<IPython.core.display.Markdown object>"
      ]
     },
     "metadata": {},
     "output_type": "display_data"
    },
    {
     "name": "stdout",
     "output_type": "stream",
     "text": [
      "\n",
      "\n"
     ]
    },
    {
     "data": {
      "text/markdown": [
       "**Transcription Summary**"
      ],
      "text/plain": [
       "<IPython.core.display.Markdown object>"
      ]
     },
     "metadata": {},
     "output_type": "display_data"
    },
    {
     "data": {
      "text/markdown": [
       "if you commit to spending 1 year of compute Engine. The speaker thinks that the cloud is the best place to store data and that Google Cloud Platform's Database Migration Service makes it easy to move data to the cloud."
      ],
      "text/plain": [
       "<IPython.core.display.Markdown object>"
      ]
     },
     "metadata": {},
     "output_type": "display_data"
    }
   ],
   "source": [
    "display(Markdown(str('**Prompt**')))\n",
    "display(Markdown(str(prompt_1)))\n",
    "print('\\n')\n",
    "display(Markdown(str('**Transcription Summary**')))\n",
    "display(Markdown(str(response_full)))"
   ]
  },
  {
   "cell_type": "markdown",
   "id": "9edefc1d-238c-4cc0-a7d9-d907c4cc6c3d",
   "metadata": {},
   "source": [
    "#### Prediction for the transcription by speaker"
   ]
  },
  {
   "cell_type": "code",
   "execution_count": 72,
   "id": "3026df5d-29f8-46f0-b205-c983e300c535",
   "metadata": {},
   "outputs": [],
   "source": [
    "preamble = \"Summarize the following opinion in 2-3 sentences: \""
   ]
  },
  {
   "cell_type": "code",
   "execution_count": 74,
   "id": "ab00ea2e-d51f-4760-8743-a66fbb33040d",
   "metadata": {},
   "outputs": [
    {
     "data": {
      "text/markdown": [
       "**Prompt - speaker_2**"
      ],
      "text/plain": [
       "<IPython.core.display.Markdown object>"
      ]
     },
     "metadata": {},
     "output_type": "display_data"
    },
    {
     "data": {
      "text/markdown": [
       "Summarize the following opinion in 2-3 sentences: \n",
       "\n",
       "Hello everyone and welcome to episode number 328 of the weekly Google Cloud platform podcast. This is Stephanie walk and today I'm here with gav Weiss\n",
       "So okay, this is the perfect person for the perfect episode. What are we going to talk about today?\n",
       "lot packed into this episode and Shahar Dina gave you as well. I feel like we have a great combination of folks here from the product and side to talk about this product. I also feel like we should have a separate episode on just your career\n",
       "We get a little sneak peek of it this episode but yeah, just waiting What's in store for you to learn about yuna's how that ties into a database migration service. But before we get into that, why we go ahead and cover some of the cool things of the week?\n",
       "There's a happening on the blog in on the interwebs around Google Cloud. By we just out with a new flexible committed use discount. So, these are spend commitments for predictable, and simple discount. for example, you get 28% year,"
      ],
      "text/plain": [
       "<IPython.core.display.Markdown object>"
      ]
     },
     "metadata": {},
     "output_type": "display_data"
    },
    {
     "name": "stdout",
     "output_type": "stream",
     "text": [
      "\n",
      "\n"
     ]
    },
    {
     "data": {
      "text/markdown": [
       "**Transcription Summary**"
      ],
      "text/plain": [
       "<IPython.core.display.Markdown object>"
      ]
     },
     "metadata": {},
     "output_type": "display_data"
    },
    {
     "data": {
      "text/markdown": [
       "if you commit to spending 1 year. The author thinks that the new flexible committed use discount is a great way to save money on Google Cloud. It's simple to use and provides a predictable discount."
      ],
      "text/plain": [
       "<IPython.core.display.Markdown object>"
      ]
     },
     "metadata": {},
     "output_type": "display_data"
    },
    {
     "name": "stdout",
     "output_type": "stream",
     "text": [
      "------------------------\n"
     ]
    },
    {
     "data": {
      "text/markdown": [
       "**Prompt - speaker_3**"
      ],
      "text/plain": [
       "<IPython.core.display.Markdown object>"
      ]
     },
     "metadata": {},
     "output_type": "display_data"
    },
    {
     "data": {
      "text/markdown": [
       "Summarize the following opinion in 2-3 sentences: \n",
       "\n",
       "talked and databases talk and data movement, same thing.\n",
       "One of is where does your dad live did a residency? Where can you get the most out of your data or opinion? It's in the cloud. So today we have our friends from Tel Aviv to talk about how to get your dick. Talking database, migration service, it's going to be a great conversation about all things. What you should think about why we care about it, why you should care about it and how we can make it easy.\n",
       "Journeys.\n",
       "So what's the first thing that you saw that was super awesome. This week,"
      ],
      "text/plain": [
       "<IPython.core.display.Markdown object>"
      ]
     },
     "metadata": {},
     "output_type": "display_data"
    },
    {
     "name": "stdout",
     "output_type": "stream",
     "text": [
      "\n",
      "\n"
     ]
    },
    {
     "data": {
      "text/markdown": [
       "**Transcription Summary**"
      ],
      "text/plain": [
       "<IPython.core.display.Markdown object>"
      ]
     },
     "metadata": {},
     "output_type": "display_data"
    },
    {
     "data": {
      "text/markdown": [
       "I talked about data and data movement. I think the most important thing is to get your data in the cloud. I had a great conversation with my friends from Tel Aviv about database migration service. We talked about why we care about it, why you should care about it and how we can make it easy."
      ],
      "text/plain": [
       "<IPython.core.display.Markdown object>"
      ]
     },
     "metadata": {},
     "output_type": "display_data"
    },
    {
     "name": "stdout",
     "output_type": "stream",
     "text": [
      "------------------------\n"
     ]
    }
   ],
   "source": [
    "for prompt in prompt_context_by_speaker:\n",
    "    prompt_n = preamble + \"\\n\\n\" + str.join(\"\\n\", prompt[1])\n",
    "    response_speaker = textgen_model.predict(\n",
    "                    prompt_n,\n",
    "                    max_output_tokens=1024,\n",
    "                    temperature=0.4,\n",
    "                    top_p=0.8,\n",
    "                    top_k=40,\n",
    "                )\n",
    "    display(Markdown(str('**Prompt - {}**'.format(prompt[0]))))\n",
    "    display(Markdown(str(prompt_n)))\n",
    "    print('\\n')\n",
    "    display(Markdown(str('**Transcription Summary**')))\n",
    "    display(Markdown(str(response_speaker)))\n",
    "    print('------------------------')\n",
    "\n"
   ]
  },
  {
   "cell_type": "markdown",
   "id": "60501fa9-df37-425b-a649-00907e8b272a",
   "metadata": {
    "jp-MarkdownHeadingCollapsed": true,
    "tags": []
   },
   "source": [
    "### Functions - for future reference"
   ]
  },
  {
   "cell_type": "code",
   "execution_count": null,
   "id": "e9bad37b-28e5-4419-bc3f-71fbf2495523",
   "metadata": {},
   "outputs": [],
   "source": [
    "def mp3_to_wav(audio_file_name):\n",
    "    if audio_file_name.split('.')[1] == 'mp3':    \n",
    "        sound = AudioSegment.from_mp3(audio_file_name)\n",
    "        audio_file_name = audio_file_name.split('.')[0] + '.wav'\n",
    "        sound.export(audio_file_name, format=\"wav\")"
   ]
  },
  {
   "cell_type": "code",
   "execution_count": null,
   "id": "f1f86cb8-66f8-49d7-a8b3-21235fe33125",
   "metadata": {},
   "outputs": [],
   "source": [
    "def frame_rate_channel(audio_file_name):\n",
    "    with wave.open(audio_file_name, \"rb\") as wave_file:\n",
    "        frame_rate = wave_file.getframerate()\n",
    "        channels = wave_file.getnchannels()\n",
    "        return frame_rate,channels"
   ]
  },
  {
   "cell_type": "code",
   "execution_count": null,
   "id": "aba655c7-ca99-4338-9650-db92a1fe0f83",
   "metadata": {},
   "outputs": [],
   "source": [
    "def stereo_to_mono(audio_file_name):\n",
    "    sound = AudioSegment.from_wav(audio_file_name)\n",
    "    sound = sound.set_channels(1)\n",
    "    sound.export(audio_file_name, format=\"wav\")"
   ]
  },
  {
   "cell_type": "code",
   "execution_count": null,
   "id": "61a81073-6c67-44fd-8231-3ca6fef31bb8",
   "metadata": {},
   "outputs": [],
   "source": []
  }
 ],
 "metadata": {
  "kernelspec": {
   "display_name": "Python 3 (ipykernel)",
   "language": "python",
   "name": "python3"
  },
  "language_info": {
   "codemirror_mode": {
    "name": "ipython",
    "version": 3
   },
   "file_extension": ".py",
   "mimetype": "text/x-python",
   "name": "python",
   "nbconvert_exporter": "python",
   "pygments_lexer": "ipython3",
   "version": "3.9.6"
  }
 },
 "nbformat": 4,
 "nbformat_minor": 5
}
