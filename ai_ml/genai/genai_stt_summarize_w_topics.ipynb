{
 "cells": [
  {
   "cell_type": "markdown",
   "metadata": {},
   "source": [
    "# Cluster and summarize long-form audio using STT and GenAI"
   ]
  },
  {
   "cell_type": "markdown",
   "metadata": {
    "jp-MarkdownHeadingCollapsed": true,
    "tags": []
   },
   "source": [
    "## Solution Overview"
   ]
  },
  {
   "cell_type": "markdown",
   "metadata": {},
   "source": [
    "<p align=\"center\">\n",
    "  <img alt=\"Conceptual Flow\" src=\"Screenshot 2023-08-24 at 12.33.59 PM.png\" width=\"100%\">\n",
    "</p>"
   ]
  },
  {
   "cell_type": "markdown",
   "metadata": {
    "tags": []
   },
   "source": [
    "## Setup"
   ]
  },
  {
   "cell_type": "markdown",
   "metadata": {
    "jp-MarkdownHeadingCollapsed": true,
    "tags": []
   },
   "source": [
    "### Installs"
   ]
  },
  {
   "cell_type": "code",
   "execution_count": 125,
   "metadata": {
    "scrolled": true,
    "tags": []
   },
   "outputs": [
    {
     "name": "stdout",
     "output_type": "stream",
     "text": [
      "Requirement already satisfied: google-cloud-aiplatform in /Users/mikegoodman/Documents/developer/venv/lib/python3.9/site-packages (1.26.1)\n",
      "Collecting google-cloud-aiplatform\n",
      "  Obtaining dependency information for google-cloud-aiplatform from https://files.pythonhosted.org/packages/0b/7c/fcbb346dbfe4de0b4cccf33ed114b94921a970f7624a8b42c1aa54b7699d/google_cloud_aiplatform-1.31.1-py2.py3-none-any.whl.metadata\n",
      "  Downloading google_cloud_aiplatform-1.31.1-py2.py3-none-any.whl.metadata (25 kB)\n",
      "Requirement already satisfied: vertexai in /Users/mikegoodman/Documents/developer/venv/lib/python3.9/site-packages (0.0.1)\n",
      "Requirement already satisfied: langchain in /Users/mikegoodman/Documents/developer/venv/lib/python3.9/site-packages (0.0.259)\n",
      "Collecting langchain\n",
      "  Obtaining dependency information for langchain from https://files.pythonhosted.org/packages/1d/63/1e7c55a653c93cc83b642a7cf5893a9caa4a1325c2b33bc7796bd7a0f143/langchain-0.0.276-py3-none-any.whl.metadata\n",
      "  Downloading langchain-0.0.276-py3-none-any.whl.metadata (14 kB)\n",
      "Requirement already satisfied: chromadb in /Users/mikegoodman/Documents/developer/venv/lib/python3.9/site-packages (0.3.26)\n",
      "Collecting chromadb\n",
      "  Obtaining dependency information for chromadb from https://files.pythonhosted.org/packages/f2/30/0d767083adb204422e10a5529f57a8afa9dc921f76620f11693e67b23c3a/chromadb-0.4.8-py3-none-any.whl.metadata\n",
      "  Downloading chromadb-0.4.8-py3-none-any.whl.metadata (6.9 kB)\n",
      "Requirement already satisfied: pydantic in /Users/mikegoodman/Documents/developer/venv/lib/python3.9/site-packages (1.10.7)\n",
      "Collecting pydantic\n",
      "  Obtaining dependency information for pydantic from https://files.pythonhosted.org/packages/82/06/fafdc75e48b248eff364b4249af4bcc6952225e8f20e8205820afc66e88e/pydantic-2.3.0-py3-none-any.whl.metadata\n",
      "  Downloading pydantic-2.3.0-py3-none-any.whl.metadata (148 kB)\n",
      "\u001b[2K     \u001b[90m━━━━━━━━━━━━━━━━━━━━━━━━━━━━━━━━━━━━━━━\u001b[0m \u001b[32m148.8/148.8 kB\u001b[0m \u001b[31m1.6 MB/s\u001b[0m eta \u001b[36m0:00:00\u001b[0ma \u001b[36m0:00:01\u001b[0m\n",
      "\u001b[?25hRequirement already satisfied: typing-inspect in /Users/mikegoodman/Documents/developer/venv/lib/python3.9/site-packages (0.8.0)\n",
      "Collecting typing-inspect\n",
      "  Obtaining dependency information for typing-inspect from https://files.pythonhosted.org/packages/65/f3/107a22063bf27bdccf2024833d3445f4eea42b2e598abfbd46f6a63b6cb0/typing_inspect-0.9.0-py3-none-any.whl.metadata\n",
      "  Downloading typing_inspect-0.9.0-py3-none-any.whl.metadata (1.5 kB)\n",
      "Requirement already satisfied: typing_extensions in /Users/mikegoodman/Documents/developer/venv/lib/python3.9/site-packages (4.5.0)\n",
      "Collecting typing_extensions\n",
      "  Obtaining dependency information for typing_extensions from https://files.pythonhosted.org/packages/ec/6b/63cc3df74987c36fe26157ee12e09e8f9db4de771e0f3404263117e75b95/typing_extensions-4.7.1-py3-none-any.whl.metadata\n",
      "  Using cached typing_extensions-4.7.1-py3-none-any.whl.metadata (3.1 kB)\n",
      "Requirement already satisfied: pandas in /Users/mikegoodman/Documents/developer/venv/lib/python3.9/site-packages (1.5.2)\n",
      "Collecting pandas\n",
      "  Obtaining dependency information for pandas from https://files.pythonhosted.org/packages/f8/c7/cfef920b7b457dff6928e824896cb82367650ea127d048ee0b820026db4f/pandas-2.0.3-cp39-cp39-macosx_10_9_x86_64.whl.metadata\n",
      "  Using cached pandas-2.0.3-cp39-cp39-macosx_10_9_x86_64.whl.metadata (18 kB)\n",
      "Requirement already satisfied: datasets in /Users/mikegoodman/Documents/developer/venv/lib/python3.9/site-packages (2.9.0)\n",
      "Collecting datasets\n",
      "  Obtaining dependency information for datasets from https://files.pythonhosted.org/packages/66/f8/38298237d18d4b6a8ee5dfe390e97bed5adb8e01ec6f9680c0ddf3066728/datasets-2.14.4-py3-none-any.whl.metadata\n",
      "  Using cached datasets-2.14.4-py3-none-any.whl.metadata (19 kB)\n",
      "Requirement already satisfied: google-api-python-client in /Users/mikegoodman/Documents/developer/venv/lib/python3.9/site-packages (1.12.11)\n",
      "Collecting google-api-python-client\n",
      "  Obtaining dependency information for google-api-python-client from https://files.pythonhosted.org/packages/49/b1/a1364b88787702a308db814742b81fd3b57e4a616c0bbb50a9a3ad97184b/google_api_python_client-2.97.0-py2.py3-none-any.whl.metadata\n",
      "  Downloading google_api_python_client-2.97.0-py2.py3-none-any.whl.metadata (6.6 kB)\n",
      "Collecting pypdf\n",
      "  Obtaining dependency information for pypdf from https://files.pythonhosted.org/packages/61/05/e57748dfb0e4592c4261402d6bf1e1ec80249540223112e7c776a329ae17/pypdf-3.15.4-py3-none-any.whl.metadata\n",
      "  Downloading pypdf-3.15.4-py3-none-any.whl.metadata (7.1 kB)\n",
      "Collecting faiss-cpu\n",
      "  Using cached faiss_cpu-1.7.4-cp39-cp39-macosx_10_9_x86_64.whl (6.5 MB)\n",
      "Requirement already satisfied: transformers in /Users/mikegoodman/Documents/developer/venv/lib/python3.9/site-packages (4.27.1)\n",
      "Collecting transformers\n",
      "  Obtaining dependency information for transformers from https://files.pythonhosted.org/packages/83/8d/f65f8138365462ace54458a9e164f4b28ce1141361970190eef36bdef986/transformers-4.32.1-py3-none-any.whl.metadata\n",
      "  Downloading transformers-4.32.1-py3-none-any.whl.metadata (118 kB)\n",
      "\u001b[2K     \u001b[90m━━━━━━━━━━━━━━━━━━━━━━━━━━━━━━━━━━━━━━━\u001b[0m \u001b[32m118.5/118.5 kB\u001b[0m \u001b[31m4.6 MB/s\u001b[0m eta \u001b[36m0:00:00\u001b[0m\n",
      "\u001b[?25hCollecting config\n",
      "  Using cached config-0.5.1-py2.py3-none-any.whl (20 kB)\n",
      "Requirement already satisfied: google-api-core[grpc]!=2.0.*,!=2.1.*,!=2.2.*,!=2.3.*,!=2.4.*,!=2.5.*,!=2.6.*,!=2.7.*,<3.0.0dev,>=1.32.0 in /Users/mikegoodman/Documents/developer/venv/lib/python3.9/site-packages (from google-cloud-aiplatform) (2.11.0)\n",
      "Requirement already satisfied: proto-plus<2.0.0dev,>=1.22.0 in /Users/mikegoodman/Documents/developer/venv/lib/python3.9/site-packages (from google-cloud-aiplatform) (1.22.1)\n",
      "Requirement already satisfied: protobuf!=3.20.0,!=3.20.1,!=4.21.0,!=4.21.1,!=4.21.2,!=4.21.3,!=4.21.4,!=4.21.5,<5.0.0dev,>=3.19.5 in /Users/mikegoodman/Documents/developer/venv/lib/python3.9/site-packages (from google-cloud-aiplatform) (3.20.3)\n",
      "Requirement already satisfied: packaging>=14.3 in /Users/mikegoodman/Documents/developer/venv/lib/python3.9/site-packages (from google-cloud-aiplatform) (21.3)\n",
      "Requirement already satisfied: google-cloud-storage<3.0.0dev,>=1.32.0 in /Users/mikegoodman/Documents/developer/venv/lib/python3.9/site-packages (from google-cloud-aiplatform) (2.7.0)\n",
      "Requirement already satisfied: google-cloud-bigquery<4.0.0dev,>=1.15.0 in /Users/mikegoodman/Documents/developer/venv/lib/python3.9/site-packages (from google-cloud-aiplatform) (3.4.1)\n",
      "Requirement already satisfied: google-cloud-resource-manager<3.0.0dev,>=1.3.3 in /Users/mikegoodman/Documents/developer/venv/lib/python3.9/site-packages (from google-cloud-aiplatform) (1.7.0)\n",
      "Requirement already satisfied: shapely<2.0.0 in /Users/mikegoodman/Documents/developer/venv/lib/python3.9/site-packages (from google-cloud-aiplatform) (1.8.5.post1)\n",
      "Requirement already satisfied: PyYAML>=5.3 in /Users/mikegoodman/Documents/developer/venv/lib/python3.9/site-packages (from langchain) (6.0)\n",
      "Requirement already satisfied: SQLAlchemy<3,>=1.4 in /Users/mikegoodman/Documents/developer/venv/lib/python3.9/site-packages (from langchain) (1.4.48)\n",
      "Requirement already satisfied: aiohttp<4.0.0,>=3.8.3 in /Users/mikegoodman/Documents/developer/venv/lib/python3.9/site-packages (from langchain) (3.8.3)\n",
      "Requirement already satisfied: async-timeout<5.0.0,>=4.0.0 in /Users/mikegoodman/Documents/developer/venv/lib/python3.9/site-packages (from langchain) (4.0.2)\n",
      "Requirement already satisfied: dataclasses-json<0.6.0,>=0.5.7 in /Users/mikegoodman/Documents/developer/venv/lib/python3.9/site-packages (from langchain) (0.5.7)\n",
      "Collecting langsmith<0.1.0,>=0.0.21 (from langchain)\n",
      "  Obtaining dependency information for langsmith<0.1.0,>=0.0.21 from https://files.pythonhosted.org/packages/2b/cb/3525fb0d1bf144840c726345a107ad35998565a05e99d4bfec755c71ffd8/langsmith-0.0.27-py3-none-any.whl.metadata\n",
      "  Downloading langsmith-0.0.27-py3-none-any.whl.metadata (10 kB)\n",
      "Requirement already satisfied: numexpr<3.0.0,>=2.8.4 in /Users/mikegoodman/Documents/developer/venv/lib/python3.9/site-packages (from langchain) (2.8.4)\n",
      "Requirement already satisfied: numpy<2,>=1 in /Users/mikegoodman/Documents/developer/venv/lib/python3.9/site-packages (from langchain) (1.24.3)\n",
      "Requirement already satisfied: requests<3,>=2 in /Users/mikegoodman/Documents/developer/venv/lib/python3.9/site-packages (from langchain) (2.28.1)\n",
      "Requirement already satisfied: tenacity<9.0.0,>=8.1.0 in /Users/mikegoodman/Documents/developer/venv/lib/python3.9/site-packages (from langchain) (8.2.2)\n",
      "Collecting pydantic\n",
      "  Obtaining dependency information for pydantic from https://files.pythonhosted.org/packages/78/03/5b35c8fb792c3ea0408ac82257952b11ca2507ca46c21826b180514293b3/pydantic-1.10.12-cp39-cp39-macosx_10_9_x86_64.whl.metadata\n",
      "  Downloading pydantic-1.10.12-cp39-cp39-macosx_10_9_x86_64.whl.metadata (149 kB)\n",
      "\u001b[2K     \u001b[90m━━━━━━━━━━━━━━━━━━━━━━━━━━━━━━━━━━━━━━━\u001b[0m \u001b[32m149.3/149.3 kB\u001b[0m \u001b[31m6.0 MB/s\u001b[0m eta \u001b[36m0:00:00\u001b[0m\n",
      "\u001b[?25hCollecting chroma-hnswlib==0.7.2 (from chromadb)\n",
      "  Downloading chroma-hnswlib-0.7.2.tar.gz (31 kB)\n",
      "  Installing build dependencies ... \u001b[?25ldone\n",
      "\u001b[?25h  Getting requirements to build wheel ... \u001b[?25ldone\n",
      "\u001b[?25h  Preparing metadata (pyproject.toml) ... \u001b[?25ldone\n",
      "\u001b[?25hCollecting fastapi<0.100.0,>=0.95.2 (from chromadb)\n",
      "  Obtaining dependency information for fastapi<0.100.0,>=0.95.2 from https://files.pythonhosted.org/packages/73/eb/03b691afa0b5ffa1e93ed34f97ec1e7855c758efbdcfb16c209af0b0506b/fastapi-0.99.1-py3-none-any.whl.metadata\n",
      "  Downloading fastapi-0.99.1-py3-none-any.whl.metadata (23 kB)\n",
      "Requirement already satisfied: uvicorn[standard]>=0.18.3 in /Users/mikegoodman/Documents/developer/venv/lib/python3.9/site-packages (from chromadb) (0.22.0)\n",
      "Requirement already satisfied: posthog>=2.4.0 in /Users/mikegoodman/Documents/developer/venv/lib/python3.9/site-packages (from chromadb) (3.0.1)\n",
      "Requirement already satisfied: pulsar-client>=3.1.0 in /Users/mikegoodman/Documents/developer/venv/lib/python3.9/site-packages (from chromadb) (3.2.0)\n",
      "Requirement already satisfied: onnxruntime>=1.14.1 in /Users/mikegoodman/Documents/developer/venv/lib/python3.9/site-packages (from chromadb) (1.15.0)\n",
      "Requirement already satisfied: tokenizers>=0.13.2 in /Users/mikegoodman/Documents/developer/venv/lib/python3.9/site-packages (from chromadb) (0.13.3)\n",
      "Collecting pypika>=0.48.9 (from chromadb)\n",
      "  Downloading PyPika-0.48.9.tar.gz (67 kB)\n",
      "\u001b[2K     \u001b[90m━━━━━━━━━━━━━━━━━━━━━━━━━━━━━━━━━━━━━━━━\u001b[0m \u001b[32m67.3/67.3 kB\u001b[0m \u001b[31m2.4 MB/s\u001b[0m eta \u001b[36m0:00:00\u001b[0m\n",
      "\u001b[?25h  Installing build dependencies ... \u001b[?25ldone\n",
      "\u001b[?25h  Getting requirements to build wheel ... \u001b[?25ldone\n",
      "\u001b[?25h  Preparing metadata (pyproject.toml) ... \u001b[?25ldone\n",
      "\u001b[?25hRequirement already satisfied: tqdm>=4.65.0 in /Users/mikegoodman/Documents/developer/venv/lib/python3.9/site-packages (from chromadb) (4.65.0)\n",
      "Requirement already satisfied: overrides>=7.3.1 in /Users/mikegoodman/Documents/developer/venv/lib/python3.9/site-packages (from chromadb) (7.3.1)\n",
      "Requirement already satisfied: importlib-resources in /Users/mikegoodman/Documents/developer/venv/lib/python3.9/site-packages (from chromadb) (6.0.0)\n",
      "Collecting bcrypt>=4.0.1 (from chromadb)\n",
      "  Downloading bcrypt-4.0.1-cp36-abi3-macosx_10_10_universal2.whl (473 kB)\n",
      "\u001b[2K     \u001b[90m━━━━━━━━━━━━━━━━━━━━━━━━━━━━━━━━━━━━━━━\u001b[0m \u001b[32m473.4/473.4 kB\u001b[0m \u001b[31m9.1 MB/s\u001b[0m eta \u001b[36m0:00:00\u001b[0m00:01\u001b[0m\n",
      "\u001b[?25hRequirement already satisfied: mypy-extensions>=0.3.0 in /Users/mikegoodman/Documents/developer/venv/lib/python3.9/site-packages (from typing-inspect) (1.0.0)\n",
      "Requirement already satisfied: python-dateutil>=2.8.2 in /Users/mikegoodman/Documents/developer/venv/lib/python3.9/site-packages (from pandas) (2.8.2)\n",
      "Requirement already satisfied: pytz>=2020.1 in /Users/mikegoodman/Documents/developer/venv/lib/python3.9/site-packages (from pandas) (2022.7)\n",
      "Collecting tzdata>=2022.1 (from pandas)\n",
      "  Using cached tzdata-2023.3-py2.py3-none-any.whl (341 kB)\n",
      "Requirement already satisfied: pyarrow>=8.0.0 in /Users/mikegoodman/Documents/developer/venv/lib/python3.9/site-packages (from datasets) (10.0.1)\n",
      "Requirement already satisfied: dill<0.3.8,>=0.3.0 in /Users/mikegoodman/Documents/developer/venv/lib/python3.9/site-packages (from datasets) (0.3.6)\n",
      "Requirement already satisfied: xxhash in /Users/mikegoodman/Documents/developer/venv/lib/python3.9/site-packages (from datasets) (3.2.0)\n",
      "Requirement already satisfied: multiprocess in /Users/mikegoodman/Documents/developer/venv/lib/python3.9/site-packages (from datasets) (0.70.14)\n",
      "Requirement already satisfied: fsspec[http]>=2021.11.1 in /Users/mikegoodman/Documents/developer/venv/lib/python3.9/site-packages (from datasets) (2023.5.0)\n",
      "Requirement already satisfied: huggingface-hub<1.0.0,>=0.14.0 in /Users/mikegoodman/Documents/developer/venv/lib/python3.9/site-packages (from datasets) (0.14.1)\n",
      "Requirement already satisfied: httplib2<1.dev0,>=0.15.0 in /Users/mikegoodman/Documents/developer/venv/lib/python3.9/site-packages (from google-api-python-client) (0.21.0)\n",
      "Requirement already satisfied: google-auth<3.0.0.dev0,>=1.19.0 in /Users/mikegoodman/Documents/developer/venv/lib/python3.9/site-packages (from google-api-python-client) (2.16.0)\n",
      "Requirement already satisfied: google-auth-httplib2>=0.1.0 in /Users/mikegoodman/Documents/developer/venv/lib/python3.9/site-packages (from google-api-python-client) (0.1.0)\n",
      "Requirement already satisfied: uritemplate<5,>=3.0.1 in /Users/mikegoodman/Documents/developer/venv/lib/python3.9/site-packages (from google-api-python-client) (3.0.1)\n",
      "Requirement already satisfied: filelock in /Users/mikegoodman/Documents/developer/venv/lib/python3.9/site-packages (from transformers) (3.12.0)\n",
      "Collecting huggingface-hub<1.0.0,>=0.14.0 (from datasets)\n",
      "  Obtaining dependency information for huggingface-hub<1.0.0,>=0.14.0 from https://files.pythonhosted.org/packages/7f/c4/adcbe9a696c135578cabcbdd7331332daad4d49b7c43688bc2d36b3a47d2/huggingface_hub-0.16.4-py3-none-any.whl.metadata\n",
      "  Downloading huggingface_hub-0.16.4-py3-none-any.whl.metadata (12 kB)\n",
      "Requirement already satisfied: regex!=2019.12.17 in /Users/mikegoodman/Documents/developer/venv/lib/python3.9/site-packages (from transformers) (2022.10.31)\n",
      "Collecting safetensors>=0.3.1 (from transformers)\n",
      "  Obtaining dependency information for safetensors>=0.3.1 from https://files.pythonhosted.org/packages/e1/57/bb1dc281c2d477afc00ce8851605a42f03b8af52741d16404a06454d8adb/safetensors-0.3.3-cp39-cp39-macosx_10_11_x86_64.whl.metadata\n",
      "  Downloading safetensors-0.3.3-cp39-cp39-macosx_10_11_x86_64.whl.metadata (4.8 kB)\n",
      "Requirement already satisfied: attrs>=17.3.0 in /Users/mikegoodman/Documents/developer/venv/lib/python3.9/site-packages (from aiohttp<4.0.0,>=3.8.3->langchain) (22.1.0)\n",
      "Requirement already satisfied: charset-normalizer<3.0,>=2.0 in /Users/mikegoodman/Documents/developer/venv/lib/python3.9/site-packages (from aiohttp<4.0.0,>=3.8.3->langchain) (2.1.1)\n",
      "Requirement already satisfied: multidict<7.0,>=4.5 in /Users/mikegoodman/Documents/developer/venv/lib/python3.9/site-packages (from aiohttp<4.0.0,>=3.8.3->langchain) (6.0.4)\n",
      "Requirement already satisfied: yarl<2.0,>=1.0 in /Users/mikegoodman/Documents/developer/venv/lib/python3.9/site-packages (from aiohttp<4.0.0,>=3.8.3->langchain) (1.8.2)\n",
      "Requirement already satisfied: frozenlist>=1.1.1 in /Users/mikegoodman/Documents/developer/venv/lib/python3.9/site-packages (from aiohttp<4.0.0,>=3.8.3->langchain) (1.3.3)\n",
      "Requirement already satisfied: aiosignal>=1.1.2 in /Users/mikegoodman/Documents/developer/venv/lib/python3.9/site-packages (from aiohttp<4.0.0,>=3.8.3->langchain) (1.3.1)\n",
      "Requirement already satisfied: marshmallow<4.0.0,>=3.3.0 in /Users/mikegoodman/Documents/developer/venv/lib/python3.9/site-packages (from dataclasses-json<0.6.0,>=0.5.7->langchain) (3.19.0)\n",
      "Requirement already satisfied: marshmallow-enum<2.0.0,>=1.5.1 in /Users/mikegoodman/Documents/developer/venv/lib/python3.9/site-packages (from dataclasses-json<0.6.0,>=0.5.7->langchain) (1.5.1)\n",
      "Collecting starlette<0.28.0,>=0.27.0 (from fastapi<0.100.0,>=0.95.2->chromadb)\n",
      "  Obtaining dependency information for starlette<0.28.0,>=0.27.0 from https://files.pythonhosted.org/packages/58/f8/e2cca22387965584a409795913b774235752be4176d276714e15e1a58884/starlette-0.27.0-py3-none-any.whl.metadata\n",
      "  Downloading starlette-0.27.0-py3-none-any.whl.metadata (5.8 kB)\n",
      "Requirement already satisfied: googleapis-common-protos<2.0dev,>=1.56.2 in /Users/mikegoodman/Documents/developer/venv/lib/python3.9/site-packages (from google-api-core[grpc]!=2.0.*,!=2.1.*,!=2.2.*,!=2.3.*,!=2.4.*,!=2.5.*,!=2.6.*,!=2.7.*,<3.0.0dev,>=1.32.0->google-cloud-aiplatform) (1.57.0)\n",
      "Requirement already satisfied: grpcio<2.0dev,>=1.33.2 in /Users/mikegoodman/Documents/developer/venv/lib/python3.9/site-packages (from google-api-core[grpc]!=2.0.*,!=2.1.*,!=2.2.*,!=2.3.*,!=2.4.*,!=2.5.*,!=2.6.*,!=2.7.*,<3.0.0dev,>=1.32.0->google-cloud-aiplatform) (1.51.1)\n",
      "Requirement already satisfied: grpcio-status<2.0dev,>=1.33.2 in /Users/mikegoodman/Documents/developer/venv/lib/python3.9/site-packages (from google-api-core[grpc]!=2.0.*,!=2.1.*,!=2.2.*,!=2.3.*,!=2.4.*,!=2.5.*,!=2.6.*,!=2.7.*,<3.0.0dev,>=1.32.0->google-cloud-aiplatform) (1.47.0)\n",
      "Requirement already satisfied: cachetools<6.0,>=2.0.0 in /Users/mikegoodman/Documents/developer/venv/lib/python3.9/site-packages (from google-auth<3.0.0.dev0,>=1.19.0->google-api-python-client) (5.2.0)\n",
      "Requirement already satisfied: pyasn1-modules>=0.2.1 in /Users/mikegoodman/Documents/developer/venv/lib/python3.9/site-packages (from google-auth<3.0.0.dev0,>=1.19.0->google-api-python-client) (0.2.8)\n",
      "Requirement already satisfied: six>=1.9.0 in /Users/mikegoodman/Documents/developer/venv/lib/python3.9/site-packages (from google-auth<3.0.0.dev0,>=1.19.0->google-api-python-client) (1.16.0)\n",
      "Requirement already satisfied: rsa<5,>=3.1.4 in /Users/mikegoodman/Documents/developer/venv/lib/python3.9/site-packages (from google-auth<3.0.0.dev0,>=1.19.0->google-api-python-client) (4.9)\n",
      "Requirement already satisfied: google-cloud-core<3.0.0dev,>=1.4.1 in /Users/mikegoodman/Documents/developer/venv/lib/python3.9/site-packages (from google-cloud-bigquery<4.0.0dev,>=1.15.0->google-cloud-aiplatform) (2.3.2)\n",
      "Requirement already satisfied: google-resumable-media<3.0dev,>=0.6.0 in /Users/mikegoodman/Documents/developer/venv/lib/python3.9/site-packages (from google-cloud-bigquery<4.0.0dev,>=1.15.0->google-cloud-aiplatform) (2.4.0)\n",
      "Requirement already satisfied: grpc-google-iam-v1<1.0.0dev,>=0.12.4 in /Users/mikegoodman/Documents/developer/venv/lib/python3.9/site-packages (from google-cloud-resource-manager<3.0.0dev,>=1.3.3->google-cloud-aiplatform) (0.12.4)\n",
      "Requirement already satisfied: pyparsing!=3.0.0,!=3.0.1,!=3.0.2,!=3.0.3,<4,>=2.4.2 in /Users/mikegoodman/Documents/developer/venv/lib/python3.9/site-packages (from httplib2<1.dev0,>=0.15.0->google-api-python-client) (3.0.9)\n",
      "Requirement already satisfied: coloredlogs in /Users/mikegoodman/Documents/developer/venv/lib/python3.9/site-packages (from onnxruntime>=1.14.1->chromadb) (15.0.1)\n",
      "Requirement already satisfied: flatbuffers in /Users/mikegoodman/Documents/developer/venv/lib/python3.9/site-packages (from onnxruntime>=1.14.1->chromadb) (22.12.6)\n",
      "Requirement already satisfied: sympy in /Users/mikegoodman/Documents/developer/venv/lib/python3.9/site-packages (from onnxruntime>=1.14.1->chromadb) (1.12)\n",
      "Requirement already satisfied: monotonic>=1.5 in /Users/mikegoodman/Documents/developer/venv/lib/python3.9/site-packages (from posthog>=2.4.0->chromadb) (1.6)\n",
      "Requirement already satisfied: backoff>=1.10.0 in /Users/mikegoodman/Documents/developer/venv/lib/python3.9/site-packages (from posthog>=2.4.0->chromadb) (2.2.1)\n",
      "Requirement already satisfied: certifi in /Users/mikegoodman/Documents/developer/venv/lib/python3.9/site-packages (from pulsar-client>=3.1.0->chromadb) (2022.12.7)\n",
      "Requirement already satisfied: idna<4,>=2.5 in /Users/mikegoodman/Documents/developer/venv/lib/python3.9/site-packages (from requests<3,>=2->langchain) (3.4)\n",
      "Requirement already satisfied: urllib3<1.27,>=1.21.1 in /Users/mikegoodman/Documents/developer/venv/lib/python3.9/site-packages (from requests<3,>=2->langchain) (1.26.13)\n",
      "Requirement already satisfied: greenlet!=0.4.17 in /Users/mikegoodman/Documents/developer/venv/lib/python3.9/site-packages (from SQLAlchemy<3,>=1.4->langchain) (2.0.2)\n",
      "Requirement already satisfied: click>=7.0 in /Users/mikegoodman/Documents/developer/venv/lib/python3.9/site-packages (from uvicorn[standard]>=0.18.3->chromadb) (8.1.3)\n",
      "Requirement already satisfied: h11>=0.8 in /Users/mikegoodman/Documents/developer/venv/lib/python3.9/site-packages (from uvicorn[standard]>=0.18.3->chromadb) (0.14.0)\n",
      "Requirement already satisfied: httptools>=0.5.0 in /Users/mikegoodman/Documents/developer/venv/lib/python3.9/site-packages (from uvicorn[standard]>=0.18.3->chromadb) (0.5.0)\n",
      "Requirement already satisfied: python-dotenv>=0.13 in /Users/mikegoodman/Documents/developer/venv/lib/python3.9/site-packages (from uvicorn[standard]>=0.18.3->chromadb) (1.0.0)\n",
      "Requirement already satisfied: uvloop!=0.15.0,!=0.15.1,>=0.14.0 in /Users/mikegoodman/Documents/developer/venv/lib/python3.9/site-packages (from uvicorn[standard]>=0.18.3->chromadb) (0.17.0)\n",
      "Requirement already satisfied: watchfiles>=0.13 in /Users/mikegoodman/Documents/developer/venv/lib/python3.9/site-packages (from uvicorn[standard]>=0.18.3->chromadb) (0.19.0)\n",
      "Requirement already satisfied: websockets>=10.4 in /Users/mikegoodman/Documents/developer/venv/lib/python3.9/site-packages (from uvicorn[standard]>=0.18.3->chromadb) (11.0.3)\n",
      "Requirement already satisfied: zipp>=3.1.0 in /Users/mikegoodman/Documents/developer/venv/lib/python3.9/site-packages (from importlib-resources->chromadb) (3.11.0)\n",
      "Requirement already satisfied: google-crc32c<2.0dev,>=1.0 in /Users/mikegoodman/Documents/developer/venv/lib/python3.9/site-packages (from google-resumable-media<3.0dev,>=0.6.0->google-cloud-bigquery<4.0.0dev,>=1.15.0->google-cloud-aiplatform) (1.5.0)\n",
      "Requirement already satisfied: pyasn1<0.5.0,>=0.4.6 in /Users/mikegoodman/Documents/developer/venv/lib/python3.9/site-packages (from pyasn1-modules>=0.2.1->google-auth<3.0.0.dev0,>=1.19.0->google-api-python-client) (0.4.8)\n",
      "Requirement already satisfied: anyio<5,>=3.4.0 in /Users/mikegoodman/Documents/developer/venv/lib/python3.9/site-packages (from starlette<0.28.0,>=0.27.0->fastapi<0.100.0,>=0.95.2->chromadb) (3.6.2)\n",
      "Requirement already satisfied: humanfriendly>=9.1 in /Users/mikegoodman/Documents/developer/venv/lib/python3.9/site-packages (from coloredlogs->onnxruntime>=1.14.1->chromadb) (10.0)\n",
      "Requirement already satisfied: mpmath>=0.19 in /Users/mikegoodman/Documents/developer/venv/lib/python3.9/site-packages (from sympy->onnxruntime>=1.14.1->chromadb) (1.3.0)\n",
      "Requirement already satisfied: sniffio>=1.1 in /Users/mikegoodman/Documents/developer/venv/lib/python3.9/site-packages (from anyio<5,>=3.4.0->starlette<0.28.0,>=0.27.0->fastapi<0.100.0,>=0.95.2->chromadb) (1.3.0)\n",
      "Downloading google_cloud_aiplatform-1.31.1-py2.py3-none-any.whl (2.8 MB)\n",
      "\u001b[2K   \u001b[90m━━━━━━━━━━━━━━━━━━━━━━━━━━━━━━━━━━━━━━━━\u001b[0m \u001b[32m2.8/2.8 MB\u001b[0m \u001b[31m15.4 MB/s\u001b[0m eta \u001b[36m0:00:00\u001b[0m00:01\u001b[0m00:01\u001b[0m\n",
      "\u001b[?25hDownloading langchain-0.0.276-py3-none-any.whl (1.6 MB)\n",
      "\u001b[2K   \u001b[90m━━━━━━━━━━━━━━━━━━━━━━━━━━━━━━━━━━━━━━━━\u001b[0m \u001b[32m1.6/1.6 MB\u001b[0m \u001b[31m12.2 MB/s\u001b[0m eta \u001b[36m0:00:00\u001b[0m00:01\u001b[0m00:01\u001b[0m\n",
      "\u001b[?25hDownloading chromadb-0.4.8-py3-none-any.whl (418 kB)\n",
      "\u001b[2K   \u001b[90m━━━━━━━━━━━━━━━━━━━━━━━━━━━━━━━━━━━━━━━━\u001b[0m \u001b[32m418.3/418.3 kB\u001b[0m \u001b[31m12.4 MB/s\u001b[0m eta \u001b[36m0:00:00\u001b[0m\n",
      "\u001b[?25hDownloading pydantic-1.10.12-cp39-cp39-macosx_10_9_x86_64.whl (2.9 MB)\n",
      "\u001b[2K   \u001b[90m━━━━━━━━━━━━━━━━━━━━━━━━━━━━━━━━━━━━━━━━\u001b[0m \u001b[32m2.9/2.9 MB\u001b[0m \u001b[31m20.0 MB/s\u001b[0m eta \u001b[36m0:00:00\u001b[0m00:01\u001b[0m00:01\u001b[0m\n",
      "\u001b[?25hDownloading typing_inspect-0.9.0-py3-none-any.whl (8.8 kB)\n",
      "Using cached typing_extensions-4.7.1-py3-none-any.whl (33 kB)\n",
      "Using cached pandas-2.0.3-cp39-cp39-macosx_10_9_x86_64.whl (11.8 MB)\n",
      "Using cached datasets-2.14.4-py3-none-any.whl (519 kB)\n",
      "Downloading google_api_python_client-2.97.0-py2.py3-none-any.whl (12.0 MB)\n",
      "\u001b[2K   \u001b[90m━━━━━━━━━━━━━━━━━━━━━━━━━━━━━━━━━━━━━━━━\u001b[0m \u001b[32m12.0/12.0 MB\u001b[0m \u001b[31m24.7 MB/s\u001b[0m eta \u001b[36m0:00:00\u001b[0m00:01\u001b[0m00:01\u001b[0m\n",
      "\u001b[?25hDownloading pypdf-3.15.4-py3-none-any.whl (272 kB)\n",
      "\u001b[2K   \u001b[90m━━━━━━━━━━━━━━━━━━━━━━━━━━━━━━━━━━━━━━━━\u001b[0m \u001b[32m272.3/272.3 kB\u001b[0m \u001b[31m9.3 MB/s\u001b[0m eta \u001b[36m0:00:00\u001b[0m\n",
      "\u001b[?25hDownloading transformers-4.32.1-py3-none-any.whl (7.5 MB)\n",
      "\u001b[2K   \u001b[90m━━━━━━━━━━━━━━━━━━━━━━━━━━━━━━━━━━━━━━━━\u001b[0m \u001b[32m7.5/7.5 MB\u001b[0m \u001b[31m24.7 MB/s\u001b[0m eta \u001b[36m0:00:00\u001b[0m00:01\u001b[0m00:01\u001b[0m\n",
      "\u001b[?25hDownloading fastapi-0.99.1-py3-none-any.whl (58 kB)\n",
      "\u001b[2K   \u001b[90m━━━━━━━━━━━━━━━━━━━━━━━━━━━━━━━━━━━━━━━━\u001b[0m \u001b[32m58.4/58.4 kB\u001b[0m \u001b[31m2.0 MB/s\u001b[0m eta \u001b[36m0:00:00\u001b[0m\n",
      "\u001b[?25hDownloading huggingface_hub-0.16.4-py3-none-any.whl (268 kB)\n",
      "\u001b[2K   \u001b[90m━━━━━━━━━━━━━━━━━━━━━━━━━━━━━━━━━━━━━━━━\u001b[0m \u001b[32m268.8/268.8 kB\u001b[0m \u001b[31m8.3 MB/s\u001b[0m eta \u001b[36m0:00:00\u001b[0m\n",
      "\u001b[?25hDownloading langsmith-0.0.27-py3-none-any.whl (34 kB)\n",
      "Downloading safetensors-0.3.3-cp39-cp39-macosx_10_11_x86_64.whl (404 kB)\n",
      "\u001b[2K   \u001b[90m━━━━━━━━━━━━━━━━━━━━━━━━━━━━━━━━━━━━━━━━\u001b[0m \u001b[32m404.6/404.6 kB\u001b[0m \u001b[31m10.9 MB/s\u001b[0m eta \u001b[36m0:00:00\u001b[0m00:01\u001b[0m\n",
      "\u001b[?25hDownloading starlette-0.27.0-py3-none-any.whl (66 kB)\n",
      "\u001b[2K   \u001b[90m━━━━━━━━━━━━━━━━━━━━━━━━━━━━━━━━━━━━━━━━\u001b[0m \u001b[32m67.0/67.0 kB\u001b[0m \u001b[31m2.6 MB/s\u001b[0m eta \u001b[36m0:00:00\u001b[0m\n",
      "\u001b[?25hBuilding wheels for collected packages: chroma-hnswlib, pypika\n",
      "  Building wheel for chroma-hnswlib (pyproject.toml) ... \u001b[?25ldone\n",
      "\u001b[?25h  Created wheel for chroma-hnswlib: filename=chroma_hnswlib-0.7.2-cp39-cp39-macosx_10_9_x86_64.whl size=219968 sha256=aac47b41baf852b88d1c22031d6b2f75def28f5b4528b600e3ef2413839a72af\n",
      "  Stored in directory: /Users/mikegoodman/Library/Caches/pip/wheels/ba/4f/be/e63b0303c720e68e7f78debdc7e2032d63b0d80353ba8d79e1\n",
      "  Building wheel for pypika (pyproject.toml) ... \u001b[?25ldone\n",
      "\u001b[?25h  Created wheel for pypika: filename=PyPika-0.48.9-py2.py3-none-any.whl size=53723 sha256=6ac4a5965c0e67d8c147a6f6d19bd09c74e4ce731da6c961c21c00026b1049d1\n",
      "  Stored in directory: /Users/mikegoodman/Library/Caches/pip/wheels/f7/02/64/d541eac67ec459309d1fb19e727f58ecf7ffb4a8bf42d4cfe5\n",
      "Successfully built chroma-hnswlib pypika\n",
      "Installing collected packages: safetensors, pypika, faiss-cpu, config, tzdata, typing_extensions, chroma-hnswlib, bcrypt, typing-inspect, starlette, pypdf, pydantic, pandas, huggingface-hub, transformers, langsmith, fastapi, google-api-python-client, datasets, chromadb, langchain, google-cloud-aiplatform\n",
      "  Attempting uninstall: typing_extensions\n",
      "    Found existing installation: typing_extensions 4.5.0\n",
      "    Uninstalling typing_extensions-4.5.0:\n",
      "      Successfully uninstalled typing_extensions-4.5.0\n",
      "  Attempting uninstall: typing-inspect\n",
      "    Found existing installation: typing-inspect 0.8.0\n",
      "    Uninstalling typing-inspect-0.8.0:\n",
      "      Successfully uninstalled typing-inspect-0.8.0\n",
      "  Attempting uninstall: starlette\n",
      "    Found existing installation: starlette 0.26.1\n",
      "    Uninstalling starlette-0.26.1:\n",
      "      Successfully uninstalled starlette-0.26.1\n",
      "  Attempting uninstall: pydantic\n",
      "    Found existing installation: pydantic 1.10.7\n",
      "    Uninstalling pydantic-1.10.7:\n",
      "      Successfully uninstalled pydantic-1.10.7\n",
      "  Attempting uninstall: pandas\n",
      "    Found existing installation: pandas 1.5.2\n",
      "    Uninstalling pandas-1.5.2:\n",
      "      Successfully uninstalled pandas-1.5.2\n",
      "  Attempting uninstall: huggingface-hub\n",
      "    Found existing installation: huggingface-hub 0.14.1\n",
      "    Uninstalling huggingface-hub-0.14.1:\n",
      "      Successfully uninstalled huggingface-hub-0.14.1\n",
      "  Attempting uninstall: transformers\n",
      "    Found existing installation: transformers 4.27.1\n",
      "    Uninstalling transformers-4.27.1:\n",
      "      Successfully uninstalled transformers-4.27.1\n",
      "  Attempting uninstall: langsmith\n",
      "    Found existing installation: langsmith 0.0.20\n",
      "    Uninstalling langsmith-0.0.20:\n",
      "      Successfully uninstalled langsmith-0.0.20\n",
      "  Attempting uninstall: fastapi\n",
      "    Found existing installation: fastapi 0.95.1\n",
      "    Uninstalling fastapi-0.95.1:\n",
      "      Successfully uninstalled fastapi-0.95.1\n",
      "  Attempting uninstall: google-api-python-client\n",
      "    Found existing installation: google-api-python-client 1.12.11\n",
      "    Uninstalling google-api-python-client-1.12.11:\n",
      "      Successfully uninstalled google-api-python-client-1.12.11\n",
      "  Attempting uninstall: datasets\n",
      "    Found existing installation: datasets 2.9.0\n",
      "    Uninstalling datasets-2.9.0:\n",
      "      Successfully uninstalled datasets-2.9.0\n",
      "  Attempting uninstall: chromadb\n",
      "    Found existing installation: chromadb 0.3.26\n",
      "    Uninstalling chromadb-0.3.26:\n",
      "      Successfully uninstalled chromadb-0.3.26\n",
      "  Attempting uninstall: langchain\n",
      "    Found existing installation: langchain 0.0.259\n",
      "    Uninstalling langchain-0.0.259:\n",
      "      Successfully uninstalled langchain-0.0.259\n",
      "  Attempting uninstall: google-cloud-aiplatform\n",
      "    Found existing installation: google-cloud-aiplatform 1.26.1\n",
      "    Uninstalling google-cloud-aiplatform-1.26.1:\n",
      "      Successfully uninstalled google-cloud-aiplatform-1.26.1\n",
      "\u001b[31mERROR: pip's dependency resolver does not currently take into account all the packages that are installed. This behaviour is the source of the following dependency conflicts.\n",
      "db-dtypes 1.0.5 requires pandas<2.0dev,>=0.24.2, but you have pandas 2.0.3 which is incompatible.\n",
      "kfp 1.8.22 requires google-api-python-client<2,>=1.7.8, but you have google-api-python-client 2.97.0 which is incompatible.\n",
      "tensorflow 2.11.1 requires protobuf<3.20,>=3.9.2, but you have protobuf 3.20.3 which is incompatible.\u001b[0m\u001b[31m\n",
      "\u001b[0mSuccessfully installed bcrypt-4.0.1 chroma-hnswlib-0.7.2 chromadb-0.4.8 config-0.5.1 datasets-2.14.4 faiss-cpu-1.7.4 fastapi-0.99.1 google-api-python-client-2.97.0 google-cloud-aiplatform-1.31.1 huggingface-hub-0.16.4 langchain-0.0.276 langsmith-0.0.27 pandas-2.0.3 pydantic-1.10.12 pypdf-3.15.4 pypika-0.48.9 safetensors-0.3.3 starlette-0.27.0 transformers-4.32.1 typing-inspect-0.9.0 typing_extensions-4.7.1 tzdata-2023.3\n"
     ]
    }
   ],
   "source": [
    "# Install Vertex AI LLM SDK, langchain and dependencies\n",
    "!pip install google-cloud-aiplatform vertexai langchain chromadb pydantic typing-inspect typing_extensions pandas datasets google-api-python-client pypdf faiss-cpu transformers config --upgrade"
   ]
  },
  {
   "cell_type": "code",
   "execution_count": 2,
   "metadata": {},
   "outputs": [],
   "source": [
    "# # Automatically restart kernel after installs so that your environment can access the new packages\n",
    "#import IPython\n",
    "\n",
    "#app = IPython.Application.instance()\n",
    "#app.kernel.do_shutdown(True)"
   ]
  },
  {
   "cell_type": "markdown",
   "metadata": {
    "tags": []
   },
   "source": [
    "### Imports"
   ]
  },
  {
   "cell_type": "code",
   "execution_count": 1,
   "metadata": {},
   "outputs": [],
   "source": [
    "from datetime import datetime\n",
    "import time\n",
    "import pandas as pd\n",
    "import numpy as np\n",
    "import json\n",
    "import os\n",
    "import matplotlib.pyplot as plt\n",
    "from scipy.spatial.distance import cosine\n",
    "import networkx as nx\n",
    "from networkx.algorithms import community\n",
    "\n",
    "from langchain.llms import VertexAI\n",
    "from langchain.embeddings import VertexAIEmbeddings\n",
    "from langchain.schema import HumanMessage, SystemMessage\n",
    "from langchain.prompts import PromptTemplate\n",
    "from langchain.chains.llm import LLMChain\n",
    "from langchain.docstore.document import Document\n",
    "from langchain.chains.summarize import load_summarize_chain\n",
    "\n",
    "import vertexai\n",
    "from vertexai.language_models import TextGenerationModel, TextEmbeddingModel\n",
    "from google.cloud import aiplatform\n",
    "from google.cloud import storage\n",
    "from google.cloud import bigquery"
   ]
  },
  {
   "cell_type": "markdown",
   "metadata": {
    "tags": []
   },
   "source": [
    "### Env variables and Setup"
   ]
  },
  {
   "cell_type": "code",
   "execution_count": 2,
   "metadata": {},
   "outputs": [
    {
     "data": {
      "text/plain": [
       "'mg-ce-demos'"
      ]
     },
     "execution_count": 2,
     "metadata": {},
     "output_type": "execute_result"
    }
   ],
   "source": [
    "project = !gcloud config get-value project\n",
    "PROJECT_ID = project[0]\n",
    "PROJECT_ID"
   ]
  },
  {
   "cell_type": "code",
   "execution_count": 3,
   "metadata": {},
   "outputs": [],
   "source": [
    "REGION = 'us-central1'\n",
    "LOCATION = 'us'\n",
    "GCS_BUCKET = PROJECT_ID"
   ]
  },
  {
   "cell_type": "code",
   "execution_count": 4,
   "metadata": {},
   "outputs": [],
   "source": [
    "DATASET = 'stt_genai'\n",
    "TRANSCRIPT_TABLE = 'transcript_cumulus_demo'\n",
    "TRANSCRIPT_TABLE_CHIRP = 'transcript_cumulus_demo_chirp'\n",
    "SUMMARY_TABLE = 'summary_cumulus_demo'"
   ]
  },
  {
   "cell_type": "code",
   "execution_count": 5,
   "metadata": {},
   "outputs": [],
   "source": [
    "# gcs client\n",
    "gcs = storage.Client(project = PROJECT_ID)\n",
    "\n",
    "# vertex ai clients\n",
    "vertexai.init(project = PROJECT_ID, location = REGION)\n",
    "aiplatform.init(project = PROJECT_ID, location = REGION)\n",
    "\n",
    "# bigquery client\n",
    "bq = bigquery.Client(project = PROJECT_ID)"
   ]
  },
  {
   "cell_type": "markdown",
   "metadata": {
    "tags": []
   },
   "source": [
    "## Data: Get data from GCS\n",
    "\n",
    "Can loop through GCS to pick up multiple files.  This iteration is built for one file at a time but easy to update."
   ]
  },
  {
   "cell_type": "markdown",
   "metadata": {},
   "source": [
    "Loop through GCS bucket(s) for audio files to transcribe"
   ]
  },
  {
   "cell_type": "code",
   "execution_count": 6,
   "metadata": {},
   "outputs": [],
   "source": [
    "def get_audio_data(GCS_BUCKET):\n",
    "    bucket = gcs.bucket(GCS_BUCKET)\n",
    "\n",
    "    # Get the list of blobs\n",
    "    blobs = bucket.list_blobs()\n",
    "\n",
    "    # Loop through the blobs\n",
    "    audio_data = []\n",
    "    for blob in blobs:\n",
    "        if blob.name.startswith('audio_data/cumulus'):\n",
    "            if blob.name.endswith('.mp3'):\n",
    "                #print(blob.name)\n",
    "                audio_data.append([blob.name, blob.content_type, f'gs://{GCS_BUCKET}/{blob.name}'])\n",
    "                \n",
    "    return {\n",
    "        'data_name': audio_data[-1][0],\n",
    "        'data_type': audio_data[-1][1],\n",
    "        'data_uri': audio_data[-1][2]\n",
    "    }"
   ]
  },
  {
   "cell_type": "code",
   "execution_count": 7,
   "metadata": {},
   "outputs": [
    {
     "name": "stdout",
     "output_type": "stream",
     "text": [
      "gs://mg-ce-demos/audio_data/cumulus/KTCKFMAirMonitor-23-2023-08-04_07-00-01-288.mp3\n"
     ]
    }
   ],
   "source": [
    "sample_uri = get_audio_data(GCS_BUCKET)['data_uri']\n",
    "print(sample_uri)"
   ]
  },
  {
   "cell_type": "markdown",
   "metadata": {
    "tags": []
   },
   "source": [
    "## Data: Transcribe audio and stringify\n",
    "\n",
    "Until we can associate specific comments with specific people (e.g. using something like Speaker ID), speaker diarization doesn't add much value.  In v2, this was removed so we could test with the new Chirp model which did appear to improve accuracy of the transcription."
   ]
  },
  {
   "cell_type": "markdown",
   "metadata": {},
   "source": [
    "Function to transcribe audio, including speaker diarization and other features"
   ]
  },
  {
   "cell_type": "markdown",
   "metadata": {
    "tags": []
   },
   "source": [
    "### v2 - STT Chirp (GenAI)"
   ]
  },
  {
   "cell_type": "code",
   "execution_count": 8,
   "metadata": {},
   "outputs": [],
   "source": [
    "from google.api_core.client_options import ClientOptions\n",
    "from google.cloud.speech_v2 import SpeechClient as SpeechClient_v2\n",
    "from google.cloud.speech_v2.types import cloud_speech as cloud_speech_v2\n"
   ]
  },
  {
   "cell_type": "code",
   "execution_count": 9,
   "metadata": {},
   "outputs": [],
   "source": [
    "def transcribe_gcs_v2(gcs_uri: str) -> str:\n",
    "    TIMEOUT_DEFAULT = 3600\n",
    "\n",
    "    # Instantiates a client\n",
    "    client = SpeechClient_v2(\n",
    "        client_options=ClientOptions(\n",
    "            api_endpoint=\"us-central1-speech.googleapis.com\",\n",
    "        )\n",
    "    )\n",
    "    \n",
    "    config = cloud_speech_v2.RecognitionConfig(\n",
    "        auto_decoding_config=cloud_speech_v2.AutoDetectDecodingConfig(),\n",
    "        language_codes=[\"en-US\"],\n",
    "        model=\"chirp\",\n",
    "    )\n",
    "    \n",
    "    file_metadata = cloud_speech_v2.BatchRecognizeFileMetadata(uri=gcs_uri)\n",
    "\n",
    "    request = cloud_speech_v2.BatchRecognizeRequest(\n",
    "        recognizer=f\"projects/{PROJECT_ID}/locations/{REGION}/recognizers/chirp-recognizer\",\n",
    "        config=config,\n",
    "        files=[file_metadata],\n",
    "        recognition_output_config=cloud_speech_v2.RecognitionOutputConfig(\n",
    "            inline_response_config=cloud_speech_v2.InlineOutputConfig(),\n",
    "        ),\n",
    "    )\n",
    "\n",
    "    # Transcribes the audio into text\n",
    "    operation = client.batch_recognize(request=request)\n",
    "\n",
    "    print(\"Waiting for operation to complete...\")\n",
    "    try:\n",
    "        response = operation.result(timeout=TIMEOUT_DEFAULT)       # The default is 3600 seconds, 1 hour\n",
    "\n",
    "    except:\n",
    "        response = operation.result(timeout=1.5 * TIMEOUT_DEFAULT) # 5400 seconds, 1 hour and 30 minutes\n",
    "\n",
    "    finally:\n",
    "        response = operation.result(timeout=2 * TIMEOUT_DEFAULT)   # 7200 seconds, 2 hours\n",
    "\n",
    "    return response\n"
   ]
  },
  {
   "cell_type": "code",
   "execution_count": 10,
   "metadata": {},
   "outputs": [
    {
     "name": "stdout",
     "output_type": "stream",
     "text": [
      "Table mg-ce-demos.stt_genai.transcript_cumulus_demo_chirp already exists.\n",
      "The table is not empty\n"
     ]
    }
   ],
   "source": [
    "## BQ table check\n",
    "from google.cloud.exceptions import NotFound\n",
    "\n",
    "table_id = f\"{PROJECT_ID}.{DATASET}.{TRANSCRIPT_TABLE_CHIRP}\"\n",
    "\n",
    "prior_transcription=False\n",
    "try:\n",
    "    bq.get_table(table_id)  # Make an API request.\n",
    "    print(\"Table {} already exists.\".format(table_id))\n",
    "    if bq.query(f\"SELECT COUNT(*) FROM {table_id}\").result().total_rows == 0:\n",
    "        print(\"The table is empty\")\n",
    "        start_time = time.time()\n",
    "\n",
    "        response = transcribe_gcs_v2(sample_uri)\n",
    "        \n",
    "        order = 0\n",
    "\n",
    "        transcript_df2 = pd.DataFrame(columns=['file', 'order', 'text'])\n",
    "\n",
    "        for result in response.results[sample_uri].transcript.results:\n",
    "            transcript_df2.loc[len(transcript_df2.index)] = [sample_uri, order, result.alternatives[0].transcript]\n",
    "            order += 1\n",
    "\n",
    "        transcript_df2.head()\n",
    "        transcript_string = transcript_df2['text'].str.cat(sep=' ')\n",
    "\n",
    "        table_id = f'{PROJECT_ID}.{DATASET}.{TRANSCRIPT_TABLE_CHIRP}'\n",
    "\n",
    "        job_config = bigquery.LoadJobConfig(\n",
    "            write_disposition=bigquery.job.WriteDisposition.WRITE_TRUNCATE\n",
    "        )\n",
    "\n",
    "        job = bq.load_table_from_dataframe(\n",
    "            transcript_df2, table_id, job_config=job_config\n",
    "        )\n",
    "        job.result()  # Wait for the job to complete.\n",
    "        table = bq.get_table(table_id)  # Make an API request.\n",
    "        print(\n",
    "            \"Loaded {} rows and {} columns to {}\".format(\n",
    "                table.num_rows, len(table.schema), table_id\n",
    "            )\n",
    "        )\n",
    "\n",
    "        end_time = time.time()\n",
    "        total_time = (end_time - start_time)/60\n",
    "        print(f'{total_time} minutes')\n",
    "    else:\n",
    "        print(\"The table is not empty\")\n",
    "        prior_transcription=True\n",
    "        query = \"\"\"\n",
    "        SELECT\n",
    "          *\n",
    "        FROM `{0}`\n",
    "        \"\"\".format(table_id)\n",
    "        transcript_df2 = bq.query(query).to_dataframe()\n",
    "        transcript_df2 = transcript_df2.sort_values(by=['order'])\n",
    "        transcript_string = transcript_df2['text'].str.cat(sep=' ')\n",
    "        transcript_string = transcript_string.replace('a.m.', 'am')\n",
    "        transcript_string = transcript_string.replace('p.m.', 'pm')\n",
    "        transcript_string = transcript_string.replace('.com', ' dot com')\n",
    "\n",
    "except NotFound:\n",
    "    print(\"Table {} is not found.\".format(table_id))\n",
    "    start_time = time.time()\n",
    "\n",
    "    response = transcribe_gcs_v2(sample_uri)\n",
    "    \n",
    "    order = 0\n",
    "\n",
    "    transcript_df2 = pd.DataFrame(columns=['file', 'order', 'text'])\n",
    "\n",
    "    for result in response.results[sample_uri].transcript.results:\n",
    "        transcript_df2.loc[len(transcript_df2.index)] = [sample_uri, order, result.alternatives[0].transcript]\n",
    "        order += 1\n",
    "        \n",
    "    transcript_df2.head()\n",
    "    transcript_string = transcript_df2['text'].str.cat(sep=' ')\n",
    "    transcript_string = transcript_string.replace('a.m.', 'am')\n",
    "    transcript_string = transcript_string.replace('p.m.', 'pm')\n",
    "    transcript_string = transcript_string.replace('.com', ' dot com')\n",
    "    \n",
    "    table_id = f'{PROJECT_ID}.{DATASET}.{TRANSCRIPT_TABLE_CHIRP}'\n",
    "\n",
    "    job_config = bigquery.LoadJobConfig(\n",
    "        write_disposition=bigquery.job.WriteDisposition.WRITE_TRUNCATE\n",
    "    )\n",
    "\n",
    "    job = bq.load_table_from_dataframe(\n",
    "        transcript_df2, table_id, job_config=job_config\n",
    "    )\n",
    "    job.result()  # Wait for the job to complete.\n",
    "    table = bq.get_table(table_id)  # Make an API request.\n",
    "    print(\n",
    "        \"Loaded {} rows and {} columns to {}\".format(\n",
    "            table.num_rows, len(table.schema), table_id\n",
    "        )\n",
    "    )\n",
    "\n",
    "    end_time = time.time()\n",
    "    total_time = (end_time - start_time)/60\n",
    "    print(f'{total_time} minutes')\n"
   ]
  },
  {
   "cell_type": "markdown",
   "metadata": {},
   "source": [
    "Build transcription, by speaker, grabbing words passing the confidence threshold"
   ]
  },
  {
   "cell_type": "code",
   "execution_count": 11,
   "metadata": {},
   "outputs": [
    {
     "data": {
      "text/plain": [
       "54913"
      ]
     },
     "execution_count": 11,
     "metadata": {},
     "output_type": "execute_result"
    }
   ],
   "source": [
    "len(transcript_string)"
   ]
  },
  {
   "cell_type": "markdown",
   "metadata": {
    "tags": []
   },
   "source": [
    "## Create sentences and chunks\n",
    "\n",
    "After transcription, we need to isolate sentences, and create chunks of content.  Unlikely we will get much meaningful context from individual sentences.  Also, we don't want to lose context through chunking so we also will overlap when we combine sentences (i.e. sentences->chunks 1-2-3-4, 2-3-4-5, 3-4-5-6)"
   ]
  },
  {
   "cell_type": "code",
   "execution_count": 12,
   "metadata": {},
   "outputs": [],
   "source": [
    "# Get segments from txt by splitting on .\n",
    "segments =  transcript_string.split('.')\n",
    "# Put the . back in\n",
    "segments = [segment + '.' for segment in segments]\n",
    "# Further split by comma\n",
    "#segments = [segment.split(',') for segment in segments]\n",
    "# Flatten\n",
    "#segments = [item for sublist in segments for item in sublist]"
   ]
  },
  {
   "cell_type": "code",
   "execution_count": 13,
   "metadata": {},
   "outputs": [],
   "source": [
    "#segments"
   ]
  },
  {
   "cell_type": "code",
   "execution_count": 14,
   "metadata": {},
   "outputs": [],
   "source": [
    "def create_sentences(segments, MIN_WORDS, MAX_WORDS):\n",
    "\n",
    "    # Combine the non-sentences together\n",
    "    sentences = []\n",
    "\n",
    "    is_new_sentence = True\n",
    "    sentence_length = 0\n",
    "    sentence_num = 0\n",
    "    sentence_segments = []\n",
    "\n",
    "    for i in range(len(segments)):\n",
    "        if is_new_sentence == True:\n",
    "          is_new_sentence = False\n",
    "        # Append the segment\n",
    "        sentence_segments.append(segments[i])\n",
    "        segment_words = segments[i].split(' ')\n",
    "        sentence_length += len(segment_words)\n",
    "\n",
    "        # If exceed MAX_WORDS, then stop at the end of the segment\n",
    "        # Only consider it a sentence if the length is at least MIN_WORDS\n",
    "        if (sentence_length >= MIN_WORDS and segments[i][-1] == '.') or sentence_length >= MAX_WORDS:\n",
    "            sentence = ' '.join(sentence_segments)\n",
    "            sentences.append({\n",
    "            'sentence_num': sentence_num,\n",
    "            'text': sentence,\n",
    "            'sentence_length': sentence_length\n",
    "            })\n",
    "            # Reset\n",
    "            is_new_sentence = True\n",
    "            sentence_length = 0\n",
    "            sentence_segments = []\n",
    "            sentence_num += 1\n",
    "\n",
    "    return sentences\n",
    "\n",
    "def create_chunks(sentences, CHUNK_LENGTH, STRIDE):\n",
    "\n",
    "    sentences_df = pd.DataFrame(sentences)\n",
    "\n",
    "    chunks = []\n",
    "    for i in range(0, len(sentences_df), (CHUNK_LENGTH - STRIDE)):\n",
    "        chunk = sentences_df.iloc[i:i+CHUNK_LENGTH]\n",
    "        chunk_text = ' '.join(chunk['text'].tolist())\n",
    "\n",
    "        chunks.append({\n",
    "            'start_sentence_num': chunk['sentence_num'].iloc[0],\n",
    "            'end_sentence_num': chunk['sentence_num'].iloc[-1],\n",
    "            'text': chunk_text,\n",
    "            'num_words': len(chunk_text.split(' '))\n",
    "        })\n",
    "    \n",
    "    chunks_df = pd.DataFrame(chunks)\n",
    "    return chunks_df.to_dict('records')\n",
    "\n",
    "def parse_title_summary_results(results):\n",
    "    out = []\n",
    "    for e in results:\n",
    "        e = e.replace('\\n', '')\n",
    "        if '|' in e:\n",
    "            processed = {'title': e.split('|')[0],\n",
    "                        'summary': e.split('|')[1][1:]\n",
    "                        }\n",
    "        elif ':' in e:\n",
    "            processed = {'title': e.split(':')[0],\n",
    "                        'summary': e.split(':')[1][1:]\n",
    "                        }\n",
    "        elif '-' in e:\n",
    "            processed = {'title': e.split('-')[0],\n",
    "                        'summary': e.split('-')[1][1:]\n",
    "                        }\n",
    "        else:\n",
    "            processed = {'title': '',\n",
    "                        'summary': e\n",
    "                        }\n",
    "        out.append(processed)\n",
    "    return out"
   ]
  },
  {
   "cell_type": "code",
   "execution_count": 15,
   "metadata": {},
   "outputs": [],
   "source": [
    "# define chunk size and overlap\n",
    "sentences = create_sentences(segments, MIN_WORDS=10, MAX_WORDS=100)\n",
    "chunks = create_chunks(sentences, CHUNK_LENGTH=3, STRIDE=1)\n",
    "chunks_text = [chunk['text'] for chunk in chunks]"
   ]
  },
  {
   "cell_type": "code",
   "execution_count": 16,
   "metadata": {
    "tags": []
   },
   "outputs": [
    {
     "name": "stdout",
     "output_type": "stream",
     "text": [
      "105\n"
     ]
    }
   ],
   "source": [
    "print(len(chunks_text))\n",
    "#chunks_text"
   ]
  },
  {
   "cell_type": "markdown",
   "metadata": {
    "tags": []
   },
   "source": [
    "## Remove advertisements by GenAI-based classification of chunks\n",
    "\n",
    "Advertisements need to go first, so it doesn't mess up the content and context building."
   ]
  },
  {
   "cell_type": "code",
   "execution_count": 17,
   "metadata": {},
   "outputs": [],
   "source": [
    "# Determine if chunks contain an advertisement, and remove from chunk list\n",
    "def ad_check(chunks_text):\n",
    "  \n",
    "    start_time = time.time()\n",
    "\n",
    "    # Prompt to get title and summary for each chunk\n",
    "    map_prompt_template = \"\"\"Determine if the text below contains an advertisement. Respond with only a \"yes\" or \"no\":\n",
    "\n",
    "    {text}\n",
    "    \"\"\"\n",
    "\n",
    "    map_prompt = PromptTemplate(template=map_prompt_template, input_variables=[\"text\"])\n",
    "\n",
    "    # Define the LLMs\n",
    "    map_llm = VertexAI(model_name=\"text-bison\",\n",
    "        max_output_tokens=100,\n",
    "        temperature=0.3,\n",
    "        top_p=0.8,\n",
    "        top_k=40,\n",
    "        verbose=True,)\n",
    "    map_llm_chain = LLMChain(llm = map_llm, prompt = map_prompt)\n",
    "    map_llm_chain_input = [{'text': t} for t in chunks_text]\n",
    "    # Run the input through the LLM chain (works in parallel)\n",
    "    map_llm_chain_results = map_llm_chain.apply(map_llm_chain_input)\n",
    "\n",
    "    ad_check_list = [e['text'] for e in map_llm_chain_results]\n",
    "\n",
    "    end_time = time.time()\n",
    "    total_time = (end_time - start_time)/60\n",
    "    print(f'Ad removal - Stage 0: {total_time} minutes')\n",
    "\n",
    "    return {\n",
    "        'ad_check_list': ad_check_list\n",
    "    }"
   ]
  },
  {
   "cell_type": "code",
   "execution_count": 18,
   "metadata": {
    "scrolled": true,
    "tags": []
   },
   "outputs": [
    {
     "name": "stderr",
     "output_type": "stream",
     "text": [
      "Retrying langchain.llms.vertexai.completion_with_retry.<locals>._completion_with_retry in 4.0 seconds as it raised ResourceExhausted: 429 Quota exceeded for aiplatform.googleapis.com/online_prediction_requests_per_base_model with base model: text-bison. Please submit a quota increase request. https://cloud.google.com/vertex-ai/docs/quotas. [detail: \"[ORIGINAL ERROR] generic::resource_exhausted: Quota exceeded for aiplatform.googleapis.com/online_prediction_requests_per_base_model with base model: text-bison. Please submit a quota increase request. https://cloud.google.com/vertex-ai/docs/quotas. [google.rpc.error_details_ext] { message: \\\"Quota exceeded for aiplatform.googleapis.com/online_prediction_requests_per_base_model with base model: text-bison. Please submit a quota increase request. https://cloud.google.com/vertex-ai/docs/quotas.\\\" }\"\n",
      "].\n",
      "Retrying langchain.llms.vertexai.completion_with_retry.<locals>._completion_with_retry in 4.0 seconds as it raised ResourceExhausted: 429 Quota exceeded for aiplatform.googleapis.com/online_prediction_requests_per_base_model with base model: text-bison. Please submit a quota increase request. https://cloud.google.com/vertex-ai/docs/quotas. [detail: \"[ORIGINAL ERROR] generic::resource_exhausted: Quota exceeded for aiplatform.googleapis.com/online_prediction_requests_per_base_model with base model: text-bison. Please submit a quota increase request. https://cloud.google.com/vertex-ai/docs/quotas. [google.rpc.error_details_ext] { message: \\\"Quota exceeded for aiplatform.googleapis.com/online_prediction_requests_per_base_model with base model: text-bison. Please submit a quota increase request. https://cloud.google.com/vertex-ai/docs/quotas.\\\" }\"\n",
      "].\n",
      "Retrying langchain.llms.vertexai.completion_with_retry.<locals>._completion_with_retry in 4.0 seconds as it raised ResourceExhausted: 429 Quota exceeded for aiplatform.googleapis.com/online_prediction_requests_per_base_model with base model: text-bison. Please submit a quota increase request. https://cloud.google.com/vertex-ai/docs/quotas. [detail: \"[ORIGINAL ERROR] generic::resource_exhausted: Quota exceeded for aiplatform.googleapis.com/online_prediction_requests_per_base_model with base model: text-bison. Please submit a quota increase request. https://cloud.google.com/vertex-ai/docs/quotas. [google.rpc.error_details_ext] { message: \\\"Quota exceeded for aiplatform.googleapis.com/online_prediction_requests_per_base_model with base model: text-bison. Please submit a quota increase request. https://cloud.google.com/vertex-ai/docs/quotas.\\\" }\"\n",
      "].\n",
      "Retrying langchain.llms.vertexai.completion_with_retry.<locals>._completion_with_retry in 8.0 seconds as it raised ResourceExhausted: 429 Quota exceeded for aiplatform.googleapis.com/online_prediction_requests_per_base_model with base model: text-bison. Please submit a quota increase request. https://cloud.google.com/vertex-ai/docs/quotas. [detail: \"[ORIGINAL ERROR] generic::resource_exhausted: Quota exceeded for aiplatform.googleapis.com/online_prediction_requests_per_base_model with base model: text-bison. Please submit a quota increase request. https://cloud.google.com/vertex-ai/docs/quotas. [google.rpc.error_details_ext] { message: \\\"Quota exceeded for aiplatform.googleapis.com/online_prediction_requests_per_base_model with base model: text-bison. Please submit a quota increase request. https://cloud.google.com/vertex-ai/docs/quotas.\\\" }\"\n",
      "].\n",
      "Retrying langchain.llms.vertexai.completion_with_retry.<locals>._completion_with_retry in 10.0 seconds as it raised ResourceExhausted: 429 Quota exceeded for aiplatform.googleapis.com/online_prediction_requests_per_base_model with base model: text-bison. Please submit a quota increase request. https://cloud.google.com/vertex-ai/docs/quotas. [detail: \"[ORIGINAL ERROR] generic::resource_exhausted: Quota exceeded for aiplatform.googleapis.com/online_prediction_requests_per_base_model with base model: text-bison. Please submit a quota increase request. https://cloud.google.com/vertex-ai/docs/quotas. [google.rpc.error_details_ext] { message: \\\"Quota exceeded for aiplatform.googleapis.com/online_prediction_requests_per_base_model with base model: text-bison. Please submit a quota increase request. https://cloud.google.com/vertex-ai/docs/quotas.\\\" }\"\n",
      "].\n",
      "Retrying langchain.llms.vertexai.completion_with_retry.<locals>._completion_with_retry in 4.0 seconds as it raised ResourceExhausted: 429 Quota exceeded for aiplatform.googleapis.com/online_prediction_requests_per_base_model with base model: text-bison. Please submit a quota increase request. https://cloud.google.com/vertex-ai/docs/quotas. [detail: \"[ORIGINAL ERROR] generic::resource_exhausted: Quota exceeded for aiplatform.googleapis.com/online_prediction_requests_per_base_model with base model: text-bison. Please submit a quota increase request. https://cloud.google.com/vertex-ai/docs/quotas. [google.rpc.error_details_ext] { message: \\\"Quota exceeded for aiplatform.googleapis.com/online_prediction_requests_per_base_model with base model: text-bison. Please submit a quota increase request. https://cloud.google.com/vertex-ai/docs/quotas.\\\" }\"\n",
      "].\n",
      "Retrying langchain.llms.vertexai.completion_with_retry.<locals>._completion_with_retry in 4.0 seconds as it raised ResourceExhausted: 429 Quota exceeded for aiplatform.googleapis.com/online_prediction_requests_per_base_model with base model: text-bison. Please submit a quota increase request. https://cloud.google.com/vertex-ai/docs/quotas. [detail: \"[ORIGINAL ERROR] generic::resource_exhausted: Quota exceeded for aiplatform.googleapis.com/online_prediction_requests_per_base_model with base model: text-bison. Please submit a quota increase request. https://cloud.google.com/vertex-ai/docs/quotas. [google.rpc.error_details_ext] { message: \\\"Quota exceeded for aiplatform.googleapis.com/online_prediction_requests_per_base_model with base model: text-bison. Please submit a quota increase request. https://cloud.google.com/vertex-ai/docs/quotas.\\\" }\"\n",
      "].\n",
      "Retrying langchain.llms.vertexai.completion_with_retry.<locals>._completion_with_retry in 4.0 seconds as it raised ResourceExhausted: 429 Quota exceeded for aiplatform.googleapis.com/online_prediction_requests_per_base_model with base model: text-bison. Please submit a quota increase request. https://cloud.google.com/vertex-ai/docs/quotas. [detail: \"[ORIGINAL ERROR] generic::resource_exhausted: Quota exceeded for aiplatform.googleapis.com/online_prediction_requests_per_base_model with base model: text-bison. Please submit a quota increase request. https://cloud.google.com/vertex-ai/docs/quotas. [google.rpc.error_details_ext] { message: \\\"Quota exceeded for aiplatform.googleapis.com/online_prediction_requests_per_base_model with base model: text-bison. Please submit a quota increase request. https://cloud.google.com/vertex-ai/docs/quotas.\\\" }\"\n",
      "].\n"
     ]
    },
    {
     "name": "stdout",
     "output_type": "stream",
     "text": [
      "Ad removal - Stage 0: 1.5309101819992066 minutes\n"
     ]
    }
   ],
   "source": [
    "ad_list = ad_check(chunks_text)['ad_check_list']"
   ]
  },
  {
   "cell_type": "code",
   "execution_count": 19,
   "metadata": {},
   "outputs": [],
   "source": [
    "#ad_list"
   ]
  },
  {
   "cell_type": "code",
   "execution_count": 20,
   "metadata": {},
   "outputs": [],
   "source": [
    "#for i in range(len(ad_list)):\n",
    "#    if 'yes' in ad_list[i].lower():\n",
    "#        print(chunks_text[i])"
   ]
  },
  {
   "cell_type": "code",
   "execution_count": 21,
   "metadata": {},
   "outputs": [],
   "source": [
    "ad_index = []\n",
    "\n",
    "for i in range(len(ad_list)):\n",
    "    if 'yes' in ad_list[i].lower():\n",
    "        ad_index.append(i)\n",
    "        \n",
    "ad_index.sort(reverse=True)\n",
    "\n",
    "chunks_text_clean = chunks_text.copy()\n",
    "\n",
    "for i in ad_index:\n",
    "    del chunks_text_clean[i]"
   ]
  },
  {
   "cell_type": "code",
   "execution_count": 22,
   "metadata": {},
   "outputs": [
    {
     "data": {
      "text/plain": [
       "61"
      ]
     },
     "execution_count": 22,
     "metadata": {},
     "output_type": "execute_result"
    }
   ],
   "source": [
    "len(chunks_text_clean)"
   ]
  },
  {
   "cell_type": "markdown",
   "metadata": {
    "tags": []
   },
   "source": [
    "## Stage 1: Get Chunk Summaries\n",
    "\n",
    "Now we create our first summaries and titles based on the chunks of sentences we created from the transcriptions.  This is done using langchain and chaining prompts to create the summary and subsequently the titles.  These can be accomplished in a single step but I found the outputs not as good as doing them sequentially."
   ]
  },
  {
   "cell_type": "markdown",
   "metadata": {
    "tags": []
   },
   "source": [
    "### v2"
   ]
  },
  {
   "cell_type": "code",
   "execution_count": 23,
   "metadata": {},
   "outputs": [],
   "source": [
    "def summary_stage_1(chunks_text):\n",
    "    \n",
    "    start_time = time.time()\n",
    "\n",
    "    # Prompt to get title and summary for each chunk\n",
    "    map_prompt_template = \"\"\"Summarize the key points of the following text. Include as much information as possible:\n",
    "\n",
    "    {text}\"\"\"\n",
    "\n",
    "    map_prompt = PromptTemplate(template=map_prompt_template, input_variables=[\"text\"])\n",
    "\n",
    "    # Define the LLMs\n",
    "    map_llm = VertexAI(model_name=\"text-bison\",\n",
    "        max_output_tokens=1024,\n",
    "        temperature=0.4,\n",
    "        top_p=0.8,\n",
    "        top_k=40,\n",
    "        verbose=True,)\n",
    "    map_llm_chain = LLMChain(llm = map_llm, prompt = map_prompt)\n",
    "    map_llm_chain_input = [{'text': t} for t in chunks_text]\n",
    "    # Run the input through the LLM chain (works in parallel)\n",
    "    map_llm_chain_results = map_llm_chain.apply(map_llm_chain_input)\n",
    "\n",
    "    stage_1_outputs_summary = [e['text'] for e in map_llm_chain_results]\n",
    "\n",
    "    end_time = time.time()\n",
    "    total_time = (end_time - start_time)/60\n",
    "    print(f'Summary creation - Stage 1: {total_time} minutes')\n",
    "\n",
    "    return {\n",
    "        'stage_1_outputs_summary': stage_1_outputs_summary\n",
    "    }"
   ]
  },
  {
   "cell_type": "code",
   "execution_count": 24,
   "metadata": {},
   "outputs": [],
   "source": [
    "def title_stage_1(chunks_text):\n",
    "    \n",
    "    start_time = time.time()\n",
    "\n",
    "    # Prompt to get title and summary for each chunk\n",
    "    map_prompt_template = \"\"\"Write an informative title based on the following text:\n",
    "\n",
    "    {text}\"\"\"\n",
    "\n",
    "    map_prompt = PromptTemplate(template=map_prompt_template, input_variables=[\"text\"])\n",
    "\n",
    "    # Define the LLMs\n",
    "    map_llm = VertexAI(model_name=\"text-bison@001\",\n",
    "        max_output_tokens=1024,\n",
    "        temperature=0.4,\n",
    "        top_p=0.8,\n",
    "        top_k=40,\n",
    "        verbose=True,)\n",
    "    map_llm_chain = LLMChain(llm = map_llm, prompt = map_prompt)\n",
    "    map_llm_chain_input = [{'text': t} for t in chunks_text]\n",
    "    # Run the input through the LLM chain (works in parallel)\n",
    "    map_llm_chain_results = map_llm_chain.apply(map_llm_chain_input)\n",
    "\n",
    "    stage_1_outputs_title = [e['text'] for e in map_llm_chain_results]\n",
    "\n",
    "    end_time = time.time()\n",
    "    total_time = (end_time - start_time)/60\n",
    "    print(f'Title creation - Stage 1: {total_time} minutes')\n",
    "\n",
    "    return {\n",
    "        'stage_1_outputs_title': stage_1_outputs_title\n",
    "    }"
   ]
  },
  {
   "cell_type": "code",
   "execution_count": 25,
   "metadata": {},
   "outputs": [
    {
     "name": "stdout",
     "output_type": "stream",
     "text": [
      "Summary creation - Stage 1: 2.36488178173701 minutes\n"
     ]
    }
   ],
   "source": [
    "# Run Stage 1 Summarizing\n",
    "stage_1_summaries = summary_stage_1(chunks_text_clean)['stage_1_outputs_summary']"
   ]
  },
  {
   "cell_type": "code",
   "execution_count": 31,
   "metadata": {},
   "outputs": [
    {
     "name": "stdout",
     "output_type": "stream",
     "text": [
      "Title creation - Stage 1: 1.748378316561381 minutes\n"
     ]
    }
   ],
   "source": [
    "stage_1_titles = title_stage_1(stage_1_summaries)['stage_1_outputs_title']"
   ]
  },
  {
   "cell_type": "code",
   "execution_count": 32,
   "metadata": {},
   "outputs": [
    {
     "data": {
      "text/plain": [
       "['',\n",
       " 'Dak Prescott and Micah Parsons Get into Altercation During Practice',\n",
       " 'Why Do People Talk Trash in Sports?',\n",
       " 'Trash-talking in the NFL: Part of the game, but can take emotions to a whole new level',\n",
       " \"The Cowboys' Chemistry Issue: A Look Back\",\n",
       " \"The Cowboys' Chemistry Is Better Than Ever\",\n",
       " \"Cowboys' confidence and togetherness are a product of good drafting\",\n",
       " 'The Dallas Cowboys: A Team Built on Character',\n",
       " 'Dallas Cowboys: Chemistry Not a Problem',\n",
       " 'How to Find the Best Sources for Cowboys News',\n",
       " 'Cowboys chemistry issues: What to believe and what to ignore',\n",
       " 'How to Prepare for Storms with a Contractor',\n",
       " 'Traffic Update',\n",
       " \"Max Scherzer's strong outing leads Rangers to sweep White Sox\",\n",
       " 'The Chicago White Sox Defeat the Texas Rangers',\n",
       " 'The Arizona Board of Regents reportedly met last night to vote on a move to Tucson.',\n",
       " 'The key points of the text are:\\n- Texas is currently experiencing a heat wave with temperatures reaching up to 107 degrees Fahrenheit.\\n- People are posting videos online of baking bread and cookies, popping popcorn, and frying eggs on the sidewalk.\\n- Experts warn that these foods are not thoroughly cooked and should not be eaten.\\n- The heat wave is expected to last for the next week.\\n- July 2023 was the hottest month on record across the globe, with temperatures reaching 126 degrees Fahrenheit in China and 128 degrees Fahrenheit in Death Valley.\\n- The heat wave is caused by a rash of intense heat domes that have been sprawling across the northern hemisphere.\\n- The heat wave has also affected Asia, southern Europe, northern Africa, and North America.\\n\\nThe title should be informative and should be able to capture the key points of the text. A good title could be:\\n\\n\"Texas Heat Wave: People Are Baking Bread and Cookies on the Sidewalk, But Experts Warn That the Food Is Not Thoroughly Cooked\"',\n",
       " 'The title should be \"How the Southwest U.S. Is Coping With Extreme Heat\".\\n\\nThe text is about the record-breaking heat in the Southwest U.S., and how the people in the region are coping with it. The title should be informative, and should accurately reflect the content of the text.',\n",
       " 'The text is about the weather in Phoenix and Miami, and the gas prices in North Texas. We can write:\\n\\nExtreme Heat in Phoenix and Miami, Gas Prices Could Rise in North Texas',\n",
       " 'Saudi Arabia Extends Oil Production Cuts; Could Mean Higher Gas Prices in North Texas',\n",
       " 'Cost of Living in California',\n",
       " 'The text is about the cost of living in Texas and the relationship between smoking and drinking. We can title it:\\n\\nCost of Living in Texas and the Relationship Between Smoking and Drinking',\n",
       " 'The title of the text should be \"The Price of Cigarettes in Texas.\" The text talks about the price of cigarettes in Texas, and it provides information about the cost of a pack of cigarettes, the tax on cigarettes, and how the price of cigarettes has changed over time. The title should be informative and should accurately reflect the content of the text.',\n",
       " 'The narrator is reminiscing about the time when cigarettes were much cheaper. They used to buy cartons of cigarettes when they were $1.50 a pack, but now a pack of cigarettes costs $11.96 in New York. The narrator also mentions that they used to buy \"lucies\" when they were desperate and needed a quick fix. The narrator\\'s friend tells them that they shouldn\\'t have told them about \"lies\" because it is a cultural reference that they throw out there all the time like they are really in the know about what goes on on the street. The narrator\\'s friend tells them not to make this about them.\\n\\nThe title of the text is \"The Price of Cigarettes.\"',\n",
       " 'The title of the text could be \"The High Cost of Smoking.\" This title would be informative because it would provide the reader with information about the financial costs of smoking, as well as the health risks associated with smoking. The title would also be attention-grabbing because it would make the reader think about the financial and health consequences of smoking.',\n",
       " 'The correct title is \"Lucy (cigarette)\".\\n\\nThe text talks about the slang term \"Lucy\". It is a slang term for a single cigarette that is sold loose, rather than in a pack. The text also mentions that the practice of selling loose cigarettes is still prevalent today, although it may be less common than it once was.',\n",
       " 'The text talks about the history of loose cigarettes and how it is still prevalent in some areas. We can title it:\\n\\nLoose Cigarettes: A History',\n",
       " '',\n",
       " 'Fisherman finds missing earring 23 years after it fell into the sea',\n",
       " '**Message in a bottle found after 36 years**',\n",
       " 'The text is about the author\\'s experience of sending letters via balloon. The author thought it was magical to send letters via balloon because it was a way to connect with someone far away. Email has made it easier to connect with people far away, but it is not as magical as sending a letter via balloon. The author then tells a story about two guys who got into an argument at a Sonic and Tolsa. One of the guys picked up a flag pole with an American flag on it and ran it through the other guy\\'s head. So we can title the text: \"The Magic of Sending Letters via Balloon\".',\n",
       " 'Two Men Get Into Argument At Sonic And Tolsa',\n",
       " 'The text is about the evolution of quarterback usage in the NFL. It mentions that quarterbacks accounted for 20.1% of all rushing touchdowns in the league last season, compared to only 11% in 2010. It also mentions the upcoming \"emergency break of the week\" and the \"madness\" of the last 36 hours and college realignment. Additionally, it references former Cowboys linebacker Anthony Spencer and the Red Rocks concert venue. So a good title for the text would be \"The Evolution of Quarterback Usage in the NFL\".',\n",
       " 'Dual-Threat Quarterbacks in the NFL',\n",
       " 'Quarterbacks lead NFL in sales of officially licensed player products',\n",
       " \"The Cowboys' Most Popular Jersey Numbers\",\n",
       " 'The Astros have had more no-hitters than the Rangers because they have been around for longer.',\n",
       " \"The Astros' No-Hitters\",\n",
       " 'Astros have thrown most no-hitters in MLB history',\n",
       " 'NBA: Starters Become More Risk-Averse; Luka Doncic Engaged; Jalen Brunson Marries',\n",
       " 'Texas: A Golfing State',\n",
       " 'The text talks about Ben Hogan, who has the most wins with 64, followed by Byron Nelson with 52, Lloyd Mangrum with 36, Jimmy Demaret with 31, Lee Trevino with 29, and Ben Crenshaw and Tom Kite with 19 each. The text also talks about Shan Avery, a former Dallas Star, who appears in the new Blockbuster movie Oppenheimer. Avery appears on screen with Cillian Murphy and Matt Damon while the atomic bomb crew is running tests in New Mexico. We can write: Ben Hogan: Most Wins in PGA Tour History',\n",
       " 'Shan Avery\\'s role in the movie \"The Departed\"',\n",
       " 'Sean Avery: A Controversial Player and Actor',\n",
       " 'Sean Avery and Norm Hitskis',\n",
       " 'ESPN and ABC Make Major Changes to NBA Broadcast Team',\n",
       " 'Hitzkas leaves lasting legacy in radio, broadcasting',\n",
       " \"Jeff Van Gundy Leaving ESPN: Why It's a Head-Scratcher\",\n",
       " 'Doris Burke is a good sportscaster. Jakez Williams robbed a 68-year-old woman in Miami. He took her purse, wallet, and checkbook.\\n\\nWe can write: Doris Burke is a good sportscaster. Jakez Williams robbed a 68-year-old woman in Miami. He took her purse, wallet, and checkbook.\\n\\nWe can also write: Doris Burke is a good sportscaster. Jakez Williams robbed a 68-year-old woman in Miami. He took her purse, wallet, and checkbook.\\n\\nWe can also write: Doris Burke is a good sportscaster. Jakez Williams robbed a 68-year-old woman in Miami. He took her purse, wallet, and checkbook.\\n\\nWe can also write: Doris Burke is a good sportscaster. Jakez Williams robbed a 68-year-old woman in Miami. He took her purse, wallet, and checkbook.',\n",
       " 'Man Arrested for Robbery, Grand Theft, and Criminal Use of Personal Identification Information',\n",
       " \"Man Arrested After Attempting to Use Woman's ID to Make Purchase\",\n",
       " 'The title of the text should be \"Marriage Counseling\". The text is about a man who is having trouble in his marriage and is seeking help from a therapist. The therapist advises the man to spend more time with his wife. This is a common piece of advice that is given to couples who are struggling in their marriage. The title \"Marriage Counseling\" is an accurate and informative title for this text.',\n",
       " 'The title of the text should be \"How to Improve Your Marriage\".\\n\\nThe text is about how Jim can improve his marriage by spending more time with his wife, appreciating her role in his life, and praising her cooking once in a while. This is a good title because it is informative and it accurately describes the content of the text.',\n",
       " 'The title of the text could be: \"Jim\\'s Wife Is Upset Because He Doesn\\'t Appreciate Her Cooking.\"',\n",
       " 'Friday Morning Scatter Shooting: Emergency Break of the Week',\n",
       " 'Modern-day marriage proposals often involve the use of technology',\n",
       " 'Texting Confession',\n",
       " 'Heat Wave in Texas: Save Money with TXU and Avoid Traffic on 287',\n",
       " 'Traffic Updates',\n",
       " '\"Man Dies in Toilet, Tongue Still Singing\"\\n\\nThe text is about a man who died in a toilet. He had gotten up in the toilet, fell forward, and bit his tongue in half. His tongue was found still moving and singing. The text also mentions that Mike, one of the hosts, is on drugs.\\n\\nThe title \"Man Dies in Toilet, Tongue Still Singing\" is informative because it provides a brief summary of the main events in the text. It also includes the fact that Mike is on drugs, which is relevant to the story.',\n",
       " 'Ty Walker is a candidate for an unspecified position. He is known for his catchphrase \"Ty for a huge matchup next on the top 10.\"\\n\\nThe text is about Ty Walker, who is a candidate for an unspecified position. He is known for his catchphrase \"Ty for a huge matchup next on the top 10.\" We can use \"Ty Walker\" as the title, and add some more details to make it more informative. For example, we can add the following: \"Ty Walker is a candidate for an unspecified position. He is known for his catchphrase \"Ty for a huge matchup next on the top 10.\"\"']"
      ]
     },
     "execution_count": 32,
     "metadata": {},
     "output_type": "execute_result"
    }
   ],
   "source": [
    "#len(stage_1_summaries)\n",
    "#stage_1_summaries[0]\n",
    "#len(stage_1_titles)\n",
    "stage_1_titles"
   ]
  },
  {
   "cell_type": "code",
   "execution_count": 33,
   "metadata": {},
   "outputs": [],
   "source": [
    "num_1_chunks = len(stage_1_summaries)"
   ]
  },
  {
   "cell_type": "code",
   "execution_count": 37,
   "metadata": {},
   "outputs": [],
   "source": [
    "# minor data cleanup\n",
    "stage_1_summaries = [\" \" if x == '' else x for x in stage_1_summaries]\n",
    "stage_1_titles = [\" \" if x == '' else x for x in stage_1_titles]\n",
    "stage_1_summaries = [string.replace('\\n', ' ') for string in stage_1_summaries]\n",
    "stage_1_titles = [string.replace('\\n', ' ') for string in stage_1_titles]"
   ]
  },
  {
   "cell_type": "markdown",
   "metadata": {
    "tags": []
   },
   "source": [
    "## Generate embeddings for titles and summaries, and cluster into distinct topics\n",
    "\n",
    "Using the stage 1 summaries, now we group them into common topics using cosine similarity and Louvain community detection.  This is necessary as the content contains many different topics, which when combining will make it hard for LLMs to produce concise content.  This step in the process produces the final context for creating final summaries / articles for each topic."
   ]
  },
  {
   "cell_type": "code",
   "execution_count": 38,
   "metadata": {},
   "outputs": [],
   "source": [
    "# Run the community detection algorithm\n",
    "\n",
    "def get_topics(stage_1_summaries, stage_1_titles, num_1_chunks, num_topics = 8, bonus_constant = 0.25, min_size = 3):\n",
    "    # Use Vertex AI to embed the summaries and titles. Size of _embeds: (num_chunks x 768)\n",
    "    vertex_embed = VertexAIEmbeddings()\n",
    "\n",
    "    summary_embeds = np.array(vertex_embed.embed_documents(stage_1_summaries))\n",
    "    title_embeds = np.array(vertex_embed.embed_documents(stage_1_titles))\n",
    "    \n",
    "    # Get similarity matrix between the embeddings of the chunk summaries\n",
    "    summary_similarity_matrix = np.zeros((num_1_chunks, num_1_chunks))\n",
    "    summary_similarity_matrix[:] = np.nan\n",
    "\n",
    "    for row in range(num_1_chunks):\n",
    "        for col in range(row, num_1_chunks):\n",
    "            # Calculate cosine similarity between the two vectors\n",
    "            similarity = 1- cosine(summary_embeds[row], summary_embeds[col])\n",
    "            summary_similarity_matrix[row, col] = similarity\n",
    "            summary_similarity_matrix[col, row] = similarity\n",
    "    \n",
    "    # Draw a heatmap with the summary_similarity_matrix\n",
    "    plt.figure()\n",
    "    # Color scheme blues\n",
    "    plt.imshow(summary_similarity_matrix, cmap = 'Blues')\n",
    "    \n",
    "    title_similarity = summary_similarity_matrix\n",
    "\n",
    "    proximity_bonus_arr = np.zeros_like(title_similarity)\n",
    "    for row in range(proximity_bonus_arr.shape[0]):\n",
    "        for col in range(proximity_bonus_arr.shape[1]):\n",
    "            if row == col:\n",
    "                proximity_bonus_arr[row, col] = 0\n",
    "            else:\n",
    "                proximity_bonus_arr[row, col] = 1/(abs(row-col)) * bonus_constant\n",
    "        \n",
    "    title_similarity += proximity_bonus_arr\n",
    "\n",
    "    title_nx_graph = nx.from_numpy_array(title_similarity)\n",
    "\n",
    "    desired_num_topics = num_topics\n",
    "    # Store the accepted partitionings\n",
    "    topics_title_accepted = []\n",
    "\n",
    "    resolution = 0.85\n",
    "    resolution_step = 0.01\n",
    "    iterations = 40\n",
    "\n",
    "    # Find the resolution that gives the desired number of topics\n",
    "    topics_title = []\n",
    "    while len(topics_title) not in [desired_num_topics, desired_num_topics + 1, desired_num_topics + 2]:\n",
    "        topics_title = community.louvain_communities(title_nx_graph, weight = 'weight', resolution = resolution)\n",
    "        resolution += resolution_step\n",
    "    topic_sizes = [len(c) for c in topics_title]\n",
    "    sizes_sd = np.std(topic_sizes)\n",
    "    modularity = community.modularity(title_nx_graph, topics_title, weight = 'weight', resolution = resolution)\n",
    "\n",
    "    lowest_sd_iteration = 0\n",
    "    # Set lowest sd to inf\n",
    "    lowest_sd = float('inf')\n",
    "\n",
    "    for i in range(iterations):\n",
    "        topics_title = community.louvain_communities(title_nx_graph, weight = 'weight', resolution = resolution)\n",
    "        modularity = community.modularity(title_nx_graph, topics_title, weight = 'weight', resolution = resolution)\n",
    "\n",
    "        # Check SD\n",
    "        topic_sizes = [len(c) for c in topics_title]\n",
    "        sizes_sd = np.std(topic_sizes)\n",
    "\n",
    "        topics_title_accepted.append(topics_title)\n",
    "\n",
    "        if sizes_sd < lowest_sd and min(topic_sizes) >= min_size:\n",
    "            lowest_sd_iteration = i\n",
    "            lowest_sd = sizes_sd\n",
    "      \n",
    "    # Set the chosen partitioning to be the one with highest modularity\n",
    "    topics_title = topics_title_accepted[lowest_sd_iteration]\n",
    "    print(f'Best SD: {lowest_sd}, Best iteration: {lowest_sd_iteration}, Number of topics (actual): {len(topics_title)}, Number of topics (setting): {desired_num_topics}')\n",
    "\n",
    "    topic_id_means = [sum(e)/len(e) for e in topics_title]\n",
    "    # Arrange title_topics in order of topic_id_means\n",
    "    topics_title = [list(c) for _, c in sorted(zip(topic_id_means, topics_title), key = lambda pair: pair[0])]\n",
    "    # Create an array denoting which topic each chunk belongs to\n",
    "    chunk_topics = [None] * title_similarity.shape[0]\n",
    "    for i, c in enumerate(topics_title):\n",
    "        for j in c:\n",
    "            chunk_topics[j] = i\n",
    "            \n",
    "    return {\n",
    "        'chunk_topics': chunk_topics,\n",
    "        'topics': topics_title\n",
    "    }"
   ]
  },
  {
   "cell_type": "code",
   "execution_count": 39,
   "metadata": {},
   "outputs": [
    {
     "name": "stdout",
     "output_type": "stream",
     "text": [
      "Best SD: inf, Best iteration: 0, Number of topics (actual): 12, Number of topics (setting): 12\n"
     ]
    },
    {
     "data": {
      "image/png": "[encoded data removed]",
      "text/plain": [
       "<Figure size 640x480 with 1 Axes>"
      ]
     },
     "metadata": {},
     "output_type": "display_data"
    }
   ],
   "source": [
    "# Set num_topics to be 1/4 of the number of chunks, or 8, which ever is smaller\n",
    "num_topics = min(int(num_1_chunks / 4), 12)\n",
    "topics_out = get_topics(stage_1_summaries, stage_1_titles, num_1_chunks, num_topics = num_topics, bonus_constant = 0.4)\n",
    "chunk_topics = topics_out['chunk_topics']\n",
    "topics = topics_out['topics']"
   ]
  },
  {
   "cell_type": "code",
   "execution_count": 40,
   "metadata": {},
   "outputs": [
    {
     "data": {
      "text/plain": [
       "[[0, 1, 2, 3, 4, 5, 6, 7, 8],\n",
       " [9, 10],\n",
       " [11, 12, 13, 14, 15],\n",
       " [16, 17, 18, 19],\n",
       " [20, 21, 22, 23, 24, 25, 26],\n",
       " [27, 28, 29, 30, 31],\n",
       " [32, 33, 34, 35],\n",
       " [36, 37, 38, 39, 40],\n",
       " [41, 42, 43, 44],\n",
       " [48, 45, 46, 47],\n",
       " [49, 50, 51, 52, 53, 54],\n",
       " [55, 56, 57, 58, 59, 60]]"
      ]
     },
     "execution_count": 40,
     "metadata": {},
     "output_type": "execute_result"
    }
   ],
   "source": [
    "topics"
   ]
  },
  {
   "cell_type": "code",
   "execution_count": 41,
   "metadata": {},
   "outputs": [
    {
     "data": {
      "image/png": "[encoded data removed]",
      "text/plain": [
       "<Figure size 1000x400 with 1 Axes>"
      ]
     },
     "metadata": {},
     "output_type": "display_data"
    }
   ],
   "source": [
    "# Plot a heatmap of this array\n",
    "plt.figure(figsize = (10, 4))\n",
    "plt.imshow(np.array(chunk_topics).reshape(1, -1), cmap = 'tab20')\n",
    "# Draw vertical black lines for every 1 of the x-axis \n",
    "for i in range(1, len(chunk_topics)):\n",
    "    plt.axvline(x = i - 0.5, color = 'black', linewidth = 0.5)"
   ]
  },
  {
   "cell_type": "markdown",
   "metadata": {
    "tags": []
   },
   "source": [
    "## Stage 2: Final Summaries\n",
    "\n",
    "Using the topics identified prior to this step, we use the same prompt chaining approach to create a summary then title for each topic.  At this point, we have a **first draft** for each topic where the LLM was able to produce an informative article and title."
   ]
  },
  {
   "cell_type": "markdown",
   "metadata": {
    "tags": []
   },
   "source": [
    "### v2"
   ]
  },
  {
   "cell_type": "code",
   "execution_count": 42,
   "metadata": {},
   "outputs": [],
   "source": [
    "def summary_stage_2(summary_data, topics, summary_num_words = 250):\n",
    "    \n",
    "    start_time = time.time()\n",
    "  \n",
    "    # Prompt to get title and summary for each chunk\n",
    "    map_prompt_template = \"\"\"Write a \"\"\" + str(summary_num_words) + \"\"\" word blog post of the following text.  Include as much information as possible:\n",
    "  \n",
    "    {text}\n",
    "    \"\"\"\n",
    "    \n",
    "    map_prompt = PromptTemplate(template=map_prompt_template, input_variables=[\"text\"])\n",
    "\n",
    "    # Define the LLMs\n",
    "    map_llm = VertexAI(model_name=\"text-bison\",\n",
    "        max_output_tokens=512,\n",
    "        temperature=0.3,\n",
    "        top_p=0.8,\n",
    "        top_k=40,\n",
    "        verbose=True,)\n",
    "  \n",
    "    topics_data = []\n",
    "    for c in topics:\n",
    "        topic_data_temp = [stage_1_summaries[chunk_id] for chunk_id in c]\n",
    "        topic_data_temp = '. '.join(topic_data_temp)\n",
    "        topics_data.append(topic_data_temp)\n",
    "\n",
    "    map_llm_chain = LLMChain(llm = map_llm, prompt = map_prompt)\n",
    "    map_llm_chain_input = [{'text': t} for t in topics_data]\n",
    "    # Run the input through the LLM chain (works in parallel)\n",
    "    map_llm_chain_results = map_llm_chain.apply(map_llm_chain_input)\n",
    "\n",
    "    stage_2_outputs_summary = [e['text'] for e in map_llm_chain_results]\n",
    "\n",
    "    end_time = time.time()\n",
    "    total_time = (end_time - start_time)/60\n",
    "    print(f'Summary creation - Stage 2: {total_time} minutes')\n",
    "\n",
    "    return {\n",
    "        'stage_2_outputs_summary': stage_2_outputs_summary\n",
    "    }"
   ]
  },
  {
   "cell_type": "code",
   "execution_count": 43,
   "metadata": {},
   "outputs": [],
   "source": [
    "def title_stage_2(summary_data, topics, summary_num_words = 250):\n",
    "    \n",
    "    start_time = time.time()\n",
    "\n",
    "    # Prompt to get title and summary for each chunk\n",
    "    map_prompt_template = \"\"\"Write a short title of the following text.  Do not include an explanation:\n",
    "\n",
    "    {text}\n",
    "    \"\"\"\n",
    "\n",
    "    map_prompt = PromptTemplate(template=map_prompt_template, input_variables=[\"text\"])\n",
    "\n",
    "    # Define the LLMs\n",
    "    map_llm = VertexAI(model_name=\"text-bison\",\n",
    "        max_output_tokens=256,\n",
    "        temperature=0.3,\n",
    "        top_p=0.8,\n",
    "        top_k=40,\n",
    "        verbose=True,)\n",
    "        \n",
    "    map_llm_chain = LLMChain(llm = map_llm, prompt = map_prompt)\n",
    "    map_llm_chain_input = [{'text': t} for t in summary_data]\n",
    "    # Run the input through the LLM chain (works in parallel)\n",
    "    map_llm_chain_results = map_llm_chain.apply(map_llm_chain_input)\n",
    "\n",
    "    stage_2_outputs_title = [e['text'] for e in map_llm_chain_results]\n",
    "\n",
    "    end_time = time.time()\n",
    "    total_time = (end_time - start_time)/60\n",
    "    print(f'Title creation - Stage 2: {total_time} minutes')\n",
    "\n",
    "    return {\n",
    "        'stage_2_outputs_title': stage_2_outputs_title\n",
    "    }"
   ]
  },
  {
   "cell_type": "code",
   "execution_count": 44,
   "metadata": {},
   "outputs": [],
   "source": [
    "def article_stage_2(stage_1_summaries, num_drafts=3):\n",
    "    # set number of drafts to generate\n",
    "    NUM_DRAFTS = 3\n",
    "\n",
    "    # Query Palm 2 to get a summary and title for each topic\n",
    "    drafts = []\n",
    "    for i in range(0, NUM_DRAFTS):\n",
    "        print(f\"Draft {i}\")\n",
    "        stage_2_outputs_summary = summary_stage_2(stage_1_summaries, topics, summary_num_words = 250)['stage_2_outputs_summary']\n",
    "        stage_2_outputs_title = title_stage_2(stage_2_outputs_summary, topics, summary_num_words = 250)['stage_2_outputs_title']\n",
    "        drafts.append([i+1, stage_2_outputs_title, stage_2_outputs_summary])\n",
    "    \n",
    "    return {\n",
    "        'drafts': drafts\n",
    "    }"
   ]
  },
  {
   "cell_type": "code",
   "execution_count": 45,
   "metadata": {},
   "outputs": [
    {
     "name": "stdout",
     "output_type": "stream",
     "text": [
      "Draft 0\n",
      "Summary creation - Stage 2: 1.202795946598053 minutes\n",
      "Title creation - Stage 2: 0.1346288522084554 minutes\n",
      "Draft 1\n",
      "Summary creation - Stage 2: 1.2179577668507895 minutes\n",
      "Title creation - Stage 2: 0.1951480507850647 minutes\n",
      "Draft 2\n",
      "Summary creation - Stage 2: 1.250197696685791 minutes\n",
      "Title creation - Stage 2: 0.13742696444193522 minutes\n"
     ]
    }
   ],
   "source": [
    "drafts = article_stage_2(stage_1_summaries, num_drafts=3)['drafts']"
   ]
  },
  {
   "cell_type": "code",
   "execution_count": 46,
   "metadata": {},
   "outputs": [
    {
     "data": {
      "text/plain": [
       "[' Cowboys Chemistry Not an Issue',\n",
       " ' Are the Dallas Cowboys Dealing With Chemistry Issues?',\n",
       " \" Today's Headlines\",\n",
       " ' Texas Heat Wave: People Are Cooking Food on the Sidewalk',\n",
       " ' California vs. Texas:  Cost of Living',\n",
       " \" \\nFormer teacher attacked in her home; Shrimp fisherman reunited with earring lost at sea 23 years ago; Man finds message in a bottle thrown overboard 36 years earlier; Letter likely damaged by neighbor's tree; Men get into fight at Sonic and Tolsa, one man runs flag pole through other's head\",\n",
       " ' Evolution of Quarterback Usage in the NFL',\n",
       " \" Astros' Valdez throws 16th no-hitter in franchise history\",\n",
       " ' Golf, Avery, and Hitskis',\n",
       " ' Doris Burke joins ESPN and ABC, Jakez Williams arrested for robbery, Norm Hitskas retires after 48 years',\n",
       " ' Armed Robbery, Marital Problems, and Friday Morning Scatter Shooting',\n",
       " ' Today in Texas']"
      ]
     },
     "execution_count": 46,
     "metadata": {},
     "output_type": "execute_result"
    }
   ],
   "source": [
    "drafts[0][1]"
   ]
  },
  {
   "cell_type": "code",
   "execution_count": 47,
   "metadata": {
    "scrolled": true,
    "tags": []
   },
   "outputs": [
    {
     "data": {
      "text/markdown": [
       "# DRAFT 1"
      ],
      "text/plain": [
       "<IPython.core.display.Markdown object>"
      ]
     },
     "metadata": {},
     "output_type": "display_data"
    },
    {
     "data": {
      "text/markdown": [
       "###  Cowboys Chemistry Not an Issue"
      ],
      "text/plain": [
       "<IPython.core.display.Markdown object>"
      ]
     },
     "metadata": {},
     "output_type": "display_data"
    },
    {
     "data": {
      "text/markdown": [
       " There was a recent incident in practice where Stefon Diggs and Dak Prescott had a verbal altercation.  Some people believe that this incident is a sign of tension between Diggs and Prescott.  Head coach Mike McCarthy downplayed the incident, saying that it is normal for teammates to talk trash to each other in practice.  Overall, it appears that the incident between Diggs and Prescott was just a minor disagreement that has been blown out of proportion by the media.\n",
       "\n",
       "Trash-talking is part of the environment in the NFL.  Chemistry issues usually surface after a bad start to the regular season.  The Cowboys may have had a chemistry issue two years ago when they faced the 49ers in the playoffs.  The Cowboys seem to have cured their chemistry issue last year.  The Cowboys seem more confident and together than any team in recent memory.  Mike McCarthy and Will McClay deserve credit for this, as they have drafted players like Dax who fit this mold.\n",
       "\n",
       "The Dallas Cowboys do not have a chemistry problem.  The author cites the team's ability to rally around backup quarterback Cooper Rush when Dak Prescott was injured as evidence of this.  The author also points to the leadership of players like Amari Cooper and DeMarcus Lawrence as reasons why the team's chemistry is not a problem.  The author believes that the recent reports of chemistry problems within the team are overblown and that the Cowboys should not be concerned about them."
      ],
      "text/plain": [
       "<IPython.core.display.Markdown object>"
      ]
     },
     "metadata": {},
     "output_type": "display_data"
    },
    {
     "name": "stdout",
     "output_type": "stream",
     "text": [
      "------------------------\n"
     ]
    },
    {
     "data": {
      "text/markdown": [
       "###  Are the Dallas Cowboys Dealing With Chemistry Issues?"
      ],
      "text/plain": [
       "<IPython.core.display.Markdown object>"
      ]
     },
     "metadata": {},
     "output_type": "display_data"
    },
    {
     "data": {
      "text/markdown": [
       " Are the Dallas Cowboys Dealing With Chemistry Issues?\n",
       "\n",
       "The Dallas Cowboys are one of the most popular and valuable sports franchises in the world. They have a rich history, a passionate fan base, and a lot of money. However, they have not won a Super Bowl since 1995.\n",
       "\n",
       "There are a lot of reasons why the Cowboys have not been able to win a Super Bowl in recent years. Some people say that it is because they have not had a good enough quarterback. Others say that it is because they have not had a good enough defense. Still, others say that it is because they have not had good enough coaching.\n",
       "\n",
       "One possible reason why the Cowboys have not been able to win a Super Bowl is that they have chemistry issues. Chemistry is important for any team, but it is especially important for a team that has a lot of star players. If the players on a team do not get along, it can be difficult for them to win games.\n",
       "\n",
       "There have been some reports that the Cowboys have chemistry issues. These reports have come from local beat riders, who are more likely to have inside information about the team. However, there have also been reports that the Cowboys do not have chemistry issues. These reports have come from national reporters, who are more likely to publish clickbait headlines without any substance.\n",
       "\n",
       "So, what is the truth? Do the Cowboys have chemistry issues? It is difficult to say for sure. There is some evidence to suggest that they do, but there is also evidence to suggest that they do not.\n",
       "\n",
       "One thing is for sure: if the Cowboys want to win a Super Bowl, they need to find a way to improve their chemistry."
      ],
      "text/plain": [
       "<IPython.core.display.Markdown object>"
      ]
     },
     "metadata": {},
     "output_type": "display_data"
    },
    {
     "name": "stdout",
     "output_type": "stream",
     "text": [
      "------------------------\n"
     ]
    },
    {
     "data": {
      "text/markdown": [
       "###  Today's Headlines"
      ],
      "text/plain": [
       "<IPython.core.display.Markdown object>"
      ]
     },
     "metadata": {},
     "output_type": "display_data"
    },
    {
     "data": {
      "text/markdown": [
       " It is vital to be prepared for storms by having a contractor in place before one hits. Storms can cause damage to many things, including roofing, air conditioning units, siding, and windows. By being prepared, you can reduce the anxiety that comes with needing a contractor at the last minute.\n",
       "\n",
       "Earlier accident on I35 northbound at Dezing Curve has been cleared but traffic is still slow from Keish Boulevard. Accident on 635 southbound at Oats Drive involving an 18 wheeler has been cleared and traffic is unwinding from Ferguson Road. Fort Worth is currently incident free.\n",
       "\n",
       "The Fort Worth Rangers swept the Chicago White Sox 18-4. Dane Dunning, Martin Perez, and Max Scherzer all earned wins. After allowing a three-run first, Scherzer struck out nine in six innings yesterday afternoon and retired 13 of the last 14 batters he faced. He said, \"You find out about yourself when things don't break your way...It's then what you do then, that's when you find out who you are about a pitcher.\"\n",
       "\n",
       "The Chicago White Sox defeated the Texas Rangers by a score of 18-4. Andreeni, Dane Dunning, and Max Sherser all earned wins for the White Sox. Sherser struck out nine batters in six innings and retired 13 of the last 14 batters he faced.\n",
       "\n",
       "In other news, Big 12 executives met Thursday to approve an application for Arizona to join the conference. The Arizona Board of Regents reportedly met last night to vote on the move. A formal approval is expected to be finalized soon.\n",
       "\n",
       "Finally, Cowboy's defensive tackle OSO Digizua will join users live from training camp in Oxnard at 8:55 this morning."
      ],
      "text/plain": [
       "<IPython.core.display.Markdown object>"
      ]
     },
     "metadata": {},
     "output_type": "display_data"
    },
    {
     "name": "stdout",
     "output_type": "stream",
     "text": [
      "------------------------\n"
     ]
    },
    {
     "data": {
      "text/markdown": [
       "###  Texas Heat Wave: People Are Cooking Food on the Sidewalk"
      ],
      "text/plain": [
       "<IPython.core.display.Markdown object>"
      ]
     },
     "metadata": {},
     "output_type": "display_data"
    },
    {
     "data": {
      "text/markdown": [
       " **Texas Heat Wave: People Are Cooking Food on the Sidewalk**\n",
       "\n",
       "Texas is currently experiencing a heat wave with temperatures reaching up to 107 degrees Fahrenheit. In response, people are posting videos online of baking bread and cookies, popping popcorn, and frying eggs on the sidewalk. However, experts warn that these foods are not thoroughly cooked and should not be eaten. \n",
       "\n",
       "The heat wave is expected to last for the next week. July 2023 was the hottest month on record across the globe, with temperatures reaching 126 degrees Fahrenheit in China and 128 degrees Fahrenheit in Death Valley. The heat wave is caused by a rash of intense heat domes that have been sprawling across the northern hemisphere. \n",
       "\n",
       "The heat wave has also affected Asia, southern Europe, northern Africa, and North America. In the United States, Phoenix had a record-breaking 31 straight days of temperatures reaching 110 degrees or higher. El Paso had 44 days in a row at or above 100 degrees. Miami had 46 straight days with a heat index over 100 degrees. \n",
       "\n",
       "In addition to the heat wave, gas prices in North Texas could rise due to Saudi Arabia's decision to extend its unilateral production cut of 1 million barrels of oil per day. This could lead to higher gas prices in North Texas, where the average price per gallon is currently around $3.58."
      ],
      "text/plain": [
       "<IPython.core.display.Markdown object>"
      ]
     },
     "metadata": {},
     "output_type": "display_data"
    },
    {
     "name": "stdout",
     "output_type": "stream",
     "text": [
      "------------------------\n"
     ]
    },
    {
     "data": {
      "text/markdown": [
       "###  California vs. Texas:  Cost of Living"
      ],
      "text/plain": [
       "<IPython.core.display.Markdown object>"
      ]
     },
     "metadata": {},
     "output_type": "display_data"
    },
    {
     "data": {
      "text/markdown": [
       " The cost of living in California is among the highest in the United States. This is largely due to the high cost of housing, which is driven by a number of factors, including the state's strong economy, high demand for housing, and limited supply of land.  The median home price in California is over $600,000, which is more than double the national median. Property taxes are also high in California, averaging over $7,000 per year. This is due to the state's high property values and the fact that California has a relatively low property tax rate.  In contrast, the cost of living in Texas is generally lower than in California. The median home price in Texas is around $200,000, and property taxes are much lower, averaging around $2,500 per year. This is because Texas has a lower property tax rate and a higher state income tax.  The cost of cigarettes is also higher in California than in Texas. A pack of cigarettes costs around $7.62 in California, while it costs around $5.62 in Texas. This is due to the fact that California has a higher cigarette tax than Texas.  Despite the high cost of living, California is still a popular place to live. The state's strong economy, mild climate, and beautiful scenery make it an attractive destination for people from all over the country."
      ],
      "text/plain": [
       "<IPython.core.display.Markdown object>"
      ]
     },
     "metadata": {},
     "output_type": "display_data"
    },
    {
     "name": "stdout",
     "output_type": "stream",
     "text": [
      "------------------------\n"
     ]
    },
    {
     "data": {
      "text/markdown": [
       "###  \n",
       "Former teacher attacked in her home; Shrimp fisherman reunited with earring lost at sea 23 years ago; Man finds message in a bottle thrown overboard 36 years earlier; Letter likely damaged by neighbor's tree; Men get into fight at Sonic and Tolsa, one man runs flag pole through other's head"
      ],
      "text/plain": [
       "<IPython.core.display.Markdown object>"
      ]
     },
     "metadata": {},
     "output_type": "display_data"
    },
    {
     "data": {
      "text/markdown": [
       "  A former elementary school teacher was attacked in her home by a young man. She bravely defended herself with a chair and then offered to make him food. While he was eating, she called the cops.  In a heartwarming story, a shrimp fisherman in the Netherlands lost an earring at sea 23 years ago. Another boat found the earring on their deck 23 years later and posted a picture of it on social media. The original owner saw the post and was reunited with his earring.  A man in a nearby boat recognized the earring and said it was his. The earring was a silhouette of a troller that sank 36 years ago. The man had kept the earring from the boat he had worked on.  The author found a message in a bottle that had been thrown overboard 36 years earlier. The author used to throw messages in bottles into the ocean as a child, and they never got a response. The author thinks it would be cool to find a message in a bottle.  A man received a letter that was likely damaged by his neighbor's tree.  Two men got into an argument at a Sonic and Tolsa.  One of the men picked up a flag pole with an American flag on it and ran it through the other guy's head. The victim survived but will likely lose an eye."
      ],
      "text/plain": [
       "<IPython.core.display.Markdown object>"
      ]
     },
     "metadata": {},
     "output_type": "display_data"
    },
    {
     "name": "stdout",
     "output_type": "stream",
     "text": [
      "------------------------\n"
     ]
    },
    {
     "data": {
      "text/markdown": [
       "###  Evolution of Quarterback Usage in the NFL"
      ],
      "text/plain": [
       "<IPython.core.display.Markdown object>"
      ]
     },
     "metadata": {},
     "output_type": "display_data"
    },
    {
     "data": {
      "text/markdown": [
       " The evolution of quarterback usage in the NFL has been a hot topic of discussion in recent years. Last season, quarterbacks accounted for 20.1% of all rushing touchdowns in the league, compared to only 11% in 2010. This trend is likely due to the increasing importance of mobility and athleticism in the quarterback position. Quarterbacks are now leading the NFL in sales of officially licensed player products, with Patrick Mahomes leading the league in sales during the first quarter of the new NFL calendar. This suggests that the trend is shifting towards dual-threat signal callers, and that the importance of running backs may be declining.\n",
       "\n",
       "In other news, the \"emergency break of the week\" has been declared due to the \"madness\" of the last 36 hours and college realignment. Former Cowboys linebacker Anthony Spencer has announced his retirement from the NFL, and the Red Rocks concert venue has announced its lineup for the upcoming season.\n",
       "\n",
       "Here are some additional notes from the text:\n",
       "\n",
       "- 3 Cowboys made the top 10 in jersey sales during the first quarter of the new NFL calendar.\n",
       "- Dak Prescott is ranked number 7.\n",
       "- CeeDee Lamb is ranked number 9.\n",
       "- Many people are wearing jersey number 11, which is likely due to Danny White.\n",
       "- Danny White is still in the top 10 in jersey sales, even though he retired from the NFL in 1988."
      ],
      "text/plain": [
       "<IPython.core.display.Markdown object>"
      ]
     },
     "metadata": {},
     "output_type": "display_data"
    },
    {
     "name": "stdout",
     "output_type": "stream",
     "text": [
      "------------------------\n"
     ]
    },
    {
     "data": {
      "text/markdown": [
       "###  Astros' Valdez throws 16th no-hitter in franchise history"
      ],
      "text/plain": [
       "<IPython.core.display.Markdown object>"
      ]
     },
     "metadata": {},
     "output_type": "display_data"
    },
    {
     "data": {
      "text/markdown": [
       " Fromber Valdez threw the 16th no-hitter in Astros franchise history this week, a feat that has only been accomplished five times in the history of the Texas Rangers franchise, which was founded a year earlier in 1961. \n",
       "\n",
       "The Astros have thrown six no-hitters in their 61-year history, while the Rangers have thrown five in their 62-year history. \n",
       "\n",
       "The Dodgers have the most no-hitters in MLB history with 26, followed by the White Sox (20), Red Sox (18), Giants (17), Reds (17), and Cubs (17). \n",
       "\n",
       "Among the Astros greats to throw a no-hitter are Nolan Ryan, Mike Scott, Justin Verlander, and the late Don Wilson. \n",
       "\n",
       "Over the past five seasons, the Astros have thrown the most no-hitters in Major League Baseball history, with five. \n",
       "\n",
       "Starters in the NBA have become more risk-averse, tasked with the low bar of \"just don't lose the game, we don't need you to win it, just don't lose it.\" \n",
       "\n",
       "In other news, Luka Doncic recently announced his engagement, and his former Villanova teammate Jalen Brunson got married last weekend. \n",
       "\n",
       "Brunson tied the knot with his long-time girlfriend Ali Marx in Chicago, with friend and former Villanova teammate Ryan Arcidiacono officiating the ceremony. \n",
       "\n",
       "Many of Brunson's current New York Knicks teammates attended the wedding. \n",
       "\n",
       "58 Texas-born golfers have made at least one cut at a PGA event in the last 10 years, second only to California (85). \n",
       "\n",
       "Texas has produced the most players in the top 50 of the all-time wins list with seven. \n",
       "\n",
       "Ben Hogan leads the list with 64 wins, followed by Byron Nelson (52), Lloyd Mangrum (36), Jimmy Demaret (31), Lee Trevino (29), and Ben Crenshaw and Tom Kite (19 each)."
      ],
      "text/plain": [
       "<IPython.core.display.Markdown object>"
      ]
     },
     "metadata": {},
     "output_type": "display_data"
    },
    {
     "name": "stdout",
     "output_type": "stream",
     "text": [
      "------------------------\n"
     ]
    },
    {
     "data": {
      "text/markdown": [
       "###  Golf, Avery, and Hitskis"
      ],
      "text/plain": [
       "<IPython.core.display.Markdown object>"
      ]
     },
     "metadata": {},
     "output_type": "display_data"
    },
    {
     "data": {
      "text/markdown": [
       " Ben Hogan is the most successful golfer in Colonial National Invitation Tournament history, with six wins. Byron Nelson is second with five wins, followed by Lloyd Mangrum with three wins. Jimmy Demaret, Lee Trevino, Ben Crenshaw, and Tom Kite have each won the tournament twice.\n",
       "\n",
       "In other news, former Dallas Stars player Sean Avery has a minor role in the new film Oppenheimer. Avery appears on screen with Cillian Murphy and Matt Damon while the atomic bomb crew is running tests in New Mexico. Avery's role is so small that he could easily be missed if the viewer was not specifically looking for him. Despite his limited screen time, Avery does have a few speaking lines.\n",
       "\n",
       "Avery has always been interested in acting and has appeared in a few films during his playing days. He is known for being a controversial player and for his romantic life. In 2017, he was inducted into the Dallas Stars Hall of Fame.\n",
       "\n",
       "Finally, Norm Hitskis, a longtime sports radio personality in Dallas, was recently honored before a Rangers game and in Peter King's weekly column for his 48-year career in sports radio. Hitskis is known for his encyclopedic knowledge of sports and his ability to connect with listeners. He is a beloved figure in the Dallas sports community."
      ],
      "text/plain": [
       "<IPython.core.display.Markdown object>"
      ]
     },
     "metadata": {},
     "output_type": "display_data"
    },
    {
     "name": "stdout",
     "output_type": "stream",
     "text": [
      "------------------------\n"
     ]
    },
    {
     "data": {
      "text/markdown": [
       "###  Doris Burke joins ESPN and ABC, Jakez Williams arrested for robbery, Norm Hitskas retires after 48 years"
      ],
      "text/plain": [
       "<IPython.core.display.Markdown object>"
      ]
     },
     "metadata": {},
     "output_type": "display_data"
    },
    {
     "data": {
      "text/markdown": [
       " Doris Burke is a well-respected sportscaster who has been in the industry for many years. She is known for her insightful commentary and her ability to connect with viewers. Recently, ESPN and ABC announced that she would be joining their broadcast team for NBA games. This is a great opportunity for Burke, and she is sure to excel in this role.\n",
       "\n",
       "In other news, Jakez Williams was arrested in Miami for robbing a 68-year-old woman. He took her purse, wallet, and checkbook. This is a despicable crime, and Williams should be punished to the fullest extent of the law.\n",
       "\n",
       "Finally, Norm Hitskas retired after 48 years on Sports Radio in Dallas. He is known for his enduring care for people struggling in life, and he has raised over $8 million for the Austin Street Center for the homeless through his annual fundraiser. Hitskas has left a lasting legacy in radio and broadcasting, and he will be missed by many."
      ],
      "text/plain": [
       "<IPython.core.display.Markdown object>"
      ]
     },
     "metadata": {},
     "output_type": "display_data"
    },
    {
     "name": "stdout",
     "output_type": "stream",
     "text": [
      "------------------------\n"
     ]
    },
    {
     "data": {
      "text/markdown": [
       "###  Armed Robbery, Marital Problems, and Friday Morning Scatter Shooting"
      ],
      "text/plain": [
       "<IPython.core.display.Markdown object>"
      ]
     },
     "metadata": {},
     "output_type": "display_data"
    },
    {
     "data": {
      "text/markdown": [
       " Williams robbed a 68-year-old Miami woman, taking her purse which contained her wallet and checkbook. He then attempted to go on a shopping spree, but when he tried to check out at the register of a big box store, he wrote a check from the woman's checkbook. Then when asked to present ID, he produced the woman's Florida driver's license, which he had gotten from her wallet that he stole. Williams was arrested and charged with robbery, grand theft, and criminal use of personal identification information.\n",
       "\n",
       "Jim is having trouble in his marriage. His wife seems to always be angry with him. Jim decided to pay his therapist a visit before he went home. The therapist advised Jim to spend more time with his wife.\n",
       "\n",
       "Jim goes home and tells his wife that he likes the dinner she made. She gets upset and tells him that she's been cooking for him for 21 years and he's never appreciated it. She says that the one day she gets food from the neighbors, he likes it.\n",
       "\n",
       "The host thanks the listeners for tuning in to Friday Morning Scatter Shooting. The next segment will be the \"Emergency Break of the Week\" and will feature a frog, confusion, and a fake f-bomb."
      ],
      "text/plain": [
       "<IPython.core.display.Markdown object>"
      ]
     },
     "metadata": {},
     "output_type": "display_data"
    },
    {
     "name": "stdout",
     "output_type": "stream",
     "text": [
      "------------------------\n"
     ]
    },
    {
     "data": {
      "text/markdown": [
       "###  Today in Texas"
      ],
      "text/plain": [
       "<IPython.core.display.Markdown object>"
      ]
     },
     "metadata": {},
     "output_type": "display_data"
    },
    {
     "data": {
      "text/markdown": [
       " Today in Texas, there is a heat wave.  If you sign up for TXU, you can save money.  There was an accident on 287 Northbound approaching i-30 in Fort Worth, but it has been cleared and traffic is moving freely.  In Plano, 75 Northbound at the Bush Turnpike had a disabled vehicle blocking the HOV lane, but that has been cleared and traffic is moving freely.  A man died in a toilet.  He had gotten up in the toilet, fell forward, and bit his tongue in half.  His tongue was found still moving and singing.  One of the hosts, Mike, is on drugs.  Ty Walker is a candidate for an unspecified position.  He is known for his catchphrase \"Ty for a huge matchup next on the top 10.\""
      ],
      "text/plain": [
       "<IPython.core.display.Markdown object>"
      ]
     },
     "metadata": {},
     "output_type": "display_data"
    },
    {
     "name": "stdout",
     "output_type": "stream",
     "text": [
      "------------------------\n"
     ]
    },
    {
     "data": {
      "text/markdown": [
       "# DRAFT 2"
      ],
      "text/plain": [
       "<IPython.core.display.Markdown object>"
      ]
     },
     "metadata": {},
     "output_type": "display_data"
    },
    {
     "data": {
      "text/markdown": [
       "###  Cowboys Chemistry Not A Problem"
      ],
      "text/plain": [
       "<IPython.core.display.Markdown object>"
      ]
     },
     "metadata": {},
     "output_type": "display_data"
    },
    {
     "data": {
      "text/markdown": [
       " There was a recent incident in practice where Stefon Diggs and Dak Prescott had a verbal altercation.  Some people believe that this incident is a sign of tension between Diggs and Prescott.  Head coach Mike McCarthy downplayed the incident, saying that it is normal for teammates to talk trash to each other in practice.  Overall, it appears that the incident between Diggs and Prescott was just a minor disagreement that has been blown out of proportion by the media.\n",
       "\n",
       "Trash-talking is part of the environment in the NFL.  Chemistry issues usually surface after a bad start to the regular season.  The Cowboys may have had a chemistry issue two years ago when they faced the 49ers in the playoffs.  The Cowboys seem to have cured their chemistry issue last year.  The Cowboys seem more confident and together than any team in recent memory.  Mike McCarthy and Will McClay deserve credit for this, as they have drafted players like Dax who fit this mold.\n",
       "\n",
       "The Dallas Cowboys do not have a chemistry problem.  The team's ability to rally around backup quarterback Cooper Rush when Dak Prescott was injured is evidence of this.  The leadership of players like Amari Cooper and DeMarcus Lawrence is also a reason why the team's chemistry is not a problem.  The recent reports of chemistry problems within the team are overblown and the Cowboys should not be concerned about them."
      ],
      "text/plain": [
       "<IPython.core.display.Markdown object>"
      ]
     },
     "metadata": {},
     "output_type": "display_data"
    },
    {
     "name": "stdout",
     "output_type": "stream",
     "text": [
      "------------------------\n"
     ]
    },
    {
     "data": {
      "text/markdown": [
       "###  Are the Dallas Cowboys Dealing With Chemistry Issues?"
      ],
      "text/plain": [
       "<IPython.core.display.Markdown object>"
      ]
     },
     "metadata": {},
     "output_type": "display_data"
    },
    {
     "data": {
      "text/markdown": [
       " Are the Dallas Cowboys Dealing With Chemistry Issues?\n",
       "The Dallas Cowboys are one of the most popular and successful NFL teams in history. However, they have not won a Super Bowl since 1995. Some people believe that the Cowboys' lack of recent success is due to chemistry issues within the team.\n",
       "\n",
       "Local beat riders are more likely to have inside information about the Dallas Cowboys and their chemistry issues. National sites are more likely to publish clickbait headlines without any substance. \n",
       "\n",
       "There are a couple of national reporters who are highly respected and highly tied in, such as Peter King. If you just see a clickbait headline about Cowboys' chemistry issues and there's nothing being reported locally about it, it's probably not a story.\n",
       "\n",
       "However, there are some signs that the Cowboys may have a chemistry problem. The team has been plagued by injuries in recent years, and some players have been vocal about their unhappiness with the organization. In addition, the Cowboys have not been able to consistently win big games.\n",
       "\n",
       "If the Cowboys want to be successful, they will need to address their chemistry issues. The team needs to find a way to get everyone on the same page and working towards a common goal. If they can do that, they will be a force to be reckoned with in the NFL."
      ],
      "text/plain": [
       "<IPython.core.display.Markdown object>"
      ]
     },
     "metadata": {},
     "output_type": "display_data"
    },
    {
     "name": "stdout",
     "output_type": "stream",
     "text": [
      "------------------------\n"
     ]
    },
    {
     "data": {
      "text/markdown": [
       "###  Today's Headlines"
      ],
      "text/plain": [
       "<IPython.core.display.Markdown object>"
      ]
     },
     "metadata": {},
     "output_type": "display_data"
    },
    {
     "data": {
      "text/markdown": [
       " It is vital to be prepared for storms by having a contractor in place before one hits. Storms can cause damage to many things, including roofing, air conditioning units, siding, and windows. By being prepared, you can reduce the anxiety that comes with needing a contractor at the last minute.\n",
       "\n",
       "Earlier accident on I35 northbound at Dezing Curve has been cleared but traffic is still slow from Keish Boulevard. Accident on 635 southbound at Oats Drive involving an 18 wheeler has been cleared and traffic is unwinding from Ferguson Road. Fort Worth is currently incident free.\n",
       "\n",
       "The Fort Worth Rangers swept the Chicago White Sox 18-4. Dane Dunning, Martin Perez, and Max Scherzer all earned wins. After allowing a three-run first, Scherzer struck out nine in six innings yesterday afternoon and retired 13 of the last 14 batters he faced. He said, \"You find out about yourself when things don't break your way...It's then what you do then, that's when you find out who you are about a pitcher.\"\n",
       "\n",
       "The Chicago White Sox defeated the Texas Rangers by a score of 18-4. Andreeni, Dane Dunning, and Max Sherser all earned wins for the White Sox. Sherser struck out nine batters in six innings and retired 13 of the last 14 batters he faced.\n",
       "\n",
       "In other news, Big 12 executives met Thursday to approve an application for Arizona to join the conference. The Arizona Board of Regents reportedly met last night to vote on the move. A formal approval is expected to be finalized soon.\n",
       "\n",
       "Finally, Cowboy's defensive tackle OSO Digizua will join users live from training camp in Oxnard at 8:55 this morning."
      ],
      "text/plain": [
       "<IPython.core.display.Markdown object>"
      ]
     },
     "metadata": {},
     "output_type": "display_data"
    },
    {
     "name": "stdout",
     "output_type": "stream",
     "text": [
      "------------------------\n"
     ]
    },
    {
     "data": {
      "text/markdown": [
       "###  Texas Heat Wave: People Are Cooking Food on the Sidewalk"
      ],
      "text/plain": [
       "<IPython.core.display.Markdown object>"
      ]
     },
     "metadata": {},
     "output_type": "display_data"
    },
    {
     "data": {
      "text/markdown": [
       " **Texas Heat Wave: People Are Cooking Food on the Sidewalk**\n",
       "\n",
       "Texas is currently experiencing a heat wave with temperatures reaching up to 107 degrees Fahrenheit. In response, people are posting videos online of baking bread and cookies, popping popcorn, and frying eggs on the sidewalk. However, experts warn that these foods are not thoroughly cooked and should not be eaten. \n",
       "\n",
       "The heat wave is expected to last for the next week. July 2023 was the hottest month on record across the globe, with temperatures reaching 126 degrees Fahrenheit in China and 128 degrees Fahrenheit in Death Valley. The heat wave is caused by a rash of intense heat domes that have been sprawling across the northern hemisphere. \n",
       "\n",
       "The heat wave has also affected Asia, southern Europe, northern Africa, and North America. In the United States, Phoenix had a record-breaking 31 straight days of temperatures reaching 110 degrees or higher. El Paso had 44 days in a row at or above 100 degrees. Miami had 46 straight days with a heat index over 100 degrees. \n",
       "\n",
       "In addition to the heat wave, gas prices in North Texas could rise due to Saudi Arabia's decision to extend its unilateral production cut of 1 million barrels of oil per day. This could lead to higher gas prices in North Texas, where the average price per gallon is currently around $3.58."
      ],
      "text/plain": [
       "<IPython.core.display.Markdown object>"
      ]
     },
     "metadata": {},
     "output_type": "display_data"
    },
    {
     "name": "stdout",
     "output_type": "stream",
     "text": [
      "------------------------\n"
     ]
    },
    {
     "data": {
      "text/markdown": [
       "###  Cigarette Taxes and Smoking Rates in California and Texas"
      ],
      "text/plain": [
       "<IPython.core.display.Markdown object>"
      ]
     },
     "metadata": {},
     "output_type": "display_data"
    },
    {
     "data": {
      "text/markdown": [
       " The cost of living in California is among the highest in the United States. This is due in large part to the high cost of housing and property taxes. In Texas, property taxes are lower, but state income taxes are higher. \n",
       "\n",
       "The cost of cigarettes is also higher in California than in Texas. A pack of cigarettes costs around $7.62 in Texas, while it costs around $11.96 in California. This is due to the higher state excise tax on cigarettes in California.\n",
       "\n",
       "Smoking is an expensive habit, and it can also lead to health problems. The cost of cigarettes and cancer treatment can be a significant financial burden. In addition to the financial costs, smoking can also have a negative impact on one's health and well-being."
      ],
      "text/plain": [
       "<IPython.core.display.Markdown object>"
      ]
     },
     "metadata": {},
     "output_type": "display_data"
    },
    {
     "name": "stdout",
     "output_type": "stream",
     "text": [
      "------------------------\n"
     ]
    },
    {
     "data": {
      "text/markdown": [
       "###  Incredible Stories"
      ],
      "text/plain": [
       "<IPython.core.display.Markdown object>"
      ]
     },
     "metadata": {},
     "output_type": "display_data"
    },
    {
     "data": {
      "text/markdown": [
       " Incredible Stories That Will Make You Think\n",
       "Have you ever wondered what would happen if you found a message in a bottle? Or if you lost an earring at sea and it was found 23 years later? These are just a few of the incredible stories that will make you think.\n",
       "\n",
       "In one story, a former elementary school teacher was attacked in her home by a young man. She bravely defended herself with a chair and then offered to make him food. While he was eating, she called the cops. This story is a reminder that even in the most dangerous of situations, there is always hope.\n",
       "\n",
       "In another story, a shrimp fisherman in the Netherlands lost an earring at sea 23 years ago. Another boat found the earring on their deck 23 years later and posted a picture of it on social media. The original owner saw the post and was reunited with his earring. This story is a reminder that even the most lost things can be found again.\n",
       "\n",
       "Finally, one man received a letter that was likely damaged by his neighbor's tree. The letter was addressed to someone else, but the man decided to open it anyway. Inside, he found a beautiful poem. This story is a reminder that sometimes, the most unexpected things can bring us joy.\n",
       "\n",
       "These are just a few of the incredible stories that will make you think. They are a reminder that life is full of surprises, and that anything is possible."
      ],
      "text/plain": [
       "<IPython.core.display.Markdown object>"
      ]
     },
     "metadata": {},
     "output_type": "display_data"
    },
    {
     "name": "stdout",
     "output_type": "stream",
     "text": [
      "------------------------\n"
     ]
    },
    {
     "data": {
      "text/markdown": [
       "###  QBs lead NFL in jersey sales"
      ],
      "text/plain": [
       "<IPython.core.display.Markdown object>"
      ]
     },
     "metadata": {},
     "output_type": "display_data"
    },
    {
     "data": {
      "text/markdown": [
       " The NFL is seeing a rising trend in dual-threat quarterbacks, with quarterbacks accounting for 20.1% of all rushing touchdowns in the league last season, up from 11% in 2010. Quarterbacks are now leading the NFL in sales of officially licensed player products, with Patrick Mahomes leading the league in sales during the first quarter of the new NFL calendar. This suggests that the trend is shifting towards dual-threat signal callers, and that the importance of running backs may be declining.\n",
       "\n",
       "The Cowboys are no exception to this trend, with Dak Prescott and CeeDee Lamb both making the top 10 in jersey sales during the first quarter of the new NFL calendar. Interestingly, a lot of people are also wearing jersey number 11, which is most likely a nod to former Cowboys quarterback Danny White, who is still in the top 10 in jersey sales."
      ],
      "text/plain": [
       "<IPython.core.display.Markdown object>"
      ]
     },
     "metadata": {},
     "output_type": "display_data"
    },
    {
     "name": "stdout",
     "output_type": "stream",
     "text": [
      "------------------------\n"
     ]
    },
    {
     "data": {
      "text/markdown": [
       "###  Astros' Valdez throws 16th no-hitter in franchise history"
      ],
      "text/plain": [
       "<IPython.core.display.Markdown object>"
      ]
     },
     "metadata": {},
     "output_type": "display_data"
    },
    {
     "data": {
      "text/markdown": [
       " Fromber Valdez threw the 16th no-hitter in Astros franchise history this week, a feat that has only been accomplished five times in the history of the Texas Rangers franchise, which was founded a year earlier in 1961. \n",
       "\n",
       "The Astros have thrown six no-hitters in their 61-year history, while the Rangers have thrown five in their 62-year history. \n",
       "\n",
       "The Dodgers have the most no-hitters in MLB history with 26, followed by the White Sox (20), Red Sox (18), Giants (17), Reds (17), and Cubs (17). \n",
       "\n",
       "Among the Astros greats to throw a no-hitter are Nolan Ryan, Mike Scott, Justin Verlander, and the late Don Wilson. \n",
       "\n",
       "Over the past five seasons, the Astros have thrown the most no-hitters in Major League Baseball history, with five. \n",
       "\n",
       "Starters in the NBA have become more risk-averse, tasked with the low bar of \"just don't lose the game, we don't need you to win it, just don't lose it.\" \n",
       "\n",
       "In other news, Luka Doncic recently announced his engagement, and his former Villanova teammate Jalen Brunson got married last weekend. \n",
       "\n",
       "Brunson tied the knot with his long-time girlfriend Ali Marx in Chicago, with friend and former Villanova teammate Ryan Arcidiacono officiating the ceremony. \n",
       "\n",
       "Many of Brunson's current New York Knicks teammates attended the wedding. \n",
       "\n",
       "58 Texas-born golfers have made at least one cut at a PGA event in the last 10 years, second only to California (85). \n",
       "\n",
       "Texas has produced the most players in the top 50 of the all-time wins list with seven. \n",
       "\n",
       "Ben Hogan leads the list with 64 wins, followed by Byron Nelson (52), Lloyd Mangrum (36), Jimmy Demaret (31), Lee Trevino (29), and Ben Crenshaw and Tom Kite (19 each)."
      ],
      "text/plain": [
       "<IPython.core.display.Markdown object>"
      ]
     },
     "metadata": {},
     "output_type": "display_data"
    },
    {
     "name": "stdout",
     "output_type": "stream",
     "text": [
      "------------------------\n"
     ]
    },
    {
     "data": {
      "text/markdown": [
       "###  Ben Hogan dominates Colonial; Sean Avery cameos in Oppenheimer; Norm Hitzkis honored"
      ],
      "text/plain": [
       "<IPython.core.display.Markdown object>"
      ]
     },
     "metadata": {},
     "output_type": "display_data"
    },
    {
     "data": {
      "text/markdown": [
       " Ben Hogan is the most successful golfer in Colonial National Invitation Tournament history, with six wins. Byron Nelson is second with five wins, followed by Lloyd Mangrum with three wins. Jimmy Demaret, Lee Trevino, Ben Crenshaw, and Tom Kite have each won the tournament twice.\n",
       "\n",
       "In other news, former Dallas Stars player Sean Avery has a minor role in the new movie Oppenheimer. Avery appears on screen with Cillian Murphy and Matt Damon while the atomic bomb crew is running tests in New Mexico. \n",
       "\n",
       "Avery has always been interested in acting and has appeared in a few films during his playing days. He is known for being a controversial player and for his romantic life.\n",
       "\n",
       "Finally, Norm Hitskis, a longtime sports radio personality in Dallas, was recently honored before a Rangers game and in Peter King's weekly column for his 48-year career in sports radio. Hitskis is known for his encyclopedic knowledge of sports and his entertaining interviews."
      ],
      "text/plain": [
       "<IPython.core.display.Markdown object>"
      ]
     },
     "metadata": {},
     "output_type": "display_data"
    },
    {
     "name": "stdout",
     "output_type": "stream",
     "text": [
      "------------------------\n"
     ]
    },
    {
     "data": {
      "text/markdown": [
       "###  Doris Burke joins ESPN and ABC, Norm Hitskas retires after 48 years, and Jakez Williams arrested for robbery"
      ],
      "text/plain": [
       "<IPython.core.display.Markdown object>"
      ]
     },
     "metadata": {},
     "output_type": "display_data"
    },
    {
     "data": {
      "text/markdown": [
       " Doris Burke is a well-respected sportscaster who has been in the industry for many years. She is known for her insightful commentary and her ability to connect with viewers. Recently, ESPN and ABC announced that she would be joining their broadcast team for NBA games. This is a great opportunity for Burke, and she is sure to excel in her new role.\n",
       "\n",
       "In other news, Norm Hitskas, a legendary sportscaster in Dallas, has retired after 48 years on the air. Hitskas is known for his passion for sports and his dedication to his community. He has raised over $8 million for the Austin Street Center for the Homeless through his annual fundraiser. He will be missed by many, but his legacy will live on.\n",
       "\n",
       "Finally, Jakez Williams, a 26-year-old man, was arrested in Miami for robbing a 68-year-old woman. Williams took the woman's purse, wallet, and checkbook. He is currently being held in jail and awaiting trial."
      ],
      "text/plain": [
       "<IPython.core.display.Markdown object>"
      ]
     },
     "metadata": {},
     "output_type": "display_data"
    },
    {
     "name": "stdout",
     "output_type": "stream",
     "text": [
      "------------------------\n"
     ]
    },
    {
     "data": {
      "text/markdown": [
       "###  1.  Robbery, Grand Theft, and Criminal Use of Personal Identification Information\n",
       "2.  Jim's Marital Problems\n",
       "3.  Emergency Break of the Week"
      ],
      "text/plain": [
       "<IPython.core.display.Markdown object>"
      ]
     },
     "metadata": {},
     "output_type": "display_data"
    },
    {
     "data": {
      "text/markdown": [
       " Williams robbed a 68-year-old Miami woman, taking her purse which contained her wallet and checkbook. He then attempted to go on a shopping spree, but when he tried to check out at the register of a big box store, he wrote a check from the woman's checkbook. Then when asked to present ID, he produced the woman's Florida driver's license, which he had gotten from her wallet that he stole. Williams was arrested and charged with robbery, grand theft, and criminal use of personal identification information.\n",
       "\n",
       "Jim is having trouble in his marriage. His wife seems to always be angry with him. Jim decided to pay his therapist a visit before he went home. The therapist advised Jim to spend more time with his wife.\n",
       "\n",
       "Jim goes home and tells his wife that he likes the dinner she made. She gets upset and tells him that she's been cooking for him for 21 years and he's never appreciated it. She says that the one day she gets food from the neighbors, he likes it.\n",
       "\n",
       "The host thanks the listeners for tuning in to Friday Morning Scatter Shooting. The next segment will be the \"Emergency Break of the Week\" and will feature a frog, confusion, and a fake f-bomb."
      ],
      "text/plain": [
       "<IPython.core.display.Markdown object>"
      ]
     },
     "metadata": {},
     "output_type": "display_data"
    },
    {
     "name": "stdout",
     "output_type": "stream",
     "text": [
      "------------------------\n"
     ]
    },
    {
     "data": {
      "text/markdown": [
       "###  Today in Texas"
      ],
      "text/plain": [
       "<IPython.core.display.Markdown object>"
      ]
     },
     "metadata": {},
     "output_type": "display_data"
    },
    {
     "data": {
      "text/markdown": [
       " Today in Texas, there is a heat wave.  If you sign up for TXU, you can save money.  There was an accident on 287 Northbound approaching i-30 in Fort Worth.  The accident has been cleared and traffic is moving freely.  In Plano, 75 Northbound at the Bush Turnpike had a disabled vehicle blocking the HOV lane, but that has been cleared and traffic is moving freely.  A man died in a toilet.  He had gotten up in the toilet, fell forward, and bit his tongue in half.  His tongue was found still moving and singing.  One of the hosts, Mike, is on drugs.  Ty Walker is a candidate for an unspecified position.  He is known for his catchphrase \"Ty for a huge matchup next on the top 10.\""
      ],
      "text/plain": [
       "<IPython.core.display.Markdown object>"
      ]
     },
     "metadata": {},
     "output_type": "display_data"
    },
    {
     "name": "stdout",
     "output_type": "stream",
     "text": [
      "------------------------\n"
     ]
    },
    {
     "data": {
      "text/markdown": [
       "# DRAFT 3"
      ],
      "text/plain": [
       "<IPython.core.display.Markdown object>"
      ]
     },
     "metadata": {},
     "output_type": "display_data"
    },
    {
     "data": {
      "text/markdown": [
       "###  Cowboys have no chemistry issues"
      ],
      "text/plain": [
       "<IPython.core.display.Markdown object>"
      ]
     },
     "metadata": {},
     "output_type": "display_data"
    },
    {
     "data": {
      "text/markdown": [
       " There was a recent incident in practice where Stefon Diggs and Dak Prescott had a verbal altercation.  Some people believe that this incident is a sign of tension between Diggs and Prescott.  Head coach Mike McCarthy downplayed the incident, saying that it is normal for teammates to talk trash to each other in practice.  Overall, it appears that the incident between Diggs and Prescott was just a minor disagreement that has been blown out of proportion by the media.  Trash-talking is part of the environment in the NFL.  Chemistry issues usually surface after a bad start to the regular season.  The Cowboys may have had a chemistry issue two years ago when they faced the 49ers in the playoffs.  The Cowboys seem to have cured their chemistry issue last year.  The Cowboys seem more confident and together than any team in recent memory.  Mike McCarthy and Will McClay deserve credit for this, as they have drafted players like Dax who fit this mold.  The text suggests that the Dallas Cowboys have intentionally built a team of players who are not only talented, but also have good character.  The author believes that the Dallas Cowboys do not have a chemistry problem."
      ],
      "text/plain": [
       "<IPython.core.display.Markdown object>"
      ]
     },
     "metadata": {},
     "output_type": "display_data"
    },
    {
     "name": "stdout",
     "output_type": "stream",
     "text": [
      "------------------------\n"
     ]
    },
    {
     "data": {
      "text/markdown": [
       "###  Are the Dallas Cowboys Having Chemistry Issues?"
      ],
      "text/plain": [
       "<IPython.core.display.Markdown object>"
      ]
     },
     "metadata": {},
     "output_type": "display_data"
    },
    {
     "data": {
      "text/markdown": [
       " Are the Dallas Cowboys Having Chemistry Issues?\n",
       "\n",
       "The Dallas Cowboys are one of the most popular and successful NFL teams in history. However, they have not won a Super Bowl since 1995. Some people believe that the Cowboys' lack of recent success is due to chemistry issues within the team.\n",
       "\n",
       "Local beat riders are more likely to have inside information about the Cowboys and their chemistry issues. National sites are more likely to publish clickbait headlines without any substance. However, there are a few national reporters, such as Peter King, who are highly respected and have good sources.\n",
       "\n",
       "If you just see a clickbait headline about Cowboys chemistry issues and there's nothing being reported locally about it, it's probably not a story. However, if there are multiple reports from local beat riders about chemistry issues, then there may be something to the story.\n",
       "\n",
       "The Cowboys may have a chemistry problem. However, it is important to remember that chemistry issues are not always the cause of a team's lack of success. There are many other factors that can contribute to a team's success or failure, such as coaching, injuries, and luck."
      ],
      "text/plain": [
       "<IPython.core.display.Markdown object>"
      ]
     },
     "metadata": {},
     "output_type": "display_data"
    },
    {
     "name": "stdout",
     "output_type": "stream",
     "text": [
      "------------------------\n"
     ]
    },
    {
     "data": {
      "text/markdown": [
       "###  Today's Headlines"
      ],
      "text/plain": [
       "<IPython.core.display.Markdown object>"
      ]
     },
     "metadata": {},
     "output_type": "display_data"
    },
    {
     "data": {
      "text/markdown": [
       " It is vital to be prepared for storms by having a contractor in place before one hits. Storms can cause damage to many things, including roofing, air conditioning units, siding, and windows. By being prepared, you can reduce the anxiety that comes with needing a contractor at the last minute.\n",
       "\n",
       "Earlier accident on I35 northbound at Dezing Curve has been cleared but traffic is still slow from Keish Boulevard. Accident on 635 southbound at Oats Drive involving an 18 wheeler has been cleared and traffic is unwinding from Ferguson Road. Fort Worth is currently incident free.\n",
       "\n",
       "The Fort Worth Rangers swept the Chicago White Sox 18-4. Dane Dunning, Martin Perez, and Max Scherzer all earned wins. After allowing a three-run first, Scherzer struck out nine in six innings yesterday afternoon and retired 13 of the last 14 batters he faced. He said, \"You find out about yourself when things don't break your way...It's then what you do then, that's when you find out who you are about a pitcher.\"\n",
       "\n",
       "The Chicago White Sox defeated the Texas Rangers by a score of 18-4. Andreeni, Dane Dunning, and Max Sherser all earned wins for the White Sox. Sherser struck out nine batters in six innings and retired 13 of the last 14 batters he faced.\n",
       "\n",
       "In other news, Big 12 executives met Thursday to approve an application for Arizona to join the conference. The Arizona Board of Regents reportedly met last night to vote on the move. A formal approval is expected to be finalized soon.\n",
       "\n",
       "Finally, Cowboy's defensive tackle OSO Digizua will join users live from training camp in Oxnard at 8:55 this morning."
      ],
      "text/plain": [
       "<IPython.core.display.Markdown object>"
      ]
     },
     "metadata": {},
     "output_type": "display_data"
    },
    {
     "name": "stdout",
     "output_type": "stream",
     "text": [
      "------------------------\n"
     ]
    },
    {
     "data": {
      "text/markdown": [
       "###  Texas Heat Wave: People Are Cooking Food on the Sidewalk"
      ],
      "text/plain": [
       "<IPython.core.display.Markdown object>"
      ]
     },
     "metadata": {},
     "output_type": "display_data"
    },
    {
     "data": {
      "text/markdown": [
       " **Texas Heat Wave: People Are Cooking Food on the Sidewalk**\n",
       "\n",
       "Texas is currently experiencing a heat wave with temperatures reaching up to 107 degrees Fahrenheit. In response, people are posting videos online of baking bread and cookies, popping popcorn, and frying eggs on the sidewalk. However, experts warn that these foods are not thoroughly cooked and should not be eaten. The heat wave is expected to last for the next week.\n",
       "\n",
       "July 2023 was the hottest month on record across the globe, with temperatures reaching 126 degrees Fahrenheit in China and 128 degrees Fahrenheit in Death Valley. The heat wave is caused by a rash of intense heat domes that have been sprawling across the northern hemisphere. The heat wave has also affected Asia, southern Europe, northern Africa, and North America.\n",
       "\n",
       "In the United States, Phoenix had a record-breaking 31 straight days of temperatures reaching 110 degrees or higher. El Paso had 44 days in a row at or above 100 degrees. Miami had 46 straight days with a heat index over 100 degrees.\n",
       "\n",
       "The heat wave is having a significant impact on people's lives. Many people are staying indoors and avoiding going outside. Those who do go outside are taking precautions, such as wearing sunscreen, drinking plenty of water, and seeking shade.\n",
       "\n",
       "The heat wave is also having an impact on the economy. Gas prices in North Texas could rise due to Saudi Arabia's decision to extend its unilateral production cut of 1 million barrels of oil per day. This could lead to higher gas prices in North Texas, where the average price per gallon is currently around $3.58.\n",
       "\n",
       "The high cost of gas and cigarettes in Dallas, Fort Worth, and California was also discussed."
      ],
      "text/plain": [
       "<IPython.core.display.Markdown object>"
      ]
     },
     "metadata": {},
     "output_type": "display_data"
    },
    {
     "name": "stdout",
     "output_type": "stream",
     "text": [
      "------------------------\n"
     ]
    },
    {
     "data": {
      "text/markdown": [
       "###  California vs. Texas: Which is More Affordable?"
      ],
      "text/plain": [
       "<IPython.core.display.Markdown object>"
      ]
     },
     "metadata": {},
     "output_type": "display_data"
    },
    {
     "data": {
      "text/markdown": [
       " The cost of living in California is among the highest in the United States, and housing is a major factor. The median home price in California is over $600,000, more than double the national median. Property taxes are also high, with California having the highest effective property tax rate in the country. \n",
       "\n",
       "     One alternative to California is Texas, which has a lower cost of living. The median home price in Texas is around $250,000, and property taxes are lower. However, Texas does not have a state income tax, which means that residents pay more in state income taxes than they would in California. \n",
       "\n",
       "     Another factor to consider is the cost of cigarettes. Cigarettes are more expensive in California than in Texas. A pack of cigarettes costs around $7.62 in California, while it costs around $6.21 in Texas. \n",
       "\n",
       "     Ultimately, the decision of whether to live in California or Texas depends on a variety of factors, including housing costs, property taxes, and the cost of cigarettes."
      ],
      "text/plain": [
       "<IPython.core.display.Markdown object>"
      ]
     },
     "metadata": {},
     "output_type": "display_data"
    },
    {
     "name": "stdout",
     "output_type": "stream",
     "text": [
      "------------------------\n"
     ]
    },
    {
     "data": {
      "text/markdown": [
       "###  Incredible Stories"
      ],
      "text/plain": [
       "<IPython.core.display.Markdown object>"
      ]
     },
     "metadata": {},
     "output_type": "display_data"
    },
    {
     "data": {
      "text/markdown": [
       "  A former elementary school teacher was attacked in her home by a young man. She bravely defended herself with a chair and then offered to make him food. While he was eating, she called the cops. In a separate story, a shrimp fisherman in the Netherlands lost an earring at sea 23 years ago. Another boat found the earring on their deck 23 years later and posted a picture of it on social media. The original owner saw the post and was reunited with his earring. \n",
       "In another incredible story, a man found a message in a bottle that had been thrown overboard 36 years earlier. The author used to throw messages in bottles into the ocean as a child, and they never got a response. The author thinks it would be cool to find a message in a bottle. \n",
       "Lastly, a man received a letter that was likely damaged by his neighbor's tree.  Two men got into an argument at a Sonic and Tolsa.  One of the men picked up a flag pole with an American flag on it and ran it through the other guy's head.  The victim survived but will likely lose an eye."
      ],
      "text/plain": [
       "<IPython.core.display.Markdown object>"
      ]
     },
     "metadata": {},
     "output_type": "display_data"
    },
    {
     "name": "stdout",
     "output_type": "stream",
     "text": [
      "------------------------\n"
     ]
    },
    {
     "data": {
      "text/markdown": [
       "###  Evolution of Quarterback Usage in the NFL"
      ],
      "text/plain": [
       "<IPython.core.display.Markdown object>"
      ]
     },
     "metadata": {},
     "output_type": "display_data"
    },
    {
     "data": {
      "text/markdown": [
       " Quarterback Usage in the NFL: A Look at the Evolution of the Position\n",
       "\n",
       "The NFL has seen a significant evolution in the usage of quarterbacks over the past decade. In 2010, quarterbacks accounted for only 11% of all rushing touchdowns in the league. Last season, that number had jumped to 20.1%. This trend is likely due to the increasing importance of mobility and athleticism in the quarterback position.\n",
       "\n",
       "This trend is also reflected in the sales of officially licensed player products. Quarterbacks now lead the NFL in sales, with Patrick Mahomes leading the league in sales during the first quarter of the new NFL calendar. This suggests that the trend is shifting towards dual-threat signal callers, and that the importance of running backs may be declining.\n",
       "\n",
       "The Cowboys are no exception to this trend. Three Cowboys made the top 10 in sales of officially licensed player products, with Dak Prescott at number 7 and CeeDee Lamb at number 9. Interestingly, a lot of people are also wearing jersey number 11, which is most likely a nod to former Cowboys quarterback Danny White. White is still in the top 10 in jersey sales, even though he retired over 30 years ago.\n",
       "\n",
       "The evolution of quarterback usage in the NFL is a fascinating one to watch. It will be interesting to see how the position continues to change in the years to come."
      ],
      "text/plain": [
       "<IPython.core.display.Markdown object>"
      ]
     },
     "metadata": {},
     "output_type": "display_data"
    },
    {
     "name": "stdout",
     "output_type": "stream",
     "text": [
      "------------------------\n"
     ]
    },
    {
     "data": {
      "text/markdown": [
       "###  Astros' Valdez throws 16th no-hitter in franchise history"
      ],
      "text/plain": [
       "<IPython.core.display.Markdown object>"
      ]
     },
     "metadata": {},
     "output_type": "display_data"
    },
    {
     "data": {
      "text/markdown": [
       " Fromber Valdez threw the 16th no-hitter in Astros franchise history this week, a feat that has only been accomplished five times in the history of the Texas Rangers franchise, which was founded a year earlier in 1961. \n",
       "\n",
       "The Astros have thrown six no-hitters in their 61-year history, while the Rangers have thrown five in their 62-year history. \n",
       "\n",
       "The Dodgers have the most no-hitters in MLB history with 26, followed by the White Sox (20), Red Sox (18), Giants (17), Reds (17), and Cubs (17). \n",
       "\n",
       "Among the Astros greats to throw a no-hitter are Nolan Ryan, Mike Scott, Justin Verlander, and the late Don Wilson. \n",
       "\n",
       "Over the past five seasons, the Astros have thrown the most no-hitters in Major League Baseball history, with five. \n",
       "\n",
       "Starters in the NBA have become more risk-averse, tasked with the low bar of \"just don't lose the game, we don't need you to win it, just don't lose it.\" \n",
       "\n",
       "In other news, Luka Doncic recently announced his engagement, and his former Villanova teammate Jalen Brunson got married last weekend. \n",
       "\n",
       "Brunson tied the knot with his long-time girlfriend Ali Marx in Chicago, with friend and former Villanova teammate Ryan Arcidiacono officiating the ceremony. \n",
       "\n",
       "Many of Brunson's current New York Knicks teammates attended the wedding. \n",
       "\n",
       "58 Texas-born golfers have made at least one cut at a PGA event in the last 10 years, second only to California (85). \n",
       "\n",
       "Texas has produced the most players in the top 50 of the all-time wins list with seven. \n",
       "\n",
       "Ben Hogan leads the list with 64 wins, followed by Byron Nelson (52), Lloyd Mangrum (36), Jimmy Demaret (31), Lee Trevino (29), and Ben Crenshaw and Tom Kite (19 each)."
      ],
      "text/plain": [
       "<IPython.core.display.Markdown object>"
      ]
     },
     "metadata": {},
     "output_type": "display_data"
    },
    {
     "name": "stdout",
     "output_type": "stream",
     "text": [
      "------------------------\n"
     ]
    },
    {
     "data": {
      "text/markdown": [
       "###  Ben Hogan Tops Colonial; Sean Avery in Oppenheimer; Norm Hitzkis Honored"
      ],
      "text/plain": [
       "<IPython.core.display.Markdown object>"
      ]
     },
     "metadata": {},
     "output_type": "display_data"
    },
    {
     "data": {
      "text/markdown": [
       " Ben Hogan is the most successful golfer in Colonial National Invitation Tournament history, with six victories. Byron Nelson is second with five wins, followed by Lloyd Mangrum with three, Jimmy Demaret with three, Lee Trevino with two, and Ben Crenshaw and Tom Kite with one each.\n",
       "\n",
       "In other news, former Dallas Stars player Sean Avery has a minor role in the new movie Oppenheimer. Avery appears on screen with Cillian Murphy and Matt Damon while the atomic bomb crew is running tests in New Mexico. \n",
       "\n",
       "Avery has always been interested in acting and has appeared in a few films during his playing days. He is known for being a controversial player and for his romantic life.\n",
       "\n",
       "Finally, Norm Hitskis, a longtime sports radio personality in Dallas, was recently honored before a Rangers game and in Peter King's weekly column for his 48-year career in sports radio. Hitskis is known for his encyclopedic knowledge of sports and his entertaining interviews."
      ],
      "text/plain": [
       "<IPython.core.display.Markdown object>"
      ]
     },
     "metadata": {},
     "output_type": "display_data"
    },
    {
     "name": "stdout",
     "output_type": "stream",
     "text": [
      "------------------------\n"
     ]
    },
    {
     "data": {
      "text/markdown": [
       "###  Doris Burke joins ESPN and ABC, Norm Hitskas retires, and Jakez Williams robs elderly woman"
      ],
      "text/plain": [
       "<IPython.core.display.Markdown object>"
      ]
     },
     "metadata": {},
     "output_type": "display_data"
    },
    {
     "data": {
      "text/markdown": [
       " Doris Burke is a well-respected sportscaster who has been in the industry for many years. She is known for her insightful commentary and her ability to connect with viewers. Recently, ESPN and ABC announced that she would be joining their broadcast team for NBA games. This is a great opportunity for Burke, and she is sure to excel in this new role.\n",
       "\n",
       "In other news, Norm Hitskas retired after 48 years on Sports Radio in Dallas. Hitskas was known for his enduring care for people struggling in life, and he raised over $8 million for the Austin Street Center for the homeless through his annual fundraiser. He will be missed by his colleagues and listeners alike.\n",
       "\n",
       "Finally, Jakez Williams robbed a 68-year-old woman in Miami. He took her purse, wallet, and checkbook. Williams was later arrested and charged with robbery. This is a reminder to be aware of your surroundings and to take precautions to protect yourself from crime."
      ],
      "text/plain": [
       "<IPython.core.display.Markdown object>"
      ]
     },
     "metadata": {},
     "output_type": "display_data"
    },
    {
     "name": "stdout",
     "output_type": "stream",
     "text": [
      "------------------------\n"
     ]
    },
    {
     "data": {
      "text/markdown": [
       "###  Armed Robbery, Marital Problems, and Friday Morning Scatter Shooting"
      ],
      "text/plain": [
       "<IPython.core.display.Markdown object>"
      ]
     },
     "metadata": {},
     "output_type": "display_data"
    },
    {
     "data": {
      "text/markdown": [
       " Williams robbed a 68-year-old Miami woman, taking her purse which contained her wallet and checkbook. He then attempted to go on a shopping spree, but when he tried to check out at the register of a big box store, he wrote a check from the woman's checkbook. Then when asked to present ID, he produced the woman's Florida driver's license, which he had gotten from her wallet that he stole. Williams was arrested and charged with robbery, grand theft, and criminal use of personal identification information.\n",
       "\n",
       "Jim is having trouble in his marriage. His wife seems to always be angry with him. Jim decided to pay his therapist a visit before he went home. The therapist advised Jim to spend more time with his wife.\n",
       "\n",
       "Jim goes home and tells his wife that he likes the dinner she made. She gets upset and tells him that she's been cooking for him for 21 years and he's never appreciated it. She says that the one day she gets food from the neighbors, he likes it.\n",
       "\n",
       "The host thanks the listeners for tuning in to Friday Morning Scatter Shooting. The next segment will be the \"Emergency Break of the Week\" and will feature a frog, confusion, and a fake f-bomb."
      ],
      "text/plain": [
       "<IPython.core.display.Markdown object>"
      ]
     },
     "metadata": {},
     "output_type": "display_data"
    },
    {
     "name": "stdout",
     "output_type": "stream",
     "text": [
      "------------------------\n"
     ]
    },
    {
     "data": {
      "text/markdown": [
       "###  Modern-Day Marriage Proposal Gone Wrong"
      ],
      "text/plain": [
       "<IPython.core.display.Markdown object>"
      ]
     },
     "metadata": {},
     "output_type": "display_data"
    },
    {
     "data": {
      "text/markdown": [
       " 250 word blog post:\n",
       "  \n",
       "The post begins by stating that certain products are not intended to diagnose, treat, cure, or prevent any disease or illness. It then provides an example of a modern-day marriage proposal, in which the participants use their smartphones to record the event.  A young man professes his love to a woman through text message. She accepts, and they exchange kissing emojis and hearts. The man then puts his phone down, shocking the observer..  The key points of the text are: 1. There is a heat wave in Texas. 2. You can save money by signing up for TXU. 3. There was an accident on 287 Northbound approaching i-30 in Fort Worth. 4. The accident has been cleared and traffic is moving freely..  287 Northbound approaching i-30 has been cleared and traffic is moving freely. In Plano, 75 Northbound at the Bush Turnpike had a disabled vehicle blocking the HOV lane, but that has been cleared and traffic is moving freely..  The text is about a man who died in a toilet. He had gotten up in the toilet, fell forward, and bit his tongue in half. His tongue was found still moving and singing. The text also mentions that Mike, one of the hosts, is on drugs..  Ty Walker is a candidate for an unspecified position. He is known for his catchphrase \"Ty for a huge matchup next on the top 10.\""
      ],
      "text/plain": [
       "<IPython.core.display.Markdown object>"
      ]
     },
     "metadata": {},
     "output_type": "display_data"
    },
    {
     "name": "stdout",
     "output_type": "stream",
     "text": [
      "------------------------\n"
     ]
    }
   ],
   "source": [
    "import IPython\n",
    "for i in range(len(drafts)):\n",
    "    display(IPython.display.Markdown('# DRAFT ' + str(drafts[i][0])))\n",
    "    for j in range(len(drafts[i][1])):\n",
    "        if drafts[i][1][j] != \"\":\n",
    "            if drafts[i][2][j] != \"\":\n",
    "                display(IPython.display.Markdown('### ' + drafts[i][1][j]))\n",
    "                display(IPython.display.Markdown(drafts[i][2][j]))\n",
    "                #print(drafts[i][2][j])\n",
    "                print('------------------------')"
   ]
  },
  {
   "cell_type": "markdown",
   "metadata": {
    "jp-MarkdownHeadingCollapsed": true,
    "tags": []
   },
   "source": [
    "## UI (WIP)"
   ]
  },
  {
   "cell_type": "code",
   "execution_count": 199,
   "metadata": {},
   "outputs": [],
   "source": [
    "def upload_file(file):\n",
    "    file_path = file.name\n",
    "    file_name = os.path.basename(file_path)\n",
    "    bucket = gcs.bucket(GCS_BUCKET)\n",
    "    blob = bucket.blob(f'audio_data/cumulus/{file_name}')\n",
    "    blob.upload_from_filename(f'{file_path}')\n",
    "    #print(\"Uploaded\")\n",
    "    \n",
    "    gcs_path = f'gs://{GCS_BUCKET}/{blob.name}'\n",
    "    \n",
    "    return gcs_path\n",
    "    \n",
    "#with gr.Blocks() as demo:\n",
    "#    file_output = gr.File()\n",
    "#    upload_button = gr.UploadButton(\"Click to Upload a File\", file_types=[\"audio\"])\n",
    "#    upload_button.upload(upload_file, upload_button, file_output)\n",
    "\n",
    "#demo.launch(share=False, debug=False)"
   ]
  },
  {
   "cell_type": "code",
   "execution_count": null,
   "metadata": {},
   "outputs": [],
   "source": [
    "# create a function that pulls all the steps together\n",
    "def article_builder(gcs_uri):\n",
    "    "
   ]
  },
  {
   "cell_type": "code",
   "execution_count": 187,
   "metadata": {},
   "outputs": [
    {
     "data": {
      "text/plain": [
       "[['audio_data/cumulus/KTCKFMAirMonitor-23-2023-08-04_07-00-01-288.mp3',\n",
       "  'audio/mpeg',\n",
       "  'gs://mg-ce-demos/audio_data/cumulus/KTCKFMAirMonitor-23-2023-08-04_07-00-01-288.mp3']]"
      ]
     },
     "execution_count": 187,
     "metadata": {},
     "output_type": "execute_result"
    }
   ],
   "source": [
    "get_audio_data('mg-ce-demos')"
   ]
  },
  {
   "cell_type": "code",
   "execution_count": 201,
   "metadata": {},
   "outputs": [
    {
     "name": "stdout",
     "output_type": "stream",
     "text": [
      "Running on local URL:  http://127.0.0.1:7892\n",
      "\n",
      "To create a public link, set `share=True` in `launch()`.\n"
     ]
    },
    {
     "data": {
      "text/html": [
       "<div><iframe src=\"http://127.0.0.1:7892/\" width=\"100%\" height=\"500\" allow=\"autoplay; camera; microphone; clipboard-read; clipboard-write;\" frameborder=\"0\" allowfullscreen></iframe></div>"
      ],
      "text/plain": [
       "<IPython.core.display.HTML object>"
      ]
     },
     "metadata": {},
     "output_type": "display_data"
    }
   ],
   "source": [
    "import gradio as gr\n",
    "\n",
    "demo = gr.Blocks()\n",
    "\n",
    "with demo:\n",
    "    audio_file = gr.Audio(type=\"filepath\")\n",
    "    text = gr.Textbox()\n",
    "    label = gr.Label()\n",
    "\n",
    "    b1 = gr.Button(\"Upload\")\n",
    "    b2 = gr.Button(\"Get GCS URI\")\n",
    "    b3 = gr.Button(\"Create Articles\")\n",
    "\n",
    "    b1.click(upload_file, inputs=audio_file, outputs=text)\n",
    "    b2.click(get_audio_data, inputs=text, outputs=label)\n",
    "\n",
    "if __name__ == \"__main__\":\n",
    "    demo.launch()"
   ]
  },
  {
   "cell_type": "code",
   "execution_count": 194,
   "metadata": {},
   "outputs": [
    {
     "name": "stdout",
     "output_type": "stream",
     "text": [
      "Running on local URL:  http://127.0.0.1:7887\n",
      "\n",
      "To create a public link, set `share=True` in `launch()`.\n"
     ]
    },
    {
     "data": {
      "text/html": [
       "<div><iframe src=\"http://127.0.0.1:7887/\" width=\"100%\" height=\"500\" allow=\"autoplay; camera; microphone; clipboard-read; clipboard-write;\" frameborder=\"0\" allowfullscreen></iframe></div>"
      ],
      "text/plain": [
       "<IPython.core.display.HTML object>"
      ]
     },
     "metadata": {},
     "output_type": "display_data"
    },
    {
     "data": {
      "text/plain": []
     },
     "execution_count": 194,
     "metadata": {},
     "output_type": "execute_result"
    }
   ],
   "source": [
    "\n",
    "with gr.Blocks() as demo:\n",
    "    gr.Markdown(\n",
    "    \"\"\"\n",
    "    ## Audio to Articles\n",
    "    \"\"\")\n",
    "    #with gr.Row():\n",
    "    #    file_output = gr.File()\n",
    "    #    upload_button = gr.UploadButton(\"Click to Transcribe and Draft Articles\", file_types=[\"audio\"])\n",
    "    #    upload_button.upload(upload_file, upload_button, file_output)  \n",
    "        \n",
    "    with gr.Row():\n",
    "        with gr.Column():\n",
    "            input_text = gr.Textbox(label=\"Task\", placeholder=\"Cloud Bucket Name\")\n",
    "    \n",
    "    with gr.Row():\n",
    "        find_gcs_uri = gr.Button(\"Select Audio File\")\n",
    "        \n",
    "    with gr.Row():\n",
    "        label1 = gr.Textbox(label=\"GCS URI\")\n",
    "        \n",
    "    #with gr.Row():\n",
    "    #    generate = gr.Button(\"Generate Response\")\n",
    "\n",
    "    #with gr.Row():\n",
    "    #    label2 = gr.Textbox(label=\"Prompt\")\n",
    "    #with gr.Row():\n",
    "    #    label3 = gr.Textbox(label=\"Response generated by LLM\")\n",
    "\n",
    "    generate.click(get_audio_data, input_text, label1)\n",
    "    \n",
    "demo.launch(share=False, debug=False)"
   ]
  },
  {
   "cell_type": "code",
   "execution_count": null,
   "metadata": {},
   "outputs": [],
   "source": []
  }
 ],
 "metadata": {
  "kernelspec": {
   "display_name": "Python 3 (ipykernel)",
   "language": "python",
   "name": "python3"
  },
  "language_info": {
   "codemirror_mode": {
    "name": "ipython",
    "version": 3
   },
   "file_extension": ".py",
   "mimetype": "text/x-python",
   "name": "python",
   "nbconvert_exporter": "python",
   "pygments_lexer": "ipython3",
   "version": "3.9.6"
  },
  "vscode": {
   "interpreter": {
    "hash": "d228f8d1b134e326a52396b2016d42a4e7c84199cf5eb27412c1836171e03131"
   }
  }
 },
 "nbformat": 4,
 "nbformat_minor": 4
}
