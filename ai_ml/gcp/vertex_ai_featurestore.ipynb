{
 "cells": [
  {
   "cell_type": "markdown",
   "id": "407bcb3d",
   "metadata": {},
   "source": [
    "## **Featurestore Terminology and Concepts**\n",
    "\n",
    "### Featurestore Data model\n",
    "\n",
    "Feature Store organizes data with the following 3 important hierarchical concepts:\n",
    "```\n",
    "Featurestore -> EntityType -> Feature\n",
    "```\n",
    "* **Featurestore**: the place to store your features\n",
    "* **EntityType**: under a Featurestore, an *EntityType* describes an object to be modeled, real one or virtual one.\n",
    "* **Feature**: under an EntityType, a *feature* describes an attribute of the EntityType"
   ]
  },
  {
   "cell_type": "code",
   "execution_count": 1,
   "id": "edbc34e5",
   "metadata": {},
   "outputs": [],
   "source": [
    "# User Inputs / Configuration\n",
    "\n",
    "PROJECT_ID = \"mg-ce-demos\"\n",
    "API_ENDPOINT = \"us-central1-aiplatform.googleapis.com\" \n",
    "INPUT_CSV_FILE = \"gs://cloud-samples-data-us-central1/ai-platform-unified/datasets/featurestore/movie_prediction.csv\"\n",
    "\n",
    "DESTINATION_DATA_SET = \"movie_predictions\"  \n",
    "DESTINATION_TABLE_NAME = \"fs_movie_training_data\"\n",
    "REGION = \"us-central1\""
   ]
  },
  {
   "cell_type": "markdown",
   "id": "03d1589d",
   "metadata": {},
   "source": [
    "### View movie dataset (movie_prediction.csv)"
   ]
  },
  {
   "cell_type": "code",
   "execution_count": 2,
   "id": "b0076f76",
   "metadata": {},
   "outputs": [
    {
     "name": "stdout",
     "output_type": "stream",
     "text": [
      "\n",
      "\n",
      "Updates are available for some Google Cloud CLI components.  To install them,\n",
      "please run:\n",
      "  $ gcloud components update\n",
      "\n",
      "Copying gs://cloud-samples-data-us-central1/ai-platform-unified/datasets/featurestore/movie_prediction.csv...\n",
      "/ [1 files][  255.0 B/  255.0 B]                                                \n",
      "Operation completed over 1 objects/255.0 B.                                      \n"
     ]
    }
   ],
   "source": [
    "!gsutil cp $INPUT_CSV_FILE . "
   ]
  },
  {
   "cell_type": "code",
   "execution_count": 3,
   "id": "89761e91",
   "metadata": {},
   "outputs": [
    {
     "name": "stdout",
     "output_type": "stream",
     "text": [
      "users,movies,timestamp\n",
      "\"alice\",\"movie_01\",2021-04-15T08:28:14Z\n",
      "\"bob\",\"movie_02\",2021-04-15T08:28:14Z\n",
      "\"dav\",\"movie_03\",2021-04-15T08:28:14Z\n",
      "\"eve\",\"movie_04\",2021-04-15T08:28:14Z\n",
      "\"alice\",\"movie_03\",2020-02-14T09:35:15Z\n",
      "\"bob\",\"movie_04\",2020-02-14T09:35:15Z\n"
     ]
    }
   ],
   "source": [
    "!head movie_prediction.csv"
   ]
  },
  {
   "cell_type": "markdown",
   "id": "11a8b470",
   "metadata": {},
   "source": [
    "### Import dependencies"
   ]
  },
  {
   "cell_type": "code",
   "execution_count": 4,
   "id": "a5f506d1",
   "metadata": {},
   "outputs": [],
   "source": [
    "import os\n",
    "import sys\n",
    "from datetime import datetime\n",
    "\n",
    "from google.cloud import bigquery\n",
    "from google.cloud.aiplatform_v1beta1 import (FeaturestoreOnlineServingServiceClient, FeaturestoreServiceClient)\n",
    "from google.cloud.aiplatform_v1beta1.types import FeatureSelector, IdMatcher\n",
    "from google.cloud.aiplatform_v1beta1.types import entity_type as entity_type_pb2\n",
    "from google.cloud.aiplatform_v1beta1.types import feature as feature_pb2\n",
    "from google.cloud.aiplatform_v1beta1.types import featurestore as featurestore_pb2\n",
    "from google.cloud.aiplatform_v1beta1.types import featurestore_monitoring as featurestore_monitoring_pb2\n",
    "from google.cloud.aiplatform_v1beta1.types import featurestore_online_service as featurestore_online_service_pb2\n",
    "from google.cloud.aiplatform_v1beta1.types import featurestore_service as featurestore_service_pb2\n",
    "from google.cloud.aiplatform_v1beta1.types import io as io_pb2\n",
    "from google.protobuf.duration_pb2 import Duration\n",
    "\n",
    "# Create admin_client for CRUD and data_client for reading feature values.\n",
    "admin_client = FeaturestoreServiceClient(client_options={\"api_endpoint\": API_ENDPOINT})\n",
    "data_client  = FeaturestoreOnlineServingServiceClient(client_options={\"api_endpoint\": API_ENDPOINT})\n",
    "\n",
    "# Represents featurestore resource path.\n",
    "BASE_RESOURCE_PATH = admin_client.common_location_path(PROJECT_ID, REGION)"
   ]
  },
  {
   "cell_type": "markdown",
   "id": "23c2b1ab",
   "metadata": {},
   "source": [
    "### Create BigQuery dataset for output\n",
    "\n",
    "You need a BigQuery dataset to host the output data in `us-central1`. Input the name of the dataset you want to created and specify the name of the table you want to store the output later. These will be used later in the notebook.\n",
    "\n",
    "**Make sure that the table name does NOT already exist**."
   ]
  },
  {
   "cell_type": "code",
   "execution_count": 5,
   "id": "abd72e12",
   "metadata": {},
   "outputs": [
    {
     "name": "stdout",
     "output_type": "stream",
     "text": [
      "Created dataset mg-ce-demos.movie_predictions_20220623150518\n"
     ]
    }
   ],
   "source": [
    "TIMESTAMP = datetime.now().strftime(\"%Y%m%d%H%M%S\")\n",
    "DESTINATION_DATA_SET = \"{prefix}_{timestamp}\".format(\n",
    "    prefix=DESTINATION_DATA_SET, timestamp=TIMESTAMP\n",
    ")\n",
    "\n",
    "DESTINATION_PATTERN = \"bq://{project}.{dataset}.{table}\"\n",
    "DESTINATION_TABLE_URI = DESTINATION_PATTERN.format(\n",
    "    project=PROJECT_ID, dataset=DESTINATION_DATA_SET, table=DESTINATION_TABLE_NAME\n",
    ")\n",
    "\n",
    "# Create dataset\n",
    "client = bigquery.Client()\n",
    "dataset_id = \"{}.{}\".format(client.project, DESTINATION_DATA_SET)\n",
    "dataset = bigquery.Dataset(dataset_id)\n",
    "dataset.location = REGION\n",
    "dataset = client.create_dataset(dataset, timeout=30)\n",
    "print(\"Created dataset {}.{}\".format(client.project, dataset.dataset_id))"
   ]
  },
  {
   "cell_type": "markdown",
   "id": "f643d8ae",
   "metadata": {},
   "source": [
    "### Create Featurestore\n",
    "\n",
    "The method to create a featurestore returns a\n",
    "[long-running operation](https://google.aip.dev/151) (LRO). An LRO starts an asynchronous job. LROs are returned for other API\n",
    "methods too, such as updating or deleting a featurestore. Calling\n",
    "`create_fs_lro.result()` waits for the LRO to complete."
   ]
  },
  {
   "cell_type": "code",
   "execution_count": 6,
   "id": "c4f2ca42",
   "metadata": {},
   "outputs": [],
   "source": [
    "FEATURESTORE_ID = \"movie_prediction_{timestamp}\".format(timestamp=TIMESTAMP)\n",
    "\n",
    "create_lro = admin_client.create_featurestore(\n",
    "    featurestore_service_pb2.CreateFeaturestoreRequest(\n",
    "        parent=BASE_RESOURCE_PATH,\n",
    "        featurestore_id=FEATURESTORE_ID,\n",
    "        featurestore=featurestore_pb2.Featurestore(\n",
    "            name=\"Featurestore for movie prediction\",\n",
    "            online_serving_config=featurestore_pb2.Featurestore.OnlineServingConfig(\n",
    "                fixed_node_count=3\n",
    "            ),\n",
    "        ),\n",
    "    )\n",
    ")"
   ]
  },
  {
   "cell_type": "code",
   "execution_count": 7,
   "id": "6fabf66b",
   "metadata": {},
   "outputs": [
    {
     "name": "stdout",
     "output_type": "stream",
     "text": [
      "name: \"projects/633472233130/locations/us-central1/featurestores/movie_prediction_20220623150518\"\n",
      "\n"
     ]
    }
   ],
   "source": [
    "# Wait for LRO to finish and get the LRO result.\n",
    "print(create_lro.result())"
   ]
  },
  {
   "cell_type": "code",
   "execution_count": 8,
   "id": "bd070ae1",
   "metadata": {},
   "outputs": [
    {
     "data": {
      "text/plain": [
       "name: \"projects/633472233130/locations/us-central1/featurestores/movie_prediction_20220623150518\"\n",
       "create_time {\n",
       "  seconds: 1656011146\n",
       "  nanos: 363233000\n",
       "}\n",
       "update_time {\n",
       "  seconds: 1656011146\n",
       "  nanos: 488625000\n",
       "}\n",
       "etag: \"AMEw9yOnxbqah_nqKDkEIOyWan9CVC1QfOBwWnQgfkynNZ2OpkWdEQK2fYxbimnZImDP\"\n",
       "online_serving_config {\n",
       "  fixed_node_count: 3\n",
       "}\n",
       "state: STABLE"
      ]
     },
     "execution_count": 8,
     "metadata": {},
     "output_type": "execute_result"
    }
   ],
   "source": [
    "# Use GetFeaturestore or ListFeaturestores to check if the Featurestore was successfully created. \n",
    "# The following example gets the details of the Featurestore.\n",
    "\n",
    "admin_client.get_featurestore(\n",
    "    name=admin_client.featurestore_path(PROJECT_ID, REGION, FEATURESTORE_ID)\n",
    ")"
   ]
  },
  {
   "cell_type": "markdown",
   "id": "090b7f1b",
   "metadata": {},
   "source": [
    "### Create Entity Type\n",
    "You can specify a monitoring config which will by default be inherited by all Features under this EntityType."
   ]
  },
  {
   "cell_type": "code",
   "execution_count": 9,
   "id": "22cbd5b7",
   "metadata": {},
   "outputs": [
    {
     "name": "stdout",
     "output_type": "stream",
     "text": [
      "name: \"projects/633472233130/locations/us-central1/featurestores/movie_prediction_20220623150518/entityTypes/users\"\n",
      "\n"
     ]
    }
   ],
   "source": [
    "# Create users entity type with monitoring enabled.\n",
    "# All Features belonging to this EntityType will by default inherit the monitoring config.\n",
    "users_entity_type_lro = admin_client.create_entity_type(\n",
    "    featurestore_service_pb2.CreateEntityTypeRequest(\n",
    "        parent=admin_client.featurestore_path(PROJECT_ID, REGION, FEATURESTORE_ID),\n",
    "        entity_type_id=\"users\",\n",
    "        entity_type=entity_type_pb2.EntityType(\n",
    "            description=\"Users entity\",\n",
    "            monitoring_config=featurestore_monitoring_pb2.FeaturestoreMonitoringConfig(\n",
    "                snapshot_analysis=featurestore_monitoring_pb2.FeaturestoreMonitoringConfig.SnapshotAnalysis(\n",
    "                    monitoring_interval=Duration(seconds=86400),  # 1 day\n",
    "                ),\n",
    "            ),\n",
    "        ),\n",
    "    )\n",
    ")\n",
    "\n",
    "# Similarly, wait for EntityType creation operation.\n",
    "print(users_entity_type_lro.result())"
   ]
  },
  {
   "cell_type": "code",
   "execution_count": 10,
   "id": "7a939594",
   "metadata": {},
   "outputs": [
    {
     "name": "stdout",
     "output_type": "stream",
     "text": [
      "name: \"projects/633472233130/locations/us-central1/featurestores/movie_prediction_20220623150518/entityTypes/movies\"\n",
      "\n"
     ]
    }
   ],
   "source": [
    "# Create movies entity type without a monitoring configuration.\n",
    "movies_entity_type_lro = admin_client.create_entity_type(\n",
    "    featurestore_service_pb2.CreateEntityTypeRequest(\n",
    "        parent=admin_client.featurestore_path(PROJECT_ID, REGION, FEATURESTORE_ID),\n",
    "        entity_type_id=\"movies\",\n",
    "        entity_type=entity_type_pb2.EntityType(description=\"Movies entity\"),\n",
    "    )\n",
    ")\n",
    "\n",
    "# Similarly, wait for EntityType creation operation.\n",
    "print(movies_entity_type_lro.result())"
   ]
  },
  {
   "cell_type": "markdown",
   "id": "2c163613",
   "metadata": {},
   "source": [
    "### Create Feature\n",
    "\n",
    "You can also set a custom monitoring configuration at the Feature level, and view the properties and metrics in the console: sample [properties](https://storage.googleapis.com/cloud-samples-data/ai-platform-unified/datasets/featurestore/Feature%20Properties.png), sample [metrics](https://storage.googleapis.com/cloud-samples-data/ai-platform-unified/datasets/featurestore/Feature%20Snapshot%20Distribution.png)."
   ]
  },
  {
   "cell_type": "code",
   "execution_count": 11,
   "id": "3b43cf6b",
   "metadata": {},
   "outputs": [
    {
     "data": {
      "text/plain": [
       "features {\n",
       "  name: \"projects/633472233130/locations/us-central1/featurestores/movie_prediction_20220623150518/entityTypes/users/features/age\"\n",
       "}\n",
       "features {\n",
       "  name: \"projects/633472233130/locations/us-central1/featurestores/movie_prediction_20220623150518/entityTypes/users/features/gender\"\n",
       "}\n",
       "features {\n",
       "  name: \"projects/633472233130/locations/us-central1/featurestores/movie_prediction_20220623150518/entityTypes/users/features/liked_genres\"\n",
       "}"
      ]
     },
     "execution_count": 11,
     "metadata": {},
     "output_type": "execute_result"
    }
   ],
   "source": [
    "# Create features for the 'users' entity.\n",
    "# 'age' Feature leaves the monitoring config unset, which means it'll inherit the config from EntityType.\n",
    "# 'gender' Feature explicitly disables monitoring.\n",
    "# 'liked_genres' Feature is a STRING_ARRAY type, so it is automatically excluded from monitoring.\n",
    "# For Features with monitoring enabled, distribution statistics are updated periodically in the console.\n",
    "admin_client.batch_create_features(\n",
    "    parent=admin_client.entity_type_path(PROJECT_ID, REGION, FEATURESTORE_ID, \"users\"),\n",
    "    requests=[\n",
    "        featurestore_service_pb2.CreateFeatureRequest(\n",
    "            feature=feature_pb2.Feature(\n",
    "                value_type=feature_pb2.Feature.ValueType.INT64,\n",
    "                description=\"User age\",\n",
    "            ),\n",
    "            feature_id=\"age\",\n",
    "        ),\n",
    "        featurestore_service_pb2.CreateFeatureRequest(\n",
    "            feature=feature_pb2.Feature(\n",
    "                value_type=feature_pb2.Feature.ValueType.STRING,\n",
    "                description=\"User gender\",\n",
    "                monitoring_config=featurestore_monitoring_pb2.FeaturestoreMonitoringConfig(\n",
    "                    snapshot_analysis=featurestore_monitoring_pb2.FeaturestoreMonitoringConfig.SnapshotAnalysis(\n",
    "                        disabled=True,\n",
    "                    ),\n",
    "                ),\n",
    "            ),\n",
    "            feature_id=\"gender\",\n",
    "        ),\n",
    "        featurestore_service_pb2.CreateFeatureRequest(\n",
    "            feature=feature_pb2.Feature(\n",
    "                value_type=feature_pb2.Feature.ValueType.STRING_ARRAY,\n",
    "                description=\"An array of genres that this user liked\",\n",
    "            ),\n",
    "            feature_id=\"liked_genres\",\n",
    "        ),\n",
    "    ],\n",
    ").result()"
   ]
  },
  {
   "cell_type": "code",
   "execution_count": 12,
   "id": "e73f3d56",
   "metadata": {},
   "outputs": [
    {
     "data": {
      "text/plain": [
       "features {\n",
       "  name: \"projects/633472233130/locations/us-central1/featurestores/movie_prediction_20220623150518/entityTypes/movies/features/title\"\n",
       "}\n",
       "features {\n",
       "  name: \"projects/633472233130/locations/us-central1/featurestores/movie_prediction_20220623150518/entityTypes/movies/features/genres\"\n",
       "}\n",
       "features {\n",
       "  name: \"projects/633472233130/locations/us-central1/featurestores/movie_prediction_20220623150518/entityTypes/movies/features/average_rating\"\n",
       "}"
      ]
     },
     "execution_count": 12,
     "metadata": {},
     "output_type": "execute_result"
    }
   ],
   "source": [
    "# Create features for movies type.\n",
    "# 'title' Feature enables monitoring.\n",
    "admin_client.batch_create_features(\n",
    "    parent=admin_client.entity_type_path(PROJECT_ID, REGION, FEATURESTORE_ID, \"movies\"),\n",
    "    requests=[\n",
    "        featurestore_service_pb2.CreateFeatureRequest(\n",
    "            feature=feature_pb2.Feature(\n",
    "                value_type=feature_pb2.Feature.ValueType.STRING,\n",
    "                description=\"The title of the movie\",\n",
    "                monitoring_config=featurestore_monitoring_pb2.FeaturestoreMonitoringConfig(\n",
    "                    snapshot_analysis=featurestore_monitoring_pb2.FeaturestoreMonitoringConfig.SnapshotAnalysis(\n",
    "                        monitoring_interval=Duration(seconds=172800),  # 2 days\n",
    "                    ),\n",
    "                ),\n",
    "            ),\n",
    "            feature_id=\"title\",\n",
    "        ),\n",
    "        featurestore_service_pb2.CreateFeatureRequest(\n",
    "            feature=feature_pb2.Feature(\n",
    "                value_type=feature_pb2.Feature.ValueType.STRING,\n",
    "                description=\"The genres of the movie\",\n",
    "            ),\n",
    "            feature_id=\"genres\",\n",
    "        ),\n",
    "        featurestore_service_pb2.CreateFeatureRequest(\n",
    "            feature=feature_pb2.Feature(\n",
    "                value_type=feature_pb2.Feature.ValueType.DOUBLE,\n",
    "                description=\"The average rating for the movie, range is [1.0-5.0]\",\n",
    "            ),\n",
    "            feature_id=\"average_rating\",\n",
    "        ),\n",
    "    ],\n",
    ").result()"
   ]
  },
  {
   "cell_type": "markdown",
   "id": "9f3cf3d5",
   "metadata": {},
   "source": [
    "## Search created features\n",
    "\n",
    "While the [ListFeatures](https://cloud.google.com/vertex-ai/featurestore/docs/reference/rpc/google.cloud.aiplatform.v1beta1#google.cloud.aiplatform.v1beta1.FeaturestoreService.ListFeatures) method allows you to easily view all features of a single\n",
    "entity type, the [SearchFeatures](https://cloud.google.com/vertex-ai/featurestore/docs/reference/rpc/google.cloud.aiplatform.v1beta1#google.cloud.aiplatform.v1beta1.FeaturestoreService.SearchFeatures) method searches across all featurestores and entity types in a given location (such as `us-central1`). This can help you discover features that were created by someone else.\n",
    "\n",
    "You can query based on feature properties including feature ID, entity type ID, and feature description. You can also limit results by filtering on a specific featurestore, feature value type, and/or labels."
   ]
  },
  {
   "cell_type": "code",
   "execution_count": 13,
   "id": "9323e89d",
   "metadata": {},
   "outputs": [
    {
     "data": {
      "text/plain": [
       "[name: \"projects/633472233130/locations/us-central1/featurestores/movie_prediction/entityTypes/movies/features/average_rating\"\n",
       " description: \"The average rating for the movie, range is [1.0-5.0]\"\n",
       " value_type: DOUBLE\n",
       " create_time {\n",
       "   seconds: 1654109215\n",
       "   nanos: 491912000\n",
       " }\n",
       " update_time {\n",
       "   seconds: 1654109215\n",
       "   nanos: 491912000\n",
       " },\n",
       " name: \"projects/633472233130/locations/us-central1/featurestores/movie_prediction/entityTypes/movies/features/genres\"\n",
       " description: \"The genre of the movie\"\n",
       " value_type: STRING\n",
       " create_time {\n",
       "   seconds: 1654109215\n",
       "   nanos: 490144000\n",
       " }\n",
       " update_time {\n",
       "   seconds: 1654109215\n",
       "   nanos: 490144000\n",
       " },\n",
       " name: \"projects/633472233130/locations/us-central1/featurestores/movie_prediction/entityTypes/movies/features/title\"\n",
       " description: \"The title of the movie\"\n",
       " value_type: STRING\n",
       " create_time {\n",
       "   seconds: 1654109215\n",
       "   nanos: 488410000\n",
       " }\n",
       " update_time {\n",
       "   seconds: 1654109215\n",
       "   nanos: 488410000\n",
       " },\n",
       " name: \"projects/633472233130/locations/us-central1/featurestores/movie_prediction/entityTypes/users/features/age\"\n",
       " description: \"User age\"\n",
       " value_type: INT64\n",
       " create_time {\n",
       "   seconds: 1654109172\n",
       "   nanos: 847964000\n",
       " }\n",
       " update_time {\n",
       "   seconds: 1654109172\n",
       "   nanos: 847964000\n",
       " },\n",
       " name: \"projects/633472233130/locations/us-central1/featurestores/movie_prediction/entityTypes/users/features/gender\"\n",
       " description: \"User gender\"\n",
       " value_type: STRING\n",
       " create_time {\n",
       "   seconds: 1654109188\n",
       "   nanos: 337864000\n",
       " }\n",
       " update_time {\n",
       "   seconds: 1654109188\n",
       "   nanos: 337864000\n",
       " },\n",
       " name: \"projects/633472233130/locations/us-central1/featurestores/movie_prediction/entityTypes/users/features/liked_genres\"\n",
       " description: \"An array of genres this user liked\"\n",
       " value_type: STRING_ARRAY\n",
       " create_time {\n",
       "   seconds: 1654109195\n",
       "   nanos: 81781000\n",
       " }\n",
       " update_time {\n",
       "   seconds: 1654109195\n",
       "   nanos: 81781000\n",
       " },\n",
       " name: \"projects/633472233130/locations/us-central1/featurestores/movie_prediction_20220623150518/entityTypes/movies/features/average_rating\"\n",
       " description: \"The average rating for the movie, range is [1.0-5.0]\"\n",
       " value_type: DOUBLE\n",
       " create_time {\n",
       "   seconds: 1656011198\n",
       "   nanos: 426503000\n",
       " }\n",
       " update_time {\n",
       "   seconds: 1656011198\n",
       "   nanos: 426503000\n",
       " },\n",
       " name: \"projects/633472233130/locations/us-central1/featurestores/movie_prediction_20220623150518/entityTypes/movies/features/genres\"\n",
       " description: \"The genres of the movie\"\n",
       " value_type: STRING\n",
       " create_time {\n",
       "   seconds: 1656011198\n",
       "   nanos: 424532000\n",
       " }\n",
       " update_time {\n",
       "   seconds: 1656011198\n",
       "   nanos: 424532000\n",
       " },\n",
       " name: \"projects/633472233130/locations/us-central1/featurestores/movie_prediction_20220623150518/entityTypes/movies/features/title\"\n",
       " description: \"The title of the movie\"\n",
       " value_type: STRING\n",
       " create_time {\n",
       "   seconds: 1656011198\n",
       "   nanos: 422918000\n",
       " }\n",
       " update_time {\n",
       "   seconds: 1656011198\n",
       "   nanos: 422918000\n",
       " },\n",
       " name: \"projects/633472233130/locations/us-central1/featurestores/movie_prediction_20220623150518/entityTypes/users/features/age\"\n",
       " description: \"User age\"\n",
       " value_type: INT64\n",
       " create_time {\n",
       "   seconds: 1656011187\n",
       "   nanos: 721992000\n",
       " }\n",
       " update_time {\n",
       "   seconds: 1656011187\n",
       "   nanos: 721992000\n",
       " },\n",
       " name: \"projects/633472233130/locations/us-central1/featurestores/movie_prediction_20220623150518/entityTypes/users/features/gender\"\n",
       " description: \"User gender\"\n",
       " value_type: STRING\n",
       " create_time {\n",
       "   seconds: 1656011187\n",
       "   nanos: 724047000\n",
       " }\n",
       " update_time {\n",
       "   seconds: 1656011187\n",
       "   nanos: 724047000\n",
       " },\n",
       " name: \"projects/633472233130/locations/us-central1/featurestores/movie_prediction_20220623150518/entityTypes/users/features/liked_genres\"\n",
       " description: \"An array of genres that this user liked\"\n",
       " value_type: STRING_ARRAY\n",
       " create_time {\n",
       "   seconds: 1656011187\n",
       "   nanos: 725769000\n",
       " }\n",
       " update_time {\n",
       "   seconds: 1656011187\n",
       "   nanos: 725769000\n",
       " }]"
      ]
     },
     "execution_count": 13,
     "metadata": {},
     "output_type": "execute_result"
    }
   ],
   "source": [
    "# Search for all features across all featurestores.\n",
    "list(admin_client.search_features(location=BASE_RESOURCE_PATH))"
   ]
  },
  {
   "cell_type": "code",
   "execution_count": 14,
   "id": "e1123877",
   "metadata": {},
   "outputs": [
    {
     "data": {
      "text/plain": [
       "[name: \"projects/633472233130/locations/us-central1/featurestores/movie_prediction/entityTypes/movies/features/average_rating\"\n",
       " description: \"The average rating for the movie, range is [1.0-5.0]\"\n",
       " value_type: DOUBLE\n",
       " create_time {\n",
       "   seconds: 1654109215\n",
       "   nanos: 491912000\n",
       " }\n",
       " update_time {\n",
       "   seconds: 1654109215\n",
       "   nanos: 491912000\n",
       " },\n",
       " name: \"projects/633472233130/locations/us-central1/featurestores/movie_prediction_20220623150518/entityTypes/movies/features/average_rating\"\n",
       " description: \"The average rating for the movie, range is [1.0-5.0]\"\n",
       " value_type: DOUBLE\n",
       " create_time {\n",
       "   seconds: 1656011198\n",
       "   nanos: 426503000\n",
       " }\n",
       " update_time {\n",
       "   seconds: 1656011198\n",
       "   nanos: 426503000\n",
       " }]"
      ]
     },
     "execution_count": 14,
     "metadata": {},
     "output_type": "execute_result"
    }
   ],
   "source": [
    "# Additional search with filter for Double\n",
    "# Search for all features with value type `DOUBLE`\n",
    "list(\n",
    "    admin_client.search_features(\n",
    "        featurestore_service_pb2.SearchFeaturesRequest(\n",
    "            location=BASE_RESOURCE_PATH, query=\"value_type=DOUBLE\"\n",
    "        )\n",
    "    )\n",
    ")"
   ]
  },
  {
   "cell_type": "code",
   "execution_count": 15,
   "id": "d05e8608",
   "metadata": {},
   "outputs": [
    {
     "data": {
      "text/plain": [
       "[name: \"projects/633472233130/locations/us-central1/featurestores/movie_prediction/entityTypes/movies/features/title\"\n",
       " description: \"The title of the movie\"\n",
       " value_type: STRING\n",
       " create_time {\n",
       "   seconds: 1654109215\n",
       "   nanos: 488410000\n",
       " }\n",
       " update_time {\n",
       "   seconds: 1654109215\n",
       "   nanos: 488410000\n",
       " },\n",
       " name: \"projects/633472233130/locations/us-central1/featurestores/movie_prediction_20220623150518/entityTypes/movies/features/title\"\n",
       " description: \"The title of the movie\"\n",
       " value_type: STRING\n",
       " create_time {\n",
       "   seconds: 1656011198\n",
       "   nanos: 422918000\n",
       " }\n",
       " update_time {\n",
       "   seconds: 1656011198\n",
       "   nanos: 422918000\n",
       " }]"
      ]
     },
     "execution_count": 15,
     "metadata": {},
     "output_type": "execute_result"
    }
   ],
   "source": [
    "# Additional search with filter on feature value type and keywords.\n",
    "list(\n",
    "    admin_client.search_features(\n",
    "        featurestore_service_pb2.SearchFeaturesRequest(\n",
    "            location=BASE_RESOURCE_PATH, query=\"feature_id:title AND value_type=STRING\"\n",
    "        )\n",
    "    )\n",
    ")"
   ]
  },
  {
   "cell_type": "markdown",
   "id": "29eeeb3a",
   "metadata": {},
   "source": [
    "## Import Feature Values\n",
    "\n",
    "You need to import feature values before you can use them for online/offline serving. In this step, you will learn how to import feature values by calling the ImportFeatureValues API using the Python SDK.\n"
   ]
  },
  {
   "cell_type": "code",
   "execution_count": 16,
   "id": "33af4af9",
   "metadata": {},
   "outputs": [],
   "source": [
    "import_users_request = featurestore_service_pb2.ImportFeatureValuesRequest(\n",
    "    entity_type=admin_client.entity_type_path(\n",
    "        PROJECT_ID, REGION, FEATURESTORE_ID, \"users\"\n",
    "    ),\n",
    "    avro_source=io_pb2.AvroSource(\n",
    "        # Source\n",
    "        gcs_source=io_pb2.GcsSource(\n",
    "            uris=[\n",
    "                \"gs://cloud-samples-data-us-central1/ai-platform-unified/datasets/featurestore/users.avro\"\n",
    "            ]\n",
    "        )\n",
    "    ),\n",
    "    entity_id_field=\"user_id\",\n",
    "    feature_specs=[\n",
    "        # Features\n",
    "        featurestore_service_pb2.ImportFeatureValuesRequest.FeatureSpec(id=\"age\"),\n",
    "        featurestore_service_pb2.ImportFeatureValuesRequest.FeatureSpec(id=\"gender\"),\n",
    "        featurestore_service_pb2.ImportFeatureValuesRequest.FeatureSpec(id=\"liked_genres\"),\n",
    "    ],\n",
    "    feature_time_field=\"update_time\",\n",
    "    worker_count=10,\n",
    ")"
   ]
  },
  {
   "cell_type": "code",
   "execution_count": 17,
   "id": "53df3167",
   "metadata": {},
   "outputs": [],
   "source": [
    "# Start to import, will take a couple of minutes\n",
    "ingestion_lro = admin_client.import_feature_values(import_users_request)"
   ]
  },
  {
   "cell_type": "code",
   "execution_count": 18,
   "id": "666e9460",
   "metadata": {},
   "outputs": [
    {
     "data": {
      "text/plain": [
       "imported_entity_count: 7\n",
       "imported_feature_value_count: 12"
      ]
     },
     "execution_count": 18,
     "metadata": {},
     "output_type": "execute_result"
    }
   ],
   "source": [
    "# Polls for the LRO status and prints when the LRO has completed\n",
    "ingestion_lro.result()"
   ]
  },
  {
   "cell_type": "markdown",
   "id": "3c302ab4",
   "metadata": {},
   "source": [
    "### Import feature values for Movies\n",
    "\n",
    "Similarly, import feature values for 'movies' into the featurestore.\n"
   ]
  },
  {
   "cell_type": "code",
   "execution_count": 19,
   "id": "6aabf553",
   "metadata": {},
   "outputs": [],
   "source": [
    "import_movie_request = featurestore_service_pb2.ImportFeatureValuesRequest(\n",
    "    entity_type=admin_client.entity_type_path(\n",
    "        PROJECT_ID, REGION, FEATURESTORE_ID, \"movies\"\n",
    "    ),\n",
    "    avro_source=io_pb2.AvroSource(\n",
    "        gcs_source=io_pb2.GcsSource(\n",
    "            uris=[\n",
    "                \"gs://cloud-samples-data-us-central1/ai-platform-unified/datasets/featurestore/movies.avro\"\n",
    "            ]\n",
    "        )\n",
    "    ),\n",
    "    entity_id_field=\"movie_id\",\n",
    "    feature_specs=[\n",
    "        featurestore_service_pb2.ImportFeatureValuesRequest.FeatureSpec(id=\"title\"),\n",
    "        featurestore_service_pb2.ImportFeatureValuesRequest.FeatureSpec(id=\"genres\"),\n",
    "        featurestore_service_pb2.ImportFeatureValuesRequest.FeatureSpec(id=\"average_rating\"),\n",
    "    ],\n",
    "    feature_time_field=\"update_time\",\n",
    "    worker_count=10,\n",
    ")"
   ]
  },
  {
   "cell_type": "code",
   "execution_count": 20,
   "id": "be585c88",
   "metadata": {},
   "outputs": [],
   "source": [
    "# Start to import, will take a couple of minutes\n",
    "ingestion_lro = admin_client.import_feature_values(import_movie_request)"
   ]
  },
  {
   "cell_type": "code",
   "execution_count": 21,
   "id": "dcdae1e0",
   "metadata": {},
   "outputs": [
    {
     "data": {
      "text/plain": [
       "imported_entity_count: 4\n",
       "imported_feature_value_count: 12"
      ]
     },
     "execution_count": 21,
     "metadata": {},
     "output_type": "execute_result"
    }
   ],
   "source": [
    "# Polls for the LRO status and prints when the LRO has completed\n",
    "ingestion_lro.result()"
   ]
  },
  {
   "cell_type": "markdown",
   "id": "4e9e1fc1",
   "metadata": {},
   "source": [
    "## Online serving"
   ]
  },
  {
   "cell_type": "markdown",
   "id": "812b4a6b",
   "metadata": {},
   "source": [
    "The\n",
    "[Online Serving APIs](https://cloud.google.com/vertex-ai/featurestore/docs/reference/rpc/google.cloud.aiplatform.v1beta1#featurestoreonlineservingservice)\n",
    "lets you serve feature values for small batches of entities. It's designed for latency-sensitive service, such as online model prediction. For example, for a movie service, you might want to quickly shows movies that the current user would most likely watch by using online predictions."
   ]
  },
  {
   "cell_type": "code",
   "execution_count": 22,
   "id": "c9fced7f",
   "metadata": {},
   "outputs": [
    {
     "data": {
      "text/plain": [
       "header {\n",
       "  entity_type: \"projects/633472233130/locations/us-central1/featurestores/movie_prediction_20220623150518/entityTypes/users\"\n",
       "  feature_descriptors {\n",
       "    id: \"age\"\n",
       "  }\n",
       "  feature_descriptors {\n",
       "    id: \"gender\"\n",
       "  }\n",
       "  feature_descriptors {\n",
       "    id: \"liked_genres\"\n",
       "  }\n",
       "}\n",
       "entity_view {\n",
       "  entity_id: \"alice\"\n",
       "  data {\n",
       "  }\n",
       "  data {\n",
       "  }\n",
       "  data {\n",
       "  }\n",
       "}"
      ]
     },
     "execution_count": 22,
     "metadata": {},
     "output_type": "execute_result"
    }
   ],
   "source": [
    "# Fetch the following 3 features.\n",
    "feature_selector = FeatureSelector(\n",
    "    id_matcher=IdMatcher(ids=[\"age\", \"gender\", \"liked_genres\"])\n",
    ")\n",
    "\n",
    "data_client.read_feature_values(\n",
    "    featurestore_online_service_pb2.ReadFeatureValuesRequest(\n",
    "        # Fetch from the following feature store/entity type\n",
    "        entity_type=admin_client.entity_type_path(\n",
    "            PROJECT_ID, REGION, FEATURESTORE_ID, \"users\"\n",
    "        ),\n",
    "        # Fetch the user features whose ID is \"alice\"\n",
    "        entity_id=\"alice\",\n",
    "        feature_selector=feature_selector,\n",
    "    )\n",
    ")"
   ]
  },
  {
   "cell_type": "markdown",
   "id": "cd37c7e6",
   "metadata": {},
   "source": [
    "### Read multiple entities per request\n",
    "\n",
    "To read feature values from multiple entities, use the\n",
    "StreamingReadFeatureValues API, which is almost identical to the previous\n",
    "ReadFeatureValues API. Note that fetching only a small number of entities is recomended when using this API due to its latency-sensitive nature."
   ]
  },
  {
   "cell_type": "code",
   "execution_count": 23,
   "id": "6ae174c6",
   "metadata": {},
   "outputs": [],
   "source": [
    "# Read the same set of features as above, but for multiple entities.\n",
    "response_stream = data_client.streaming_read_feature_values(\n",
    "    featurestore_online_service_pb2.StreamingReadFeatureValuesRequest(\n",
    "        entity_type=admin_client.entity_type_path(\n",
    "            PROJECT_ID, REGION, FEATURESTORE_ID, \"users\"\n",
    "        ),\n",
    "        entity_ids=[\"alice\", \"bob\"],\n",
    "        feature_selector=feature_selector,\n",
    "    )\n",
    ")"
   ]
  },
  {
   "cell_type": "code",
   "execution_count": 24,
   "id": "399e2581",
   "metadata": {},
   "outputs": [
    {
     "name": "stdout",
     "output_type": "stream",
     "text": [
      "header {\n",
      "  entity_type: \"projects/633472233130/locations/us-central1/featurestores/movie_prediction_20220623150518/entityTypes/users\"\n",
      "  feature_descriptors {\n",
      "    id: \"age\"\n",
      "  }\n",
      "  feature_descriptors {\n",
      "    id: \"gender\"\n",
      "  }\n",
      "  feature_descriptors {\n",
      "    id: \"liked_genres\"\n",
      "  }\n",
      "}\n",
      "\n",
      "entity_view {\n",
      "  entity_id: \"alice\"\n",
      "  data {\n",
      "  }\n",
      "  data {\n",
      "  }\n",
      "  data {\n",
      "  }\n",
      "}\n",
      "\n",
      "entity_view {\n",
      "  entity_id: \"bob\"\n",
      "  data {\n",
      "  }\n",
      "  data {\n",
      "  }\n",
      "  data {\n",
      "  }\n",
      "}\n",
      "\n"
     ]
    }
   ],
   "source": [
    "# Iterate and process response. Note the first one is always the header only.\n",
    "for response in response_stream:\n",
    "    print(response)"
   ]
  },
  {
   "cell_type": "markdown",
   "id": "0e4f6594",
   "metadata": {},
   "source": [
    "Now that you have learned how to featch imported feature values for online serving, the next step is learning how to use imported feature values for offline use cases."
   ]
  },
  {
   "cell_type": "markdown",
   "id": "4da700a8",
   "metadata": {},
   "source": [
    "## Batch Serving\n",
    "\n",
    "Batch Serving is used to fetch a large batch of feature values for high-throughput, typically for training a model or batch prediction. In this section, you will learn how to prepare for training examples by calling the BatchReadFeatureValues API."
   ]
  },
  {
   "cell_type": "markdown",
   "id": "5db96458",
   "metadata": {},
   "source": [
    "### Batch Read Feature Values\n",
    "\n",
    "Assemble the request which specify the following info:\n",
    "\n",
    "*   Where is the label data, i.e., Table 1.\n",
    "*   Which features are read, i.e., the column names in Table 2.\n",
    "\n",
    "The output is stored in a BigQuery table.\n"
   ]
  },
  {
   "cell_type": "code",
   "execution_count": 25,
   "id": "466579a3",
   "metadata": {},
   "outputs": [],
   "source": [
    "batch_serving_request = featurestore_service_pb2.BatchReadFeatureValuesRequest(\n",
    "    \n",
    "    # featurestore info\n",
    "    featurestore=admin_client.featurestore_path(PROJECT_ID, REGION, FEATURESTORE_ID),\n",
    "    \n",
    "    # URL for the label data (i.e. Table 1)\n",
    "    csv_read_instances=io_pb2.CsvSource(\n",
    "        gcs_source=io_pb2.GcsSource(uris=[INPUT_CSV_FILE])\n",
    "    ),\n",
    "    destination=featurestore_service_pb2.FeatureValueDestination(\n",
    "        bigquery_destination=io_pb2.BigQueryDestination(\n",
    "            # Output to BigQuery table created earlier\n",
    "            output_uri=DESTINATION_TABLE_URI\n",
    "        )\n",
    "    ),\n",
    "    \n",
    "    entity_type_specs=[\n",
    "        featurestore_service_pb2.BatchReadFeatureValuesRequest.EntityTypeSpec(\n",
    "            # Read the 'age', 'gender' and 'liked_genres' features from the 'users' entity\n",
    "            entity_type_id=\"users\",\n",
    "            feature_selector=FeatureSelector(\n",
    "                id_matcher=IdMatcher(\n",
    "                    ids=[\n",
    "                        # features, use \"*\" if you want to select all features within this entity type\n",
    "                        \"age\",\n",
    "                        \"gender\",\n",
    "                        \"liked_genres\",\n",
    "                    ]\n",
    "                )\n",
    "            ),\n",
    "        ),\n",
    "        featurestore_service_pb2.BatchReadFeatureValuesRequest.EntityTypeSpec(\n",
    "            # Read the 'average_rating' and 'genres' feature values of the 'movies' entity\n",
    "            entity_type_id=\"movies\",\n",
    "            feature_selector=FeatureSelector(\n",
    "                id_matcher=IdMatcher(ids=[\"average_rating\", \"genres\"])\n",
    "            ),\n",
    "        ),\n",
    "    ],\n",
    ")"
   ]
  },
  {
   "cell_type": "code",
   "execution_count": 26,
   "id": "d87217da",
   "metadata": {},
   "outputs": [],
   "source": [
    "# Execute the batch read\n",
    "batch_serving_lro = admin_client.batch_read_feature_values(batch_serving_request)"
   ]
  },
  {
   "cell_type": "code",
   "execution_count": 27,
   "id": "17cc2e0e",
   "metadata": {},
   "outputs": [
    {
     "data": {
      "text/plain": []
     },
     "execution_count": 27,
     "metadata": {},
     "output_type": "execute_result"
    }
   ],
   "source": [
    "# This long runing operation will poll until the batch read finishes.\n",
    "batch_serving_lro.result()"
   ]
  },
  {
   "cell_type": "markdown",
   "id": "35420fea",
   "metadata": {},
   "source": [
    "After the LRO finishes, you should be able to see the result from the [BigQuery console](https://console.cloud.google.com/bigquery), in the dataset created earlier."
   ]
  },
  {
   "cell_type": "markdown",
   "id": "d53351cd",
   "metadata": {},
   "source": [
    "## Cleaning up\n",
    "\n",
    "To clean up all Google Cloud resources used in this project, you can [delete the Google Cloud\n",
    "project](https://cloud.google.com/resource-manager/docs/creating-managing-projects#shutting_down_projects) you used for the tutorial.\n",
    "\n",
    "You can also keep the project but delete the featurestore:"
   ]
  },
  {
   "cell_type": "code",
   "execution_count": null,
   "id": "253f8116",
   "metadata": {},
   "outputs": [],
   "source": [
    "admin_client.delete_featurestore(\n",
    "    request=featurestore_service_pb2.DeleteFeaturestoreRequest(\n",
    "        name=admin_client.featurestore_path(PROJECT_ID, REGION, FEATURESTORE_ID),\n",
    "        force=True,\n",
    "    )\n",
    ").result()\n",
    "client.delete_dataset(\n",
    "    DESTINATION_DATA_SET, delete_contents=True, not_found_ok=True\n",
    ")  # Make an API request.\n",
    "\n",
    "print(\"Deleted dataset '{}'.\".format(DESTINATION_DATA_SET))"
   ]
  }
 ],
 "metadata": {
  "environment": {
   "name": "tf2-gpu.2-3.m71",
   "type": "gcloud",
   "uri": "gcr.io/deeplearning-platform-release/tf2-gpu.2-3:m71"
  },
  "kernelspec": {
   "display_name": "Python 3 (ipykernel)",
   "language": "python",
   "name": "python3"
  },
  "language_info": {
   "codemirror_mode": {
    "name": "ipython",
    "version": 3
   },
   "file_extension": ".py",
   "mimetype": "text/x-python",
   "name": "python",
   "nbconvert_exporter": "python",
   "pygments_lexer": "ipython3",
   "version": "3.9.6"
  }
 },
 "nbformat": 4,
 "nbformat_minor": 5
}
