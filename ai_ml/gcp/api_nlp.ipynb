{
 "cells": [
  {
   "cell_type": "markdown",
   "id": "2716c4a6-36b0-4ad8-a291-ae45695c6a94",
   "metadata": {},
   "source": [
    "# GCP - Natural Language API"
   ]
  },
  {
   "cell_type": "markdown",
   "id": "9d7241f6-2e00-4bb1-9fad-c3b6d095b3cf",
   "metadata": {},
   "source": [
    "[NLP API Reference](https://cloud.google.com/natural-language/)"
   ]
  },
  {
   "cell_type": "markdown",
   "id": "55a02c4e-e90c-4f01-9d08-d4e3fb6bea24",
   "metadata": {},
   "source": [
    "## Setup"
   ]
  },
  {
   "cell_type": "code",
   "execution_count": 2,
   "id": "68202064-beff-4edf-b8a4-184841fde6fa",
   "metadata": {},
   "outputs": [],
   "source": [
    "#pip install --upgrade google-cloud-bigquery\n",
    "#export GOOGLE_APPLICATION_CREDENTIALS=\"/Users/xx/xx.json\""
   ]
  },
  {
   "cell_type": "code",
   "execution_count": 3,
   "id": "9e61fe31-d4ef-4b71-b9de-7e8744fa9510",
   "metadata": {},
   "outputs": [],
   "source": [
    "import os\n",
    "from google.cloud import language"
   ]
  },
  {
   "cell_type": "code",
   "execution_count": 5,
   "id": "93510d2a-2333-482c-ad75-439e45568149",
   "metadata": {},
   "outputs": [],
   "source": [
    "os.environ[\"GOOGLE_APPLICATION_CREDENTIALS\"] = \"/Users/mikegoodman/Documents/developer/mg-ce-demos-baeebaf7fb05.json\"\n",
    "\n",
    "client = language.LanguageServiceClient()"
   ]
  },
  {
   "cell_type": "markdown",
   "id": "a1da38bc-bbae-401d-b1ff-1f18c0f84c4c",
   "metadata": {},
   "source": [
    "## Entity Extraction"
   ]
  },
  {
   "cell_type": "code",
   "execution_count": 7,
   "id": "2ff5910e-831b-4b71-aec2-1df7ed864d3c",
   "metadata": {},
   "outputs": [],
   "source": [
    "document = language.types.Document(\n",
    "    content='Michelangelo Caravaggio, Italian painter, is known for \"The Calling of Saint Matthew\".',\n",
    "    type=language.enums.Document.Type.PLAIN_TEXT,\n",
    ")\n",
    "\n",
    "response = client.analyze_entities(\n",
    "    document=document,\n",
    "    encoding_type='UTF32',\n",
    ")"
   ]
  },
  {
   "cell_type": "code",
   "execution_count": 8,
   "id": "622675a1-a46c-4fa5-a862-9a1e5a6d9fc6",
   "metadata": {},
   "outputs": [
    {
     "data": {
      "text/plain": [
       "entities {\n",
       "  name: \"Michelangelo Caravaggio\"\n",
       "  type: PERSON\n",
       "  metadata {\n",
       "    key: \"mid\"\n",
       "    value: \"/m/020bg\"\n",
       "  }\n",
       "  metadata {\n",
       "    key: \"wikipedia_url\"\n",
       "    value: \"https://en.wikipedia.org/wiki/Caravaggio\"\n",
       "  }\n",
       "  salience: 0.8290478587150574\n",
       "  mentions {\n",
       "    text {\n",
       "      content: \"Michelangelo Caravaggio\"\n",
       "    }\n",
       "    type: PROPER\n",
       "  }\n",
       "  mentions {\n",
       "    text {\n",
       "      content: \"painter\"\n",
       "      begin_offset: 33\n",
       "    }\n",
       "    type: COMMON\n",
       "  }\n",
       "}\n",
       "entities {\n",
       "  name: \"Italian\"\n",
       "  type: LOCATION\n",
       "  salience: 0.1398160755634308\n",
       "  mentions {\n",
       "    text {\n",
       "      content: \"Italian\"\n",
       "      begin_offset: 25\n",
       "    }\n",
       "    type: PROPER\n",
       "  }\n",
       "}\n",
       "entities {\n",
       "  name: \"The Calling of Saint Matthew\"\n",
       "  type: WORK_OF_ART\n",
       "  metadata {\n",
       "    key: \"mid\"\n",
       "    value: \"/m/085_p7\"\n",
       "  }\n",
       "  metadata {\n",
       "    key: \"wikipedia_url\"\n",
       "    value: \"https://en.wikipedia.org/wiki/The_Calling_of_St_Matthew\"\n",
       "  }\n",
       "  salience: 0.0311360452324152\n",
       "  mentions {\n",
       "    text {\n",
       "      content: \"The Calling of Saint Matthew\"\n",
       "      begin_offset: 56\n",
       "    }\n",
       "    type: PROPER\n",
       "  }\n",
       "}\n",
       "language: \"en\""
      ]
     },
     "execution_count": 8,
     "metadata": {},
     "output_type": "execute_result"
    }
   ],
   "source": [
    "response"
   ]
  },
  {
   "cell_type": "markdown",
   "id": "dc06a7b8-0058-4947-b98c-ca9f3bfa1afc",
   "metadata": {},
   "source": [
    "## Sentiment"
   ]
  },
  {
   "cell_type": "code",
   "execution_count": 9,
   "id": "664ff060-1268-4920-9a7a-22e9e3f444c2",
   "metadata": {},
   "outputs": [],
   "source": [
    "document = language.types.Document(\n",
    "    content='Dan said jogging is not very fun. Boxing and lifting weights are my favorite!',\n",
    "    type='PLAIN_TEXT',\n",
    "    )\n",
    "\n",
    "response_1 = client.analyze_sentiment(\n",
    "    document=document,\n",
    "    encoding_type='UTF32',\n",
    ")\n",
    "\n",
    "response_2 = client.analyze_entity_sentiment(\n",
    "    document=document,\n",
    "    encoding_type='UTF32',\n",
    ")"
   ]
  },
  {
   "cell_type": "code",
   "execution_count": 10,
   "id": "a5420c28-479e-4d5f-8c76-ca332aa4a14c",
   "metadata": {},
   "outputs": [
    {
     "data": {
      "text/plain": [
       "document_sentiment {\n",
       "  magnitude: 1.7999999523162842\n",
       "}\n",
       "language: \"en\"\n",
       "sentences {\n",
       "  text {\n",
       "    content: \"Dan said jogging is not very fun.\"\n",
       "  }\n",
       "  sentiment {\n",
       "    magnitude: 0.800000011920929\n",
       "    score: -0.800000011920929\n",
       "  }\n",
       "}\n",
       "sentences {\n",
       "  text {\n",
       "    content: \"Boxing and lifting weights are my favorite!\"\n",
       "    begin_offset: 34\n",
       "  }\n",
       "  sentiment {\n",
       "    magnitude: 0.8999999761581421\n",
       "    score: 0.8999999761581421\n",
       "  }\n",
       "}"
      ]
     },
     "execution_count": 10,
     "metadata": {},
     "output_type": "execute_result"
    }
   ],
   "source": [
    "response_1"
   ]
  },
  {
   "cell_type": "code",
   "execution_count": 11,
   "id": "15ed5bf9-9ae2-4fe3-8f1c-2b5a22754144",
   "metadata": {},
   "outputs": [
    {
     "data": {
      "text/plain": [
       "entities {\n",
       "  name: \"jogging\"\n",
       "  type: OTHER\n",
       "  salience: 0.5469069480895996\n",
       "  mentions {\n",
       "    text {\n",
       "      content: \"jogging\"\n",
       "      begin_offset: 9\n",
       "    }\n",
       "    type: COMMON\n",
       "    sentiment {\n",
       "      magnitude: 0.5\n",
       "      score: -0.5\n",
       "    }\n",
       "  }\n",
       "  sentiment {\n",
       "    magnitude: 0.5\n",
       "    score: -0.5\n",
       "  }\n",
       "}\n",
       "entities {\n",
       "  name: \"Dan\"\n",
       "  type: PERSON\n",
       "  salience: 0.2924334406852722\n",
       "  mentions {\n",
       "    text {\n",
       "      content: \"Dan\"\n",
       "    }\n",
       "    type: PROPER\n",
       "    sentiment {\n",
       "      magnitude: 0.4000000059604645\n",
       "      score: -0.4000000059604645\n",
       "    }\n",
       "  }\n",
       "  sentiment {\n",
       "    magnitude: 0.4000000059604645\n",
       "    score: -0.4000000059604645\n",
       "  }\n",
       "}\n",
       "entities {\n",
       "  name: \"Boxing\"\n",
       "  type: EVENT\n",
       "  salience: 0.07248014211654663\n",
       "  mentions {\n",
       "    text {\n",
       "      content: \"Boxing\"\n",
       "      begin_offset: 34\n",
       "    }\n",
       "    type: COMMON\n",
       "    sentiment {\n",
       "      magnitude: 0.8999999761581421\n",
       "      score: 0.8999999761581421\n",
       "    }\n",
       "  }\n",
       "  sentiment {\n",
       "    magnitude: 0.8999999761581421\n",
       "    score: 0.8999999761581421\n",
       "  }\n",
       "}\n",
       "entities {\n",
       "  name: \"favorite\"\n",
       "  type: PERSON\n",
       "  salience: 0.06511905044317245\n",
       "  mentions {\n",
       "    text {\n",
       "      content: \"favorite\"\n",
       "      begin_offset: 68\n",
       "    }\n",
       "    type: COMMON\n",
       "    sentiment {\n",
       "      magnitude: 0.800000011920929\n",
       "      score: 0.800000011920929\n",
       "    }\n",
       "  }\n",
       "  sentiment {\n",
       "    magnitude: 0.800000011920929\n",
       "    score: 0.800000011920929\n",
       "  }\n",
       "}\n",
       "entities {\n",
       "  name: \"weights\"\n",
       "  type: OTHER\n",
       "  salience: 0.023060431703925133\n",
       "  mentions {\n",
       "    text {\n",
       "      content: \"weights\"\n",
       "      begin_offset: 53\n",
       "    }\n",
       "    type: COMMON\n",
       "    sentiment {\n",
       "      magnitude: 0.8999999761581421\n",
       "      score: 0.8999999761581421\n",
       "    }\n",
       "  }\n",
       "  sentiment {\n",
       "    magnitude: 0.8999999761581421\n",
       "    score: 0.8999999761581421\n",
       "  }\n",
       "}\n",
       "language: \"en\""
      ]
     },
     "execution_count": 11,
     "metadata": {},
     "output_type": "execute_result"
    }
   ],
   "source": [
    "response_2"
   ]
  },
  {
   "cell_type": "markdown",
   "id": "49ba303d-4adb-4e9b-a769-f29f0eb666ed",
   "metadata": {},
   "source": [
    "## Classification"
   ]
  },
  {
   "cell_type": "code",
   "execution_count": 14,
   "id": "51561fe5-a9f3-45da-a54e-df03b82cbe93",
   "metadata": {},
   "outputs": [],
   "source": [
    "document = language.types.Document(\n",
    "    content='''At some point in the future, while riding along in a car, a kid may ask their parent about a distant time in the past when people used steering wheels and pedals to control an automobile. Of course, the full realization of the “auto” part of the word — in the form of fully autonomous automobiles — is a long way off, but there are nonetheless companies trying to build that future today.\n",
    "\n",
    "However, changing the face of transportation is a costly business, one that typically requires corporate backing or a lot of venture funding to realize such an ambitious goal. A recent funding round, some $128 million raised in a Series A round by Shenzhen-based Roadstar.ai, got us at Crunchbase News asking a question: Just how many independent, well-funded autonomous vehicles startups are out there?\n",
    "\n",
    "In short, not as many as you’d think. To investigate further, we took a look at the set of independent companies in Crunchbase’s “autonomous vehicle” category that have raised $50 million or more in venture funding. After a little bit of hand filtering, we found that the companies mostly shook out into two broad categories: those working on sensor technologies, which are integral to any self-driving system, and more “full-stack” hardware and software companies, which incorporate sensors, machine-learned software models and control mechanics into more integrated autonomous systems.''',\n",
    "    type='PLAIN_TEXT',\n",
    "    )\n",
    "\n",
    "response = client.classify_text(document)"
   ]
  },
  {
   "cell_type": "code",
   "execution_count": 15,
   "id": "a9aaefff-ac2f-495b-a244-778da9c18e6c",
   "metadata": {},
   "outputs": [
    {
     "data": {
      "text/plain": [
       "categories {\n",
       "  name: \"/Autos & Vehicles\"\n",
       "  confidence: 0.6200000047683716\n",
       "}"
      ]
     },
     "execution_count": 15,
     "metadata": {},
     "output_type": "execute_result"
    }
   ],
   "source": [
    "response"
   ]
  },
  {
   "cell_type": "code",
   "execution_count": null,
   "id": "81b97a03-8014-4363-b496-1edb67a6bbb1",
   "metadata": {},
   "outputs": [],
   "source": []
  }
 ],
 "metadata": {
  "kernelspec": {
   "display_name": "Python 3 (ipykernel)",
   "language": "python",
   "name": "python3"
  },
  "language_info": {
   "codemirror_mode": {
    "name": "ipython",
    "version": 3
   },
   "file_extension": ".py",
   "mimetype": "text/x-python",
   "name": "python",
   "nbconvert_exporter": "python",
   "pygments_lexer": "ipython3",
   "version": "3.9.6"
  }
 },
 "nbformat": 4,
 "nbformat_minor": 5
}
