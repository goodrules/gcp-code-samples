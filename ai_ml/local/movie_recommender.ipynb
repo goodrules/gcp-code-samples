{
 "cells": [
  {
   "cell_type": "markdown",
   "id": "d99548d6-225f-4fb7-be18-0793601a7d8a",
   "metadata": {},
   "source": [
    "# Movie recommender using cosine similarity\n",
    "\n",
    "Includes a basic GUI for movie recommendations."
   ]
  },
  {
   "cell_type": "code",
   "execution_count": 34,
   "id": "db2b7b21-5bca-418c-ad50-e909788cef94",
   "metadata": {},
   "outputs": [],
   "source": [
    "import numpy as np\n",
    "import pandas as pd\n",
    "import sklearn\n",
    "import matplotlib.pyplot as plt\n",
    "import seaborn as sns\n",
    "\n",
    "import warnings\n",
    "warnings.simplefilter(action='ignore', category=FutureWarning)"
   ]
  },
  {
   "cell_type": "code",
   "execution_count": null,
   "id": "f511594b-d854-46ed-833f-f7f62c342566",
   "metadata": {},
   "outputs": [],
   "source": [
    "#import os\n",
    "#os.environ['KMP_DUPLICATE_LIB_OK']='True'"
   ]
  },
  {
   "cell_type": "markdown",
   "id": "6214e574-1645-494f-bfa5-9891387b039e",
   "metadata": {},
   "source": [
    "*Prerequisite*: Download data from [IMDB](https://datasets.imdbws.com/) - only need the title basics and title ratings tables"
   ]
  },
  {
   "cell_type": "code",
   "execution_count": 1,
   "id": "d2d927e6-de09-47b8-9a66-6358de56e640",
   "metadata": {},
   "outputs": [],
   "source": [
    "# file name\n",
    "file_path = '/data/movies/'\n",
    "title_basics = 'title_basics_071521.tsv'\n",
    "title_ratings = 'title_ratings_071521.tsv'"
   ]
  },
  {
   "cell_type": "code",
   "execution_count": 4,
   "id": "e96d1d69-8b70-4885-81e3-23c09af06f39",
   "metadata": {},
   "outputs": [
    {
     "name": "stderr",
     "output_type": "stream",
     "text": [
      "/Users/mikegoodman/Documents/developer/venv/lib/python3.9/site-packages/IPython/core/interactiveshell.py:3457: DtypeWarning: Columns (4,5) have mixed types.Specify dtype option on import or set low_memory=False.\n",
      "  exec(code_obj, self.user_global_ns, self.user_ns)\n"
     ]
    }
   ],
   "source": [
    "# import tsv to df\n",
    "df_title_basics = pd.read_table(file_path+title_basics, sep='\\t')"
   ]
  },
  {
   "cell_type": "code",
   "execution_count": 6,
   "id": "6b0a1ba1-e7af-4cb1-8693-d0a4314ffd2a",
   "metadata": {},
   "outputs": [],
   "source": [
    "df_title_ratings = pd.read_table(file_path+title_ratings, sep='\\t')"
   ]
  },
  {
   "cell_type": "code",
   "execution_count": 7,
   "id": "f6fe0117-a04f-4a59-a1d6-d75ce0becbaf",
   "metadata": {},
   "outputs": [
    {
     "data": {
      "text/html": [
       "<div>\n",
       "<style scoped>\n",
       "    .dataframe tbody tr th:only-of-type {\n",
       "        vertical-align: middle;\n",
       "    }\n",
       "\n",
       "    .dataframe tbody tr th {\n",
       "        vertical-align: top;\n",
       "    }\n",
       "\n",
       "    .dataframe thead th {\n",
       "        text-align: right;\n",
       "    }\n",
       "</style>\n",
       "<table border=\"1\" class=\"dataframe\">\n",
       "  <thead>\n",
       "    <tr style=\"text-align: right;\">\n",
       "      <th></th>\n",
       "      <th>tconst</th>\n",
       "      <th>titleType</th>\n",
       "      <th>primaryTitle</th>\n",
       "      <th>startYear</th>\n",
       "      <th>genres</th>\n",
       "    </tr>\n",
       "  </thead>\n",
       "  <tbody>\n",
       "    <tr>\n",
       "      <th>0</th>\n",
       "      <td>tt0000001</td>\n",
       "      <td>short</td>\n",
       "      <td>Carmencita</td>\n",
       "      <td>1894</td>\n",
       "      <td>Documentary,Short</td>\n",
       "    </tr>\n",
       "    <tr>\n",
       "      <th>1</th>\n",
       "      <td>tt0000002</td>\n",
       "      <td>short</td>\n",
       "      <td>Le clown et ses chiens</td>\n",
       "      <td>1892</td>\n",
       "      <td>Animation,Short</td>\n",
       "    </tr>\n",
       "    <tr>\n",
       "      <th>2</th>\n",
       "      <td>tt0000003</td>\n",
       "      <td>short</td>\n",
       "      <td>Pauvre Pierrot</td>\n",
       "      <td>1892</td>\n",
       "      <td>Animation,Comedy,Romance</td>\n",
       "    </tr>\n",
       "    <tr>\n",
       "      <th>3</th>\n",
       "      <td>tt0000004</td>\n",
       "      <td>short</td>\n",
       "      <td>Un bon bock</td>\n",
       "      <td>1892</td>\n",
       "      <td>Animation,Short</td>\n",
       "    </tr>\n",
       "    <tr>\n",
       "      <th>4</th>\n",
       "      <td>tt0000005</td>\n",
       "      <td>short</td>\n",
       "      <td>Blacksmith Scene</td>\n",
       "      <td>1893</td>\n",
       "      <td>Comedy,Short</td>\n",
       "    </tr>\n",
       "    <tr>\n",
       "      <th>...</th>\n",
       "      <td>...</td>\n",
       "      <td>...</td>\n",
       "      <td>...</td>\n",
       "      <td>...</td>\n",
       "      <td>...</td>\n",
       "    </tr>\n",
       "    <tr>\n",
       "      <th>8090441</th>\n",
       "      <td>tt9916848</td>\n",
       "      <td>tvEpisode</td>\n",
       "      <td>Episode #3.17</td>\n",
       "      <td>2010</td>\n",
       "      <td>Action,Drama,Family</td>\n",
       "    </tr>\n",
       "    <tr>\n",
       "      <th>8090442</th>\n",
       "      <td>tt9916850</td>\n",
       "      <td>tvEpisode</td>\n",
       "      <td>Episode #3.19</td>\n",
       "      <td>2010</td>\n",
       "      <td>Action,Drama,Family</td>\n",
       "    </tr>\n",
       "    <tr>\n",
       "      <th>8090443</th>\n",
       "      <td>tt9916852</td>\n",
       "      <td>tvEpisode</td>\n",
       "      <td>Episode #3.20</td>\n",
       "      <td>2010</td>\n",
       "      <td>Action,Drama,Family</td>\n",
       "    </tr>\n",
       "    <tr>\n",
       "      <th>8090444</th>\n",
       "      <td>tt9916856</td>\n",
       "      <td>short</td>\n",
       "      <td>The Wind</td>\n",
       "      <td>2015</td>\n",
       "      <td>Short</td>\n",
       "    </tr>\n",
       "    <tr>\n",
       "      <th>8090445</th>\n",
       "      <td>tt9916880</td>\n",
       "      <td>tvEpisode</td>\n",
       "      <td>Horrid Henry Knows It All</td>\n",
       "      <td>2014</td>\n",
       "      <td>Animation,Comedy,Family</td>\n",
       "    </tr>\n",
       "  </tbody>\n",
       "</table>\n",
       "<p>6601861 rows × 5 columns</p>\n",
       "</div>"
      ],
      "text/plain": [
       "            tconst  titleType               primaryTitle startYear  \\\n",
       "0        tt0000001      short                 Carmencita      1894   \n",
       "1        tt0000002      short     Le clown et ses chiens      1892   \n",
       "2        tt0000003      short             Pauvre Pierrot      1892   \n",
       "3        tt0000004      short                Un bon bock      1892   \n",
       "4        tt0000005      short           Blacksmith Scene      1893   \n",
       "...            ...        ...                        ...       ...   \n",
       "8090441  tt9916848  tvEpisode              Episode #3.17      2010   \n",
       "8090442  tt9916850  tvEpisode              Episode #3.19      2010   \n",
       "8090443  tt9916852  tvEpisode              Episode #3.20      2010   \n",
       "8090444  tt9916856      short                   The Wind      2015   \n",
       "8090445  tt9916880  tvEpisode  Horrid Henry Knows It All      2014   \n",
       "\n",
       "                           genres  \n",
       "0               Documentary,Short  \n",
       "1                 Animation,Short  \n",
       "2        Animation,Comedy,Romance  \n",
       "3                 Animation,Short  \n",
       "4                    Comedy,Short  \n",
       "...                           ...  \n",
       "8090441       Action,Drama,Family  \n",
       "8090442       Action,Drama,Family  \n",
       "8090443       Action,Drama,Family  \n",
       "8090444                     Short  \n",
       "8090445   Animation,Comedy,Family  \n",
       "\n",
       "[6601861 rows x 5 columns]"
      ]
     },
     "execution_count": 7,
     "metadata": {},
     "output_type": "execute_result"
    }
   ],
   "source": [
    "# data cleansing\n",
    "df_title_basics_clean = df_title_basics.drop(columns = ['endYear', 'originalTitle', 'isAdult', 'runtimeMinutes'])\n",
    "\n",
    "df_title_basics_clean = df_title_basics_clean[df_title_basics_clean['startYear']!='\\\\N']\n",
    "df_title_basics_clean = df_title_basics_clean[df_title_basics_clean['genres']!='\\\\N']\n",
    "df_title_basics_clean"
   ]
  },
  {
   "cell_type": "code",
   "execution_count": 8,
   "id": "88de76fc-c9c3-4ad2-af22-39d2591e16c9",
   "metadata": {},
   "outputs": [],
   "source": [
    "# filter for only movies\n",
    "df_movies = df_title_basics_clean[df_title_basics_clean['titleType'] == 'movie']"
   ]
  },
  {
   "cell_type": "code",
   "execution_count": 9,
   "id": "53e3042f-3142-406d-918e-6b033d234a47",
   "metadata": {},
   "outputs": [],
   "source": [
    "# set data types\n",
    "df_movies_clean = df_movies.astype({'tconst':'str', 'titleType':'str', 'primaryTitle': 'str', 'startYear': 'int'})"
   ]
  },
  {
   "cell_type": "code",
   "execution_count": 10,
   "id": "2b16f08d-b5b3-49ff-aaf3-4ba513817098",
   "metadata": {},
   "outputs": [
    {
     "data": {
      "text/html": [
       "<div>\n",
       "<style scoped>\n",
       "    .dataframe tbody tr th:only-of-type {\n",
       "        vertical-align: middle;\n",
       "    }\n",
       "\n",
       "    .dataframe tbody tr th {\n",
       "        vertical-align: top;\n",
       "    }\n",
       "\n",
       "    .dataframe thead th {\n",
       "        text-align: right;\n",
       "    }\n",
       "</style>\n",
       "<table border=\"1\" class=\"dataframe\">\n",
       "  <thead>\n",
       "    <tr style=\"text-align: right;\">\n",
       "      <th></th>\n",
       "      <th>tconst</th>\n",
       "      <th>titleType</th>\n",
       "      <th>primaryTitle</th>\n",
       "      <th>startYear</th>\n",
       "      <th>genres</th>\n",
       "    </tr>\n",
       "  </thead>\n",
       "  <tbody>\n",
       "    <tr>\n",
       "      <th>570</th>\n",
       "      <td>tt0000574</td>\n",
       "      <td>movie</td>\n",
       "      <td>The Story of the Kelly Gang</td>\n",
       "      <td>1906</td>\n",
       "      <td>[Action, Adventure, Biography]</td>\n",
       "    </tr>\n",
       "    <tr>\n",
       "      <th>587</th>\n",
       "      <td>tt0000591</td>\n",
       "      <td>movie</td>\n",
       "      <td>The Prodigal Son</td>\n",
       "      <td>1907</td>\n",
       "      <td>[Drama]</td>\n",
       "    </tr>\n",
       "    <tr>\n",
       "      <th>610</th>\n",
       "      <td>tt0000615</td>\n",
       "      <td>movie</td>\n",
       "      <td>Robbery Under Arms</td>\n",
       "      <td>1907</td>\n",
       "      <td>[Drama]</td>\n",
       "    </tr>\n",
       "    <tr>\n",
       "      <th>625</th>\n",
       "      <td>tt0000630</td>\n",
       "      <td>movie</td>\n",
       "      <td>Hamlet</td>\n",
       "      <td>1908</td>\n",
       "      <td>[Drama]</td>\n",
       "    </tr>\n",
       "    <tr>\n",
       "      <th>668</th>\n",
       "      <td>tt0000675</td>\n",
       "      <td>movie</td>\n",
       "      <td>Don Quijote</td>\n",
       "      <td>1908</td>\n",
       "      <td>[Drama]</td>\n",
       "    </tr>\n",
       "  </tbody>\n",
       "</table>\n",
       "</div>"
      ],
      "text/plain": [
       "        tconst titleType                 primaryTitle  startYear  \\\n",
       "570  tt0000574     movie  The Story of the Kelly Gang       1906   \n",
       "587  tt0000591     movie             The Prodigal Son       1907   \n",
       "610  tt0000615     movie           Robbery Under Arms       1907   \n",
       "625  tt0000630     movie                       Hamlet       1908   \n",
       "668  tt0000675     movie                  Don Quijote       1908   \n",
       "\n",
       "                             genres  \n",
       "570  [Action, Adventure, Biography]  \n",
       "587                         [Drama]  \n",
       "610                         [Drama]  \n",
       "625                         [Drama]  \n",
       "668                         [Drama]  "
      ]
     },
     "execution_count": 10,
     "metadata": {},
     "output_type": "execute_result"
    }
   ],
   "source": [
    "# split genres into list\n",
    "df_movies_clean['genres'] = df_movies_clean['genres'].apply(lambda x: x.split(\",\"))\n",
    "df_movies_clean.head()"
   ]
  },
  {
   "cell_type": "code",
   "execution_count": 11,
   "id": "39c92f59-0a8e-418a-a439-fe6e7cbcceed",
   "metadata": {},
   "outputs": [
    {
     "data": {
      "text/html": [
       "<div>\n",
       "<style scoped>\n",
       "    .dataframe tbody tr th:only-of-type {\n",
       "        vertical-align: middle;\n",
       "    }\n",
       "\n",
       "    .dataframe tbody tr th {\n",
       "        vertical-align: top;\n",
       "    }\n",
       "\n",
       "    .dataframe thead th {\n",
       "        text-align: right;\n",
       "    }\n",
       "</style>\n",
       "<table border=\"1\" class=\"dataframe\">\n",
       "  <thead>\n",
       "    <tr style=\"text-align: right;\">\n",
       "      <th></th>\n",
       "      <th>tconst</th>\n",
       "      <th>titleType</th>\n",
       "      <th>primaryTitle</th>\n",
       "      <th>startYear</th>\n",
       "      <th>genres</th>\n",
       "      <th>averageRating</th>\n",
       "      <th>numVotes</th>\n",
       "      <th>fullTitle</th>\n",
       "    </tr>\n",
       "  </thead>\n",
       "  <tbody>\n",
       "    <tr>\n",
       "      <th>0</th>\n",
       "      <td>tt0035423</td>\n",
       "      <td>movie</td>\n",
       "      <td>Kate &amp; Leopold</td>\n",
       "      <td>2001</td>\n",
       "      <td>[Comedy, Fantasy, Romance]</td>\n",
       "      <td>6.4</td>\n",
       "      <td>80225</td>\n",
       "      <td>Kate &amp; Leopold (2001)</td>\n",
       "    </tr>\n",
       "    <tr>\n",
       "      <th>1</th>\n",
       "      <td>tt0038687</td>\n",
       "      <td>movie</td>\n",
       "      <td>Let There Be Light</td>\n",
       "      <td>1980</td>\n",
       "      <td>[Documentary, War]</td>\n",
       "      <td>7.5</td>\n",
       "      <td>1691</td>\n",
       "      <td>Let There Be Light (1980)</td>\n",
       "    </tr>\n",
       "    <tr>\n",
       "      <th>2</th>\n",
       "      <td>tt0066498</td>\n",
       "      <td>movie</td>\n",
       "      <td>The Ear</td>\n",
       "      <td>1990</td>\n",
       "      <td>[Drama, Thriller]</td>\n",
       "      <td>7.8</td>\n",
       "      <td>2607</td>\n",
       "      <td>The Ear (1990)</td>\n",
       "    </tr>\n",
       "    <tr>\n",
       "      <th>3</th>\n",
       "      <td>tt0067100</td>\n",
       "      <td>movie</td>\n",
       "      <td>Firecracker</td>\n",
       "      <td>1981</td>\n",
       "      <td>[Action, Drama, Thriller]</td>\n",
       "      <td>5.6</td>\n",
       "      <td>586</td>\n",
       "      <td>Firecracker (1981)</td>\n",
       "    </tr>\n",
       "    <tr>\n",
       "      <th>4</th>\n",
       "      <td>tt0067625</td>\n",
       "      <td>movie</td>\n",
       "      <td>Trial on the Road</td>\n",
       "      <td>1986</td>\n",
       "      <td>[Drama, War]</td>\n",
       "      <td>7.9</td>\n",
       "      <td>2070</td>\n",
       "      <td>Trial on the Road (1986)</td>\n",
       "    </tr>\n",
       "  </tbody>\n",
       "</table>\n",
       "</div>"
      ],
      "text/plain": [
       "      tconst titleType        primaryTitle  startYear  \\\n",
       "0  tt0035423     movie      Kate & Leopold       2001   \n",
       "1  tt0038687     movie  Let There Be Light       1980   \n",
       "2  tt0066498     movie             The Ear       1990   \n",
       "3  tt0067100     movie         Firecracker       1981   \n",
       "4  tt0067625     movie   Trial on the Road       1986   \n",
       "\n",
       "                       genres  averageRating  numVotes  \\\n",
       "0  [Comedy, Fantasy, Romance]            6.4     80225   \n",
       "1          [Documentary, War]            7.5      1691   \n",
       "2           [Drama, Thriller]            7.8      2607   \n",
       "3   [Action, Drama, Thriller]            5.6       586   \n",
       "4                [Drama, War]            7.9      2070   \n",
       "\n",
       "                   fullTitle  \n",
       "0      Kate & Leopold (2001)  \n",
       "1  Let There Be Light (1980)  \n",
       "2             The Ear (1990)  \n",
       "3         Firecracker (1981)  \n",
       "4   Trial on the Road (1986)  "
      ]
     },
     "execution_count": 11,
     "metadata": {},
     "output_type": "execute_result"
    }
   ],
   "source": [
    "# merge ratings data onto main df\n",
    "df_movies_ratings = df_movies_clean.merge(df_title_ratings, left_on='tconst', right_on='tconst')\n",
    "df_movies_ratings = df_movies_ratings[df_movies_ratings['startYear'] >= 1980]\n",
    "df_movies_ratings = df_movies_ratings[df_movies_ratings['numVotes'] >= 500]\n",
    "df_movies_ratings['fullTitle'] = df_movies_ratings['primaryTitle'] + ' (' + df_movies_ratings['startYear'].astype(str) + ')'\n",
    "df_movies_ratings = df_movies_ratings.reset_index(drop=True)\n",
    "df_movies_ratings.head()"
   ]
  },
  {
   "cell_type": "code",
   "execution_count": 12,
   "id": "5af9c4c7-0cdc-46f1-90a2-c621b9c5b393",
   "metadata": {},
   "outputs": [
    {
     "name": "stdout",
     "output_type": "stream",
     "text": [
      "There are 24 genre labels.\n"
     ]
    },
    {
     "data": {
      "text/plain": [
       "Counter({'Comedy': 13534,\n",
       "         'Fantasy': 2038,\n",
       "         'Romance': 6279,\n",
       "         'Documentary': 2590,\n",
       "         'War': 722,\n",
       "         'Drama': 20442,\n",
       "         'Thriller': 5982,\n",
       "         'Action': 7074,\n",
       "         'Crime': 5588,\n",
       "         'Horror': 4791,\n",
       "         'Sci-Fi': 1852,\n",
       "         'Adventure': 3651,\n",
       "         'Mystery': 2651,\n",
       "         'Animation': 1316,\n",
       "         'Family': 1587,\n",
       "         'History': 1316,\n",
       "         'Music': 1242,\n",
       "         'Adult': 16,\n",
       "         'Biography': 1956,\n",
       "         'Musical': 441,\n",
       "         'Sport': 772,\n",
       "         'Western': 164,\n",
       "         'News': 47,\n",
       "         'Reality-TV': 1})"
      ]
     },
     "execution_count": 12,
     "metadata": {},
     "output_type": "execute_result"
    }
   ],
   "source": [
    "from collections import Counter\n",
    "\n",
    "genres_counts = Counter(g for genres in df_movies_ratings['genres'] for g in genres)\n",
    "print(f\"There are {len(genres_counts)} genre labels.\")\n",
    "genres_counts"
   ]
  },
  {
   "cell_type": "code",
   "execution_count": 13,
   "id": "d64d39be-b000-44c2-9e10-8ccfe7a5c566",
   "metadata": {},
   "outputs": [],
   "source": [
    "# 2 ways to get movie decade\n",
    "def get_decade(year):\n",
    "    year = str(year)\n",
    "    decade_prefix = year[0:3] # get first 3 digits of year\n",
    "    decade = f'{decade_prefix}0' # append 0 at the end\n",
    "    return int(decade)\n",
    "\n",
    "def round_down(year):\n",
    "    return year - (year%10)"
   ]
  },
  {
   "cell_type": "code",
   "execution_count": 14,
   "id": "baa52b8c-64ed-4b90-ab09-739e91af5e87",
   "metadata": {},
   "outputs": [
    {
     "data": {
      "text/html": [
       "<div>\n",
       "<style scoped>\n",
       "    .dataframe tbody tr th:only-of-type {\n",
       "        vertical-align: middle;\n",
       "    }\n",
       "\n",
       "    .dataframe tbody tr th {\n",
       "        vertical-align: top;\n",
       "    }\n",
       "\n",
       "    .dataframe thead th {\n",
       "        text-align: right;\n",
       "    }\n",
       "</style>\n",
       "<table border=\"1\" class=\"dataframe\">\n",
       "  <thead>\n",
       "    <tr style=\"text-align: right;\">\n",
       "      <th></th>\n",
       "      <th>tconst</th>\n",
       "      <th>titleType</th>\n",
       "      <th>primaryTitle</th>\n",
       "      <th>startYear</th>\n",
       "      <th>genres</th>\n",
       "      <th>averageRating</th>\n",
       "      <th>numVotes</th>\n",
       "      <th>fullTitle</th>\n",
       "      <th>decade</th>\n",
       "    </tr>\n",
       "  </thead>\n",
       "  <tbody>\n",
       "    <tr>\n",
       "      <th>0</th>\n",
       "      <td>tt0035423</td>\n",
       "      <td>movie</td>\n",
       "      <td>Kate &amp; Leopold</td>\n",
       "      <td>2001</td>\n",
       "      <td>[Comedy, Fantasy, Romance]</td>\n",
       "      <td>6.4</td>\n",
       "      <td>80225</td>\n",
       "      <td>Kate &amp; Leopold (2001)</td>\n",
       "      <td>2000</td>\n",
       "    </tr>\n",
       "    <tr>\n",
       "      <th>1</th>\n",
       "      <td>tt0038687</td>\n",
       "      <td>movie</td>\n",
       "      <td>Let There Be Light</td>\n",
       "      <td>1980</td>\n",
       "      <td>[Documentary, War]</td>\n",
       "      <td>7.5</td>\n",
       "      <td>1691</td>\n",
       "      <td>Let There Be Light (1980)</td>\n",
       "      <td>1980</td>\n",
       "    </tr>\n",
       "    <tr>\n",
       "      <th>2</th>\n",
       "      <td>tt0066498</td>\n",
       "      <td>movie</td>\n",
       "      <td>The Ear</td>\n",
       "      <td>1990</td>\n",
       "      <td>[Drama, Thriller]</td>\n",
       "      <td>7.8</td>\n",
       "      <td>2607</td>\n",
       "      <td>The Ear (1990)</td>\n",
       "      <td>1990</td>\n",
       "    </tr>\n",
       "    <tr>\n",
       "      <th>3</th>\n",
       "      <td>tt0067100</td>\n",
       "      <td>movie</td>\n",
       "      <td>Firecracker</td>\n",
       "      <td>1981</td>\n",
       "      <td>[Action, Drama, Thriller]</td>\n",
       "      <td>5.6</td>\n",
       "      <td>586</td>\n",
       "      <td>Firecracker (1981)</td>\n",
       "      <td>1980</td>\n",
       "    </tr>\n",
       "    <tr>\n",
       "      <th>4</th>\n",
       "      <td>tt0067625</td>\n",
       "      <td>movie</td>\n",
       "      <td>Trial on the Road</td>\n",
       "      <td>1986</td>\n",
       "      <td>[Drama, War]</td>\n",
       "      <td>7.9</td>\n",
       "      <td>2070</td>\n",
       "      <td>Trial on the Road (1986)</td>\n",
       "      <td>1980</td>\n",
       "    </tr>\n",
       "  </tbody>\n",
       "</table>\n",
       "</div>"
      ],
      "text/plain": [
       "      tconst titleType        primaryTitle  startYear  \\\n",
       "0  tt0035423     movie      Kate & Leopold       2001   \n",
       "1  tt0038687     movie  Let There Be Light       1980   \n",
       "2  tt0066498     movie             The Ear       1990   \n",
       "3  tt0067100     movie         Firecracker       1981   \n",
       "4  tt0067625     movie   Trial on the Road       1986   \n",
       "\n",
       "                       genres  averageRating  numVotes  \\\n",
       "0  [Comedy, Fantasy, Romance]            6.4     80225   \n",
       "1          [Documentary, War]            7.5      1691   \n",
       "2           [Drama, Thriller]            7.8      2607   \n",
       "3   [Action, Drama, Thriller]            5.6       586   \n",
       "4                [Drama, War]            7.9      2070   \n",
       "\n",
       "                   fullTitle  decade  \n",
       "0      Kate & Leopold (2001)    2000  \n",
       "1  Let There Be Light (1980)    1980  \n",
       "2             The Ear (1990)    1990  \n",
       "3         Firecracker (1981)    1980  \n",
       "4   Trial on the Road (1986)    1980  "
      ]
     },
     "execution_count": 14,
     "metadata": {},
     "output_type": "execute_result"
    }
   ],
   "source": [
    "df_movies_ratings['decade'] = df_movies_ratings['startYear'].apply(round_down)\n",
    "df_movies_ratings.head()"
   ]
  },
  {
   "cell_type": "code",
   "execution_count": 15,
   "id": "4afdddfa-9113-412e-be96-87bc80aa5232",
   "metadata": {},
   "outputs": [
    {
     "data": {
      "text/plain": [
       "(array([0, 1, 2, 3, 4]),\n",
       " [Text(0, 0, '1980'),\n",
       "  Text(1, 0, '1990'),\n",
       "  Text(2, 0, '2000'),\n",
       "  Text(3, 0, '2010'),\n",
       "  Text(4, 0, '2020')])"
      ]
     },
     "execution_count": 15,
     "metadata": {},
     "output_type": "execute_result"
    },
    {
     "data": {
      "image/png": "[encoded data removed]",
      "text/plain": [
       "<Figure size 720x432 with 1 Axes>"
      ]
     },
     "metadata": {
      "needs_background": "light"
     },
     "output_type": "display_data"
    }
   ],
   "source": [
    "plt.figure(figsize=(10,6))\n",
    "sns.countplot(df_movies_ratings['decade'], palette='Blues')\n",
    "plt.xticks(rotation=90)"
   ]
  },
  {
   "cell_type": "code",
   "execution_count": 16,
   "id": "eedb7d28-21e2-495f-b7c7-99dbf199f29b",
   "metadata": {},
   "outputs": [],
   "source": [
    "# generate features based on genres\n",
    "genres = list(genres_counts.keys())\n",
    "\n",
    "for g in genres:\n",
    "    df_movies_ratings[g] = df_movies_ratings['genres'].transform(lambda x: int(g in x))"
   ]
  },
  {
   "cell_type": "code",
   "execution_count": 17,
   "id": "1c3f1fc7-0bcd-4c78-acf2-78b9f955fdf9",
   "metadata": {},
   "outputs": [
    {
     "data": {
      "text/html": [
       "<div>\n",
       "<style scoped>\n",
       "    .dataframe tbody tr th:only-of-type {\n",
       "        vertical-align: middle;\n",
       "    }\n",
       "\n",
       "    .dataframe tbody tr th {\n",
       "        vertical-align: top;\n",
       "    }\n",
       "\n",
       "    .dataframe thead th {\n",
       "        text-align: right;\n",
       "    }\n",
       "</style>\n",
       "<table border=\"1\" class=\"dataframe\">\n",
       "  <thead>\n",
       "    <tr style=\"text-align: right;\">\n",
       "      <th></th>\n",
       "      <th>1980</th>\n",
       "      <th>1990</th>\n",
       "      <th>2000</th>\n",
       "      <th>2010</th>\n",
       "      <th>2020</th>\n",
       "    </tr>\n",
       "  </thead>\n",
       "  <tbody>\n",
       "    <tr>\n",
       "      <th>0</th>\n",
       "      <td>0</td>\n",
       "      <td>0</td>\n",
       "      <td>1</td>\n",
       "      <td>0</td>\n",
       "      <td>0</td>\n",
       "    </tr>\n",
       "    <tr>\n",
       "      <th>1</th>\n",
       "      <td>1</td>\n",
       "      <td>0</td>\n",
       "      <td>0</td>\n",
       "      <td>0</td>\n",
       "      <td>0</td>\n",
       "    </tr>\n",
       "    <tr>\n",
       "      <th>2</th>\n",
       "      <td>0</td>\n",
       "      <td>1</td>\n",
       "      <td>0</td>\n",
       "      <td>0</td>\n",
       "      <td>0</td>\n",
       "    </tr>\n",
       "    <tr>\n",
       "      <th>3</th>\n",
       "      <td>1</td>\n",
       "      <td>0</td>\n",
       "      <td>0</td>\n",
       "      <td>0</td>\n",
       "      <td>0</td>\n",
       "    </tr>\n",
       "    <tr>\n",
       "      <th>4</th>\n",
       "      <td>1</td>\n",
       "      <td>0</td>\n",
       "      <td>0</td>\n",
       "      <td>0</td>\n",
       "      <td>0</td>\n",
       "    </tr>\n",
       "  </tbody>\n",
       "</table>\n",
       "</div>"
      ],
      "text/plain": [
       "   1980  1990  2000  2010  2020\n",
       "0     0     0     1     0     0\n",
       "1     1     0     0     0     0\n",
       "2     0     1     0     0     0\n",
       "3     1     0     0     0     0\n",
       "4     1     0     0     0     0"
      ]
     },
     "execution_count": 17,
     "metadata": {},
     "output_type": "execute_result"
    }
   ],
   "source": [
    "movie_decades = pd.get_dummies(df_movies_ratings['decade'])\n",
    "movie_decades.head()"
   ]
  },
  {
   "cell_type": "code",
   "execution_count": 18,
   "id": "7eca3cf0-b8b4-49a7-9466-335f77da8e1d",
   "metadata": {},
   "outputs": [
    {
     "data": {
      "text/plain": [
       "0    0.606742\n",
       "1    0.730337\n",
       "2    0.764045\n",
       "3    0.516854\n",
       "4    0.775281\n",
       "Name: averageRating, dtype: float64"
      ]
     },
     "execution_count": 18,
     "metadata": {},
     "output_type": "execute_result"
    }
   ],
   "source": [
    "df_movies_ratings['averageRating'] = (df_movies_ratings['averageRating']-df_movies_ratings['averageRating'].min())/(df_movies_ratings['averageRating'].max()-df_movies_ratings['averageRating'].min())\n",
    "df_movies_ratings['averageRating'].head()"
   ]
  },
  {
   "cell_type": "code",
   "execution_count": 19,
   "id": "30af1d91-770b-4cd0-b6a8-ec65df886306",
   "metadata": {},
   "outputs": [
    {
     "data": {
      "text/html": [
       "<div>\n",
       "<style scoped>\n",
       "    .dataframe tbody tr th:only-of-type {\n",
       "        vertical-align: middle;\n",
       "    }\n",
       "\n",
       "    .dataframe tbody tr th {\n",
       "        vertical-align: top;\n",
       "    }\n",
       "\n",
       "    .dataframe thead th {\n",
       "        text-align: right;\n",
       "    }\n",
       "</style>\n",
       "<table border=\"1\" class=\"dataframe\">\n",
       "  <thead>\n",
       "    <tr style=\"text-align: right;\">\n",
       "      <th></th>\n",
       "      <th>Comedy</th>\n",
       "      <th>Fantasy</th>\n",
       "      <th>Romance</th>\n",
       "      <th>Documentary</th>\n",
       "      <th>War</th>\n",
       "      <th>Drama</th>\n",
       "      <th>Thriller</th>\n",
       "      <th>Action</th>\n",
       "      <th>Crime</th>\n",
       "      <th>Horror</th>\n",
       "      <th>...</th>\n",
       "      <th>Sport</th>\n",
       "      <th>Western</th>\n",
       "      <th>News</th>\n",
       "      <th>Reality-TV</th>\n",
       "      <th>1980</th>\n",
       "      <th>1990</th>\n",
       "      <th>2000</th>\n",
       "      <th>2010</th>\n",
       "      <th>2020</th>\n",
       "      <th>averageRating</th>\n",
       "    </tr>\n",
       "  </thead>\n",
       "  <tbody>\n",
       "    <tr>\n",
       "      <th>0</th>\n",
       "      <td>1</td>\n",
       "      <td>1</td>\n",
       "      <td>1</td>\n",
       "      <td>0</td>\n",
       "      <td>0</td>\n",
       "      <td>0</td>\n",
       "      <td>0</td>\n",
       "      <td>0</td>\n",
       "      <td>0</td>\n",
       "      <td>0</td>\n",
       "      <td>...</td>\n",
       "      <td>0</td>\n",
       "      <td>0</td>\n",
       "      <td>0</td>\n",
       "      <td>0</td>\n",
       "      <td>0</td>\n",
       "      <td>0</td>\n",
       "      <td>1</td>\n",
       "      <td>0</td>\n",
       "      <td>0</td>\n",
       "      <td>0.606742</td>\n",
       "    </tr>\n",
       "    <tr>\n",
       "      <th>1</th>\n",
       "      <td>0</td>\n",
       "      <td>0</td>\n",
       "      <td>0</td>\n",
       "      <td>1</td>\n",
       "      <td>1</td>\n",
       "      <td>0</td>\n",
       "      <td>0</td>\n",
       "      <td>0</td>\n",
       "      <td>0</td>\n",
       "      <td>0</td>\n",
       "      <td>...</td>\n",
       "      <td>0</td>\n",
       "      <td>0</td>\n",
       "      <td>0</td>\n",
       "      <td>0</td>\n",
       "      <td>1</td>\n",
       "      <td>0</td>\n",
       "      <td>0</td>\n",
       "      <td>0</td>\n",
       "      <td>0</td>\n",
       "      <td>0.730337</td>\n",
       "    </tr>\n",
       "    <tr>\n",
       "      <th>2</th>\n",
       "      <td>0</td>\n",
       "      <td>0</td>\n",
       "      <td>0</td>\n",
       "      <td>0</td>\n",
       "      <td>0</td>\n",
       "      <td>1</td>\n",
       "      <td>1</td>\n",
       "      <td>0</td>\n",
       "      <td>0</td>\n",
       "      <td>0</td>\n",
       "      <td>...</td>\n",
       "      <td>0</td>\n",
       "      <td>0</td>\n",
       "      <td>0</td>\n",
       "      <td>0</td>\n",
       "      <td>0</td>\n",
       "      <td>1</td>\n",
       "      <td>0</td>\n",
       "      <td>0</td>\n",
       "      <td>0</td>\n",
       "      <td>0.764045</td>\n",
       "    </tr>\n",
       "    <tr>\n",
       "      <th>3</th>\n",
       "      <td>0</td>\n",
       "      <td>0</td>\n",
       "      <td>0</td>\n",
       "      <td>0</td>\n",
       "      <td>0</td>\n",
       "      <td>1</td>\n",
       "      <td>1</td>\n",
       "      <td>1</td>\n",
       "      <td>0</td>\n",
       "      <td>0</td>\n",
       "      <td>...</td>\n",
       "      <td>0</td>\n",
       "      <td>0</td>\n",
       "      <td>0</td>\n",
       "      <td>0</td>\n",
       "      <td>1</td>\n",
       "      <td>0</td>\n",
       "      <td>0</td>\n",
       "      <td>0</td>\n",
       "      <td>0</td>\n",
       "      <td>0.516854</td>\n",
       "    </tr>\n",
       "    <tr>\n",
       "      <th>4</th>\n",
       "      <td>0</td>\n",
       "      <td>0</td>\n",
       "      <td>0</td>\n",
       "      <td>0</td>\n",
       "      <td>1</td>\n",
       "      <td>1</td>\n",
       "      <td>0</td>\n",
       "      <td>0</td>\n",
       "      <td>0</td>\n",
       "      <td>0</td>\n",
       "      <td>...</td>\n",
       "      <td>0</td>\n",
       "      <td>0</td>\n",
       "      <td>0</td>\n",
       "      <td>0</td>\n",
       "      <td>1</td>\n",
       "      <td>0</td>\n",
       "      <td>0</td>\n",
       "      <td>0</td>\n",
       "      <td>0</td>\n",
       "      <td>0.775281</td>\n",
       "    </tr>\n",
       "  </tbody>\n",
       "</table>\n",
       "<p>5 rows × 30 columns</p>\n",
       "</div>"
      ],
      "text/plain": [
       "   Comedy  Fantasy  Romance  Documentary  War  Drama  Thriller  Action  Crime  \\\n",
       "0       1        1        1            0    0      0         0       0      0   \n",
       "1       0        0        0            1    1      0         0       0      0   \n",
       "2       0        0        0            0    0      1         1       0      0   \n",
       "3       0        0        0            0    0      1         1       1      0   \n",
       "4       0        0        0            0    1      1         0       0      0   \n",
       "\n",
       "   Horror  ...  Sport  Western  News  Reality-TV  1980  1990  2000  2010  \\\n",
       "0       0  ...      0        0     0           0     0     0     1     0   \n",
       "1       0  ...      0        0     0           0     1     0     0     0   \n",
       "2       0  ...      0        0     0           0     0     1     0     0   \n",
       "3       0  ...      0        0     0           0     1     0     0     0   \n",
       "4       0  ...      0        0     0           0     1     0     0     0   \n",
       "\n",
       "   2020  averageRating  \n",
       "0     0       0.606742  \n",
       "1     0       0.730337  \n",
       "2     0       0.764045  \n",
       "3     0       0.516854  \n",
       "4     0       0.775281  \n",
       "\n",
       "[5 rows x 30 columns]"
      ]
     },
     "execution_count": 19,
     "metadata": {},
     "output_type": "execute_result"
    }
   ],
   "source": [
    "movie_features = pd.concat([df_movies_ratings[genres], movie_decades, df_movies_ratings['averageRating']], axis=1)\n",
    "movie_features.head()"
   ]
  },
  {
   "cell_type": "code",
   "execution_count": 20,
   "id": "7e8d2bfc-0aee-4c62-9852-7644cace972a",
   "metadata": {},
   "outputs": [],
   "source": [
    "# store movie features to use if kernel fails\n",
    "movie_features.to_csv('movie_features.csv', index = False)\n",
    "df_movies_ratings.to_csv('df_movies_ratings.csv')"
   ]
  },
  {
   "cell_type": "markdown",
   "id": "6c7a5031-1441-4b28-bd61-a661af00790f",
   "metadata": {},
   "source": [
    "# Load Movie Features data to build recommender matrix"
   ]
  },
  {
   "cell_type": "code",
   "execution_count": 21,
   "id": "5a7f6761-ea61-425d-a3c5-cd68145c919e",
   "metadata": {},
   "outputs": [
    {
     "data": {
      "text/plain": [
       "(38550, 30)"
      ]
     },
     "execution_count": 21,
     "metadata": {},
     "output_type": "execute_result"
    }
   ],
   "source": [
    "# import movie features dataframe\n",
    "movie_features = pd.read_csv('movie_features.csv')\n",
    "movie_features.shape"
   ]
  },
  {
   "cell_type": "code",
   "execution_count": 22,
   "id": "98eb75d6-8194-475d-acd7-99dbed74f5ba",
   "metadata": {},
   "outputs": [
    {
     "data": {
      "text/plain": [
       "(38550, 34)"
      ]
     },
     "execution_count": 22,
     "metadata": {},
     "output_type": "execute_result"
    }
   ],
   "source": [
    "# import movie ratings dataframe\n",
    "df_movies_ratings = pd.read_csv('df_movies_ratings.csv')\n",
    "df_movies_ratings.shape"
   ]
  },
  {
   "cell_type": "code",
   "execution_count": 23,
   "id": "196de5f9-4456-4399-b516-402447badb63",
   "metadata": {},
   "outputs": [],
   "source": [
    "# start building the cosine similarity recommender - if this keeps causing kernel to fail, other method below\n",
    "from sklearn.metrics.pairwise import cosine_similarity\n",
    "#from scipy import sparse\n",
    "\n",
    "#sparse_movie_features = sparse.csr_matrix(movie_features)\n",
    "\n",
    "cosine_sim = cosine_similarity(movie_features, movie_features)"
   ]
  },
  {
   "cell_type": "code",
   "execution_count": null,
   "id": "0e1ce5f5-5cbb-4d27-905d-bceb5430ade6",
   "metadata": {},
   "outputs": [],
   "source": [
    "# apparently dot prod of unit-normalized vectors is equivalent to cosine sim\n",
    "#from sklearn.preprocessing import normalize\n",
    "#result = np.dot(normalize(II, axis=1), normalize(I, axis=1).T)\n",
    "\n",
    "#from numpy import dot\n",
    "#from numpy.linalg import norm\n",
    "\n",
    "#cosine_sim = (movie_features @ movie_features.T)/(norm(movie_features)*norm(movie_features))"
   ]
  },
  {
   "cell_type": "code",
   "execution_count": null,
   "id": "9c7af2fe-eb21-44dd-951f-c4494a1ab85a",
   "metadata": {},
   "outputs": [],
   "source": [
    "# running into memory errors, so going to chunk the cosine similarities vs running them all at once\n",
    "#from sklearn.metrics.pairwise import cosine_similarity\n",
    "#from scipy import sparse\n",
    "\n",
    "#batch_size = 1000\n",
    "\n",
    "#sparse_movie_features = sparse.csr_matrix(movie_features)\n",
    "\n",
    "#def cosine_similarity_n_space(m1, m2, batch_size):\n",
    "#    i = 0\n",
    "#    assert m1.shape[1] == m2.shape[1]\n",
    "#    ret = np.ndarray((m1.shape[0], m2.shape[0]))\n",
    "#    for row_i in range(0, int(m1.shape[0] / batch_size) + 1):\n",
    "#        start = row_i * batch_size\n",
    "#        end = min([(row_i + 1) * batch_size, m1.shape[0]])\n",
    "#        if end <= start:\n",
    "#            break # cause I'm too lazy to elegantly handle edge cases\n",
    "#        rows = m1[start: end]\n",
    "#        sim = cosine_similarity(rows, m2) # rows is O(1) size\n",
    "#        ret[start: end] = sim\n",
    "#    return ret\n",
    "\n",
    "#cosine_sim = cosine_similarity_n_space(movie_features, sparse_movie_features, batch_size)"
   ]
  },
  {
   "cell_type": "code",
   "execution_count": 24,
   "id": "ac68da22-07bb-4c2f-8046-2657cb9938f1",
   "metadata": {},
   "outputs": [
    {
     "name": "stdout",
     "output_type": "stream",
     "text": [
      "Dimensions of our movie features cosine similarity matrix: (38550, 38550)\n"
     ]
    }
   ],
   "source": [
    "print(f\"Dimensions of our movie features cosine similarity matrix: {cosine_sim.shape}\")"
   ]
  },
  {
   "cell_type": "markdown",
   "id": "69c5fc03-5db0-4a1c-9d8b-3bbe5bb4fa22",
   "metadata": {},
   "source": [
    "# Finding similar movies!"
   ]
  },
  {
   "cell_type": "code",
   "execution_count": 25,
   "id": "2619bdb1-0164-4d43-be44-210e1822e636",
   "metadata": {},
   "outputs": [],
   "source": [
    "movie_idx = dict(zip(df_movies_ratings['fullTitle'], list(df_movies_ratings.index)))"
   ]
  },
  {
   "cell_type": "code",
   "execution_count": 26,
   "id": "e4964d4e-08c2-4a55-83be-b884a8c58703",
   "metadata": {},
   "outputs": [],
   "source": [
    "from fuzzywuzzy import fuzz\n",
    "from fuzzywuzzy import process\n",
    "\n",
    "def movie_finder(title):\n",
    "    all_titles = df_movies_ratings['fullTitle'].tolist()\n",
    "    closest_match = process.extractOne(title, all_titles, scorer = fuzz.token_set_ratio) #sort or set\n",
    "    return closest_match[0]\n",
    "\n",
    "def get_content_based_recommendations(title_string, n_recommendations=10):\n",
    "    title = movie_finder(title_string)\n",
    "    idx = movie_idx[title]\n",
    "    sim_scores = list(enumerate(cosine_sim[idx]))\n",
    "    sim_scores = sorted(sim_scores, key=lambda x: x[1], reverse=True)\n",
    "    sim_scores = sim_scores[1:(n_recommendations+1)]\n",
    "    similar_movies = [i[0] for i in sim_scores]\n",
    "    print(f\"Recommendations for {title}: \")\n",
    "    print(df_movies_ratings['fullTitle'].iloc[similar_movies])"
   ]
  },
  {
   "cell_type": "code",
   "execution_count": 30,
   "id": "872686f6-ada4-482a-967f-e034c94dc8e5",
   "metadata": {},
   "outputs": [
    {
     "name": "stdout",
     "output_type": "stream",
     "text": [
      "Recommendations for Out Cold (2001): \n",
      "14508                               Blades of Glory (2007)\n",
      "18664                                     Fired Up! (2009)\n",
      "8674                               The Replacements (2000)\n",
      "13676    Talladega Nights: the Ballad of Ricky Bobby (2...\n",
      "20762                            The Winning Season (2009)\n",
      "17590                               Ping Pong Playa (2007)\n",
      "21554                              Oppai Volleyball (2009)\n",
      "12367              Dodgeball: A True Underdog Story (2004)\n",
      "16176                                       Hot Rod (2007)\n",
      "14716                                   Beer League (2006)\n",
      "Name: fullTitle, dtype: object\n"
     ]
    }
   ],
   "source": [
    "get_content_based_recommendations('out cold 2001')\n"
   ]
  },
  {
   "cell_type": "markdown",
   "id": "4efb6e72-1bb4-4c32-8e59-a8d0c50c0d75",
   "metadata": {},
   "source": [
    "# Simple GUI"
   ]
  },
  {
   "cell_type": "code",
   "execution_count": 31,
   "id": "838480c6-5f57-4ba7-8357-ffc500c7d827",
   "metadata": {},
   "outputs": [],
   "source": [
    "import ipywidgets as widgets\n",
    "from IPython.display import display"
   ]
  },
  {
   "cell_type": "code",
   "execution_count": 33,
   "id": "32e7e5c1-5935-4c85-9ff6-10bda3c42c18",
   "metadata": {},
   "outputs": [
    {
     "data": {
      "application/vnd.jupyter.widget-view+json": {
       "model_id": "74417f20e6ff4beba8107650c4f48e34",
       "version_major": 2,
       "version_minor": 0
      },
      "text/plain": [
       "Text(value='', placeholder='movie search')"
      ]
     },
     "metadata": {},
     "output_type": "display_data"
    },
    {
     "data": {
      "application/vnd.jupyter.widget-view+json": {
       "model_id": "e7eaba51981d43cf9920f4b086d0879d",
       "version_major": 2,
       "version_minor": 0
      },
      "text/plain": [
       "Button(description='Recommend', style=ButtonStyle())"
      ]
     },
     "metadata": {},
     "output_type": "display_data"
    },
    {
     "data": {
      "application/vnd.jupyter.widget-view+json": {
       "model_id": "0768086a5c8c4041b7d8436adfa40a2b",
       "version_major": 2,
       "version_minor": 0
      },
      "text/plain": [
       "Output()"
      ]
     },
     "metadata": {},
     "output_type": "display_data"
    }
   ],
   "source": [
    "text = widgets.Text(placeholder='movie search')\n",
    "display(text)\n",
    "\n",
    "button = widgets.Button(description=\"Recommend\")\n",
    "display(button)\n",
    "\n",
    "output = widgets.Output()\n",
    "\n",
    "@output.capture()\n",
    "def on_button_clicked(b):\n",
    "    output.clear_output()\n",
    "    return get_content_based_recommendations(text.value)\n",
    "\n",
    "button.on_click(on_button_clicked)\n",
    "display(output)"
   ]
  },
  {
   "cell_type": "code",
   "execution_count": null,
   "id": "e4bc3282-c741-4f7f-ab41-f3e3b56652e1",
   "metadata": {},
   "outputs": [],
   "source": []
  },
  {
   "cell_type": "code",
   "execution_count": null,
   "id": "4a63f7af-d226-45d6-9dd7-46906aa11cba",
   "metadata": {},
   "outputs": [],
   "source": []
  }
 ],
 "metadata": {
  "kernelspec": {
   "display_name": "Python 3 (ipykernel)",
   "language": "python",
   "name": "python3"
  },
  "language_info": {
   "codemirror_mode": {
    "name": "ipython",
    "version": 3
   },
   "file_extension": ".py",
   "mimetype": "text/x-python",
   "name": "python",
   "nbconvert_exporter": "python",
   "pygments_lexer": "ipython3",
   "version": "3.9.6"
  }
 },
 "nbformat": 4,
 "nbformat_minor": 5
}
