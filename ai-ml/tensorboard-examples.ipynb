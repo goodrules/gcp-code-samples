{
 "cells": [
  {
   "cell_type": "markdown",
   "id": "07a5a055-ecb6-45b9-9abc-0396419c4f22",
   "metadata": {},
   "source": [
    "# Tensorboard example #1: ANN"
   ]
  },
  {
   "cell_type": "code",
   "execution_count": 1,
   "id": "3b510e87-7cf1-4ef5-ba8c-9a8bdff56a23",
   "metadata": {},
   "outputs": [
    {
     "name": "stdout",
     "output_type": "stream",
     "text": [
      "complete\n"
     ]
    }
   ],
   "source": [
    "import numpy as np\n",
    "import pandas as pd\n",
    "import tensorflow as tf\n",
    "import datetime\n",
    "\n",
    "print('complete')\n"
   ]
  },
  {
   "cell_type": "code",
   "execution_count": 2,
   "id": "7a8f7a6c-25b8-4ac2-8b0e-59bd1831afe5",
   "metadata": {},
   "outputs": [],
   "source": [
    "load_ext tensorboard\n"
   ]
  },
  {
   "cell_type": "code",
   "execution_count": 3,
   "id": "b92da0db-fc1e-4462-ad08-9195661d2534",
   "metadata": {},
   "outputs": [
    {
     "data": {
      "text/html": [
       "<div>\n",
       "<style scoped>\n",
       "    .dataframe tbody tr th:only-of-type {\n",
       "        vertical-align: middle;\n",
       "    }\n",
       "\n",
       "    .dataframe tbody tr th {\n",
       "        vertical-align: top;\n",
       "    }\n",
       "\n",
       "    .dataframe thead th {\n",
       "        text-align: right;\n",
       "    }\n",
       "</style>\n",
       "<table border=\"1\" class=\"dataframe\">\n",
       "  <thead>\n",
       "    <tr style=\"text-align: right;\">\n",
       "      <th></th>\n",
       "      <th>age</th>\n",
       "      <th>job</th>\n",
       "      <th>marital</th>\n",
       "      <th>education</th>\n",
       "      <th>default</th>\n",
       "      <th>balance</th>\n",
       "      <th>housing</th>\n",
       "      <th>loan</th>\n",
       "      <th>contact</th>\n",
       "      <th>day</th>\n",
       "      <th>month</th>\n",
       "      <th>duration</th>\n",
       "      <th>campaign</th>\n",
       "      <th>pdays</th>\n",
       "      <th>previous</th>\n",
       "      <th>poutcome</th>\n",
       "      <th>y</th>\n",
       "    </tr>\n",
       "  </thead>\n",
       "  <tbody>\n",
       "    <tr>\n",
       "      <th>0</th>\n",
       "      <td>58</td>\n",
       "      <td>management</td>\n",
       "      <td>married</td>\n",
       "      <td>tertiary</td>\n",
       "      <td>no</td>\n",
       "      <td>2143</td>\n",
       "      <td>yes</td>\n",
       "      <td>no</td>\n",
       "      <td>unknown</td>\n",
       "      <td>5</td>\n",
       "      <td>may</td>\n",
       "      <td>261</td>\n",
       "      <td>1</td>\n",
       "      <td>-1</td>\n",
       "      <td>0</td>\n",
       "      <td>unknown</td>\n",
       "      <td>no</td>\n",
       "    </tr>\n",
       "    <tr>\n",
       "      <th>1</th>\n",
       "      <td>44</td>\n",
       "      <td>technician</td>\n",
       "      <td>single</td>\n",
       "      <td>secondary</td>\n",
       "      <td>no</td>\n",
       "      <td>29</td>\n",
       "      <td>yes</td>\n",
       "      <td>no</td>\n",
       "      <td>unknown</td>\n",
       "      <td>5</td>\n",
       "      <td>may</td>\n",
       "      <td>151</td>\n",
       "      <td>1</td>\n",
       "      <td>-1</td>\n",
       "      <td>0</td>\n",
       "      <td>unknown</td>\n",
       "      <td>no</td>\n",
       "    </tr>\n",
       "    <tr>\n",
       "      <th>2</th>\n",
       "      <td>33</td>\n",
       "      <td>entrepreneur</td>\n",
       "      <td>married</td>\n",
       "      <td>secondary</td>\n",
       "      <td>no</td>\n",
       "      <td>2</td>\n",
       "      <td>yes</td>\n",
       "      <td>yes</td>\n",
       "      <td>unknown</td>\n",
       "      <td>5</td>\n",
       "      <td>may</td>\n",
       "      <td>76</td>\n",
       "      <td>1</td>\n",
       "      <td>-1</td>\n",
       "      <td>0</td>\n",
       "      <td>unknown</td>\n",
       "      <td>no</td>\n",
       "    </tr>\n",
       "    <tr>\n",
       "      <th>3</th>\n",
       "      <td>47</td>\n",
       "      <td>blue-collar</td>\n",
       "      <td>married</td>\n",
       "      <td>unknown</td>\n",
       "      <td>no</td>\n",
       "      <td>1506</td>\n",
       "      <td>yes</td>\n",
       "      <td>no</td>\n",
       "      <td>unknown</td>\n",
       "      <td>5</td>\n",
       "      <td>may</td>\n",
       "      <td>92</td>\n",
       "      <td>1</td>\n",
       "      <td>-1</td>\n",
       "      <td>0</td>\n",
       "      <td>unknown</td>\n",
       "      <td>no</td>\n",
       "    </tr>\n",
       "    <tr>\n",
       "      <th>4</th>\n",
       "      <td>33</td>\n",
       "      <td>unknown</td>\n",
       "      <td>single</td>\n",
       "      <td>unknown</td>\n",
       "      <td>no</td>\n",
       "      <td>1</td>\n",
       "      <td>no</td>\n",
       "      <td>no</td>\n",
       "      <td>unknown</td>\n",
       "      <td>5</td>\n",
       "      <td>may</td>\n",
       "      <td>198</td>\n",
       "      <td>1</td>\n",
       "      <td>-1</td>\n",
       "      <td>0</td>\n",
       "      <td>unknown</td>\n",
       "      <td>no</td>\n",
       "    </tr>\n",
       "  </tbody>\n",
       "</table>\n",
       "</div>"
      ],
      "text/plain": [
       "   age           job  marital  education default  balance housing loan  \\\n",
       "0   58    management  married   tertiary      no     2143     yes   no   \n",
       "1   44    technician   single  secondary      no       29     yes   no   \n",
       "2   33  entrepreneur  married  secondary      no        2     yes  yes   \n",
       "3   47   blue-collar  married    unknown      no     1506     yes   no   \n",
       "4   33       unknown   single    unknown      no        1      no   no   \n",
       "\n",
       "   contact  day month  duration  campaign  pdays  previous poutcome   y  \n",
       "0  unknown    5   may       261         1     -1         0  unknown  no  \n",
       "1  unknown    5   may       151         1     -1         0  unknown  no  \n",
       "2  unknown    5   may        76         1     -1         0  unknown  no  \n",
       "3  unknown    5   may        92         1     -1         0  unknown  no  \n",
       "4  unknown    5   may       198         1     -1         0  unknown  no  "
      ]
     },
     "execution_count": 3,
     "metadata": {},
     "output_type": "execute_result"
    }
   ],
   "source": [
    "data_path = '../remove/'\n",
    "\n",
    "dataset = pd.read_csv(data_path + 'bank-full.csv', sep=';')\n",
    "X = dataset.iloc[:, :-1].values\n",
    "y = dataset.iloc[:, -1].values\n",
    "\n",
    "dataset.head()\n"
   ]
  },
  {
   "cell_type": "code",
   "execution_count": 4,
   "id": "a8500f75-9451-4230-b9fe-7669e576bc1a",
   "metadata": {},
   "outputs": [],
   "source": [
    "# binary categorical variables\n",
    "\n",
    "from sklearn.preprocessing import LabelEncoder\n",
    "le = LabelEncoder()\n",
    "X[:, 2] = le.fit_transform(X[:, 2]) #marital\n",
    "X[:, 4] = le.fit_transform(X[:, 4]) #default\n",
    "X[:, 6] = le.fit_transform(X[:, 6]) #housing\n",
    "X[:, 7] = le.fit_transform(X[:, 7]) #loan\n",
    "y = le.fit_transform(y) #target column\n"
   ]
  },
  {
   "cell_type": "code",
   "execution_count": 5,
   "id": "6f96ee17-934f-4f56-8165-53aee2ee8715",
   "metadata": {},
   "outputs": [],
   "source": [
    "# One hot encoding of other categorical variables (> 2 values)\n",
    "\n",
    "from sklearn.compose import ColumnTransformer\n",
    "from sklearn.preprocessing import OneHotEncoder\n",
    "ct = ColumnTransformer(transformers = [('encoder', OneHotEncoder(), [1,3,8,10,15])], remainder = 'passthrough')\n",
    "X = np.array(ct.fit_transform(X))\n"
   ]
  },
  {
   "cell_type": "code",
   "execution_count": 6,
   "id": "189c9518-7761-4f88-b6fc-dfa41337db3c",
   "metadata": {},
   "outputs": [],
   "source": [
    "# train and test split\n",
    "\n",
    "from sklearn.model_selection import train_test_split\n",
    "X_train1, X_test1, y_train1, y_test1 = train_test_split(X, y, test_size = 0.2, random_state = 0)\n"
   ]
  },
  {
   "cell_type": "code",
   "execution_count": 7,
   "id": "5c329fe9-0530-4449-91e4-b81c57782947",
   "metadata": {},
   "outputs": [],
   "source": [
    "# scale data to unit variance\n",
    "\n",
    "from sklearn.preprocessing import StandardScaler\n",
    "sc = StandardScaler()\n",
    "X_train1 = sc.fit_transform(X_train1)\n",
    "X_test1 = sc.transform(X_test1)\n"
   ]
  },
  {
   "cell_type": "code",
   "execution_count": 8,
   "id": "68d4f4be-b058-4445-a08a-6e758362db7a",
   "metadata": {},
   "outputs": [],
   "source": [
    "# remove existing logs, if applicable\n",
    "!rm -rf ./logs/"
   ]
  },
  {
   "cell_type": "code",
   "execution_count": 9,
   "id": "05f44c27-bbba-403d-beef-7896a29cbacc",
   "metadata": {},
   "outputs": [],
   "source": [
    "# create directory to store logs\n",
    "log_dir = \"logs/fit/\" + datetime.datetime.now().strftime(\"%Y%m%d-%H%M%S\")"
   ]
  },
  {
   "cell_type": "code",
   "execution_count": 10,
   "id": "c7d8fc58-96e4-4c1d-878b-79896d290164",
   "metadata": {},
   "outputs": [],
   "source": [
    "# define tensorboard callback for model\n",
    "from tensorflow.keras.callbacks import TensorBoard \n",
    "\n",
    "tensorboard_callback = TensorBoard(\n",
    "    log_dir=log_dir,\n",
    "    histogram_freq=1,\n",
    "    write_graph=True,\n",
    "    write_images=False,\n",
    "    update_freq=\"epoch\",\n",
    ")\n"
   ]
  },
  {
   "cell_type": "code",
   "execution_count": 11,
   "id": "d4d69c59-e93b-495d-a039-10841b933328",
   "metadata": {},
   "outputs": [],
   "source": [
    "# define an ANN model\n",
    "ann = tf.keras.models.Sequential()\n",
    "ann.add(tf.keras.layers.Dense(units=15, activation='relu'))\n",
    "ann.add(tf.keras.layers.Dense(units=15, activation='relu'))\n",
    "ann.add(tf.keras.layers.Dense(units=15, activation='relu'))\n",
    "ann.add(tf.keras.layers.Dense(units=1, activation='sigmoid'))\n"
   ]
  },
  {
   "cell_type": "code",
   "execution_count": 12,
   "id": "cfa679ef-c942-48d3-acb1-030a319e69f8",
   "metadata": {},
   "outputs": [
    {
     "name": "stdout",
     "output_type": "stream",
     "text": [
      "Epoch 1/50\n",
      "1131/1131 [==============================] - 1s 737us/step - loss: 0.2878 - accuracy: 0.8785\n",
      "Epoch 2/50\n",
      "1131/1131 [==============================] - 1s 724us/step - loss: 0.2181 - accuracy: 0.9038\n",
      "Epoch 3/50\n",
      "1131/1131 [==============================] - 1s 679us/step - loss: 0.2110 - accuracy: 0.9054\n",
      "Epoch 4/50\n",
      "1131/1131 [==============================] - 1s 690us/step - loss: 0.2066 - accuracy: 0.9069\n",
      "Epoch 5/50\n",
      "1131/1131 [==============================] - 1s 682us/step - loss: 0.2040 - accuracy: 0.9080\n",
      "Epoch 6/50\n",
      "1131/1131 [==============================] - 1s 691us/step - loss: 0.2013 - accuracy: 0.9078\n",
      "Epoch 7/50\n",
      "1131/1131 [==============================] - 1s 691us/step - loss: 0.1993 - accuracy: 0.9089\n",
      "Epoch 8/50\n",
      "1131/1131 [==============================] - 1s 704us/step - loss: 0.1981 - accuracy: 0.9099\n",
      "Epoch 9/50\n",
      "1131/1131 [==============================] - 1s 746us/step - loss: 0.1966 - accuracy: 0.9108\n",
      "Epoch 10/50\n",
      "1131/1131 [==============================] - 1s 713us/step - loss: 0.1953 - accuracy: 0.9114\n",
      "Epoch 11/50\n",
      "1131/1131 [==============================] - 1s 692us/step - loss: 0.1944 - accuracy: 0.9108\n",
      "Epoch 12/50\n",
      "1131/1131 [==============================] - 1s 710us/step - loss: 0.1933 - accuracy: 0.9116\n",
      "Epoch 13/50\n",
      "1131/1131 [==============================] - 1s 792us/step - loss: 0.1928 - accuracy: 0.9117\n",
      "Epoch 14/50\n",
      "1131/1131 [==============================] - 1s 768us/step - loss: 0.1919 - accuracy: 0.9115\n",
      "Epoch 15/50\n",
      "1131/1131 [==============================] - 1s 696us/step - loss: 0.1909 - accuracy: 0.9130\n",
      "Epoch 16/50\n",
      "1131/1131 [==============================] - 1s 702us/step - loss: 0.1905 - accuracy: 0.9129\n",
      "Epoch 17/50\n",
      "1131/1131 [==============================] - 1s 763us/step - loss: 0.1899 - accuracy: 0.9136\n",
      "Epoch 18/50\n",
      "1131/1131 [==============================] - 1s 742us/step - loss: 0.1893 - accuracy: 0.9127\n",
      "Epoch 19/50\n",
      "1131/1131 [==============================] - 1s 817us/step - loss: 0.1888 - accuracy: 0.9138\n",
      "Epoch 20/50\n",
      "1131/1131 [==============================] - 1s 925us/step - loss: 0.1884 - accuracy: 0.9131\n",
      "Epoch 21/50\n",
      "1131/1131 [==============================] - 1s 730us/step - loss: 0.1880 - accuracy: 0.9134\n",
      "Epoch 22/50\n",
      "1131/1131 [==============================] - 1s 771us/step - loss: 0.1874 - accuracy: 0.9148\n",
      "Epoch 23/50\n",
      "1131/1131 [==============================] - 1s 712us/step - loss: 0.1870 - accuracy: 0.9133\n",
      "Epoch 24/50\n",
      "1131/1131 [==============================] - 1s 704us/step - loss: 0.1864 - accuracy: 0.9139\n",
      "Epoch 25/50\n",
      "1131/1131 [==============================] - 1s 705us/step - loss: 0.1861 - accuracy: 0.9148\n",
      "Epoch 26/50\n",
      "1131/1131 [==============================] - 1s 687us/step - loss: 0.1854 - accuracy: 0.9152\n",
      "Epoch 27/50\n",
      "1131/1131 [==============================] - 1s 686us/step - loss: 0.1857 - accuracy: 0.9149\n",
      "Epoch 28/50\n",
      "1131/1131 [==============================] - 1s 685us/step - loss: 0.1851 - accuracy: 0.9151\n",
      "Epoch 29/50\n",
      "1131/1131 [==============================] - 1s 685us/step - loss: 0.1844 - accuracy: 0.9161\n",
      "Epoch 30/50\n",
      "1131/1131 [==============================] - 1s 685us/step - loss: 0.1843 - accuracy: 0.9162\n",
      "Epoch 31/50\n",
      "1131/1131 [==============================] - 1s 679us/step - loss: 0.1838 - accuracy: 0.9156\n",
      "Epoch 32/50\n",
      "1131/1131 [==============================] - 1s 758us/step - loss: 0.1834 - accuracy: 0.9153\n",
      "Epoch 33/50\n",
      "1131/1131 [==============================] - 1s 841us/step - loss: 0.1830 - accuracy: 0.9170\n",
      "Epoch 34/50\n",
      "1131/1131 [==============================] - 1s 700us/step - loss: 0.1828 - accuracy: 0.9160\n",
      "Epoch 35/50\n",
      "1131/1131 [==============================] - 1s 690us/step - loss: 0.1821 - accuracy: 0.9167\n",
      "Epoch 36/50\n",
      "1131/1131 [==============================] - 1s 702us/step - loss: 0.1819 - accuracy: 0.9169\n",
      "Epoch 37/50\n",
      "1131/1131 [==============================] - 1s 677us/step - loss: 0.1815 - accuracy: 0.9180\n",
      "Epoch 38/50\n",
      "1131/1131 [==============================] - 1s 685us/step - loss: 0.1813 - accuracy: 0.9167\n",
      "Epoch 39/50\n",
      "1131/1131 [==============================] - 1s 683us/step - loss: 0.1811 - accuracy: 0.9177\n",
      "Epoch 40/50\n",
      "1131/1131 [==============================] - 1s 697us/step - loss: 0.1805 - accuracy: 0.9180\n",
      "Epoch 41/50\n",
      "1131/1131 [==============================] - 1s 686us/step - loss: 0.1800 - accuracy: 0.9178\n",
      "Epoch 42/50\n",
      "1131/1131 [==============================] - 1s 685us/step - loss: 0.1803 - accuracy: 0.9178\n",
      "Epoch 43/50\n",
      "1131/1131 [==============================] - 1s 683us/step - loss: 0.1796 - accuracy: 0.9184\n",
      "Epoch 44/50\n",
      "1131/1131 [==============================] - 1s 692us/step - loss: 0.1797 - accuracy: 0.9190\n",
      "Epoch 45/50\n",
      "1131/1131 [==============================] - 1s 699us/step - loss: 0.1793 - accuracy: 0.9190\n",
      "Epoch 46/50\n",
      "1131/1131 [==============================] - 1s 691us/step - loss: 0.1792 - accuracy: 0.9184\n",
      "Epoch 47/50\n",
      "1131/1131 [==============================] - 1s 682us/step - loss: 0.1781 - accuracy: 0.9184\n",
      "Epoch 48/50\n",
      "1131/1131 [==============================] - 1s 703us/step - loss: 0.1785 - accuracy: 0.9191\n",
      "Epoch 49/50\n",
      "1131/1131 [==============================] - 1s 716us/step - loss: 0.1782 - accuracy: 0.9183\n",
      "Epoch 50/50\n",
      "1131/1131 [==============================] - 1s 706us/step - loss: 0.1779 - accuracy: 0.9194\n"
     ]
    },
    {
     "data": {
      "text/plain": [
       "<keras.callbacks.History at 0x7fec3d349490>"
      ]
     },
     "execution_count": 12,
     "metadata": {},
     "output_type": "execute_result"
    }
   ],
   "source": [
    "# compile and train the model\n",
    "ann.compile(optimizer = 'adam', loss = 'binary_crossentropy', metrics = ['accuracy'])\n",
    "ann.fit(X_train1, y_train1, batch_size = 32, epochs = 50, callbacks=[tensorboard_callback])\n"
   ]
  },
  {
   "cell_type": "code",
   "execution_count": 13,
   "id": "4c824d00-95e5-4e76-abc1-fdcb8a4137d9",
   "metadata": {},
   "outputs": [
    {
     "name": "stdout",
     "output_type": "stream",
     "text": [
      "\n",
      "NOTE: Using experimental fast data loading logic. To disable, pass\n",
      "    \"--load_fast=false\" and report issues on GitHub. More details:\n",
      "    https://github.com/tensorflow/tensorboard/issues/4784\n",
      "\n",
      "Serving TensorBoard on localhost; to expose to the network, use a proxy or pass --bind_all\n",
      "TensorBoard 2.6.0 at http://localhost:6006/ (Press CTRL+C to quit)\n",
      "^C\n"
     ]
    }
   ],
   "source": [
    "# navigate to log folder and launch Tensorboard\n",
    "!tensorboard --logdir logs/fit\n",
    "\n",
    "# stop cell (interrupt the kernel) to quit"
   ]
  },
  {
   "cell_type": "markdown",
   "id": "2cb0cdcf-64c2-4637-a3c3-a3a21f888e65",
   "metadata": {},
   "source": [
    "# Tensorboard example #2: Confusion matrix "
   ]
  },
  {
   "cell_type": "code",
   "execution_count": 14,
   "id": "5184ad66-06ea-42cb-b365-e95176a6ee1a",
   "metadata": {},
   "outputs": [],
   "source": [
    "import numpy as np\n",
    "import pandas as pd\n",
    "import tensorflow as tf\n",
    "import datetime\n",
    "import sklearn\n",
    "\n",
    "mnist = tf.keras.datasets.mnist\n",
    "\n",
    "(X_train2, y_train2), (X_test2, y_test2) = mnist.load_data()\n",
    "X_train2, X_test2 = X_train2 / 255.0, X_test2 / 255.0\n"
   ]
  },
  {
   "cell_type": "code",
   "execution_count": 15,
   "id": "732dc559-0352-4345-ad3a-c4aaceb1c843",
   "metadata": {},
   "outputs": [],
   "source": [
    "class_names = ['Zero','One','Two','Three','Four','Five','Six','Seven','Eight','Nine']"
   ]
  },
  {
   "cell_type": "code",
   "execution_count": 16,
   "id": "ac09e0fa-da30-4591-b793-48e4d7f4febe",
   "metadata": {},
   "outputs": [],
   "source": [
    "import itertools\n",
    "import matplotlib.pyplot as plt\n",
    "\n",
    "def plot_confusion_matrix(cm, class_names):\n",
    "    figure = plt.figure(figsize=(8, 8))\n",
    "    plt.imshow(cm, interpolation='nearest', cmap=plt.cm.Accent)\n",
    "    plt.title(\"Confusion matrix\")\n",
    "    plt.colorbar()\n",
    "    tick_marks = np.arange(len(class_names))\n",
    "    plt.xticks(tick_marks, class_names, rotation=45)\n",
    "    plt.yticks(tick_marks, class_names)\n",
    "\n",
    "    cm = np.around(cm.astype('float') / cm.sum(axis=1)[:, np.newaxis], decimals=2)\n",
    "    threshold = cm.max() / 2.\n",
    "\n",
    "    for i, j in itertools.product(range(cm.shape[0]), range(cm.shape[1])):\n",
    "        color = \"white\" if cm[i, j] > threshold else \"black\"\n",
    "        plt.text(j, i, cm[i, j], horizontalalignment=\"center\", color=color)\n",
    "\n",
    "    plt.tight_layout()\n",
    "    plt.ylabel('True label')\n",
    "    plt.xlabel('Predicted label')\n",
    "\n",
    "    return figure"
   ]
  },
  {
   "cell_type": "code",
   "execution_count": 17,
   "id": "aaa671ad-13c1-4b06-8155-ec06b072e132",
   "metadata": {},
   "outputs": [],
   "source": [
    "logdir = \"logs/image/\"\n",
    "tensorboard_callback = tf.keras.callbacks.TensorBoard(log_dir = logdir, histogram_freq = 1)\n",
    "file_writer_cm = tf.summary.create_file_writer(logdir + '/cm')"
   ]
  },
  {
   "cell_type": "code",
   "execution_count": 18,
   "id": "1f9baf93-d612-41ca-8a0f-2cb758f4a32d",
   "metadata": {},
   "outputs": [],
   "source": [
    "def plot_to_image(figure):\n",
    "    buf = io.BytesIO()\n",
    "    plt.savefig(buf, format='png')\n",
    "    plt.close(figure)\n",
    "    buf.seek(0)\n",
    "\n",
    "    digit = tf.image.decode_png(buf.getvalue(), channels=4)\n",
    "    digit = tf.expand_dims(digit, 0)\n",
    "\n",
    "    return digit"
   ]
  },
  {
   "cell_type": "code",
   "execution_count": 21,
   "id": "882e4c77-4ada-45a7-b997-ca125418dd0d",
   "metadata": {},
   "outputs": [],
   "source": [
    "from tensorflow import keras\n",
    "from sklearn import metrics\n",
    "import io\n",
    "\n",
    "def log_confusion_matrix(epoch, logs):\n",
    "    predictions = model.predict(X_test2)\n",
    "    predictions = np.argmax(predictions, axis=1)\n",
    "\n",
    "    cm = metrics.confusion_matrix(y_test2, predictions)\n",
    "    figure = plot_confusion_matrix(cm, class_names=class_names)\n",
    "    cm_image = plot_to_image(figure)\n",
    "\n",
    "    with file_writer_cm.as_default():\n",
    "        tf.summary.image(\"Confusion Matrix\", cm_image, step=epoch)"
   ]
  },
  {
   "cell_type": "code",
   "execution_count": 22,
   "id": "9d3676f2-3e3d-4f3a-9115-ad3cc2429929",
   "metadata": {},
   "outputs": [
    {
     "name": "stdout",
     "output_type": "stream",
     "text": [
      "Epoch 1/30\n",
      "1500/1500 [==============================] - 4s 3ms/step - loss: 0.7009 - accuracy: 0.8231 - val_loss: 0.3637 - val_accuracy: 0.9039\n",
      "Epoch 2/30\n",
      "1500/1500 [==============================] - 4s 2ms/step - loss: 0.3687 - accuracy: 0.8970 - val_loss: 0.2961 - val_accuracy: 0.9185\n",
      "Epoch 3/30\n",
      "1500/1500 [==============================] - 4s 2ms/step - loss: 0.3125 - accuracy: 0.9116 - val_loss: 0.2623 - val_accuracy: 0.9268\n",
      "Epoch 4/30\n",
      "1500/1500 [==============================] - 4s 2ms/step - loss: 0.2773 - accuracy: 0.9204 - val_loss: 0.2376 - val_accuracy: 0.9334\n",
      "Epoch 5/30\n",
      "1500/1500 [==============================] - 4s 2ms/step - loss: 0.2527 - accuracy: 0.9303 - val_loss: 0.2185 - val_accuracy: 0.9404\n",
      "Epoch 6/30\n",
      "1500/1500 [==============================] - 4s 2ms/step - loss: 0.2305 - accuracy: 0.9356 - val_loss: 0.2036 - val_accuracy: 0.9428\n",
      "Epoch 7/30\n",
      "1500/1500 [==============================] - 4s 2ms/step - loss: 0.2137 - accuracy: 0.9391 - val_loss: 0.1905 - val_accuracy: 0.9477\n",
      "Epoch 8/30\n",
      "1500/1500 [==============================] - 4s 2ms/step - loss: 0.2005 - accuracy: 0.9430 - val_loss: 0.1798 - val_accuracy: 0.9514\n",
      "Epoch 9/30\n",
      "1500/1500 [==============================] - 4s 2ms/step - loss: 0.1872 - accuracy: 0.9475 - val_loss: 0.1698 - val_accuracy: 0.9539\n",
      "Epoch 10/30\n",
      "1500/1500 [==============================] - 4s 2ms/step - loss: 0.1769 - accuracy: 0.9500 - val_loss: 0.1623 - val_accuracy: 0.9553\n",
      "Epoch 11/30\n",
      "1500/1500 [==============================] - 4s 2ms/step - loss: 0.1668 - accuracy: 0.9533 - val_loss: 0.1548 - val_accuracy: 0.9579\n",
      "Epoch 12/30\n",
      "1500/1500 [==============================] - 4s 2ms/step - loss: 0.1589 - accuracy: 0.9560 - val_loss: 0.1487 - val_accuracy: 0.9596\n",
      "Epoch 13/30\n",
      "1500/1500 [==============================] - 4s 2ms/step - loss: 0.1520 - accuracy: 0.9569 - val_loss: 0.1433 - val_accuracy: 0.9618\n",
      "Epoch 14/30\n",
      "1500/1500 [==============================] - 4s 2ms/step - loss: 0.1449 - accuracy: 0.9593 - val_loss: 0.1388 - val_accuracy: 0.9622\n",
      "Epoch 15/30\n",
      "1500/1500 [==============================] - 4s 2ms/step - loss: 0.1385 - accuracy: 0.9612 - val_loss: 0.1344 - val_accuracy: 0.9643\n",
      "Epoch 16/30\n",
      "1500/1500 [==============================] - 4s 2ms/step - loss: 0.1328 - accuracy: 0.9632 - val_loss: 0.1309 - val_accuracy: 0.9643\n",
      "Epoch 17/30\n",
      "1500/1500 [==============================] - 4s 2ms/step - loss: 0.1285 - accuracy: 0.9639 - val_loss: 0.1267 - val_accuracy: 0.9661\n",
      "Epoch 18/30\n",
      "1500/1500 [==============================] - 4s 2ms/step - loss: 0.1232 - accuracy: 0.9656 - val_loss: 0.1233 - val_accuracy: 0.9660\n",
      "Epoch 19/30\n",
      "1500/1500 [==============================] - 4s 3ms/step - loss: 0.1185 - accuracy: 0.9665 - val_loss: 0.1199 - val_accuracy: 0.9672\n",
      "Epoch 20/30\n",
      "1500/1500 [==============================] - 4s 2ms/step - loss: 0.1143 - accuracy: 0.9679 - val_loss: 0.1174 - val_accuracy: 0.9675\n",
      "Epoch 21/30\n",
      "1500/1500 [==============================] - 4s 3ms/step - loss: 0.1108 - accuracy: 0.9691 - val_loss: 0.1150 - val_accuracy: 0.9672\n",
      "Epoch 22/30\n",
      "1500/1500 [==============================] - 4s 2ms/step - loss: 0.1073 - accuracy: 0.9698 - val_loss: 0.1126 - val_accuracy: 0.9689\n",
      "Epoch 23/30\n",
      "1500/1500 [==============================] - 4s 3ms/step - loss: 0.1038 - accuracy: 0.9715 - val_loss: 0.1116 - val_accuracy: 0.9692\n",
      "Epoch 24/30\n",
      "1500/1500 [==============================] - 4s 2ms/step - loss: 0.1014 - accuracy: 0.9716 - val_loss: 0.1086 - val_accuracy: 0.9689\n",
      "Epoch 25/30\n",
      "1500/1500 [==============================] - 4s 2ms/step - loss: 0.0976 - accuracy: 0.9726 - val_loss: 0.1065 - val_accuracy: 0.9700\n",
      "Epoch 26/30\n",
      "1500/1500 [==============================] - 4s 2ms/step - loss: 0.0950 - accuracy: 0.9736 - val_loss: 0.1044 - val_accuracy: 0.9710\n",
      "Epoch 27/30\n",
      "1500/1500 [==============================] - 4s 2ms/step - loss: 0.0928 - accuracy: 0.9745 - val_loss: 0.1030 - val_accuracy: 0.9712\n",
      "Epoch 28/30\n",
      "1500/1500 [==============================] - 4s 2ms/step - loss: 0.0905 - accuracy: 0.9751 - val_loss: 0.1013 - val_accuracy: 0.9718\n",
      "Epoch 29/30\n",
      "1500/1500 [==============================] - 4s 2ms/step - loss: 0.0877 - accuracy: 0.9759 - val_loss: 0.1004 - val_accuracy: 0.9721\n",
      "Epoch 30/30\n",
      "1500/1500 [==============================] - 4s 2ms/step - loss: 0.0848 - accuracy: 0.9767 - val_loss: 0.0980 - val_accuracy: 0.9722\n"
     ]
    },
    {
     "data": {
      "text/plain": [
       "<keras.callbacks.History at 0x7fec0e544cd0>"
      ]
     },
     "execution_count": 22,
     "metadata": {},
     "output_type": "execute_result"
    }
   ],
   "source": [
    "cm_callback = tf.keras.callbacks.LambdaCallback(on_epoch_end=log_confusion_matrix)\n",
    "\n",
    "model = tf.keras.models.Sequential([\n",
    "   tf.keras.layers.Flatten(input_shape=(28, 28)),\n",
    "   tf.keras.layers.Dense(512, activation='relu'),\n",
    "   tf.keras.layers.Dropout(0.2),\n",
    "   tf.keras.layers.Dense(10, activation='softmax')])\n",
    "\n",
    "model.compile(optimizer='sgd', loss='sparse_categorical_crossentropy',metrics=['accuracy'])\n",
    "\n",
    "model.fit(X_train2, y_train2, batch_size = 32, validation_split=0.2, epochs = 30, callbacks=[tensorboard_callback, cm_callback])"
   ]
  },
  {
   "cell_type": "code",
   "execution_count": 23,
   "id": "77cf04b6-20e7-48cb-b197-b326cb531369",
   "metadata": {},
   "outputs": [
    {
     "name": "stdout",
     "output_type": "stream",
     "text": [
      "\n",
      "NOTE: Using experimental fast data loading logic. To disable, pass\n",
      "    \"--load_fast=false\" and report issues on GitHub. More details:\n",
      "    https://github.com/tensorflow/tensorboard/issues/4784\n",
      "\n",
      "Serving TensorBoard on localhost; to expose to the network, use a proxy or pass --bind_all\n",
      "TensorBoard 2.6.0 at http://localhost:6006/ (Press CTRL+C to quit)\n",
      "^C\n"
     ]
    }
   ],
   "source": [
    "!tensorboard --logdir logs/image/cm/"
   ]
  },
  {
   "cell_type": "markdown",
   "id": "1c8ccba0-4af7-4074-a3f2-f70a3bcbb988",
   "metadata": {},
   "source": [
    "# Tensorboard example #3: Tensorboard Projector"
   ]
  },
  {
   "cell_type": "code",
   "execution_count": 24,
   "id": "9efdd2d4-9492-4776-9bcd-9904623f75fa",
   "metadata": {},
   "outputs": [],
   "source": [
    "from tensorboard.plugins import projector"
   ]
  },
  {
   "cell_type": "code",
   "execution_count": 25,
   "id": "a3c56112-0241-4331-a5d8-9d54822e0a9c",
   "metadata": {},
   "outputs": [
    {
     "name": "stdout",
     "output_type": "stream",
     "text": [
      "(28, 28)\n"
     ]
    }
   ],
   "source": [
    "print(X_train2[0].shape)"
   ]
  },
  {
   "cell_type": "code",
   "execution_count": 26,
   "id": "89f05f46-fa1d-429f-806e-3a4e4929bc41",
   "metadata": {},
   "outputs": [],
   "source": [
    "!rm -rf ./logs/\n",
    "logdir = \"logs/single-image/\"\n",
    "file_writer = tf.summary.create_file_writer(logdir)"
   ]
  },
  {
   "cell_type": "code",
   "execution_count": 27,
   "id": "1ecc4068-84f9-474e-8daa-dfd3e28a84d6",
   "metadata": {},
   "outputs": [],
   "source": [
    "import numpy as np\n",
    "\n",
    "with file_writer.as_default():\n",
    "    image = np.reshape(X_train2[4], (-1, 28, 28, 1))\n",
    "    tf.summary.image(\"Single Image\", image, step=0)"
   ]
  },
  {
   "cell_type": "code",
   "execution_count": 28,
   "id": "5f800c3f-b64c-4645-bd90-4febc6e97bcd",
   "metadata": {},
   "outputs": [
    {
     "name": "stdout",
     "output_type": "stream",
     "text": [
      "\n",
      "NOTE: Using experimental fast data loading logic. To disable, pass\n",
      "    \"--load_fast=false\" and report issues on GitHub. More details:\n",
      "    https://github.com/tensorflow/tensorboard/issues/4784\n",
      "\n",
      "Serving TensorBoard on localhost; to expose to the network, use a proxy or pass --bind_all\n",
      "TensorBoard 2.6.0 at http://localhost:6006/ (Press CTRL+C to quit)\n",
      "^C\n"
     ]
    }
   ],
   "source": [
    "!tensorboard --logdir logs/single-image"
   ]
  },
  {
   "cell_type": "code",
   "execution_count": 29,
   "id": "3d8623e1-a9f9-45a1-bb09-eaa44837211f",
   "metadata": {},
   "outputs": [],
   "source": [
    "!rm -rf logs\n",
    "logdir = \"logs/actual-images/\"\n",
    "file_writer = tf.summary.create_file_writer(logdir)"
   ]
  },
  {
   "cell_type": "code",
   "execution_count": 30,
   "id": "37513846-b7a2-4537-abe4-b96ada866cc7",
   "metadata": {},
   "outputs": [],
   "source": [
    "import numpy as np\n",
    "\n",
    "with file_writer.as_default():\n",
    "    images = np.reshape(X_train2[5:20], (-1, 28, 28, 1))\n",
    "    tf.summary.image(\"Multiple Digits\", images, max_outputs=16, step=0)"
   ]
  },
  {
   "cell_type": "code",
   "execution_count": 31,
   "id": "e33511f8-5ea7-4047-96e1-4254479d28b0",
   "metadata": {},
   "outputs": [],
   "source": [
    "import io\n",
    "import matplotlib.pyplot as plt\n",
    "\n",
    "class_names = ['Zero','One','Two','Three','Four','Five','Six','Seven','Eight','Nine']"
   ]
  },
  {
   "cell_type": "code",
   "execution_count": 32,
   "id": "97e41900-cb25-4189-96bd-b51febc7c97b",
   "metadata": {},
   "outputs": [],
   "source": [
    "def image_grid():\n",
    "    figure = plt.figure(figsize=(12,8))\n",
    "\n",
    "    for i in range(25):\n",
    "        plt.subplot(5, 5, i + 1)\n",
    "        plt.xlabel(class_names[y_train[i]])\n",
    "        plt.xticks([])\n",
    "        plt.yticks([])\n",
    "        plt.grid(False)\n",
    "        plt.imshow(X_train[i], cmap=plt.cm.coolwarm)\n",
    "\n",
    "    return figure"
   ]
  },
  {
   "cell_type": "code",
   "execution_count": 33,
   "id": "29b2dfeb-d677-4e95-8e62-ca7833a83437",
   "metadata": {},
   "outputs": [],
   "source": [
    "def plot_to_image(figure):\n",
    "    buf = io.BytesIO()\n",
    "    plt.savefig(buf, format='png')\n",
    "    plt.close(figure)\n",
    "    buf.seek(0)\n",
    "    image = tf.image.decode_png(buf.getvalue(), channels=4)\n",
    "    image = tf.expand_dims(image, 0)\n",
    "    return image"
   ]
  },
  {
   "cell_type": "code",
   "execution_count": 34,
   "id": "db273c3c-22d2-40d8-a8d3-d044d3f9f8a6",
   "metadata": {},
   "outputs": [
    {
     "name": "stdout",
     "output_type": "stream",
     "text": [
      "\n",
      "NOTE: Using experimental fast data loading logic. To disable, pass\n",
      "    \"--load_fast=false\" and report issues on GitHub. More details:\n",
      "    https://github.com/tensorflow/tensorboard/issues/4784\n",
      "\n",
      "Serving TensorBoard on localhost; to expose to the network, use a proxy or pass --bind_all\n",
      "TensorBoard 2.6.0 at http://localhost:6006/ (Press CTRL+C to quit)\n",
      "^C\n"
     ]
    }
   ],
   "source": [
    "!tensorboard --logdir logs/actual-images"
   ]
  },
  {
   "cell_type": "markdown",
   "id": "04df5196-7822-483e-9f2f-7f0ab1ff8835",
   "metadata": {},
   "source": [
    "# Tensorboard example #4: Hyperparameter tuning"
   ]
  },
  {
   "cell_type": "code",
   "execution_count": 35,
   "id": "c5c445cb-4aa1-449d-a62c-a7d4ae6c8e5b",
   "metadata": {},
   "outputs": [],
   "source": [
    "rm -rf ./logs/"
   ]
  },
  {
   "cell_type": "code",
   "execution_count": 36,
   "id": "22b34855-21d0-4254-ae0d-420cdd1d2957",
   "metadata": {},
   "outputs": [],
   "source": [
    "from tensorboard.plugins.hparams import api as hp"
   ]
  },
  {
   "cell_type": "code",
   "execution_count": 37,
   "id": "22ae7b42-ffcd-439b-b920-2407e4f8ce13",
   "metadata": {},
   "outputs": [],
   "source": [
    "logdir = \"logs/hparamas\""
   ]
  },
  {
   "cell_type": "code",
   "execution_count": 38,
   "id": "8008e1ee-3235-47d4-be51-43f9828ada32",
   "metadata": {},
   "outputs": [],
   "source": [
    "HP_NUM_UNITS = hp.HParam('num_units', hp.Discrete([16, 17]))\n",
    "HP_DROPOUT = hp.HParam('dropout', hp.RealInterval(0.1,0.2))\n",
    "HP_OPTIMIZER = hp.HParam('optimizer', hp.Discrete(['adam', 'sgd', 'rmsprop']))"
   ]
  },
  {
   "cell_type": "code",
   "execution_count": 39,
   "id": "bb5d3866-5447-4ca0-b1ca-4c4aedf6991f",
   "metadata": {},
   "outputs": [],
   "source": [
    "METRIC_ACCURACY = 'accuracy'\n",
    "\n",
    "with tf.summary.create_file_writer(logdir).as_default():\n",
    "    hp.hparams_config(\n",
    "        hparams=[HP_NUM_UNITS, HP_DROPOUT, HP_OPTIMIZER],\n",
    "        metrics=[hp.Metric(METRIC_ACCURACY, display_name='Accuracy')],)"
   ]
  },
  {
   "cell_type": "code",
   "execution_count": 40,
   "id": "a9a96d95-a970-44f4-ae4c-28e4b352d66d",
   "metadata": {},
   "outputs": [],
   "source": [
    "def create_model(hparams):\n",
    "    model = tf.keras.models.Sequential([\n",
    "        tf.keras.layers.Flatten(input_shape=(28, 28)),\n",
    "        tf.keras.layers.Dense(hparams[HP_NUM_UNITS],  activation='relu'),\n",
    "        tf.keras.layers.Dropout(hparams[HP_DROPOUT]),\n",
    "        tf.keras.layers.Dense(10, activation='softmax')])\n",
    "\n",
    "    model.compile(optimizer=hparams[HP_OPTIMIZER],\n",
    "                  loss='sparse_categorical_crossentropy',\n",
    "                  metrics=['accuracy'])\n",
    "\n",
    "    model.fit(X_train2, y_train2, epochs=5)\n",
    "    loss, accuracy = model.evaluate(X_test2, y_test2)\n",
    "\n",
    "    return accuracy"
   ]
  },
  {
   "cell_type": "code",
   "execution_count": 41,
   "id": "64bc8e18-d1ab-46a4-ab81-6477844303dd",
   "metadata": {},
   "outputs": [],
   "source": [
    "def experiment(experiment_dir, hparams):\n",
    "\n",
    "    with tf.summary.create_file_writer(experiment_dir).as_default():\n",
    "        hp.hparams(hparams)\n",
    "        accuracy = create_model(hparams)\n",
    "        tf.summary.scalar(METRIC_ACCURACY, accuracy, step=1)"
   ]
  },
  {
   "cell_type": "code",
   "execution_count": 42,
   "id": "90611178-89a3-42cf-aa7e-17b4cccc67f2",
   "metadata": {},
   "outputs": [
    {
     "name": "stdout",
     "output_type": "stream",
     "text": [
      "Starting Experiment: Experiment 0\n",
      "{'num_units': 16, 'dropout': 0.1, 'optimizer': 'adam'}\n",
      "Epoch 1/5\n",
      "1875/1875 [==============================] - 1s 642us/step - loss: 0.5829 - accuracy: 0.8251\n",
      "Epoch 2/5\n",
      "1875/1875 [==============================] - 1s 656us/step - loss: 0.3571 - accuracy: 0.8917\n",
      "Epoch 3/5\n",
      "1875/1875 [==============================] - 1s 644us/step - loss: 0.3168 - accuracy: 0.9042\n",
      "Epoch 4/5\n",
      "1875/1875 [==============================] - 1s 658us/step - loss: 0.2953 - accuracy: 0.9109\n",
      "Epoch 5/5\n",
      "1875/1875 [==============================] - 1s 661us/step - loss: 0.2774 - accuracy: 0.9156\n",
      "313/313 [==============================] - 0s 457us/step - loss: 0.2027 - accuracy: 0.9395\n",
      "Starting Experiment: Experiment 1\n",
      "{'num_units': 16, 'dropout': 0.1, 'optimizer': 'rmsprop'}\n",
      "Epoch 1/5\n",
      "1875/1875 [==============================] - 2s 703us/step - loss: 0.5603 - accuracy: 0.8323\n",
      "Epoch 2/5\n",
      "1875/1875 [==============================] - 1s 752us/step - loss: 0.3550 - accuracy: 0.8944\n",
      "Epoch 3/5\n",
      "1875/1875 [==============================] - 1s 686us/step - loss: 0.3252 - accuracy: 0.9040\n",
      "Epoch 4/5\n",
      "1875/1875 [==============================] - 1s 719us/step - loss: 0.3059 - accuracy: 0.9114\n",
      "Epoch 5/5\n",
      "1875/1875 [==============================] - 1s 681us/step - loss: 0.2985 - accuracy: 0.9139\n",
      "313/313 [==============================] - 0s 542us/step - loss: 0.2244 - accuracy: 0.9400\n",
      "Starting Experiment: Experiment 2\n",
      "{'num_units': 16, 'dropout': 0.1, 'optimizer': 'sgd'}\n",
      "Epoch 1/5\n",
      "1875/1875 [==============================] - 1s 636us/step - loss: 0.9872 - accuracy: 0.6905\n",
      "Epoch 2/5\n",
      "1875/1875 [==============================] - 1s 684us/step - loss: 0.5511 - accuracy: 0.8317\n",
      "Epoch 3/5\n",
      "1875/1875 [==============================] - 1s 628us/step - loss: 0.4640 - accuracy: 0.8597\n",
      "Epoch 4/5\n",
      "1875/1875 [==============================] - 1s 678us/step - loss: 0.4213 - accuracy: 0.8736\n",
      "Epoch 5/5\n",
      "1875/1875 [==============================] - 1s 634us/step - loss: 0.3920 - accuracy: 0.8821\n",
      "313/313 [==============================] - 0s 517us/step - loss: 0.2825 - accuracy: 0.9211\n",
      "Starting Experiment: Experiment 3\n",
      "{'num_units': 16, 'dropout': 0.2, 'optimizer': 'adam'}\n",
      "Epoch 1/5\n",
      "1875/1875 [==============================] - 2s 690us/step - loss: 0.6546 - accuracy: 0.7976\n",
      "Epoch 2/5\n",
      "1875/1875 [==============================] - 1s 675us/step - loss: 0.4412 - accuracy: 0.8639\n",
      "Epoch 3/5\n",
      "1875/1875 [==============================] - 1s 633us/step - loss: 0.3987 - accuracy: 0.8756\n",
      "Epoch 4/5\n",
      "1875/1875 [==============================] - 1s 642us/step - loss: 0.3787 - accuracy: 0.8809\n",
      "Epoch 5/5\n",
      "1875/1875 [==============================] - 1s 655us/step - loss: 0.3644 - accuracy: 0.8849\n",
      "313/313 [==============================] - 0s 508us/step - loss: 0.2183 - accuracy: 0.9345\n",
      "Starting Experiment: Experiment 4\n",
      "{'num_units': 16, 'dropout': 0.2, 'optimizer': 'rmsprop'}\n",
      "Epoch 1/5\n",
      "1875/1875 [==============================] - 2s 592us/step - loss: 0.6361 - accuracy: 0.8049\n",
      "Epoch 2/5\n",
      "1875/1875 [==============================] - 1s 593us/step - loss: 0.4245 - accuracy: 0.8728\n",
      "Epoch 3/5\n",
      "1875/1875 [==============================] - 1s 598us/step - loss: 0.3971 - accuracy: 0.8803\n",
      "Epoch 4/5\n",
      "1875/1875 [==============================] - 1s 599us/step - loss: 0.3824 - accuracy: 0.8866\n",
      "Epoch 5/5\n",
      "1875/1875 [==============================] - 1s 590us/step - loss: 0.3751 - accuracy: 0.8881\n",
      "313/313 [==============================] - 0s 463us/step - loss: 0.2537 - accuracy: 0.9309\n",
      "Starting Experiment: Experiment 5\n",
      "{'num_units': 16, 'dropout': 0.2, 'optimizer': 'sgd'}\n",
      "Epoch 1/5\n",
      "1875/1875 [==============================] - 1s 556us/step - loss: 1.0479 - accuracy: 0.6652\n",
      "Epoch 2/5\n",
      "1875/1875 [==============================] - 1s 547us/step - loss: 0.6392 - accuracy: 0.8028\n",
      "Epoch 3/5\n",
      "1875/1875 [==============================] - 1s 544us/step - loss: 0.5510 - accuracy: 0.8315\n",
      "Epoch 4/5\n",
      "1875/1875 [==============================] - 1s 557us/step - loss: 0.5071 - accuracy: 0.8450\n",
      "Epoch 5/5\n",
      "1875/1875 [==============================] - 1s 534us/step - loss: 0.4814 - accuracy: 0.8529\n",
      "313/313 [==============================] - 0s 463us/step - loss: 0.3012 - accuracy: 0.9157\n",
      "Starting Experiment: Experiment 6\n",
      "{'num_units': 17, 'dropout': 0.1, 'optimizer': 'adam'}\n",
      "Epoch 1/5\n",
      "1875/1875 [==============================] - 2s 814us/step - loss: 0.5079 - accuracy: 0.8533\n",
      "Epoch 2/5\n",
      "1875/1875 [==============================] - 1s 717us/step - loss: 0.3280 - accuracy: 0.9026\n",
      "Epoch 3/5\n",
      "1875/1875 [==============================] - 1s 754us/step - loss: 0.2958 - accuracy: 0.9110\n",
      "Epoch 4/5\n",
      "1875/1875 [==============================] - 2s 961us/step - loss: 0.2755 - accuracy: 0.9157\n",
      "Epoch 5/5\n",
      "1875/1875 [==============================] - 1s 765us/step - loss: 0.2634 - accuracy: 0.9189\n",
      "313/313 [==============================] - 0s 463us/step - loss: 0.2056 - accuracy: 0.9414\n",
      "Starting Experiment: Experiment 7\n",
      "{'num_units': 17, 'dropout': 0.1, 'optimizer': 'rmsprop'}\n",
      "Epoch 1/5\n",
      "1875/1875 [==============================] - 1s 605us/step - loss: 0.5296 - accuracy: 0.8429\n",
      "Epoch 2/5\n",
      "1875/1875 [==============================] - 1s 598us/step - loss: 0.3292 - accuracy: 0.9031\n",
      "Epoch 3/5\n",
      "1875/1875 [==============================] - 1s 620us/step - loss: 0.2966 - accuracy: 0.9131\n",
      "Epoch 4/5\n",
      "1875/1875 [==============================] - 1s 602us/step - loss: 0.2812 - accuracy: 0.9179\n",
      "Epoch 5/5\n",
      "1875/1875 [==============================] - 1s 604us/step - loss: 0.2715 - accuracy: 0.9222\n",
      "313/313 [==============================] - 0s 471us/step - loss: 0.2135 - accuracy: 0.9405\n",
      "Starting Experiment: Experiment 8\n",
      "{'num_units': 17, 'dropout': 0.1, 'optimizer': 'sgd'}\n",
      "Epoch 1/5\n",
      "1875/1875 [==============================] - 1s 557us/step - loss: 0.9117 - accuracy: 0.7288\n",
      "Epoch 2/5\n",
      "1875/1875 [==============================] - 1s 551us/step - loss: 0.4993 - accuracy: 0.8497\n",
      "Epoch 3/5\n",
      "1875/1875 [==============================] - 1s 573us/step - loss: 0.4389 - accuracy: 0.8658\n",
      "Epoch 4/5\n",
      "1875/1875 [==============================] - 1s 546us/step - loss: 0.4059 - accuracy: 0.8759\n",
      "Epoch 5/5\n",
      "1875/1875 [==============================] - 1s 579us/step - loss: 0.3838 - accuracy: 0.8823\n",
      "313/313 [==============================] - 0s 466us/step - loss: 0.2776 - accuracy: 0.9197\n",
      "Starting Experiment: Experiment 9\n",
      "{'num_units': 17, 'dropout': 0.2, 'optimizer': 'adam'}\n",
      "Epoch 1/5\n",
      "1875/1875 [==============================] - 2s 690us/step - loss: 0.6308 - accuracy: 0.8066\n",
      "Epoch 2/5\n",
      "1875/1875 [==============================] - 1s 674us/step - loss: 0.4062 - accuracy: 0.8762\n",
      "Epoch 3/5\n",
      "1875/1875 [==============================] - 1s 697us/step - loss: 0.3676 - accuracy: 0.8885\n",
      "Epoch 4/5\n",
      "1875/1875 [==============================] - 1s 701us/step - loss: 0.3433 - accuracy: 0.8944\n",
      "Epoch 5/5\n",
      "1875/1875 [==============================] - 1s 709us/step - loss: 0.3332 - accuracy: 0.8983\n",
      "313/313 [==============================] - 0s 471us/step - loss: 0.2029 - accuracy: 0.9394\n",
      "Starting Experiment: Experiment 10\n",
      "{'num_units': 17, 'dropout': 0.2, 'optimizer': 'rmsprop'}\n",
      "Epoch 1/5\n",
      "1875/1875 [==============================] - 1s 602us/step - loss: 0.6565 - accuracy: 0.7948\n",
      "Epoch 2/5\n",
      "1875/1875 [==============================] - 1s 600us/step - loss: 0.4229 - accuracy: 0.8698\n",
      "Epoch 3/5\n",
      "1875/1875 [==============================] - 1s 604us/step - loss: 0.3948 - accuracy: 0.8769\n",
      "Epoch 4/5\n",
      "1875/1875 [==============================] - 1s 595us/step - loss: 0.3790 - accuracy: 0.8855\n",
      "Epoch 5/5\n",
      "1875/1875 [==============================] - 1s 599us/step - loss: 0.3717 - accuracy: 0.8868\n",
      "313/313 [==============================] - 0s 470us/step - loss: 0.2325 - accuracy: 0.9351\n",
      "Starting Experiment: Experiment 11\n",
      "{'num_units': 17, 'dropout': 0.2, 'optimizer': 'sgd'}\n",
      "Epoch 1/5\n",
      "1875/1875 [==============================] - 1s 581us/step - loss: 1.1079 - accuracy: 0.6539\n",
      "Epoch 2/5\n",
      "1875/1875 [==============================] - 1s 636us/step - loss: 0.6426 - accuracy: 0.7980\n",
      "Epoch 3/5\n",
      "1875/1875 [==============================] - 1s 553us/step - loss: 0.5575 - accuracy: 0.8259\n",
      "Epoch 4/5\n",
      "1875/1875 [==============================] - 1s 559us/step - loss: 0.5163 - accuracy: 0.8413\n",
      "Epoch 5/5\n",
      "1875/1875 [==============================] - 1s 548us/step - loss: 0.4902 - accuracy: 0.8488\n",
      "313/313 [==============================] - 0s 455us/step - loss: 0.3111 - accuracy: 0.9114\n"
     ]
    }
   ],
   "source": [
    "experiment_no = 0\n",
    "\n",
    "for num_units in HP_NUM_UNITS.domain.values:\n",
    "    for dropout_rate in (HP_DROPOUT.domain.min_value, HP_DROPOUT.domain.max_value):\n",
    "        for optimizer in HP_OPTIMIZER.domain.values:\n",
    "            hparams = {\n",
    "                HP_NUM_UNITS: num_units,\n",
    "                HP_DROPOUT: dropout_rate,\n",
    "                HP_OPTIMIZER: optimizer,}\n",
    "\n",
    "            experiment_name = f'Experiment {experiment_no}'\n",
    "            print(f'Starting Experiment: {experiment_name}')\n",
    "            print({h.name: hparams[h] for h in hparams})\n",
    "            experiment(logdir + '/' + experiment_name, hparams)\n",
    "            experiment_no += 1"
   ]
  },
  {
   "cell_type": "code",
   "execution_count": 43,
   "id": "1bdeed83-9aff-4d1f-b0a3-4fa4856e8a9d",
   "metadata": {},
   "outputs": [
    {
     "name": "stdout",
     "output_type": "stream",
     "text": [
      "\n",
      "NOTE: Using experimental fast data loading logic. To disable, pass\n",
      "    \"--load_fast=false\" and report issues on GitHub. More details:\n",
      "    https://github.com/tensorflow/tensorboard/issues/4784\n",
      "\n",
      "Serving TensorBoard on localhost; to expose to the network, use a proxy or pass --bind_all\n",
      "TensorBoard 2.6.0 at http://localhost:6006/ (Press CTRL+C to quit)\n",
      "^C\n"
     ]
    }
   ],
   "source": [
    "!tensorboard --logdir logs/hparamas"
   ]
  },
  {
   "cell_type": "markdown",
   "id": "40181910-5607-4421-b664-fdbbc99178d4",
   "metadata": {},
   "source": [
    "# Tensorboard example #5: Profiler (profile model computation performance)"
   ]
  },
  {
   "cell_type": "code",
   "execution_count": 44,
   "id": "10a4922e-620d-479b-a6db-777ab1836131",
   "metadata": {},
   "outputs": [],
   "source": [
    "#!pip install -U tensorboard_plugin_profile"
   ]
  },
  {
   "cell_type": "code",
   "execution_count": 45,
   "id": "240dca97-6f37-47b4-aed1-b90157358676",
   "metadata": {},
   "outputs": [
    {
     "ename": "SystemError",
     "evalue": "GPU device not found",
     "output_type": "error",
     "traceback": [
      "\u001b[0;31m---------------------------------------------------------------------------\u001b[0m",
      "\u001b[0;31mSystemError\u001b[0m                               Traceback (most recent call last)",
      "\u001b[0;32m<ipython-input-45-7199a5d0403d>\u001b[0m in \u001b[0;36m<module>\u001b[0;34m\u001b[0m\n\u001b[1;32m      1\u001b[0m \u001b[0mdevice_name\u001b[0m \u001b[0;34m=\u001b[0m \u001b[0mtf\u001b[0m\u001b[0;34m.\u001b[0m\u001b[0mtest\u001b[0m\u001b[0;34m.\u001b[0m\u001b[0mgpu_device_name\u001b[0m\u001b[0;34m(\u001b[0m\u001b[0;34m)\u001b[0m\u001b[0;34m\u001b[0m\u001b[0;34m\u001b[0m\u001b[0m\n\u001b[1;32m      2\u001b[0m \u001b[0;32mif\u001b[0m \u001b[0;32mnot\u001b[0m \u001b[0mdevice_name\u001b[0m\u001b[0;34m:\u001b[0m\u001b[0;34m\u001b[0m\u001b[0;34m\u001b[0m\u001b[0m\n\u001b[0;32m----> 3\u001b[0;31m     \u001b[0;32mraise\u001b[0m \u001b[0mSystemError\u001b[0m\u001b[0;34m(\u001b[0m\u001b[0;34m'GPU device not found'\u001b[0m\u001b[0;34m)\u001b[0m\u001b[0;34m\u001b[0m\u001b[0;34m\u001b[0m\u001b[0m\n\u001b[0m\u001b[1;32m      4\u001b[0m \u001b[0mprint\u001b[0m\u001b[0;34m(\u001b[0m\u001b[0;34m'Found GPU at: {}'\u001b[0m\u001b[0;34m.\u001b[0m\u001b[0mformat\u001b[0m\u001b[0;34m(\u001b[0m\u001b[0mdevice_name\u001b[0m\u001b[0;34m)\u001b[0m\u001b[0;34m)\u001b[0m\u001b[0;34m\u001b[0m\u001b[0;34m\u001b[0m\u001b[0m\n",
      "\u001b[0;31mSystemError\u001b[0m: GPU device not found"
     ]
    }
   ],
   "source": [
    "device_name = tf.test.gpu_device_name()\n",
    "if not device_name:\n",
    "    raise SystemError('GPU device not found')\n",
    "print('Found GPU at: {}'.format(device_name))"
   ]
  },
  {
   "cell_type": "code",
   "execution_count": 46,
   "id": "fdc0285c-5038-4bf8-8b15-e9e0270db413",
   "metadata": {},
   "outputs": [],
   "source": [
    "!rm -rf ./logs/\n",
    "logdir = \"logs\""
   ]
  },
  {
   "cell_type": "code",
   "execution_count": 47,
   "id": "cf84d27b-ea21-4912-bad8-1cc7ea305b55",
   "metadata": {},
   "outputs": [],
   "source": [
    "from tensorflow.keras.callbacks import TensorBoard\n",
    "callbacks = [TensorBoard(log_dir=logdir, profile_batch='10,20')]"
   ]
  },
  {
   "cell_type": "code",
   "execution_count": 48,
   "id": "c602f837-26b4-481b-8cbe-ed96ba2b6e33",
   "metadata": {},
   "outputs": [],
   "source": [
    "model = tf.keras.models.Sequential([\n",
    "  tf.keras.layers.Flatten(input_shape=(28, 28)),\n",
    "  tf.keras.layers.Dense(512, activation='relu'),\n",
    "  tf.keras.layers.Dropout(0.2),\n",
    "  tf.keras.layers.Dense(10, activation='softmax')])\n",
    "\n",
    "model.compile(optimizer='sgd', loss='sparse_categorical_crossentropy',metrics=['accuracy'])"
   ]
  },
  {
   "cell_type": "code",
   "execution_count": 49,
   "id": "df400163-6c92-4c3f-b504-12ab11aa587c",
   "metadata": {},
   "outputs": [
    {
     "name": "stdout",
     "output_type": "stream",
     "text": [
      "Epoch 1/10\n",
      "1500/1500 [==============================] - 4s 3ms/step - loss: 0.6895 - accuracy: 0.8250 - val_loss: 0.3602 - val_accuracy: 0.9043\n",
      "Epoch 2/10\n",
      "1500/1500 [==============================] - 4s 2ms/step - loss: 0.3684 - accuracy: 0.8978 - val_loss: 0.2939 - val_accuracy: 0.9184\n",
      "Epoch 3/10\n",
      "1500/1500 [==============================] - 4s 3ms/step - loss: 0.3116 - accuracy: 0.9120 - val_loss: 0.2610 - val_accuracy: 0.9278\n",
      "Epoch 4/10\n",
      "1500/1500 [==============================] - 3s 2ms/step - loss: 0.2785 - accuracy: 0.9219 - val_loss: 0.2380 - val_accuracy: 0.9327\n",
      "Epoch 5/10\n",
      "1500/1500 [==============================] - 4s 3ms/step - loss: 0.2534 - accuracy: 0.9280 - val_loss: 0.2187 - val_accuracy: 0.9384\n",
      "Epoch 6/10\n",
      "1500/1500 [==============================] - 4s 3ms/step - loss: 0.2340 - accuracy: 0.9334 - val_loss: 0.2042 - val_accuracy: 0.9448\n",
      "Epoch 7/10\n",
      "1500/1500 [==============================] - 4s 3ms/step - loss: 0.2152 - accuracy: 0.9391 - val_loss: 0.1911 - val_accuracy: 0.9495\n",
      "Epoch 8/10\n",
      "1500/1500 [==============================] - 4s 3ms/step - loss: 0.2010 - accuracy: 0.9434 - val_loss: 0.1806 - val_accuracy: 0.9523\n",
      "Epoch 9/10\n",
      "1500/1500 [==============================] - 4s 2ms/step - loss: 0.1885 - accuracy: 0.9461 - val_loss: 0.1713 - val_accuracy: 0.9545\n",
      "Epoch 10/10\n",
      "1500/1500 [==============================] - 4s 3ms/step - loss: 0.1762 - accuracy: 0.9504 - val_loss: 0.1629 - val_accuracy: 0.9561\n"
     ]
    },
    {
     "data": {
      "text/plain": [
       "<keras.callbacks.History at 0x7fec1037aee0>"
      ]
     },
     "execution_count": 49,
     "metadata": {},
     "output_type": "execute_result"
    }
   ],
   "source": [
    "model.fit(X_train2, y_train2, epochs=10, validation_split=0.2, callbacks=callbacks)"
   ]
  },
  {
   "cell_type": "code",
   "execution_count": 50,
   "id": "eb637bec-d798-40e2-874d-d45ebd0c83be",
   "metadata": {},
   "outputs": [
    {
     "name": "stdout",
     "output_type": "stream",
     "text": [
      "\n",
      "NOTE: Using experimental fast data loading logic. To disable, pass\n",
      "    \"--load_fast=false\" and report issues on GitHub. More details:\n",
      "    https://github.com/tensorflow/tensorboard/issues/4784\n",
      "\n",
      "Serving TensorBoard on localhost; to expose to the network, use a proxy or pass --bind_all\n",
      "TensorBoard 2.6.0 at http://localhost:6006/ (Press CTRL+C to quit)\n",
      "^C\n"
     ]
    }
   ],
   "source": [
    "!tensorboard --logdir logs"
   ]
  },
  {
   "cell_type": "markdown",
   "id": "55b86cab-a9e4-49cc-ad8b-0eb3b5bcaa53",
   "metadata": {},
   "source": [
    "# Tensorboard example #6: Deep Learning Frameworks"
   ]
  },
  {
   "cell_type": "code",
   "execution_count": 57,
   "id": "e09c3973-dc9a-4bce-b696-a3790338c1d8",
   "metadata": {},
   "outputs": [
    {
     "data": {
      "text/plain": [
       "array([0.06084985, 0.6253413 , 0.1690388 , ..., 0.06084985, 0.1941242 ,\n",
       "       0.06084985], dtype=float32)"
      ]
     },
     "execution_count": 57,
     "metadata": {},
     "output_type": "execute_result"
    }
   ],
   "source": [
    "from tensorboardX import SummaryWriter\n",
    "import xgboost as xgb\n",
    "\n",
    "# read in data\n",
    "dtrain = xgb.DMatrix(X_train1, y_train1)\n",
    "dtest = xgb.DMatrix(X_test1)\n",
    "\n",
    "# specify parameters via map\n",
    "param = {'max_depth':2, 'eta':1, 'objective':'binary:logistic' }\n",
    "num_round = 2\n",
    "\n",
    "def TensorBoardCallback():\n",
    "    writer = SummaryWriter()\n",
    "\n",
    "    def callback(env):\n",
    "        for k, v in env.evaluation_result_list:\n",
    "            writer.add_scalar(k, v, env.iteration)\n",
    "\n",
    "    return callback\n",
    "\n",
    "bst = xgb.train(param, dtrain, num_round, callbacks=[TensorBoardCallback()])\n",
    "\n",
    "# make prediction\n",
    "preds = bst.predict(dtest)\n",
    "preds"
   ]
  },
  {
   "cell_type": "code",
   "execution_count": 60,
   "id": "7e9b261c-bb89-4907-bc6c-0bd6e1143c32",
   "metadata": {},
   "outputs": [],
   "source": [
    "from torch.utils.tensorboard import SummaryWriter\n",
    "\n",
    "writer = SummaryWriter(log_dir='logs')\n",
    "\n",
    "from torch.utils.tensorboard import SummaryWriter\n",
    "import numpy as np\n",
    "\n",
    "for n_iter in range(100):\n",
    "    writer.add_scalar('Loss/train', np.random.random(), n_iter)\n",
    "    writer.add_scalar('Loss/test', np.random.random(), n_iter)\n",
    "    writer.add_scalar('Accuracy/train', np.random.random(), n_iter)\n",
    "    writer.add_scalar('Accuracy/test', np.random.random(), n_iter)"
   ]
  },
  {
   "cell_type": "code",
   "execution_count": null,
   "id": "089f2b46-2966-4402-8c1e-68d0c37825d9",
   "metadata": {},
   "outputs": [],
   "source": [
    "# run in terminal to create tensorboard.dev project\n",
    "tensorboard dev upload --logdir logs \\\n",
    "--name \"(optional) My latest experiment\" \\\n",
    "--description \"(optional) Simple comparison of several hyperparameters\"\n",
    "\n",
    "# run in terminal to revoke access\n",
    "tensorboard dev auth revoke"
   ]
  },
  {
   "cell_type": "markdown",
   "id": "dcf0f3b2-d906-4f99-b83c-10c6dbc4f3fd",
   "metadata": {},
   "source": [
    "# Tensorboard example #7: Tensorboard with Vertex AI"
   ]
  },
  {
   "cell_type": "code",
   "execution_count": 62,
   "id": "4a5aa1dc-4da5-4acb-85b2-2260c155098f",
   "metadata": {},
   "outputs": [],
   "source": [
    "## complete section and upload to git\n",
    "# https://cloud.google.com/vertex-ai/docs/experiments/tensorboard-overview"
   ]
  },
  {
   "cell_type": "code",
   "execution_count": null,
   "id": "800795ec-e555-4a20-a9ca-6351cda1bf99",
   "metadata": {},
   "outputs": [],
   "source": []
  }
 ],
 "metadata": {
  "kernelspec": {
   "display_name": "Python 3",
   "language": "python",
   "name": "python3"
  },
  "language_info": {
   "codemirror_mode": {
    "name": "ipython",
    "version": 3
   },
   "file_extension": ".py",
   "mimetype": "text/x-python",
   "name": "python",
   "nbconvert_exporter": "python",
   "pygments_lexer": "ipython3",
   "version": "3.9.6"
  }
 },
 "nbformat": 4,
 "nbformat_minor": 5
}
