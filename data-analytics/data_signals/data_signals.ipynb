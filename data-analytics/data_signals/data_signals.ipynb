{
 "cells": [
  {
   "cell_type": "markdown",
   "id": "dc957f91-f185-4642-86a9-800b8c7d0eec",
   "metadata": {},
   "source": [
    "# Data Signals analysis"
   ]
  },
  {
   "cell_type": "markdown",
   "id": "3e251ad1-8ffb-4aa5-9d46-7256b40032fa",
   "metadata": {},
   "source": [
    "[action] add necessary git language for Google"
   ]
  },
  {
   "cell_type": "markdown",
   "id": "dfe8b904-3d71-4f16-a62a-e99d3d1a5937",
   "metadata": {},
   "source": [
    "## verify GCP authentication"
   ]
  },
  {
   "cell_type": "code",
   "execution_count": 8,
   "id": "032eb38e-dbc2-4a33-a10a-46c9acb49b39",
   "metadata": {},
   "outputs": [],
   "source": [
    "import os\n",
    "os.environ[\"GOOGLE_APPLICATION_CREDENTIALS\"]=\"/Users/mikegoodman/Documents/developer/key_file.json\""
   ]
  },
  {
   "cell_type": "code",
   "execution_count": 9,
   "id": "b9a006ce-f973-4fc8-88bb-ad0ce795236b",
   "metadata": {},
   "outputs": [
    {
     "name": "stdout",
     "output_type": "stream",
     "text": [
      "[<Bucket: cloud-ai-platform-48caf8e2-ec0f-4328-ad4a-39db976d1c6a>, <Bucket: gcf-sources-253822301702-us-central1>, <Bucket: mg-ce-playground>, <Bucket: mg-ce-playground-demos>, <Bucket: us.artifacts.mg-ce-playground.appspot.com>, <Bucket: vertex-ai-demos-mg>]\n"
     ]
    }
   ],
   "source": [
    "def implicit():\n",
    "    from google.cloud import storage\n",
    "\n",
    "    # If you don't specify credentials when constructing the client, the\n",
    "    # client library will look for credentials in the environment.\n",
    "    storage_client = storage.Client()\n",
    "\n",
    "    # Make an authenticated API request\n",
    "    buckets = list(storage_client.list_buckets())\n",
    "    print(buckets)\n",
    "\n",
    "implicit()"
   ]
  },
  {
   "cell_type": "markdown",
   "id": "1f608557-607e-4b73-a59f-343cad3955d9",
   "metadata": {},
   "source": [
    "## download data signals dataset from BQ"
   ]
  },
  {
   "cell_type": "code",
   "execution_count": 39,
   "id": "d23486d8-aee6-42c7-98ee-d747a7c6d296",
   "metadata": {},
   "outputs": [],
   "source": [
    "# install packages\n",
    "import pandas as pd\n",
    "import sklearn\n",
    "import numpy as np\n",
    "import matplotlib.pyplot as plt\n",
    "\n",
    "from google.cloud import bigquery"
   ]
  },
  {
   "cell_type": "code",
   "execution_count": 17,
   "id": "381cf0de-d88e-4e22-98ae-44265c2aa4ae",
   "metadata": {},
   "outputs": [
    {
     "name": "stdout",
     "output_type": "stream",
     "text": [
      "                            dma_name  dma_id       term        week  score  \\\n",
      "0  Greenville-New Bern-Washington NC     545  Halloween  2018-09-23   34.0   \n",
      "1                      Wilmington NC     550  Halloween  2017-10-15   56.0   \n",
      "2                     Chattanooga TN     575  Halloween  2020-10-18   48.0   \n",
      "3                         Atlanta GA     524  Halloween  2018-09-30   37.0   \n",
      "4                         Atlanta GA     524  Halloween  2021-10-24   76.0   \n",
      "\n",
      "   rank refresh_date  \n",
      "0     1   2021-10-31  \n",
      "1     1   2021-10-31  \n",
      "2     1   2021-10-31  \n",
      "3     1   2021-10-31  \n",
      "4     1   2021-10-31  \n"
     ]
    }
   ],
   "source": [
    "bqclient = bigquery.Client()\n",
    "\n",
    "# Download query results.\n",
    "query_string = \"\"\"\n",
    "SELECT\n",
    "    *\n",
    "FROM\n",
    "    `bigquery-public-data.google_trends.top_terms` AS t0\n",
    "WHERE\n",
    "    EXTRACT(year FROM t0.refresh_date) = 2021 AND\n",
    "    EXTRACT(month FROM t0.refresh_date) = 10\n",
    "ORDER BY\n",
    "    t0.refresh_date DESC,\n",
    "    t0.rank ASC\n",
    "\"\"\"\n",
    "\n",
    "df = (bqclient.query(query_string).result().to_dataframe(create_bqstorage_client=True,))\n",
    "# Optionally, explicitly request to use the BigQuery Storage API. As of\n",
    "# google-cloud-bigquery version 1.26.0 and above, the BigQuery Storage\n",
    "# API is used by default.\n",
    "\n",
    "print(df.head())"
   ]
  },
  {
   "cell_type": "code",
   "execution_count": 34,
   "id": "1eba6dd7-bb69-44ae-85cd-439b54945bc0",
   "metadata": {},
   "outputs": [
    {
     "name": "stdout",
     "output_type": "stream",
     "text": [
      "<class 'pandas.core.frame.DataFrame'>\n",
      "RangeIndex: 28722973 entries, 0 to 28722972\n",
      "Data columns (total 7 columns):\n",
      " #   Column        Dtype  \n",
      "---  ------        -----  \n",
      " 0   dma_name      object \n",
      " 1   dma_id        int64  \n",
      " 2   term          object \n",
      " 3   week          object \n",
      " 4   score         float64\n",
      " 5   rank          int64  \n",
      " 6   refresh_date  object \n",
      "dtypes: float64(1), int64(2), object(4)\n",
      "memory usage: 1.5+ GB\n"
     ]
    }
   ],
   "source": [
    "df.info()"
   ]
  },
  {
   "cell_type": "code",
   "execution_count": 32,
   "id": "e66dc048-97fa-44e9-b5fe-350fa12d015e",
   "metadata": {},
   "outputs": [],
   "source": [
    "df = df.fillna(0)"
   ]
  },
  {
   "cell_type": "code",
   "execution_count": 60,
   "id": "0fa48d22-c7a7-4744-ad76-6d8ca35011b7",
   "metadata": {},
   "outputs": [
    {
     "data": {
      "text/html": [
       "<div>\n",
       "<style scoped>\n",
       "    .dataframe tbody tr th:only-of-type {\n",
       "        vertical-align: middle;\n",
       "    }\n",
       "\n",
       "    .dataframe tbody tr th {\n",
       "        vertical-align: top;\n",
       "    }\n",
       "\n",
       "    .dataframe thead th {\n",
       "        text-align: right;\n",
       "    }\n",
       "</style>\n",
       "<table border=\"1\" class=\"dataframe\">\n",
       "  <thead>\n",
       "    <tr style=\"text-align: right;\">\n",
       "      <th></th>\n",
       "      <th>dma_name</th>\n",
       "      <th>dma_id</th>\n",
       "      <th>term</th>\n",
       "      <th>week</th>\n",
       "      <th>score</th>\n",
       "      <th>rank</th>\n",
       "      <th>refresh_date</th>\n",
       "    </tr>\n",
       "  </thead>\n",
       "  <tbody>\n",
       "    <tr>\n",
       "      <th>3</th>\n",
       "      <td>Atlanta GA</td>\n",
       "      <td>524</td>\n",
       "      <td>Halloween</td>\n",
       "      <td>2018-09-30</td>\n",
       "      <td>37.0</td>\n",
       "      <td>1</td>\n",
       "      <td>2021-10-31</td>\n",
       "    </tr>\n",
       "    <tr>\n",
       "      <th>4</th>\n",
       "      <td>Atlanta GA</td>\n",
       "      <td>524</td>\n",
       "      <td>Halloween</td>\n",
       "      <td>2021-10-24</td>\n",
       "      <td>76.0</td>\n",
       "      <td>1</td>\n",
       "      <td>2021-10-31</td>\n",
       "    </tr>\n",
       "    <tr>\n",
       "      <th>149</th>\n",
       "      <td>Atlanta GA</td>\n",
       "      <td>524</td>\n",
       "      <td>Halloween</td>\n",
       "      <td>2017-06-11</td>\n",
       "      <td>1.0</td>\n",
       "      <td>1</td>\n",
       "      <td>2021-10-31</td>\n",
       "    </tr>\n",
       "    <tr>\n",
       "      <th>150</th>\n",
       "      <td>Atlanta GA</td>\n",
       "      <td>524</td>\n",
       "      <td>Halloween</td>\n",
       "      <td>2019-01-06</td>\n",
       "      <td>1.0</td>\n",
       "      <td>1</td>\n",
       "      <td>2021-10-31</td>\n",
       "    </tr>\n",
       "    <tr>\n",
       "      <th>248</th>\n",
       "      <td>Atlanta GA</td>\n",
       "      <td>524</td>\n",
       "      <td>Halloween</td>\n",
       "      <td>2019-06-09</td>\n",
       "      <td>2.0</td>\n",
       "      <td>1</td>\n",
       "      <td>2021-10-31</td>\n",
       "    </tr>\n",
       "    <tr>\n",
       "      <th>...</th>\n",
       "      <td>...</td>\n",
       "      <td>...</td>\n",
       "      <td>...</td>\n",
       "      <td>...</td>\n",
       "      <td>...</td>\n",
       "      <td>...</td>\n",
       "      <td>...</td>\n",
       "    </tr>\n",
       "    <tr>\n",
       "      <th>54235</th>\n",
       "      <td>Atlanta GA</td>\n",
       "      <td>524</td>\n",
       "      <td>Halloween</td>\n",
       "      <td>2017-04-30</td>\n",
       "      <td>1.0</td>\n",
       "      <td>1</td>\n",
       "      <td>2021-10-31</td>\n",
       "    </tr>\n",
       "    <tr>\n",
       "      <th>54444</th>\n",
       "      <td>Atlanta GA</td>\n",
       "      <td>524</td>\n",
       "      <td>Halloween</td>\n",
       "      <td>2017-07-23</td>\n",
       "      <td>3.0</td>\n",
       "      <td>1</td>\n",
       "      <td>2021-10-31</td>\n",
       "    </tr>\n",
       "    <tr>\n",
       "      <th>54445</th>\n",
       "      <td>Atlanta GA</td>\n",
       "      <td>524</td>\n",
       "      <td>Halloween</td>\n",
       "      <td>2018-06-03</td>\n",
       "      <td>3.0</td>\n",
       "      <td>1</td>\n",
       "      <td>2021-10-31</td>\n",
       "    </tr>\n",
       "    <tr>\n",
       "      <th>54564</th>\n",
       "      <td>Atlanta GA</td>\n",
       "      <td>524</td>\n",
       "      <td>Halloween</td>\n",
       "      <td>2018-09-09</td>\n",
       "      <td>13.0</td>\n",
       "      <td>1</td>\n",
       "      <td>2021-10-31</td>\n",
       "    </tr>\n",
       "    <tr>\n",
       "      <th>54589</th>\n",
       "      <td>Atlanta GA</td>\n",
       "      <td>524</td>\n",
       "      <td>Halloween</td>\n",
       "      <td>2021-09-12</td>\n",
       "      <td>21.0</td>\n",
       "      <td>1</td>\n",
       "      <td>2021-10-31</td>\n",
       "    </tr>\n",
       "  </tbody>\n",
       "</table>\n",
       "<p>260 rows × 7 columns</p>\n",
       "</div>"
      ],
      "text/plain": [
       "         dma_name  dma_id       term        week  score  rank refresh_date\n",
       "3      Atlanta GA     524  Halloween  2018-09-30   37.0     1   2021-10-31\n",
       "4      Atlanta GA     524  Halloween  2021-10-24   76.0     1   2021-10-31\n",
       "149    Atlanta GA     524  Halloween  2017-06-11    1.0     1   2021-10-31\n",
       "150    Atlanta GA     524  Halloween  2019-01-06    1.0     1   2021-10-31\n",
       "248    Atlanta GA     524  Halloween  2019-06-09    2.0     1   2021-10-31\n",
       "...           ...     ...        ...         ...    ...   ...          ...\n",
       "54235  Atlanta GA     524  Halloween  2017-04-30    1.0     1   2021-10-31\n",
       "54444  Atlanta GA     524  Halloween  2017-07-23    3.0     1   2021-10-31\n",
       "54445  Atlanta GA     524  Halloween  2018-06-03    3.0     1   2021-10-31\n",
       "54564  Atlanta GA     524  Halloween  2018-09-09   13.0     1   2021-10-31\n",
       "54589  Atlanta GA     524  Halloween  2021-09-12   21.0     1   2021-10-31\n",
       "\n",
       "[260 rows x 7 columns]"
      ]
     },
     "execution_count": 60,
     "metadata": {},
     "output_type": "execute_result"
    }
   ],
   "source": [
    "df_hall_atl = df[(df['term'] == 'Halloween') & (df['dma_name'] == 'Atlanta GA')]\n",
    "df_hall_atl"
   ]
  },
  {
   "cell_type": "code",
   "execution_count": 61,
   "id": "d9ac09e9-0c5c-4e6f-9fd1-163e06f72a7f",
   "metadata": {},
   "outputs": [
    {
     "data": {
      "image/png": "[encoded data removed]",
      "text/plain": [
       "<Figure size 432x288 with 1 Axes>"
      ]
     },
     "metadata": {
      "needs_background": "light"
     },
     "output_type": "display_data"
    }
   ],
   "source": [
    "plt.plot(df_hall_atl['week'], df_hall_atl['score'])\n",
    "plt.show()"
   ]
  },
  {
   "cell_type": "code",
   "execution_count": 58,
   "id": "e97efad7-9c90-4c2f-b78b-31c5385f8ecc",
   "metadata": {},
   "outputs": [
    {
     "data": {
      "text/plain": [
       "3        37.0\n",
       "4        76.0\n",
       "149       1.0\n",
       "150       1.0\n",
       "248       2.0\n",
       "         ... \n",
       "54235     1.0\n",
       "54444     3.0\n",
       "54445     3.0\n",
       "54564    13.0\n",
       "54589    21.0\n",
       "Name: score, Length: 260, dtype: float64"
      ]
     },
     "execution_count": 58,
     "metadata": {},
     "output_type": "execute_result"
    }
   ],
   "source": [
    "df[(df['term'] == 'Halloween') & (df['dma_name'] == 'Atlanta GA')]['score']"
   ]
  },
  {
   "cell_type": "code",
   "execution_count": null,
   "id": "2e4cdc7f-a2b0-46a5-8d3b-67d08f17a243",
   "metadata": {},
   "outputs": [],
   "source": []
  }
 ],
 "metadata": {
  "kernelspec": {
   "display_name": "Python 3 (ipykernel)",
   "language": "python",
   "name": "python3"
  },
  "language_info": {
   "codemirror_mode": {
    "name": "ipython",
    "version": 3
   },
   "file_extension": ".py",
   "mimetype": "text/x-python",
   "name": "python",
   "nbconvert_exporter": "python",
   "pygments_lexer": "ipython3",
   "version": "3.9.6"
  }
 },
 "nbformat": 4,
 "nbformat_minor": 5
}
