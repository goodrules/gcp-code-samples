{
 "cells": [
  {
   "cell_type": "code",
   "execution_count": 1,
   "id": "c1d52716-f392-4598-80e8-b030959cca25",
   "metadata": {},
   "outputs": [
    {
     "ename": "SystemExit",
     "evalue": "0",
     "output_type": "error",
     "traceback": [
      "An exception has occurred, use %tb to see the full traceback.\n",
      "\u001b[0;31mSystemExit\u001b[0m\u001b[0;31m:\u001b[0m 0\n"
     ]
    },
    {
     "name": "stderr",
     "output_type": "stream",
     "text": [
      "/Users/mikegoodman/Documents/developer/venv/lib/python3.9/site-packages/IPython/core/interactiveshell.py:3449: UserWarning: To exit: use 'exit', 'quit', or Ctrl-D.\n",
      "  warn(\"To exit: use 'exit', 'quit', or Ctrl-D.\", stacklevel=1)\n"
     ]
    }
   ],
   "source": [
    "import turtle\n",
    "turtle.tracer(0, 0)\n",
    "\n",
    "# build a basic tree\n",
    "MINIMUM_BRANCH_LENGTH = 3\n",
    "\n",
    "def build_tree(t, branch_length, shorten_by, angle):\n",
    "    if branch_length > MINIMUM_BRANCH_LENGTH:\n",
    "        t.forward(branch_length)\n",
    "        new_length = branch_length - shorten_by\n",
    "        \n",
    "        t.left(angle)\n",
    "        build_tree(t, new_length, shorten_by, angle)\n",
    "        \n",
    "        t.right(angle * 2)\n",
    "        build_tree(t, new_length, shorten_by, angle)\n",
    "        \n",
    "        t.left(angle)\n",
    "        t.backward(branch_length)\n",
    "\n",
    "tree = turtle.Turtle()\n",
    "tree.hideturtle()\n",
    "tree.setheading(90)\n",
    "tree.color('green')\n",
    "\n",
    "build_tree(tree, 50, 5, 30)\n",
    "turtle.mainloop()\n",
    "\n",
    "turtle.update()\n",
    "time.sleep(3)"
   ]
  },
  {
   "cell_type": "code",
   "execution_count": null,
   "id": "7540435b-26e0-4737-9c7b-01b9b9dc6376",
   "metadata": {},
   "outputs": [],
   "source": [
    "import turtle\n",
    "\n",
    "# build a basic koch_curve\n",
    "def koch_curve(t, iterations, length, shortening_factor, angle):\n",
    "    if iterations == 0:\n",
    "        t.forward(length)\n",
    "    else:\n",
    "        iterations = iterations - 1\n",
    "        length = length / shortening_factor\n",
    "        koch_curve(t, iterations, length, shortening_factor, angle)\n",
    "        t.left(angle)\n",
    "        koch_curve(t, iterations, length, shortening_factor, angle)\n",
    "        t.right(angle * 2)\n",
    "        koch_curve(t, iterations, length, shortening_factor, angle)\n",
    "        t.left(angle)\n",
    "        koch_curve(t, iterations, length, shortening_factor, angle)\n",
    "        \n",
    "t = turtle.Turtle()\n",
    "t.hideturtle()\n",
    "\n",
    "for i in range(3):\n",
    "    koch_curve(t, 4, 200, 3, 60)\n",
    "    t.right(120)\n",
    "    \n",
    "turtle.mainloop()"
   ]
  },
  {
   "cell_type": "code",
   "execution_count": null,
   "id": "9dba6d19-b284-4593-8a2c-943184a19860",
   "metadata": {},
   "outputs": [],
   "source": [
    "import turtle\n",
    "import random\n",
    "import time\n",
    "\n",
    "screen = turtle.Screen()\n",
    "\n",
    "turtlepower = []\n",
    "\n",
    "turtle.tracer(0, 0)\n",
    "for i in range(1000):\n",
    "    t = turtle.Turtle()\n",
    "    t.goto(random.random()*500, random.random()*1000)\n",
    "    turtlepower.append(t)\n",
    "\n",
    "for i in range(1000):\n",
    "    turtle.stamp()\n",
    "\n",
    "turtle.update()\n",
    "\n",
    "time.sleep(3)"
   ]
  },
  {
   "cell_type": "code",
   "execution_count": null,
   "id": "6842abf7-1b83-4928-9f68-522da0a32361",
   "metadata": {},
   "outputs": [],
   "source": []
  }
 ],
 "metadata": {
  "kernelspec": {
   "display_name": "Python 3",
   "language": "python",
   "name": "python3"
  },
  "language_info": {
   "codemirror_mode": {
    "name": "ipython",
    "version": 3
   },
   "file_extension": ".py",
   "mimetype": "text/x-python",
   "name": "python",
   "nbconvert_exporter": "python",
   "pygments_lexer": "ipython3",
   "version": "3.9.6"
  }
 },
 "nbformat": 4,
 "nbformat_minor": 5
}
